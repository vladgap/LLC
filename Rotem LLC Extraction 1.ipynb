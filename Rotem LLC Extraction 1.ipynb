{
  "nbformat": 4,
  "nbformat_minor": 0,
  "metadata": {
    "colab": {
      "provenance": [],
      "gpuType": "T4",
      "toc_visible": true,
      "authorship_tag": "ABX9TyPSMzdQ4Cx2yLV4lHEQVT3s",
      "include_colab_link": true
    },
    "kernelspec": {
      "name": "python3",
      "display_name": "Python 3"
    },
    "language_info": {
      "name": "python"
    }
  },
  "cells": [
    {
      "cell_type": "markdown",
      "metadata": {
        "id": "view-in-github",
        "colab_type": "text"
      },
      "source": [
        "<a href=\"https://colab.research.google.com/github/vladgap/LLC/blob/main/Rotem%20LLC%20Extraction%201.ipynb\" target=\"_parent\"><img src=\"https://colab.research.google.com/assets/colab-badge.svg\" alt=\"Open In Colab\"/></a>"
      ]
    },
    {
      "cell_type": "code",
      "execution_count": 1,
      "metadata": {
        "id": "hX7Dz1n-8hqQ"
      },
      "outputs": [],
      "source": [
        "import numpy as np\n",
        "import pandas as pd\n",
        "import plotly.express as px\n",
        "import plotly.graph_objs as go\n",
        "from plotly.subplots import make_subplots\n",
        "from sklearn import preprocessing\n",
        "import matplotlib.pyplot as plt\n",
        "pd.options.plotting.backend = \"plotly\""
      ]
    },
    {
      "cell_type": "code",
      "source": [
        "!wget -O MLNN.py \"https://raw.githubusercontent.com/vladgap/MLNN/main/MLNN_3_2.py\"\n",
        "from MLNN import *"
      ],
      "metadata": {
        "id": "DIjFhFZKgYXZ",
        "outputId": "50a877b7-5f80-42d9-c98a-0835b6a4c1e6",
        "colab": {
          "base_uri": "https://localhost:8080/"
        }
      },
      "execution_count": 2,
      "outputs": [
        {
          "output_type": "stream",
          "name": "stdout",
          "text": [
            "--2025-02-08 18:39:16--  https://raw.githubusercontent.com/vladgap/MLNN/main/MLNN_3_2.py\n",
            "Resolving raw.githubusercontent.com (raw.githubusercontent.com)... 185.199.108.133, 185.199.109.133, 185.199.110.133, ...\n",
            "Connecting to raw.githubusercontent.com (raw.githubusercontent.com)|185.199.108.133|:443... connected.\n",
            "HTTP request sent, awaiting response... 200 OK\n",
            "Length: 14169 (14K) [text/plain]\n",
            "Saving to: ‘MLNN.py’\n",
            "\n",
            "MLNN.py             100%[===================>]  13.84K  --.-KB/s    in 0.001s  \n",
            "\n",
            "2025-02-08 18:39:16 (22.2 MB/s) - ‘MLNN.py’ saved [14169/14169]\n",
            "\n",
            "Version of MLNN is 3.2\n"
          ]
        }
      ]
    },
    {
      "cell_type": "code",
      "source": [
        "!wget -O LLC.py \"https://raw.githubusercontent.com/vladgap/LLC/main/LLC_versions/LLC_5_1.py\"\n",
        "import LLC"
      ],
      "metadata": {
        "id": "AXfeN4lhttgu",
        "outputId": "880173cc-9489-4887-8943-40d87aed8084",
        "colab": {
          "base_uri": "https://localhost:8080/"
        }
      },
      "execution_count": 3,
      "outputs": [
        {
          "output_type": "stream",
          "name": "stdout",
          "text": [
            "--2025-02-08 18:39:16--  https://raw.githubusercontent.com/vladgap/LLC/main/LLC_versions/LLC_5_1.py\n",
            "Resolving raw.githubusercontent.com (raw.githubusercontent.com)... 185.199.108.133, 185.199.109.133, 185.199.110.133, ...\n",
            "Connecting to raw.githubusercontent.com (raw.githubusercontent.com)|185.199.108.133|:443... connected.\n",
            "HTTP request sent, awaiting response... 200 OK\n",
            "Length: 22228 (22K) [text/plain]\n",
            "Saving to: ‘LLC.py’\n",
            "\n",
            "LLC.py              100%[===================>]  21.71K  --.-KB/s    in 0.002s  \n",
            "\n",
            "2025-02-08 18:39:16 (11.6 MB/s) - ‘LLC.py’ saved [22228/22228]\n",
            "\n"
          ]
        }
      ]
    },
    {
      "cell_type": "code",
      "source": [
        "# import LLC_5_2 as LLC52"
      ],
      "metadata": {
        "id": "vlklIlXBykN5"
      },
      "execution_count": 4,
      "outputs": []
    },
    {
      "cell_type": "code",
      "source": [
        "def CopyPasteToArray(a):\n",
        "  if a.startswith('\\n'):\n",
        "    b=a[1:]\n",
        "  else:\n",
        "    b=a\n",
        "  if b.endswith('\\n'):\n",
        "    b=b[:-1]\n",
        "  c=b.replace('\\t',',')\n",
        "  d=c.split('\\n')\n",
        "  f=[]\n",
        "  for e in d:\n",
        "    if e.replace(',','').replace('.','').isdigit(): # only digits no letters\n",
        "      f.append(list(eval(e)))\n",
        "    else:\n",
        "      f.append(e.split(','))\n",
        "  return f"
      ],
      "metadata": {
        "id": "oNdhOQ8XL3u3"
      },
      "execution_count": 5,
      "outputs": []
    },
    {
      "cell_type": "markdown",
      "source": [
        "# EQUIL data"
      ],
      "metadata": {
        "id": "4RPmUdpZID-M"
      }
    },
    {
      "cell_type": "markdown",
      "source": [
        "## EQUIL_rotem_extr1\n",
        "data 8 -- EQUIL_rotem_extraction 2+3"
      ],
      "metadata": {
        "id": "0t9N7WkWQ0S9"
      }
    },
    {
      "cell_type": "code",
      "source": [
        "# X: 'H3PO4_aq'\t'SO4_aq'\n",
        "# T: 'FA_aq'\t'solvent_aq'\t'H3PO4_org'\t'SO4_org'\t'water_org'\n",
        "\n",
        "scaler_data=[[37.23870967741936, 7.199806451612903],\n",
        " [21.87534593155935, 6.51727589252697],\n",
        " [155.77096774193546,\n",
        "  0.5283870967741936,\n",
        "  13.459354838709675,\n",
        "  1.0374193548387098,\n",
        "  7.283870967741936],\n",
        " [95.42174024805198,\n",
        "  0.5151599612158911,\n",
        "  13.221703793258648,\n",
        "  1.1486934169207217,\n",
        "  1.7674652479484612]]\n",
        "\n",
        "scaler_X = preprocessing.StandardScaler().fit([[0,0]])\n",
        "scaler_T1 = preprocessing.StandardScaler().fit([[0]])\n",
        "scaler_T2 = preprocessing.StandardScaler().fit([[0]])\n",
        "scaler_T3 = preprocessing.StandardScaler().fit([[0]])\n",
        "scaler_T4 = preprocessing.StandardScaler().fit([[0]])\n",
        "\n",
        "scaler_X.mean_, scaler_X.scale_ = scaler_data[0], scaler_data[1]\n",
        "scaler_T1.mean_, scaler_T1.scale_ = scaler_data[2][1], scaler_data[3][1] # solvent_aq\n",
        "scaler_T2.mean_, scaler_T2.scale_ = scaler_data[2][2], scaler_data[3][2] # H3PO4_org\n",
        "scaler_T3.mean_, scaler_T3.scale_ = scaler_data[2][3], scaler_data[3][3] # SO4_org\n",
        "scaler_T4.mean_, scaler_T4.scale_ = scaler_data[2][4], scaler_data[3][4] # water_org\n",
        "\n",
        "\n",
        "# scaler_T1 = preprocessing.StandardScaler().fit([[0]])\n",
        "# scaler_T2 = preprocessing.StandardScaler().fit([[0]])\n",
        "# scaler_T3 = preprocessing.StandardScaler().fit([[0]])\n",
        "# scaler_T3_4 = preprocessing.StandardScaler().fit([[0]])\n",
        "\n",
        "# scaler_X3.mean_, scaler_X3.scale_ = Xscale[0], Xscale[1]\n",
        "# scaler_X3_2.mean_, scaler_X3_2.scale_ = [27.03608333,  0.0474    ], [14.68499343,  0.04213688] # מים בקלה חושבו רק על נתונים \"טובים\n",
        "# scaler_T3_1.mean_, scaler_T3_1.scale_=[Tscale[0][0]], [Tscale[1][0]]\n",
        "# # scaler_T3_2.mean_, scaler_T3_2.scale_=[Tscale[0][1]], [Tscale[1][1]]\n",
        "# scaler_T3_2.mean_, scaler_T3_2.scale_=[10.81], [1.3091664] # מים בקלה חושבו רק על נתונים \"טובים\n",
        "# scaler_T3_3.mean_, scaler_T3_3.scale_=[Tscale[0][2]], [Tscale[1][2]]\n",
        "# scaler_T3_4.mean_, scaler_T3_4.scale_=[Tscale[0][3]], [Tscale[1][3]]"
      ],
      "metadata": {
        "id": "H_eY-JVaXWK-"
      },
      "execution_count": 6,
      "outputs": []
    },
    {
      "cell_type": "code",
      "source": [
        "class EQUIL_rotem_extr1: #\n",
        "# data8\n",
        "# gets xout [%solvent_aq, %H3PO4_aq, %SO4_aq]\n",
        "# calc xout , yout [%water_org, %H3PO4_org, %SO4_org]\n",
        "\n",
        "    def __init__(self, x):\n",
        "        x=np.array(x, dtype=float) # [[%solv, %H3PO4, %SO4], [%solv, %H3PO4, %SO4], [%solv, %H3PO4, %SO4], ...]\n",
        "        # the model predicts H3PO4_org, water_org ,solvent_aq, SO4_org\n",
        "        # x[:,[1]] is column vector of %H3PO4_aq [[1], [2], ...]\n",
        "        # x[:,[2]] is for %SO4_aq\n",
        "\n",
        "        # scaler\n",
        "        scaler_data=[[37.23870967741936, 7.199806451612903],\n",
        "        [21.87534593155935, 6.51727589252697],\n",
        "        [155.77096774193546,\n",
        "          0.5283870967741936,\n",
        "          13.459354838709675,\n",
        "          1.0374193548387098,\n",
        "          7.283870967741936],\n",
        "        [95.42174024805198,\n",
        "          0.5151599612158911,\n",
        "          13.221703793258648,\n",
        "          1.1486934169207217,\n",
        "          1.7674652479484612]]\n",
        "\n",
        "        scaler_X = preprocessing.StandardScaler().fit([[0,0]])\n",
        "        scaler_T1 = preprocessing.StandardScaler().fit([[0]]) # solvent_aq\n",
        "        scaler_T2 = preprocessing.StandardScaler().fit([[0]]) # H3PO4_org\n",
        "        scaler_T3 = preprocessing.StandardScaler().fit([[0]]) # SO4_org\n",
        "        scaler_T4 = preprocessing.StandardScaler().fit([[0]]) # water_org\n",
        "\n",
        "        scaler_X.mean_, scaler_X.scale_ = scaler_data[0], scaler_data[1]\n",
        "        scaler_T1.mean_, scaler_T1.scale_ = scaler_data[2][1], scaler_data[3][1] # solvent_aq\n",
        "        scaler_T2.mean_, scaler_T2.scale_ = scaler_data[2][2], scaler_data[3][2] # H3PO4_org\n",
        "        scaler_T3.mean_, scaler_T3.scale_ = scaler_data[2][3], scaler_data[3][3] # SO4_org\n",
        "        scaler_T4.mean_, scaler_T4.scale_ = scaler_data[2][4], scaler_data[3][4] # water_org\n",
        "\n",
        "        X_scaled=scaler_X.transform(x[:,[1,2]])\n",
        "        X_scaled=np.clip(X_scaled, -2, 2)\n",
        "\n",
        "        # H3PO4_org\n",
        "        bp1=VectorBackProp(layers=[2,1,1], hidden_activation = 'sigmoid')\n",
        "        manual_weights1=[[[-2.2542856480833247], [-0.7115892162097907]],\n",
        " [[2.11693061595761]],\n",
        " [[-4.9502436032281585]],\n",
        " [[3.912054301757645]]]\n",
        "        bp1.import_weights(manual_weights1)\n",
        "        predics1=abs(scaler_T2.inverse_transform(bp1.run(X_scaled)))\n",
        "\n",
        "        # water_org\n",
        "        bp2=VectorBackProp(layers=[2,2,1], hidden_activation = 'sigmoid')\n",
        "        manual_weights2=[[[3.865511470369896, 8.917531695210526],\n",
        "  [2.5196000386044317, 1.9258172086316168]],\n",
        " [[-2.2766428706488764, -1.5079705074058127]],\n",
        " [[2.7771600466732367], [0.9281118411212552]],\n",
        " [[-1.1710007634929602]]]\n",
        "        bp2.import_weights(manual_weights2)\n",
        "        predics2=abs(scaler_T4.inverse_transform(bp2.run(X_scaled)))\n",
        "\n",
        "        # solvent_aq\n",
        "        bp3=VectorBackProp(layers=[2,1,1], hidden_activation = 'linear')\n",
        "        manual_weights3=[[[0], [0]], [[0]], [[0]], [[0.9]]]\n",
        "        bp3.import_weights(manual_weights3)\n",
        "        predics3=abs(scaler_T1.inverse_transform(bp3.run(X_scaled)))\n",
        "\n",
        "        # SO4_org\n",
        "        bp4=VectorBackProp(layers=[2,3,1], hidden_activation = 'sigmoid')\n",
        "        manual_weights4=[[[5.255129630698163, 2.5370572590919305, -2.771603241282131],\n",
        "  [4.30266945368854, 1.6643297587562575, 2.759812469181559]],\n",
        " [[-6.720893024720382, -0.7893443670545283, 5.835081175805133]],\n",
        " [[5.160798955335814], [2.555891510916236], [2.30456660012357]],\n",
        " [[-3.1529870476605937]]]\n",
        "        bp4.import_weights(manual_weights4)\n",
        "        predics4=abs(scaler_T3.inverse_transform(bp4.run(X_scaled)))\n",
        "\n",
        "        self.xout = np.array([predics3[:,0], x[:,1], x[:,2]]).T # [[%solvent_aq, %H3PO4_aq, %SO4_aq], ...]\n",
        "        self.yout = np.array([predics2[:,0], predics1[:,0], predics4[:,0]]).T # [[%water_org, %H3PO4_org, %SO4_org], ...]\n",
        "\n",
        "        # print (self.yout, self.xout)"
      ],
      "metadata": {
        "id": "yVZP_8PYQ0TF"
      },
      "execution_count": 7,
      "outputs": []
    },
    {
      "cell_type": "code",
      "source": [
        "scaler_X = preprocessing.StandardScaler().fit([[0,0]])\n",
        "scaler_X.mean_, scaler_X.scale_ = scaler_data[0], scaler_data[1]\n",
        "scaler_X.mean_"
      ],
      "metadata": {
        "id": "XCIFLEgMCGev",
        "outputId": "38b5b460-6d78-40a1-ff31-f46599b71851",
        "colab": {
          "base_uri": "https://localhost:8080/"
        }
      },
      "execution_count": 8,
      "outputs": [
        {
          "output_type": "execute_result",
          "data": {
            "text/plain": [
              "[37.23870967741936, 7.199806451612903]"
            ]
          },
          "metadata": {},
          "execution_count": 8
        }
      ]
    },
    {
      "cell_type": "code",
      "source": [
        "# @title class Stage\n",
        "\n",
        "class Stage:\n",
        "    \"\"\"Attributes:\n",
        "        Oin:                  Organic phase mass inlet flow.\n",
        "        Ain:                  Aqueous phase mass inlet flow.\n",
        "        yin:                  List of organic phase inlet concentrations. [%water_org, %H3PO4_org, ...]\n",
        "        xin:                  List of aqueous phase inlet concentrations. [%solvent_aq, %H3PO4_aq, ...]\n",
        "        Oout:                 Organic phase mass outlet flow.\n",
        "        Aout:                 Aqueous phase mass outlet flow.\n",
        "        yout_tag:             List of organic phase equilibrium concentrations.\n",
        "        yout:                 List of organic phase outlet concentrations.\n",
        "        xout:                 List of aqueous phase outlet concentrations.\n",
        "        runs:                 Number of iterations.\n",
        "        eff:                  Stage efficiency (0.0-1.0).\n",
        "        errors:               Numpy array of errors.\n",
        "        conv:                 Numpy array of convergence.\n",
        "        EQUIL:                Object class for calculating equilibrium concentrations.\n",
        "        entrainment_perc:     Percentage of entrainments [org_in, aq_in, org_out, aq_out]. Additionally to the main stream: Oin 100 kg with 5% entrainment means 100 kg organic and 5 kg aqueous -- 105 overall.\n",
        "        entrainment_comp_in:  Composition of inlet entrainments in [aqueous phase in Oin, organic phase in Ain] --> [[%solvent_aq, %H3PO4_aq, ...], [%water_org, %H3PO4_org, ...], ]. Outlet compositions are calculated: yout, xout.\n",
        "        entrainment_out:      List of entrainment out data: [entrainment_perc[2:4], yout, xout].\n",
        "\n",
        "        Functions:\n",
        "        output():       Print output summary.\n",
        "        roundoutput():  Print rounded output summary.\"\"\"\n",
        "\n",
        "    def __init__(self, Oin, Ain, yin, xin, EQUIL, eff=1., entrainment_perc=0, entrainment_comp_in=0, convergence=1E-3):\n",
        "\n",
        "        Oin_clear = float(Oin)\n",
        "        Ain_clear = float(Ain)\n",
        "        self.yin = np.array(yin, dtype=float) # [%water_org, %H3PO4_org, ...]\n",
        "        self.xin = np.array(xin, dtype=float) # [%solvent_aq, %H3PO4_aq, ...]\n",
        "        self.EQUIL = EQUIL\n",
        "        self.eff = eff\n",
        "        self.entrainment_perc = entrainment_perc\n",
        "        self.entrainment_comp_in = entrainment_comp_in\n",
        "        self.check_inputs()\n",
        "        Oin = Oin_clear + Ain_clear*self.entrainment_perc[1]/100.\n",
        "        Ain = Ain_clear + Oin_clear*self.entrainment_perc[0]/100.\n",
        "        a = Oin_clear*self.yin/100. + Ain_clear*self.entrainment_perc[1]/100*self.entrainment_comp_in[1]/100. # [%water_org, %H3PO4_org, %SO4_org, ...]\n",
        "        b = Ain_clear*self.xin/100. + Oin_clear*self.entrainment_perc[0]/100*self.entrainment_comp_in[0]/100. # [%solvent_aq, %H3PO4_aq, ...]\n",
        "\n",
        "        #k=0\n",
        "        c_k=(a+b)/2\n",
        "        d=a+b-c_k\n",
        "        alfa=0 # d[0]=alfa*Aout\n",
        "        A=np.array([[1,1,0],[-1,0,1],[1,0,-alfa]]) # d[0],Oout,Aout\n",
        "        B=np.array([[Oin+sum(c_k)-sum(a)+b[0]],\n",
        "                    [Ain-sum(b)+a[0]-c_k[0]+sum(d)-d[0]],\n",
        "                    [0]])\n",
        "        C=np.dot(np.linalg.inv(A),B)\n",
        "        d[0],Oout,Aout = C[0,0],C[1,0],C[2,0]\n",
        "        xout=d/Aout*100 #\n",
        "        out_data = self.EQUIL([xout])\n",
        "        xout=out_data.xout[0]\n",
        "        yout_tag=out_data.yout[0]\n",
        "        yout=self.yin+self.eff*(yout_tag-self.yin)\n",
        "        d=Aout*xout/100\n",
        "        alfa=d[0]/Aout\n",
        "        e_k=c_k-Oout*yout/100\n",
        "        errors=np.array([e_k/(Oout*yout/100+1E-7)]) #\n",
        "\n",
        "        #k=1\n",
        "        c_k1=Oout*yout/100\n",
        "        conv=[np.ones(len(c_k1))]\n",
        "        d=a+b-c_k1\n",
        "        A=np.array([[1,1,0],[-1,0,1],[1,0,-alfa]]) # d[0],Oout,Aout\n",
        "        B=np.array([[Oin+sum(c_k1)-sum(a)+b[0]],\n",
        "                    [Ain-sum(b)+a[0]-c_k1[0]+sum(d)-d[0]],\n",
        "                    [0]])\n",
        "        C=np.dot(np.linalg.inv(A),B)\n",
        "        d[0],Oout,Aout = C[0,0],C[1,0],C[2,0]\n",
        "        xout=d/Aout*100\n",
        "        out_data = self.EQUIL([xout])\n",
        "        xout=out_data.xout[0]\n",
        "        yout_tag=out_data.yout[0]\n",
        "        yout=self.yin+self.eff*(yout_tag-self.yin)\n",
        "        d=Aout*xout/100\n",
        "        alfa=d[0]/Aout\n",
        "        e_k1=c_k1-Oout*yout/100\n",
        "        errors=np.concatenate((errors, [e_k1/(Oout*yout/100+1E-7)]), axis=0)\n",
        "\n",
        "        #k=2\n",
        "        c_k2=c_k1-e_k1/((e_k1-e_k+1E-7)/(c_k1-c_k+1E-7))\n",
        "        conv=np.concatenate((conv, [(c_k2-c_k1)/(c_k2+1E-7)]), axis=0)\n",
        "        d=a+b-c_k2\n",
        "        A=np.array([[1,1,0],[-1,0,1],[1,0,-alfa]]) # d[0],Oout,Aout\n",
        "        B=np.array([[Oin+sum(c_k2)-sum(a)+b[0]],\n",
        "                    [Ain-sum(b)+a[0]-c_k2[0]+sum(d)-d[0]],\n",
        "                    [0]])\n",
        "        C=np.dot(np.linalg.inv(A),B)\n",
        "        d[0],Oout,Aout = C[0,0],C[1,0],C[2,0]\n",
        "        xout=d/Aout*100\n",
        "        out_data = self.EQUIL([xout])\n",
        "        xout=out_data.xout[0]\n",
        "        yout_tag=out_data.yout[0]\n",
        "        yout=self.yin+self.eff*(yout_tag-self.yin)\n",
        "        d=Aout*xout/100\n",
        "        alfa=d[0]/Aout\n",
        "        e_k2=c_k2-Oout*yout/100\n",
        "        errors=np.concatenate((errors, [e_k2/(Oout*yout/100+1E-7)]), axis=0)\n",
        "\n",
        "        #k>2\n",
        "        i=0\n",
        "        while max(abs(conv[-1]))>convergence:\n",
        "            c_k, e_k=c_k1, e_k1\n",
        "            c_k1, e_k1=c_k2, e_k2\n",
        "            c_k2=c_k1-e_k1/((e_k1-e_k+1E-7)/(c_k1-c_k+1E-7))\n",
        "            conv=np.concatenate((conv, [(c_k2-c_k1)/(c_k2+1E-7)]), axis=0)\n",
        "            d=a+b-c_k2\n",
        "            A=np.array([[1,1,0],[-1,0,1],[1,0,-alfa]]) # d[0],Oout,Aout\n",
        "            B=np.array([[Oin+sum(c_k2)-sum(a)+b[0]],\n",
        "                        [Ain-sum(b)+a[0]-c_k2[0]+sum(d)-d[0]],\n",
        "                        [0]])\n",
        "            C=np.dot(np.linalg.inv(A),B)\n",
        "            d[0],Oout,Aout = C[0,0],C[1,0],C[2,0]\n",
        "            Oout=Oin+sum(c_k2)-sum(a)+b[0]-d[0]\n",
        "            Aout=Ain+sum(d)-sum(b)+a[0]-c_k2[0]\n",
        "            Aout=abs(Aout)\n",
        "            xout=d/Aout*100\n",
        "            out_data = self.EQUIL([xout])\n",
        "            xout=out_data.xout[0]\n",
        "            yout_tag=out_data.yout[0]\n",
        "            yout=self.yin+self.eff*(yout_tag-self.yin)\n",
        "            d=Aout*xout/100\n",
        "            alfa=d[0]/Aout\n",
        "            e_k2=c_k2-Oout*yout/100\n",
        "            errors=np.concatenate((errors, [e_k2/(Oout*yout/100+1E-7)]), axis=0)\n",
        "            i+=1\n",
        "            if i==200:\n",
        "                break\n",
        "\n",
        "        self.errors=errors\n",
        "        self.conv=conv\n",
        "        self.runs=i\n",
        "        self.Oin=Oin\n",
        "        self.Ain=Ain\n",
        "        Oout_clean=Oout\n",
        "        Aout_clean=Aout\n",
        "        A=np.array([[1,self.entrainment_perc[3]/100],[self.entrainment_perc[2]/100,1]])\n",
        "        B=np.array([[Oout_clean],[Aout_clean]])\n",
        "        C=np.dot(np.linalg.inv(A),B)\n",
        "        self.Oout, self.Aout = C[0,0], C[1,0]\n",
        "        self.xout=xout\n",
        "        self.yout_tag=yout_tag\n",
        "        self.yout=yout\n",
        "        self.entrainment_out=[self.entrainment_perc[2:4], self.yout, self.xout]\n",
        "        # self.K=self.xout/self.yout\n",
        "\n",
        "    def check_inputs(self):\n",
        "        if np.isscalar(self.eff):\n",
        "            self.eff = np.ones(len(self.yin)) * self.eff\n",
        "            self.eff[0] = 1. # water and solvent\n",
        "        else:\n",
        "            if len(self.eff) != len(self.yin):\n",
        "                print ('Length of efficiency array is not correct.')\n",
        "            self.eff = np.ones(len(self.yin))* self.eff\n",
        "            self.eff[0] = 1.\n",
        "\n",
        "        if np.isscalar(self.entrainment_perc):\n",
        "            self.entrainment_perc = np.ones(4) * self.entrainment_perc\n",
        "        else:\n",
        "            if len(self.entrainment_perc) != 4:\n",
        "                print ('List of entrainment percents should consist of 4 elements [org_in, aq_in, org_out, aq_out] or single number.')\n",
        "            self.entrainment_perc = np.ones(4) * self.entrainment_perc\n",
        "\n",
        "        if np.isscalar(self.entrainment_comp_in):\n",
        "            self.entrainment_comp_in = np.ones([2,len(self.yin)]) * self.entrainment_comp_in\n",
        "        else:\n",
        "            if len(self.entrainment_comp_in[0]) != len(self.yin):\n",
        "                print ('Array of entrainment compositions is not correct.')\n",
        "            self.entrainment_comp_in = np.ones(len(self.yin)) * self.entrainment_comp_in\n",
        "\n",
        "    def output(self):\n",
        "        print (\"Oout=\", self.Oout)\n",
        "        print (\"yout=\", self.yout)\n",
        "        print (\"yout_tag=\", self.yout_tag, \" %water_org_equilib, %solubles_equilib\")\n",
        "        print (\"Aout=\", self.Aout)\n",
        "        print (\"xout=\", self.xout)\n",
        "        print (\"equilibrium efficiency=\", self.eff)\n",
        "        print (\"error=\", self.errors[-1])\n",
        "        print (\"convergence=\", self.conv[-1])\n",
        "        # print (\"K=\", self.K)\n",
        "\n",
        "    def roundoutput(self):\n",
        "        print (\"Oout=\", round(self.Oout,1))\n",
        "        print (\"yout=\", [round(num,3) for num in self.yout], \" %water_org, %solubles\")\n",
        "        print (\"yout_tag=\", [round(num,3) for num in self.yout_tag], \" %water_org_equilib, %solubles_equilib\")\n",
        "        print (\"Aout=\", round(self.Aout,2))\n",
        "        print (\"xout=\", [round(num,3) for num in self.xout], \" %solvent_aq, %solubles\")\n",
        "        print (\"equilibrium efficiency=\", self.eff)\n",
        "        print (\"error=\", [round(num,7) for num in self.errors[-1]])\n",
        "        print (\"convergence=\", [round(num,7) for num in self.conv[-1]])\n",
        "        # print (\"K=\", [round(num,5) for num in self.K])\n"
      ],
      "metadata": {
        "id": "J4cWAc5P489R"
      },
      "execution_count": 9,
      "outputs": []
    },
    {
      "cell_type": "code",
      "source": [
        "# @title class BatteryConv\n",
        "\n",
        "class BatteryConv:\n",
        "    \"\"\"Attributes:\n",
        "        stages_num:                       Number of stages.\n",
        "        stages:                           Array of Stage objects (0 -- stage_num-1). Organic inlet to stages[0] -- Stage 1.\n",
        "        Oin/Ain/Oin/Oout:                 Organic/aqueous phase mass inlet/outlet flow.\n",
        "        Oin/Ain/Oin/Oout_list:            List of organic/aqueous phase mass inlet/outlet flows for stages.\n",
        "        yin/xin/yout_tag/yout/xout_list:  List of lists of organic/aqueous phase inlet/outlet concentrations: [stage, component]\n",
        "        runs:                             Number of iterations.\n",
        "        eff_list:                         List of stage efficiencies (0.0-1.0).\n",
        "        errors:                           Numpy array of errors.\n",
        "        EQUIL:                            Object class for calculating equilibrium concentrations.\n",
        "        K:                                List of distribute ratios for solubles. %aq/%org\n",
        "        entrainment_perc_in:              Entrainment percent for inlets [org_in, aq_in].\n",
        "        entrainment_perc_out:             Entrainment percent data should consist of 2D array (stages_num, 2)  or 1D array [org_out, aq_out] or single number.\n",
        "        entrainment_perc_list:            Entrainment percent data arranged for stages.\n",
        "        entrainment_comp_in:              Composition of inlet entrainments in [aqueous phase in Oin, organic phase in Ain] --> [[%solvent_aq, %H3PO4_aq, ...], [%water_org, %H3PO4_org, ...]]. Outlet compositions are calculated: yout, xout.\n",
        "        entrainment_comp_list:            List of entrainment compositions [[%solvent_aq, %H3PO4_aq, ...],[%water_org, %H3PO4_org, ...], ... stage_num].\n",
        "        entrainment_comp_flat:            List of entrainment compositions arranged for presentation in table.\n",
        "        \"\"\"\n",
        "\n",
        "    def __init__(self, stages_num, Oin, Ain, yin, xin, EQUIL, method='succesive', eff=1., max_iter=100, entrainment_perc_in=0, entrainment_comp_in=0, entrainment_perc_out=0, convergence=1E-4):\n",
        "        self.stages_num = stages_num\n",
        "        self.EQUIL = EQUIL\n",
        "        self.eff = eff\n",
        "        self.entrainment_perc_in = entrainment_perc_in\n",
        "        self.entrainment_comp_in = entrainment_comp_in\n",
        "        self.entrainment_perc_out = entrainment_perc_out\n",
        "\n",
        "        self.initialize_arrays(Oin, Ain, yin, xin)\n",
        "        self.check_inputs()\n",
        "\n",
        "        if self.stages_num==1:\n",
        "            self.solve_battery()\n",
        "            self.runs=0\n",
        "            self.finalize()\n",
        "            return\n",
        "\n",
        "        # Initial run for error calculation\n",
        "        self.solve_battery() # Iterates over stages and runs Stage for each one\n",
        "        self.get_abs_errors() # Compares in data and out data of adjacent stages\n",
        "        self.get_abs_errors2() # Compares in data and out data of adjacent stages\n",
        "        # self.errors=np.concatenate((self.errors,[(self.xout_list[1]-self.xin_list[0])/(self.xout_list[1]+1E-7)]), axis=0)\n",
        "\n",
        "        if method=='succesive':\n",
        "            self.succesive_substitution(max_iter=max_iter, convergence=convergence)\n",
        "\n",
        "    def succesive_substitution(self, max_iter=100, convergence=1E-4):\n",
        "        j=0\n",
        "        # while max(abs(self.errors[-1]))>convergence or max(abs(self.errors[-2]))>convergence:\n",
        "        while abs(self.error_list.iloc[-1].any()) > convergence:\n",
        "        # for j in range(20):\n",
        "            self.update_stage_connections() # Replaces in data by out data of adjacent stage\n",
        "            self.solve_battery() # Iterates over stages and runs Stage for each one\n",
        "            self.get_abs_errors() # Compares in data and out data of adjacent stages\n",
        "            self.get_abs_errors2() # Compares in data and out data of adjacent stages\n",
        "            # self.errors=np.concatenate((self.errors,[(self.xout_list[1]-self.xin_list[0])/(self.xout_list[1]+1E-7)]), axis=0)\n",
        "            j+=1\n",
        "            if j==max_iter:\n",
        "                print (max_iter, 'iterations!')\n",
        "                break\n",
        "        self.runs = j\n",
        "\n",
        "        self.finalize()\n",
        "\n",
        "    def initialize_arrays(self, Oin, Ain, yin, xin):\n",
        "        self.Oin_list = np.ones(self.stages_num) * Oin\n",
        "        self.Ain_list = np.ones(self.stages_num) * Ain\n",
        "        yin = np.array(yin, dtype=float) # [%water_org, %H3PO4_org, ...]\n",
        "        xin = np.array(xin, dtype=float) # [%solvent_aq, %H3PO4_aq, ...]\n",
        "        self.yin_list = np.array([yin for i in range(self.stages_num)])\n",
        "        self.xin_list = np.array([xin for i in range(self.stages_num)])\n",
        "        self.Oout_list = np.zeros(self.stages_num)\n",
        "        self.Aout_list = np.zeros(self.stages_num)\n",
        "        self.yout_tag_list = np.zeros((self.stages_num, len(yin)))\n",
        "        self.yout_list = np.zeros((self.stages_num, len(yin)))\n",
        "        self.xout_list = np.zeros((self.stages_num, len(xin)))\n",
        "        self.stages = [[] for i in range(self.stages_num)] # List of stages\n",
        "        # self.errors=np.zeros([2,len(xin)]) # for stages_num=1\n",
        "        self.error_list = pd.DataFrame()\n",
        "        self.error_list2 = pd.DataFrame()\n",
        "\n",
        "\n",
        "    def check_inputs(self):\n",
        "        # --------\n",
        "        eff, stages_num, yin_len = self.eff, self.stages_num, len(self.yin_list[0])\n",
        "        if np.isscalar(eff):                                             # scalar\n",
        "            eff_out = np.ones([stages_num, yin_len]) * eff\n",
        "        else:\n",
        "            eff = np.array(eff)\n",
        "            eff_out = np.ones([stages_num, yin_len])\n",
        "            if np.isscalar(eff[0]):                                      # vector for elements [water, P2O5, ...] same for all stages\n",
        "                a = np.array(list(map(lambda x:eff[:yin_len], eff_out))) # 2D array (stage_num, yin_len) with rows of eff\n",
        "                eff_out[:a.shape[0], :a.shape[1]]=a                      # for the case if eff is shorter than yin_len\n",
        "            else:\n",
        "                if eff.shape[1] == 1:                                    # vector for stages same for all elements\n",
        "                    b = eff.T[0]\n",
        "                    a = np.array(list(map(lambda x:b[:stages_num], eff_out.T)))\n",
        "                    eff_out.T[:a.shape[0], :a.shape[1]]=a\n",
        "                if eff.shape[1] > 1:                                     # list of lists\n",
        "                    eff_out[:eff.shape[0], :eff.shape[1]]=eff            # for the case if eff is shorter than yin_len\n",
        "        self.eff_list = eff_out\n",
        "        self.eff_list[:,0]=1\n",
        "        # ----------\n",
        "        epi = self.entrainment_perc_in\n",
        "        if np.isscalar(epi):\n",
        "            epi = np.ones(2) * epi\n",
        "        else:\n",
        "            epi = np.array(epi, dtype=float)\n",
        "\n",
        "        epo = self.entrainment_perc_out\n",
        "        if np.isscalar(epo):\n",
        "            epo_out = np.ones([stages_num, 2]) * epo\n",
        "        else:\n",
        "            epo = np.array(epo, dtype=float)\n",
        "            epo_out = np.ones([stages_num, 2])\n",
        "            if np.isscalar(epo[0]): # same [org_out, aq_out] for all stages\n",
        "                if len(epo) != 2:\n",
        "                    print ('Entrainment percent data should consist of 2D array (stages_num, 2)  or 1D array [org_out, aq_out] or single number.')\n",
        "                epo_out = epo_out * epo\n",
        "            else:\n",
        "                if epo.shape != (stages_num,2):\n",
        "                    print ('Entrainment percent data should consist of 2D array (stages_num, 2)  or 1D array [org_out, aq_out] or single number.')\n",
        "                epo_out = epo\n",
        "\n",
        "        ep1 = np.concatenate([[epi], epo_out, [epi]], axis=0)\n",
        "        ep2 = [[ep1[i,0],ep1[i+2,1]] for i in range(stages_num)]\n",
        "        self.entrainment_perc_list = np.concatenate([ep2,epo_out], axis=1)\n",
        "        # ------------\n",
        "        if np.isscalar(self.entrainment_comp_in):\n",
        "            self.entrainment_comp_in = np.ones([2, len(self.yin_list[0])]) * self.entrainment_comp_in\n",
        "        else:\n",
        "            if len(self.entrainment_comp_in[0]) != len(self.yin_list[0]):\n",
        "                print ('Array of entrainment compositions is not correct.')\n",
        "        self.entrainment_comp_list = np.array([self.entrainment_comp_in for i in range(self.stages_num)])*1.\n",
        "\n",
        "    def update_stage_connections(self):\n",
        "        \"\"\"Update connections between stages - flows and compositions.\"\"\"\n",
        "        for i in range(1, self.stages_num):\n",
        "            self.Oin_list[i] = self.Oout_list[i-1] # Update organic phase connections (forward direction)\n",
        "            self.yin_list[i] = self.yout_list[i-1]\n",
        "            self.entrainment_comp_list[i-1][1] = self.yout_list[i]\n",
        "            self.Ain_list[i-1] = self.Aout_list[i] # Update aqueous phase connections (backward direction)\n",
        "            self.xin_list[i-1] = self.xout_list[i]\n",
        "            self.entrainment_comp_list[i][0] = self.xout_list[i-1]\n",
        "\n",
        "    def get_abs_errors2(self):\n",
        "        \"\"\"Calculate errors.\"\"\"\n",
        "        err=[]\n",
        "        for i in range(1, self.stages_num):\n",
        "            a=np.array([self.Oin_list[i] - self.Oout_list[i-1]])\n",
        "            b=self.yin_list[i] - self.yout_list[i-1]\n",
        "            c=np.array([self.Ain_list[i-1] - self.Aout_list[i]])\n",
        "            d=self.xin_list[i-1] - self.xout_list[i]\n",
        "            err.extend([a.item(), *b.tolist(), c.item(), *d.tolist()])\n",
        "        err = np.array(err).reshape(1,-1)\n",
        "        self.error_list2 = pd.concat([self.error_list2, pd.DataFrame(err)], axis=0, ignore_index=True)\n",
        "\n",
        "    def get_abs_errors(self):\n",
        "        \"\"\"Calculate errors.\"\"\"\n",
        "        for i in range(1, self.stages_num):\n",
        "            a=np.array([self.Oin_list[i] - self.Oout_list[i-1]])\n",
        "            b=self.yin_list[i] - self.yout_list[i-1]\n",
        "            c=np.array([self.Ain_list[i-1] - self.Aout_list[i]])\n",
        "            d=self.xin_list[i-1] - self.xout_list[i]\n",
        "        err = np.concatenate([a,b,c,d]).reshape(1,-1)\n",
        "        self.error_list = pd.concat([self.error_list, pd.DataFrame(err)], axis=0, ignore_index=True)\n",
        "\n",
        "    def get_rel_errors(self):\n",
        "        \"\"\"Calculate errors.\"\"\"\n",
        "        for i in range(1, self.stages_num): # Organic phase (forward direction)\n",
        "            a=np.array([(self.Oin_list[i] - self.Oout_list[i-1]) / (self.Oin_list[i] + 1e-7)])\n",
        "            b=(self.yin_list[i] - self.yout_list[i-1]) / (self.yin_list[i] + 1e-7)\n",
        "        for i in range(0, self.stages_num-1): # Aqueous phase (backward direction)\n",
        "            c=np.array([(self.Ain_list[i] - self.Aout_list[i+1]) / (self.Ain_list[i] + 1e-7)])\n",
        "            d=(self.xin_list[i] - self.xout_list[i+1])/ (self.xin_list[i] + 1e-7)\n",
        "        err = np.concatenate([a,b,c,d]).reshape(1,-1)\n",
        "        self.error_list = pd.concat([self.error_list, pd.DataFrame(err)], axis=0, ignore_index=True)\n",
        "\n",
        "    def calculate_stage(self, stage_idx, flows_comps):\n",
        "        \"\"\"Calculate single stage equilibrium and update flows/compositions.\"\"\"\n",
        "        Oin = flows_comps[0]\n",
        "        yin = flows_comps[1]\n",
        "        Ain = flows_comps[2]\n",
        "        xin = flows_comps[3]\n",
        "        stage = Stage(\n",
        "            Oin=Oin,\n",
        "            Ain=Ain,\n",
        "            yin=yin,\n",
        "            xin=xin,\n",
        "            EQUIL=self.EQUIL,\n",
        "            eff=self.eff_list[stage_idx],\n",
        "            entrainment_perc=self.entrainment_perc_list[stage_idx],\n",
        "            entrainment_comp_in=self.entrainment_comp_list[stage_idx]\n",
        "        )\n",
        "        return [stage.Oout, stage.yout, stage.yout_tag, stage.Aout, stage.xout]\n",
        "\n",
        "    def solve_battery(self):\n",
        "        for i in range(self.stages_num):\n",
        "            flows_comps = [self.Oin_list[i],self.yin_list[i],self.Ain_list[i],self.xin_list[i]]\n",
        "            results = self.calculate_stage(i, flows_comps)\n",
        "            self.Oout_list[i] = results[0]\n",
        "            self.yout_list[i] = results[1]\n",
        "            self.yout_tag_list[i] = results[2]\n",
        "            self.Aout_list[i] = results[3]\n",
        "            self.xout_list[i] = results[4]\n",
        "\n",
        "    def finalize(self):\n",
        "        self.K = self.xout_list/(self.yout_tag_list+1E-7)\n",
        "        self.Oout, self.Aout, self.yout_tag, self.yout, self.xout, = self.Oout_list[-1], self.Aout_list[0], self.yout_tag_list[-1], self.yout_list[-1], self.xout_list[0],\n",
        "        entrainment_comp_flat = []\n",
        "        for stage in range(self.stages_num):\n",
        "            entrainment_comp_flat.append([i for item in self.entrainment_comp_list[stage] for i in item])\n",
        "        self.entrainment_comp_flat = np.array(entrainment_comp_flat)"
      ],
      "metadata": {
        "id": "Avq7oaZUW0I5"
      },
      "execution_count": 138,
      "outputs": []
    },
    {
      "cell_type": "code",
      "source": [
        "class BatteryTable:\n",
        "    \"\"\"\n",
        "    \"\"\"\n",
        "    def __init__(self, batt, show=True, index_names=[]):\n",
        "        len1=len(batt.xin_list[0])\n",
        "        out=np.concatenate((\n",
        "            [batt.Oin_list],\n",
        "            batt.yin_list.T,\n",
        "            [batt.Ain_list],\n",
        "            batt.xin_list.T,\n",
        "            [batt.Oout_list],\n",
        "            batt.yout_list.T,\n",
        "            [batt.Aout_list],\n",
        "            batt.xout_list.T,\n",
        "            ),axis=0)\n",
        "        Name = (\n",
        "            ['Org in, ton/hr']+\n",
        "            ['y'+str(a+1)+' in, %' for a in range(len1)]+\n",
        "            ['Aq in, ton/hr']+\n",
        "            ['x'+str(a+1)+' in, %' for a in range(len1)]+\n",
        "            ['Org out, ton/hr']+\n",
        "            ['y'+str(a+1)+' out, %' for a in range(len1)]+\n",
        "            ['Aq out, ton/hr']+\n",
        "            ['x'+str(a+1)+' out, %' for a in range(len1)]\n",
        "            )\n",
        "        columns = ['Stage '+str(a) for a in range(1,batt.stages_num+1)]\n",
        "        if len(index_names)>0:\n",
        "            Name=index_names\n",
        "        self.data=pd.DataFrame(out, columns=columns, index=Name)\n",
        "        if show:\n",
        "            display (self.data)\n",
        "\n",
        "class BatteryTableFull:\n",
        "    \"\"\"\n",
        "    \"\"\"\n",
        "    def __init__(self, batt, show=True, index_names=[]):\n",
        "        len1=len(batt.xin_list[0])\n",
        "        out=np.concatenate((\n",
        "            [batt.Oin_list],\n",
        "            batt.yin_list.T,\n",
        "            [batt.Ain_list],\n",
        "            batt.xin_list.T,\n",
        "            [batt.Oout_list],\n",
        "            batt.yout_list.T,\n",
        "            [batt.Aout_list],\n",
        "            batt.xout_list.T,\n",
        "            batt.K.T[1:],\n",
        "            batt.entrainment_perc_list.T,\n",
        "            np.concatenate([[batt.Oin_list],[batt.Ain_list],[batt.Oout_list],[batt.Aout_list]], axis=0)*batt.entrainment_perc_list.T/100,\n",
        "            batt.entrainment_comp_flat.T,\n",
        "            ),axis=0)\n",
        "        Name = (\n",
        "            ['Org in, ton/hr']+\n",
        "            ['y'+str(a+1)+' in, %' for a in range(len1)]+\n",
        "            ['Aq in, ton/hr']+\n",
        "            ['x'+str(a+1)+' in, %' for a in range(len1)]+\n",
        "            ['Org out, ton/hr']+\n",
        "            ['y'+str(a+1)+' out, %' for a in range(len1)]+\n",
        "            ['Aq out, ton/hr']+\n",
        "            ['x'+str(a+1)+' out, %' for a in range(len1)]+\n",
        "            ['K'+str(a+1)+' [aq/org]' for a in range(1,len1)]+\n",
        "            ['aq in org_in, %']+['org in aq_in, %']+['aq in org_out, %']+['org in aq_out, %']+\n",
        "            ['aq in org_in, ton/hr']+['org in aq_in, ton/hr']+['aq in org_out, ton/hr']+['org in aq_out, ton/hr']+\n",
        "            ['aq contrain in Oin - x'+str(a+1)+'%' for a in range(len1)]+\n",
        "            ['org contrain in Ain - y'+str(a+1)+'%' for a in range(len1)]\n",
        "            )\n",
        "        columns = ['Stage '+str(a) for a in range(1,batt.stages_num+1)]\n",
        "        if len(index_names)>0:\n",
        "            Name=index_names\n",
        "        self.data=pd.DataFrame(out, columns=columns, index=Name)\n",
        "        if show:\n",
        "            display (self.data)\n"
      ],
      "metadata": {
        "id": "1s4Ks96-ZRi6"
      },
      "execution_count": 11,
      "outputs": []
    },
    {
      "cell_type": "markdown",
      "source": [
        "# Cases"
      ],
      "metadata": {
        "id": "Cn3G4NOrjQsB"
      }
    },
    {
      "cell_type": "markdown",
      "source": [
        "## Extraction 1"
      ],
      "metadata": {
        "id": "TvDXmUHxhqYc"
      }
    },
    {
      "cell_type": "markdown",
      "source": [
        "### test"
      ],
      "metadata": {
        "id": "FtEKLuAh3OL-"
      }
    },
    {
      "cell_type": "code",
      "source": [
        "x=np.array([[0,0,0],[100,100,100]])"
      ],
      "metadata": {
        "id": "gUHSCrRbChJP"
      },
      "execution_count": 12,
      "outputs": []
    },
    {
      "cell_type": "code",
      "source": [
        "X_scaled=scaler_X.transform(x[:,[1,2]])\n",
        "X_scaled"
      ],
      "metadata": {
        "id": "aZR-P7znCefe",
        "outputId": "c60cab22-fe53-4dad-d7d3-ef905eb50986",
        "colab": {
          "base_uri": "https://localhost:8080/"
        }
      },
      "execution_count": 13,
      "outputs": [
        {
          "output_type": "execute_result",
          "data": {
            "text/plain": [
              "array([[-1.70231409, -1.10472636],\n",
              "       [ 2.86904219, 14.23910773]])"
            ]
          },
          "metadata": {},
          "execution_count": 13
        }
      ]
    },
    {
      "cell_type": "code",
      "source": [
        "np.clip(X_scaled, -1, 1)"
      ],
      "metadata": {
        "id": "o69o7mLpDG0f",
        "outputId": "b3a65114-6808-4832-8968-6fe7b023f82b",
        "colab": {
          "base_uri": "https://localhost:8080/"
        }
      },
      "execution_count": 14,
      "outputs": [
        {
          "output_type": "execute_result",
          "data": {
            "text/plain": [
              "array([[-1., -1.],\n",
              "       [ 1.,  1.]])"
            ]
          },
          "metadata": {},
          "execution_count": 14
        }
      ]
    },
    {
      "cell_type": "code",
      "source": [
        "EQUIL_rotem_extr1([[0,30,9]]).xout # [[%solvent_aq, %H3PO4_aq, %SO4_aq], ...]"
      ],
      "metadata": {
        "id": "eHwnC1vyn4ZA",
        "outputId": "5cb19264-3c09-4663-c6d9-e9bb24dabdec",
        "colab": {
          "base_uri": "https://localhost:8080/"
        }
      },
      "execution_count": 15,
      "outputs": [
        {
          "output_type": "execute_result",
          "data": {
            "text/plain": [
              "array([[ 0.99203106, 30.        ,  9.        ]])"
            ]
          },
          "metadata": {},
          "execution_count": 15
        }
      ]
    },
    {
      "cell_type": "code",
      "source": [
        "EQUIL_rotem_extr1([[0,30,9]]).yout # [[%water_org, %H3PO4_org, %SO4_org], ...]"
      ],
      "metadata": {
        "id": "TLgpsbm5h1pR",
        "outputId": "8c0bc88d-3322-49ac-c542-b069acca40ec",
        "colab": {
          "base_uri": "https://localhost:8080/"
        }
      },
      "execution_count": 16,
      "outputs": [
        {
          "output_type": "execute_result",
          "data": {
            "text/plain": [
              "array([[5.51179427, 3.98631405, 0.76135935]])"
            ]
          },
          "metadata": {},
          "execution_count": 16
        }
      ]
    },
    {
      "cell_type": "code",
      "source": [
        "test1 = LLC.Stage(173.2, 15, [8.2, .06, .06], [1, 30, 15], EQUIL_rotem_extr1, eff=.8, convergence=1E-4)#, entrainment_perc=[1,2,3,4], entrainment_comp_in=[[10,10],[5,5]])\n",
        "test1.runs"
      ],
      "metadata": {
        "id": "UrLurQ7Jj2IZ",
        "colab": {
          "base_uri": "https://localhost:8080/"
        },
        "outputId": "bc21d203-2b3b-4fac-cd2a-e9db991ff03b"
      },
      "execution_count": 17,
      "outputs": [
        {
          "output_type": "execute_result",
          "data": {
            "text/plain": [
              "12"
            ]
          },
          "metadata": {},
          "execution_count": 17
        }
      ]
    },
    {
      "cell_type": "code",
      "source": [
        "test1.output()"
      ],
      "metadata": {
        "id": "NC8eL6QYnnRx",
        "colab": {
          "base_uri": "https://localhost:8080/"
        },
        "outputId": "40bf19fe-95dd-4a7a-87b0-928fa781efba"
      },
      "execution_count": 18,
      "outputs": [
        {
          "output_type": "stream",
          "name": "stdout",
          "text": [
            "Oout= 169.57346101275468\n",
            "yout= [5.25893594 0.85771993 0.26318594]\n",
            "yout_tag= [5.25893594 1.05714991 0.31398242]  %water_org_equilib, %solubles_equilib\n",
            "Aout= 18.626538987245322\n",
            "xout= [ 0.99203106 16.90836857 10.24168195]\n",
            "equilibrium efficiency= [1.  0.8 0.8]\n",
            "error= [-3.23113626e-07  7.40483595e-06 -9.94591222e-05]\n",
            "convergence= [-3.11837121e-06 -7.43013235e-05  1.02388794e-05]\n"
          ]
        }
      ]
    },
    {
      "cell_type": "code",
      "source": [
        "test2 = LLC.Stage(173.2, 50, [6, 6, 1], [1, 60, .1], EQUIL_rotem_extr1, eff=.8, convergence=1E-4)#, entrainment_perc=[1,2,3,4], entrainment_comp_in=[[10,10],[5,5]])\n",
        "test2.runs"
      ],
      "metadata": {
        "outputId": "da339d1c-c143-421d-8e1a-c0b1155f6482",
        "colab": {
          "base_uri": "https://localhost:8080/"
        },
        "id": "BnsA5SAcKjlN"
      },
      "execution_count": 33,
      "outputs": [
        {
          "output_type": "execute_result",
          "data": {
            "text/plain": [
              "62"
            ]
          },
          "metadata": {},
          "execution_count": 33
        }
      ]
    },
    {
      "cell_type": "code",
      "source": [
        "test2.output()"
      ],
      "metadata": {
        "outputId": "a1c043d9-4133-4360-80b7-c28c6a93f24f",
        "colab": {
          "base_uri": "https://localhost:8080/"
        },
        "id": "BvaCSjABKjlO"
      },
      "execution_count": 34,
      "outputs": [
        {
          "output_type": "stream",
          "name": "stdout",
          "text": [
            "Oout= 188.49840301555142\n",
            "yout= [ 7.2654649  11.98753575  0.69370541]\n",
            "yout_tag= [ 7.2654649  13.48441969  0.61713177]  %water_org_equilib, %solubles_equilib\n",
            "Aout= 34.70159698444857\n",
            "xout= [ 0.99203106 51.11713245  1.36076513]\n",
            "equilibrium efficiency= [1.  0.8 0.8]\n",
            "error= [2.69045123e-06 2.53250390e-03 1.65884242e-03]\n",
            "convergence= [ 2.90719171e-05  1.69483930e-05 -6.63078137e-05]\n"
          ]
        }
      ]
    },
    {
      "cell_type": "code",
      "source": [
        "# test3 = LLC52.Stage(173.2, 50, [6, 6, .5], [1, 60, .1], EQUIL_rotem_extr1, eff=.8, convergence=1E-4)"
      ],
      "metadata": {
        "id": "HGahpNpgyz9S"
      },
      "execution_count": 22,
      "outputs": []
    },
    {
      "cell_type": "markdown",
      "source": [
        "### mesh"
      ],
      "metadata": {
        "id": "DgGA_AFkyBHg"
      }
    },
    {
      "cell_type": "code",
      "source": [
        "# x_mesh, y_mesh = np.linspace(0, 60, 31), np.linspace(0, 0.2, 31) # expanded x and y extrapolation area observation\n",
        "x_mesh, y_mesh = np.linspace(0, 70, 31), np.linspace(0, 25, 31)\n",
        "x_mesh, y_mesh = np.meshgrid(x_mesh, y_mesh)\n",
        "x_mesh3 = x_mesh.flatten().reshape(31*31,1)\n",
        "y_mesh3 = y_mesh.flatten().reshape(31*31,1)\n",
        "mesh3=np.concatenate((x_mesh3, y_mesh3), axis=1)\n",
        "# x_mesh[:5]"
      ],
      "metadata": {
        "id": "rbH7DFAruP9y"
      },
      "execution_count": 23,
      "outputs": []
    },
    {
      "cell_type": "code",
      "source": [
        "a=np.concatenate((np.zeros([len(mesh3),1]),mesh3), axis=1)"
      ],
      "metadata": {
        "id": "7kfhFVcsxG_B"
      },
      "execution_count": 24,
      "outputs": []
    },
    {
      "cell_type": "code",
      "source": [
        "mesh_predict_x=np.array([EQUIL_rotem_extr1([row]).xout for row in a])\n",
        "mesh_predict_y=np.array([EQUIL_rotem_extr1([row]).yout for row in a])\n",
        "mesh_predics1_1=mesh_predict_y[:,:,1]\n",
        "mesh_predics1_2=mesh_predict_y[:,:,0]\n",
        "mesh_predics1_3=mesh_predict_x[:,:,0]\n",
        "mesh_predics1_4=mesh_predict_y[:,:,2]"
      ],
      "metadata": {
        "id": "W9MuPaoSyWPQ"
      },
      "execution_count": 26,
      "outputs": []
    },
    {
      "cell_type": "markdown",
      "source": [
        "### 1 - Extraction1 - raffinate old Battery"
      ],
      "metadata": {
        "id": "NrZb1wd-hysz"
      }
    },
    {
      "cell_type": "code",
      "source": [
        "# bat1_1=LLC.Battery(stages_num=3, Oin=173.2, Ain=15, yin=[8.2, .06, .06], xin=[1, 30, 15], EQUIL=EQUIL_rotem_extr1, eff=.8, max_iter=200)#, convergence=1E-4)\n",
        "bat1_1=LLC.Battery(stages_num=3, Oin=173.2, Ain=50, yin=[6, 6, 1 ], xin=[1, 60, .1], EQUIL=EQUIL_rotem_extr1, eff=.8, max_iter=10, convergence=1E-4)\n",
        "bat1_1.runs"
      ],
      "metadata": {
        "id": "2IU5YkpRn69s",
        "outputId": "23fef10a-3b08-45e7-def7-c718eafec351",
        "colab": {
          "base_uri": "https://localhost:8080/"
        }
      },
      "execution_count": 51,
      "outputs": [
        {
          "output_type": "stream",
          "name": "stdout",
          "text": [
            "10 iterations!\n"
          ]
        },
        {
          "output_type": "execute_result",
          "data": {
            "text/plain": [
              "10"
            ]
          },
          "metadata": {},
          "execution_count": 51
        }
      ]
    },
    {
      "cell_type": "code",
      "source": [
        "table1_1=LLC.BatteryTable(bat1_1).data"
      ],
      "metadata": {
        "id": "bsGATjw3n69w",
        "outputId": "54d6f347-1f0c-4e94-dc9b-d0183f7626fc",
        "colab": {
          "base_uri": "https://localhost:8080/",
          "height": 551
        }
      },
      "execution_count": 52,
      "outputs": [
        {
          "output_type": "display_data",
          "data": {
            "text/plain": [
              "                    Stage 1     Stage 2     Stage 3\n",
              "Org in, ton/hr   173.200000  176.487263  182.913473\n",
              "y1 in, %           6.000000    6.235480    6.882030\n",
              "y2 in, %           6.000000    7.617341   10.149189\n",
              "y3 in, %           1.000000    0.748329    0.599274\n",
              "Aq in, ton/hr     32.659716   39.396019   50.000000\n",
              "x1 in, %           0.992031    0.992031    1.000000\n",
              "x2 in, %          48.394273   53.310861   60.000000\n",
              "x3 in, %           1.473639    0.675123    0.100000\n",
              "Org out, ton/hr  176.486790  183.028974  193.444330\n",
              "y1 out, %          6.233950    6.879464    7.414195\n",
              "y2 out, %          7.613056   10.147318   14.372509\n",
              "y3 out, %          0.748157    0.601152    0.457793\n",
              "Aq out, ton/hr    29.372926   32.854308   39.469143\n",
              "x1 out, %          0.992031    0.992031    0.992031\n",
              "x2 out, %         43.444566   48.368708   53.499087\n",
              "x3 out, %          3.039051    1.482044    0.674602"
            ],
            "text/html": [
              "\n",
              "  <div id=\"df-499b2084-9f62-4ccc-b75c-1e9c75505c46\" class=\"colab-df-container\">\n",
              "    <div>\n",
              "<style scoped>\n",
              "    .dataframe tbody tr th:only-of-type {\n",
              "        vertical-align: middle;\n",
              "    }\n",
              "\n",
              "    .dataframe tbody tr th {\n",
              "        vertical-align: top;\n",
              "    }\n",
              "\n",
              "    .dataframe thead th {\n",
              "        text-align: right;\n",
              "    }\n",
              "</style>\n",
              "<table border=\"1\" class=\"dataframe\">\n",
              "  <thead>\n",
              "    <tr style=\"text-align: right;\">\n",
              "      <th></th>\n",
              "      <th>Stage 1</th>\n",
              "      <th>Stage 2</th>\n",
              "      <th>Stage 3</th>\n",
              "    </tr>\n",
              "  </thead>\n",
              "  <tbody>\n",
              "    <tr>\n",
              "      <th>Org in, ton/hr</th>\n",
              "      <td>173.200000</td>\n",
              "      <td>176.487263</td>\n",
              "      <td>182.913473</td>\n",
              "    </tr>\n",
              "    <tr>\n",
              "      <th>y1 in, %</th>\n",
              "      <td>6.000000</td>\n",
              "      <td>6.235480</td>\n",
              "      <td>6.882030</td>\n",
              "    </tr>\n",
              "    <tr>\n",
              "      <th>y2 in, %</th>\n",
              "      <td>6.000000</td>\n",
              "      <td>7.617341</td>\n",
              "      <td>10.149189</td>\n",
              "    </tr>\n",
              "    <tr>\n",
              "      <th>y3 in, %</th>\n",
              "      <td>1.000000</td>\n",
              "      <td>0.748329</td>\n",
              "      <td>0.599274</td>\n",
              "    </tr>\n",
              "    <tr>\n",
              "      <th>Aq in, ton/hr</th>\n",
              "      <td>32.659716</td>\n",
              "      <td>39.396019</td>\n",
              "      <td>50.000000</td>\n",
              "    </tr>\n",
              "    <tr>\n",
              "      <th>x1 in, %</th>\n",
              "      <td>0.992031</td>\n",
              "      <td>0.992031</td>\n",
              "      <td>1.000000</td>\n",
              "    </tr>\n",
              "    <tr>\n",
              "      <th>x2 in, %</th>\n",
              "      <td>48.394273</td>\n",
              "      <td>53.310861</td>\n",
              "      <td>60.000000</td>\n",
              "    </tr>\n",
              "    <tr>\n",
              "      <th>x3 in, %</th>\n",
              "      <td>1.473639</td>\n",
              "      <td>0.675123</td>\n",
              "      <td>0.100000</td>\n",
              "    </tr>\n",
              "    <tr>\n",
              "      <th>Org out, ton/hr</th>\n",
              "      <td>176.486790</td>\n",
              "      <td>183.028974</td>\n",
              "      <td>193.444330</td>\n",
              "    </tr>\n",
              "    <tr>\n",
              "      <th>y1 out, %</th>\n",
              "      <td>6.233950</td>\n",
              "      <td>6.879464</td>\n",
              "      <td>7.414195</td>\n",
              "    </tr>\n",
              "    <tr>\n",
              "      <th>y2 out, %</th>\n",
              "      <td>7.613056</td>\n",
              "      <td>10.147318</td>\n",
              "      <td>14.372509</td>\n",
              "    </tr>\n",
              "    <tr>\n",
              "      <th>y3 out, %</th>\n",
              "      <td>0.748157</td>\n",
              "      <td>0.601152</td>\n",
              "      <td>0.457793</td>\n",
              "    </tr>\n",
              "    <tr>\n",
              "      <th>Aq out, ton/hr</th>\n",
              "      <td>29.372926</td>\n",
              "      <td>32.854308</td>\n",
              "      <td>39.469143</td>\n",
              "    </tr>\n",
              "    <tr>\n",
              "      <th>x1 out, %</th>\n",
              "      <td>0.992031</td>\n",
              "      <td>0.992031</td>\n",
              "      <td>0.992031</td>\n",
              "    </tr>\n",
              "    <tr>\n",
              "      <th>x2 out, %</th>\n",
              "      <td>43.444566</td>\n",
              "      <td>48.368708</td>\n",
              "      <td>53.499087</td>\n",
              "    </tr>\n",
              "    <tr>\n",
              "      <th>x3 out, %</th>\n",
              "      <td>3.039051</td>\n",
              "      <td>1.482044</td>\n",
              "      <td>0.674602</td>\n",
              "    </tr>\n",
              "  </tbody>\n",
              "</table>\n",
              "</div>\n",
              "    <div class=\"colab-df-buttons\">\n",
              "\n",
              "  <div class=\"colab-df-container\">\n",
              "    <button class=\"colab-df-convert\" onclick=\"convertToInteractive('df-499b2084-9f62-4ccc-b75c-1e9c75505c46')\"\n",
              "            title=\"Convert this dataframe to an interactive table.\"\n",
              "            style=\"display:none;\">\n",
              "\n",
              "  <svg xmlns=\"http://www.w3.org/2000/svg\" height=\"24px\" viewBox=\"0 -960 960 960\">\n",
              "    <path d=\"M120-120v-720h720v720H120Zm60-500h600v-160H180v160Zm220 220h160v-160H400v160Zm0 220h160v-160H400v160ZM180-400h160v-160H180v160Zm440 0h160v-160H620v160ZM180-180h160v-160H180v160Zm440 0h160v-160H620v160Z\"/>\n",
              "  </svg>\n",
              "    </button>\n",
              "\n",
              "  <style>\n",
              "    .colab-df-container {\n",
              "      display:flex;\n",
              "      gap: 12px;\n",
              "    }\n",
              "\n",
              "    .colab-df-convert {\n",
              "      background-color: #E8F0FE;\n",
              "      border: none;\n",
              "      border-radius: 50%;\n",
              "      cursor: pointer;\n",
              "      display: none;\n",
              "      fill: #1967D2;\n",
              "      height: 32px;\n",
              "      padding: 0 0 0 0;\n",
              "      width: 32px;\n",
              "    }\n",
              "\n",
              "    .colab-df-convert:hover {\n",
              "      background-color: #E2EBFA;\n",
              "      box-shadow: 0px 1px 2px rgba(60, 64, 67, 0.3), 0px 1px 3px 1px rgba(60, 64, 67, 0.15);\n",
              "      fill: #174EA6;\n",
              "    }\n",
              "\n",
              "    .colab-df-buttons div {\n",
              "      margin-bottom: 4px;\n",
              "    }\n",
              "\n",
              "    [theme=dark] .colab-df-convert {\n",
              "      background-color: #3B4455;\n",
              "      fill: #D2E3FC;\n",
              "    }\n",
              "\n",
              "    [theme=dark] .colab-df-convert:hover {\n",
              "      background-color: #434B5C;\n",
              "      box-shadow: 0px 1px 3px 1px rgba(0, 0, 0, 0.15);\n",
              "      filter: drop-shadow(0px 1px 2px rgba(0, 0, 0, 0.3));\n",
              "      fill: #FFFFFF;\n",
              "    }\n",
              "  </style>\n",
              "\n",
              "    <script>\n",
              "      const buttonEl =\n",
              "        document.querySelector('#df-499b2084-9f62-4ccc-b75c-1e9c75505c46 button.colab-df-convert');\n",
              "      buttonEl.style.display =\n",
              "        google.colab.kernel.accessAllowed ? 'block' : 'none';\n",
              "\n",
              "      async function convertToInteractive(key) {\n",
              "        const element = document.querySelector('#df-499b2084-9f62-4ccc-b75c-1e9c75505c46');\n",
              "        const dataTable =\n",
              "          await google.colab.kernel.invokeFunction('convertToInteractive',\n",
              "                                                    [key], {});\n",
              "        if (!dataTable) return;\n",
              "\n",
              "        const docLinkHtml = 'Like what you see? Visit the ' +\n",
              "          '<a target=\"_blank\" href=https://colab.research.google.com/notebooks/data_table.ipynb>data table notebook</a>'\n",
              "          + ' to learn more about interactive tables.';\n",
              "        element.innerHTML = '';\n",
              "        dataTable['output_type'] = 'display_data';\n",
              "        await google.colab.output.renderOutput(dataTable, element);\n",
              "        const docLink = document.createElement('div');\n",
              "        docLink.innerHTML = docLinkHtml;\n",
              "        element.appendChild(docLink);\n",
              "      }\n",
              "    </script>\n",
              "  </div>\n",
              "\n",
              "\n",
              "<div id=\"df-ed212b13-ac36-4615-9860-58a08b653c9a\">\n",
              "  <button class=\"colab-df-quickchart\" onclick=\"quickchart('df-ed212b13-ac36-4615-9860-58a08b653c9a')\"\n",
              "            title=\"Suggest charts\"\n",
              "            style=\"display:none;\">\n",
              "\n",
              "<svg xmlns=\"http://www.w3.org/2000/svg\" height=\"24px\"viewBox=\"0 0 24 24\"\n",
              "     width=\"24px\">\n",
              "    <g>\n",
              "        <path d=\"M19 3H5c-1.1 0-2 .9-2 2v14c0 1.1.9 2 2 2h14c1.1 0 2-.9 2-2V5c0-1.1-.9-2-2-2zM9 17H7v-7h2v7zm4 0h-2V7h2v10zm4 0h-2v-4h2v4z\"/>\n",
              "    </g>\n",
              "</svg>\n",
              "  </button>\n",
              "\n",
              "<style>\n",
              "  .colab-df-quickchart {\n",
              "      --bg-color: #E8F0FE;\n",
              "      --fill-color: #1967D2;\n",
              "      --hover-bg-color: #E2EBFA;\n",
              "      --hover-fill-color: #174EA6;\n",
              "      --disabled-fill-color: #AAA;\n",
              "      --disabled-bg-color: #DDD;\n",
              "  }\n",
              "\n",
              "  [theme=dark] .colab-df-quickchart {\n",
              "      --bg-color: #3B4455;\n",
              "      --fill-color: #D2E3FC;\n",
              "      --hover-bg-color: #434B5C;\n",
              "      --hover-fill-color: #FFFFFF;\n",
              "      --disabled-bg-color: #3B4455;\n",
              "      --disabled-fill-color: #666;\n",
              "  }\n",
              "\n",
              "  .colab-df-quickchart {\n",
              "    background-color: var(--bg-color);\n",
              "    border: none;\n",
              "    border-radius: 50%;\n",
              "    cursor: pointer;\n",
              "    display: none;\n",
              "    fill: var(--fill-color);\n",
              "    height: 32px;\n",
              "    padding: 0;\n",
              "    width: 32px;\n",
              "  }\n",
              "\n",
              "  .colab-df-quickchart:hover {\n",
              "    background-color: var(--hover-bg-color);\n",
              "    box-shadow: 0 1px 2px rgba(60, 64, 67, 0.3), 0 1px 3px 1px rgba(60, 64, 67, 0.15);\n",
              "    fill: var(--button-hover-fill-color);\n",
              "  }\n",
              "\n",
              "  .colab-df-quickchart-complete:disabled,\n",
              "  .colab-df-quickchart-complete:disabled:hover {\n",
              "    background-color: var(--disabled-bg-color);\n",
              "    fill: var(--disabled-fill-color);\n",
              "    box-shadow: none;\n",
              "  }\n",
              "\n",
              "  .colab-df-spinner {\n",
              "    border: 2px solid var(--fill-color);\n",
              "    border-color: transparent;\n",
              "    border-bottom-color: var(--fill-color);\n",
              "    animation:\n",
              "      spin 1s steps(1) infinite;\n",
              "  }\n",
              "\n",
              "  @keyframes spin {\n",
              "    0% {\n",
              "      border-color: transparent;\n",
              "      border-bottom-color: var(--fill-color);\n",
              "      border-left-color: var(--fill-color);\n",
              "    }\n",
              "    20% {\n",
              "      border-color: transparent;\n",
              "      border-left-color: var(--fill-color);\n",
              "      border-top-color: var(--fill-color);\n",
              "    }\n",
              "    30% {\n",
              "      border-color: transparent;\n",
              "      border-left-color: var(--fill-color);\n",
              "      border-top-color: var(--fill-color);\n",
              "      border-right-color: var(--fill-color);\n",
              "    }\n",
              "    40% {\n",
              "      border-color: transparent;\n",
              "      border-right-color: var(--fill-color);\n",
              "      border-top-color: var(--fill-color);\n",
              "    }\n",
              "    60% {\n",
              "      border-color: transparent;\n",
              "      border-right-color: var(--fill-color);\n",
              "    }\n",
              "    80% {\n",
              "      border-color: transparent;\n",
              "      border-right-color: var(--fill-color);\n",
              "      border-bottom-color: var(--fill-color);\n",
              "    }\n",
              "    90% {\n",
              "      border-color: transparent;\n",
              "      border-bottom-color: var(--fill-color);\n",
              "    }\n",
              "  }\n",
              "</style>\n",
              "\n",
              "  <script>\n",
              "    async function quickchart(key) {\n",
              "      const quickchartButtonEl =\n",
              "        document.querySelector('#' + key + ' button');\n",
              "      quickchartButtonEl.disabled = true;  // To prevent multiple clicks.\n",
              "      quickchartButtonEl.classList.add('colab-df-spinner');\n",
              "      try {\n",
              "        const charts = await google.colab.kernel.invokeFunction(\n",
              "            'suggestCharts', [key], {});\n",
              "      } catch (error) {\n",
              "        console.error('Error during call to suggestCharts:', error);\n",
              "      }\n",
              "      quickchartButtonEl.classList.remove('colab-df-spinner');\n",
              "      quickchartButtonEl.classList.add('colab-df-quickchart-complete');\n",
              "    }\n",
              "    (() => {\n",
              "      let quickchartButtonEl =\n",
              "        document.querySelector('#df-ed212b13-ac36-4615-9860-58a08b653c9a button');\n",
              "      quickchartButtonEl.style.display =\n",
              "        google.colab.kernel.accessAllowed ? 'block' : 'none';\n",
              "    })();\n",
              "  </script>\n",
              "</div>\n",
              "\n",
              "    </div>\n",
              "  </div>\n"
            ],
            "application/vnd.google.colaboratory.intrinsic+json": {
              "type": "dataframe",
              "summary": "{\n  \"name\": \"table1_1=LLC\",\n  \"rows\": 16,\n  \"fields\": [\n    {\n      \"column\": \"Stage 1\",\n      \"properties\": {\n        \"dtype\": \"number\",\n        \"std\": 57.4001813693757,\n        \"min\": 0.7481566806387805,\n        \"max\": 176.4867899306268,\n        \"num_unique_values\": 14,\n        \"samples\": [\n          7.61305627629414,\n          29.37292617186088,\n          173.2\n        ],\n        \"semantic_type\": \"\",\n        \"description\": \"\"\n      }\n    },\n    {\n      \"column\": \"Stage 2\",\n      \"properties\": {\n        \"dtype\": \"number\",\n        \"std\": 59.11568272894676,\n        \"min\": 0.6011520180888008,\n        \"max\": 183.02897405480755,\n        \"num_unique_values\": 15,\n        \"samples\": [\n          6.879463672842793,\n          0.6011520180888008,\n          176.48726289764315\n        ],\n        \"semantic_type\": \"\",\n        \"description\": \"\"\n      }\n    },\n    {\n      \"column\": \"Stage 3\",\n      \"properties\": {\n        \"dtype\": \"number\",\n        \"std\": 61.98666712831717,\n        \"min\": 0.1,\n        \"max\": 193.44433042620525,\n        \"num_unique_values\": 16,\n        \"samples\": [\n          182.9134733292265,\n          6.882029758375242,\n          1.0\n        ],\n        \"semantic_type\": \"\",\n        \"description\": \"\"\n      }\n    }\n  ]\n}"
            }
          },
          "metadata": {}
        }
      ]
    },
    {
      "cell_type": "code",
      "source": [
        "# @markdown plots\n",
        "fig = make_subplots(rows=2, cols=2, subplot_titles=('H3PO4_org','water_org','solvent_aq','SO4_org'), column_widths=[0.5, 0.5], vertical_spacing=0.05,\n",
        "                     specs=[[{\"type\": \"scene\"}, {\"type\": \"scene\"}],[{\"type\": \"scene\"}, {\"type\": \"scene\"}]])\n",
        "\n",
        "# visib='legendonly'\n",
        "visib=True\n",
        "fig.add_trace(go.Scatter3d(x=x_mesh3[:,0], y=y_mesh3[:,0], z=mesh_predics1_1[:,0], mode='markers',marker_color='green', marker_size=0.5, name='Equilibrium surface', visible=visib),1,1)\n",
        "fig.add_trace(go.Scatter3d(x=x_mesh3[:,0], y=y_mesh3[:,0], z=mesh_predics1_2[:,0], mode='markers',marker_color='green', marker_size=0.5, name='Equilibrium surface', visible=visib),1,2)\n",
        "fig.add_trace(go.Scatter3d(x=x_mesh3[:,0], y=y_mesh3[:,0], z=mesh_predics1_3[:,0], mode='markers',marker_color='green', marker_size=0.5, name='Equilibrium surface', visible=visib),2,1)\n",
        "fig.add_trace(go.Scatter3d(x=x_mesh3[:,0], y=y_mesh3[:,0], z=mesh_predics1_4[:,0], mode='markers',marker_color='green', marker_size=0.5, name='Equilibrium surface', visible=visib),2,2)\n",
        "\n",
        "bat=bat1_1\n",
        "# n, row, col =[1,0,2], [1,1,2], [1,2,2] # H3PO4_org, water_org, SO4_org\n",
        "# for i in range(3):\n",
        "#   fig.add_trace(go.Scatter3d(x=bat.xout_list[:,1], y=bat.xout_list[:,2], z=bat.yout_list[:,n[i]], mode='markers', marker_color='blue', name='Efficiency'), row[i], col[i])\n",
        "#   x,y,z=np.concatenate((bat.xout_list[:,1], [bat.xin_list[-1,1]])),np.concatenate((bat.xout_list[:,2],[bat.xin_list[-1,2]])), np.concatenate((bat.yin_list[:,n[i]],[bat.yout_list[-1,n[i]]]))\n",
        "#   fig.add_trace(go.Scatter3d(x=x, y=y, z=z, mode = \"markers+lines+text\", text= ['({:.2f},{:.2f},{:.2f})'.format(a,b,c) for a,b,c in zip(x,y,z)], textposition ='bottom center', name='Operation', marker_color='green'),row[i],col[i])\n",
        "\n",
        "# H3PO4_org\n",
        "fig.add_trace(go.Scatter3d(x=bat.xout_list[:,1], y=bat.xout_list[:,2], z=bat.yout_list[:,1], mode='markers', marker_color='blue', name='Efficiency'), 1, 1)\n",
        "x,y,z=np.concatenate((bat.xout_list[:,1], [bat.xin_list[-1,1]])),np.concatenate((bat.xout_list[:,2],[bat.xin_list[-1,2]])), np.concatenate((bat.yin_list[:,1],[bat.yout_list[-1,1]]))\n",
        "fig.add_trace(go.Scatter3d(x=x, y=y, z=z, mode = \"markers+lines+text\", text= ['({:.2f},{:.2f},{:.2f})'.format(a,b,c) for a,b,c in zip(x,y,z)], textposition ='bottom center', name='Operation', marker_color='green'),1,1)\n",
        "# water_org\n",
        "fig.add_trace(go.Scatter3d(x=bat.xout_list[:,1], y=bat.xout_list[:,2], z=bat.yout_list[:,0], mode='markers', marker_color='blue', name='Efficiency'), 1, 2)\n",
        "x,y,z=np.concatenate((bat.xout_list[:,1], [bat.xin_list[-1,1]])),np.concatenate((bat.xout_list[:,2],[bat.xin_list[-1,2]])), np.concatenate((bat.yin_list[:,0],[bat.yout_list[-1,0]]))\n",
        "fig.add_trace(go.Scatter3d(x=x, y=y, z=z, mode = \"markers+lines+text\", text= ['({:.2f},{:.2f},{:.2f})'.format(a,b,c) for a,b,c in zip(x,y,z)], textposition ='bottom center', name='Operation', marker_color='green'),1,2)\n",
        "# SO4_org\n",
        "fig.add_trace(go.Scatter3d(x=bat.xout_list[:,1], y=bat.xout_list[:,2], z=bat.yout_list[:,2], mode='markers', marker_color='blue', name='Efficiency'), 2, 2)\n",
        "x,y,z=np.concatenate((bat.xout_list[:,1], [bat.xin_list[-1,1]])),np.concatenate((bat.xout_list[:,2],[bat.xin_list[-1,2]])), np.concatenate((bat.yin_list[:,2],[bat.yout_list[-1,2]]))\n",
        "fig.add_trace(go.Scatter3d(x=x, y=y, z=z, mode = \"markers+lines+text\", text= ['({:.2f},{:.2f},{:.2f})'.format(a,b,c) for a,b,c in zip(x,y,z)], textposition ='bottom center', name='Operation', marker_color='green'),2,2)\n",
        "\n",
        "# solvent_aq\n",
        "fig.add_trace(go.Scatter3d(x=bat.xout_list[:,1], y=bat.xout_list[:,2], z=bat.xout_list[:,0], mode='markers', marker_color='blue', name='Efficiency'), 2, 1)\n",
        "x,y,z=np.concatenate((bat.xout_list[:,1], [bat.xin_list[-1,1]])),np.concatenate((bat.xout_list[:,2],[bat.xin_list[-1,2]])), np.concatenate((bat.xout_list[:,0],[bat.xin_list[-1,0]])) # aqueous -- different operation line order\n",
        "fig.add_trace(go.Scatter3d(x=x, y=y, z=z, mode = \"markers+lines+text\", text= ['({:.2f},{:.2f},{:.2f})'.format(a,b,c) for a,b,c in zip(x,y,z)], textposition ='bottom center', name='Operation', marker_color='green'),2,1)\n",
        "\n",
        "\n",
        "fig.update_layout(title='', autosize=True,\n",
        "                  width=980, height=980,\n",
        "                  margin=dict(l=0, r=0, b=0, t=30),\n",
        "                  )\n",
        "\n",
        "fig.update_layout(\n",
        "    # scene1_zaxis_range=[0,10],\n",
        "    # scene2_zaxis_range=[10,14],\n",
        "    # scene3_zaxis_range=[0,3],\n",
        "    # scene4_zaxis_range=[0,.1],\n",
        "    )\n",
        "\n",
        "# fig.update_scenes(xaxis_title='H3PO4_aq', yaxis_title='SO4_aq', camera_eye=dict(x=1.5, y=-1.5, z=1.5))\n",
        "fig.update_scenes(xaxis_title='H3PO4_aq', yaxis_title='SO4_aq', camera_eye=dict(x=0, y=-2.2, z=0.01), aspectratio=dict(x=1, y=1, z=1))\n",
        "fig.update_scenes(camera_projection_type=\"orthographic\")\n",
        "\n",
        "fig.show()"
      ],
      "metadata": {
        "id": "rehwsaXioZ0S",
        "outputId": "c87f9406-c859-41c3-d74c-01be6545f242",
        "colab": {
          "base_uri": "https://localhost:8080/",
          "height": 1000
        }
      },
      "execution_count": 53,
      "outputs": [
        {
          "output_type": "display_data",
          "data": {
            "text/html": [
              "<html>\n",
              "<head><meta charset=\"utf-8\" /></head>\n",
              "<body>\n",
              "    <div>            <script src=\"https://cdnjs.cloudflare.com/ajax/libs/mathjax/2.7.5/MathJax.js?config=TeX-AMS-MML_SVG\"></script><script type=\"text/javascript\">if (window.MathJax && window.MathJax.Hub && window.MathJax.Hub.Config) {window.MathJax.Hub.Config({SVG: {font: \"STIX-Web\"}});}</script>                <script type=\"text/javascript\">window.PlotlyConfig = {MathJaxConfig: 'local'};</script>\n",
              "        <script charset=\"utf-8\" src=\"https://cdn.plot.ly/plotly-2.35.2.min.js\"></script>                <div id=\"3bb8adf0-221c-4573-a526-ca31db558a1f\" class=\"plotly-graph-div\" style=\"height:980px; width:980px;\"></div>            <script type=\"text/javascript\">                                    window.PLOTLYENV=window.PLOTLYENV || {};                                    if (document.getElementById(\"3bb8adf0-221c-4573-a526-ca31db558a1f\")) {                    Plotly.newPlot(                        \"3bb8adf0-221c-4573-a526-ca31db558a1f\",                        [{\"marker\":{\"color\":\"green\",\"size\":0.5},\"mode\":\"markers\",\"name\":\"Equilibrium surface\",\"visible\":true,\"x\":[0.0,2.3333333333333335,4.666666666666667,7.0,9.333333333333334,11.666666666666668,14.0,16.333333333333336,18.666666666666668,21.0,23.333333333333336,25.666666666666668,28.0,30.333333333333336,32.66666666666667,35.0,37.333333333333336,39.66666666666667,42.0,44.333333333333336,46.66666666666667,49.0,51.333333333333336,53.66666666666667,56.0,58.333333333333336,60.66666666666667,63.00000000000001,65.33333333333334,67.66666666666667,70.0,0.0,2.3333333333333335,4.666666666666667,7.0,9.333333333333334,11.666666666666668,14.0,16.333333333333336,18.666666666666668,21.0,23.333333333333336,25.666666666666668,28.0,30.333333333333336,32.66666666666667,35.0,37.333333333333336,39.66666666666667,42.0,44.333333333333336,46.66666666666667,49.0,51.333333333333336,53.66666666666667,56.0,58.333333333333336,60.66666666666667,63.00000000000001,65.33333333333334,67.66666666666667,70.0,0.0,2.3333333333333335,4.666666666666667,7.0,9.333333333333334,11.666666666666668,14.0,16.333333333333336,18.666666666666668,21.0,23.333333333333336,25.666666666666668,28.0,30.333333333333336,32.66666666666667,35.0,37.333333333333336,39.66666666666667,42.0,44.333333333333336,46.66666666666667,49.0,51.333333333333336,53.66666666666667,56.0,58.333333333333336,60.66666666666667,63.00000000000001,65.33333333333334,67.66666666666667,70.0,0.0,2.3333333333333335,4.666666666666667,7.0,9.333333333333334,11.666666666666668,14.0,16.333333333333336,18.666666666666668,21.0,23.333333333333336,25.666666666666668,28.0,30.333333333333336,32.66666666666667,35.0,37.333333333333336,39.66666666666667,42.0,44.333333333333336,46.66666666666667,49.0,51.333333333333336,53.66666666666667,56.0,58.333333333333336,60.66666666666667,63.00000000000001,65.33333333333334,67.66666666666667,70.0,0.0,2.3333333333333335,4.666666666666667,7.0,9.333333333333334,11.666666666666668,14.0,16.333333333333336,18.666666666666668,21.0,23.333333333333336,25.666666666666668,28.0,30.333333333333336,32.66666666666667,35.0,37.333333333333336,39.66666666666667,42.0,44.333333333333336,46.66666666666667,49.0,51.333333333333336,53.66666666666667,56.0,58.333333333333336,60.66666666666667,63.00000000000001,65.33333333333334,67.66666666666667,70.0,0.0,2.3333333333333335,4.666666666666667,7.0,9.333333333333334,11.666666666666668,14.0,16.333333333333336,18.666666666666668,21.0,23.333333333333336,25.666666666666668,28.0,30.333333333333336,32.66666666666667,35.0,37.333333333333336,39.66666666666667,42.0,44.333333333333336,46.66666666666667,49.0,51.333333333333336,53.66666666666667,56.0,58.333333333333336,60.66666666666667,63.00000000000001,65.33333333333334,67.66666666666667,70.0,0.0,2.3333333333333335,4.666666666666667,7.0,9.333333333333334,11.666666666666668,14.0,16.333333333333336,18.666666666666668,21.0,23.333333333333336,25.666666666666668,28.0,30.333333333333336,32.66666666666667,35.0,37.333333333333336,39.66666666666667,42.0,44.333333333333336,46.66666666666667,49.0,51.333333333333336,53.66666666666667,56.0,58.333333333333336,60.66666666666667,63.00000000000001,65.33333333333334,67.66666666666667,70.0,0.0,2.3333333333333335,4.666666666666667,7.0,9.333333333333334,11.666666666666668,14.0,16.333333333333336,18.666666666666668,21.0,23.333333333333336,25.666666666666668,28.0,30.333333333333336,32.66666666666667,35.0,37.333333333333336,39.66666666666667,42.0,44.333333333333336,46.66666666666667,49.0,51.333333333333336,53.66666666666667,56.0,58.333333333333336,60.66666666666667,63.00000000000001,65.33333333333334,67.66666666666667,70.0,0.0,2.3333333333333335,4.666666666666667,7.0,9.333333333333334,11.666666666666668,14.0,16.333333333333336,18.666666666666668,21.0,23.333333333333336,25.666666666666668,28.0,30.333333333333336,32.66666666666667,35.0,37.333333333333336,39.66666666666667,42.0,44.333333333333336,46.66666666666667,49.0,51.333333333333336,53.66666666666667,56.0,58.333333333333336,60.66666666666667,63.00000000000001,65.33333333333334,67.66666666666667,70.0,0.0,2.3333333333333335,4.666666666666667,7.0,9.333333333333334,11.666666666666668,14.0,16.333333333333336,18.666666666666668,21.0,23.333333333333336,25.666666666666668,28.0,30.333333333333336,32.66666666666667,35.0,37.333333333333336,39.66666666666667,42.0,44.333333333333336,46.66666666666667,49.0,51.333333333333336,53.66666666666667,56.0,58.333333333333336,60.66666666666667,63.00000000000001,65.33333333333334,67.66666666666667,70.0,0.0,2.3333333333333335,4.666666666666667,7.0,9.333333333333334,11.666666666666668,14.0,16.333333333333336,18.666666666666668,21.0,23.333333333333336,25.666666666666668,28.0,30.333333333333336,32.66666666666667,35.0,37.333333333333336,39.66666666666667,42.0,44.333333333333336,46.66666666666667,49.0,51.333333333333336,53.66666666666667,56.0,58.333333333333336,60.66666666666667,63.00000000000001,65.33333333333334,67.66666666666667,70.0,0.0,2.3333333333333335,4.666666666666667,7.0,9.333333333333334,11.666666666666668,14.0,16.333333333333336,18.666666666666668,21.0,23.333333333333336,25.666666666666668,28.0,30.333333333333336,32.66666666666667,35.0,37.333333333333336,39.66666666666667,42.0,44.333333333333336,46.66666666666667,49.0,51.333333333333336,53.66666666666667,56.0,58.333333333333336,60.66666666666667,63.00000000000001,65.33333333333334,67.66666666666667,70.0,0.0,2.3333333333333335,4.666666666666667,7.0,9.333333333333334,11.666666666666668,14.0,16.333333333333336,18.666666666666668,21.0,23.333333333333336,25.666666666666668,28.0,30.333333333333336,32.66666666666667,35.0,37.333333333333336,39.66666666666667,42.0,44.333333333333336,46.66666666666667,49.0,51.333333333333336,53.66666666666667,56.0,58.333333333333336,60.66666666666667,63.00000000000001,65.33333333333334,67.66666666666667,70.0,0.0,2.3333333333333335,4.666666666666667,7.0,9.333333333333334,11.666666666666668,14.0,16.333333333333336,18.666666666666668,21.0,23.333333333333336,25.666666666666668,28.0,30.333333333333336,32.66666666666667,35.0,37.333333333333336,39.66666666666667,42.0,44.333333333333336,46.66666666666667,49.0,51.333333333333336,53.66666666666667,56.0,58.333333333333336,60.66666666666667,63.00000000000001,65.33333333333334,67.66666666666667,70.0,0.0,2.3333333333333335,4.666666666666667,7.0,9.333333333333334,11.666666666666668,14.0,16.333333333333336,18.666666666666668,21.0,23.333333333333336,25.666666666666668,28.0,30.333333333333336,32.66666666666667,35.0,37.333333333333336,39.66666666666667,42.0,44.333333333333336,46.66666666666667,49.0,51.333333333333336,53.66666666666667,56.0,58.333333333333336,60.66666666666667,63.00000000000001,65.33333333333334,67.66666666666667,70.0,0.0,2.3333333333333335,4.666666666666667,7.0,9.333333333333334,11.666666666666668,14.0,16.333333333333336,18.666666666666668,21.0,23.333333333333336,25.666666666666668,28.0,30.333333333333336,32.66666666666667,35.0,37.333333333333336,39.66666666666667,42.0,44.333333333333336,46.66666666666667,49.0,51.333333333333336,53.66666666666667,56.0,58.333333333333336,60.66666666666667,63.00000000000001,65.33333333333334,67.66666666666667,70.0,0.0,2.3333333333333335,4.666666666666667,7.0,9.333333333333334,11.666666666666668,14.0,16.333333333333336,18.666666666666668,21.0,23.333333333333336,25.666666666666668,28.0,30.333333333333336,32.66666666666667,35.0,37.333333333333336,39.66666666666667,42.0,44.333333333333336,46.66666666666667,49.0,51.333333333333336,53.66666666666667,56.0,58.333333333333336,60.66666666666667,63.00000000000001,65.33333333333334,67.66666666666667,70.0,0.0,2.3333333333333335,4.666666666666667,7.0,9.333333333333334,11.666666666666668,14.0,16.333333333333336,18.666666666666668,21.0,23.333333333333336,25.666666666666668,28.0,30.333333333333336,32.66666666666667,35.0,37.333333333333336,39.66666666666667,42.0,44.333333333333336,46.66666666666667,49.0,51.333333333333336,53.66666666666667,56.0,58.333333333333336,60.66666666666667,63.00000000000001,65.33333333333334,67.66666666666667,70.0,0.0,2.3333333333333335,4.666666666666667,7.0,9.333333333333334,11.666666666666668,14.0,16.333333333333336,18.666666666666668,21.0,23.333333333333336,25.666666666666668,28.0,30.333333333333336,32.66666666666667,35.0,37.333333333333336,39.66666666666667,42.0,44.333333333333336,46.66666666666667,49.0,51.333333333333336,53.66666666666667,56.0,58.333333333333336,60.66666666666667,63.00000000000001,65.33333333333334,67.66666666666667,70.0,0.0,2.3333333333333335,4.666666666666667,7.0,9.333333333333334,11.666666666666668,14.0,16.333333333333336,18.666666666666668,21.0,23.333333333333336,25.666666666666668,28.0,30.333333333333336,32.66666666666667,35.0,37.333333333333336,39.66666666666667,42.0,44.333333333333336,46.66666666666667,49.0,51.333333333333336,53.66666666666667,56.0,58.333333333333336,60.66666666666667,63.00000000000001,65.33333333333334,67.66666666666667,70.0,0.0,2.3333333333333335,4.666666666666667,7.0,9.333333333333334,11.666666666666668,14.0,16.333333333333336,18.666666666666668,21.0,23.333333333333336,25.666666666666668,28.0,30.333333333333336,32.66666666666667,35.0,37.333333333333336,39.66666666666667,42.0,44.333333333333336,46.66666666666667,49.0,51.333333333333336,53.66666666666667,56.0,58.333333333333336,60.66666666666667,63.00000000000001,65.33333333333334,67.66666666666667,70.0,0.0,2.3333333333333335,4.666666666666667,7.0,9.333333333333334,11.666666666666668,14.0,16.333333333333336,18.666666666666668,21.0,23.333333333333336,25.666666666666668,28.0,30.333333333333336,32.66666666666667,35.0,37.333333333333336,39.66666666666667,42.0,44.333333333333336,46.66666666666667,49.0,51.333333333333336,53.66666666666667,56.0,58.333333333333336,60.66666666666667,63.00000000000001,65.33333333333334,67.66666666666667,70.0,0.0,2.3333333333333335,4.666666666666667,7.0,9.333333333333334,11.666666666666668,14.0,16.333333333333336,18.666666666666668,21.0,23.333333333333336,25.666666666666668,28.0,30.333333333333336,32.66666666666667,35.0,37.333333333333336,39.66666666666667,42.0,44.333333333333336,46.66666666666667,49.0,51.333333333333336,53.66666666666667,56.0,58.333333333333336,60.66666666666667,63.00000000000001,65.33333333333334,67.66666666666667,70.0,0.0,2.3333333333333335,4.666666666666667,7.0,9.333333333333334,11.666666666666668,14.0,16.333333333333336,18.666666666666668,21.0,23.333333333333336,25.666666666666668,28.0,30.333333333333336,32.66666666666667,35.0,37.333333333333336,39.66666666666667,42.0,44.333333333333336,46.66666666666667,49.0,51.333333333333336,53.66666666666667,56.0,58.333333333333336,60.66666666666667,63.00000000000001,65.33333333333334,67.66666666666667,70.0,0.0,2.3333333333333335,4.666666666666667,7.0,9.333333333333334,11.666666666666668,14.0,16.333333333333336,18.666666666666668,21.0,23.333333333333336,25.666666666666668,28.0,30.333333333333336,32.66666666666667,35.0,37.333333333333336,39.66666666666667,42.0,44.333333333333336,46.66666666666667,49.0,51.333333333333336,53.66666666666667,56.0,58.333333333333336,60.66666666666667,63.00000000000001,65.33333333333334,67.66666666666667,70.0,0.0,2.3333333333333335,4.666666666666667,7.0,9.333333333333334,11.666666666666668,14.0,16.333333333333336,18.666666666666668,21.0,23.333333333333336,25.666666666666668,28.0,30.333333333333336,32.66666666666667,35.0,37.333333333333336,39.66666666666667,42.0,44.333333333333336,46.66666666666667,49.0,51.333333333333336,53.66666666666667,56.0,58.333333333333336,60.66666666666667,63.00000000000001,65.33333333333334,67.66666666666667,70.0,0.0,2.3333333333333335,4.666666666666667,7.0,9.333333333333334,11.666666666666668,14.0,16.333333333333336,18.666666666666668,21.0,23.333333333333336,25.666666666666668,28.0,30.333333333333336,32.66666666666667,35.0,37.333333333333336,39.66666666666667,42.0,44.333333333333336,46.66666666666667,49.0,51.333333333333336,53.66666666666667,56.0,58.333333333333336,60.66666666666667,63.00000000000001,65.33333333333334,67.66666666666667,70.0,0.0,2.3333333333333335,4.666666666666667,7.0,9.333333333333334,11.666666666666668,14.0,16.333333333333336,18.666666666666668,21.0,23.333333333333336,25.666666666666668,28.0,30.333333333333336,32.66666666666667,35.0,37.333333333333336,39.66666666666667,42.0,44.333333333333336,46.66666666666667,49.0,51.333333333333336,53.66666666666667,56.0,58.333333333333336,60.66666666666667,63.00000000000001,65.33333333333334,67.66666666666667,70.0,0.0,2.3333333333333335,4.666666666666667,7.0,9.333333333333334,11.666666666666668,14.0,16.333333333333336,18.666666666666668,21.0,23.333333333333336,25.666666666666668,28.0,30.333333333333336,32.66666666666667,35.0,37.333333333333336,39.66666666666667,42.0,44.333333333333336,46.66666666666667,49.0,51.333333333333336,53.66666666666667,56.0,58.333333333333336,60.66666666666667,63.00000000000001,65.33333333333334,67.66666666666667,70.0,0.0,2.3333333333333335,4.666666666666667,7.0,9.333333333333334,11.666666666666668,14.0,16.333333333333336,18.666666666666668,21.0,23.333333333333336,25.666666666666668,28.0,30.333333333333336,32.66666666666667,35.0,37.333333333333336,39.66666666666667,42.0,44.333333333333336,46.66666666666667,49.0,51.333333333333336,53.66666666666667,56.0,58.333333333333336,60.66666666666667,63.00000000000001,65.33333333333334,67.66666666666667,70.0,0.0,2.3333333333333335,4.666666666666667,7.0,9.333333333333334,11.666666666666668,14.0,16.333333333333336,18.666666666666668,21.0,23.333333333333336,25.666666666666668,28.0,30.333333333333336,32.66666666666667,35.0,37.333333333333336,39.66666666666667,42.0,44.333333333333336,46.66666666666667,49.0,51.333333333333336,53.66666666666667,56.0,58.333333333333336,60.66666666666667,63.00000000000001,65.33333333333334,67.66666666666667,70.0],\"y\":[0.0,0.0,0.0,0.0,0.0,0.0,0.0,0.0,0.0,0.0,0.0,0.0,0.0,0.0,0.0,0.0,0.0,0.0,0.0,0.0,0.0,0.0,0.0,0.0,0.0,0.0,0.0,0.0,0.0,0.0,0.0,0.8333333333333334,0.8333333333333334,0.8333333333333334,0.8333333333333334,0.8333333333333334,0.8333333333333334,0.8333333333333334,0.8333333333333334,0.8333333333333334,0.8333333333333334,0.8333333333333334,0.8333333333333334,0.8333333333333334,0.8333333333333334,0.8333333333333334,0.8333333333333334,0.8333333333333334,0.8333333333333334,0.8333333333333334,0.8333333333333334,0.8333333333333334,0.8333333333333334,0.8333333333333334,0.8333333333333334,0.8333333333333334,0.8333333333333334,0.8333333333333334,0.8333333333333334,0.8333333333333334,0.8333333333333334,0.8333333333333334,1.6666666666666667,1.6666666666666667,1.6666666666666667,1.6666666666666667,1.6666666666666667,1.6666666666666667,1.6666666666666667,1.6666666666666667,1.6666666666666667,1.6666666666666667,1.6666666666666667,1.6666666666666667,1.6666666666666667,1.6666666666666667,1.6666666666666667,1.6666666666666667,1.6666666666666667,1.6666666666666667,1.6666666666666667,1.6666666666666667,1.6666666666666667,1.6666666666666667,1.6666666666666667,1.6666666666666667,1.6666666666666667,1.6666666666666667,1.6666666666666667,1.6666666666666667,1.6666666666666667,1.6666666666666667,1.6666666666666667,2.5,2.5,2.5,2.5,2.5,2.5,2.5,2.5,2.5,2.5,2.5,2.5,2.5,2.5,2.5,2.5,2.5,2.5,2.5,2.5,2.5,2.5,2.5,2.5,2.5,2.5,2.5,2.5,2.5,2.5,2.5,3.3333333333333335,3.3333333333333335,3.3333333333333335,3.3333333333333335,3.3333333333333335,3.3333333333333335,3.3333333333333335,3.3333333333333335,3.3333333333333335,3.3333333333333335,3.3333333333333335,3.3333333333333335,3.3333333333333335,3.3333333333333335,3.3333333333333335,3.3333333333333335,3.3333333333333335,3.3333333333333335,3.3333333333333335,3.3333333333333335,3.3333333333333335,3.3333333333333335,3.3333333333333335,3.3333333333333335,3.3333333333333335,3.3333333333333335,3.3333333333333335,3.3333333333333335,3.3333333333333335,3.3333333333333335,3.3333333333333335,4.166666666666667,4.166666666666667,4.166666666666667,4.166666666666667,4.166666666666667,4.166666666666667,4.166666666666667,4.166666666666667,4.166666666666667,4.166666666666667,4.166666666666667,4.166666666666667,4.166666666666667,4.166666666666667,4.166666666666667,4.166666666666667,4.166666666666667,4.166666666666667,4.166666666666667,4.166666666666667,4.166666666666667,4.166666666666667,4.166666666666667,4.166666666666667,4.166666666666667,4.166666666666667,4.166666666666667,4.166666666666667,4.166666666666667,4.166666666666667,4.166666666666667,5.0,5.0,5.0,5.0,5.0,5.0,5.0,5.0,5.0,5.0,5.0,5.0,5.0,5.0,5.0,5.0,5.0,5.0,5.0,5.0,5.0,5.0,5.0,5.0,5.0,5.0,5.0,5.0,5.0,5.0,5.0,5.833333333333334,5.833333333333334,5.833333333333334,5.833333333333334,5.833333333333334,5.833333333333334,5.833333333333334,5.833333333333334,5.833333333333334,5.833333333333334,5.833333333333334,5.833333333333334,5.833333333333334,5.833333333333334,5.833333333333334,5.833333333333334,5.833333333333334,5.833333333333334,5.833333333333334,5.833333333333334,5.833333333333334,5.833333333333334,5.833333333333334,5.833333333333334,5.833333333333334,5.833333333333334,5.833333333333334,5.833333333333334,5.833333333333334,5.833333333333334,5.833333333333334,6.666666666666667,6.666666666666667,6.666666666666667,6.666666666666667,6.666666666666667,6.666666666666667,6.666666666666667,6.666666666666667,6.666666666666667,6.666666666666667,6.666666666666667,6.666666666666667,6.666666666666667,6.666666666666667,6.666666666666667,6.666666666666667,6.666666666666667,6.666666666666667,6.666666666666667,6.666666666666667,6.666666666666667,6.666666666666667,6.666666666666667,6.666666666666667,6.666666666666667,6.666666666666667,6.666666666666667,6.666666666666667,6.666666666666667,6.666666666666667,6.666666666666667,7.5,7.5,7.5,7.5,7.5,7.5,7.5,7.5,7.5,7.5,7.5,7.5,7.5,7.5,7.5,7.5,7.5,7.5,7.5,7.5,7.5,7.5,7.5,7.5,7.5,7.5,7.5,7.5,7.5,7.5,7.5,8.333333333333334,8.333333333333334,8.333333333333334,8.333333333333334,8.333333333333334,8.333333333333334,8.333333333333334,8.333333333333334,8.333333333333334,8.333333333333334,8.333333333333334,8.333333333333334,8.333333333333334,8.333333333333334,8.333333333333334,8.333333333333334,8.333333333333334,8.333333333333334,8.333333333333334,8.333333333333334,8.333333333333334,8.333333333333334,8.333333333333334,8.333333333333334,8.333333333333334,8.333333333333334,8.333333333333334,8.333333333333334,8.333333333333334,8.333333333333334,8.333333333333334,9.166666666666668,9.166666666666668,9.166666666666668,9.166666666666668,9.166666666666668,9.166666666666668,9.166666666666668,9.166666666666668,9.166666666666668,9.166666666666668,9.166666666666668,9.166666666666668,9.166666666666668,9.166666666666668,9.166666666666668,9.166666666666668,9.166666666666668,9.166666666666668,9.166666666666668,9.166666666666668,9.166666666666668,9.166666666666668,9.166666666666668,9.166666666666668,9.166666666666668,9.166666666666668,9.166666666666668,9.166666666666668,9.166666666666668,9.166666666666668,9.166666666666668,10.0,10.0,10.0,10.0,10.0,10.0,10.0,10.0,10.0,10.0,10.0,10.0,10.0,10.0,10.0,10.0,10.0,10.0,10.0,10.0,10.0,10.0,10.0,10.0,10.0,10.0,10.0,10.0,10.0,10.0,10.0,10.833333333333334,10.833333333333334,10.833333333333334,10.833333333333334,10.833333333333334,10.833333333333334,10.833333333333334,10.833333333333334,10.833333333333334,10.833333333333334,10.833333333333334,10.833333333333334,10.833333333333334,10.833333333333334,10.833333333333334,10.833333333333334,10.833333333333334,10.833333333333334,10.833333333333334,10.833333333333334,10.833333333333334,10.833333333333334,10.833333333333334,10.833333333333334,10.833333333333334,10.833333333333334,10.833333333333334,10.833333333333334,10.833333333333334,10.833333333333334,10.833333333333334,11.666666666666668,11.666666666666668,11.666666666666668,11.666666666666668,11.666666666666668,11.666666666666668,11.666666666666668,11.666666666666668,11.666666666666668,11.666666666666668,11.666666666666668,11.666666666666668,11.666666666666668,11.666666666666668,11.666666666666668,11.666666666666668,11.666666666666668,11.666666666666668,11.666666666666668,11.666666666666668,11.666666666666668,11.666666666666668,11.666666666666668,11.666666666666668,11.666666666666668,11.666666666666668,11.666666666666668,11.666666666666668,11.666666666666668,11.666666666666668,11.666666666666668,12.5,12.5,12.5,12.5,12.5,12.5,12.5,12.5,12.5,12.5,12.5,12.5,12.5,12.5,12.5,12.5,12.5,12.5,12.5,12.5,12.5,12.5,12.5,12.5,12.5,12.5,12.5,12.5,12.5,12.5,12.5,13.333333333333334,13.333333333333334,13.333333333333334,13.333333333333334,13.333333333333334,13.333333333333334,13.333333333333334,13.333333333333334,13.333333333333334,13.333333333333334,13.333333333333334,13.333333333333334,13.333333333333334,13.333333333333334,13.333333333333334,13.333333333333334,13.333333333333334,13.333333333333334,13.333333333333334,13.333333333333334,13.333333333333334,13.333333333333334,13.333333333333334,13.333333333333334,13.333333333333334,13.333333333333334,13.333333333333334,13.333333333333334,13.333333333333334,13.333333333333334,13.333333333333334,14.166666666666668,14.166666666666668,14.166666666666668,14.166666666666668,14.166666666666668,14.166666666666668,14.166666666666668,14.166666666666668,14.166666666666668,14.166666666666668,14.166666666666668,14.166666666666668,14.166666666666668,14.166666666666668,14.166666666666668,14.166666666666668,14.166666666666668,14.166666666666668,14.166666666666668,14.166666666666668,14.166666666666668,14.166666666666668,14.166666666666668,14.166666666666668,14.166666666666668,14.166666666666668,14.166666666666668,14.166666666666668,14.166666666666668,14.166666666666668,14.166666666666668,15.0,15.0,15.0,15.0,15.0,15.0,15.0,15.0,15.0,15.0,15.0,15.0,15.0,15.0,15.0,15.0,15.0,15.0,15.0,15.0,15.0,15.0,15.0,15.0,15.0,15.0,15.0,15.0,15.0,15.0,15.0,15.833333333333334,15.833333333333334,15.833333333333334,15.833333333333334,15.833333333333334,15.833333333333334,15.833333333333334,15.833333333333334,15.833333333333334,15.833333333333334,15.833333333333334,15.833333333333334,15.833333333333334,15.833333333333334,15.833333333333334,15.833333333333334,15.833333333333334,15.833333333333334,15.833333333333334,15.833333333333334,15.833333333333334,15.833333333333334,15.833333333333334,15.833333333333334,15.833333333333334,15.833333333333334,15.833333333333334,15.833333333333334,15.833333333333334,15.833333333333334,15.833333333333334,16.666666666666668,16.666666666666668,16.666666666666668,16.666666666666668,16.666666666666668,16.666666666666668,16.666666666666668,16.666666666666668,16.666666666666668,16.666666666666668,16.666666666666668,16.666666666666668,16.666666666666668,16.666666666666668,16.666666666666668,16.666666666666668,16.666666666666668,16.666666666666668,16.666666666666668,16.666666666666668,16.666666666666668,16.666666666666668,16.666666666666668,16.666666666666668,16.666666666666668,16.666666666666668,16.666666666666668,16.666666666666668,16.666666666666668,16.666666666666668,16.666666666666668,17.5,17.5,17.5,17.5,17.5,17.5,17.5,17.5,17.5,17.5,17.5,17.5,17.5,17.5,17.5,17.5,17.5,17.5,17.5,17.5,17.5,17.5,17.5,17.5,17.5,17.5,17.5,17.5,17.5,17.5,17.5,18.333333333333336,18.333333333333336,18.333333333333336,18.333333333333336,18.333333333333336,18.333333333333336,18.333333333333336,18.333333333333336,18.333333333333336,18.333333333333336,18.333333333333336,18.333333333333336,18.333333333333336,18.333333333333336,18.333333333333336,18.333333333333336,18.333333333333336,18.333333333333336,18.333333333333336,18.333333333333336,18.333333333333336,18.333333333333336,18.333333333333336,18.333333333333336,18.333333333333336,18.333333333333336,18.333333333333336,18.333333333333336,18.333333333333336,18.333333333333336,18.333333333333336,19.166666666666668,19.166666666666668,19.166666666666668,19.166666666666668,19.166666666666668,19.166666666666668,19.166666666666668,19.166666666666668,19.166666666666668,19.166666666666668,19.166666666666668,19.166666666666668,19.166666666666668,19.166666666666668,19.166666666666668,19.166666666666668,19.166666666666668,19.166666666666668,19.166666666666668,19.166666666666668,19.166666666666668,19.166666666666668,19.166666666666668,19.166666666666668,19.166666666666668,19.166666666666668,19.166666666666668,19.166666666666668,19.166666666666668,19.166666666666668,19.166666666666668,20.0,20.0,20.0,20.0,20.0,20.0,20.0,20.0,20.0,20.0,20.0,20.0,20.0,20.0,20.0,20.0,20.0,20.0,20.0,20.0,20.0,20.0,20.0,20.0,20.0,20.0,20.0,20.0,20.0,20.0,20.0,20.833333333333336,20.833333333333336,20.833333333333336,20.833333333333336,20.833333333333336,20.833333333333336,20.833333333333336,20.833333333333336,20.833333333333336,20.833333333333336,20.833333333333336,20.833333333333336,20.833333333333336,20.833333333333336,20.833333333333336,20.833333333333336,20.833333333333336,20.833333333333336,20.833333333333336,20.833333333333336,20.833333333333336,20.833333333333336,20.833333333333336,20.833333333333336,20.833333333333336,20.833333333333336,20.833333333333336,20.833333333333336,20.833333333333336,20.833333333333336,20.833333333333336,21.666666666666668,21.666666666666668,21.666666666666668,21.666666666666668,21.666666666666668,21.666666666666668,21.666666666666668,21.666666666666668,21.666666666666668,21.666666666666668,21.666666666666668,21.666666666666668,21.666666666666668,21.666666666666668,21.666666666666668,21.666666666666668,21.666666666666668,21.666666666666668,21.666666666666668,21.666666666666668,21.666666666666668,21.666666666666668,21.666666666666668,21.666666666666668,21.666666666666668,21.666666666666668,21.666666666666668,21.666666666666668,21.666666666666668,21.666666666666668,21.666666666666668,22.5,22.5,22.5,22.5,22.5,22.5,22.5,22.5,22.5,22.5,22.5,22.5,22.5,22.5,22.5,22.5,22.5,22.5,22.5,22.5,22.5,22.5,22.5,22.5,22.5,22.5,22.5,22.5,22.5,22.5,22.5,23.333333333333336,23.333333333333336,23.333333333333336,23.333333333333336,23.333333333333336,23.333333333333336,23.333333333333336,23.333333333333336,23.333333333333336,23.333333333333336,23.333333333333336,23.333333333333336,23.333333333333336,23.333333333333336,23.333333333333336,23.333333333333336,23.333333333333336,23.333333333333336,23.333333333333336,23.333333333333336,23.333333333333336,23.333333333333336,23.333333333333336,23.333333333333336,23.333333333333336,23.333333333333336,23.333333333333336,23.333333333333336,23.333333333333336,23.333333333333336,23.333333333333336,24.166666666666668,24.166666666666668,24.166666666666668,24.166666666666668,24.166666666666668,24.166666666666668,24.166666666666668,24.166666666666668,24.166666666666668,24.166666666666668,24.166666666666668,24.166666666666668,24.166666666666668,24.166666666666668,24.166666666666668,24.166666666666668,24.166666666666668,24.166666666666668,24.166666666666668,24.166666666666668,24.166666666666668,24.166666666666668,24.166666666666668,24.166666666666668,24.166666666666668,24.166666666666668,24.166666666666668,24.166666666666668,24.166666666666668,24.166666666666668,24.166666666666668,25.0,25.0,25.0,25.0,25.0,25.0,25.0,25.0,25.0,25.0,25.0,25.0,25.0,25.0,25.0,25.0,25.0,25.0,25.0,25.0,25.0,25.0,25.0,25.0,25.0,25.0,25.0,25.0,25.0,25.0,25.0],\"z\":[0.19000500430440148,0.16903214013460932,0.14237774798958114,0.10850940470587389,0.06548548072311888,0.01084840002030063,0.05850838567900496,0.14650521577353892,0.2580788748417522,0.39942926026687964,0.578315586050941,0.8044055707855566,1.0896766089497678,1.4488597181945142,1.8999032157104718,2.4644113041073066,3.167980696022674,4.040314680776783,5.1149402133165225,6.428297662649262,8.017933855790913,9.919541458442898,12.16270092212603,14.765446381863535,17.728213186164055,21.028266716452652,24.616165792655863,28.415879486773356,32.32959014141301,36.246978899780586,40.05731453617863,0.18265398717642256,0.15968921145635306,0.13050532358139932,0.09342614784431191,0.04632868126236822,0.013472987971896444,0.08937205473664989,0.18564740276136682,0.30768219960989107,0.4622287320965217,0.6577244299312603,0.9046611857653719,1.2160043977708348,1.6076480699871922,2.098875750220552,2.712771678220509,3.476490109165969,4.421242790322584,5.581808517347708,6.9953161628473355,8.69902806152728,10.726894799650928,13.104817873256549,15.844887650695268,18.939354424873258,22.355629020639775,26.03395395110105,29.889226960994876,33.817605297987214,37.70712228923891,41.450157497797235,0.1746046428134722,0.14945938328866148,0.11750693753596408,0.07691412383347362,0.025359996493936166,0.0400903055759958,0.12314210556814409,0.22846406829600596,0.3619236124038778,0.5308706393000495,0.7444737069389866,1.0141090146085663,1.353795425755136,1.7806564849167899,2.3153707663525296,2.982542529780341,3.8108837862388647,4.833047090888293,6.084891705514843,7.603920117678696,9.426617738734112,11.584512249482326,14.098993490839302,16.97533130933647,20.196857634939317,23.72077913690929,27.477275893747095,31.373127792474673,35.30001019375692,39.14612489329109,42.80863116891334,0.16579082949517066,0.1382587836223177,0.10327632046597124,0.058838823135955565,0.002409394843747137,0.06921812907245162,0.16008875365007036,0.2752945719614157,0.4212278350274534,0.605884186356155,0.8392190721636243,1.1335554729158464,1.5040322543400428,1.96906766525926,2.5507894772371618,3.2753496736754446,4.172996313187973,5.277720422964789,6.626240706237976,8.256054410884818,10.202305598490927,12.493353051078063,15.145208502888895,18.15547283690503,21.497942287977505,25.119476622218855,28.940710710640275,32.86150841089229,36.77075580236658,40.55863366841042,44.12859123695539,0.15614018026639265,0.12599567238007303,0.08769727563523588,0.03905323816128359,0.022708845368761388,0.1010906608824147,0.20050664961144804,0.32650851255579205,0.4860567182166946,0.6878436992051604,0.9426702734175265,1.2638706499391592,1.6677705452891498,2.174145326086805,2.8066183088438397,3.592901349856387,4.564730444056686,5.757292563586989,7.207889448391387,8.953566102782414,11.027489118016879,13.454045734737434,16.24298920359035,19.38346227328649,22.83925993271724,26.546986830033223,30.4185174074001,34.34822152416416,38.22398312362257,41.9397050917327,45.40643351131848,0.14557352486047925,0.11256971595958021,0.07064277197325808,0.01739673485817228,0.05019753089903389,0.13596343968912272,0.2447169525392905,0.3825082043768493,0.5569121390329457,0.7773719181136762,1.0555947357255544,1.4059919518181712,1.8461423306113023,2.3972363723872725,3.084428882546023,3.9369844571423087,4.988047597290532,6.273812772357297,7.831827558839715,9.698166672484788,11.903314380718104,14.466839633509506,17.39136723225038,20.656885813298423,24.216909890728726,27.998135784107845,31.904722168954958,35.827147320354456,39.65411444601639,43.284866498805755,46.63911633654726,0.13400425950724681,0.09787119741328176,0.05197395829978291,0.006306171007436134,0.08027806199686616,0.17411518256743896,0.2930695518928239,0.4437313124927904,0.6343390542362428,0.8751434187694347,1.178821204450104,1.5609276678118178,2.0403589722156568,2.6397723987928163,3.3858767872522666,4.309458869334215,5.44495560293122,6.829328790514795,8.499969064066402,10.491390647578509,12.830628072861682,15.531558058946072,18.588845962003642,21.972759115274222,25.626469755721246,29.467378807976505,33.393213551752474,37.29229371184718,41.055935145190105,44.59016304939682,47.82416855544383,0.12133766024300563,0.08178015706444519,0.031539092738606556,0.03224713960659287,0.11319206134598048,0.2158497658135623,0.34594544299634755,0.5106536479419646,0.7189287028306204,0.9818881413339771,1.3132434050464479,1.7297603846523355,2.2517136900935633,2.903270330980602,3.712698892996574,4.712249528037686,5.937493381676259,7.425862059346339,9.21411711274162,11.334551100378906,13.80992875536004,16.64755488568384,19.83337551548526,23.327533860103443,27.063040868108303,30.948881227351194,34.87784243670505,38.7378921564843,42.42466361672552,45.85218973772649,48.95968408821945,0.10747013503395486,0.06416545804286145,0.009172381011826047,0.060635441742267204,0.14920313056289736,0.2614983507166482,0.4037592598928281,0.5837921214034107,0.8113219466767685,1.0983950000836078,1.4598236664665247,1.9136501582755638,2.481583516646234,3.189332002650632,4.066708933568695,5.147335993813341,6.467712253919178,8.06537899615247,9.975924885410798,12.228692717131606,14.841318784620643,17.81367646032145,21.122338347144314,24.71711867621061,28.52130825266938,32.436608804989284,36.35252329485209,40.15848585113682,43.75600759093611,47.06810855275813,50.04430462728992,0.092288409715227,0.04488377091380258,0.015307282955165036,0.0916995095172517,0.18859874113378083,0.3114216598292163,0.4669619677608381,0.663707850854955,0.912212732829154,1.2255155378336475,1.6195964425044256,2.1138373342888013,2.7314305117999176,3.499642436317668,4.449791064164813,5.6167391332167735,7.03765361165351,8.749758265164427,10.786853038322839,13.17454339385329,15.924458495488011,19.028230842377653,22.452547128854654,26.13691500401754,29.995613790681123,33.9244250162676,37.81133323972877,41.54900753451445,45.04620578526166,48.23565151163673,51.07719224901747,0.07566864243055704,0.023778471273864454,0.04209768091066124,0.1256886100472112,0.23169226634449913,0.3660124083228329,0.5360437150450235,0.7510094149747442,1.0223516549330949,1.3641675794110828,1.7936716507674308,2.3316448886232397,3.0028020490880856,3.83596657091503,4.86389108306693,6.122504627038867,7.649322742307459,9.480754109982,11.64812423890087,14.172465569308914,17.05852446161722,20.288966380408393,23.82025633949094,27.581867833906163,31.48004069981636,35.40619187556848,39.248605471752164,42.904844719445734,46.292054562579125,49.353110801911356,52.05799391343517,0.05747546094549527,0.0006784439082689886,0.0714147455963765,0.16287464921635753,0.27882516023029424,0.4256978936955935,0.6115368428388912,0.8463562394257291,1.1425495834597719,1.5153388268554746,1.9832377323678383,2.5684801379745643,3.297329957451497,4.200144155672067,5.311004996366929,6.666683008064222,8.304658674867877,10.259955974750959,12.560675585752822,15.222408757375817,18.242173791493567,21.59306150541658,25.22118849329879,29.046530550746102,32.968506769546664,36.8758708136,40.659014048761335,44.22189085134578,47.49091993189754,50.41931765531872,52.986799870577,0.03756091689820984,0.024603213145026004,0.10349415456806099,0.20355411226059417,0.3303692887911698,0.49094274535924853,0.6940190457829427,0.9504620975531886,1.2736813256067023,1.6800903256433468,2.1895643168106176,2.8258356460812983,3.6167282778668515,4.594082509536813,5.793164604538345,7.251305978648619,9.005500028289735,11.088744833077834,13.525109958252523,16.323864969470172,19.47351647844018,22.937127373518038,26.650575361680346,30.5251424020324,34.45486329832897,38.327620102743964,42.03764741403452,45.49658160528003,48.640735811046966,51.43361182990604,53.86409793462748,0.015763350759558037,0.05227059148406177,0.13859304957609098,0.24805014756944566,0.3867294176313347,0.5622518333925886,0.7841166746900559,1.064098700280871,1.416689265187129,1.8595597159247,2.4140043559330273,3.105289127012611,3.9627893691203813,5.01974683064528,6.312419802445482,7.878358823163441,9.753546982518865,11.968246863776596,14.541647597592197,17.475828901465942,20.75009777866162,24.3172246064701,28.103213876796005,32.0117164283015,35.93299634469708,39.75588553172512,43.380068735789536,46.72591623610853,49.739989940383836,52.39580370179276,54.69072544628919,0.008093838996634517,0.08254648918965835,0.17699188844626512,0.29671479948645185,0.4483458587200513,0.6401733329111892,0.8825081661542118,1.188099341953933,1.5725869206195302,2.0549641654469646,2.6579955682642424,3.408502121031093,4.337378074491641,5.479147733495291,6.870817313731937,8.549748821437287,10.550319664380378,12.899285355047393,15.610079466903578,18.67676487549127,22.068892425334845,25.728894869516274,29.57353569329728,33.500135107664626,37.396926767115744,41.15548142402978,44.68236180891823,47.907464538054114,50.78769917636335,53.306130975681896,55.46782054284155,0.03420352924638337,0.11567404870066511,0.21899643612678155,0.34993139500368287,0.5156972770636372,0.7253019369644669,0.9899275784017885,1.323362559389766,1.7424623450697236,2.2676028615000803,2.9230610110917965,3.737217193121044,4.742423642599125,5.974325695525014,7.4703756302158535,9.267269689723399,11.397113442954286,13.882331974096985,16.729724153086426,19.92458255212963,23.42631218890954,27.167207411153356,31.05568867570182,34.98425052026451,38.84090559942429,42.521659642016026,45.94116198637364,49.0393605151808,51.78337610061824,54.16521193339982,56.19677411705162,0.0627763150112699,0.1519185227498543,0.26493990110264143,0.4081170880334497,0.5893036556349571,0.8182822065122917,1.1071682054552117,1.4708557503005135,1.9274812767812293,2.4988589179074534,3.210808572302879,4.0932533800989575,5.179909083408825,6.507332113077832,8.113056000687191,10.032562227330002,12.294951858017855,14.917458794112694,17.899390235209623,21.216623342434428,24.818227863983438,28.6268200016645,32.54362792717903,36.457985572090664,40.25950158341847,43.85016487397506,47.15367229308282,50.12028428853324,52.72698896114969,54.97399697476243,56.879183590844036,0.09404206873573884,0.19156917522225747,0.31518522267459836,0.4717255633284232,0.6697294138327372,0.9198120407214194,1.2350862331427344,1.631618684394164,2.1288899295903914,2.7502005299903693,3.5229291483950202,4.478499590886946,5.651857637092178,7.08020670291577,8.800729414762241,10.847071530112306,13.244538153542392,16.004292707646293,19.117346130424067,22.549659236726583,26.240006213219075,30.102052990358676,34.0312134337601,37.915432754634246,41.647678133111604,45.13727521144263,48.3176654861406,51.14943405777757,53.61891693273179,55.73371998826201,57.51680937453635,0.128251623115883,0.23494132346012364,0.3701275136067732,0.5412499000331259,0.7575866709250274,1.0306462444172766,1.3746043904433431,1.8067668257130087,2.3480172935658103,3.0231811858826596,3.861193249888929,4.894905647975532,6.160316042145293,7.694951043311864,9.535139658854984,11.712001344495237,14.24620664520408,17.141974054279217,20.381299415846296,23.919905421577862,27.686561753479985,31.586974506784863,35.51231101238196,39.35094706299607,43.00085759705856,46.379827735131,49.43147332909466,52.12649009570622,54.45990256427321,56.445850842513025,58.111534640735954,0.16567858446818562,0.2823785279939113,0.4301966612994885,0.6172255921928915,0.8535386412475479,1.1516001618740326,1.5267155379460107,1.9974943680337809,2.586276793736058,3.3194387170992243,4.227445752018941,5.344470648714131,6.707334313426988,8.353498131981642,10.317862684249215,12.6282663726107,15.299875401596468,18.32912142813948,21.68838749497978,25.32304758165247,29.152422565680972,33.075494212894164,36.980893055653134,40.75923003715019,44.314971366247164,47.57522949111765,50.4939647258162,53.051572793366276,55.25100309473008,57.11205003242817,58.665328823021625,0.20662128340024744,0.3342549348783841,0.4958600888716447,0.7002337202198774,0.9583031422423112,1.283553337069094,1.6924861216840554,2.2050768663885076,2.845167131205283,3.6406929456444512,4.623598488703841,5.82922832567675,7.294941784267019,9.057677949892973,11.150262721196949,13.596443592053644,16.40500194478831,19.563804684150085,23.035181217504984,26.75428419559174,30.631808594728955,34.56146252238729,38.43113557831554,42.13540239883774,45.58649509148893,48.72145481470049,51.50451460389819,53.92519670941178,55.993542089313365,57.73412626246508,59.180215059055755,0.25140486913926985,0.3909777746999854,0.5676256752565845,0.7909042632033749,1.0726561895888231,1.4274531499064516,1.873059405155935,2.4308733270053295,3.126272106003386,3.988741660261754,5.051620373509856,6.351229099206346,7.925119233320927,9.809179162586812,12.033445794913778,14.616723910405408,17.560543855533766,20.843528109351237,24.417702668476558,28.208383464143356,32.11872023235823,36.03877188268113,39.85750828897895,43.47506338635468,46.81246897344174,49.81703041980238,52.46296555313765,54.74822243136134,56.68906259541123,58.31399751482053,59.65824163848848,0.30038355324392185,0.4529900208323667,0.6460448305318032,0.8899195369259143,1.197435645544882,1.5843183655724395,2.069658374885231,2.676327595355385,3.431259195388945,4.365454632100089,5.513524725153362,6.9125185459269325,8.599767009948597,10.609507264821852,12.96821154313784,15.688865718853394,18.76492627862166,22.16522555035911,25.831457825390537,29.67975379516304,33.60703439740415,37.50145659251373,41.25485481626224,44.7743355894752,47.99050372438222,50.86101000204786,53.36958422475736,55.521807852091,57.33928276098031,58.85365594116725,60.10145738817569,0.35394300751982044,0.520773207572029,0.7317157191091521,0.9980177363691087,1.333544877015438,1.755242519991798,2.28358819538572,2.9429688578110156,3.7618766358978313,4.772765361930269,6.011353480040415,7.515112058307287,9.320669194487955,11.459939678800376,13.955004490785605,16.812152121244647,20.01601834162925,23.525268980560476,27.27148416025598,31.1625260635973,35.09060489380141,38.94378771519265,42.618460775402326,46.02989480281467,49.11877333795202,51.85294030102588,54.225014401014334,56.247360224714825,57.94605461150759,59.355136737027806,60.5118908292861,0.4125029197201613,0.5948504063028697,0.8252866189890966,1.1159965542126216,1.4819563686500778,1.9413970481903338,2.5162380679528713,3.232411047142909,4.1199487334053995,5.212660239341307,6.547157993783917,8.160965545995722,10.089453983680755,12.361478546870128,14.993866191484162,17.985353772444263,21.31112040556748,24.919491551667377,28.73241257237604,32.65064521900089,36.563363574255206,40.360359936044574,43.94410802245565,47.23898509735872,50.19599621809128,52.79282063968584,55.03022847536295,56.9264901032375,58.51132645544682,59.82049100990861,60.89153287005742,0.4299341773041139,0.6168936836358618,0.8531195952263371,1.151072134769672,1.5260518234123008,1.9966626761390813,2.5852386444050612,3.318149114402665,4.225853387127161,5.342518970010126,6.704963878850685,8.350650674836615,10.314487207195787,12.624327249553176,15.295361856329384,18.324056920535348,21.68283671975407,25.31711841468315,29.14626086395052,33.06927106762285,36.97478646593972,40.753404983507764,44.309562874156896,47.570332145099115,50.48962984432242,53.0478122274891,55.24779725607179,57.10935752011254,58.66309558787884,59.94513448213955,60.993019307799884,0.4299341773041139,0.6168936836358618,0.8531195952263371,1.151072134769672,1.5260518234123008,1.9966626761390813,2.5852386444050612,3.318149114402665,4.225853387127161,5.342518970010126,6.704963878850685,8.350650674836615,10.314487207195787,12.624327249553176,15.295361856329384,18.324056920535348,21.68283671975407,25.31711841468315,29.14626086395052,33.06927106762285,36.97478646593972,40.753404983507764,44.309562874156896,47.570332145099115,50.48962984432242,53.0478122274891,55.24779725607179,57.10935752011254,58.66309558787884,59.94513448213955,60.993019307799884,0.4299341773041139,0.6168936836358618,0.8531195952263371,1.151072134769672,1.5260518234123008,1.9966626761390813,2.5852386444050612,3.318149114402665,4.225853387127161,5.342518970010126,6.704963878850685,8.350650674836615,10.314487207195787,12.624327249553176,15.295361856329384,18.324056920535348,21.68283671975407,25.31711841468315,29.14626086395052,33.06927106762285,36.97478646593972,40.753404983507764,44.309562874156896,47.570332145099115,50.48962984432242,53.0478122274891,55.24779725607179,57.10935752011254,58.66309558787884,59.94513448213955,60.993019307799884,0.4299341773041139,0.6168936836358618,0.8531195952263371,1.151072134769672,1.5260518234123008,1.9966626761390813,2.5852386444050612,3.318149114402665,4.225853387127161,5.342518970010126,6.704963878850685,8.350650674836615,10.314487207195787,12.624327249553176,15.295361856329384,18.324056920535348,21.68283671975407,25.31711841468315,29.14626086395052,33.06927106762285,36.97478646593972,40.753404983507764,44.309562874156896,47.570332145099115,50.48962984432242,53.0478122274891,55.24779725607179,57.10935752011254,58.66309558787884,59.94513448213955,60.993019307799884,0.4299341773041139,0.6168936836358618,0.8531195952263371,1.151072134769672,1.5260518234123008,1.9966626761390813,2.5852386444050612,3.318149114402665,4.225853387127161,5.342518970010126,6.704963878850685,8.350650674836615,10.314487207195787,12.624327249553176,15.295361856329384,18.324056920535348,21.68283671975407,25.31711841468315,29.14626086395052,33.06927106762285,36.97478646593972,40.753404983507764,44.309562874156896,47.570332145099115,50.48962984432242,53.0478122274891,55.24779725607179,57.10935752011254,58.66309558787884,59.94513448213955,60.993019307799884,0.4299341773041139,0.6168936836358618,0.8531195952263371,1.151072134769672,1.5260518234123008,1.9966626761390813,2.5852386444050612,3.318149114402665,4.225853387127161,5.342518970010126,6.704963878850685,8.350650674836615,10.314487207195787,12.624327249553176,15.295361856329384,18.324056920535348,21.68283671975407,25.31711841468315,29.14626086395052,33.06927106762285,36.97478646593972,40.753404983507764,44.309562874156896,47.570332145099115,50.48962984432242,53.0478122274891,55.24779725607179,57.10935752011254,58.66309558787884,59.94513448213955,60.993019307799884],\"type\":\"scatter3d\",\"scene\":\"scene\"},{\"marker\":{\"color\":\"green\",\"size\":0.5},\"mode\":\"markers\",\"name\":\"Equilibrium surface\",\"visible\":true,\"x\":[0.0,2.3333333333333335,4.666666666666667,7.0,9.333333333333334,11.666666666666668,14.0,16.333333333333336,18.666666666666668,21.0,23.333333333333336,25.666666666666668,28.0,30.333333333333336,32.66666666666667,35.0,37.333333333333336,39.66666666666667,42.0,44.333333333333336,46.66666666666667,49.0,51.333333333333336,53.66666666666667,56.0,58.333333333333336,60.66666666666667,63.00000000000001,65.33333333333334,67.66666666666667,70.0,0.0,2.3333333333333335,4.666666666666667,7.0,9.333333333333334,11.666666666666668,14.0,16.333333333333336,18.666666666666668,21.0,23.333333333333336,25.666666666666668,28.0,30.333333333333336,32.66666666666667,35.0,37.333333333333336,39.66666666666667,42.0,44.333333333333336,46.66666666666667,49.0,51.333333333333336,53.66666666666667,56.0,58.333333333333336,60.66666666666667,63.00000000000001,65.33333333333334,67.66666666666667,70.0,0.0,2.3333333333333335,4.666666666666667,7.0,9.333333333333334,11.666666666666668,14.0,16.333333333333336,18.666666666666668,21.0,23.333333333333336,25.666666666666668,28.0,30.333333333333336,32.66666666666667,35.0,37.333333333333336,39.66666666666667,42.0,44.333333333333336,46.66666666666667,49.0,51.333333333333336,53.66666666666667,56.0,58.333333333333336,60.66666666666667,63.00000000000001,65.33333333333334,67.66666666666667,70.0,0.0,2.3333333333333335,4.666666666666667,7.0,9.333333333333334,11.666666666666668,14.0,16.333333333333336,18.666666666666668,21.0,23.333333333333336,25.666666666666668,28.0,30.333333333333336,32.66666666666667,35.0,37.333333333333336,39.66666666666667,42.0,44.333333333333336,46.66666666666667,49.0,51.333333333333336,53.66666666666667,56.0,58.333333333333336,60.66666666666667,63.00000000000001,65.33333333333334,67.66666666666667,70.0,0.0,2.3333333333333335,4.666666666666667,7.0,9.333333333333334,11.666666666666668,14.0,16.333333333333336,18.666666666666668,21.0,23.333333333333336,25.666666666666668,28.0,30.333333333333336,32.66666666666667,35.0,37.333333333333336,39.66666666666667,42.0,44.333333333333336,46.66666666666667,49.0,51.333333333333336,53.66666666666667,56.0,58.333333333333336,60.66666666666667,63.00000000000001,65.33333333333334,67.66666666666667,70.0,0.0,2.3333333333333335,4.666666666666667,7.0,9.333333333333334,11.666666666666668,14.0,16.333333333333336,18.666666666666668,21.0,23.333333333333336,25.666666666666668,28.0,30.333333333333336,32.66666666666667,35.0,37.333333333333336,39.66666666666667,42.0,44.333333333333336,46.66666666666667,49.0,51.333333333333336,53.66666666666667,56.0,58.333333333333336,60.66666666666667,63.00000000000001,65.33333333333334,67.66666666666667,70.0,0.0,2.3333333333333335,4.666666666666667,7.0,9.333333333333334,11.666666666666668,14.0,16.333333333333336,18.666666666666668,21.0,23.333333333333336,25.666666666666668,28.0,30.333333333333336,32.66666666666667,35.0,37.333333333333336,39.66666666666667,42.0,44.333333333333336,46.66666666666667,49.0,51.333333333333336,53.66666666666667,56.0,58.333333333333336,60.66666666666667,63.00000000000001,65.33333333333334,67.66666666666667,70.0,0.0,2.3333333333333335,4.666666666666667,7.0,9.333333333333334,11.666666666666668,14.0,16.333333333333336,18.666666666666668,21.0,23.333333333333336,25.666666666666668,28.0,30.333333333333336,32.66666666666667,35.0,37.333333333333336,39.66666666666667,42.0,44.333333333333336,46.66666666666667,49.0,51.333333333333336,53.66666666666667,56.0,58.333333333333336,60.66666666666667,63.00000000000001,65.33333333333334,67.66666666666667,70.0,0.0,2.3333333333333335,4.666666666666667,7.0,9.333333333333334,11.666666666666668,14.0,16.333333333333336,18.666666666666668,21.0,23.333333333333336,25.666666666666668,28.0,30.333333333333336,32.66666666666667,35.0,37.333333333333336,39.66666666666667,42.0,44.333333333333336,46.66666666666667,49.0,51.333333333333336,53.66666666666667,56.0,58.333333333333336,60.66666666666667,63.00000000000001,65.33333333333334,67.66666666666667,70.0,0.0,2.3333333333333335,4.666666666666667,7.0,9.333333333333334,11.666666666666668,14.0,16.333333333333336,18.666666666666668,21.0,23.333333333333336,25.666666666666668,28.0,30.333333333333336,32.66666666666667,35.0,37.333333333333336,39.66666666666667,42.0,44.333333333333336,46.66666666666667,49.0,51.333333333333336,53.66666666666667,56.0,58.333333333333336,60.66666666666667,63.00000000000001,65.33333333333334,67.66666666666667,70.0,0.0,2.3333333333333335,4.666666666666667,7.0,9.333333333333334,11.666666666666668,14.0,16.333333333333336,18.666666666666668,21.0,23.333333333333336,25.666666666666668,28.0,30.333333333333336,32.66666666666667,35.0,37.333333333333336,39.66666666666667,42.0,44.333333333333336,46.66666666666667,49.0,51.333333333333336,53.66666666666667,56.0,58.333333333333336,60.66666666666667,63.00000000000001,65.33333333333334,67.66666666666667,70.0,0.0,2.3333333333333335,4.666666666666667,7.0,9.333333333333334,11.666666666666668,14.0,16.333333333333336,18.666666666666668,21.0,23.333333333333336,25.666666666666668,28.0,30.333333333333336,32.66666666666667,35.0,37.333333333333336,39.66666666666667,42.0,44.333333333333336,46.66666666666667,49.0,51.333333333333336,53.66666666666667,56.0,58.333333333333336,60.66666666666667,63.00000000000001,65.33333333333334,67.66666666666667,70.0,0.0,2.3333333333333335,4.666666666666667,7.0,9.333333333333334,11.666666666666668,14.0,16.333333333333336,18.666666666666668,21.0,23.333333333333336,25.666666666666668,28.0,30.333333333333336,32.66666666666667,35.0,37.333333333333336,39.66666666666667,42.0,44.333333333333336,46.66666666666667,49.0,51.333333333333336,53.66666666666667,56.0,58.333333333333336,60.66666666666667,63.00000000000001,65.33333333333334,67.66666666666667,70.0,0.0,2.3333333333333335,4.666666666666667,7.0,9.333333333333334,11.666666666666668,14.0,16.333333333333336,18.666666666666668,21.0,23.333333333333336,25.666666666666668,28.0,30.333333333333336,32.66666666666667,35.0,37.333333333333336,39.66666666666667,42.0,44.333333333333336,46.66666666666667,49.0,51.333333333333336,53.66666666666667,56.0,58.333333333333336,60.66666666666667,63.00000000000001,65.33333333333334,67.66666666666667,70.0,0.0,2.3333333333333335,4.666666666666667,7.0,9.333333333333334,11.666666666666668,14.0,16.333333333333336,18.666666666666668,21.0,23.333333333333336,25.666666666666668,28.0,30.333333333333336,32.66666666666667,35.0,37.333333333333336,39.66666666666667,42.0,44.333333333333336,46.66666666666667,49.0,51.333333333333336,53.66666666666667,56.0,58.333333333333336,60.66666666666667,63.00000000000001,65.33333333333334,67.66666666666667,70.0,0.0,2.3333333333333335,4.666666666666667,7.0,9.333333333333334,11.666666666666668,14.0,16.333333333333336,18.666666666666668,21.0,23.333333333333336,25.666666666666668,28.0,30.333333333333336,32.66666666666667,35.0,37.333333333333336,39.66666666666667,42.0,44.333333333333336,46.66666666666667,49.0,51.333333333333336,53.66666666666667,56.0,58.333333333333336,60.66666666666667,63.00000000000001,65.33333333333334,67.66666666666667,70.0,0.0,2.3333333333333335,4.666666666666667,7.0,9.333333333333334,11.666666666666668,14.0,16.333333333333336,18.666666666666668,21.0,23.333333333333336,25.666666666666668,28.0,30.333333333333336,32.66666666666667,35.0,37.333333333333336,39.66666666666667,42.0,44.333333333333336,46.66666666666667,49.0,51.333333333333336,53.66666666666667,56.0,58.333333333333336,60.66666666666667,63.00000000000001,65.33333333333334,67.66666666666667,70.0,0.0,2.3333333333333335,4.666666666666667,7.0,9.333333333333334,11.666666666666668,14.0,16.333333333333336,18.666666666666668,21.0,23.333333333333336,25.666666666666668,28.0,30.333333333333336,32.66666666666667,35.0,37.333333333333336,39.66666666666667,42.0,44.333333333333336,46.66666666666667,49.0,51.333333333333336,53.66666666666667,56.0,58.333333333333336,60.66666666666667,63.00000000000001,65.33333333333334,67.66666666666667,70.0,0.0,2.3333333333333335,4.666666666666667,7.0,9.333333333333334,11.666666666666668,14.0,16.333333333333336,18.666666666666668,21.0,23.333333333333336,25.666666666666668,28.0,30.333333333333336,32.66666666666667,35.0,37.333333333333336,39.66666666666667,42.0,44.333333333333336,46.66666666666667,49.0,51.333333333333336,53.66666666666667,56.0,58.333333333333336,60.66666666666667,63.00000000000001,65.33333333333334,67.66666666666667,70.0,0.0,2.3333333333333335,4.666666666666667,7.0,9.333333333333334,11.666666666666668,14.0,16.333333333333336,18.666666666666668,21.0,23.333333333333336,25.666666666666668,28.0,30.333333333333336,32.66666666666667,35.0,37.333333333333336,39.66666666666667,42.0,44.333333333333336,46.66666666666667,49.0,51.333333333333336,53.66666666666667,56.0,58.333333333333336,60.66666666666667,63.00000000000001,65.33333333333334,67.66666666666667,70.0,0.0,2.3333333333333335,4.666666666666667,7.0,9.333333333333334,11.666666666666668,14.0,16.333333333333336,18.666666666666668,21.0,23.333333333333336,25.666666666666668,28.0,30.333333333333336,32.66666666666667,35.0,37.333333333333336,39.66666666666667,42.0,44.333333333333336,46.66666666666667,49.0,51.333333333333336,53.66666666666667,56.0,58.333333333333336,60.66666666666667,63.00000000000001,65.33333333333334,67.66666666666667,70.0,0.0,2.3333333333333335,4.666666666666667,7.0,9.333333333333334,11.666666666666668,14.0,16.333333333333336,18.666666666666668,21.0,23.333333333333336,25.666666666666668,28.0,30.333333333333336,32.66666666666667,35.0,37.333333333333336,39.66666666666667,42.0,44.333333333333336,46.66666666666667,49.0,51.333333333333336,53.66666666666667,56.0,58.333333333333336,60.66666666666667,63.00000000000001,65.33333333333334,67.66666666666667,70.0,0.0,2.3333333333333335,4.666666666666667,7.0,9.333333333333334,11.666666666666668,14.0,16.333333333333336,18.666666666666668,21.0,23.333333333333336,25.666666666666668,28.0,30.333333333333336,32.66666666666667,35.0,37.333333333333336,39.66666666666667,42.0,44.333333333333336,46.66666666666667,49.0,51.333333333333336,53.66666666666667,56.0,58.333333333333336,60.66666666666667,63.00000000000001,65.33333333333334,67.66666666666667,70.0,0.0,2.3333333333333335,4.666666666666667,7.0,9.333333333333334,11.666666666666668,14.0,16.333333333333336,18.666666666666668,21.0,23.333333333333336,25.666666666666668,28.0,30.333333333333336,32.66666666666667,35.0,37.333333333333336,39.66666666666667,42.0,44.333333333333336,46.66666666666667,49.0,51.333333333333336,53.66666666666667,56.0,58.333333333333336,60.66666666666667,63.00000000000001,65.33333333333334,67.66666666666667,70.0,0.0,2.3333333333333335,4.666666666666667,7.0,9.333333333333334,11.666666666666668,14.0,16.333333333333336,18.666666666666668,21.0,23.333333333333336,25.666666666666668,28.0,30.333333333333336,32.66666666666667,35.0,37.333333333333336,39.66666666666667,42.0,44.333333333333336,46.66666666666667,49.0,51.333333333333336,53.66666666666667,56.0,58.333333333333336,60.66666666666667,63.00000000000001,65.33333333333334,67.66666666666667,70.0,0.0,2.3333333333333335,4.666666666666667,7.0,9.333333333333334,11.666666666666668,14.0,16.333333333333336,18.666666666666668,21.0,23.333333333333336,25.666666666666668,28.0,30.333333333333336,32.66666666666667,35.0,37.333333333333336,39.66666666666667,42.0,44.333333333333336,46.66666666666667,49.0,51.333333333333336,53.66666666666667,56.0,58.333333333333336,60.66666666666667,63.00000000000001,65.33333333333334,67.66666666666667,70.0,0.0,2.3333333333333335,4.666666666666667,7.0,9.333333333333334,11.666666666666668,14.0,16.333333333333336,18.666666666666668,21.0,23.333333333333336,25.666666666666668,28.0,30.333333333333336,32.66666666666667,35.0,37.333333333333336,39.66666666666667,42.0,44.333333333333336,46.66666666666667,49.0,51.333333333333336,53.66666666666667,56.0,58.333333333333336,60.66666666666667,63.00000000000001,65.33333333333334,67.66666666666667,70.0,0.0,2.3333333333333335,4.666666666666667,7.0,9.333333333333334,11.666666666666668,14.0,16.333333333333336,18.666666666666668,21.0,23.333333333333336,25.666666666666668,28.0,30.333333333333336,32.66666666666667,35.0,37.333333333333336,39.66666666666667,42.0,44.333333333333336,46.66666666666667,49.0,51.333333333333336,53.66666666666667,56.0,58.333333333333336,60.66666666666667,63.00000000000001,65.33333333333334,67.66666666666667,70.0,0.0,2.3333333333333335,4.666666666666667,7.0,9.333333333333334,11.666666666666668,14.0,16.333333333333336,18.666666666666668,21.0,23.333333333333336,25.666666666666668,28.0,30.333333333333336,32.66666666666667,35.0,37.333333333333336,39.66666666666667,42.0,44.333333333333336,46.66666666666667,49.0,51.333333333333336,53.66666666666667,56.0,58.333333333333336,60.66666666666667,63.00000000000001,65.33333333333334,67.66666666666667,70.0,0.0,2.3333333333333335,4.666666666666667,7.0,9.333333333333334,11.666666666666668,14.0,16.333333333333336,18.666666666666668,21.0,23.333333333333336,25.666666666666668,28.0,30.333333333333336,32.66666666666667,35.0,37.333333333333336,39.66666666666667,42.0,44.333333333333336,46.66666666666667,49.0,51.333333333333336,53.66666666666667,56.0,58.333333333333336,60.66666666666667,63.00000000000001,65.33333333333334,67.66666666666667,70.0,0.0,2.3333333333333335,4.666666666666667,7.0,9.333333333333334,11.666666666666668,14.0,16.333333333333336,18.666666666666668,21.0,23.333333333333336,25.666666666666668,28.0,30.333333333333336,32.66666666666667,35.0,37.333333333333336,39.66666666666667,42.0,44.333333333333336,46.66666666666667,49.0,51.333333333333336,53.66666666666667,56.0,58.333333333333336,60.66666666666667,63.00000000000001,65.33333333333334,67.66666666666667,70.0],\"y\":[0.0,0.0,0.0,0.0,0.0,0.0,0.0,0.0,0.0,0.0,0.0,0.0,0.0,0.0,0.0,0.0,0.0,0.0,0.0,0.0,0.0,0.0,0.0,0.0,0.0,0.0,0.0,0.0,0.0,0.0,0.0,0.8333333333333334,0.8333333333333334,0.8333333333333334,0.8333333333333334,0.8333333333333334,0.8333333333333334,0.8333333333333334,0.8333333333333334,0.8333333333333334,0.8333333333333334,0.8333333333333334,0.8333333333333334,0.8333333333333334,0.8333333333333334,0.8333333333333334,0.8333333333333334,0.8333333333333334,0.8333333333333334,0.8333333333333334,0.8333333333333334,0.8333333333333334,0.8333333333333334,0.8333333333333334,0.8333333333333334,0.8333333333333334,0.8333333333333334,0.8333333333333334,0.8333333333333334,0.8333333333333334,0.8333333333333334,0.8333333333333334,1.6666666666666667,1.6666666666666667,1.6666666666666667,1.6666666666666667,1.6666666666666667,1.6666666666666667,1.6666666666666667,1.6666666666666667,1.6666666666666667,1.6666666666666667,1.6666666666666667,1.6666666666666667,1.6666666666666667,1.6666666666666667,1.6666666666666667,1.6666666666666667,1.6666666666666667,1.6666666666666667,1.6666666666666667,1.6666666666666667,1.6666666666666667,1.6666666666666667,1.6666666666666667,1.6666666666666667,1.6666666666666667,1.6666666666666667,1.6666666666666667,1.6666666666666667,1.6666666666666667,1.6666666666666667,1.6666666666666667,2.5,2.5,2.5,2.5,2.5,2.5,2.5,2.5,2.5,2.5,2.5,2.5,2.5,2.5,2.5,2.5,2.5,2.5,2.5,2.5,2.5,2.5,2.5,2.5,2.5,2.5,2.5,2.5,2.5,2.5,2.5,3.3333333333333335,3.3333333333333335,3.3333333333333335,3.3333333333333335,3.3333333333333335,3.3333333333333335,3.3333333333333335,3.3333333333333335,3.3333333333333335,3.3333333333333335,3.3333333333333335,3.3333333333333335,3.3333333333333335,3.3333333333333335,3.3333333333333335,3.3333333333333335,3.3333333333333335,3.3333333333333335,3.3333333333333335,3.3333333333333335,3.3333333333333335,3.3333333333333335,3.3333333333333335,3.3333333333333335,3.3333333333333335,3.3333333333333335,3.3333333333333335,3.3333333333333335,3.3333333333333335,3.3333333333333335,3.3333333333333335,4.166666666666667,4.166666666666667,4.166666666666667,4.166666666666667,4.166666666666667,4.166666666666667,4.166666666666667,4.166666666666667,4.166666666666667,4.166666666666667,4.166666666666667,4.166666666666667,4.166666666666667,4.166666666666667,4.166666666666667,4.166666666666667,4.166666666666667,4.166666666666667,4.166666666666667,4.166666666666667,4.166666666666667,4.166666666666667,4.166666666666667,4.166666666666667,4.166666666666667,4.166666666666667,4.166666666666667,4.166666666666667,4.166666666666667,4.166666666666667,4.166666666666667,5.0,5.0,5.0,5.0,5.0,5.0,5.0,5.0,5.0,5.0,5.0,5.0,5.0,5.0,5.0,5.0,5.0,5.0,5.0,5.0,5.0,5.0,5.0,5.0,5.0,5.0,5.0,5.0,5.0,5.0,5.0,5.833333333333334,5.833333333333334,5.833333333333334,5.833333333333334,5.833333333333334,5.833333333333334,5.833333333333334,5.833333333333334,5.833333333333334,5.833333333333334,5.833333333333334,5.833333333333334,5.833333333333334,5.833333333333334,5.833333333333334,5.833333333333334,5.833333333333334,5.833333333333334,5.833333333333334,5.833333333333334,5.833333333333334,5.833333333333334,5.833333333333334,5.833333333333334,5.833333333333334,5.833333333333334,5.833333333333334,5.833333333333334,5.833333333333334,5.833333333333334,5.833333333333334,6.666666666666667,6.666666666666667,6.666666666666667,6.666666666666667,6.666666666666667,6.666666666666667,6.666666666666667,6.666666666666667,6.666666666666667,6.666666666666667,6.666666666666667,6.666666666666667,6.666666666666667,6.666666666666667,6.666666666666667,6.666666666666667,6.666666666666667,6.666666666666667,6.666666666666667,6.666666666666667,6.666666666666667,6.666666666666667,6.666666666666667,6.666666666666667,6.666666666666667,6.666666666666667,6.666666666666667,6.666666666666667,6.666666666666667,6.666666666666667,6.666666666666667,7.5,7.5,7.5,7.5,7.5,7.5,7.5,7.5,7.5,7.5,7.5,7.5,7.5,7.5,7.5,7.5,7.5,7.5,7.5,7.5,7.5,7.5,7.5,7.5,7.5,7.5,7.5,7.5,7.5,7.5,7.5,8.333333333333334,8.333333333333334,8.333333333333334,8.333333333333334,8.333333333333334,8.333333333333334,8.333333333333334,8.333333333333334,8.333333333333334,8.333333333333334,8.333333333333334,8.333333333333334,8.333333333333334,8.333333333333334,8.333333333333334,8.333333333333334,8.333333333333334,8.333333333333334,8.333333333333334,8.333333333333334,8.333333333333334,8.333333333333334,8.333333333333334,8.333333333333334,8.333333333333334,8.333333333333334,8.333333333333334,8.333333333333334,8.333333333333334,8.333333333333334,8.333333333333334,9.166666666666668,9.166666666666668,9.166666666666668,9.166666666666668,9.166666666666668,9.166666666666668,9.166666666666668,9.166666666666668,9.166666666666668,9.166666666666668,9.166666666666668,9.166666666666668,9.166666666666668,9.166666666666668,9.166666666666668,9.166666666666668,9.166666666666668,9.166666666666668,9.166666666666668,9.166666666666668,9.166666666666668,9.166666666666668,9.166666666666668,9.166666666666668,9.166666666666668,9.166666666666668,9.166666666666668,9.166666666666668,9.166666666666668,9.166666666666668,9.166666666666668,10.0,10.0,10.0,10.0,10.0,10.0,10.0,10.0,10.0,10.0,10.0,10.0,10.0,10.0,10.0,10.0,10.0,10.0,10.0,10.0,10.0,10.0,10.0,10.0,10.0,10.0,10.0,10.0,10.0,10.0,10.0,10.833333333333334,10.833333333333334,10.833333333333334,10.833333333333334,10.833333333333334,10.833333333333334,10.833333333333334,10.833333333333334,10.833333333333334,10.833333333333334,10.833333333333334,10.833333333333334,10.833333333333334,10.833333333333334,10.833333333333334,10.833333333333334,10.833333333333334,10.833333333333334,10.833333333333334,10.833333333333334,10.833333333333334,10.833333333333334,10.833333333333334,10.833333333333334,10.833333333333334,10.833333333333334,10.833333333333334,10.833333333333334,10.833333333333334,10.833333333333334,10.833333333333334,11.666666666666668,11.666666666666668,11.666666666666668,11.666666666666668,11.666666666666668,11.666666666666668,11.666666666666668,11.666666666666668,11.666666666666668,11.666666666666668,11.666666666666668,11.666666666666668,11.666666666666668,11.666666666666668,11.666666666666668,11.666666666666668,11.666666666666668,11.666666666666668,11.666666666666668,11.666666666666668,11.666666666666668,11.666666666666668,11.666666666666668,11.666666666666668,11.666666666666668,11.666666666666668,11.666666666666668,11.666666666666668,11.666666666666668,11.666666666666668,11.666666666666668,12.5,12.5,12.5,12.5,12.5,12.5,12.5,12.5,12.5,12.5,12.5,12.5,12.5,12.5,12.5,12.5,12.5,12.5,12.5,12.5,12.5,12.5,12.5,12.5,12.5,12.5,12.5,12.5,12.5,12.5,12.5,13.333333333333334,13.333333333333334,13.333333333333334,13.333333333333334,13.333333333333334,13.333333333333334,13.333333333333334,13.333333333333334,13.333333333333334,13.333333333333334,13.333333333333334,13.333333333333334,13.333333333333334,13.333333333333334,13.333333333333334,13.333333333333334,13.333333333333334,13.333333333333334,13.333333333333334,13.333333333333334,13.333333333333334,13.333333333333334,13.333333333333334,13.333333333333334,13.333333333333334,13.333333333333334,13.333333333333334,13.333333333333334,13.333333333333334,13.333333333333334,13.333333333333334,14.166666666666668,14.166666666666668,14.166666666666668,14.166666666666668,14.166666666666668,14.166666666666668,14.166666666666668,14.166666666666668,14.166666666666668,14.166666666666668,14.166666666666668,14.166666666666668,14.166666666666668,14.166666666666668,14.166666666666668,14.166666666666668,14.166666666666668,14.166666666666668,14.166666666666668,14.166666666666668,14.166666666666668,14.166666666666668,14.166666666666668,14.166666666666668,14.166666666666668,14.166666666666668,14.166666666666668,14.166666666666668,14.166666666666668,14.166666666666668,14.166666666666668,15.0,15.0,15.0,15.0,15.0,15.0,15.0,15.0,15.0,15.0,15.0,15.0,15.0,15.0,15.0,15.0,15.0,15.0,15.0,15.0,15.0,15.0,15.0,15.0,15.0,15.0,15.0,15.0,15.0,15.0,15.0,15.833333333333334,15.833333333333334,15.833333333333334,15.833333333333334,15.833333333333334,15.833333333333334,15.833333333333334,15.833333333333334,15.833333333333334,15.833333333333334,15.833333333333334,15.833333333333334,15.833333333333334,15.833333333333334,15.833333333333334,15.833333333333334,15.833333333333334,15.833333333333334,15.833333333333334,15.833333333333334,15.833333333333334,15.833333333333334,15.833333333333334,15.833333333333334,15.833333333333334,15.833333333333334,15.833333333333334,15.833333333333334,15.833333333333334,15.833333333333334,15.833333333333334,16.666666666666668,16.666666666666668,16.666666666666668,16.666666666666668,16.666666666666668,16.666666666666668,16.666666666666668,16.666666666666668,16.666666666666668,16.666666666666668,16.666666666666668,16.666666666666668,16.666666666666668,16.666666666666668,16.666666666666668,16.666666666666668,16.666666666666668,16.666666666666668,16.666666666666668,16.666666666666668,16.666666666666668,16.666666666666668,16.666666666666668,16.666666666666668,16.666666666666668,16.666666666666668,16.666666666666668,16.666666666666668,16.666666666666668,16.666666666666668,16.666666666666668,17.5,17.5,17.5,17.5,17.5,17.5,17.5,17.5,17.5,17.5,17.5,17.5,17.5,17.5,17.5,17.5,17.5,17.5,17.5,17.5,17.5,17.5,17.5,17.5,17.5,17.5,17.5,17.5,17.5,17.5,17.5,18.333333333333336,18.333333333333336,18.333333333333336,18.333333333333336,18.333333333333336,18.333333333333336,18.333333333333336,18.333333333333336,18.333333333333336,18.333333333333336,18.333333333333336,18.333333333333336,18.333333333333336,18.333333333333336,18.333333333333336,18.333333333333336,18.333333333333336,18.333333333333336,18.333333333333336,18.333333333333336,18.333333333333336,18.333333333333336,18.333333333333336,18.333333333333336,18.333333333333336,18.333333333333336,18.333333333333336,18.333333333333336,18.333333333333336,18.333333333333336,18.333333333333336,19.166666666666668,19.166666666666668,19.166666666666668,19.166666666666668,19.166666666666668,19.166666666666668,19.166666666666668,19.166666666666668,19.166666666666668,19.166666666666668,19.166666666666668,19.166666666666668,19.166666666666668,19.166666666666668,19.166666666666668,19.166666666666668,19.166666666666668,19.166666666666668,19.166666666666668,19.166666666666668,19.166666666666668,19.166666666666668,19.166666666666668,19.166666666666668,19.166666666666668,19.166666666666668,19.166666666666668,19.166666666666668,19.166666666666668,19.166666666666668,19.166666666666668,20.0,20.0,20.0,20.0,20.0,20.0,20.0,20.0,20.0,20.0,20.0,20.0,20.0,20.0,20.0,20.0,20.0,20.0,20.0,20.0,20.0,20.0,20.0,20.0,20.0,20.0,20.0,20.0,20.0,20.0,20.0,20.833333333333336,20.833333333333336,20.833333333333336,20.833333333333336,20.833333333333336,20.833333333333336,20.833333333333336,20.833333333333336,20.833333333333336,20.833333333333336,20.833333333333336,20.833333333333336,20.833333333333336,20.833333333333336,20.833333333333336,20.833333333333336,20.833333333333336,20.833333333333336,20.833333333333336,20.833333333333336,20.833333333333336,20.833333333333336,20.833333333333336,20.833333333333336,20.833333333333336,20.833333333333336,20.833333333333336,20.833333333333336,20.833333333333336,20.833333333333336,20.833333333333336,21.666666666666668,21.666666666666668,21.666666666666668,21.666666666666668,21.666666666666668,21.666666666666668,21.666666666666668,21.666666666666668,21.666666666666668,21.666666666666668,21.666666666666668,21.666666666666668,21.666666666666668,21.666666666666668,21.666666666666668,21.666666666666668,21.666666666666668,21.666666666666668,21.666666666666668,21.666666666666668,21.666666666666668,21.666666666666668,21.666666666666668,21.666666666666668,21.666666666666668,21.666666666666668,21.666666666666668,21.666666666666668,21.666666666666668,21.666666666666668,21.666666666666668,22.5,22.5,22.5,22.5,22.5,22.5,22.5,22.5,22.5,22.5,22.5,22.5,22.5,22.5,22.5,22.5,22.5,22.5,22.5,22.5,22.5,22.5,22.5,22.5,22.5,22.5,22.5,22.5,22.5,22.5,22.5,23.333333333333336,23.333333333333336,23.333333333333336,23.333333333333336,23.333333333333336,23.333333333333336,23.333333333333336,23.333333333333336,23.333333333333336,23.333333333333336,23.333333333333336,23.333333333333336,23.333333333333336,23.333333333333336,23.333333333333336,23.333333333333336,23.333333333333336,23.333333333333336,23.333333333333336,23.333333333333336,23.333333333333336,23.333333333333336,23.333333333333336,23.333333333333336,23.333333333333336,23.333333333333336,23.333333333333336,23.333333333333336,23.333333333333336,23.333333333333336,23.333333333333336,24.166666666666668,24.166666666666668,24.166666666666668,24.166666666666668,24.166666666666668,24.166666666666668,24.166666666666668,24.166666666666668,24.166666666666668,24.166666666666668,24.166666666666668,24.166666666666668,24.166666666666668,24.166666666666668,24.166666666666668,24.166666666666668,24.166666666666668,24.166666666666668,24.166666666666668,24.166666666666668,24.166666666666668,24.166666666666668,24.166666666666668,24.166666666666668,24.166666666666668,24.166666666666668,24.166666666666668,24.166666666666668,24.166666666666668,24.166666666666668,24.166666666666668,25.0,25.0,25.0,25.0,25.0,25.0,25.0,25.0,25.0,25.0,25.0,25.0,25.0,25.0,25.0,25.0,25.0,25.0,25.0,25.0,25.0,25.0,25.0,25.0,25.0,25.0,25.0,25.0,25.0,25.0,25.0],\"z\":[5.214211033088409,5.214233100366512,5.2142664473455405,5.214316859762466,5.214393123042409,5.214508628201958,5.214683916872822,5.214950835028421,5.215359609445507,5.215991615466339,5.216984046071107,5.218581101674422,5.221247259354195,5.225930609582665,5.234693783354623,5.25223294735025,5.289395631518655,5.370219622135844,5.53991999169575,5.8495604717742715,6.278732736809987,6.699633886561362,7.0263651522247725,7.2900285856380656,7.555306130245492,7.867782343471273,8.248639831446242,8.696898629109914,9.190937544399251,9.694002536414612,10.165718045385297,5.214227460549903,5.2142579139820695,5.214303931596708,5.214373493505999,5.214478712106411,5.214638036441357,5.214879733848412,5.215247543374403,5.215810238132798,5.216678720605961,5.218038712732548,5.2202178999507804,5.2238331729083765,5.230130334519897,5.241791713222937,5.264857437334769,5.313055857161239,5.415806961364565,5.62399549531498,5.980702892121791,6.434805772580842,6.852451785233222,7.181748765365649,7.472269910349093,7.78512778716002,8.155768781743987,8.592590857857578,9.080205706813054,9.585154073434195,10.066998920799923,10.49173091441277,5.214250131901826,5.214292158494657,5.214355661280285,5.214451647240925,5.214596816290605,5.214816587809105,5.215149865363731,5.215656735516543,5.216431398950566,5.2176250798303965,5.219489380276746,5.222464401268293,5.227370173934062,5.2358446711120585,5.251375880053075,5.281721150189033,5.344172148885825,5.474263598364228,5.727130919340985,6.131404739114625,6.605387045208672,7.022905099499274,7.366237001105166,7.695016163999196,8.062006099886652,8.489156616160955,8.969698516335145,9.474929570913371,9.965392703250089,10.40490610116732,10.77113752805153,5.21428142031229,5.214339418165297,5.214427049916664,5.214559497668381,5.2147597868701485,5.215062942331167,5.215522510599817,5.216221048479543,5.217287619465973,5.218928514006227,5.221484779265625,5.225547901875435,5.23220864043566,5.243621258986911,5.264319319909444,5.304244149681165,5.385039300124765,5.548899959047775,5.852568956674442,6.30345451713772,6.793998245256014,7.2179975721020515,7.587277274370226,7.963047262680584,8.385101322973195,8.859140251279118,9.363490419032097,9.861102648882994,10.314438508244576,10.697810918080823,11.001987548232378,5.214324600862515,5.21440463929915,5.214525567874256,5.214708327430843,5.214984664980547,5.215402841116415,5.216036559678044,5.216999260120389,5.218467798446829,5.220723654838487,5.224229287230191,5.2297799713350015,5.238827014750685,5.2542034324854985,5.2817958106265355,5.334304893837889,5.438598120438406,5.643683482456694,6.003805397598288,6.4992749635946945,7.00567414647122,7.445115914531593,7.850698593893753,8.277170947422448,8.747532709760618,9.25073222089727,9.754260066211122,10.220410547834614,10.620587926248538,10.942151150762527,11.187015552828775,5.214384193240266,5.214494647661299,5.214661523474817,5.214913704034835,5.215294960400781,5.215871788977664,5.216745636661429,5.218072376487552,5.220094358719882,5.223195680372043,5.22800348598332,5.2355871060903425,5.247877272210413,5.268597078869988,5.305376172022864,5.374369594681937,5.508566983216405,5.763259165388442,6.1845760317214005,6.7221508776309795,7.246455735659163,7.710711154443449,8.158898215625449,8.632480127879491,9.136001909756937,9.644811256129888,10.122861521563863,10.539432846335703,10.878570071630321,11.139539261121918,11.33174099196901,5.214466434574597,5.214618862291228,5.214849140369903,5.2151971054375315,5.215723103131987,5.216518749100388,5.217723661847746,5.219551993033297,5.22233578767042,5.226599062712777,5.233192057109374,5.243551952488861,5.2602452166483,5.28815733466572,5.337148423141961,5.427641261657209,5.599559634861105,5.912897771487522,6.398814622742075,6.97615868750831,7.522288705526697,8.01849864548188,8.508973185264527,9.017555026273737,9.532295171989276,10.021701809692738,10.454279297067401,10.811122456312127,11.088725745705897,11.294902771969774,11.442796247405749,5.214579931771153,5.2147902801200345,5.215108043234597,5.2155881607777115,5.216313820538403,5.217411227675694,5.219072495421529,5.221591758885836,5.225423773349371,5.231283052736813,5.240321398385079,5.254468206678355,5.277129219322019,5.314698230537871,5.379861272838346,5.49821584322221,5.717149724099274,6.098319601510768,6.650487724775789,7.265567967600044,7.837323533227469,8.367470989590732,8.89155428730946,9.415411510033794,9.916540524242649,10.364965620940023,10.739658513601222,11.034407242539817,11.255249495714324,11.41470363227793,11.526769331395082,5.214736561370616,5.2150268338510095,5.215465305900816,5.216127737601597,5.217128786229437,5.218642263997561,5.2209324244047695,5.22440305738396,5.229676532951501,5.2377261243908775,5.250109899034472,5.269412711538976,5.3001407421396864,5.350626138682809,5.4370833975728345,5.591216067636918,5.867814518395795,6.325317394384547,6.94314640392175,7.5935747478479785,8.191856589427253,8.750391672984017,9.291207252007442,9.806345447295682,10.27110229516521,10.663951429533586,10.976387426125115,11.212601534042514,11.384330500345946,11.50562768547548,11.589560461621495,5.21495271062105,5.215353264081919,5.215958273658773,5.2168721926469335,5.218253013383794,5.22034002596937,5.223496518407523,5.228276380388516,5.235530405307684,5.246582152017895,5.2635342822797675,5.289838216252907,5.331428343588329,5.399092389781787,5.513357393974084,5.712846309499792,6.058655447180535,6.59907988355616,7.279022590946141,7.960469116629166,8.580511585669099,9.153651391775986,9.688790351244755,10.171806171399343,10.58359515450544,10.914403372517086,11.166750437991027,11.351507762000868,11.48269275391689,11.57380767649163,11.636122314576742,5.215250988709982,5.215803699418826,5.21663845007693,5.217899219538849,5.219803635287093,5.2226809552407305,5.22703022027587,5.233610324895851,5.2435823197789055,5.258741604535109,5.281915542087942,5.3176891042391095,5.3738225254730425,5.464149337125214,5.614304041913635,5.870273527261803,6.296763423579053,6.923125543891701,7.657624379609103,8.361724798175374,8.991544579585462,9.559070964817066,10.0651817178517,10.497797092837748,10.84804606610992,11.117428902983217,11.316038845322971,11.457817436417841,11.556675265260873,11.624471679077281,11.67043623841047,5.215662585434565,5.216425210425729,5.217576845523803,5.21931588344533,5.2219419419709325,5.22590772393619,5.231897964354362,5.24095066649541,5.254646289258499,5.275411293450496,5.307027233509249,5.355538984907086,5.430989623719043,5.550874397899639,5.746597652240784,6.071197531906625,6.588102781942249,7.29784775843494,8.074100914136867,8.786868112144676,9.408017031909353,9.947353592207824,10.404967996805581,10.776598241951167,11.064248336540267,11.27767571018881,11.430829891172664,11.53804174574729,11.611776543456674,11.66186674080938,11.695608672152598,5.216230520677454,5.217282701353971,5.2188713288403745,5.22126964180175,5.224889837672346,5.230353667020712,5.238599122795842,5.2510425121597395,5.269827430821623,5.298215763619685,5.341226242544554,5.406741506772562,5.5075660783243325,5.665395650034832,5.917690622710799,6.322953540114464,6.935881736662408,7.718902042900378,8.518059345243886,9.220009164249442,9.81082867237204,10.301940576945402,10.698710748639625,11.006571476797841,11.236069489323091,11.401514319227559,11.517764383628485,11.597940089370573,11.652515672954662,11.68933089413069,11.714013120529454,5.217014118097829,5.21846563632872,5.220656716696668,5.223963425149444,5.228952261564745,5.236475841149421,5.247816130971884,5.264898966497504,5.290616827023461,5.329321432702535,5.387600010582493,5.475571380083875,5.609216951012954,5.81471191540874,6.13513292280269,6.631041716151449,7.3386128449172,8.176003496507631,8.973718015737344,9.642324651047522,10.182586743361526,10.611776053275676,10.943256968775255,11.19067010123115,11.369571844570011,11.495663830781385,11.582847879351236,11.64230776029148,11.682473256664155,11.709427782477317,11.727436274286266,5.218095158495484,5.220097274823983,5.223118590266441,5.227676205971207,5.234547578317036,5.244899406258381,5.260478128207238,5.283889759925161,5.3190090992760695,5.3715796264774,5.450112037541133,5.5673083533721766,5.742524348236635,6.006162784443506,6.405352081560073,6.99716756345793,7.788427395881023,8.652935464654385,9.42191414206742,10.035757967757059,10.510782716293305,10.872159392619283,11.140524605471231,11.33454130204194,11.471493139855134,11.566355630812184,11.631153492752254,11.674978242656104,11.7044148936675,11.724094332648662,11.737208844004577,5.219586332537593,5.222347327607615,5.226512159467404,5.23279092372135,5.242248479127076,5.25647654659466,5.277843624716699,5.309852292274609,5.3576406244854065,5.428674474891694,5.533706276997897,5.688181426262322,5.914571210359519,6.2464039965988984,6.731895100723916,7.417225846666606,8.270508881462455,9.129356443332366,9.843555296541481,10.386467950392568,10.789192744563007,11.083879520993516,11.295640104555176,11.444875287623487,11.54826472829707,11.618939441635217,11.666777041859142,11.698931038131285,11.720438552723108,11.73477695499038,11.744314380025635,5.2216428312279515,5.2254492525563565,5.23118791100576,5.239832152405429,5.252836474810988,5.27236344556041,5.301605075626713,5.345224468677239,5.4099378769046815,5.505243254950913,5.644298599613176,5.845049328749997,6.132071112068302,6.539839869854678,7.113430039354814,7.880043768358535,8.764411544414056,9.58420045422914,10.223213991761511,10.686732474012125,11.01742254461136,11.251448805500804,11.415177721441278,11.528273014495106,11.605508958912385,11.657781914795645,11.692923954323573,11.716436441002106,11.732115440354313,11.742546743416344,11.749475848564842,5.224478199265847,5.229723801323859,5.2376262753184495,5.24951644667958,5.267373452238617,5.294118493829426,5.334015892632478,5.39319176698633,5.480249604265888,5.60690750763518,5.788542635224703,6.04466740206347,6.3999581089762545,6.886713353236471,7.542192403108103,8.367795468537441,9.247311473804912,9.999525642584317,10.551455910978559,10.934934641264235,11.1993016611346,11.381262798253715,11.50587602844966,11.590623483828274,11.647871018483583,11.68632653404132,11.71204863537849,11.729200124617229,11.740611486336594,11.748192090661494,11.753222564478033,5.228385943881064,5.235610905042891,5.246484096482259,5.262818758652346,5.2872936662868195,5.323823165903068,5.378034793113637,5.4578275660938695,5.573910487409867,5.740113903875602,5.973223705966408,6.292426310608041,6.719554806913204,7.281428350709251,8.003775413557555,8.858489614677788,9.698199917623587,10.363335567094445,10.825257180279234,11.134170050257245,11.34100083842161,11.480170026429658,11.57388490982866,11.636858030454885,11.67904491696172,11.707224201086184,11.726001529445268,11.738490694374292,11.746786176718507,11.752290783696104,11.755940951599428,5.233768845744574,5.243712528344611,5.258656191020643,5.281058404306499,5.314518296712115,5.364222489963899,5.437471091780612,5.544182818600914,5.697146893079848,5.911645464451285,6.204146723061956,6.59060842493315,7.086788345269054,7.7119685399483355,8.47885466568357,9.32991719091906,10.101438441488568,10.670488519359289,11.046847096199267,11.290357545500342,11.449464734844273,11.554580428465494,11.624431207085122,11.670934676440766,11.701891304605283,11.722481193010697,11.736162374108275,11.745244867282654,11.751270083874253,11.755264934989873,11.757912532187957,5.24117844627324,5.254849651599054,5.27535551233475,5.306007227135073,5.35159114204804,5.418872613098611,5.517094547474615,5.658246936253779,5.856694582431035,6.127657667583754,6.48450335130154,6.936525476719057,7.491269368694165,8.161128901463776,8.946554209737766,9.763604888137774,10.448469694170639,10.921820699488421,11.221828656263515,11.410545069131361,11.531375727928266,11.610031381728511,11.661753034777336,11.695938563465612,11.71858437277308,11.73359757681469,11.74355179219967,11.750150696982072,11.754524245760011,11.757422226666147,11.759342096745907,5.251367731482841,5.270136881400797,5.298214940544146,5.340019853704624,5.4018262400007835,5.492265715835959,5.62264226789679,5.806660503592387,6.058978446423327,6.392176720045081,6.812980007284472,7.321276694810991,7.917054447176991,8.60951505696871,9.388233601641323,10.147344621165486,10.737498686609067,11.122287360245236,11.357354121645045,11.50172236543063,11.592609624382888,11.651063065198626,11.689177611480059,11.714225450917322,11.730754693274111,11.741685204716964,11.748920454953915,11.753711683997848,11.756884909576687,11.758986563309595,11.760378456338007,5.265360453311727,5.291077961273505,5.329411638454741,5.386179577262141,5.469443463410229,5.589874627973256,5.7606148182711205,5.996030879062452,6.308755479366306,6.70522844103297,7.182249689735898,7.7300056343770045,8.34530607534992,9.039269884033963,9.790255835164997,10.475724822513058,10.971830910612727,11.278984058728668,11.460769234719733,11.570154379898593,11.638042719552331,11.681267959283769,11.709258627748007,11.727568039288997,11.739613523349089,11.747563036909032,11.752818210744826,11.756295276212644,11.758596868883902,11.760120689890485,11.761129659584636,5.284540514877082,5.319683935519115,5.371809781816183,5.448440924718568,5.5596434175395935,5.718021038545218,5.937717703343762,6.231726611429432,6.607308014813071,7.061133782006219,7.578734357679888,8.144105448240568,8.75805204294002,9.43703306626747,10.144966988805908,10.749058770690123,11.157802350667854,11.399578702204291,11.538803543271765,11.621109271181076,11.671566778341717,11.703419035988096,11.723924923937096,11.737286407997729,11.746054486668703,11.75183158045824,11.755646612645563,11.758169105232557,11.759838105896966,11.760942795839778,11.761674113707645,5.310763788719512,5.3586116338113206,5.429107002940221,5.531728294919452,5.678537073364106,5.883431533560614,6.159808187955478,6.516169206040487,6.950613395760922,7.447824811226576,7.984275817697617,8.544864990505594,9.141555554707404,9.795134730899708,10.450085340974614,10.971565304880382,11.302979838021091,11.491312638751456,11.597202147142479,11.658831689470492,11.696204751666627,11.719619531685392,11.734616822948482,11.744356237842561,11.750733621214604,11.754929728909664,11.757698283879,11.759527824216441,11.76073790459078,11.76153865983958,11.76206869273301,5.319727385868319,5.371869680322013,5.4485171852859775,5.559723317963762,5.7180540593052305,5.937549699566135,6.2309311493243635,6.604760372903025,7.053957177588983,7.559832505318209,8.097269296090102,8.6529622502008,9.242923266157543,9.888247479583676,10.527113940281154,11.025821815360311,11.337506884079602,11.512802753058104,11.610754644663336,11.6675317365961,11.701863620155553,11.7233302879219,11.73706142340826,11.74597079319103,11.751801394179095,11.755636373794225,11.758166091966158,11.759837565684409,11.760943000225048,11.761674466175517,11.762158618054258,5.319727385868319,5.371869680322013,5.4485171852859775,5.559723317963762,5.7180540593052305,5.937549699566135,6.2309311493243635,6.604760372903025,7.053957177588983,7.559832505318209,8.097269296090102,8.6529622502008,9.242923266157543,9.888247479583676,10.527113940281154,11.025821815360311,11.337506884079602,11.512802753058104,11.610754644663336,11.6675317365961,11.701863620155553,11.7233302879219,11.73706142340826,11.74597079319103,11.751801394179095,11.755636373794225,11.758166091966158,11.759837565684409,11.760943000225048,11.761674466175517,11.762158618054258,5.319727385868319,5.371869680322013,5.4485171852859775,5.559723317963762,5.7180540593052305,5.937549699566135,6.2309311493243635,6.604760372903025,7.053957177588983,7.559832505318209,8.097269296090102,8.6529622502008,9.242923266157543,9.888247479583676,10.527113940281154,11.025821815360311,11.337506884079602,11.512802753058104,11.610754644663336,11.6675317365961,11.701863620155553,11.7233302879219,11.73706142340826,11.74597079319103,11.751801394179095,11.755636373794225,11.758166091966158,11.759837565684409,11.760943000225048,11.761674466175517,11.762158618054258,5.319727385868319,5.371869680322013,5.4485171852859775,5.559723317963762,5.7180540593052305,5.937549699566135,6.2309311493243635,6.604760372903025,7.053957177588983,7.559832505318209,8.097269296090102,8.6529622502008,9.242923266157543,9.888247479583676,10.527113940281154,11.025821815360311,11.337506884079602,11.512802753058104,11.610754644663336,11.6675317365961,11.701863620155553,11.7233302879219,11.73706142340826,11.74597079319103,11.751801394179095,11.755636373794225,11.758166091966158,11.759837565684409,11.760943000225048,11.761674466175517,11.762158618054258,5.319727385868319,5.371869680322013,5.4485171852859775,5.559723317963762,5.7180540593052305,5.937549699566135,6.2309311493243635,6.604760372903025,7.053957177588983,7.559832505318209,8.097269296090102,8.6529622502008,9.242923266157543,9.888247479583676,10.527113940281154,11.025821815360311,11.337506884079602,11.512802753058104,11.610754644663336,11.6675317365961,11.701863620155553,11.7233302879219,11.73706142340826,11.74597079319103,11.751801394179095,11.755636373794225,11.758166091966158,11.759837565684409,11.760943000225048,11.761674466175517,11.762158618054258,5.319727385868319,5.371869680322013,5.4485171852859775,5.559723317963762,5.7180540593052305,5.937549699566135,6.2309311493243635,6.604760372903025,7.053957177588983,7.559832505318209,8.097269296090102,8.6529622502008,9.242923266157543,9.888247479583676,10.527113940281154,11.025821815360311,11.337506884079602,11.512802753058104,11.610754644663336,11.6675317365961,11.701863620155553,11.7233302879219,11.73706142340826,11.74597079319103,11.751801394179095,11.755636373794225,11.758166091966158,11.759837565684409,11.760943000225048,11.761674466175517,11.762158618054258],\"type\":\"scatter3d\",\"scene\":\"scene2\"},{\"marker\":{\"color\":\"green\",\"size\":0.5},\"mode\":\"markers\",\"name\":\"Equilibrium surface\",\"visible\":true,\"x\":[0.0,2.3333333333333335,4.666666666666667,7.0,9.333333333333334,11.666666666666668,14.0,16.333333333333336,18.666666666666668,21.0,23.333333333333336,25.666666666666668,28.0,30.333333333333336,32.66666666666667,35.0,37.333333333333336,39.66666666666667,42.0,44.333333333333336,46.66666666666667,49.0,51.333333333333336,53.66666666666667,56.0,58.333333333333336,60.66666666666667,63.00000000000001,65.33333333333334,67.66666666666667,70.0,0.0,2.3333333333333335,4.666666666666667,7.0,9.333333333333334,11.666666666666668,14.0,16.333333333333336,18.666666666666668,21.0,23.333333333333336,25.666666666666668,28.0,30.333333333333336,32.66666666666667,35.0,37.333333333333336,39.66666666666667,42.0,44.333333333333336,46.66666666666667,49.0,51.333333333333336,53.66666666666667,56.0,58.333333333333336,60.66666666666667,63.00000000000001,65.33333333333334,67.66666666666667,70.0,0.0,2.3333333333333335,4.666666666666667,7.0,9.333333333333334,11.666666666666668,14.0,16.333333333333336,18.666666666666668,21.0,23.333333333333336,25.666666666666668,28.0,30.333333333333336,32.66666666666667,35.0,37.333333333333336,39.66666666666667,42.0,44.333333333333336,46.66666666666667,49.0,51.333333333333336,53.66666666666667,56.0,58.333333333333336,60.66666666666667,63.00000000000001,65.33333333333334,67.66666666666667,70.0,0.0,2.3333333333333335,4.666666666666667,7.0,9.333333333333334,11.666666666666668,14.0,16.333333333333336,18.666666666666668,21.0,23.333333333333336,25.666666666666668,28.0,30.333333333333336,32.66666666666667,35.0,37.333333333333336,39.66666666666667,42.0,44.333333333333336,46.66666666666667,49.0,51.333333333333336,53.66666666666667,56.0,58.333333333333336,60.66666666666667,63.00000000000001,65.33333333333334,67.66666666666667,70.0,0.0,2.3333333333333335,4.666666666666667,7.0,9.333333333333334,11.666666666666668,14.0,16.333333333333336,18.666666666666668,21.0,23.333333333333336,25.666666666666668,28.0,30.333333333333336,32.66666666666667,35.0,37.333333333333336,39.66666666666667,42.0,44.333333333333336,46.66666666666667,49.0,51.333333333333336,53.66666666666667,56.0,58.333333333333336,60.66666666666667,63.00000000000001,65.33333333333334,67.66666666666667,70.0,0.0,2.3333333333333335,4.666666666666667,7.0,9.333333333333334,11.666666666666668,14.0,16.333333333333336,18.666666666666668,21.0,23.333333333333336,25.666666666666668,28.0,30.333333333333336,32.66666666666667,35.0,37.333333333333336,39.66666666666667,42.0,44.333333333333336,46.66666666666667,49.0,51.333333333333336,53.66666666666667,56.0,58.333333333333336,60.66666666666667,63.00000000000001,65.33333333333334,67.66666666666667,70.0,0.0,2.3333333333333335,4.666666666666667,7.0,9.333333333333334,11.666666666666668,14.0,16.333333333333336,18.666666666666668,21.0,23.333333333333336,25.666666666666668,28.0,30.333333333333336,32.66666666666667,35.0,37.333333333333336,39.66666666666667,42.0,44.333333333333336,46.66666666666667,49.0,51.333333333333336,53.66666666666667,56.0,58.333333333333336,60.66666666666667,63.00000000000001,65.33333333333334,67.66666666666667,70.0,0.0,2.3333333333333335,4.666666666666667,7.0,9.333333333333334,11.666666666666668,14.0,16.333333333333336,18.666666666666668,21.0,23.333333333333336,25.666666666666668,28.0,30.333333333333336,32.66666666666667,35.0,37.333333333333336,39.66666666666667,42.0,44.333333333333336,46.66666666666667,49.0,51.333333333333336,53.66666666666667,56.0,58.333333333333336,60.66666666666667,63.00000000000001,65.33333333333334,67.66666666666667,70.0,0.0,2.3333333333333335,4.666666666666667,7.0,9.333333333333334,11.666666666666668,14.0,16.333333333333336,18.666666666666668,21.0,23.333333333333336,25.666666666666668,28.0,30.333333333333336,32.66666666666667,35.0,37.333333333333336,39.66666666666667,42.0,44.333333333333336,46.66666666666667,49.0,51.333333333333336,53.66666666666667,56.0,58.333333333333336,60.66666666666667,63.00000000000001,65.33333333333334,67.66666666666667,70.0,0.0,2.3333333333333335,4.666666666666667,7.0,9.333333333333334,11.666666666666668,14.0,16.333333333333336,18.666666666666668,21.0,23.333333333333336,25.666666666666668,28.0,30.333333333333336,32.66666666666667,35.0,37.333333333333336,39.66666666666667,42.0,44.333333333333336,46.66666666666667,49.0,51.333333333333336,53.66666666666667,56.0,58.333333333333336,60.66666666666667,63.00000000000001,65.33333333333334,67.66666666666667,70.0,0.0,2.3333333333333335,4.666666666666667,7.0,9.333333333333334,11.666666666666668,14.0,16.333333333333336,18.666666666666668,21.0,23.333333333333336,25.666666666666668,28.0,30.333333333333336,32.66666666666667,35.0,37.333333333333336,39.66666666666667,42.0,44.333333333333336,46.66666666666667,49.0,51.333333333333336,53.66666666666667,56.0,58.333333333333336,60.66666666666667,63.00000000000001,65.33333333333334,67.66666666666667,70.0,0.0,2.3333333333333335,4.666666666666667,7.0,9.333333333333334,11.666666666666668,14.0,16.333333333333336,18.666666666666668,21.0,23.333333333333336,25.666666666666668,28.0,30.333333333333336,32.66666666666667,35.0,37.333333333333336,39.66666666666667,42.0,44.333333333333336,46.66666666666667,49.0,51.333333333333336,53.66666666666667,56.0,58.333333333333336,60.66666666666667,63.00000000000001,65.33333333333334,67.66666666666667,70.0,0.0,2.3333333333333335,4.666666666666667,7.0,9.333333333333334,11.666666666666668,14.0,16.333333333333336,18.666666666666668,21.0,23.333333333333336,25.666666666666668,28.0,30.333333333333336,32.66666666666667,35.0,37.333333333333336,39.66666666666667,42.0,44.333333333333336,46.66666666666667,49.0,51.333333333333336,53.66666666666667,56.0,58.333333333333336,60.66666666666667,63.00000000000001,65.33333333333334,67.66666666666667,70.0,0.0,2.3333333333333335,4.666666666666667,7.0,9.333333333333334,11.666666666666668,14.0,16.333333333333336,18.666666666666668,21.0,23.333333333333336,25.666666666666668,28.0,30.333333333333336,32.66666666666667,35.0,37.333333333333336,39.66666666666667,42.0,44.333333333333336,46.66666666666667,49.0,51.333333333333336,53.66666666666667,56.0,58.333333333333336,60.66666666666667,63.00000000000001,65.33333333333334,67.66666666666667,70.0,0.0,2.3333333333333335,4.666666666666667,7.0,9.333333333333334,11.666666666666668,14.0,16.333333333333336,18.666666666666668,21.0,23.333333333333336,25.666666666666668,28.0,30.333333333333336,32.66666666666667,35.0,37.333333333333336,39.66666666666667,42.0,44.333333333333336,46.66666666666667,49.0,51.333333333333336,53.66666666666667,56.0,58.333333333333336,60.66666666666667,63.00000000000001,65.33333333333334,67.66666666666667,70.0,0.0,2.3333333333333335,4.666666666666667,7.0,9.333333333333334,11.666666666666668,14.0,16.333333333333336,18.666666666666668,21.0,23.333333333333336,25.666666666666668,28.0,30.333333333333336,32.66666666666667,35.0,37.333333333333336,39.66666666666667,42.0,44.333333333333336,46.66666666666667,49.0,51.333333333333336,53.66666666666667,56.0,58.333333333333336,60.66666666666667,63.00000000000001,65.33333333333334,67.66666666666667,70.0,0.0,2.3333333333333335,4.666666666666667,7.0,9.333333333333334,11.666666666666668,14.0,16.333333333333336,18.666666666666668,21.0,23.333333333333336,25.666666666666668,28.0,30.333333333333336,32.66666666666667,35.0,37.333333333333336,39.66666666666667,42.0,44.333333333333336,46.66666666666667,49.0,51.333333333333336,53.66666666666667,56.0,58.333333333333336,60.66666666666667,63.00000000000001,65.33333333333334,67.66666666666667,70.0,0.0,2.3333333333333335,4.666666666666667,7.0,9.333333333333334,11.666666666666668,14.0,16.333333333333336,18.666666666666668,21.0,23.333333333333336,25.666666666666668,28.0,30.333333333333336,32.66666666666667,35.0,37.333333333333336,39.66666666666667,42.0,44.333333333333336,46.66666666666667,49.0,51.333333333333336,53.66666666666667,56.0,58.333333333333336,60.66666666666667,63.00000000000001,65.33333333333334,67.66666666666667,70.0,0.0,2.3333333333333335,4.666666666666667,7.0,9.333333333333334,11.666666666666668,14.0,16.333333333333336,18.666666666666668,21.0,23.333333333333336,25.666666666666668,28.0,30.333333333333336,32.66666666666667,35.0,37.333333333333336,39.66666666666667,42.0,44.333333333333336,46.66666666666667,49.0,51.333333333333336,53.66666666666667,56.0,58.333333333333336,60.66666666666667,63.00000000000001,65.33333333333334,67.66666666666667,70.0,0.0,2.3333333333333335,4.666666666666667,7.0,9.333333333333334,11.666666666666668,14.0,16.333333333333336,18.666666666666668,21.0,23.333333333333336,25.666666666666668,28.0,30.333333333333336,32.66666666666667,35.0,37.333333333333336,39.66666666666667,42.0,44.333333333333336,46.66666666666667,49.0,51.333333333333336,53.66666666666667,56.0,58.333333333333336,60.66666666666667,63.00000000000001,65.33333333333334,67.66666666666667,70.0,0.0,2.3333333333333335,4.666666666666667,7.0,9.333333333333334,11.666666666666668,14.0,16.333333333333336,18.666666666666668,21.0,23.333333333333336,25.666666666666668,28.0,30.333333333333336,32.66666666666667,35.0,37.333333333333336,39.66666666666667,42.0,44.333333333333336,46.66666666666667,49.0,51.333333333333336,53.66666666666667,56.0,58.333333333333336,60.66666666666667,63.00000000000001,65.33333333333334,67.66666666666667,70.0,0.0,2.3333333333333335,4.666666666666667,7.0,9.333333333333334,11.666666666666668,14.0,16.333333333333336,18.666666666666668,21.0,23.333333333333336,25.666666666666668,28.0,30.333333333333336,32.66666666666667,35.0,37.333333333333336,39.66666666666667,42.0,44.333333333333336,46.66666666666667,49.0,51.333333333333336,53.66666666666667,56.0,58.333333333333336,60.66666666666667,63.00000000000001,65.33333333333334,67.66666666666667,70.0,0.0,2.3333333333333335,4.666666666666667,7.0,9.333333333333334,11.666666666666668,14.0,16.333333333333336,18.666666666666668,21.0,23.333333333333336,25.666666666666668,28.0,30.333333333333336,32.66666666666667,35.0,37.333333333333336,39.66666666666667,42.0,44.333333333333336,46.66666666666667,49.0,51.333333333333336,53.66666666666667,56.0,58.333333333333336,60.66666666666667,63.00000000000001,65.33333333333334,67.66666666666667,70.0,0.0,2.3333333333333335,4.666666666666667,7.0,9.333333333333334,11.666666666666668,14.0,16.333333333333336,18.666666666666668,21.0,23.333333333333336,25.666666666666668,28.0,30.333333333333336,32.66666666666667,35.0,37.333333333333336,39.66666666666667,42.0,44.333333333333336,46.66666666666667,49.0,51.333333333333336,53.66666666666667,56.0,58.333333333333336,60.66666666666667,63.00000000000001,65.33333333333334,67.66666666666667,70.0,0.0,2.3333333333333335,4.666666666666667,7.0,9.333333333333334,11.666666666666668,14.0,16.333333333333336,18.666666666666668,21.0,23.333333333333336,25.666666666666668,28.0,30.333333333333336,32.66666666666667,35.0,37.333333333333336,39.66666666666667,42.0,44.333333333333336,46.66666666666667,49.0,51.333333333333336,53.66666666666667,56.0,58.333333333333336,60.66666666666667,63.00000000000001,65.33333333333334,67.66666666666667,70.0,0.0,2.3333333333333335,4.666666666666667,7.0,9.333333333333334,11.666666666666668,14.0,16.333333333333336,18.666666666666668,21.0,23.333333333333336,25.666666666666668,28.0,30.333333333333336,32.66666666666667,35.0,37.333333333333336,39.66666666666667,42.0,44.333333333333336,46.66666666666667,49.0,51.333333333333336,53.66666666666667,56.0,58.333333333333336,60.66666666666667,63.00000000000001,65.33333333333334,67.66666666666667,70.0,0.0,2.3333333333333335,4.666666666666667,7.0,9.333333333333334,11.666666666666668,14.0,16.333333333333336,18.666666666666668,21.0,23.333333333333336,25.666666666666668,28.0,30.333333333333336,32.66666666666667,35.0,37.333333333333336,39.66666666666667,42.0,44.333333333333336,46.66666666666667,49.0,51.333333333333336,53.66666666666667,56.0,58.333333333333336,60.66666666666667,63.00000000000001,65.33333333333334,67.66666666666667,70.0,0.0,2.3333333333333335,4.666666666666667,7.0,9.333333333333334,11.666666666666668,14.0,16.333333333333336,18.666666666666668,21.0,23.333333333333336,25.666666666666668,28.0,30.333333333333336,32.66666666666667,35.0,37.333333333333336,39.66666666666667,42.0,44.333333333333336,46.66666666666667,49.0,51.333333333333336,53.66666666666667,56.0,58.333333333333336,60.66666666666667,63.00000000000001,65.33333333333334,67.66666666666667,70.0,0.0,2.3333333333333335,4.666666666666667,7.0,9.333333333333334,11.666666666666668,14.0,16.333333333333336,18.666666666666668,21.0,23.333333333333336,25.666666666666668,28.0,30.333333333333336,32.66666666666667,35.0,37.333333333333336,39.66666666666667,42.0,44.333333333333336,46.66666666666667,49.0,51.333333333333336,53.66666666666667,56.0,58.333333333333336,60.66666666666667,63.00000000000001,65.33333333333334,67.66666666666667,70.0,0.0,2.3333333333333335,4.666666666666667,7.0,9.333333333333334,11.666666666666668,14.0,16.333333333333336,18.666666666666668,21.0,23.333333333333336,25.666666666666668,28.0,30.333333333333336,32.66666666666667,35.0,37.333333333333336,39.66666666666667,42.0,44.333333333333336,46.66666666666667,49.0,51.333333333333336,53.66666666666667,56.0,58.333333333333336,60.66666666666667,63.00000000000001,65.33333333333334,67.66666666666667,70.0,0.0,2.3333333333333335,4.666666666666667,7.0,9.333333333333334,11.666666666666668,14.0,16.333333333333336,18.666666666666668,21.0,23.333333333333336,25.666666666666668,28.0,30.333333333333336,32.66666666666667,35.0,37.333333333333336,39.66666666666667,42.0,44.333333333333336,46.66666666666667,49.0,51.333333333333336,53.66666666666667,56.0,58.333333333333336,60.66666666666667,63.00000000000001,65.33333333333334,67.66666666666667,70.0],\"y\":[0.0,0.0,0.0,0.0,0.0,0.0,0.0,0.0,0.0,0.0,0.0,0.0,0.0,0.0,0.0,0.0,0.0,0.0,0.0,0.0,0.0,0.0,0.0,0.0,0.0,0.0,0.0,0.0,0.0,0.0,0.0,0.8333333333333334,0.8333333333333334,0.8333333333333334,0.8333333333333334,0.8333333333333334,0.8333333333333334,0.8333333333333334,0.8333333333333334,0.8333333333333334,0.8333333333333334,0.8333333333333334,0.8333333333333334,0.8333333333333334,0.8333333333333334,0.8333333333333334,0.8333333333333334,0.8333333333333334,0.8333333333333334,0.8333333333333334,0.8333333333333334,0.8333333333333334,0.8333333333333334,0.8333333333333334,0.8333333333333334,0.8333333333333334,0.8333333333333334,0.8333333333333334,0.8333333333333334,0.8333333333333334,0.8333333333333334,0.8333333333333334,1.6666666666666667,1.6666666666666667,1.6666666666666667,1.6666666666666667,1.6666666666666667,1.6666666666666667,1.6666666666666667,1.6666666666666667,1.6666666666666667,1.6666666666666667,1.6666666666666667,1.6666666666666667,1.6666666666666667,1.6666666666666667,1.6666666666666667,1.6666666666666667,1.6666666666666667,1.6666666666666667,1.6666666666666667,1.6666666666666667,1.6666666666666667,1.6666666666666667,1.6666666666666667,1.6666666666666667,1.6666666666666667,1.6666666666666667,1.6666666666666667,1.6666666666666667,1.6666666666666667,1.6666666666666667,1.6666666666666667,2.5,2.5,2.5,2.5,2.5,2.5,2.5,2.5,2.5,2.5,2.5,2.5,2.5,2.5,2.5,2.5,2.5,2.5,2.5,2.5,2.5,2.5,2.5,2.5,2.5,2.5,2.5,2.5,2.5,2.5,2.5,3.3333333333333335,3.3333333333333335,3.3333333333333335,3.3333333333333335,3.3333333333333335,3.3333333333333335,3.3333333333333335,3.3333333333333335,3.3333333333333335,3.3333333333333335,3.3333333333333335,3.3333333333333335,3.3333333333333335,3.3333333333333335,3.3333333333333335,3.3333333333333335,3.3333333333333335,3.3333333333333335,3.3333333333333335,3.3333333333333335,3.3333333333333335,3.3333333333333335,3.3333333333333335,3.3333333333333335,3.3333333333333335,3.3333333333333335,3.3333333333333335,3.3333333333333335,3.3333333333333335,3.3333333333333335,3.3333333333333335,4.166666666666667,4.166666666666667,4.166666666666667,4.166666666666667,4.166666666666667,4.166666666666667,4.166666666666667,4.166666666666667,4.166666666666667,4.166666666666667,4.166666666666667,4.166666666666667,4.166666666666667,4.166666666666667,4.166666666666667,4.166666666666667,4.166666666666667,4.166666666666667,4.166666666666667,4.166666666666667,4.166666666666667,4.166666666666667,4.166666666666667,4.166666666666667,4.166666666666667,4.166666666666667,4.166666666666667,4.166666666666667,4.166666666666667,4.166666666666667,4.166666666666667,5.0,5.0,5.0,5.0,5.0,5.0,5.0,5.0,5.0,5.0,5.0,5.0,5.0,5.0,5.0,5.0,5.0,5.0,5.0,5.0,5.0,5.0,5.0,5.0,5.0,5.0,5.0,5.0,5.0,5.0,5.0,5.833333333333334,5.833333333333334,5.833333333333334,5.833333333333334,5.833333333333334,5.833333333333334,5.833333333333334,5.833333333333334,5.833333333333334,5.833333333333334,5.833333333333334,5.833333333333334,5.833333333333334,5.833333333333334,5.833333333333334,5.833333333333334,5.833333333333334,5.833333333333334,5.833333333333334,5.833333333333334,5.833333333333334,5.833333333333334,5.833333333333334,5.833333333333334,5.833333333333334,5.833333333333334,5.833333333333334,5.833333333333334,5.833333333333334,5.833333333333334,5.833333333333334,6.666666666666667,6.666666666666667,6.666666666666667,6.666666666666667,6.666666666666667,6.666666666666667,6.666666666666667,6.666666666666667,6.666666666666667,6.666666666666667,6.666666666666667,6.666666666666667,6.666666666666667,6.666666666666667,6.666666666666667,6.666666666666667,6.666666666666667,6.666666666666667,6.666666666666667,6.666666666666667,6.666666666666667,6.666666666666667,6.666666666666667,6.666666666666667,6.666666666666667,6.666666666666667,6.666666666666667,6.666666666666667,6.666666666666667,6.666666666666667,6.666666666666667,7.5,7.5,7.5,7.5,7.5,7.5,7.5,7.5,7.5,7.5,7.5,7.5,7.5,7.5,7.5,7.5,7.5,7.5,7.5,7.5,7.5,7.5,7.5,7.5,7.5,7.5,7.5,7.5,7.5,7.5,7.5,8.333333333333334,8.333333333333334,8.333333333333334,8.333333333333334,8.333333333333334,8.333333333333334,8.333333333333334,8.333333333333334,8.333333333333334,8.333333333333334,8.333333333333334,8.333333333333334,8.333333333333334,8.333333333333334,8.333333333333334,8.333333333333334,8.333333333333334,8.333333333333334,8.333333333333334,8.333333333333334,8.333333333333334,8.333333333333334,8.333333333333334,8.333333333333334,8.333333333333334,8.333333333333334,8.333333333333334,8.333333333333334,8.333333333333334,8.333333333333334,8.333333333333334,9.166666666666668,9.166666666666668,9.166666666666668,9.166666666666668,9.166666666666668,9.166666666666668,9.166666666666668,9.166666666666668,9.166666666666668,9.166666666666668,9.166666666666668,9.166666666666668,9.166666666666668,9.166666666666668,9.166666666666668,9.166666666666668,9.166666666666668,9.166666666666668,9.166666666666668,9.166666666666668,9.166666666666668,9.166666666666668,9.166666666666668,9.166666666666668,9.166666666666668,9.166666666666668,9.166666666666668,9.166666666666668,9.166666666666668,9.166666666666668,9.166666666666668,10.0,10.0,10.0,10.0,10.0,10.0,10.0,10.0,10.0,10.0,10.0,10.0,10.0,10.0,10.0,10.0,10.0,10.0,10.0,10.0,10.0,10.0,10.0,10.0,10.0,10.0,10.0,10.0,10.0,10.0,10.0,10.833333333333334,10.833333333333334,10.833333333333334,10.833333333333334,10.833333333333334,10.833333333333334,10.833333333333334,10.833333333333334,10.833333333333334,10.833333333333334,10.833333333333334,10.833333333333334,10.833333333333334,10.833333333333334,10.833333333333334,10.833333333333334,10.833333333333334,10.833333333333334,10.833333333333334,10.833333333333334,10.833333333333334,10.833333333333334,10.833333333333334,10.833333333333334,10.833333333333334,10.833333333333334,10.833333333333334,10.833333333333334,10.833333333333334,10.833333333333334,10.833333333333334,11.666666666666668,11.666666666666668,11.666666666666668,11.666666666666668,11.666666666666668,11.666666666666668,11.666666666666668,11.666666666666668,11.666666666666668,11.666666666666668,11.666666666666668,11.666666666666668,11.666666666666668,11.666666666666668,11.666666666666668,11.666666666666668,11.666666666666668,11.666666666666668,11.666666666666668,11.666666666666668,11.666666666666668,11.666666666666668,11.666666666666668,11.666666666666668,11.666666666666668,11.666666666666668,11.666666666666668,11.666666666666668,11.666666666666668,11.666666666666668,11.666666666666668,12.5,12.5,12.5,12.5,12.5,12.5,12.5,12.5,12.5,12.5,12.5,12.5,12.5,12.5,12.5,12.5,12.5,12.5,12.5,12.5,12.5,12.5,12.5,12.5,12.5,12.5,12.5,12.5,12.5,12.5,12.5,13.333333333333334,13.333333333333334,13.333333333333334,13.333333333333334,13.333333333333334,13.333333333333334,13.333333333333334,13.333333333333334,13.333333333333334,13.333333333333334,13.333333333333334,13.333333333333334,13.333333333333334,13.333333333333334,13.333333333333334,13.333333333333334,13.333333333333334,13.333333333333334,13.333333333333334,13.333333333333334,13.333333333333334,13.333333333333334,13.333333333333334,13.333333333333334,13.333333333333334,13.333333333333334,13.333333333333334,13.333333333333334,13.333333333333334,13.333333333333334,13.333333333333334,14.166666666666668,14.166666666666668,14.166666666666668,14.166666666666668,14.166666666666668,14.166666666666668,14.166666666666668,14.166666666666668,14.166666666666668,14.166666666666668,14.166666666666668,14.166666666666668,14.166666666666668,14.166666666666668,14.166666666666668,14.166666666666668,14.166666666666668,14.166666666666668,14.166666666666668,14.166666666666668,14.166666666666668,14.166666666666668,14.166666666666668,14.166666666666668,14.166666666666668,14.166666666666668,14.166666666666668,14.166666666666668,14.166666666666668,14.166666666666668,14.166666666666668,15.0,15.0,15.0,15.0,15.0,15.0,15.0,15.0,15.0,15.0,15.0,15.0,15.0,15.0,15.0,15.0,15.0,15.0,15.0,15.0,15.0,15.0,15.0,15.0,15.0,15.0,15.0,15.0,15.0,15.0,15.0,15.833333333333334,15.833333333333334,15.833333333333334,15.833333333333334,15.833333333333334,15.833333333333334,15.833333333333334,15.833333333333334,15.833333333333334,15.833333333333334,15.833333333333334,15.833333333333334,15.833333333333334,15.833333333333334,15.833333333333334,15.833333333333334,15.833333333333334,15.833333333333334,15.833333333333334,15.833333333333334,15.833333333333334,15.833333333333334,15.833333333333334,15.833333333333334,15.833333333333334,15.833333333333334,15.833333333333334,15.833333333333334,15.833333333333334,15.833333333333334,15.833333333333334,16.666666666666668,16.666666666666668,16.666666666666668,16.666666666666668,16.666666666666668,16.666666666666668,16.666666666666668,16.666666666666668,16.666666666666668,16.666666666666668,16.666666666666668,16.666666666666668,16.666666666666668,16.666666666666668,16.666666666666668,16.666666666666668,16.666666666666668,16.666666666666668,16.666666666666668,16.666666666666668,16.666666666666668,16.666666666666668,16.666666666666668,16.666666666666668,16.666666666666668,16.666666666666668,16.666666666666668,16.666666666666668,16.666666666666668,16.666666666666668,16.666666666666668,17.5,17.5,17.5,17.5,17.5,17.5,17.5,17.5,17.5,17.5,17.5,17.5,17.5,17.5,17.5,17.5,17.5,17.5,17.5,17.5,17.5,17.5,17.5,17.5,17.5,17.5,17.5,17.5,17.5,17.5,17.5,18.333333333333336,18.333333333333336,18.333333333333336,18.333333333333336,18.333333333333336,18.333333333333336,18.333333333333336,18.333333333333336,18.333333333333336,18.333333333333336,18.333333333333336,18.333333333333336,18.333333333333336,18.333333333333336,18.333333333333336,18.333333333333336,18.333333333333336,18.333333333333336,18.333333333333336,18.333333333333336,18.333333333333336,18.333333333333336,18.333333333333336,18.333333333333336,18.333333333333336,18.333333333333336,18.333333333333336,18.333333333333336,18.333333333333336,18.333333333333336,18.333333333333336,19.166666666666668,19.166666666666668,19.166666666666668,19.166666666666668,19.166666666666668,19.166666666666668,19.166666666666668,19.166666666666668,19.166666666666668,19.166666666666668,19.166666666666668,19.166666666666668,19.166666666666668,19.166666666666668,19.166666666666668,19.166666666666668,19.166666666666668,19.166666666666668,19.166666666666668,19.166666666666668,19.166666666666668,19.166666666666668,19.166666666666668,19.166666666666668,19.166666666666668,19.166666666666668,19.166666666666668,19.166666666666668,19.166666666666668,19.166666666666668,19.166666666666668,20.0,20.0,20.0,20.0,20.0,20.0,20.0,20.0,20.0,20.0,20.0,20.0,20.0,20.0,20.0,20.0,20.0,20.0,20.0,20.0,20.0,20.0,20.0,20.0,20.0,20.0,20.0,20.0,20.0,20.0,20.0,20.833333333333336,20.833333333333336,20.833333333333336,20.833333333333336,20.833333333333336,20.833333333333336,20.833333333333336,20.833333333333336,20.833333333333336,20.833333333333336,20.833333333333336,20.833333333333336,20.833333333333336,20.833333333333336,20.833333333333336,20.833333333333336,20.833333333333336,20.833333333333336,20.833333333333336,20.833333333333336,20.833333333333336,20.833333333333336,20.833333333333336,20.833333333333336,20.833333333333336,20.833333333333336,20.833333333333336,20.833333333333336,20.833333333333336,20.833333333333336,20.833333333333336,21.666666666666668,21.666666666666668,21.666666666666668,21.666666666666668,21.666666666666668,21.666666666666668,21.666666666666668,21.666666666666668,21.666666666666668,21.666666666666668,21.666666666666668,21.666666666666668,21.666666666666668,21.666666666666668,21.666666666666668,21.666666666666668,21.666666666666668,21.666666666666668,21.666666666666668,21.666666666666668,21.666666666666668,21.666666666666668,21.666666666666668,21.666666666666668,21.666666666666668,21.666666666666668,21.666666666666668,21.666666666666668,21.666666666666668,21.666666666666668,21.666666666666668,22.5,22.5,22.5,22.5,22.5,22.5,22.5,22.5,22.5,22.5,22.5,22.5,22.5,22.5,22.5,22.5,22.5,22.5,22.5,22.5,22.5,22.5,22.5,22.5,22.5,22.5,22.5,22.5,22.5,22.5,22.5,23.333333333333336,23.333333333333336,23.333333333333336,23.333333333333336,23.333333333333336,23.333333333333336,23.333333333333336,23.333333333333336,23.333333333333336,23.333333333333336,23.333333333333336,23.333333333333336,23.333333333333336,23.333333333333336,23.333333333333336,23.333333333333336,23.333333333333336,23.333333333333336,23.333333333333336,23.333333333333336,23.333333333333336,23.333333333333336,23.333333333333336,23.333333333333336,23.333333333333336,23.333333333333336,23.333333333333336,23.333333333333336,23.333333333333336,23.333333333333336,23.333333333333336,24.166666666666668,24.166666666666668,24.166666666666668,24.166666666666668,24.166666666666668,24.166666666666668,24.166666666666668,24.166666666666668,24.166666666666668,24.166666666666668,24.166666666666668,24.166666666666668,24.166666666666668,24.166666666666668,24.166666666666668,24.166666666666668,24.166666666666668,24.166666666666668,24.166666666666668,24.166666666666668,24.166666666666668,24.166666666666668,24.166666666666668,24.166666666666668,24.166666666666668,24.166666666666668,24.166666666666668,24.166666666666668,24.166666666666668,24.166666666666668,24.166666666666668,25.0,25.0,25.0,25.0,25.0,25.0,25.0,25.0,25.0,25.0,25.0,25.0,25.0,25.0,25.0,25.0,25.0,25.0,25.0,25.0,25.0,25.0,25.0,25.0,25.0,25.0,25.0,25.0,25.0,25.0,25.0],\"z\":[0.9920310618684957,0.9920310618684957,0.9920310618684957,0.9920310618684957,0.9920310618684957,0.9920310618684957,0.9920310618684957,0.9920310618684957,0.9920310618684957,0.9920310618684957,0.9920310618684957,0.9920310618684957,0.9920310618684957,0.9920310618684957,0.9920310618684957,0.9920310618684957,0.9920310618684957,0.9920310618684957,0.9920310618684957,0.9920310618684957,0.9920310618684957,0.9920310618684957,0.9920310618684957,0.9920310618684957,0.9920310618684957,0.9920310618684957,0.9920310618684957,0.9920310618684957,0.9920310618684957,0.9920310618684957,0.9920310618684957,0.9920310618684957,0.9920310618684957,0.9920310618684957,0.9920310618684957,0.9920310618684957,0.9920310618684957,0.9920310618684957,0.9920310618684957,0.9920310618684957,0.9920310618684957,0.9920310618684957,0.9920310618684957,0.9920310618684957,0.9920310618684957,0.9920310618684957,0.9920310618684957,0.9920310618684957,0.9920310618684957,0.9920310618684957,0.9920310618684957,0.9920310618684957,0.9920310618684957,0.9920310618684957,0.9920310618684957,0.9920310618684957,0.9920310618684957,0.9920310618684957,0.9920310618684957,0.9920310618684957,0.9920310618684957,0.9920310618684957,0.9920310618684957,0.9920310618684957,0.9920310618684957,0.9920310618684957,0.9920310618684957,0.9920310618684957,0.9920310618684957,0.9920310618684957,0.9920310618684957,0.9920310618684957,0.9920310618684957,0.9920310618684957,0.9920310618684957,0.9920310618684957,0.9920310618684957,0.9920310618684957,0.9920310618684957,0.9920310618684957,0.9920310618684957,0.9920310618684957,0.9920310618684957,0.9920310618684957,0.9920310618684957,0.9920310618684957,0.9920310618684957,0.9920310618684957,0.9920310618684957,0.9920310618684957,0.9920310618684957,0.9920310618684957,0.9920310618684957,0.9920310618684957,0.9920310618684957,0.9920310618684957,0.9920310618684957,0.9920310618684957,0.9920310618684957,0.9920310618684957,0.9920310618684957,0.9920310618684957,0.9920310618684957,0.9920310618684957,0.9920310618684957,0.9920310618684957,0.9920310618684957,0.9920310618684957,0.9920310618684957,0.9920310618684957,0.9920310618684957,0.9920310618684957,0.9920310618684957,0.9920310618684957,0.9920310618684957,0.9920310618684957,0.9920310618684957,0.9920310618684957,0.9920310618684957,0.9920310618684957,0.9920310618684957,0.9920310618684957,0.9920310618684957,0.9920310618684957,0.9920310618684957,0.9920310618684957,0.9920310618684957,0.9920310618684957,0.9920310618684957,0.9920310618684957,0.9920310618684957,0.9920310618684957,0.9920310618684957,0.9920310618684957,0.9920310618684957,0.9920310618684957,0.9920310618684957,0.9920310618684957,0.9920310618684957,0.9920310618684957,0.9920310618684957,0.9920310618684957,0.9920310618684957,0.9920310618684957,0.9920310618684957,0.9920310618684957,0.9920310618684957,0.9920310618684957,0.9920310618684957,0.9920310618684957,0.9920310618684957,0.9920310618684957,0.9920310618684957,0.9920310618684957,0.9920310618684957,0.9920310618684957,0.9920310618684957,0.9920310618684957,0.9920310618684957,0.9920310618684957,0.9920310618684957,0.9920310618684957,0.9920310618684957,0.9920310618684957,0.9920310618684957,0.9920310618684957,0.9920310618684957,0.9920310618684957,0.9920310618684957,0.9920310618684957,0.9920310618684957,0.9920310618684957,0.9920310618684957,0.9920310618684957,0.9920310618684957,0.9920310618684957,0.9920310618684957,0.9920310618684957,0.9920310618684957,0.9920310618684957,0.9920310618684957,0.9920310618684957,0.9920310618684957,0.9920310618684957,0.9920310618684957,0.9920310618684957,0.9920310618684957,0.9920310618684957,0.9920310618684957,0.9920310618684957,0.9920310618684957,0.9920310618684957,0.9920310618684957,0.9920310618684957,0.9920310618684957,0.9920310618684957,0.9920310618684957,0.9920310618684957,0.9920310618684957,0.9920310618684957,0.9920310618684957,0.9920310618684957,0.9920310618684957,0.9920310618684957,0.9920310618684957,0.9920310618684957,0.9920310618684957,0.9920310618684957,0.9920310618684957,0.9920310618684957,0.9920310618684957,0.9920310618684957,0.9920310618684957,0.9920310618684957,0.9920310618684957,0.9920310618684957,0.9920310618684957,0.9920310618684957,0.9920310618684957,0.9920310618684957,0.9920310618684957,0.9920310618684957,0.9920310618684957,0.9920310618684957,0.9920310618684957,0.9920310618684957,0.9920310618684957,0.9920310618684957,0.9920310618684957,0.9920310618684957,0.9920310618684957,0.9920310618684957,0.9920310618684957,0.9920310618684957,0.9920310618684957,0.9920310618684957,0.9920310618684957,0.9920310618684957,0.9920310618684957,0.9920310618684957,0.9920310618684957,0.9920310618684957,0.9920310618684957,0.9920310618684957,0.9920310618684957,0.9920310618684957,0.9920310618684957,0.9920310618684957,0.9920310618684957,0.9920310618684957,0.9920310618684957,0.9920310618684957,0.9920310618684957,0.9920310618684957,0.9920310618684957,0.9920310618684957,0.9920310618684957,0.9920310618684957,0.9920310618684957,0.9920310618684957,0.9920310618684957,0.9920310618684957,0.9920310618684957,0.9920310618684957,0.9920310618684957,0.9920310618684957,0.9920310618684957,0.9920310618684957,0.9920310618684957,0.9920310618684957,0.9920310618684957,0.9920310618684957,0.9920310618684957,0.9920310618684957,0.9920310618684957,0.9920310618684957,0.9920310618684957,0.9920310618684957,0.9920310618684957,0.9920310618684957,0.9920310618684957,0.9920310618684957,0.9920310618684957,0.9920310618684957,0.9920310618684957,0.9920310618684957,0.9920310618684957,0.9920310618684957,0.9920310618684957,0.9920310618684957,0.9920310618684957,0.9920310618684957,0.9920310618684957,0.9920310618684957,0.9920310618684957,0.9920310618684957,0.9920310618684957,0.9920310618684957,0.9920310618684957,0.9920310618684957,0.9920310618684957,0.9920310618684957,0.9920310618684957,0.9920310618684957,0.9920310618684957,0.9920310618684957,0.9920310618684957,0.9920310618684957,0.9920310618684957,0.9920310618684957,0.9920310618684957,0.9920310618684957,0.9920310618684957,0.9920310618684957,0.9920310618684957,0.9920310618684957,0.9920310618684957,0.9920310618684957,0.9920310618684957,0.9920310618684957,0.9920310618684957,0.9920310618684957,0.9920310618684957,0.9920310618684957,0.9920310618684957,0.9920310618684957,0.9920310618684957,0.9920310618684957,0.9920310618684957,0.9920310618684957,0.9920310618684957,0.9920310618684957,0.9920310618684957,0.9920310618684957,0.9920310618684957,0.9920310618684957,0.9920310618684957,0.9920310618684957,0.9920310618684957,0.9920310618684957,0.9920310618684957,0.9920310618684957,0.9920310618684957,0.9920310618684957,0.9920310618684957,0.9920310618684957,0.9920310618684957,0.9920310618684957,0.9920310618684957,0.9920310618684957,0.9920310618684957,0.9920310618684957,0.9920310618684957,0.9920310618684957,0.9920310618684957,0.9920310618684957,0.9920310618684957,0.9920310618684957,0.9920310618684957,0.9920310618684957,0.9920310618684957,0.9920310618684957,0.9920310618684957,0.9920310618684957,0.9920310618684957,0.9920310618684957,0.9920310618684957,0.9920310618684957,0.9920310618684957,0.9920310618684957,0.9920310618684957,0.9920310618684957,0.9920310618684957,0.9920310618684957,0.9920310618684957,0.9920310618684957,0.9920310618684957,0.9920310618684957,0.9920310618684957,0.9920310618684957,0.9920310618684957,0.9920310618684957,0.9920310618684957,0.9920310618684957,0.9920310618684957,0.9920310618684957,0.9920310618684957,0.9920310618684957,0.9920310618684957,0.9920310618684957,0.9920310618684957,0.9920310618684957,0.9920310618684957,0.9920310618684957,0.9920310618684957,0.9920310618684957,0.9920310618684957,0.9920310618684957,0.9920310618684957,0.9920310618684957,0.9920310618684957,0.9920310618684957,0.9920310618684957,0.9920310618684957,0.9920310618684957,0.9920310618684957,0.9920310618684957,0.9920310618684957,0.9920310618684957,0.9920310618684957,0.9920310618684957,0.9920310618684957,0.9920310618684957,0.9920310618684957,0.9920310618684957,0.9920310618684957,0.9920310618684957,0.9920310618684957,0.9920310618684957,0.9920310618684957,0.9920310618684957,0.9920310618684957,0.9920310618684957,0.9920310618684957,0.9920310618684957,0.9920310618684957,0.9920310618684957,0.9920310618684957,0.9920310618684957,0.9920310618684957,0.9920310618684957,0.9920310618684957,0.9920310618684957,0.9920310618684957,0.9920310618684957,0.9920310618684957,0.9920310618684957,0.9920310618684957,0.9920310618684957,0.9920310618684957,0.9920310618684957,0.9920310618684957,0.9920310618684957,0.9920310618684957,0.9920310618684957,0.9920310618684957,0.9920310618684957,0.9920310618684957,0.9920310618684957,0.9920310618684957,0.9920310618684957,0.9920310618684957,0.9920310618684957,0.9920310618684957,0.9920310618684957,0.9920310618684957,0.9920310618684957,0.9920310618684957,0.9920310618684957,0.9920310618684957,0.9920310618684957,0.9920310618684957,0.9920310618684957,0.9920310618684957,0.9920310618684957,0.9920310618684957,0.9920310618684957,0.9920310618684957,0.9920310618684957,0.9920310618684957,0.9920310618684957,0.9920310618684957,0.9920310618684957,0.9920310618684957,0.9920310618684957,0.9920310618684957,0.9920310618684957,0.9920310618684957,0.9920310618684957,0.9920310618684957,0.9920310618684957,0.9920310618684957,0.9920310618684957,0.9920310618684957,0.9920310618684957,0.9920310618684957,0.9920310618684957,0.9920310618684957,0.9920310618684957,0.9920310618684957,0.9920310618684957,0.9920310618684957,0.9920310618684957,0.9920310618684957,0.9920310618684957,0.9920310618684957,0.9920310618684957,0.9920310618684957,0.9920310618684957,0.9920310618684957,0.9920310618684957,0.9920310618684957,0.9920310618684957,0.9920310618684957,0.9920310618684957,0.9920310618684957,0.9920310618684957,0.9920310618684957,0.9920310618684957,0.9920310618684957,0.9920310618684957,0.9920310618684957,0.9920310618684957,0.9920310618684957,0.9920310618684957,0.9920310618684957,0.9920310618684957,0.9920310618684957,0.9920310618684957,0.9920310618684957,0.9920310618684957,0.9920310618684957,0.9920310618684957,0.9920310618684957,0.9920310618684957,0.9920310618684957,0.9920310618684957,0.9920310618684957,0.9920310618684957,0.9920310618684957,0.9920310618684957,0.9920310618684957,0.9920310618684957,0.9920310618684957,0.9920310618684957,0.9920310618684957,0.9920310618684957,0.9920310618684957,0.9920310618684957,0.9920310618684957,0.9920310618684957,0.9920310618684957,0.9920310618684957,0.9920310618684957,0.9920310618684957,0.9920310618684957,0.9920310618684957,0.9920310618684957,0.9920310618684957,0.9920310618684957,0.9920310618684957,0.9920310618684957,0.9920310618684957,0.9920310618684957,0.9920310618684957,0.9920310618684957,0.9920310618684957,0.9920310618684957,0.9920310618684957,0.9920310618684957,0.9920310618684957,0.9920310618684957,0.9920310618684957,0.9920310618684957,0.9920310618684957,0.9920310618684957,0.9920310618684957,0.9920310618684957,0.9920310618684957,0.9920310618684957,0.9920310618684957,0.9920310618684957,0.9920310618684957,0.9920310618684957,0.9920310618684957,0.9920310618684957,0.9920310618684957,0.9920310618684957,0.9920310618684957,0.9920310618684957,0.9920310618684957,0.9920310618684957,0.9920310618684957,0.9920310618684957,0.9920310618684957,0.9920310618684957,0.9920310618684957,0.9920310618684957,0.9920310618684957,0.9920310618684957,0.9920310618684957,0.9920310618684957,0.9920310618684957,0.9920310618684957,0.9920310618684957,0.9920310618684957,0.9920310618684957,0.9920310618684957,0.9920310618684957,0.9920310618684957,0.9920310618684957,0.9920310618684957,0.9920310618684957,0.9920310618684957,0.9920310618684957,0.9920310618684957,0.9920310618684957,0.9920310618684957,0.9920310618684957,0.9920310618684957,0.9920310618684957,0.9920310618684957,0.9920310618684957,0.9920310618684957,0.9920310618684957,0.9920310618684957,0.9920310618684957,0.9920310618684957,0.9920310618684957,0.9920310618684957,0.9920310618684957,0.9920310618684957,0.9920310618684957,0.9920310618684957,0.9920310618684957,0.9920310618684957,0.9920310618684957,0.9920310618684957,0.9920310618684957,0.9920310618684957,0.9920310618684957,0.9920310618684957,0.9920310618684957,0.9920310618684957,0.9920310618684957,0.9920310618684957,0.9920310618684957,0.9920310618684957,0.9920310618684957,0.9920310618684957,0.9920310618684957,0.9920310618684957,0.9920310618684957,0.9920310618684957,0.9920310618684957,0.9920310618684957,0.9920310618684957,0.9920310618684957,0.9920310618684957,0.9920310618684957,0.9920310618684957,0.9920310618684957,0.9920310618684957,0.9920310618684957,0.9920310618684957,0.9920310618684957,0.9920310618684957,0.9920310618684957,0.9920310618684957,0.9920310618684957,0.9920310618684957,0.9920310618684957,0.9920310618684957,0.9920310618684957,0.9920310618684957,0.9920310618684957,0.9920310618684957,0.9920310618684957,0.9920310618684957,0.9920310618684957,0.9920310618684957,0.9920310618684957,0.9920310618684957,0.9920310618684957,0.9920310618684957,0.9920310618684957,0.9920310618684957,0.9920310618684957,0.9920310618684957,0.9920310618684957,0.9920310618684957,0.9920310618684957,0.9920310618684957,0.9920310618684957,0.9920310618684957,0.9920310618684957,0.9920310618684957,0.9920310618684957,0.9920310618684957,0.9920310618684957,0.9920310618684957,0.9920310618684957,0.9920310618684957,0.9920310618684957,0.9920310618684957,0.9920310618684957,0.9920310618684957,0.9920310618684957,0.9920310618684957,0.9920310618684957,0.9920310618684957,0.9920310618684957,0.9920310618684957,0.9920310618684957,0.9920310618684957,0.9920310618684957,0.9920310618684957,0.9920310618684957,0.9920310618684957,0.9920310618684957,0.9920310618684957,0.9920310618684957,0.9920310618684957,0.9920310618684957,0.9920310618684957,0.9920310618684957,0.9920310618684957,0.9920310618684957,0.9920310618684957,0.9920310618684957,0.9920310618684957,0.9920310618684957,0.9920310618684957,0.9920310618684957,0.9920310618684957,0.9920310618684957,0.9920310618684957,0.9920310618684957,0.9920310618684957,0.9920310618684957,0.9920310618684957,0.9920310618684957,0.9920310618684957,0.9920310618684957,0.9920310618684957,0.9920310618684957,0.9920310618684957,0.9920310618684957,0.9920310618684957,0.9920310618684957,0.9920310618684957,0.9920310618684957,0.9920310618684957,0.9920310618684957,0.9920310618684957,0.9920310618684957,0.9920310618684957,0.9920310618684957,0.9920310618684957,0.9920310618684957,0.9920310618684957,0.9920310618684957,0.9920310618684957,0.9920310618684957,0.9920310618684957,0.9920310618684957,0.9920310618684957,0.9920310618684957,0.9920310618684957,0.9920310618684957,0.9920310618684957,0.9920310618684957,0.9920310618684957,0.9920310618684957,0.9920310618684957,0.9920310618684957,0.9920310618684957,0.9920310618684957,0.9920310618684957,0.9920310618684957,0.9920310618684957,0.9920310618684957,0.9920310618684957,0.9920310618684957,0.9920310618684957,0.9920310618684957,0.9920310618684957,0.9920310618684957,0.9920310618684957,0.9920310618684957,0.9920310618684957,0.9920310618684957,0.9920310618684957,0.9920310618684957,0.9920310618684957,0.9920310618684957,0.9920310618684957,0.9920310618684957,0.9920310618684957,0.9920310618684957,0.9920310618684957,0.9920310618684957,0.9920310618684957,0.9920310618684957,0.9920310618684957,0.9920310618684957,0.9920310618684957,0.9920310618684957,0.9920310618684957,0.9920310618684957,0.9920310618684957,0.9920310618684957,0.9920310618684957,0.9920310618684957,0.9920310618684957,0.9920310618684957,0.9920310618684957,0.9920310618684957,0.9920310618684957,0.9920310618684957,0.9920310618684957,0.9920310618684957,0.9920310618684957,0.9920310618684957,0.9920310618684957,0.9920310618684957,0.9920310618684957,0.9920310618684957,0.9920310618684957,0.9920310618684957,0.9920310618684957,0.9920310618684957,0.9920310618684957,0.9920310618684957,0.9920310618684957,0.9920310618684957,0.9920310618684957,0.9920310618684957,0.9920310618684957,0.9920310618684957,0.9920310618684957,0.9920310618684957,0.9920310618684957,0.9920310618684957,0.9920310618684957,0.9920310618684957,0.9920310618684957,0.9920310618684957,0.9920310618684957,0.9920310618684957,0.9920310618684957,0.9920310618684957,0.9920310618684957,0.9920310618684957,0.9920310618684957,0.9920310618684957,0.9920310618684957,0.9920310618684957,0.9920310618684957,0.9920310618684957,0.9920310618684957,0.9920310618684957,0.9920310618684957,0.9920310618684957,0.9920310618684957,0.9920310618684957,0.9920310618684957,0.9920310618684957,0.9920310618684957,0.9920310618684957,0.9920310618684957,0.9920310618684957,0.9920310618684957,0.9920310618684957,0.9920310618684957,0.9920310618684957,0.9920310618684957,0.9920310618684957,0.9920310618684957,0.9920310618684957,0.9920310618684957,0.9920310618684957,0.9920310618684957,0.9920310618684957,0.9920310618684957,0.9920310618684957,0.9920310618684957,0.9920310618684957,0.9920310618684957,0.9920310618684957,0.9920310618684957,0.9920310618684957,0.9920310618684957,0.9920310618684957,0.9920310618684957,0.9920310618684957,0.9920310618684957,0.9920310618684957,0.9920310618684957,0.9920310618684957,0.9920310618684957,0.9920310618684957,0.9920310618684957,0.9920310618684957,0.9920310618684957,0.9920310618684957,0.9920310618684957,0.9920310618684957,0.9920310618684957,0.9920310618684957,0.9920310618684957,0.9920310618684957,0.9920310618684957,0.9920310618684957,0.9920310618684957,0.9920310618684957,0.9920310618684957,0.9920310618684957,0.9920310618684957,0.9920310618684957,0.9920310618684957,0.9920310618684957,0.9920310618684957,0.9920310618684957,0.9920310618684957,0.9920310618684957,0.9920310618684957,0.9920310618684957,0.9920310618684957,0.9920310618684957,0.9920310618684957,0.9920310618684957,0.9920310618684957,0.9920310618684957,0.9920310618684957,0.9920310618684957,0.9920310618684957,0.9920310618684957,0.9920310618684957,0.9920310618684957,0.9920310618684957,0.9920310618684957,0.9920310618684957,0.9920310618684957,0.9920310618684957,0.9920310618684957,0.9920310618684957,0.9920310618684957,0.9920310618684957,0.9920310618684957,0.9920310618684957,0.9920310618684957,0.9920310618684957,0.9920310618684957,0.9920310618684957,0.9920310618684957,0.9920310618684957,0.9920310618684957,0.9920310618684957,0.9920310618684957,0.9920310618684957,0.9920310618684957,0.9920310618684957,0.9920310618684957,0.9920310618684957,0.9920310618684957,0.9920310618684957,0.9920310618684957,0.9920310618684957,0.9920310618684957,0.9920310618684957],\"type\":\"scatter3d\",\"scene\":\"scene3\"},{\"marker\":{\"color\":\"green\",\"size\":0.5},\"mode\":\"markers\",\"name\":\"Equilibrium surface\",\"visible\":true,\"x\":[0.0,2.3333333333333335,4.666666666666667,7.0,9.333333333333334,11.666666666666668,14.0,16.333333333333336,18.666666666666668,21.0,23.333333333333336,25.666666666666668,28.0,30.333333333333336,32.66666666666667,35.0,37.333333333333336,39.66666666666667,42.0,44.333333333333336,46.66666666666667,49.0,51.333333333333336,53.66666666666667,56.0,58.333333333333336,60.66666666666667,63.00000000000001,65.33333333333334,67.66666666666667,70.0,0.0,2.3333333333333335,4.666666666666667,7.0,9.333333333333334,11.666666666666668,14.0,16.333333333333336,18.666666666666668,21.0,23.333333333333336,25.666666666666668,28.0,30.333333333333336,32.66666666666667,35.0,37.333333333333336,39.66666666666667,42.0,44.333333333333336,46.66666666666667,49.0,51.333333333333336,53.66666666666667,56.0,58.333333333333336,60.66666666666667,63.00000000000001,65.33333333333334,67.66666666666667,70.0,0.0,2.3333333333333335,4.666666666666667,7.0,9.333333333333334,11.666666666666668,14.0,16.333333333333336,18.666666666666668,21.0,23.333333333333336,25.666666666666668,28.0,30.333333333333336,32.66666666666667,35.0,37.333333333333336,39.66666666666667,42.0,44.333333333333336,46.66666666666667,49.0,51.333333333333336,53.66666666666667,56.0,58.333333333333336,60.66666666666667,63.00000000000001,65.33333333333334,67.66666666666667,70.0,0.0,2.3333333333333335,4.666666666666667,7.0,9.333333333333334,11.666666666666668,14.0,16.333333333333336,18.666666666666668,21.0,23.333333333333336,25.666666666666668,28.0,30.333333333333336,32.66666666666667,35.0,37.333333333333336,39.66666666666667,42.0,44.333333333333336,46.66666666666667,49.0,51.333333333333336,53.66666666666667,56.0,58.333333333333336,60.66666666666667,63.00000000000001,65.33333333333334,67.66666666666667,70.0,0.0,2.3333333333333335,4.666666666666667,7.0,9.333333333333334,11.666666666666668,14.0,16.333333333333336,18.666666666666668,21.0,23.333333333333336,25.666666666666668,28.0,30.333333333333336,32.66666666666667,35.0,37.333333333333336,39.66666666666667,42.0,44.333333333333336,46.66666666666667,49.0,51.333333333333336,53.66666666666667,56.0,58.333333333333336,60.66666666666667,63.00000000000001,65.33333333333334,67.66666666666667,70.0,0.0,2.3333333333333335,4.666666666666667,7.0,9.333333333333334,11.666666666666668,14.0,16.333333333333336,18.666666666666668,21.0,23.333333333333336,25.666666666666668,28.0,30.333333333333336,32.66666666666667,35.0,37.333333333333336,39.66666666666667,42.0,44.333333333333336,46.66666666666667,49.0,51.333333333333336,53.66666666666667,56.0,58.333333333333336,60.66666666666667,63.00000000000001,65.33333333333334,67.66666666666667,70.0,0.0,2.3333333333333335,4.666666666666667,7.0,9.333333333333334,11.666666666666668,14.0,16.333333333333336,18.666666666666668,21.0,23.333333333333336,25.666666666666668,28.0,30.333333333333336,32.66666666666667,35.0,37.333333333333336,39.66666666666667,42.0,44.333333333333336,46.66666666666667,49.0,51.333333333333336,53.66666666666667,56.0,58.333333333333336,60.66666666666667,63.00000000000001,65.33333333333334,67.66666666666667,70.0,0.0,2.3333333333333335,4.666666666666667,7.0,9.333333333333334,11.666666666666668,14.0,16.333333333333336,18.666666666666668,21.0,23.333333333333336,25.666666666666668,28.0,30.333333333333336,32.66666666666667,35.0,37.333333333333336,39.66666666666667,42.0,44.333333333333336,46.66666666666667,49.0,51.333333333333336,53.66666666666667,56.0,58.333333333333336,60.66666666666667,63.00000000000001,65.33333333333334,67.66666666666667,70.0,0.0,2.3333333333333335,4.666666666666667,7.0,9.333333333333334,11.666666666666668,14.0,16.333333333333336,18.666666666666668,21.0,23.333333333333336,25.666666666666668,28.0,30.333333333333336,32.66666666666667,35.0,37.333333333333336,39.66666666666667,42.0,44.333333333333336,46.66666666666667,49.0,51.333333333333336,53.66666666666667,56.0,58.333333333333336,60.66666666666667,63.00000000000001,65.33333333333334,67.66666666666667,70.0,0.0,2.3333333333333335,4.666666666666667,7.0,9.333333333333334,11.666666666666668,14.0,16.333333333333336,18.666666666666668,21.0,23.333333333333336,25.666666666666668,28.0,30.333333333333336,32.66666666666667,35.0,37.333333333333336,39.66666666666667,42.0,44.333333333333336,46.66666666666667,49.0,51.333333333333336,53.66666666666667,56.0,58.333333333333336,60.66666666666667,63.00000000000001,65.33333333333334,67.66666666666667,70.0,0.0,2.3333333333333335,4.666666666666667,7.0,9.333333333333334,11.666666666666668,14.0,16.333333333333336,18.666666666666668,21.0,23.333333333333336,25.666666666666668,28.0,30.333333333333336,32.66666666666667,35.0,37.333333333333336,39.66666666666667,42.0,44.333333333333336,46.66666666666667,49.0,51.333333333333336,53.66666666666667,56.0,58.333333333333336,60.66666666666667,63.00000000000001,65.33333333333334,67.66666666666667,70.0,0.0,2.3333333333333335,4.666666666666667,7.0,9.333333333333334,11.666666666666668,14.0,16.333333333333336,18.666666666666668,21.0,23.333333333333336,25.666666666666668,28.0,30.333333333333336,32.66666666666667,35.0,37.333333333333336,39.66666666666667,42.0,44.333333333333336,46.66666666666667,49.0,51.333333333333336,53.66666666666667,56.0,58.333333333333336,60.66666666666667,63.00000000000001,65.33333333333334,67.66666666666667,70.0,0.0,2.3333333333333335,4.666666666666667,7.0,9.333333333333334,11.666666666666668,14.0,16.333333333333336,18.666666666666668,21.0,23.333333333333336,25.666666666666668,28.0,30.333333333333336,32.66666666666667,35.0,37.333333333333336,39.66666666666667,42.0,44.333333333333336,46.66666666666667,49.0,51.333333333333336,53.66666666666667,56.0,58.333333333333336,60.66666666666667,63.00000000000001,65.33333333333334,67.66666666666667,70.0,0.0,2.3333333333333335,4.666666666666667,7.0,9.333333333333334,11.666666666666668,14.0,16.333333333333336,18.666666666666668,21.0,23.333333333333336,25.666666666666668,28.0,30.333333333333336,32.66666666666667,35.0,37.333333333333336,39.66666666666667,42.0,44.333333333333336,46.66666666666667,49.0,51.333333333333336,53.66666666666667,56.0,58.333333333333336,60.66666666666667,63.00000000000001,65.33333333333334,67.66666666666667,70.0,0.0,2.3333333333333335,4.666666666666667,7.0,9.333333333333334,11.666666666666668,14.0,16.333333333333336,18.666666666666668,21.0,23.333333333333336,25.666666666666668,28.0,30.333333333333336,32.66666666666667,35.0,37.333333333333336,39.66666666666667,42.0,44.333333333333336,46.66666666666667,49.0,51.333333333333336,53.66666666666667,56.0,58.333333333333336,60.66666666666667,63.00000000000001,65.33333333333334,67.66666666666667,70.0,0.0,2.3333333333333335,4.666666666666667,7.0,9.333333333333334,11.666666666666668,14.0,16.333333333333336,18.666666666666668,21.0,23.333333333333336,25.666666666666668,28.0,30.333333333333336,32.66666666666667,35.0,37.333333333333336,39.66666666666667,42.0,44.333333333333336,46.66666666666667,49.0,51.333333333333336,53.66666666666667,56.0,58.333333333333336,60.66666666666667,63.00000000000001,65.33333333333334,67.66666666666667,70.0,0.0,2.3333333333333335,4.666666666666667,7.0,9.333333333333334,11.666666666666668,14.0,16.333333333333336,18.666666666666668,21.0,23.333333333333336,25.666666666666668,28.0,30.333333333333336,32.66666666666667,35.0,37.333333333333336,39.66666666666667,42.0,44.333333333333336,46.66666666666667,49.0,51.333333333333336,53.66666666666667,56.0,58.333333333333336,60.66666666666667,63.00000000000001,65.33333333333334,67.66666666666667,70.0,0.0,2.3333333333333335,4.666666666666667,7.0,9.333333333333334,11.666666666666668,14.0,16.333333333333336,18.666666666666668,21.0,23.333333333333336,25.666666666666668,28.0,30.333333333333336,32.66666666666667,35.0,37.333333333333336,39.66666666666667,42.0,44.333333333333336,46.66666666666667,49.0,51.333333333333336,53.66666666666667,56.0,58.333333333333336,60.66666666666667,63.00000000000001,65.33333333333334,67.66666666666667,70.0,0.0,2.3333333333333335,4.666666666666667,7.0,9.333333333333334,11.666666666666668,14.0,16.333333333333336,18.666666666666668,21.0,23.333333333333336,25.666666666666668,28.0,30.333333333333336,32.66666666666667,35.0,37.333333333333336,39.66666666666667,42.0,44.333333333333336,46.66666666666667,49.0,51.333333333333336,53.66666666666667,56.0,58.333333333333336,60.66666666666667,63.00000000000001,65.33333333333334,67.66666666666667,70.0,0.0,2.3333333333333335,4.666666666666667,7.0,9.333333333333334,11.666666666666668,14.0,16.333333333333336,18.666666666666668,21.0,23.333333333333336,25.666666666666668,28.0,30.333333333333336,32.66666666666667,35.0,37.333333333333336,39.66666666666667,42.0,44.333333333333336,46.66666666666667,49.0,51.333333333333336,53.66666666666667,56.0,58.333333333333336,60.66666666666667,63.00000000000001,65.33333333333334,67.66666666666667,70.0,0.0,2.3333333333333335,4.666666666666667,7.0,9.333333333333334,11.666666666666668,14.0,16.333333333333336,18.666666666666668,21.0,23.333333333333336,25.666666666666668,28.0,30.333333333333336,32.66666666666667,35.0,37.333333333333336,39.66666666666667,42.0,44.333333333333336,46.66666666666667,49.0,51.333333333333336,53.66666666666667,56.0,58.333333333333336,60.66666666666667,63.00000000000001,65.33333333333334,67.66666666666667,70.0,0.0,2.3333333333333335,4.666666666666667,7.0,9.333333333333334,11.666666666666668,14.0,16.333333333333336,18.666666666666668,21.0,23.333333333333336,25.666666666666668,28.0,30.333333333333336,32.66666666666667,35.0,37.333333333333336,39.66666666666667,42.0,44.333333333333336,46.66666666666667,49.0,51.333333333333336,53.66666666666667,56.0,58.333333333333336,60.66666666666667,63.00000000000001,65.33333333333334,67.66666666666667,70.0,0.0,2.3333333333333335,4.666666666666667,7.0,9.333333333333334,11.666666666666668,14.0,16.333333333333336,18.666666666666668,21.0,23.333333333333336,25.666666666666668,28.0,30.333333333333336,32.66666666666667,35.0,37.333333333333336,39.66666666666667,42.0,44.333333333333336,46.66666666666667,49.0,51.333333333333336,53.66666666666667,56.0,58.333333333333336,60.66666666666667,63.00000000000001,65.33333333333334,67.66666666666667,70.0,0.0,2.3333333333333335,4.666666666666667,7.0,9.333333333333334,11.666666666666668,14.0,16.333333333333336,18.666666666666668,21.0,23.333333333333336,25.666666666666668,28.0,30.333333333333336,32.66666666666667,35.0,37.333333333333336,39.66666666666667,42.0,44.333333333333336,46.66666666666667,49.0,51.333333333333336,53.66666666666667,56.0,58.333333333333336,60.66666666666667,63.00000000000001,65.33333333333334,67.66666666666667,70.0,0.0,2.3333333333333335,4.666666666666667,7.0,9.333333333333334,11.666666666666668,14.0,16.333333333333336,18.666666666666668,21.0,23.333333333333336,25.666666666666668,28.0,30.333333333333336,32.66666666666667,35.0,37.333333333333336,39.66666666666667,42.0,44.333333333333336,46.66666666666667,49.0,51.333333333333336,53.66666666666667,56.0,58.333333333333336,60.66666666666667,63.00000000000001,65.33333333333334,67.66666666666667,70.0,0.0,2.3333333333333335,4.666666666666667,7.0,9.333333333333334,11.666666666666668,14.0,16.333333333333336,18.666666666666668,21.0,23.333333333333336,25.666666666666668,28.0,30.333333333333336,32.66666666666667,35.0,37.333333333333336,39.66666666666667,42.0,44.333333333333336,46.66666666666667,49.0,51.333333333333336,53.66666666666667,56.0,58.333333333333336,60.66666666666667,63.00000000000001,65.33333333333334,67.66666666666667,70.0,0.0,2.3333333333333335,4.666666666666667,7.0,9.333333333333334,11.666666666666668,14.0,16.333333333333336,18.666666666666668,21.0,23.333333333333336,25.666666666666668,28.0,30.333333333333336,32.66666666666667,35.0,37.333333333333336,39.66666666666667,42.0,44.333333333333336,46.66666666666667,49.0,51.333333333333336,53.66666666666667,56.0,58.333333333333336,60.66666666666667,63.00000000000001,65.33333333333334,67.66666666666667,70.0,0.0,2.3333333333333335,4.666666666666667,7.0,9.333333333333334,11.666666666666668,14.0,16.333333333333336,18.666666666666668,21.0,23.333333333333336,25.666666666666668,28.0,30.333333333333336,32.66666666666667,35.0,37.333333333333336,39.66666666666667,42.0,44.333333333333336,46.66666666666667,49.0,51.333333333333336,53.66666666666667,56.0,58.333333333333336,60.66666666666667,63.00000000000001,65.33333333333334,67.66666666666667,70.0,0.0,2.3333333333333335,4.666666666666667,7.0,9.333333333333334,11.666666666666668,14.0,16.333333333333336,18.666666666666668,21.0,23.333333333333336,25.666666666666668,28.0,30.333333333333336,32.66666666666667,35.0,37.333333333333336,39.66666666666667,42.0,44.333333333333336,46.66666666666667,49.0,51.333333333333336,53.66666666666667,56.0,58.333333333333336,60.66666666666667,63.00000000000001,65.33333333333334,67.66666666666667,70.0,0.0,2.3333333333333335,4.666666666666667,7.0,9.333333333333334,11.666666666666668,14.0,16.333333333333336,18.666666666666668,21.0,23.333333333333336,25.666666666666668,28.0,30.333333333333336,32.66666666666667,35.0,37.333333333333336,39.66666666666667,42.0,44.333333333333336,46.66666666666667,49.0,51.333333333333336,53.66666666666667,56.0,58.333333333333336,60.66666666666667,63.00000000000001,65.33333333333334,67.66666666666667,70.0,0.0,2.3333333333333335,4.666666666666667,7.0,9.333333333333334,11.666666666666668,14.0,16.333333333333336,18.666666666666668,21.0,23.333333333333336,25.666666666666668,28.0,30.333333333333336,32.66666666666667,35.0,37.333333333333336,39.66666666666667,42.0,44.333333333333336,46.66666666666667,49.0,51.333333333333336,53.66666666666667,56.0,58.333333333333336,60.66666666666667,63.00000000000001,65.33333333333334,67.66666666666667,70.0],\"y\":[0.0,0.0,0.0,0.0,0.0,0.0,0.0,0.0,0.0,0.0,0.0,0.0,0.0,0.0,0.0,0.0,0.0,0.0,0.0,0.0,0.0,0.0,0.0,0.0,0.0,0.0,0.0,0.0,0.0,0.0,0.0,0.8333333333333334,0.8333333333333334,0.8333333333333334,0.8333333333333334,0.8333333333333334,0.8333333333333334,0.8333333333333334,0.8333333333333334,0.8333333333333334,0.8333333333333334,0.8333333333333334,0.8333333333333334,0.8333333333333334,0.8333333333333334,0.8333333333333334,0.8333333333333334,0.8333333333333334,0.8333333333333334,0.8333333333333334,0.8333333333333334,0.8333333333333334,0.8333333333333334,0.8333333333333334,0.8333333333333334,0.8333333333333334,0.8333333333333334,0.8333333333333334,0.8333333333333334,0.8333333333333334,0.8333333333333334,0.8333333333333334,1.6666666666666667,1.6666666666666667,1.6666666666666667,1.6666666666666667,1.6666666666666667,1.6666666666666667,1.6666666666666667,1.6666666666666667,1.6666666666666667,1.6666666666666667,1.6666666666666667,1.6666666666666667,1.6666666666666667,1.6666666666666667,1.6666666666666667,1.6666666666666667,1.6666666666666667,1.6666666666666667,1.6666666666666667,1.6666666666666667,1.6666666666666667,1.6666666666666667,1.6666666666666667,1.6666666666666667,1.6666666666666667,1.6666666666666667,1.6666666666666667,1.6666666666666667,1.6666666666666667,1.6666666666666667,1.6666666666666667,2.5,2.5,2.5,2.5,2.5,2.5,2.5,2.5,2.5,2.5,2.5,2.5,2.5,2.5,2.5,2.5,2.5,2.5,2.5,2.5,2.5,2.5,2.5,2.5,2.5,2.5,2.5,2.5,2.5,2.5,2.5,3.3333333333333335,3.3333333333333335,3.3333333333333335,3.3333333333333335,3.3333333333333335,3.3333333333333335,3.3333333333333335,3.3333333333333335,3.3333333333333335,3.3333333333333335,3.3333333333333335,3.3333333333333335,3.3333333333333335,3.3333333333333335,3.3333333333333335,3.3333333333333335,3.3333333333333335,3.3333333333333335,3.3333333333333335,3.3333333333333335,3.3333333333333335,3.3333333333333335,3.3333333333333335,3.3333333333333335,3.3333333333333335,3.3333333333333335,3.3333333333333335,3.3333333333333335,3.3333333333333335,3.3333333333333335,3.3333333333333335,4.166666666666667,4.166666666666667,4.166666666666667,4.166666666666667,4.166666666666667,4.166666666666667,4.166666666666667,4.166666666666667,4.166666666666667,4.166666666666667,4.166666666666667,4.166666666666667,4.166666666666667,4.166666666666667,4.166666666666667,4.166666666666667,4.166666666666667,4.166666666666667,4.166666666666667,4.166666666666667,4.166666666666667,4.166666666666667,4.166666666666667,4.166666666666667,4.166666666666667,4.166666666666667,4.166666666666667,4.166666666666667,4.166666666666667,4.166666666666667,4.166666666666667,5.0,5.0,5.0,5.0,5.0,5.0,5.0,5.0,5.0,5.0,5.0,5.0,5.0,5.0,5.0,5.0,5.0,5.0,5.0,5.0,5.0,5.0,5.0,5.0,5.0,5.0,5.0,5.0,5.0,5.0,5.0,5.833333333333334,5.833333333333334,5.833333333333334,5.833333333333334,5.833333333333334,5.833333333333334,5.833333333333334,5.833333333333334,5.833333333333334,5.833333333333334,5.833333333333334,5.833333333333334,5.833333333333334,5.833333333333334,5.833333333333334,5.833333333333334,5.833333333333334,5.833333333333334,5.833333333333334,5.833333333333334,5.833333333333334,5.833333333333334,5.833333333333334,5.833333333333334,5.833333333333334,5.833333333333334,5.833333333333334,5.833333333333334,5.833333333333334,5.833333333333334,5.833333333333334,6.666666666666667,6.666666666666667,6.666666666666667,6.666666666666667,6.666666666666667,6.666666666666667,6.666666666666667,6.666666666666667,6.666666666666667,6.666666666666667,6.666666666666667,6.666666666666667,6.666666666666667,6.666666666666667,6.666666666666667,6.666666666666667,6.666666666666667,6.666666666666667,6.666666666666667,6.666666666666667,6.666666666666667,6.666666666666667,6.666666666666667,6.666666666666667,6.666666666666667,6.666666666666667,6.666666666666667,6.666666666666667,6.666666666666667,6.666666666666667,6.666666666666667,7.5,7.5,7.5,7.5,7.5,7.5,7.5,7.5,7.5,7.5,7.5,7.5,7.5,7.5,7.5,7.5,7.5,7.5,7.5,7.5,7.5,7.5,7.5,7.5,7.5,7.5,7.5,7.5,7.5,7.5,7.5,8.333333333333334,8.333333333333334,8.333333333333334,8.333333333333334,8.333333333333334,8.333333333333334,8.333333333333334,8.333333333333334,8.333333333333334,8.333333333333334,8.333333333333334,8.333333333333334,8.333333333333334,8.333333333333334,8.333333333333334,8.333333333333334,8.333333333333334,8.333333333333334,8.333333333333334,8.333333333333334,8.333333333333334,8.333333333333334,8.333333333333334,8.333333333333334,8.333333333333334,8.333333333333334,8.333333333333334,8.333333333333334,8.333333333333334,8.333333333333334,8.333333333333334,9.166666666666668,9.166666666666668,9.166666666666668,9.166666666666668,9.166666666666668,9.166666666666668,9.166666666666668,9.166666666666668,9.166666666666668,9.166666666666668,9.166666666666668,9.166666666666668,9.166666666666668,9.166666666666668,9.166666666666668,9.166666666666668,9.166666666666668,9.166666666666668,9.166666666666668,9.166666666666668,9.166666666666668,9.166666666666668,9.166666666666668,9.166666666666668,9.166666666666668,9.166666666666668,9.166666666666668,9.166666666666668,9.166666666666668,9.166666666666668,9.166666666666668,10.0,10.0,10.0,10.0,10.0,10.0,10.0,10.0,10.0,10.0,10.0,10.0,10.0,10.0,10.0,10.0,10.0,10.0,10.0,10.0,10.0,10.0,10.0,10.0,10.0,10.0,10.0,10.0,10.0,10.0,10.0,10.833333333333334,10.833333333333334,10.833333333333334,10.833333333333334,10.833333333333334,10.833333333333334,10.833333333333334,10.833333333333334,10.833333333333334,10.833333333333334,10.833333333333334,10.833333333333334,10.833333333333334,10.833333333333334,10.833333333333334,10.833333333333334,10.833333333333334,10.833333333333334,10.833333333333334,10.833333333333334,10.833333333333334,10.833333333333334,10.833333333333334,10.833333333333334,10.833333333333334,10.833333333333334,10.833333333333334,10.833333333333334,10.833333333333334,10.833333333333334,10.833333333333334,11.666666666666668,11.666666666666668,11.666666666666668,11.666666666666668,11.666666666666668,11.666666666666668,11.666666666666668,11.666666666666668,11.666666666666668,11.666666666666668,11.666666666666668,11.666666666666668,11.666666666666668,11.666666666666668,11.666666666666668,11.666666666666668,11.666666666666668,11.666666666666668,11.666666666666668,11.666666666666668,11.666666666666668,11.666666666666668,11.666666666666668,11.666666666666668,11.666666666666668,11.666666666666668,11.666666666666668,11.666666666666668,11.666666666666668,11.666666666666668,11.666666666666668,12.5,12.5,12.5,12.5,12.5,12.5,12.5,12.5,12.5,12.5,12.5,12.5,12.5,12.5,12.5,12.5,12.5,12.5,12.5,12.5,12.5,12.5,12.5,12.5,12.5,12.5,12.5,12.5,12.5,12.5,12.5,13.333333333333334,13.333333333333334,13.333333333333334,13.333333333333334,13.333333333333334,13.333333333333334,13.333333333333334,13.333333333333334,13.333333333333334,13.333333333333334,13.333333333333334,13.333333333333334,13.333333333333334,13.333333333333334,13.333333333333334,13.333333333333334,13.333333333333334,13.333333333333334,13.333333333333334,13.333333333333334,13.333333333333334,13.333333333333334,13.333333333333334,13.333333333333334,13.333333333333334,13.333333333333334,13.333333333333334,13.333333333333334,13.333333333333334,13.333333333333334,13.333333333333334,14.166666666666668,14.166666666666668,14.166666666666668,14.166666666666668,14.166666666666668,14.166666666666668,14.166666666666668,14.166666666666668,14.166666666666668,14.166666666666668,14.166666666666668,14.166666666666668,14.166666666666668,14.166666666666668,14.166666666666668,14.166666666666668,14.166666666666668,14.166666666666668,14.166666666666668,14.166666666666668,14.166666666666668,14.166666666666668,14.166666666666668,14.166666666666668,14.166666666666668,14.166666666666668,14.166666666666668,14.166666666666668,14.166666666666668,14.166666666666668,14.166666666666668,15.0,15.0,15.0,15.0,15.0,15.0,15.0,15.0,15.0,15.0,15.0,15.0,15.0,15.0,15.0,15.0,15.0,15.0,15.0,15.0,15.0,15.0,15.0,15.0,15.0,15.0,15.0,15.0,15.0,15.0,15.0,15.833333333333334,15.833333333333334,15.833333333333334,15.833333333333334,15.833333333333334,15.833333333333334,15.833333333333334,15.833333333333334,15.833333333333334,15.833333333333334,15.833333333333334,15.833333333333334,15.833333333333334,15.833333333333334,15.833333333333334,15.833333333333334,15.833333333333334,15.833333333333334,15.833333333333334,15.833333333333334,15.833333333333334,15.833333333333334,15.833333333333334,15.833333333333334,15.833333333333334,15.833333333333334,15.833333333333334,15.833333333333334,15.833333333333334,15.833333333333334,15.833333333333334,16.666666666666668,16.666666666666668,16.666666666666668,16.666666666666668,16.666666666666668,16.666666666666668,16.666666666666668,16.666666666666668,16.666666666666668,16.666666666666668,16.666666666666668,16.666666666666668,16.666666666666668,16.666666666666668,16.666666666666668,16.666666666666668,16.666666666666668,16.666666666666668,16.666666666666668,16.666666666666668,16.666666666666668,16.666666666666668,16.666666666666668,16.666666666666668,16.666666666666668,16.666666666666668,16.666666666666668,16.666666666666668,16.666666666666668,16.666666666666668,16.666666666666668,17.5,17.5,17.5,17.5,17.5,17.5,17.5,17.5,17.5,17.5,17.5,17.5,17.5,17.5,17.5,17.5,17.5,17.5,17.5,17.5,17.5,17.5,17.5,17.5,17.5,17.5,17.5,17.5,17.5,17.5,17.5,18.333333333333336,18.333333333333336,18.333333333333336,18.333333333333336,18.333333333333336,18.333333333333336,18.333333333333336,18.333333333333336,18.333333333333336,18.333333333333336,18.333333333333336,18.333333333333336,18.333333333333336,18.333333333333336,18.333333333333336,18.333333333333336,18.333333333333336,18.333333333333336,18.333333333333336,18.333333333333336,18.333333333333336,18.333333333333336,18.333333333333336,18.333333333333336,18.333333333333336,18.333333333333336,18.333333333333336,18.333333333333336,18.333333333333336,18.333333333333336,18.333333333333336,19.166666666666668,19.166666666666668,19.166666666666668,19.166666666666668,19.166666666666668,19.166666666666668,19.166666666666668,19.166666666666668,19.166666666666668,19.166666666666668,19.166666666666668,19.166666666666668,19.166666666666668,19.166666666666668,19.166666666666668,19.166666666666668,19.166666666666668,19.166666666666668,19.166666666666668,19.166666666666668,19.166666666666668,19.166666666666668,19.166666666666668,19.166666666666668,19.166666666666668,19.166666666666668,19.166666666666668,19.166666666666668,19.166666666666668,19.166666666666668,19.166666666666668,20.0,20.0,20.0,20.0,20.0,20.0,20.0,20.0,20.0,20.0,20.0,20.0,20.0,20.0,20.0,20.0,20.0,20.0,20.0,20.0,20.0,20.0,20.0,20.0,20.0,20.0,20.0,20.0,20.0,20.0,20.0,20.833333333333336,20.833333333333336,20.833333333333336,20.833333333333336,20.833333333333336,20.833333333333336,20.833333333333336,20.833333333333336,20.833333333333336,20.833333333333336,20.833333333333336,20.833333333333336,20.833333333333336,20.833333333333336,20.833333333333336,20.833333333333336,20.833333333333336,20.833333333333336,20.833333333333336,20.833333333333336,20.833333333333336,20.833333333333336,20.833333333333336,20.833333333333336,20.833333333333336,20.833333333333336,20.833333333333336,20.833333333333336,20.833333333333336,20.833333333333336,20.833333333333336,21.666666666666668,21.666666666666668,21.666666666666668,21.666666666666668,21.666666666666668,21.666666666666668,21.666666666666668,21.666666666666668,21.666666666666668,21.666666666666668,21.666666666666668,21.666666666666668,21.666666666666668,21.666666666666668,21.666666666666668,21.666666666666668,21.666666666666668,21.666666666666668,21.666666666666668,21.666666666666668,21.666666666666668,21.666666666666668,21.666666666666668,21.666666666666668,21.666666666666668,21.666666666666668,21.666666666666668,21.666666666666668,21.666666666666668,21.666666666666668,21.666666666666668,22.5,22.5,22.5,22.5,22.5,22.5,22.5,22.5,22.5,22.5,22.5,22.5,22.5,22.5,22.5,22.5,22.5,22.5,22.5,22.5,22.5,22.5,22.5,22.5,22.5,22.5,22.5,22.5,22.5,22.5,22.5,23.333333333333336,23.333333333333336,23.333333333333336,23.333333333333336,23.333333333333336,23.333333333333336,23.333333333333336,23.333333333333336,23.333333333333336,23.333333333333336,23.333333333333336,23.333333333333336,23.333333333333336,23.333333333333336,23.333333333333336,23.333333333333336,23.333333333333336,23.333333333333336,23.333333333333336,23.333333333333336,23.333333333333336,23.333333333333336,23.333333333333336,23.333333333333336,23.333333333333336,23.333333333333336,23.333333333333336,23.333333333333336,23.333333333333336,23.333333333333336,23.333333333333336,24.166666666666668,24.166666666666668,24.166666666666668,24.166666666666668,24.166666666666668,24.166666666666668,24.166666666666668,24.166666666666668,24.166666666666668,24.166666666666668,24.166666666666668,24.166666666666668,24.166666666666668,24.166666666666668,24.166666666666668,24.166666666666668,24.166666666666668,24.166666666666668,24.166666666666668,24.166666666666668,24.166666666666668,24.166666666666668,24.166666666666668,24.166666666666668,24.166666666666668,24.166666666666668,24.166666666666668,24.166666666666668,24.166666666666668,24.166666666666668,24.166666666666668,25.0,25.0,25.0,25.0,25.0,25.0,25.0,25.0,25.0,25.0,25.0,25.0,25.0,25.0,25.0,25.0,25.0,25.0,25.0,25.0,25.0,25.0,25.0,25.0,25.0,25.0,25.0,25.0,25.0,25.0,25.0],\"z\":[0.06420811994124898,0.06458282358317924,0.06505685490823354,0.06565504763447794,0.06640778671466607,0.06735193485261659,0.0685317435496201,0.06999962704521656,0.07181659738699442,0.0740520433239219,0.07678237739630267,0.08008787417119656,0.08404679703848017,0.08872572286025349,0.09416496587463541,0.10035845267620025,0.1072287720472378,0.11460104460960141,0.12218427727244507,0.12957575590339787,0.1363104723059585,0.14197781150729705,0.1464132345240149,0.14993866963842317,0.15358368859345617,0.15920785723816078,0.1695084859269651,0.18804152900281634,0.21953610121818057,0.2708432772913011,0.3527725463416541,0.065309296092806,0.06603982298420041,0.06698462927245374,0.06820554731805106,0.0697817280512546,0.07181419225360874,0.07443139058968573,0.0777958684062966,0.08211203878750917,0.08763487865305586,0.09467901581167104,0.10362708050318004,0.11493523609458622,0.12913235240746057,0.14680726067809846,0.16857603671775256,0.195018865992713,0.22657522749078196,0.2633898001301638,0.30511413390596276,0.35069550596289845,0.39822524004304416,0.4449630735798582,0.48767249858479467,0.5233539542824516,0.5503316692537363,0.5694926213425351,0.5854274076834021,0.6073948701922017,0.6503533787855957,0.7364432476864473,0.06643982544093896,0.067530812281413,0.06895086127884875,0.0707981539843876,0.07319952398499296,0.07631840295064807,0.08036468790470086,0.08560679264109472,0.09238602148907127,0.10113311829526928,0.11238628578220011,0.12680897577209937,0.14520409818201419,0.16851873495056646,0.19782979052289174,0.23429638830850819,0.27906014171646265,0.3330721350097001,0.3968303643442299,0.47003085827735214,0.551177395556706,0.6372601139545253,0.7236868488923573,0.8046923941152024,0.8744050373240295,0.9285873195429726,0.9668390284336001,0.9948946922811936,1.0266998813647148,1.0861406403825256,1.2081480919336092,0.06767518184592725,0.06915577941733175,0.0710879521269907,0.07360807171355,0.07689280343847349,0.08117040471429737,0.08673476730630114,0.09396256180314333,0.10333364226464836,0.11545442236659342,0.13108307710645517,0.1511539216670641,0.17679587500783067,0.2093362356134726,0.2502759719014742,0.30121683526824583,0.36371558998981224,0.4390404529127071,0.52781615056618,0.629575264682907,0.7422903306062734,0.8620374218100071,0.9830113530506752,1.0981313537937778,1.2004074440158068,1.2850887543855283,1.3524467659758805,1.410922955141206,1.4802483152230383,1.5937260300070928,1.7975234618953302,0.06908821617863048,0.0710108368140604,0.07352261628297652,0.07680220416618988,0.08108112820068836,0.086658544000907,0.09391946208787272,0.1033568082357279,0.11559732846826254,0.13143064059613885,0.15183943644037678,0.17802665684804142,0.21143206927090796,0.2537258621718048,0.30676086347573317,0.37245907700753367,0.45260561510934916,0.5485296394535119,0.6606756012088172,0.788115512378252,0.9281218123443807,1.0759906700158788,1.2253402456650753,1.369074202828434,1.5011026982221467,1.618805607808702,1.7261525186958377,1.837274889072519,1.9797604686534913,2.1953586833819916,2.5328588722641827,0.07075452464007215,0.07319531298923121,0.07638522895653421,0.08055143940029486,0.08598807528790453,0.09307462115558474,0.10229839881613911,0.1142813582205322,0.1298108041259579,0.14987257595372694,0.17568327763619773,0.20871509470215488,0.2507022732931219,0.3036125506382267,0.3695606821623507,0.4506373684842574,0.5486305144670697,0.6646344060529259,0.7985832768896496,0.9488089606150243,1.1117920273390194,1.2823179231387596,1.4542285755411968,1.621873202081301,1.7822603377211241,1.9378552449915354,2.099891401071692,2.2916221017399874,2.549431801667502,2.9167520057797973,3.423953131540257,0.07275726738526433,0.07581807396719276,0.07981809239730386,0.08504141373082919,0.09185517494551676,0.10073180634969348,0.11227580445233065,0.12725489673731316,0.1466345124148134,0.1716127851333067,0.203650566362909,0.24448682884339412,0.2961243605432158,0.36076450429483675,0.4406651037328374,0.5378973503548449,0.6539920198568533,0.7895013000497194,0.9435613510518502,1.1136109552275784,1.2954721907861715,1.4839919963586543,1.6743658817998022,1.8641557301343328,2.055932736707411,2.2603856111135903,2.4993188458216915,2.8065502134317573,3.221858302671564,3.7713423944322066,4.436031006416311,0.07519181924694707,0.07900356991779645,0.0839832583620308,0.090482565111899,0.09895471893244556,0.10998076962075198,0.12430050776375678,0.14284725897486616,0.166784296016125,0.19753814786571344,0.23682033053604334,0.28662387009306844,0.3491749405135949,0.42681482757680356,0.5217872854119701,0.6359178455475558,0.7702026948787803,0.9243795505910306,1.0966233901935871,1.2835688629232667,1.480869966614632,1.6844440669118175,1.8924366185077144,2.1078394839380445,2.3415743239964844,2.615426293487591,2.9628288679327146,3.422701849278138,4.01974522980683,4.732858786047416,5.47736415854561,0.07817056164664904,0.0828980002043257,0.08907039987929133,0.0971200827548373,0.10760216607140038,0.12122486429058643,0.1388840528841897,0.16170027234461903,0.1910541432180265,0.22861273303184326,0.27633458974721203,0.33643526703288884,0.41128970113404983,0.5032462707958905,0.6143359469628227,0.7458866023102451,0.898103008567914,1.0697426921225401,1.2580838165895707,1.4594056989418769,1.6701562604504332,1.8888752372907711,2.118823160179396,2.371117086012044,2.667731527096751,3.042353268191424,3.5343080746738207,4.16891930897361,4.9256650754802305,5.719393998033858,6.429306850178332,0.08182807587476248,0.08767591636209082,0.09530511422440158,0.10524419185410328,0.11816861992917393,0.1349348283947669,0.15661729701736982,0.18454530318068052,0.22033278000152767,0.26589023955039404,0.3234020323377197,0.39524652939916105,0.48383415522397233,0.5913441981826106,0.7193638407160152,0.8684787287302248,1.037932164211104,1.2255412165487547,1.4280968678780601,1.6424474240257851,1.8673688299764573,2.106197504477478,2.3700287146167893,2.680824854011007,3.072420659593986,3.5846668675720035,4.244031184662647,5.031700871990867,5.863954930656325,6.619824864087276,7.204127599542835,0.08632696377936822,0.09354752471161143,0.1029579430303611,0.11520105612224663,0.13109360521673563,0.15166308540315443,0.17818529523945603,0.21221686432557496,0.25561286442278797,0.3105141698342708,0.3792834451101965,0.4643650806488858,0.5680481483094768,0.6921300983760568,0.8375200997401117,1.0038858612779107,1.1895223503367474,1.391672228044098,1.6075184930400486,1.8359874297579002,2.0803678423123024,2.3515597935626955,2.6712908365777386,3.0732904088807547,3.5976927321234644,4.271956744057546,5.079041234855129,5.937112022957955,6.726072077153489,7.3502318778961,7.776968912871517,0.09186449417487319,0.10076689604270783,0.11235429697128096,0.12740441168546546,0.14689809296953837,0.17205729660173008,0.20437965222392596,0.24566081554062857,0.29799061065415755,0.3637031806362686,0.445257116029234,0.5450233547994243,0.664973747105759,0.8062996688535362,0.9690514236484508,1.15196540046137,1.3527079405054327,1.5687735449134528,1.799208293867279,2.0471977721880075,2.323349311001051,2.6490059558218935,3.057588684518559,3.5892662804701283,4.27221533459377,5.090914451865979,5.965265615305805,6.776095105454109,7.427589809519683,7.886737149195989,8.17243277442995,0.0986802433620001,0.10964122614733918,0.12388535277416046,0.14234783851665822,0.16619738957699115,0.19687231576076158,0.23610684052671504,0.28593490543065614,0.3486530557822102,0.42671924079174783,0.5225645606833872,0.6383068836583305,0.7753871694051293,0.9342065591504857,1.1139186419679432,1.312601811240777,1.5280622610403363,1.7594687575053047,2.009893567420396,2.289611541008383,2.619499774836987,3.0325420590362064,3.5687650345858133,4.256842908369345,5.082526978750677,5.9672099735205535,6.792423968464199,7.462073740957543,7.942741160075521,8.25350410672264,8.43413668938188,0.10706485627900597,0.12054120341158081,0.13801982934382206,0.16061730541257802,0.18971308861611702,0.2269791194200469,0.2743903049805879,0.33419885220287826,0.4088503191248981,0.5008181100110826,0.6123421702006668,0.7450851715837223,0.8997722030068331,1.0759551355282555,1.2721198132257088,1.4863953807037498,1.7180940232169561,1.970191348185743,2.2526265541134887,2.585775649118046,3.002112088786461,3.541407819651279,4.232685158735886,5.062791668258516,5.954422456193058,6.7896148068181965,7.4717633722179695,7.966801436145236,8.293791340617092,8.4931578217184,8.603601085199069,0.11736998932563969,0.1339124117357826,0.15531632704005538,0.18290327233464632,0.21828278473116747,0.2633686827696702,0.3203636614993547,0.39169123580304177,0.47985183963408784,0.5871864081150562,0.7155541868221492,0.8659795318996419,1.0383953285687435,1.231692157824882,1.4443373051022712,1.6758154386351256,1.929036827751813,2.2136236337039756,2.549444367507233,2.9684244304729974,3.5100110729286276,4.203475891981812,5.03664576090983,5.9333972129007755,6.7761430201032145,7.4676018217266815,7.9728437979901035,8.31067021654884,8.52191074029982,8.64605923403064,8.712546232097559,0.1300193929979665,0.1502875112482821,0.17643561284511355,0.21001119697282822,0.25286570787318685,0.3071482904651799,0.37525231279268245,0.4596918720409823,0.5628898472244712,0.686878668070391,0.8329582212039331,1.001425005527897,1.191570852431214,1.4022163771401779,1.6330506265463614,1.8869573184991317,2.173272981718216,2.5113698995252256,2.9326095486746615,3.476070466603327,4.171205784895099,5.006742566851943,5.907664379883183,6.7566867303441605,7.455753143102022,7.968927902131991,8.314571204108063,8.533709690933982,8.666400849826042,8.74279163252646,8.782755494328441,0.14552093700017554,0.17029868071200127,0.2021518510895729,0.24286880656700904,0.29454198462304193,0.3595277345869179,0.4403419872720251,0.5394721508718776,0.6591017532391967,0.8007828886758642,0.9651573705390846,1.1519127481833502,1.3602360587032631,1.5900523174039718,1.8442607203092014,2.1319510903121994,2.4720220152787964,2.8952690801504435,3.4403739910891655,4.136921890463831,4.9744826644015845,5.8790997966638585,6.733754101878267,7.439560173522569,7.9594893415878705,8.311346088920796,8.536217539075887,8.674563033584512,8.757053873467843,8.804127733465169,8.82839691620591,0.16447915918259692,0.194689470646201,0.23336134489439164,0.282528075671569,0.3445031587773846,0.421793851211857,0.5169360993219347,0.6322435722278619,0.7694975110728859,0.9296656182912465,1.1128230706710218,1.3185332590423293,1.5469866495334927,1.8011406520439275,2.089881698023274,2.431664807442434,2.856727214778617,3.4033359972744113,4.101169663047077,4.9405956242813485,5.848684916583963,6.708665871258061,7.420796747393638,7.946903221944389,8.304162936370684,8.533640789144423,8.67610012698696,8.762615651243506,8.814038287349861,8.843396513193033,8.858445871049232,0.18760762888420301,0.22432483077129095,0.2710869678298148,0.3301597534467098,0.404032449656202,0.49527486468346127,0.6063109365315461,0.7391282868536534,0.8950000059642615,1.0743781518461921,1.277208759308243,1.5039740752703303,1.7577315638972943,2.0472099947632447,2.3904563768117058,2.817164249531261,3.3651756672010666,4.064230855737334,4.905456218880772,5.816925560172013,6.68210711711051,7.400389698979575,7.932419845173218,8.294702450332315,8.528230286510754,8.674014786429714,8.763465236198039,8.817757200184923,8.850220966583358,8.868910015784937,8.878529914834763,0.2157400772721545,0.26019772782958006,0.31647635965389087,0.3870390079596676,0.47447591720579696,0.5813025176303535,0.7096904543693663,0.8611968155220671,1.0366372657554954,1.2363429865282245,1.4611105787635783,1.7141374312481812,2.0040414440911216,2.348501215971872,2.776687022504755,3.3260114433473933,4.026249857689862,4.869253167930282,5.784076894825869,6.654426486564674,7.3788154882534585,7.916687953744258,8.283843743095769,8.521171870805128,8.669900190830532,8.76173537089938,8.818129366218002,8.852650194063983,8.873564730595671,8.885789431278667,8.892175121778646,0.2498389405941237,0.3034306680135367,0.3707925897365024,0.4545231650239845,0.5572116650045091,0.6811919539044768,0.828283085712998,0.9996487770075512,1.1960041253015352,1.4184785691310982,1.670446558722705,1.960461960803867,2.3058776113889863,2.735365915961985,3.285910765617351,3.987300363695539,4.8320783813248225,5.750262789260306,6.6257956596508105,7.356312928786009,7.90003786746837,8.272039965682508,8.513082476583593,8.66459120024625,8.758550678046872,8.816664326469285,8.852704079107957,8.87510432307518,8.888930953837372,8.897183814158781,8.901602715781303,0.29099987463430976,0.3552709990081906,0.4353981652310458,0.534027988531888,0.6536354445381218,0.7962791450952675,0.9634533334279674,1.1562522378758668,1.3761523758311167,1.6267390991498907,1.9165482891200407,2.262651900010395,2.693254249193019,3.2449162272931407,3.9474204768579852,4.79397397427617,5.7155387532881985,6.596293597164792,7.332995914052278,7.882632180146517,8.259519461551976,8.504278042529616,8.65852006660379,8.754497934656161,8.814154377726913,8.851448384636585,8.874958205911165,8.889866584327608,8.89927824872925,8.905038644185284,8.90822507106668,0.34045131241122983,0.417080844151279,0.5117382926400638,0.627019464814299,0.7652000076103225,0.928085532426031,1.117141316887511,1.33420093256359,1.5830907577676476,1.8723732334911714,2.2188858145320416,2.650398413824121,3.203059334207394,3.906631202512791,4.754957024619372,5.679925058627429,6.565950875826191,7.308912797096982,7.864545296232814,8.246392254704576,8.494915943873377,8.651906652593928,8.749879561930227,8.81101137878776,8.84944045561062,8.87387746238409,8.889605514063947,8.899811227264955,8.906414259733094,8.910567210457728,8.912951141911428,0.39954995551362815,0.4903271684876692,0.6013391483194438,0.7350561841879616,0.8935748079065045,1.0787202784510503,1.2926890063595262,1.5395745031651193,1.828008183697538,2.174640189902177,2.6068431400695804,3.1603677534539703,3.864946225729184,4.7150326445714885,5.6434241842512165,6.53477299893235,7.2840775904945385,7.845805237572458,8.232706093419598,8.485070109470808,8.644859049665087,8.744848259093681,8.807446628009377,8.846969047432932,8.872253709431684,8.888676354301115,8.899494064756844,8.9066845728646,8.911453548232169,8.914536087275907,8.916374095934161,0.46977740355563025,0.5765867076806328,0.705854197984906,0.8599459269278684,1.04103342280013,1.251677683717787,1.4962612415303114,1.783524215499812,2.1299767465825314,2.5626341937812205,3.1168691385448297,3.822377117075331,4.674200929571093,5.606030045951124,6.502752676012486,7.258486357975544,7.826415582675105,8.218475861002005,8.474770473936962,8.637426500529712,8.739477966318066,8.803565945842372,8.84418159025913,8.870289188177834,8.887354018307937,8.898698423414222,8.906350335865191,8.911557225635319,8.915092575221617,8.917437340406474,8.918886924250074,0.49175016695049634,0.6034222080288744,0.7381876014163657,0.8984128790466622,1.0863887952384905,1.305099249979024,1.5599211927433667,1.8614380134430313,2.2288910847923677,2.692130321621458,3.286949552810671,4.036732462872916,4.921179130882061,5.856784652043803,6.724191646791468,7.430721577173276,7.947839102454843,8.298597021215206,8.525630010955146,8.669124834966906,8.75915307267333,8.815847883732522,8.851945361056796,8.87528406397101,8.890637702147139,8.900912558082016,8.907888456583775,8.912665284176553,8.915928791098064,8.918108014133889,8.919468223207689,0.49175016695049634,0.6034222080288744,0.7381876014163657,0.8984128790466622,1.0863887952384905,1.305099249979024,1.5599211927433667,1.8614380134430313,2.2288910847923677,2.692130321621458,3.286949552810671,4.036732462872916,4.921179130882061,5.856784652043803,6.724191646791468,7.430721577173276,7.947839102454843,8.298597021215206,8.525630010955146,8.669124834966906,8.75915307267333,8.815847883732522,8.851945361056796,8.87528406397101,8.890637702147139,8.900912558082016,8.907888456583775,8.912665284176553,8.915928791098064,8.918108014133889,8.919468223207689,0.49175016695049634,0.6034222080288744,0.7381876014163657,0.8984128790466622,1.0863887952384905,1.305099249979024,1.5599211927433667,1.8614380134430313,2.2288910847923677,2.692130321621458,3.286949552810671,4.036732462872916,4.921179130882061,5.856784652043803,6.724191646791468,7.430721577173276,7.947839102454843,8.298597021215206,8.525630010955146,8.669124834966906,8.75915307267333,8.815847883732522,8.851945361056796,8.87528406397101,8.890637702147139,8.900912558082016,8.907888456583775,8.912665284176553,8.915928791098064,8.918108014133889,8.919468223207689,0.49175016695049634,0.6034222080288744,0.7381876014163657,0.8984128790466622,1.0863887952384905,1.305099249979024,1.5599211927433667,1.8614380134430313,2.2288910847923677,2.692130321621458,3.286949552810671,4.036732462872916,4.921179130882061,5.856784652043803,6.724191646791468,7.430721577173276,7.947839102454843,8.298597021215206,8.525630010955146,8.669124834966906,8.75915307267333,8.815847883732522,8.851945361056796,8.87528406397101,8.890637702147139,8.900912558082016,8.907888456583775,8.912665284176553,8.915928791098064,8.918108014133889,8.919468223207689,0.49175016695049634,0.6034222080288744,0.7381876014163657,0.8984128790466622,1.0863887952384905,1.305099249979024,1.5599211927433667,1.8614380134430313,2.2288910847923677,2.692130321621458,3.286949552810671,4.036732462872916,4.921179130882061,5.856784652043803,6.724191646791468,7.430721577173276,7.947839102454843,8.298597021215206,8.525630010955146,8.669124834966906,8.75915307267333,8.815847883732522,8.851945361056796,8.87528406397101,8.890637702147139,8.900912558082016,8.907888456583775,8.912665284176553,8.915928791098064,8.918108014133889,8.919468223207689,0.49175016695049634,0.6034222080288744,0.7381876014163657,0.8984128790466622,1.0863887952384905,1.305099249979024,1.5599211927433667,1.8614380134430313,2.2288910847923677,2.692130321621458,3.286949552810671,4.036732462872916,4.921179130882061,5.856784652043803,6.724191646791468,7.430721577173276,7.947839102454843,8.298597021215206,8.525630010955146,8.669124834966906,8.75915307267333,8.815847883732522,8.851945361056796,8.87528406397101,8.890637702147139,8.900912558082016,8.907888456583775,8.912665284176553,8.915928791098064,8.918108014133889,8.919468223207689],\"type\":\"scatter3d\",\"scene\":\"scene4\"},{\"marker\":{\"color\":\"blue\"},\"mode\":\"markers\",\"name\":\"Efficiency\",\"x\":[43.4445664183982,48.36870762462607,53.49908748707974],\"y\":[3.0390514716698935,1.4820438046589925,0.6746022395617615],\"z\":[7.61305627629414,10.147318176051215,14.372508998150845],\"type\":\"scatter3d\",\"scene\":\"scene\"},{\"marker\":{\"color\":\"green\"},\"mode\":\"markers+lines+text\",\"name\":\"Operation\",\"text\":[\"(43.44,3.04,6.00)\",\"(48.37,1.48,7.62)\",\"(53.50,0.67,10.15)\",\"(60.00,0.10,14.37)\"],\"textposition\":\"bottom center\",\"x\":[43.4445664183982,48.36870762462607,53.49908748707974,60.0],\"y\":[3.0390514716698935,1.4820438046589925,0.6746022395617615,0.1],\"z\":[6.0,7.617340984877482,10.149188514633034,14.372508998150845],\"type\":\"scatter3d\",\"scene\":\"scene\"},{\"marker\":{\"color\":\"blue\"},\"mode\":\"markers\",\"name\":\"Efficiency\",\"x\":[43.4445664183982,48.36870762462607,53.49908748707974],\"y\":[3.0390514716698935,1.4820438046589925,0.6746022395617615],\"z\":[6.233949769390781,6.879463672842793,7.414195422761623],\"type\":\"scatter3d\",\"scene\":\"scene2\"},{\"marker\":{\"color\":\"green\"},\"mode\":\"markers+lines+text\",\"name\":\"Operation\",\"text\":[\"(43.44,3.04,6.00)\",\"(48.37,1.48,6.24)\",\"(53.50,0.67,6.88)\",\"(60.00,0.10,7.41)\"],\"textposition\":\"bottom center\",\"x\":[43.4445664183982,48.36870762462607,53.49908748707974,60.0],\"y\":[3.0390514716698935,1.4820438046589925,0.6746022395617615,0.1],\"z\":[6.0,6.23548025103419,6.882029758375242,7.414195422761623],\"type\":\"scatter3d\",\"scene\":\"scene2\"},{\"marker\":{\"color\":\"blue\"},\"mode\":\"markers\",\"name\":\"Efficiency\",\"x\":[43.4445664183982,48.36870762462607,53.49908748707974],\"y\":[3.0390514716698935,1.4820438046589925,0.6746022395617615],\"z\":[0.7481566806387805,0.6011520180888008,0.45779287583091],\"type\":\"scatter3d\",\"scene\":\"scene4\"},{\"marker\":{\"color\":\"green\"},\"mode\":\"markers+lines+text\",\"name\":\"Operation\",\"text\":[\"(43.44,3.04,1.00)\",\"(48.37,1.48,0.75)\",\"(53.50,0.67,0.60)\",\"(60.00,0.10,0.46)\"],\"textposition\":\"bottom center\",\"x\":[43.4445664183982,48.36870762462607,53.49908748707974,60.0],\"y\":[3.0390514716698935,1.4820438046589925,0.6746022395617615,0.1],\"z\":[1.0,0.7483286556817383,0.5992735623125072,0.45779287583091],\"type\":\"scatter3d\",\"scene\":\"scene4\"},{\"marker\":{\"color\":\"blue\"},\"mode\":\"markers\",\"name\":\"Efficiency\",\"x\":[43.4445664183982,48.36870762462607,53.49908748707974],\"y\":[3.0390514716698935,1.4820438046589925,0.6746022395617615],\"z\":[0.9920310618684957,0.9920310618684957,0.9920310618684957],\"type\":\"scatter3d\",\"scene\":\"scene3\"},{\"marker\":{\"color\":\"green\"},\"mode\":\"markers+lines+text\",\"name\":\"Operation\",\"text\":[\"(43.44,3.04,0.99)\",\"(48.37,1.48,0.99)\",\"(53.50,0.67,0.99)\",\"(60.00,0.10,1.00)\"],\"textposition\":\"bottom center\",\"x\":[43.4445664183982,48.36870762462607,53.49908748707974,60.0],\"y\":[3.0390514716698935,1.4820438046589925,0.6746022395617615,0.1],\"z\":[0.9920310618684957,0.9920310618684957,0.9920310618684957,1.0],\"type\":\"scatter3d\",\"scene\":\"scene3\"}],                        {\"template\":{\"data\":{\"histogram2dcontour\":[{\"type\":\"histogram2dcontour\",\"colorbar\":{\"outlinewidth\":0,\"ticks\":\"\"},\"colorscale\":[[0.0,\"#0d0887\"],[0.1111111111111111,\"#46039f\"],[0.2222222222222222,\"#7201a8\"],[0.3333333333333333,\"#9c179e\"],[0.4444444444444444,\"#bd3786\"],[0.5555555555555556,\"#d8576b\"],[0.6666666666666666,\"#ed7953\"],[0.7777777777777778,\"#fb9f3a\"],[0.8888888888888888,\"#fdca26\"],[1.0,\"#f0f921\"]]}],\"choropleth\":[{\"type\":\"choropleth\",\"colorbar\":{\"outlinewidth\":0,\"ticks\":\"\"}}],\"histogram2d\":[{\"type\":\"histogram2d\",\"colorbar\":{\"outlinewidth\":0,\"ticks\":\"\"},\"colorscale\":[[0.0,\"#0d0887\"],[0.1111111111111111,\"#46039f\"],[0.2222222222222222,\"#7201a8\"],[0.3333333333333333,\"#9c179e\"],[0.4444444444444444,\"#bd3786\"],[0.5555555555555556,\"#d8576b\"],[0.6666666666666666,\"#ed7953\"],[0.7777777777777778,\"#fb9f3a\"],[0.8888888888888888,\"#fdca26\"],[1.0,\"#f0f921\"]]}],\"heatmap\":[{\"type\":\"heatmap\",\"colorbar\":{\"outlinewidth\":0,\"ticks\":\"\"},\"colorscale\":[[0.0,\"#0d0887\"],[0.1111111111111111,\"#46039f\"],[0.2222222222222222,\"#7201a8\"],[0.3333333333333333,\"#9c179e\"],[0.4444444444444444,\"#bd3786\"],[0.5555555555555556,\"#d8576b\"],[0.6666666666666666,\"#ed7953\"],[0.7777777777777778,\"#fb9f3a\"],[0.8888888888888888,\"#fdca26\"],[1.0,\"#f0f921\"]]}],\"heatmapgl\":[{\"type\":\"heatmapgl\",\"colorbar\":{\"outlinewidth\":0,\"ticks\":\"\"},\"colorscale\":[[0.0,\"#0d0887\"],[0.1111111111111111,\"#46039f\"],[0.2222222222222222,\"#7201a8\"],[0.3333333333333333,\"#9c179e\"],[0.4444444444444444,\"#bd3786\"],[0.5555555555555556,\"#d8576b\"],[0.6666666666666666,\"#ed7953\"],[0.7777777777777778,\"#fb9f3a\"],[0.8888888888888888,\"#fdca26\"],[1.0,\"#f0f921\"]]}],\"contourcarpet\":[{\"type\":\"contourcarpet\",\"colorbar\":{\"outlinewidth\":0,\"ticks\":\"\"}}],\"contour\":[{\"type\":\"contour\",\"colorbar\":{\"outlinewidth\":0,\"ticks\":\"\"},\"colorscale\":[[0.0,\"#0d0887\"],[0.1111111111111111,\"#46039f\"],[0.2222222222222222,\"#7201a8\"],[0.3333333333333333,\"#9c179e\"],[0.4444444444444444,\"#bd3786\"],[0.5555555555555556,\"#d8576b\"],[0.6666666666666666,\"#ed7953\"],[0.7777777777777778,\"#fb9f3a\"],[0.8888888888888888,\"#fdca26\"],[1.0,\"#f0f921\"]]}],\"surface\":[{\"type\":\"surface\",\"colorbar\":{\"outlinewidth\":0,\"ticks\":\"\"},\"colorscale\":[[0.0,\"#0d0887\"],[0.1111111111111111,\"#46039f\"],[0.2222222222222222,\"#7201a8\"],[0.3333333333333333,\"#9c179e\"],[0.4444444444444444,\"#bd3786\"],[0.5555555555555556,\"#d8576b\"],[0.6666666666666666,\"#ed7953\"],[0.7777777777777778,\"#fb9f3a\"],[0.8888888888888888,\"#fdca26\"],[1.0,\"#f0f921\"]]}],\"mesh3d\":[{\"type\":\"mesh3d\",\"colorbar\":{\"outlinewidth\":0,\"ticks\":\"\"}}],\"scatter\":[{\"fillpattern\":{\"fillmode\":\"overlay\",\"size\":10,\"solidity\":0.2},\"type\":\"scatter\"}],\"parcoords\":[{\"type\":\"parcoords\",\"line\":{\"colorbar\":{\"outlinewidth\":0,\"ticks\":\"\"}}}],\"scatterpolargl\":[{\"type\":\"scatterpolargl\",\"marker\":{\"colorbar\":{\"outlinewidth\":0,\"ticks\":\"\"}}}],\"bar\":[{\"error_x\":{\"color\":\"#2a3f5f\"},\"error_y\":{\"color\":\"#2a3f5f\"},\"marker\":{\"line\":{\"color\":\"#E5ECF6\",\"width\":0.5},\"pattern\":{\"fillmode\":\"overlay\",\"size\":10,\"solidity\":0.2}},\"type\":\"bar\"}],\"scattergeo\":[{\"type\":\"scattergeo\",\"marker\":{\"colorbar\":{\"outlinewidth\":0,\"ticks\":\"\"}}}],\"scatterpolar\":[{\"type\":\"scatterpolar\",\"marker\":{\"colorbar\":{\"outlinewidth\":0,\"ticks\":\"\"}}}],\"histogram\":[{\"marker\":{\"pattern\":{\"fillmode\":\"overlay\",\"size\":10,\"solidity\":0.2}},\"type\":\"histogram\"}],\"scattergl\":[{\"type\":\"scattergl\",\"marker\":{\"colorbar\":{\"outlinewidth\":0,\"ticks\":\"\"}}}],\"scatter3d\":[{\"type\":\"scatter3d\",\"line\":{\"colorbar\":{\"outlinewidth\":0,\"ticks\":\"\"}},\"marker\":{\"colorbar\":{\"outlinewidth\":0,\"ticks\":\"\"}}}],\"scattermapbox\":[{\"type\":\"scattermapbox\",\"marker\":{\"colorbar\":{\"outlinewidth\":0,\"ticks\":\"\"}}}],\"scatterternary\":[{\"type\":\"scatterternary\",\"marker\":{\"colorbar\":{\"outlinewidth\":0,\"ticks\":\"\"}}}],\"scattercarpet\":[{\"type\":\"scattercarpet\",\"marker\":{\"colorbar\":{\"outlinewidth\":0,\"ticks\":\"\"}}}],\"carpet\":[{\"aaxis\":{\"endlinecolor\":\"#2a3f5f\",\"gridcolor\":\"white\",\"linecolor\":\"white\",\"minorgridcolor\":\"white\",\"startlinecolor\":\"#2a3f5f\"},\"baxis\":{\"endlinecolor\":\"#2a3f5f\",\"gridcolor\":\"white\",\"linecolor\":\"white\",\"minorgridcolor\":\"white\",\"startlinecolor\":\"#2a3f5f\"},\"type\":\"carpet\"}],\"table\":[{\"cells\":{\"fill\":{\"color\":\"#EBF0F8\"},\"line\":{\"color\":\"white\"}},\"header\":{\"fill\":{\"color\":\"#C8D4E3\"},\"line\":{\"color\":\"white\"}},\"type\":\"table\"}],\"barpolar\":[{\"marker\":{\"line\":{\"color\":\"#E5ECF6\",\"width\":0.5},\"pattern\":{\"fillmode\":\"overlay\",\"size\":10,\"solidity\":0.2}},\"type\":\"barpolar\"}],\"pie\":[{\"automargin\":true,\"type\":\"pie\"}]},\"layout\":{\"autotypenumbers\":\"strict\",\"colorway\":[\"#636efa\",\"#EF553B\",\"#00cc96\",\"#ab63fa\",\"#FFA15A\",\"#19d3f3\",\"#FF6692\",\"#B6E880\",\"#FF97FF\",\"#FECB52\"],\"font\":{\"color\":\"#2a3f5f\"},\"hovermode\":\"closest\",\"hoverlabel\":{\"align\":\"left\"},\"paper_bgcolor\":\"white\",\"plot_bgcolor\":\"#E5ECF6\",\"polar\":{\"bgcolor\":\"#E5ECF6\",\"angularaxis\":{\"gridcolor\":\"white\",\"linecolor\":\"white\",\"ticks\":\"\"},\"radialaxis\":{\"gridcolor\":\"white\",\"linecolor\":\"white\",\"ticks\":\"\"}},\"ternary\":{\"bgcolor\":\"#E5ECF6\",\"aaxis\":{\"gridcolor\":\"white\",\"linecolor\":\"white\",\"ticks\":\"\"},\"baxis\":{\"gridcolor\":\"white\",\"linecolor\":\"white\",\"ticks\":\"\"},\"caxis\":{\"gridcolor\":\"white\",\"linecolor\":\"white\",\"ticks\":\"\"}},\"coloraxis\":{\"colorbar\":{\"outlinewidth\":0,\"ticks\":\"\"}},\"colorscale\":{\"sequential\":[[0.0,\"#0d0887\"],[0.1111111111111111,\"#46039f\"],[0.2222222222222222,\"#7201a8\"],[0.3333333333333333,\"#9c179e\"],[0.4444444444444444,\"#bd3786\"],[0.5555555555555556,\"#d8576b\"],[0.6666666666666666,\"#ed7953\"],[0.7777777777777778,\"#fb9f3a\"],[0.8888888888888888,\"#fdca26\"],[1.0,\"#f0f921\"]],\"sequentialminus\":[[0.0,\"#0d0887\"],[0.1111111111111111,\"#46039f\"],[0.2222222222222222,\"#7201a8\"],[0.3333333333333333,\"#9c179e\"],[0.4444444444444444,\"#bd3786\"],[0.5555555555555556,\"#d8576b\"],[0.6666666666666666,\"#ed7953\"],[0.7777777777777778,\"#fb9f3a\"],[0.8888888888888888,\"#fdca26\"],[1.0,\"#f0f921\"]],\"diverging\":[[0,\"#8e0152\"],[0.1,\"#c51b7d\"],[0.2,\"#de77ae\"],[0.3,\"#f1b6da\"],[0.4,\"#fde0ef\"],[0.5,\"#f7f7f7\"],[0.6,\"#e6f5d0\"],[0.7,\"#b8e186\"],[0.8,\"#7fbc41\"],[0.9,\"#4d9221\"],[1,\"#276419\"]]},\"xaxis\":{\"gridcolor\":\"white\",\"linecolor\":\"white\",\"ticks\":\"\",\"title\":{\"standoff\":15},\"zerolinecolor\":\"white\",\"automargin\":true,\"zerolinewidth\":2},\"yaxis\":{\"gridcolor\":\"white\",\"linecolor\":\"white\",\"ticks\":\"\",\"title\":{\"standoff\":15},\"zerolinecolor\":\"white\",\"automargin\":true,\"zerolinewidth\":2},\"scene\":{\"xaxis\":{\"backgroundcolor\":\"#E5ECF6\",\"gridcolor\":\"white\",\"linecolor\":\"white\",\"showbackground\":true,\"ticks\":\"\",\"zerolinecolor\":\"white\",\"gridwidth\":2},\"yaxis\":{\"backgroundcolor\":\"#E5ECF6\",\"gridcolor\":\"white\",\"linecolor\":\"white\",\"showbackground\":true,\"ticks\":\"\",\"zerolinecolor\":\"white\",\"gridwidth\":2},\"zaxis\":{\"backgroundcolor\":\"#E5ECF6\",\"gridcolor\":\"white\",\"linecolor\":\"white\",\"showbackground\":true,\"ticks\":\"\",\"zerolinecolor\":\"white\",\"gridwidth\":2}},\"shapedefaults\":{\"line\":{\"color\":\"#2a3f5f\"}},\"annotationdefaults\":{\"arrowcolor\":\"#2a3f5f\",\"arrowhead\":0,\"arrowwidth\":1},\"geo\":{\"bgcolor\":\"white\",\"landcolor\":\"#E5ECF6\",\"subunitcolor\":\"white\",\"showland\":true,\"showlakes\":true,\"lakecolor\":\"white\"},\"title\":{\"x\":0.05},\"mapbox\":{\"style\":\"light\"}}},\"scene\":{\"domain\":{\"x\":[0.0,0.45],\"y\":[0.525,1.0]},\"camera\":{\"eye\":{\"x\":0,\"y\":-2.2,\"z\":0.01},\"projection\":{\"type\":\"orthographic\"}},\"aspectratio\":{\"x\":1,\"y\":1,\"z\":1},\"xaxis\":{\"title\":{\"text\":\"H3PO4_aq\"}},\"yaxis\":{\"title\":{\"text\":\"SO4_aq\"}}},\"scene2\":{\"domain\":{\"x\":[0.55,1.0],\"y\":[0.525,1.0]},\"camera\":{\"eye\":{\"x\":0,\"y\":-2.2,\"z\":0.01},\"projection\":{\"type\":\"orthographic\"}},\"aspectratio\":{\"x\":1,\"y\":1,\"z\":1},\"xaxis\":{\"title\":{\"text\":\"H3PO4_aq\"}},\"yaxis\":{\"title\":{\"text\":\"SO4_aq\"}}},\"scene3\":{\"domain\":{\"x\":[0.0,0.45],\"y\":[0.0,0.475]},\"camera\":{\"eye\":{\"x\":0,\"y\":-2.2,\"z\":0.01},\"projection\":{\"type\":\"orthographic\"}},\"aspectratio\":{\"x\":1,\"y\":1,\"z\":1},\"xaxis\":{\"title\":{\"text\":\"H3PO4_aq\"}},\"yaxis\":{\"title\":{\"text\":\"SO4_aq\"}}},\"scene4\":{\"domain\":{\"x\":[0.55,1.0],\"y\":[0.0,0.475]},\"camera\":{\"eye\":{\"x\":0,\"y\":-2.2,\"z\":0.01},\"projection\":{\"type\":\"orthographic\"}},\"aspectratio\":{\"x\":1,\"y\":1,\"z\":1},\"xaxis\":{\"title\":{\"text\":\"H3PO4_aq\"}},\"yaxis\":{\"title\":{\"text\":\"SO4_aq\"}}},\"annotations\":[{\"font\":{\"size\":16},\"showarrow\":false,\"text\":\"H3PO4_org\",\"x\":0.225,\"xanchor\":\"center\",\"xref\":\"paper\",\"y\":1.0,\"yanchor\":\"bottom\",\"yref\":\"paper\"},{\"font\":{\"size\":16},\"showarrow\":false,\"text\":\"water_org\",\"x\":0.775,\"xanchor\":\"center\",\"xref\":\"paper\",\"y\":1.0,\"yanchor\":\"bottom\",\"yref\":\"paper\"},{\"font\":{\"size\":16},\"showarrow\":false,\"text\":\"solvent_aq\",\"x\":0.225,\"xanchor\":\"center\",\"xref\":\"paper\",\"y\":0.475,\"yanchor\":\"bottom\",\"yref\":\"paper\"},{\"font\":{\"size\":16},\"showarrow\":false,\"text\":\"SO4_org\",\"x\":0.775,\"xanchor\":\"center\",\"xref\":\"paper\",\"y\":0.475,\"yanchor\":\"bottom\",\"yref\":\"paper\"}],\"margin\":{\"l\":0,\"r\":0,\"b\":0,\"t\":30},\"title\":{\"text\":\"\"},\"autosize\":true,\"width\":980,\"height\":980},                        {\"responsive\": true}                    ).then(function(){\n",
              "                            \n",
              "var gd = document.getElementById('3bb8adf0-221c-4573-a526-ca31db558a1f');\n",
              "var x = new MutationObserver(function (mutations, observer) {{\n",
              "        var display = window.getComputedStyle(gd).display;\n",
              "        if (!display || display === 'none') {{\n",
              "            console.log([gd, 'removed!']);\n",
              "            Plotly.purge(gd);\n",
              "            observer.disconnect();\n",
              "        }}\n",
              "}});\n",
              "\n",
              "// Listen for the removal of the full notebook cells\n",
              "var notebookContainer = gd.closest('#notebook-container');\n",
              "if (notebookContainer) {{\n",
              "    x.observe(notebookContainer, {childList: true});\n",
              "}}\n",
              "\n",
              "// Listen for the clearing of the current output cell\n",
              "var outputEl = gd.closest('.output');\n",
              "if (outputEl) {{\n",
              "    x.observe(outputEl, {childList: true});\n",
              "}}\n",
              "\n",
              "                        })                };                            </script>        </div>\n",
              "</body>\n",
              "</html>"
            ]
          },
          "metadata": {}
        }
      ]
    },
    {
      "cell_type": "markdown",
      "source": [
        "### 6 - Extraction1 - raffinate"
      ],
      "metadata": {
        "id": "b9ydce_2A5Nx"
      }
    },
    {
      "cell_type": "code",
      "source": [
        "err = []\n",
        "a=[2,3]\n",
        "b=[6]\n",
        "err+=a+b\n",
        "# err = np.concatenate([err,a,b]).reshape(1,-1)\n",
        "# pd.DataFrame(err)\n",
        "err"
      ],
      "metadata": {
        "id": "mfoMpcr0WHpb",
        "outputId": "2b83a534-9edd-4dc6-970f-615dacff065f",
        "colab": {
          "base_uri": "https://localhost:8080/"
        }
      },
      "execution_count": 122,
      "outputs": [
        {
          "output_type": "execute_result",
          "data": {
            "text/plain": [
              "[2, 3, 6]"
            ]
          },
          "metadata": {},
          "execution_count": 122
        }
      ]
    },
    {
      "cell_type": "code",
      "source": [
        "bat1_2=BatteryConv(stages_num=3, Oin=173.2, Ain=50, yin=[6, 6, 1 ], xin=[1, 60, .1], EQUIL=EQUIL_rotem_extr1, method='succesive', eff=.8, max_iter=10, convergence=1E-4)#, entrainment_perc_in=[1,2], entrainment_comp_in=[[10,10,10],[5,5,5]], entrainment_perc_out=[3,4])\n",
        "bat1_2.runs"
      ],
      "metadata": {
        "outputId": "5320da5b-82ed-43d7-c83e-46e9cc410b73",
        "colab": {
          "base_uri": "https://localhost:8080/"
        },
        "id": "50HkOiJ2A5Ny"
      },
      "execution_count": 139,
      "outputs": [
        {
          "output_type": "stream",
          "name": "stdout",
          "text": [
            "10 iterations!\n"
          ]
        },
        {
          "output_type": "execute_result",
          "data": {
            "text/plain": [
              "10"
            ]
          },
          "metadata": {},
          "execution_count": 139
        }
      ]
    },
    {
      "cell_type": "code",
      "source": [
        "bat1_2.error_list2"
      ],
      "metadata": {
        "id": "NCwIB39pNeQk",
        "outputId": "58332b58-11c1-4f69-c744-343f93175b8d",
        "colab": {
          "base_uri": "https://localhost:8080/",
          "height": 414
        }
      },
      "execution_count": 140,
      "outputs": [
        {
          "output_type": "execute_result",
          "data": {
            "text/plain": [
              "           0         1         2         3          4         5         6   \\\n",
              "0  -15.215495 -1.265162 -5.984966  0.306110  15.215495  0.007969  8.886881   \n",
              "1    9.865022  1.751003  6.719071  0.156558   0.330110  0.000000  1.286137   \n",
              "2    0.485449 -1.050570 -3.303067 -0.274233   3.641744  0.000000  2.060686   \n",
              "3   -4.125017  1.345340  6.824480  0.518319  -3.888040  0.000000 -1.454773   \n",
              "4    4.610318 -1.133208 -6.203474 -0.471115   6.174911  0.000000  1.952755   \n",
              "5    5.351634  0.516838  1.627117  0.420579  -5.533788  0.000000 -1.174089   \n",
              "6   -1.952368 -0.281289 -0.964110 -0.380233   3.094728  0.000000  3.290650   \n",
              "7    0.043410  0.173967  0.495974  0.013510  -1.685243  0.000000 -2.697252   \n",
              "8   -2.503071 -0.273301 -0.775055 -0.037599   2.897687  0.000000  0.056834   \n",
              "9    0.918759  0.075021  0.209714  0.010276  -2.810469  0.000000 -0.942091   \n",
              "10  -1.000162 -0.144979 -0.403935 -0.059201   0.150036  0.000000  0.812626   \n",
              "\n",
              "          7          8         9         10        11         12        13  \\\n",
              "0  -1.261845 -15.215495 -1.265162 -5.984966  0.306110  15.215495  0.007969   \n",
              "1  -0.246323  -0.330110  0.127606 -0.307203  0.034372  -6.697006  0.000000   \n",
              "2   0.394020  -0.473729  0.418958  3.265910  0.172458   0.471668  0.000000   \n",
              "3  -0.355551   4.845157 -0.318260 -2.050192 -0.169724   2.691440  0.000000   \n",
              "4   5.312622  -7.608489  1.218377  6.074520 -0.255522  -1.767175  0.000000   \n",
              "5  -5.288648   8.376931 -1.086914 -5.318891  0.292209   6.953067  0.000000   \n",
              "6  -0.075052   9.209973  0.617542  2.520658  0.160795  -6.616345  0.000000   \n",
              "7   0.134599  -6.883470 -0.501915 -1.897400 -0.123883   3.298330  0.000000   \n",
              "8   0.097124   0.444052  0.030512  0.215244  0.024335  -2.574264  0.000000   \n",
              "9  -0.122972  -2.266866 -0.187463 -0.959207 -0.058736   0.475393  0.000000   \n",
              "10  0.056174   1.244117  0.150383  0.700460  0.036012  -1.146021  0.000000   \n",
              "\n",
              "          14        15  \n",
              "0   8.886881 -1.261845  \n",
              "1  -2.850387  0.564796  \n",
              "2  -0.354850  0.038893  \n",
              "3   1.487877  0.229386  \n",
              "4  -0.416547 -0.209108  \n",
              "5   2.835176 -0.615402  \n",
              "6  -2.952151  0.645532  \n",
              "7   0.628999  0.230095  \n",
              "8  -0.481022 -0.172899  \n",
              "9   0.600293  0.046938  \n",
              "10 -0.854150 -0.091685  "
            ],
            "text/html": [
              "\n",
              "  <div id=\"df-ca23a115-26dd-48c5-bc68-c6a0c99d6be0\" class=\"colab-df-container\">\n",
              "    <div>\n",
              "<style scoped>\n",
              "    .dataframe tbody tr th:only-of-type {\n",
              "        vertical-align: middle;\n",
              "    }\n",
              "\n",
              "    .dataframe tbody tr th {\n",
              "        vertical-align: top;\n",
              "    }\n",
              "\n",
              "    .dataframe thead th {\n",
              "        text-align: right;\n",
              "    }\n",
              "</style>\n",
              "<table border=\"1\" class=\"dataframe\">\n",
              "  <thead>\n",
              "    <tr style=\"text-align: right;\">\n",
              "      <th></th>\n",
              "      <th>0</th>\n",
              "      <th>1</th>\n",
              "      <th>2</th>\n",
              "      <th>3</th>\n",
              "      <th>4</th>\n",
              "      <th>5</th>\n",
              "      <th>6</th>\n",
              "      <th>7</th>\n",
              "      <th>8</th>\n",
              "      <th>9</th>\n",
              "      <th>10</th>\n",
              "      <th>11</th>\n",
              "      <th>12</th>\n",
              "      <th>13</th>\n",
              "      <th>14</th>\n",
              "      <th>15</th>\n",
              "    </tr>\n",
              "  </thead>\n",
              "  <tbody>\n",
              "    <tr>\n",
              "      <th>0</th>\n",
              "      <td>-15.215495</td>\n",
              "      <td>-1.265162</td>\n",
              "      <td>-5.984966</td>\n",
              "      <td>0.306110</td>\n",
              "      <td>15.215495</td>\n",
              "      <td>0.007969</td>\n",
              "      <td>8.886881</td>\n",
              "      <td>-1.261845</td>\n",
              "      <td>-15.215495</td>\n",
              "      <td>-1.265162</td>\n",
              "      <td>-5.984966</td>\n",
              "      <td>0.306110</td>\n",
              "      <td>15.215495</td>\n",
              "      <td>0.007969</td>\n",
              "      <td>8.886881</td>\n",
              "      <td>-1.261845</td>\n",
              "    </tr>\n",
              "    <tr>\n",
              "      <th>1</th>\n",
              "      <td>9.865022</td>\n",
              "      <td>1.751003</td>\n",
              "      <td>6.719071</td>\n",
              "      <td>0.156558</td>\n",
              "      <td>0.330110</td>\n",
              "      <td>0.000000</td>\n",
              "      <td>1.286137</td>\n",
              "      <td>-0.246323</td>\n",
              "      <td>-0.330110</td>\n",
              "      <td>0.127606</td>\n",
              "      <td>-0.307203</td>\n",
              "      <td>0.034372</td>\n",
              "      <td>-6.697006</td>\n",
              "      <td>0.000000</td>\n",
              "      <td>-2.850387</td>\n",
              "      <td>0.564796</td>\n",
              "    </tr>\n",
              "    <tr>\n",
              "      <th>2</th>\n",
              "      <td>0.485449</td>\n",
              "      <td>-1.050570</td>\n",
              "      <td>-3.303067</td>\n",
              "      <td>-0.274233</td>\n",
              "      <td>3.641744</td>\n",
              "      <td>0.000000</td>\n",
              "      <td>2.060686</td>\n",
              "      <td>0.394020</td>\n",
              "      <td>-0.473729</td>\n",
              "      <td>0.418958</td>\n",
              "      <td>3.265910</td>\n",
              "      <td>0.172458</td>\n",
              "      <td>0.471668</td>\n",
              "      <td>0.000000</td>\n",
              "      <td>-0.354850</td>\n",
              "      <td>0.038893</td>\n",
              "    </tr>\n",
              "    <tr>\n",
              "      <th>3</th>\n",
              "      <td>-4.125017</td>\n",
              "      <td>1.345340</td>\n",
              "      <td>6.824480</td>\n",
              "      <td>0.518319</td>\n",
              "      <td>-3.888040</td>\n",
              "      <td>0.000000</td>\n",
              "      <td>-1.454773</td>\n",
              "      <td>-0.355551</td>\n",
              "      <td>4.845157</td>\n",
              "      <td>-0.318260</td>\n",
              "      <td>-2.050192</td>\n",
              "      <td>-0.169724</td>\n",
              "      <td>2.691440</td>\n",
              "      <td>0.000000</td>\n",
              "      <td>1.487877</td>\n",
              "      <td>0.229386</td>\n",
              "    </tr>\n",
              "    <tr>\n",
              "      <th>4</th>\n",
              "      <td>4.610318</td>\n",
              "      <td>-1.133208</td>\n",
              "      <td>-6.203474</td>\n",
              "      <td>-0.471115</td>\n",
              "      <td>6.174911</td>\n",
              "      <td>0.000000</td>\n",
              "      <td>1.952755</td>\n",
              "      <td>5.312622</td>\n",
              "      <td>-7.608489</td>\n",
              "      <td>1.218377</td>\n",
              "      <td>6.074520</td>\n",
              "      <td>-0.255522</td>\n",
              "      <td>-1.767175</td>\n",
              "      <td>0.000000</td>\n",
              "      <td>-0.416547</td>\n",
              "      <td>-0.209108</td>\n",
              "    </tr>\n",
              "    <tr>\n",
              "      <th>5</th>\n",
              "      <td>5.351634</td>\n",
              "      <td>0.516838</td>\n",
              "      <td>1.627117</td>\n",
              "      <td>0.420579</td>\n",
              "      <td>-5.533788</td>\n",
              "      <td>0.000000</td>\n",
              "      <td>-1.174089</td>\n",
              "      <td>-5.288648</td>\n",
              "      <td>8.376931</td>\n",
              "      <td>-1.086914</td>\n",
              "      <td>-5.318891</td>\n",
              "      <td>0.292209</td>\n",
              "      <td>6.953067</td>\n",
              "      <td>0.000000</td>\n",
              "      <td>2.835176</td>\n",
              "      <td>-0.615402</td>\n",
              "    </tr>\n",
              "    <tr>\n",
              "      <th>6</th>\n",
              "      <td>-1.952368</td>\n",
              "      <td>-0.281289</td>\n",
              "      <td>-0.964110</td>\n",
              "      <td>-0.380233</td>\n",
              "      <td>3.094728</td>\n",
              "      <td>0.000000</td>\n",
              "      <td>3.290650</td>\n",
              "      <td>-0.075052</td>\n",
              "      <td>9.209973</td>\n",
              "      <td>0.617542</td>\n",
              "      <td>2.520658</td>\n",
              "      <td>0.160795</td>\n",
              "      <td>-6.616345</td>\n",
              "      <td>0.000000</td>\n",
              "      <td>-2.952151</td>\n",
              "      <td>0.645532</td>\n",
              "    </tr>\n",
              "    <tr>\n",
              "      <th>7</th>\n",
              "      <td>0.043410</td>\n",
              "      <td>0.173967</td>\n",
              "      <td>0.495974</td>\n",
              "      <td>0.013510</td>\n",
              "      <td>-1.685243</td>\n",
              "      <td>0.000000</td>\n",
              "      <td>-2.697252</td>\n",
              "      <td>0.134599</td>\n",
              "      <td>-6.883470</td>\n",
              "      <td>-0.501915</td>\n",
              "      <td>-1.897400</td>\n",
              "      <td>-0.123883</td>\n",
              "      <td>3.298330</td>\n",
              "      <td>0.000000</td>\n",
              "      <td>0.628999</td>\n",
              "      <td>0.230095</td>\n",
              "    </tr>\n",
              "    <tr>\n",
              "      <th>8</th>\n",
              "      <td>-2.503071</td>\n",
              "      <td>-0.273301</td>\n",
              "      <td>-0.775055</td>\n",
              "      <td>-0.037599</td>\n",
              "      <td>2.897687</td>\n",
              "      <td>0.000000</td>\n",
              "      <td>0.056834</td>\n",
              "      <td>0.097124</td>\n",
              "      <td>0.444052</td>\n",
              "      <td>0.030512</td>\n",
              "      <td>0.215244</td>\n",
              "      <td>0.024335</td>\n",
              "      <td>-2.574264</td>\n",
              "      <td>0.000000</td>\n",
              "      <td>-0.481022</td>\n",
              "      <td>-0.172899</td>\n",
              "    </tr>\n",
              "    <tr>\n",
              "      <th>9</th>\n",
              "      <td>0.918759</td>\n",
              "      <td>0.075021</td>\n",
              "      <td>0.209714</td>\n",
              "      <td>0.010276</td>\n",
              "      <td>-2.810469</td>\n",
              "      <td>0.000000</td>\n",
              "      <td>-0.942091</td>\n",
              "      <td>-0.122972</td>\n",
              "      <td>-2.266866</td>\n",
              "      <td>-0.187463</td>\n",
              "      <td>-0.959207</td>\n",
              "      <td>-0.058736</td>\n",
              "      <td>0.475393</td>\n",
              "      <td>0.000000</td>\n",
              "      <td>0.600293</td>\n",
              "      <td>0.046938</td>\n",
              "    </tr>\n",
              "    <tr>\n",
              "      <th>10</th>\n",
              "      <td>-1.000162</td>\n",
              "      <td>-0.144979</td>\n",
              "      <td>-0.403935</td>\n",
              "      <td>-0.059201</td>\n",
              "      <td>0.150036</td>\n",
              "      <td>0.000000</td>\n",
              "      <td>0.812626</td>\n",
              "      <td>0.056174</td>\n",
              "      <td>1.244117</td>\n",
              "      <td>0.150383</td>\n",
              "      <td>0.700460</td>\n",
              "      <td>0.036012</td>\n",
              "      <td>-1.146021</td>\n",
              "      <td>0.000000</td>\n",
              "      <td>-0.854150</td>\n",
              "      <td>-0.091685</td>\n",
              "    </tr>\n",
              "  </tbody>\n",
              "</table>\n",
              "</div>\n",
              "    <div class=\"colab-df-buttons\">\n",
              "\n",
              "  <div class=\"colab-df-container\">\n",
              "    <button class=\"colab-df-convert\" onclick=\"convertToInteractive('df-ca23a115-26dd-48c5-bc68-c6a0c99d6be0')\"\n",
              "            title=\"Convert this dataframe to an interactive table.\"\n",
              "            style=\"display:none;\">\n",
              "\n",
              "  <svg xmlns=\"http://www.w3.org/2000/svg\" height=\"24px\" viewBox=\"0 -960 960 960\">\n",
              "    <path d=\"M120-120v-720h720v720H120Zm60-500h600v-160H180v160Zm220 220h160v-160H400v160Zm0 220h160v-160H400v160ZM180-400h160v-160H180v160Zm440 0h160v-160H620v160ZM180-180h160v-160H180v160Zm440 0h160v-160H620v160Z\"/>\n",
              "  </svg>\n",
              "    </button>\n",
              "\n",
              "  <style>\n",
              "    .colab-df-container {\n",
              "      display:flex;\n",
              "      gap: 12px;\n",
              "    }\n",
              "\n",
              "    .colab-df-convert {\n",
              "      background-color: #E8F0FE;\n",
              "      border: none;\n",
              "      border-radius: 50%;\n",
              "      cursor: pointer;\n",
              "      display: none;\n",
              "      fill: #1967D2;\n",
              "      height: 32px;\n",
              "      padding: 0 0 0 0;\n",
              "      width: 32px;\n",
              "    }\n",
              "\n",
              "    .colab-df-convert:hover {\n",
              "      background-color: #E2EBFA;\n",
              "      box-shadow: 0px 1px 2px rgba(60, 64, 67, 0.3), 0px 1px 3px 1px rgba(60, 64, 67, 0.15);\n",
              "      fill: #174EA6;\n",
              "    }\n",
              "\n",
              "    .colab-df-buttons div {\n",
              "      margin-bottom: 4px;\n",
              "    }\n",
              "\n",
              "    [theme=dark] .colab-df-convert {\n",
              "      background-color: #3B4455;\n",
              "      fill: #D2E3FC;\n",
              "    }\n",
              "\n",
              "    [theme=dark] .colab-df-convert:hover {\n",
              "      background-color: #434B5C;\n",
              "      box-shadow: 0px 1px 3px 1px rgba(0, 0, 0, 0.15);\n",
              "      filter: drop-shadow(0px 1px 2px rgba(0, 0, 0, 0.3));\n",
              "      fill: #FFFFFF;\n",
              "    }\n",
              "  </style>\n",
              "\n",
              "    <script>\n",
              "      const buttonEl =\n",
              "        document.querySelector('#df-ca23a115-26dd-48c5-bc68-c6a0c99d6be0 button.colab-df-convert');\n",
              "      buttonEl.style.display =\n",
              "        google.colab.kernel.accessAllowed ? 'block' : 'none';\n",
              "\n",
              "      async function convertToInteractive(key) {\n",
              "        const element = document.querySelector('#df-ca23a115-26dd-48c5-bc68-c6a0c99d6be0');\n",
              "        const dataTable =\n",
              "          await google.colab.kernel.invokeFunction('convertToInteractive',\n",
              "                                                    [key], {});\n",
              "        if (!dataTable) return;\n",
              "\n",
              "        const docLinkHtml = 'Like what you see? Visit the ' +\n",
              "          '<a target=\"_blank\" href=https://colab.research.google.com/notebooks/data_table.ipynb>data table notebook</a>'\n",
              "          + ' to learn more about interactive tables.';\n",
              "        element.innerHTML = '';\n",
              "        dataTable['output_type'] = 'display_data';\n",
              "        await google.colab.output.renderOutput(dataTable, element);\n",
              "        const docLink = document.createElement('div');\n",
              "        docLink.innerHTML = docLinkHtml;\n",
              "        element.appendChild(docLink);\n",
              "      }\n",
              "    </script>\n",
              "  </div>\n",
              "\n",
              "\n",
              "<div id=\"df-ea12a9bf-3cf4-46a2-86c7-cfda7fb60fcf\">\n",
              "  <button class=\"colab-df-quickchart\" onclick=\"quickchart('df-ea12a9bf-3cf4-46a2-86c7-cfda7fb60fcf')\"\n",
              "            title=\"Suggest charts\"\n",
              "            style=\"display:none;\">\n",
              "\n",
              "<svg xmlns=\"http://www.w3.org/2000/svg\" height=\"24px\"viewBox=\"0 0 24 24\"\n",
              "     width=\"24px\">\n",
              "    <g>\n",
              "        <path d=\"M19 3H5c-1.1 0-2 .9-2 2v14c0 1.1.9 2 2 2h14c1.1 0 2-.9 2-2V5c0-1.1-.9-2-2-2zM9 17H7v-7h2v7zm4 0h-2V7h2v10zm4 0h-2v-4h2v4z\"/>\n",
              "    </g>\n",
              "</svg>\n",
              "  </button>\n",
              "\n",
              "<style>\n",
              "  .colab-df-quickchart {\n",
              "      --bg-color: #E8F0FE;\n",
              "      --fill-color: #1967D2;\n",
              "      --hover-bg-color: #E2EBFA;\n",
              "      --hover-fill-color: #174EA6;\n",
              "      --disabled-fill-color: #AAA;\n",
              "      --disabled-bg-color: #DDD;\n",
              "  }\n",
              "\n",
              "  [theme=dark] .colab-df-quickchart {\n",
              "      --bg-color: #3B4455;\n",
              "      --fill-color: #D2E3FC;\n",
              "      --hover-bg-color: #434B5C;\n",
              "      --hover-fill-color: #FFFFFF;\n",
              "      --disabled-bg-color: #3B4455;\n",
              "      --disabled-fill-color: #666;\n",
              "  }\n",
              "\n",
              "  .colab-df-quickchart {\n",
              "    background-color: var(--bg-color);\n",
              "    border: none;\n",
              "    border-radius: 50%;\n",
              "    cursor: pointer;\n",
              "    display: none;\n",
              "    fill: var(--fill-color);\n",
              "    height: 32px;\n",
              "    padding: 0;\n",
              "    width: 32px;\n",
              "  }\n",
              "\n",
              "  .colab-df-quickchart:hover {\n",
              "    background-color: var(--hover-bg-color);\n",
              "    box-shadow: 0 1px 2px rgba(60, 64, 67, 0.3), 0 1px 3px 1px rgba(60, 64, 67, 0.15);\n",
              "    fill: var(--button-hover-fill-color);\n",
              "  }\n",
              "\n",
              "  .colab-df-quickchart-complete:disabled,\n",
              "  .colab-df-quickchart-complete:disabled:hover {\n",
              "    background-color: var(--disabled-bg-color);\n",
              "    fill: var(--disabled-fill-color);\n",
              "    box-shadow: none;\n",
              "  }\n",
              "\n",
              "  .colab-df-spinner {\n",
              "    border: 2px solid var(--fill-color);\n",
              "    border-color: transparent;\n",
              "    border-bottom-color: var(--fill-color);\n",
              "    animation:\n",
              "      spin 1s steps(1) infinite;\n",
              "  }\n",
              "\n",
              "  @keyframes spin {\n",
              "    0% {\n",
              "      border-color: transparent;\n",
              "      border-bottom-color: var(--fill-color);\n",
              "      border-left-color: var(--fill-color);\n",
              "    }\n",
              "    20% {\n",
              "      border-color: transparent;\n",
              "      border-left-color: var(--fill-color);\n",
              "      border-top-color: var(--fill-color);\n",
              "    }\n",
              "    30% {\n",
              "      border-color: transparent;\n",
              "      border-left-color: var(--fill-color);\n",
              "      border-top-color: var(--fill-color);\n",
              "      border-right-color: var(--fill-color);\n",
              "    }\n",
              "    40% {\n",
              "      border-color: transparent;\n",
              "      border-right-color: var(--fill-color);\n",
              "      border-top-color: var(--fill-color);\n",
              "    }\n",
              "    60% {\n",
              "      border-color: transparent;\n",
              "      border-right-color: var(--fill-color);\n",
              "    }\n",
              "    80% {\n",
              "      border-color: transparent;\n",
              "      border-right-color: var(--fill-color);\n",
              "      border-bottom-color: var(--fill-color);\n",
              "    }\n",
              "    90% {\n",
              "      border-color: transparent;\n",
              "      border-bottom-color: var(--fill-color);\n",
              "    }\n",
              "  }\n",
              "</style>\n",
              "\n",
              "  <script>\n",
              "    async function quickchart(key) {\n",
              "      const quickchartButtonEl =\n",
              "        document.querySelector('#' + key + ' button');\n",
              "      quickchartButtonEl.disabled = true;  // To prevent multiple clicks.\n",
              "      quickchartButtonEl.classList.add('colab-df-spinner');\n",
              "      try {\n",
              "        const charts = await google.colab.kernel.invokeFunction(\n",
              "            'suggestCharts', [key], {});\n",
              "      } catch (error) {\n",
              "        console.error('Error during call to suggestCharts:', error);\n",
              "      }\n",
              "      quickchartButtonEl.classList.remove('colab-df-spinner');\n",
              "      quickchartButtonEl.classList.add('colab-df-quickchart-complete');\n",
              "    }\n",
              "    (() => {\n",
              "      let quickchartButtonEl =\n",
              "        document.querySelector('#df-ea12a9bf-3cf4-46a2-86c7-cfda7fb60fcf button');\n",
              "      quickchartButtonEl.style.display =\n",
              "        google.colab.kernel.accessAllowed ? 'block' : 'none';\n",
              "    })();\n",
              "  </script>\n",
              "</div>\n",
              "\n",
              "    </div>\n",
              "  </div>\n"
            ],
            "application/vnd.google.colaboratory.intrinsic+json": {
              "type": "dataframe",
              "summary": "{\n  \"name\": \"bat1_2\",\n  \"rows\": 11,\n  \"fields\": [\n    {\n      \"column\": 0,\n      \"properties\": {\n        \"dtype\": \"number\",\n        \"std\": 6.3778716183432795,\n        \"min\": -15.215495315742174,\n        \"max\": 9.86502185297087,\n        \"num_unique_values\": 11,\n        \"samples\": [\n          5.351634055061879,\n          -15.215495315742174,\n          0.9187594039944713\n        ],\n        \"semantic_type\": \"\",\n        \"description\": \"\"\n      }\n    },\n    {\n      \"column\": 1,\n      \"properties\": {\n        \"dtype\": \"number\",\n        \"std\": 0.9661697715238003,\n        \"min\": -1.2651621265482014,\n        \"max\": 1.7510031326050308,\n        \"num_unique_values\": 11,\n        \"samples\": [\n          0.516838376742764,\n          -1.2651621265482014,\n          0.07502054650476442\n        ],\n        \"semantic_type\": \"\",\n        \"description\": \"\"\n      }\n    },\n    {\n      \"column\": 2,\n      \"properties\": {\n        \"dtype\": \"number\",\n        \"std\": 4.257727395080701,\n        \"min\": -6.20347388681097,\n        \"max\": 6.824480196082912,\n        \"num_unique_values\": 11,\n        \"samples\": [\n          1.6271166874636096,\n          -5.984966171587832,\n          0.20971415063773868\n        ],\n        \"semantic_type\": \"\",\n        \"description\": \"\"\n      }\n    },\n    {\n      \"column\": 3,\n      \"properties\": {\n        \"dtype\": \"number\",\n        \"std\": 0.3173241918367306,\n        \"min\": -0.47111486030112426,\n        \"max\": 0.5183185581763685,\n        \"num_unique_values\": 11,\n        \"samples\": [\n          0.4205787042198684,\n          0.30611026491581184,\n          0.01027623952714829\n        ],\n        \"semantic_type\": \"\",\n        \"description\": \"\"\n      }\n    },\n    {\n      \"column\": 4,\n      \"properties\": {\n        \"dtype\": \"number\",\n        \"std\": 5.73905936278063,\n        \"min\": -5.533787728034028,\n        \"max\": 15.215495315742153,\n        \"num_unique_values\": 11,\n        \"samples\": [\n          -5.533787728034028,\n          15.215495315742153,\n          -2.8104686578893556\n        ],\n        \"semantic_type\": \"\",\n        \"description\": \"\"\n      }\n    },\n    {\n      \"column\": 5,\n      \"properties\": {\n        \"dtype\": \"number\",\n        \"std\": 0.0024027252508868856,\n        \"min\": 0.0,\n        \"max\": 0.007968938131504344,\n        \"num_unique_values\": 2,\n        \"samples\": [\n          0.0,\n          0.007968938131504344\n        ],\n        \"semantic_type\": \"\",\n        \"description\": \"\"\n      }\n    },\n    {\n      \"column\": 6,\n      \"properties\": {\n        \"dtype\": \"number\",\n        \"std\": 3.139706380294489,\n        \"min\": -2.6972524949078007,\n        \"max\": 8.886881014641894,\n        \"num_unique_values\": 11,\n        \"samples\": [\n          -1.1740886214719097,\n          8.886881014641894\n        ],\n        \"semantic_type\": \"\",\n        \"description\": \"\"\n      }\n    },\n    {\n      \"column\": 7,\n      \"properties\": {\n        \"dtype\": \"number\",\n        \"std\": 2.4085821892810837,\n        \"min\": -5.288647997423406,\n        \"max\": 5.312621807190806,\n        \"num_unique_values\": 11,\n        \"samples\": [\n          -5.288647997423406,\n          -1.2618446744059117\n        ],\n        \"semantic_type\": \"\",\n        \"description\": \"\"\n      }\n    },\n    {\n      \"column\": 8,\n      \"properties\": {\n        \"dtype\": \"number\",\n        \"std\": 7.1809277089135755,\n        \"min\": -15.215495315742174,\n        \"max\": 9.20997291333947,\n        \"num_unique_values\": 11,\n        \"samples\": [\n          8.376930544743118,\n          -15.215495315742174\n        ],\n        \"semantic_type\": \"\",\n        \"description\": \"\"\n      }\n    },\n    {\n      \"column\": 9,\n      \"properties\": {\n        \"dtype\": \"number\",\n        \"std\": 0.7206853330506745,\n        \"min\": -1.2651621265482014,\n        \"max\": 1.2183772130230919,\n        \"num_unique_values\": 11,\n        \"samples\": [\n          -1.086913788815071,\n          -1.2651621265482014\n        ],\n        \"semantic_type\": \"\",\n        \"description\": \"\"\n      }\n    },\n    {\n      \"column\": 10,\n      \"properties\": {\n        \"dtype\": \"number\",\n        \"std\": 3.5512337181323517,\n        \"min\": -5.984966171587832,\n        \"max\": 6.074520285202344,\n        \"num_unique_values\": 11,\n        \"samples\": [\n          -5.318890550964823,\n          -5.984966171587832\n        ],\n        \"semantic_type\": \"\",\n        \"description\": \"\"\n      }\n    },\n    {\n      \"column\": 11,\n      \"properties\": {\n        \"dtype\": \"number\",\n        \"std\": 0.18295762398844356,\n        \"min\": -0.2555219430575233,\n        \"max\": 0.30611026491581184,\n        \"num_unique_values\": 11,\n        \"samples\": [\n          0.29220864765171684,\n          0.30611026491581184\n        ],\n        \"semantic_type\": \"\",\n        \"description\": \"\"\n      }\n    },\n    {\n      \"column\": 12,\n      \"properties\": {\n        \"dtype\": \"number\",\n        \"std\": 6.232685006316412,\n        \"min\": -6.69700623740588,\n        \"max\": 15.215495315742153,\n        \"num_unique_values\": 11,\n        \"samples\": [\n          6.953066998268859,\n          15.215495315742153\n        ],\n        \"semantic_type\": \"\",\n        \"description\": \"\"\n      }\n    },\n    {\n      \"column\": 13,\n      \"properties\": {\n        \"dtype\": \"number\",\n        \"std\": 0.0024027252508868856,\n        \"min\": 0.0,\n        \"max\": 0.007968938131504344,\n        \"num_unique_values\": 2,\n        \"samples\": [\n          0.0,\n          0.007968938131504344\n        ],\n        \"semantic_type\": \"\",\n        \"description\": \"\"\n      }\n    },\n    {\n      \"column\": 14,\n      \"properties\": {\n        \"dtype\": \"number\",\n        \"std\": 3.22813176984972,\n        \"min\": -2.9521507253873622,\n        \"max\": 8.886881014641894,\n        \"num_unique_values\": 11,\n        \"samples\": [\n          2.8351763898527693,\n          8.886881014641894\n        ],\n        \"semantic_type\": \"\",\n        \"description\": \"\"\n      }\n    },\n    {\n      \"column\": 15,\n      \"properties\": {\n        \"dtype\": \"number\",\n        \"std\": 0.5353283729997539,\n        \"min\": -1.2618446744059117,\n        \"max\": 0.645531851567933,\n        \"num_unique_values\": 11,\n        \"samples\": [\n          -0.6154016202636853,\n          -1.2618446744059117\n        ],\n        \"semantic_type\": \"\",\n        \"description\": \"\"\n      }\n    }\n  ]\n}"
            }
          },
          "metadata": {},
          "execution_count": 140
        }
      ]
    },
    {
      "cell_type": "code",
      "source": [
        "bat1_2.error_list.plot()"
      ],
      "metadata": {
        "outputId": "2425583c-30c2-498d-f36a-bbd9fc1619dd",
        "colab": {
          "base_uri": "https://localhost:8080/",
          "height": 542
        },
        "id": "0BvRZuoyA5N0"
      },
      "execution_count": 96,
      "outputs": [
        {
          "output_type": "display_data",
          "data": {
            "text/html": [
              "<html>\n",
              "<head><meta charset=\"utf-8\" /></head>\n",
              "<body>\n",
              "    <div>            <script src=\"https://cdnjs.cloudflare.com/ajax/libs/mathjax/2.7.5/MathJax.js?config=TeX-AMS-MML_SVG\"></script><script type=\"text/javascript\">if (window.MathJax && window.MathJax.Hub && window.MathJax.Hub.Config) {window.MathJax.Hub.Config({SVG: {font: \"STIX-Web\"}});}</script>                <script type=\"text/javascript\">window.PlotlyConfig = {MathJaxConfig: 'local'};</script>\n",
              "        <script charset=\"utf-8\" src=\"https://cdn.plot.ly/plotly-2.35.2.min.js\"></script>                <div id=\"b220de6f-6b50-45c9-a2b0-e8ebe17ca297\" class=\"plotly-graph-div\" style=\"height:525px; width:100%;\"></div>            <script type=\"text/javascript\">                                    window.PLOTLYENV=window.PLOTLYENV || {};                                    if (document.getElementById(\"b220de6f-6b50-45c9-a2b0-e8ebe17ca297\")) {                    Plotly.newPlot(                        \"b220de6f-6b50-45c9-a2b0-e8ebe17ca297\",                        [{\"hovertemplate\":\"variable=0\\u003cbr\\u003eindex=%{x}\\u003cbr\\u003evalue=%{y}\\u003cextra\\u003e\\u003c\\u002fextra\\u003e\",\"legendgroup\":\"0\",\"line\":{\"color\":\"#636efa\",\"dash\":\"solid\"},\"marker\":{\"symbol\":\"circle\"},\"mode\":\"lines\",\"name\":\"0\",\"orientation\":\"v\",\"showlegend\":true,\"x\":[0,1,2,3,4,5,6,7,8,9,10],\"xaxis\":\"x\",\"y\":[-15.215495315742174,-0.3301102716126536,-2.8102423200221835,-1.535534424394342,4.391979479889528,5.259703806505371,-2.281025347957467,-1.8935842579777216,2.590065637485594,-1.313000940464491,0.8750087559096755],\"yaxis\":\"y\",\"type\":\"scatter\"},{\"hovertemplate\":\"variable=1\\u003cbr\\u003eindex=%{x}\\u003cbr\\u003evalue=%{y}\\u003cextra\\u003e\\u003c\\u002fextra\\u003e\",\"legendgroup\":\"1\",\"line\":{\"color\":\"#EF553B\",\"dash\":\"solid\"},\"marker\":{\"symbol\":\"circle\"},\"mode\":\"lines\",\"name\":\"1\",\"orientation\":\"v\",\"showlegend\":true,\"x\":[0,1,2,3,4,5,6,7,8,9,10],\"xaxis\":\"x\",\"y\":[-1.2651621265482014,0.12760642694055413,-0.16441137635688374,0.3896685112184466,-0.21498743346158022,0.23254982755949527,-0.07869616161372228,-0.19156753472773946,0.1926410425808962,-0.12187243116946433,0.09155984344117574],\"yaxis\":\"y\",\"type\":\"scatter\"},{\"hovertemplate\":\"variable=2\\u003cbr\\u003eindex=%{x}\\u003cbr\\u003evalue=%{y}\\u003cextra\\u003e\\u003c\\u002fextra\\u003e\",\"legendgroup\":\"2\",\"line\":{\"color\":\"#00cc96\",\"dash\":\"solid\"},\"marker\":{\"symbol\":\"circle\"},\"mode\":\"lines\",\"name\":\"2\",\"orientation\":\"v\",\"showlegend\":true,\"x\":[0,1,2,3,4,5,6,7,8,9,10],\"xaxis\":\"x\",\"y\":[-5.984966171587832,-0.30720263269868653,-1.3043603595198316,3.223992678038341,-1.522319967451205,1.4935330504924824,-0.5502797403371389,-0.7864679525157019,0.8790733973327516,-0.5189584975959978,0.25966215034611473],\"yaxis\":\"y\",\"type\":\"scatter\"},{\"hovertemplate\":\"variable=3\\u003cbr\\u003eindex=%{x}\\u003cbr\\u003evalue=%{y}\\u003cextra\\u003e\\u003c\\u002fextra\\u003e\",\"legendgroup\":\"3\",\"line\":{\"color\":\"#ab63fa\",\"dash\":\"solid\"},\"marker\":{\"symbol\":\"circle\"},\"mode\":\"lines\",\"name\":\"3\",\"orientation\":\"v\",\"showlegend\":true,\"x\":[0,1,2,3,4,5,6,7,8,9,10],\"xaxis\":\"x\",\"y\":[0.30611026491581184,0.034372123355003614,0.06947157525973946,0.1054934811497446,-0.062450760984007536,0.05852420421225207,-0.027325676808490684,-0.44320481991874083,0.45095801925619583,-0.23592093335708175,0.2163041257756182],\"yaxis\":\"y\",\"type\":\"scatter\"},{\"hovertemplate\":\"variable=4\\u003cbr\\u003eindex=%{x}\\u003cbr\\u003evalue=%{y}\\u003cextra\\u003e\\u003c\\u002fextra\\u003e\",\"legendgroup\":\"4\",\"line\":{\"color\":\"#FFA15A\",\"dash\":\"solid\"},\"marker\":{\"symbol\":\"circle\"},\"mode\":\"lines\",\"name\":\"4\",\"orientation\":\"v\",\"showlegend\":true,\"x\":[0,1,2,3,4,5,6,7,8,9,10],\"xaxis\":\"x\",\"y\":[15.215495315742153,-6.69700623740588,0.4716677377742542,-1.2697055262226016,2.915560085032446,-1.4789537393967649,1.4152991634184033,0.021608971120748777,-1.422446629859074,1.3233662373550459,-2.0723420215170307],\"yaxis\":\"y\",\"type\":\"scatter\"},{\"hovertemplate\":\"variable=5\\u003cbr\\u003eindex=%{x}\\u003cbr\\u003evalue=%{y}\\u003cextra\\u003e\\u003c\\u002fextra\\u003e\",\"legendgroup\":\"5\",\"line\":{\"color\":\"#19d3f3\",\"dash\":\"solid\"},\"marker\":{\"symbol\":\"circle\"},\"mode\":\"lines\",\"name\":\"5\",\"orientation\":\"v\",\"showlegend\":true,\"x\":[0,1,2,3,4,5,6,7,8,9,10],\"xaxis\":\"x\",\"y\":[0.007968938131504344,0.0,0.0,0.0,0.0,0.0,0.0,0.0,0.0,0.0,0.0],\"yaxis\":\"y\",\"type\":\"scatter\"},{\"hovertemplate\":\"variable=6\\u003cbr\\u003eindex=%{x}\\u003cbr\\u003evalue=%{y}\\u003cextra\\u003e\\u003c\\u002fextra\\u003e\",\"legendgroup\":\"6\",\"line\":{\"color\":\"#FF6692\",\"dash\":\"solid\"},\"marker\":{\"symbol\":\"circle\"},\"mode\":\"lines\",\"name\":\"6\",\"orientation\":\"v\",\"showlegend\":true,\"x\":[0,1,2,3,4,5,6,7,8,9,10],\"xaxis\":\"x\",\"y\":[8.886881014641894,-2.8503870977687242,-0.3548497137359874,-0.8690145317242326,2.06033182338701,-0.8270824954555991,0.7202900922401625,-0.6870730707851749,0.14565157404100404,-0.09474976636944632,0.35483835913466777],\"yaxis\":\"y\",\"type\":\"scatter\"},{\"hovertemplate\":\"variable=7\\u003cbr\\u003eindex=%{x}\\u003cbr\\u003evalue=%{y}\\u003cextra\\u003e\\u003c\\u002fextra\\u003e\",\"legendgroup\":\"7\",\"line\":{\"color\":\"#B6E880\",\"dash\":\"solid\"},\"marker\":{\"symbol\":\"circle\"},\"mode\":\"lines\",\"name\":\"7\",\"orientation\":\"v\",\"showlegend\":true,\"x\":[0,1,2,3,4,5,6,7,8,9,10],\"xaxis\":\"x\",\"y\":[-1.2618446744059117,0.5647961322477248,0.03889292826804447,0.11804416379036897,0.12803590593362968,-0.07043829925670886,0.07922678635109848,-0.042360340781683825,-0.6534084177602256,0.6646950794489772,-0.3548008077242141],\"yaxis\":\"y\",\"type\":\"scatter\"}],                        {\"template\":{\"data\":{\"histogram2dcontour\":[{\"type\":\"histogram2dcontour\",\"colorbar\":{\"outlinewidth\":0,\"ticks\":\"\"},\"colorscale\":[[0.0,\"#0d0887\"],[0.1111111111111111,\"#46039f\"],[0.2222222222222222,\"#7201a8\"],[0.3333333333333333,\"#9c179e\"],[0.4444444444444444,\"#bd3786\"],[0.5555555555555556,\"#d8576b\"],[0.6666666666666666,\"#ed7953\"],[0.7777777777777778,\"#fb9f3a\"],[0.8888888888888888,\"#fdca26\"],[1.0,\"#f0f921\"]]}],\"choropleth\":[{\"type\":\"choropleth\",\"colorbar\":{\"outlinewidth\":0,\"ticks\":\"\"}}],\"histogram2d\":[{\"type\":\"histogram2d\",\"colorbar\":{\"outlinewidth\":0,\"ticks\":\"\"},\"colorscale\":[[0.0,\"#0d0887\"],[0.1111111111111111,\"#46039f\"],[0.2222222222222222,\"#7201a8\"],[0.3333333333333333,\"#9c179e\"],[0.4444444444444444,\"#bd3786\"],[0.5555555555555556,\"#d8576b\"],[0.6666666666666666,\"#ed7953\"],[0.7777777777777778,\"#fb9f3a\"],[0.8888888888888888,\"#fdca26\"],[1.0,\"#f0f921\"]]}],\"heatmap\":[{\"type\":\"heatmap\",\"colorbar\":{\"outlinewidth\":0,\"ticks\":\"\"},\"colorscale\":[[0.0,\"#0d0887\"],[0.1111111111111111,\"#46039f\"],[0.2222222222222222,\"#7201a8\"],[0.3333333333333333,\"#9c179e\"],[0.4444444444444444,\"#bd3786\"],[0.5555555555555556,\"#d8576b\"],[0.6666666666666666,\"#ed7953\"],[0.7777777777777778,\"#fb9f3a\"],[0.8888888888888888,\"#fdca26\"],[1.0,\"#f0f921\"]]}],\"heatmapgl\":[{\"type\":\"heatmapgl\",\"colorbar\":{\"outlinewidth\":0,\"ticks\":\"\"},\"colorscale\":[[0.0,\"#0d0887\"],[0.1111111111111111,\"#46039f\"],[0.2222222222222222,\"#7201a8\"],[0.3333333333333333,\"#9c179e\"],[0.4444444444444444,\"#bd3786\"],[0.5555555555555556,\"#d8576b\"],[0.6666666666666666,\"#ed7953\"],[0.7777777777777778,\"#fb9f3a\"],[0.8888888888888888,\"#fdca26\"],[1.0,\"#f0f921\"]]}],\"contourcarpet\":[{\"type\":\"contourcarpet\",\"colorbar\":{\"outlinewidth\":0,\"ticks\":\"\"}}],\"contour\":[{\"type\":\"contour\",\"colorbar\":{\"outlinewidth\":0,\"ticks\":\"\"},\"colorscale\":[[0.0,\"#0d0887\"],[0.1111111111111111,\"#46039f\"],[0.2222222222222222,\"#7201a8\"],[0.3333333333333333,\"#9c179e\"],[0.4444444444444444,\"#bd3786\"],[0.5555555555555556,\"#d8576b\"],[0.6666666666666666,\"#ed7953\"],[0.7777777777777778,\"#fb9f3a\"],[0.8888888888888888,\"#fdca26\"],[1.0,\"#f0f921\"]]}],\"surface\":[{\"type\":\"surface\",\"colorbar\":{\"outlinewidth\":0,\"ticks\":\"\"},\"colorscale\":[[0.0,\"#0d0887\"],[0.1111111111111111,\"#46039f\"],[0.2222222222222222,\"#7201a8\"],[0.3333333333333333,\"#9c179e\"],[0.4444444444444444,\"#bd3786\"],[0.5555555555555556,\"#d8576b\"],[0.6666666666666666,\"#ed7953\"],[0.7777777777777778,\"#fb9f3a\"],[0.8888888888888888,\"#fdca26\"],[1.0,\"#f0f921\"]]}],\"mesh3d\":[{\"type\":\"mesh3d\",\"colorbar\":{\"outlinewidth\":0,\"ticks\":\"\"}}],\"scatter\":[{\"fillpattern\":{\"fillmode\":\"overlay\",\"size\":10,\"solidity\":0.2},\"type\":\"scatter\"}],\"parcoords\":[{\"type\":\"parcoords\",\"line\":{\"colorbar\":{\"outlinewidth\":0,\"ticks\":\"\"}}}],\"scatterpolargl\":[{\"type\":\"scatterpolargl\",\"marker\":{\"colorbar\":{\"outlinewidth\":0,\"ticks\":\"\"}}}],\"bar\":[{\"error_x\":{\"color\":\"#2a3f5f\"},\"error_y\":{\"color\":\"#2a3f5f\"},\"marker\":{\"line\":{\"color\":\"#E5ECF6\",\"width\":0.5},\"pattern\":{\"fillmode\":\"overlay\",\"size\":10,\"solidity\":0.2}},\"type\":\"bar\"}],\"scattergeo\":[{\"type\":\"scattergeo\",\"marker\":{\"colorbar\":{\"outlinewidth\":0,\"ticks\":\"\"}}}],\"scatterpolar\":[{\"type\":\"scatterpolar\",\"marker\":{\"colorbar\":{\"outlinewidth\":0,\"ticks\":\"\"}}}],\"histogram\":[{\"marker\":{\"pattern\":{\"fillmode\":\"overlay\",\"size\":10,\"solidity\":0.2}},\"type\":\"histogram\"}],\"scattergl\":[{\"type\":\"scattergl\",\"marker\":{\"colorbar\":{\"outlinewidth\":0,\"ticks\":\"\"}}}],\"scatter3d\":[{\"type\":\"scatter3d\",\"line\":{\"colorbar\":{\"outlinewidth\":0,\"ticks\":\"\"}},\"marker\":{\"colorbar\":{\"outlinewidth\":0,\"ticks\":\"\"}}}],\"scattermapbox\":[{\"type\":\"scattermapbox\",\"marker\":{\"colorbar\":{\"outlinewidth\":0,\"ticks\":\"\"}}}],\"scatterternary\":[{\"type\":\"scatterternary\",\"marker\":{\"colorbar\":{\"outlinewidth\":0,\"ticks\":\"\"}}}],\"scattercarpet\":[{\"type\":\"scattercarpet\",\"marker\":{\"colorbar\":{\"outlinewidth\":0,\"ticks\":\"\"}}}],\"carpet\":[{\"aaxis\":{\"endlinecolor\":\"#2a3f5f\",\"gridcolor\":\"white\",\"linecolor\":\"white\",\"minorgridcolor\":\"white\",\"startlinecolor\":\"#2a3f5f\"},\"baxis\":{\"endlinecolor\":\"#2a3f5f\",\"gridcolor\":\"white\",\"linecolor\":\"white\",\"minorgridcolor\":\"white\",\"startlinecolor\":\"#2a3f5f\"},\"type\":\"carpet\"}],\"table\":[{\"cells\":{\"fill\":{\"color\":\"#EBF0F8\"},\"line\":{\"color\":\"white\"}},\"header\":{\"fill\":{\"color\":\"#C8D4E3\"},\"line\":{\"color\":\"white\"}},\"type\":\"table\"}],\"barpolar\":[{\"marker\":{\"line\":{\"color\":\"#E5ECF6\",\"width\":0.5},\"pattern\":{\"fillmode\":\"overlay\",\"size\":10,\"solidity\":0.2}},\"type\":\"barpolar\"}],\"pie\":[{\"automargin\":true,\"type\":\"pie\"}]},\"layout\":{\"autotypenumbers\":\"strict\",\"colorway\":[\"#636efa\",\"#EF553B\",\"#00cc96\",\"#ab63fa\",\"#FFA15A\",\"#19d3f3\",\"#FF6692\",\"#B6E880\",\"#FF97FF\",\"#FECB52\"],\"font\":{\"color\":\"#2a3f5f\"},\"hovermode\":\"closest\",\"hoverlabel\":{\"align\":\"left\"},\"paper_bgcolor\":\"white\",\"plot_bgcolor\":\"#E5ECF6\",\"polar\":{\"bgcolor\":\"#E5ECF6\",\"angularaxis\":{\"gridcolor\":\"white\",\"linecolor\":\"white\",\"ticks\":\"\"},\"radialaxis\":{\"gridcolor\":\"white\",\"linecolor\":\"white\",\"ticks\":\"\"}},\"ternary\":{\"bgcolor\":\"#E5ECF6\",\"aaxis\":{\"gridcolor\":\"white\",\"linecolor\":\"white\",\"ticks\":\"\"},\"baxis\":{\"gridcolor\":\"white\",\"linecolor\":\"white\",\"ticks\":\"\"},\"caxis\":{\"gridcolor\":\"white\",\"linecolor\":\"white\",\"ticks\":\"\"}},\"coloraxis\":{\"colorbar\":{\"outlinewidth\":0,\"ticks\":\"\"}},\"colorscale\":{\"sequential\":[[0.0,\"#0d0887\"],[0.1111111111111111,\"#46039f\"],[0.2222222222222222,\"#7201a8\"],[0.3333333333333333,\"#9c179e\"],[0.4444444444444444,\"#bd3786\"],[0.5555555555555556,\"#d8576b\"],[0.6666666666666666,\"#ed7953\"],[0.7777777777777778,\"#fb9f3a\"],[0.8888888888888888,\"#fdca26\"],[1.0,\"#f0f921\"]],\"sequentialminus\":[[0.0,\"#0d0887\"],[0.1111111111111111,\"#46039f\"],[0.2222222222222222,\"#7201a8\"],[0.3333333333333333,\"#9c179e\"],[0.4444444444444444,\"#bd3786\"],[0.5555555555555556,\"#d8576b\"],[0.6666666666666666,\"#ed7953\"],[0.7777777777777778,\"#fb9f3a\"],[0.8888888888888888,\"#fdca26\"],[1.0,\"#f0f921\"]],\"diverging\":[[0,\"#8e0152\"],[0.1,\"#c51b7d\"],[0.2,\"#de77ae\"],[0.3,\"#f1b6da\"],[0.4,\"#fde0ef\"],[0.5,\"#f7f7f7\"],[0.6,\"#e6f5d0\"],[0.7,\"#b8e186\"],[0.8,\"#7fbc41\"],[0.9,\"#4d9221\"],[1,\"#276419\"]]},\"xaxis\":{\"gridcolor\":\"white\",\"linecolor\":\"white\",\"ticks\":\"\",\"title\":{\"standoff\":15},\"zerolinecolor\":\"white\",\"automargin\":true,\"zerolinewidth\":2},\"yaxis\":{\"gridcolor\":\"white\",\"linecolor\":\"white\",\"ticks\":\"\",\"title\":{\"standoff\":15},\"zerolinecolor\":\"white\",\"automargin\":true,\"zerolinewidth\":2},\"scene\":{\"xaxis\":{\"backgroundcolor\":\"#E5ECF6\",\"gridcolor\":\"white\",\"linecolor\":\"white\",\"showbackground\":true,\"ticks\":\"\",\"zerolinecolor\":\"white\",\"gridwidth\":2},\"yaxis\":{\"backgroundcolor\":\"#E5ECF6\",\"gridcolor\":\"white\",\"linecolor\":\"white\",\"showbackground\":true,\"ticks\":\"\",\"zerolinecolor\":\"white\",\"gridwidth\":2},\"zaxis\":{\"backgroundcolor\":\"#E5ECF6\",\"gridcolor\":\"white\",\"linecolor\":\"white\",\"showbackground\":true,\"ticks\":\"\",\"zerolinecolor\":\"white\",\"gridwidth\":2}},\"shapedefaults\":{\"line\":{\"color\":\"#2a3f5f\"}},\"annotationdefaults\":{\"arrowcolor\":\"#2a3f5f\",\"arrowhead\":0,\"arrowwidth\":1},\"geo\":{\"bgcolor\":\"white\",\"landcolor\":\"#E5ECF6\",\"subunitcolor\":\"white\",\"showland\":true,\"showlakes\":true,\"lakecolor\":\"white\"},\"title\":{\"x\":0.05},\"mapbox\":{\"style\":\"light\"}}},\"xaxis\":{\"anchor\":\"y\",\"domain\":[0.0,1.0],\"title\":{\"text\":\"index\"}},\"yaxis\":{\"anchor\":\"x\",\"domain\":[0.0,1.0],\"title\":{\"text\":\"value\"}},\"legend\":{\"title\":{\"text\":\"variable\"},\"tracegroupgap\":0},\"margin\":{\"t\":60}},                        {\"responsive\": true}                    ).then(function(){\n",
              "                            \n",
              "var gd = document.getElementById('b220de6f-6b50-45c9-a2b0-e8ebe17ca297');\n",
              "var x = new MutationObserver(function (mutations, observer) {{\n",
              "        var display = window.getComputedStyle(gd).display;\n",
              "        if (!display || display === 'none') {{\n",
              "            console.log([gd, 'removed!']);\n",
              "            Plotly.purge(gd);\n",
              "            observer.disconnect();\n",
              "        }}\n",
              "}});\n",
              "\n",
              "// Listen for the removal of the full notebook cells\n",
              "var notebookContainer = gd.closest('#notebook-container');\n",
              "if (notebookContainer) {{\n",
              "    x.observe(notebookContainer, {childList: true});\n",
              "}}\n",
              "\n",
              "// Listen for the clearing of the current output cell\n",
              "var outputEl = gd.closest('.output');\n",
              "if (outputEl) {{\n",
              "    x.observe(outputEl, {childList: true});\n",
              "}}\n",
              "\n",
              "                        })                };                            </script>        </div>\n",
              "</body>\n",
              "</html>"
            ]
          },
          "metadata": {}
        }
      ]
    },
    {
      "cell_type": "code",
      "source": [
        "table1_2=BatteryTable(bat1_2).data"
      ],
      "metadata": {
        "outputId": "91955b72-f743-4713-df47-c53ecb2f41e6",
        "colab": {
          "base_uri": "https://localhost:8080/",
          "height": 551
        },
        "id": "6J7t1gE5A5N0"
      },
      "execution_count": 95,
      "outputs": [
        {
          "output_type": "display_data",
          "data": {
            "text/plain": [
              "                    Stage 1     Stage 2     Stage 3     Stage 4\n",
              "Org in, ton/hr   173.200000  174.640766  180.509955  186.337244\n",
              "y1 in, %           6.000000    6.013786    6.660242    7.094231\n",
              "y2 in, %           6.000000    6.985926    9.129390   11.377956\n",
              "y3 in, %           1.000000    0.810143    0.641648    0.743973\n",
              "Aq in, ton/hr     27.836045   34.874939   39.505115   50.000000\n",
              "x1 in, %           0.992031    0.992031    0.992031    1.000000\n",
              "x2 in, %          46.636494   49.082375   53.870002   60.000000\n",
              "x3 in, %           1.945266    1.927605    0.534361    0.100000\n",
              "Org out, ton/hr  175.187670  179.040352  185.462235  194.759787\n",
              "y1 out, %          6.063995    6.527903    7.002671    7.466670\n",
              "y2 out, %          7.138491    8.667038   11.118294   14.859252\n",
              "y3 out, %          0.765171    0.718191    0.527668    0.554285\n",
              "Aq out, ton/hr    25.848375   30.475353   34.552835   41.577457\n",
              "x1 out, %          0.992031    0.992031    0.992031    0.992031\n",
              "x2 out, %         42.021631   45.266293   49.607126   53.515164\n",
              "x3 out, %          3.606956    2.606491    1.122878    0.889162"
            ],
            "text/html": [
              "\n",
              "  <div id=\"df-b7e4e2a3-9361-4492-a7fb-78030f9ea001\" class=\"colab-df-container\">\n",
              "    <div>\n",
              "<style scoped>\n",
              "    .dataframe tbody tr th:only-of-type {\n",
              "        vertical-align: middle;\n",
              "    }\n",
              "\n",
              "    .dataframe tbody tr th {\n",
              "        vertical-align: top;\n",
              "    }\n",
              "\n",
              "    .dataframe thead th {\n",
              "        text-align: right;\n",
              "    }\n",
              "</style>\n",
              "<table border=\"1\" class=\"dataframe\">\n",
              "  <thead>\n",
              "    <tr style=\"text-align: right;\">\n",
              "      <th></th>\n",
              "      <th>Stage 1</th>\n",
              "      <th>Stage 2</th>\n",
              "      <th>Stage 3</th>\n",
              "      <th>Stage 4</th>\n",
              "    </tr>\n",
              "  </thead>\n",
              "  <tbody>\n",
              "    <tr>\n",
              "      <th>Org in, ton/hr</th>\n",
              "      <td>173.200000</td>\n",
              "      <td>174.640766</td>\n",
              "      <td>180.509955</td>\n",
              "      <td>186.337244</td>\n",
              "    </tr>\n",
              "    <tr>\n",
              "      <th>y1 in, %</th>\n",
              "      <td>6.000000</td>\n",
              "      <td>6.013786</td>\n",
              "      <td>6.660242</td>\n",
              "      <td>7.094231</td>\n",
              "    </tr>\n",
              "    <tr>\n",
              "      <th>y2 in, %</th>\n",
              "      <td>6.000000</td>\n",
              "      <td>6.985926</td>\n",
              "      <td>9.129390</td>\n",
              "      <td>11.377956</td>\n",
              "    </tr>\n",
              "    <tr>\n",
              "      <th>y3 in, %</th>\n",
              "      <td>1.000000</td>\n",
              "      <td>0.810143</td>\n",
              "      <td>0.641648</td>\n",
              "      <td>0.743973</td>\n",
              "    </tr>\n",
              "    <tr>\n",
              "      <th>Aq in, ton/hr</th>\n",
              "      <td>27.836045</td>\n",
              "      <td>34.874939</td>\n",
              "      <td>39.505115</td>\n",
              "      <td>50.000000</td>\n",
              "    </tr>\n",
              "    <tr>\n",
              "      <th>x1 in, %</th>\n",
              "      <td>0.992031</td>\n",
              "      <td>0.992031</td>\n",
              "      <td>0.992031</td>\n",
              "      <td>1.000000</td>\n",
              "    </tr>\n",
              "    <tr>\n",
              "      <th>x2 in, %</th>\n",
              "      <td>46.636494</td>\n",
              "      <td>49.082375</td>\n",
              "      <td>53.870002</td>\n",
              "      <td>60.000000</td>\n",
              "    </tr>\n",
              "    <tr>\n",
              "      <th>x3 in, %</th>\n",
              "      <td>1.945266</td>\n",
              "      <td>1.927605</td>\n",
              "      <td>0.534361</td>\n",
              "      <td>0.100000</td>\n",
              "    </tr>\n",
              "    <tr>\n",
              "      <th>Org out, ton/hr</th>\n",
              "      <td>175.187670</td>\n",
              "      <td>179.040352</td>\n",
              "      <td>185.462235</td>\n",
              "      <td>194.759787</td>\n",
              "    </tr>\n",
              "    <tr>\n",
              "      <th>y1 out, %</th>\n",
              "      <td>6.063995</td>\n",
              "      <td>6.527903</td>\n",
              "      <td>7.002671</td>\n",
              "      <td>7.466670</td>\n",
              "    </tr>\n",
              "    <tr>\n",
              "      <th>y2 out, %</th>\n",
              "      <td>7.138491</td>\n",
              "      <td>8.667038</td>\n",
              "      <td>11.118294</td>\n",
              "      <td>14.859252</td>\n",
              "    </tr>\n",
              "    <tr>\n",
              "      <th>y3 out, %</th>\n",
              "      <td>0.765171</td>\n",
              "      <td>0.718191</td>\n",
              "      <td>0.527668</td>\n",
              "      <td>0.554285</td>\n",
              "    </tr>\n",
              "    <tr>\n",
              "      <th>Aq out, ton/hr</th>\n",
              "      <td>25.848375</td>\n",
              "      <td>30.475353</td>\n",
              "      <td>34.552835</td>\n",
              "      <td>41.577457</td>\n",
              "    </tr>\n",
              "    <tr>\n",
              "      <th>x1 out, %</th>\n",
              "      <td>0.992031</td>\n",
              "      <td>0.992031</td>\n",
              "      <td>0.992031</td>\n",
              "      <td>0.992031</td>\n",
              "    </tr>\n",
              "    <tr>\n",
              "      <th>x2 out, %</th>\n",
              "      <td>42.021631</td>\n",
              "      <td>45.266293</td>\n",
              "      <td>49.607126</td>\n",
              "      <td>53.515164</td>\n",
              "    </tr>\n",
              "    <tr>\n",
              "      <th>x3 out, %</th>\n",
              "      <td>3.606956</td>\n",
              "      <td>2.606491</td>\n",
              "      <td>1.122878</td>\n",
              "      <td>0.889162</td>\n",
              "    </tr>\n",
              "  </tbody>\n",
              "</table>\n",
              "</div>\n",
              "    <div class=\"colab-df-buttons\">\n",
              "\n",
              "  <div class=\"colab-df-container\">\n",
              "    <button class=\"colab-df-convert\" onclick=\"convertToInteractive('df-b7e4e2a3-9361-4492-a7fb-78030f9ea001')\"\n",
              "            title=\"Convert this dataframe to an interactive table.\"\n",
              "            style=\"display:none;\">\n",
              "\n",
              "  <svg xmlns=\"http://www.w3.org/2000/svg\" height=\"24px\" viewBox=\"0 -960 960 960\">\n",
              "    <path d=\"M120-120v-720h720v720H120Zm60-500h600v-160H180v160Zm220 220h160v-160H400v160Zm0 220h160v-160H400v160ZM180-400h160v-160H180v160Zm440 0h160v-160H620v160ZM180-180h160v-160H180v160Zm440 0h160v-160H620v160Z\"/>\n",
              "  </svg>\n",
              "    </button>\n",
              "\n",
              "  <style>\n",
              "    .colab-df-container {\n",
              "      display:flex;\n",
              "      gap: 12px;\n",
              "    }\n",
              "\n",
              "    .colab-df-convert {\n",
              "      background-color: #E8F0FE;\n",
              "      border: none;\n",
              "      border-radius: 50%;\n",
              "      cursor: pointer;\n",
              "      display: none;\n",
              "      fill: #1967D2;\n",
              "      height: 32px;\n",
              "      padding: 0 0 0 0;\n",
              "      width: 32px;\n",
              "    }\n",
              "\n",
              "    .colab-df-convert:hover {\n",
              "      background-color: #E2EBFA;\n",
              "      box-shadow: 0px 1px 2px rgba(60, 64, 67, 0.3), 0px 1px 3px 1px rgba(60, 64, 67, 0.15);\n",
              "      fill: #174EA6;\n",
              "    }\n",
              "\n",
              "    .colab-df-buttons div {\n",
              "      margin-bottom: 4px;\n",
              "    }\n",
              "\n",
              "    [theme=dark] .colab-df-convert {\n",
              "      background-color: #3B4455;\n",
              "      fill: #D2E3FC;\n",
              "    }\n",
              "\n",
              "    [theme=dark] .colab-df-convert:hover {\n",
              "      background-color: #434B5C;\n",
              "      box-shadow: 0px 1px 3px 1px rgba(0, 0, 0, 0.15);\n",
              "      filter: drop-shadow(0px 1px 2px rgba(0, 0, 0, 0.3));\n",
              "      fill: #FFFFFF;\n",
              "    }\n",
              "  </style>\n",
              "\n",
              "    <script>\n",
              "      const buttonEl =\n",
              "        document.querySelector('#df-b7e4e2a3-9361-4492-a7fb-78030f9ea001 button.colab-df-convert');\n",
              "      buttonEl.style.display =\n",
              "        google.colab.kernel.accessAllowed ? 'block' : 'none';\n",
              "\n",
              "      async function convertToInteractive(key) {\n",
              "        const element = document.querySelector('#df-b7e4e2a3-9361-4492-a7fb-78030f9ea001');\n",
              "        const dataTable =\n",
              "          await google.colab.kernel.invokeFunction('convertToInteractive',\n",
              "                                                    [key], {});\n",
              "        if (!dataTable) return;\n",
              "\n",
              "        const docLinkHtml = 'Like what you see? Visit the ' +\n",
              "          '<a target=\"_blank\" href=https://colab.research.google.com/notebooks/data_table.ipynb>data table notebook</a>'\n",
              "          + ' to learn more about interactive tables.';\n",
              "        element.innerHTML = '';\n",
              "        dataTable['output_type'] = 'display_data';\n",
              "        await google.colab.output.renderOutput(dataTable, element);\n",
              "        const docLink = document.createElement('div');\n",
              "        docLink.innerHTML = docLinkHtml;\n",
              "        element.appendChild(docLink);\n",
              "      }\n",
              "    </script>\n",
              "  </div>\n",
              "\n",
              "\n",
              "<div id=\"df-68be0602-b26d-47ca-a584-902c53c22304\">\n",
              "  <button class=\"colab-df-quickchart\" onclick=\"quickchart('df-68be0602-b26d-47ca-a584-902c53c22304')\"\n",
              "            title=\"Suggest charts\"\n",
              "            style=\"display:none;\">\n",
              "\n",
              "<svg xmlns=\"http://www.w3.org/2000/svg\" height=\"24px\"viewBox=\"0 0 24 24\"\n",
              "     width=\"24px\">\n",
              "    <g>\n",
              "        <path d=\"M19 3H5c-1.1 0-2 .9-2 2v14c0 1.1.9 2 2 2h14c1.1 0 2-.9 2-2V5c0-1.1-.9-2-2-2zM9 17H7v-7h2v7zm4 0h-2V7h2v10zm4 0h-2v-4h2v4z\"/>\n",
              "    </g>\n",
              "</svg>\n",
              "  </button>\n",
              "\n",
              "<style>\n",
              "  .colab-df-quickchart {\n",
              "      --bg-color: #E8F0FE;\n",
              "      --fill-color: #1967D2;\n",
              "      --hover-bg-color: #E2EBFA;\n",
              "      --hover-fill-color: #174EA6;\n",
              "      --disabled-fill-color: #AAA;\n",
              "      --disabled-bg-color: #DDD;\n",
              "  }\n",
              "\n",
              "  [theme=dark] .colab-df-quickchart {\n",
              "      --bg-color: #3B4455;\n",
              "      --fill-color: #D2E3FC;\n",
              "      --hover-bg-color: #434B5C;\n",
              "      --hover-fill-color: #FFFFFF;\n",
              "      --disabled-bg-color: #3B4455;\n",
              "      --disabled-fill-color: #666;\n",
              "  }\n",
              "\n",
              "  .colab-df-quickchart {\n",
              "    background-color: var(--bg-color);\n",
              "    border: none;\n",
              "    border-radius: 50%;\n",
              "    cursor: pointer;\n",
              "    display: none;\n",
              "    fill: var(--fill-color);\n",
              "    height: 32px;\n",
              "    padding: 0;\n",
              "    width: 32px;\n",
              "  }\n",
              "\n",
              "  .colab-df-quickchart:hover {\n",
              "    background-color: var(--hover-bg-color);\n",
              "    box-shadow: 0 1px 2px rgba(60, 64, 67, 0.3), 0 1px 3px 1px rgba(60, 64, 67, 0.15);\n",
              "    fill: var(--button-hover-fill-color);\n",
              "  }\n",
              "\n",
              "  .colab-df-quickchart-complete:disabled,\n",
              "  .colab-df-quickchart-complete:disabled:hover {\n",
              "    background-color: var(--disabled-bg-color);\n",
              "    fill: var(--disabled-fill-color);\n",
              "    box-shadow: none;\n",
              "  }\n",
              "\n",
              "  .colab-df-spinner {\n",
              "    border: 2px solid var(--fill-color);\n",
              "    border-color: transparent;\n",
              "    border-bottom-color: var(--fill-color);\n",
              "    animation:\n",
              "      spin 1s steps(1) infinite;\n",
              "  }\n",
              "\n",
              "  @keyframes spin {\n",
              "    0% {\n",
              "      border-color: transparent;\n",
              "      border-bottom-color: var(--fill-color);\n",
              "      border-left-color: var(--fill-color);\n",
              "    }\n",
              "    20% {\n",
              "      border-color: transparent;\n",
              "      border-left-color: var(--fill-color);\n",
              "      border-top-color: var(--fill-color);\n",
              "    }\n",
              "    30% {\n",
              "      border-color: transparent;\n",
              "      border-left-color: var(--fill-color);\n",
              "      border-top-color: var(--fill-color);\n",
              "      border-right-color: var(--fill-color);\n",
              "    }\n",
              "    40% {\n",
              "      border-color: transparent;\n",
              "      border-right-color: var(--fill-color);\n",
              "      border-top-color: var(--fill-color);\n",
              "    }\n",
              "    60% {\n",
              "      border-color: transparent;\n",
              "      border-right-color: var(--fill-color);\n",
              "    }\n",
              "    80% {\n",
              "      border-color: transparent;\n",
              "      border-right-color: var(--fill-color);\n",
              "      border-bottom-color: var(--fill-color);\n",
              "    }\n",
              "    90% {\n",
              "      border-color: transparent;\n",
              "      border-bottom-color: var(--fill-color);\n",
              "    }\n",
              "  }\n",
              "</style>\n",
              "\n",
              "  <script>\n",
              "    async function quickchart(key) {\n",
              "      const quickchartButtonEl =\n",
              "        document.querySelector('#' + key + ' button');\n",
              "      quickchartButtonEl.disabled = true;  // To prevent multiple clicks.\n",
              "      quickchartButtonEl.classList.add('colab-df-spinner');\n",
              "      try {\n",
              "        const charts = await google.colab.kernel.invokeFunction(\n",
              "            'suggestCharts', [key], {});\n",
              "      } catch (error) {\n",
              "        console.error('Error during call to suggestCharts:', error);\n",
              "      }\n",
              "      quickchartButtonEl.classList.remove('colab-df-spinner');\n",
              "      quickchartButtonEl.classList.add('colab-df-quickchart-complete');\n",
              "    }\n",
              "    (() => {\n",
              "      let quickchartButtonEl =\n",
              "        document.querySelector('#df-68be0602-b26d-47ca-a584-902c53c22304 button');\n",
              "      quickchartButtonEl.style.display =\n",
              "        google.colab.kernel.accessAllowed ? 'block' : 'none';\n",
              "    })();\n",
              "  </script>\n",
              "</div>\n",
              "\n",
              "    </div>\n",
              "  </div>\n"
            ],
            "application/vnd.google.colaboratory.intrinsic+json": {
              "type": "dataframe",
              "summary": "{\n  \"name\": \"table1_2=BatteryTable(bat1_2)\",\n  \"rows\": 16,\n  \"fields\": [\n    {\n      \"column\": \"Stage 1\",\n      \"properties\": {\n        \"dtype\": \"number\",\n        \"std\": 57.161099453291314,\n        \"min\": 0.7651707589020404,\n        \"max\": 175.18767037341757,\n        \"num_unique_values\": 14,\n        \"samples\": [\n          7.138491429557606,\n          25.848374623525483,\n          173.2\n        ],\n        \"semantic_type\": \"\",\n        \"description\": \"\"\n      }\n    },\n    {\n      \"column\": \"Stage 2\",\n      \"properties\": {\n        \"dtype\": \"number\",\n        \"std\": 58.019595414336536,\n        \"min\": 0.7181910195031923,\n        \"max\": 179.0403520321341,\n        \"num_unique_values\": 15,\n        \"samples\": [\n          6.5279026962838405,\n          0.7181910195031923,\n          174.6407660916746\n        ],\n        \"semantic_type\": \"\",\n        \"description\": \"\"\n      }\n    },\n    {\n      \"column\": \"Stage 3\",\n      \"properties\": {\n        \"dtype\": \"number\",\n        \"std\": 60.11941955826373,\n        \"min\": 0.5276683971439552,\n        \"max\": 185.46223519838085,\n        \"num_unique_values\": 15,\n        \"samples\": [\n          7.0026714121370235,\n          0.5276683971439552,\n          180.50995531859522\n        ],\n        \"semantic_type\": \"\",\n        \"description\": \"\"\n      }\n    },\n    {\n      \"column\": \"Stage 4\",\n      \"properties\": {\n        \"dtype\": \"number\",\n        \"std\": 62.662768116833355,\n        \"min\": 0.1,\n        \"max\": 194.75978731033223,\n        \"num_unique_values\": 16,\n        \"samples\": [\n          186.33724395429053,\n          7.094231255578199,\n          1.0\n        ],\n        \"semantic_type\": \"\",\n        \"description\": \"\"\n      }\n    }\n  ]\n}"
            }
          },
          "metadata": {}
        }
      ]
    },
    {
      "cell_type": "code",
      "source": [
        "# @markdown plots\n",
        "fig = make_subplots(rows=2, cols=2, subplot_titles=('H3PO4_org','water_org','solvent_aq','SO4_org'), column_widths=[0.5, 0.5], vertical_spacing=0.05,\n",
        "                     specs=[[{\"type\": \"scene\"}, {\"type\": \"scene\"}],[{\"type\": \"scene\"}, {\"type\": \"scene\"}]])\n",
        "\n",
        "# visib='legendonly'\n",
        "visib=True\n",
        "fig.add_trace(go.Scatter3d(x=x_mesh3[:,0], y=y_mesh3[:,0], z=mesh_predics1_1[:,0], mode='markers',marker_color='green', marker_size=0.5, name='Equilibrium surface', visible=visib),1,1)\n",
        "fig.add_trace(go.Scatter3d(x=x_mesh3[:,0], y=y_mesh3[:,0], z=mesh_predics1_2[:,0], mode='markers',marker_color='green', marker_size=0.5, name='Equilibrium surface', visible=visib),1,2)\n",
        "fig.add_trace(go.Scatter3d(x=x_mesh3[:,0], y=y_mesh3[:,0], z=mesh_predics1_3[:,0], mode='markers',marker_color='green', marker_size=0.5, name='Equilibrium surface', visible=visib),2,1)\n",
        "fig.add_trace(go.Scatter3d(x=x_mesh3[:,0], y=y_mesh3[:,0], z=mesh_predics1_4[:,0], mode='markers',marker_color='green', marker_size=0.5, name='Equilibrium surface', visible=visib),2,2)\n",
        "\n",
        "bat=bat1_2\n",
        "# n, row, col =[1,0,2], [1,1,2], [1,2,2] # H3PO4_org, water_org, SO4_org\n",
        "# for i in range(3):\n",
        "#   fig.add_trace(go.Scatter3d(x=bat.xout_list[:,1], y=bat.xout_list[:,2], z=bat.yout_list[:,n[i]], mode='markers', marker_color='blue', name='Efficiency'), row[i], col[i])\n",
        "#   x,y,z=np.concatenate((bat.xout_list[:,1], [bat.xin_list[-1,1]])),np.concatenate((bat.xout_list[:,2],[bat.xin_list[-1,2]])), np.concatenate((bat.yin_list[:,n[i]],[bat.yout_list[-1,n[i]]]))\n",
        "#   fig.add_trace(go.Scatter3d(x=x, y=y, z=z, mode = \"markers+lines+text\", text= ['({:.2f},{:.2f},{:.2f})'.format(a,b,c) for a,b,c in zip(x,y,z)], textposition ='bottom center', name='Operation', marker_color='green'),row[i],col[i])\n",
        "\n",
        "# H3PO4_org\n",
        "fig.add_trace(go.Scatter3d(x=bat.xout_list[:,1], y=bat.xout_list[:,2], z=bat.yout_list[:,1], mode='markers', marker_color='blue', name='Efficiency'), 1, 1)\n",
        "x,y,z=np.concatenate((bat.xout_list[:,1], [bat.xin_list[-1,1]])),np.concatenate((bat.xout_list[:,2],[bat.xin_list[-1,2]])), np.concatenate((bat.yin_list[:,1],[bat.yout_list[-1,1]]))\n",
        "fig.add_trace(go.Scatter3d(x=x, y=y, z=z, mode = \"markers+lines+text\", text= ['({:.2f},{:.2f},{:.2f})'.format(a,b,c) for a,b,c in zip(x,y,z)], textposition ='bottom center', name='Operation', marker_color='green'),1,1)\n",
        "# water_org\n",
        "fig.add_trace(go.Scatter3d(x=bat.xout_list[:,1], y=bat.xout_list[:,2], z=bat.yout_list[:,0], mode='markers', marker_color='blue', name='Efficiency'), 1, 2)\n",
        "x,y,z=np.concatenate((bat.xout_list[:,1], [bat.xin_list[-1,1]])),np.concatenate((bat.xout_list[:,2],[bat.xin_list[-1,2]])), np.concatenate((bat.yin_list[:,0],[bat.yout_list[-1,0]]))\n",
        "fig.add_trace(go.Scatter3d(x=x, y=y, z=z, mode = \"markers+lines+text\", text= ['({:.2f},{:.2f},{:.2f})'.format(a,b,c) for a,b,c in zip(x,y,z)], textposition ='bottom center', name='Operation', marker_color='green'),1,2)\n",
        "# SO4_org\n",
        "fig.add_trace(go.Scatter3d(x=bat.xout_list[:,1], y=bat.xout_list[:,2], z=bat.yout_list[:,2], mode='markers', marker_color='blue', name='Efficiency'), 2, 2)\n",
        "x,y,z=np.concatenate((bat.xout_list[:,1], [bat.xin_list[-1,1]])),np.concatenate((bat.xout_list[:,2],[bat.xin_list[-1,2]])), np.concatenate((bat.yin_list[:,2],[bat.yout_list[-1,2]]))\n",
        "fig.add_trace(go.Scatter3d(x=x, y=y, z=z, mode = \"markers+lines+text\", text= ['({:.2f},{:.2f},{:.2f})'.format(a,b,c) for a,b,c in zip(x,y,z)], textposition ='bottom center', name='Operation', marker_color='green'),2,2)\n",
        "\n",
        "# solvent_aq\n",
        "fig.add_trace(go.Scatter3d(x=bat.xout_list[:,1], y=bat.xout_list[:,2], z=bat.xout_list[:,0], mode='markers', marker_color='blue', name='Efficiency'), 2, 1)\n",
        "x,y,z=np.concatenate((bat.xout_list[:,1], [bat.xin_list[-1,1]])),np.concatenate((bat.xout_list[:,2],[bat.xin_list[-1,2]])), np.concatenate((bat.xout_list[:,0],[bat.xin_list[-1,0]])) # aqueous -- different operation line order\n",
        "fig.add_trace(go.Scatter3d(x=x, y=y, z=z, mode = \"markers+lines+text\", text= ['({:.2f},{:.2f},{:.2f})'.format(a,b,c) for a,b,c in zip(x,y,z)], textposition ='bottom center', name='Operation', marker_color='green'),2,1)\n",
        "\n",
        "\n",
        "fig.update_layout(title='', autosize=True,\n",
        "                  width=980, height=980,\n",
        "                  margin=dict(l=0, r=0, b=0, t=30),\n",
        "                  )\n",
        "\n",
        "fig.update_layout(\n",
        "    # scene1_zaxis_range=[0,10],\n",
        "    # scene2_zaxis_range=[10,14],\n",
        "    # scene3_zaxis_range=[0,3],\n",
        "    # scene4_zaxis_range=[0,.1],\n",
        "    )\n",
        "\n",
        "# fig_equil6_1.update_scenes(xaxis_title='H3PO4_aq', yaxis_title='SO4_aq', camera_eye=dict(x=1.5, y=-1.5, z=1.5))\n",
        "fig.update_scenes(xaxis_title='H3PO4_aq', yaxis_title='SO4_aq', camera_eye=dict(x=0, y=-2.2, z=0.01), aspectratio=dict(x=1, y=1, z=1))\n",
        "fig.update_scenes(camera_projection_type=\"orthographic\")\n",
        "\n",
        "fig.show()"
      ],
      "metadata": {
        "outputId": "b0fbc3a2-c4ac-4cfd-a852-bf470bcd3713",
        "colab": {
          "base_uri": "https://localhost:8080/",
          "height": 1000
        },
        "id": "K7wVi1byA5N2"
      },
      "execution_count": 58,
      "outputs": [
        {
          "output_type": "display_data",
          "data": {
            "text/html": [
              "<html>\n",
              "<head><meta charset=\"utf-8\" /></head>\n",
              "<body>\n",
              "    <div>            <script src=\"https://cdnjs.cloudflare.com/ajax/libs/mathjax/2.7.5/MathJax.js?config=TeX-AMS-MML_SVG\"></script><script type=\"text/javascript\">if (window.MathJax && window.MathJax.Hub && window.MathJax.Hub.Config) {window.MathJax.Hub.Config({SVG: {font: \"STIX-Web\"}});}</script>                <script type=\"text/javascript\">window.PlotlyConfig = {MathJaxConfig: 'local'};</script>\n",
              "        <script charset=\"utf-8\" src=\"https://cdn.plot.ly/plotly-2.35.2.min.js\"></script>                <div id=\"58faadf5-81a7-480f-afcc-bf7b0c96c578\" class=\"plotly-graph-div\" style=\"height:980px; width:980px;\"></div>            <script type=\"text/javascript\">                                    window.PLOTLYENV=window.PLOTLYENV || {};                                    if (document.getElementById(\"58faadf5-81a7-480f-afcc-bf7b0c96c578\")) {                    Plotly.newPlot(                        \"58faadf5-81a7-480f-afcc-bf7b0c96c578\",                        [{\"marker\":{\"color\":\"green\",\"size\":0.5},\"mode\":\"markers\",\"name\":\"Equilibrium surface\",\"visible\":true,\"x\":[0.0,2.3333333333333335,4.666666666666667,7.0,9.333333333333334,11.666666666666668,14.0,16.333333333333336,18.666666666666668,21.0,23.333333333333336,25.666666666666668,28.0,30.333333333333336,32.66666666666667,35.0,37.333333333333336,39.66666666666667,42.0,44.333333333333336,46.66666666666667,49.0,51.333333333333336,53.66666666666667,56.0,58.333333333333336,60.66666666666667,63.00000000000001,65.33333333333334,67.66666666666667,70.0,0.0,2.3333333333333335,4.666666666666667,7.0,9.333333333333334,11.666666666666668,14.0,16.333333333333336,18.666666666666668,21.0,23.333333333333336,25.666666666666668,28.0,30.333333333333336,32.66666666666667,35.0,37.333333333333336,39.66666666666667,42.0,44.333333333333336,46.66666666666667,49.0,51.333333333333336,53.66666666666667,56.0,58.333333333333336,60.66666666666667,63.00000000000001,65.33333333333334,67.66666666666667,70.0,0.0,2.3333333333333335,4.666666666666667,7.0,9.333333333333334,11.666666666666668,14.0,16.333333333333336,18.666666666666668,21.0,23.333333333333336,25.666666666666668,28.0,30.333333333333336,32.66666666666667,35.0,37.333333333333336,39.66666666666667,42.0,44.333333333333336,46.66666666666667,49.0,51.333333333333336,53.66666666666667,56.0,58.333333333333336,60.66666666666667,63.00000000000001,65.33333333333334,67.66666666666667,70.0,0.0,2.3333333333333335,4.666666666666667,7.0,9.333333333333334,11.666666666666668,14.0,16.333333333333336,18.666666666666668,21.0,23.333333333333336,25.666666666666668,28.0,30.333333333333336,32.66666666666667,35.0,37.333333333333336,39.66666666666667,42.0,44.333333333333336,46.66666666666667,49.0,51.333333333333336,53.66666666666667,56.0,58.333333333333336,60.66666666666667,63.00000000000001,65.33333333333334,67.66666666666667,70.0,0.0,2.3333333333333335,4.666666666666667,7.0,9.333333333333334,11.666666666666668,14.0,16.333333333333336,18.666666666666668,21.0,23.333333333333336,25.666666666666668,28.0,30.333333333333336,32.66666666666667,35.0,37.333333333333336,39.66666666666667,42.0,44.333333333333336,46.66666666666667,49.0,51.333333333333336,53.66666666666667,56.0,58.333333333333336,60.66666666666667,63.00000000000001,65.33333333333334,67.66666666666667,70.0,0.0,2.3333333333333335,4.666666666666667,7.0,9.333333333333334,11.666666666666668,14.0,16.333333333333336,18.666666666666668,21.0,23.333333333333336,25.666666666666668,28.0,30.333333333333336,32.66666666666667,35.0,37.333333333333336,39.66666666666667,42.0,44.333333333333336,46.66666666666667,49.0,51.333333333333336,53.66666666666667,56.0,58.333333333333336,60.66666666666667,63.00000000000001,65.33333333333334,67.66666666666667,70.0,0.0,2.3333333333333335,4.666666666666667,7.0,9.333333333333334,11.666666666666668,14.0,16.333333333333336,18.666666666666668,21.0,23.333333333333336,25.666666666666668,28.0,30.333333333333336,32.66666666666667,35.0,37.333333333333336,39.66666666666667,42.0,44.333333333333336,46.66666666666667,49.0,51.333333333333336,53.66666666666667,56.0,58.333333333333336,60.66666666666667,63.00000000000001,65.33333333333334,67.66666666666667,70.0,0.0,2.3333333333333335,4.666666666666667,7.0,9.333333333333334,11.666666666666668,14.0,16.333333333333336,18.666666666666668,21.0,23.333333333333336,25.666666666666668,28.0,30.333333333333336,32.66666666666667,35.0,37.333333333333336,39.66666666666667,42.0,44.333333333333336,46.66666666666667,49.0,51.333333333333336,53.66666666666667,56.0,58.333333333333336,60.66666666666667,63.00000000000001,65.33333333333334,67.66666666666667,70.0,0.0,2.3333333333333335,4.666666666666667,7.0,9.333333333333334,11.666666666666668,14.0,16.333333333333336,18.666666666666668,21.0,23.333333333333336,25.666666666666668,28.0,30.333333333333336,32.66666666666667,35.0,37.333333333333336,39.66666666666667,42.0,44.333333333333336,46.66666666666667,49.0,51.333333333333336,53.66666666666667,56.0,58.333333333333336,60.66666666666667,63.00000000000001,65.33333333333334,67.66666666666667,70.0,0.0,2.3333333333333335,4.666666666666667,7.0,9.333333333333334,11.666666666666668,14.0,16.333333333333336,18.666666666666668,21.0,23.333333333333336,25.666666666666668,28.0,30.333333333333336,32.66666666666667,35.0,37.333333333333336,39.66666666666667,42.0,44.333333333333336,46.66666666666667,49.0,51.333333333333336,53.66666666666667,56.0,58.333333333333336,60.66666666666667,63.00000000000001,65.33333333333334,67.66666666666667,70.0,0.0,2.3333333333333335,4.666666666666667,7.0,9.333333333333334,11.666666666666668,14.0,16.333333333333336,18.666666666666668,21.0,23.333333333333336,25.666666666666668,28.0,30.333333333333336,32.66666666666667,35.0,37.333333333333336,39.66666666666667,42.0,44.333333333333336,46.66666666666667,49.0,51.333333333333336,53.66666666666667,56.0,58.333333333333336,60.66666666666667,63.00000000000001,65.33333333333334,67.66666666666667,70.0,0.0,2.3333333333333335,4.666666666666667,7.0,9.333333333333334,11.666666666666668,14.0,16.333333333333336,18.666666666666668,21.0,23.333333333333336,25.666666666666668,28.0,30.333333333333336,32.66666666666667,35.0,37.333333333333336,39.66666666666667,42.0,44.333333333333336,46.66666666666667,49.0,51.333333333333336,53.66666666666667,56.0,58.333333333333336,60.66666666666667,63.00000000000001,65.33333333333334,67.66666666666667,70.0,0.0,2.3333333333333335,4.666666666666667,7.0,9.333333333333334,11.666666666666668,14.0,16.333333333333336,18.666666666666668,21.0,23.333333333333336,25.666666666666668,28.0,30.333333333333336,32.66666666666667,35.0,37.333333333333336,39.66666666666667,42.0,44.333333333333336,46.66666666666667,49.0,51.333333333333336,53.66666666666667,56.0,58.333333333333336,60.66666666666667,63.00000000000001,65.33333333333334,67.66666666666667,70.0,0.0,2.3333333333333335,4.666666666666667,7.0,9.333333333333334,11.666666666666668,14.0,16.333333333333336,18.666666666666668,21.0,23.333333333333336,25.666666666666668,28.0,30.333333333333336,32.66666666666667,35.0,37.333333333333336,39.66666666666667,42.0,44.333333333333336,46.66666666666667,49.0,51.333333333333336,53.66666666666667,56.0,58.333333333333336,60.66666666666667,63.00000000000001,65.33333333333334,67.66666666666667,70.0,0.0,2.3333333333333335,4.666666666666667,7.0,9.333333333333334,11.666666666666668,14.0,16.333333333333336,18.666666666666668,21.0,23.333333333333336,25.666666666666668,28.0,30.333333333333336,32.66666666666667,35.0,37.333333333333336,39.66666666666667,42.0,44.333333333333336,46.66666666666667,49.0,51.333333333333336,53.66666666666667,56.0,58.333333333333336,60.66666666666667,63.00000000000001,65.33333333333334,67.66666666666667,70.0,0.0,2.3333333333333335,4.666666666666667,7.0,9.333333333333334,11.666666666666668,14.0,16.333333333333336,18.666666666666668,21.0,23.333333333333336,25.666666666666668,28.0,30.333333333333336,32.66666666666667,35.0,37.333333333333336,39.66666666666667,42.0,44.333333333333336,46.66666666666667,49.0,51.333333333333336,53.66666666666667,56.0,58.333333333333336,60.66666666666667,63.00000000000001,65.33333333333334,67.66666666666667,70.0,0.0,2.3333333333333335,4.666666666666667,7.0,9.333333333333334,11.666666666666668,14.0,16.333333333333336,18.666666666666668,21.0,23.333333333333336,25.666666666666668,28.0,30.333333333333336,32.66666666666667,35.0,37.333333333333336,39.66666666666667,42.0,44.333333333333336,46.66666666666667,49.0,51.333333333333336,53.66666666666667,56.0,58.333333333333336,60.66666666666667,63.00000000000001,65.33333333333334,67.66666666666667,70.0,0.0,2.3333333333333335,4.666666666666667,7.0,9.333333333333334,11.666666666666668,14.0,16.333333333333336,18.666666666666668,21.0,23.333333333333336,25.666666666666668,28.0,30.333333333333336,32.66666666666667,35.0,37.333333333333336,39.66666666666667,42.0,44.333333333333336,46.66666666666667,49.0,51.333333333333336,53.66666666666667,56.0,58.333333333333336,60.66666666666667,63.00000000000001,65.33333333333334,67.66666666666667,70.0,0.0,2.3333333333333335,4.666666666666667,7.0,9.333333333333334,11.666666666666668,14.0,16.333333333333336,18.666666666666668,21.0,23.333333333333336,25.666666666666668,28.0,30.333333333333336,32.66666666666667,35.0,37.333333333333336,39.66666666666667,42.0,44.333333333333336,46.66666666666667,49.0,51.333333333333336,53.66666666666667,56.0,58.333333333333336,60.66666666666667,63.00000000000001,65.33333333333334,67.66666666666667,70.0,0.0,2.3333333333333335,4.666666666666667,7.0,9.333333333333334,11.666666666666668,14.0,16.333333333333336,18.666666666666668,21.0,23.333333333333336,25.666666666666668,28.0,30.333333333333336,32.66666666666667,35.0,37.333333333333336,39.66666666666667,42.0,44.333333333333336,46.66666666666667,49.0,51.333333333333336,53.66666666666667,56.0,58.333333333333336,60.66666666666667,63.00000000000001,65.33333333333334,67.66666666666667,70.0,0.0,2.3333333333333335,4.666666666666667,7.0,9.333333333333334,11.666666666666668,14.0,16.333333333333336,18.666666666666668,21.0,23.333333333333336,25.666666666666668,28.0,30.333333333333336,32.66666666666667,35.0,37.333333333333336,39.66666666666667,42.0,44.333333333333336,46.66666666666667,49.0,51.333333333333336,53.66666666666667,56.0,58.333333333333336,60.66666666666667,63.00000000000001,65.33333333333334,67.66666666666667,70.0,0.0,2.3333333333333335,4.666666666666667,7.0,9.333333333333334,11.666666666666668,14.0,16.333333333333336,18.666666666666668,21.0,23.333333333333336,25.666666666666668,28.0,30.333333333333336,32.66666666666667,35.0,37.333333333333336,39.66666666666667,42.0,44.333333333333336,46.66666666666667,49.0,51.333333333333336,53.66666666666667,56.0,58.333333333333336,60.66666666666667,63.00000000000001,65.33333333333334,67.66666666666667,70.0,0.0,2.3333333333333335,4.666666666666667,7.0,9.333333333333334,11.666666666666668,14.0,16.333333333333336,18.666666666666668,21.0,23.333333333333336,25.666666666666668,28.0,30.333333333333336,32.66666666666667,35.0,37.333333333333336,39.66666666666667,42.0,44.333333333333336,46.66666666666667,49.0,51.333333333333336,53.66666666666667,56.0,58.333333333333336,60.66666666666667,63.00000000000001,65.33333333333334,67.66666666666667,70.0,0.0,2.3333333333333335,4.666666666666667,7.0,9.333333333333334,11.666666666666668,14.0,16.333333333333336,18.666666666666668,21.0,23.333333333333336,25.666666666666668,28.0,30.333333333333336,32.66666666666667,35.0,37.333333333333336,39.66666666666667,42.0,44.333333333333336,46.66666666666667,49.0,51.333333333333336,53.66666666666667,56.0,58.333333333333336,60.66666666666667,63.00000000000001,65.33333333333334,67.66666666666667,70.0,0.0,2.3333333333333335,4.666666666666667,7.0,9.333333333333334,11.666666666666668,14.0,16.333333333333336,18.666666666666668,21.0,23.333333333333336,25.666666666666668,28.0,30.333333333333336,32.66666666666667,35.0,37.333333333333336,39.66666666666667,42.0,44.333333333333336,46.66666666666667,49.0,51.333333333333336,53.66666666666667,56.0,58.333333333333336,60.66666666666667,63.00000000000001,65.33333333333334,67.66666666666667,70.0,0.0,2.3333333333333335,4.666666666666667,7.0,9.333333333333334,11.666666666666668,14.0,16.333333333333336,18.666666666666668,21.0,23.333333333333336,25.666666666666668,28.0,30.333333333333336,32.66666666666667,35.0,37.333333333333336,39.66666666666667,42.0,44.333333333333336,46.66666666666667,49.0,51.333333333333336,53.66666666666667,56.0,58.333333333333336,60.66666666666667,63.00000000000001,65.33333333333334,67.66666666666667,70.0,0.0,2.3333333333333335,4.666666666666667,7.0,9.333333333333334,11.666666666666668,14.0,16.333333333333336,18.666666666666668,21.0,23.333333333333336,25.666666666666668,28.0,30.333333333333336,32.66666666666667,35.0,37.333333333333336,39.66666666666667,42.0,44.333333333333336,46.66666666666667,49.0,51.333333333333336,53.66666666666667,56.0,58.333333333333336,60.66666666666667,63.00000000000001,65.33333333333334,67.66666666666667,70.0,0.0,2.3333333333333335,4.666666666666667,7.0,9.333333333333334,11.666666666666668,14.0,16.333333333333336,18.666666666666668,21.0,23.333333333333336,25.666666666666668,28.0,30.333333333333336,32.66666666666667,35.0,37.333333333333336,39.66666666666667,42.0,44.333333333333336,46.66666666666667,49.0,51.333333333333336,53.66666666666667,56.0,58.333333333333336,60.66666666666667,63.00000000000001,65.33333333333334,67.66666666666667,70.0,0.0,2.3333333333333335,4.666666666666667,7.0,9.333333333333334,11.666666666666668,14.0,16.333333333333336,18.666666666666668,21.0,23.333333333333336,25.666666666666668,28.0,30.333333333333336,32.66666666666667,35.0,37.333333333333336,39.66666666666667,42.0,44.333333333333336,46.66666666666667,49.0,51.333333333333336,53.66666666666667,56.0,58.333333333333336,60.66666666666667,63.00000000000001,65.33333333333334,67.66666666666667,70.0,0.0,2.3333333333333335,4.666666666666667,7.0,9.333333333333334,11.666666666666668,14.0,16.333333333333336,18.666666666666668,21.0,23.333333333333336,25.666666666666668,28.0,30.333333333333336,32.66666666666667,35.0,37.333333333333336,39.66666666666667,42.0,44.333333333333336,46.66666666666667,49.0,51.333333333333336,53.66666666666667,56.0,58.333333333333336,60.66666666666667,63.00000000000001,65.33333333333334,67.66666666666667,70.0,0.0,2.3333333333333335,4.666666666666667,7.0,9.333333333333334,11.666666666666668,14.0,16.333333333333336,18.666666666666668,21.0,23.333333333333336,25.666666666666668,28.0,30.333333333333336,32.66666666666667,35.0,37.333333333333336,39.66666666666667,42.0,44.333333333333336,46.66666666666667,49.0,51.333333333333336,53.66666666666667,56.0,58.333333333333336,60.66666666666667,63.00000000000001,65.33333333333334,67.66666666666667,70.0],\"y\":[0.0,0.0,0.0,0.0,0.0,0.0,0.0,0.0,0.0,0.0,0.0,0.0,0.0,0.0,0.0,0.0,0.0,0.0,0.0,0.0,0.0,0.0,0.0,0.0,0.0,0.0,0.0,0.0,0.0,0.0,0.0,0.8333333333333334,0.8333333333333334,0.8333333333333334,0.8333333333333334,0.8333333333333334,0.8333333333333334,0.8333333333333334,0.8333333333333334,0.8333333333333334,0.8333333333333334,0.8333333333333334,0.8333333333333334,0.8333333333333334,0.8333333333333334,0.8333333333333334,0.8333333333333334,0.8333333333333334,0.8333333333333334,0.8333333333333334,0.8333333333333334,0.8333333333333334,0.8333333333333334,0.8333333333333334,0.8333333333333334,0.8333333333333334,0.8333333333333334,0.8333333333333334,0.8333333333333334,0.8333333333333334,0.8333333333333334,0.8333333333333334,1.6666666666666667,1.6666666666666667,1.6666666666666667,1.6666666666666667,1.6666666666666667,1.6666666666666667,1.6666666666666667,1.6666666666666667,1.6666666666666667,1.6666666666666667,1.6666666666666667,1.6666666666666667,1.6666666666666667,1.6666666666666667,1.6666666666666667,1.6666666666666667,1.6666666666666667,1.6666666666666667,1.6666666666666667,1.6666666666666667,1.6666666666666667,1.6666666666666667,1.6666666666666667,1.6666666666666667,1.6666666666666667,1.6666666666666667,1.6666666666666667,1.6666666666666667,1.6666666666666667,1.6666666666666667,1.6666666666666667,2.5,2.5,2.5,2.5,2.5,2.5,2.5,2.5,2.5,2.5,2.5,2.5,2.5,2.5,2.5,2.5,2.5,2.5,2.5,2.5,2.5,2.5,2.5,2.5,2.5,2.5,2.5,2.5,2.5,2.5,2.5,3.3333333333333335,3.3333333333333335,3.3333333333333335,3.3333333333333335,3.3333333333333335,3.3333333333333335,3.3333333333333335,3.3333333333333335,3.3333333333333335,3.3333333333333335,3.3333333333333335,3.3333333333333335,3.3333333333333335,3.3333333333333335,3.3333333333333335,3.3333333333333335,3.3333333333333335,3.3333333333333335,3.3333333333333335,3.3333333333333335,3.3333333333333335,3.3333333333333335,3.3333333333333335,3.3333333333333335,3.3333333333333335,3.3333333333333335,3.3333333333333335,3.3333333333333335,3.3333333333333335,3.3333333333333335,3.3333333333333335,4.166666666666667,4.166666666666667,4.166666666666667,4.166666666666667,4.166666666666667,4.166666666666667,4.166666666666667,4.166666666666667,4.166666666666667,4.166666666666667,4.166666666666667,4.166666666666667,4.166666666666667,4.166666666666667,4.166666666666667,4.166666666666667,4.166666666666667,4.166666666666667,4.166666666666667,4.166666666666667,4.166666666666667,4.166666666666667,4.166666666666667,4.166666666666667,4.166666666666667,4.166666666666667,4.166666666666667,4.166666666666667,4.166666666666667,4.166666666666667,4.166666666666667,5.0,5.0,5.0,5.0,5.0,5.0,5.0,5.0,5.0,5.0,5.0,5.0,5.0,5.0,5.0,5.0,5.0,5.0,5.0,5.0,5.0,5.0,5.0,5.0,5.0,5.0,5.0,5.0,5.0,5.0,5.0,5.833333333333334,5.833333333333334,5.833333333333334,5.833333333333334,5.833333333333334,5.833333333333334,5.833333333333334,5.833333333333334,5.833333333333334,5.833333333333334,5.833333333333334,5.833333333333334,5.833333333333334,5.833333333333334,5.833333333333334,5.833333333333334,5.833333333333334,5.833333333333334,5.833333333333334,5.833333333333334,5.833333333333334,5.833333333333334,5.833333333333334,5.833333333333334,5.833333333333334,5.833333333333334,5.833333333333334,5.833333333333334,5.833333333333334,5.833333333333334,5.833333333333334,6.666666666666667,6.666666666666667,6.666666666666667,6.666666666666667,6.666666666666667,6.666666666666667,6.666666666666667,6.666666666666667,6.666666666666667,6.666666666666667,6.666666666666667,6.666666666666667,6.666666666666667,6.666666666666667,6.666666666666667,6.666666666666667,6.666666666666667,6.666666666666667,6.666666666666667,6.666666666666667,6.666666666666667,6.666666666666667,6.666666666666667,6.666666666666667,6.666666666666667,6.666666666666667,6.666666666666667,6.666666666666667,6.666666666666667,6.666666666666667,6.666666666666667,7.5,7.5,7.5,7.5,7.5,7.5,7.5,7.5,7.5,7.5,7.5,7.5,7.5,7.5,7.5,7.5,7.5,7.5,7.5,7.5,7.5,7.5,7.5,7.5,7.5,7.5,7.5,7.5,7.5,7.5,7.5,8.333333333333334,8.333333333333334,8.333333333333334,8.333333333333334,8.333333333333334,8.333333333333334,8.333333333333334,8.333333333333334,8.333333333333334,8.333333333333334,8.333333333333334,8.333333333333334,8.333333333333334,8.333333333333334,8.333333333333334,8.333333333333334,8.333333333333334,8.333333333333334,8.333333333333334,8.333333333333334,8.333333333333334,8.333333333333334,8.333333333333334,8.333333333333334,8.333333333333334,8.333333333333334,8.333333333333334,8.333333333333334,8.333333333333334,8.333333333333334,8.333333333333334,9.166666666666668,9.166666666666668,9.166666666666668,9.166666666666668,9.166666666666668,9.166666666666668,9.166666666666668,9.166666666666668,9.166666666666668,9.166666666666668,9.166666666666668,9.166666666666668,9.166666666666668,9.166666666666668,9.166666666666668,9.166666666666668,9.166666666666668,9.166666666666668,9.166666666666668,9.166666666666668,9.166666666666668,9.166666666666668,9.166666666666668,9.166666666666668,9.166666666666668,9.166666666666668,9.166666666666668,9.166666666666668,9.166666666666668,9.166666666666668,9.166666666666668,10.0,10.0,10.0,10.0,10.0,10.0,10.0,10.0,10.0,10.0,10.0,10.0,10.0,10.0,10.0,10.0,10.0,10.0,10.0,10.0,10.0,10.0,10.0,10.0,10.0,10.0,10.0,10.0,10.0,10.0,10.0,10.833333333333334,10.833333333333334,10.833333333333334,10.833333333333334,10.833333333333334,10.833333333333334,10.833333333333334,10.833333333333334,10.833333333333334,10.833333333333334,10.833333333333334,10.833333333333334,10.833333333333334,10.833333333333334,10.833333333333334,10.833333333333334,10.833333333333334,10.833333333333334,10.833333333333334,10.833333333333334,10.833333333333334,10.833333333333334,10.833333333333334,10.833333333333334,10.833333333333334,10.833333333333334,10.833333333333334,10.833333333333334,10.833333333333334,10.833333333333334,10.833333333333334,11.666666666666668,11.666666666666668,11.666666666666668,11.666666666666668,11.666666666666668,11.666666666666668,11.666666666666668,11.666666666666668,11.666666666666668,11.666666666666668,11.666666666666668,11.666666666666668,11.666666666666668,11.666666666666668,11.666666666666668,11.666666666666668,11.666666666666668,11.666666666666668,11.666666666666668,11.666666666666668,11.666666666666668,11.666666666666668,11.666666666666668,11.666666666666668,11.666666666666668,11.666666666666668,11.666666666666668,11.666666666666668,11.666666666666668,11.666666666666668,11.666666666666668,12.5,12.5,12.5,12.5,12.5,12.5,12.5,12.5,12.5,12.5,12.5,12.5,12.5,12.5,12.5,12.5,12.5,12.5,12.5,12.5,12.5,12.5,12.5,12.5,12.5,12.5,12.5,12.5,12.5,12.5,12.5,13.333333333333334,13.333333333333334,13.333333333333334,13.333333333333334,13.333333333333334,13.333333333333334,13.333333333333334,13.333333333333334,13.333333333333334,13.333333333333334,13.333333333333334,13.333333333333334,13.333333333333334,13.333333333333334,13.333333333333334,13.333333333333334,13.333333333333334,13.333333333333334,13.333333333333334,13.333333333333334,13.333333333333334,13.333333333333334,13.333333333333334,13.333333333333334,13.333333333333334,13.333333333333334,13.333333333333334,13.333333333333334,13.333333333333334,13.333333333333334,13.333333333333334,14.166666666666668,14.166666666666668,14.166666666666668,14.166666666666668,14.166666666666668,14.166666666666668,14.166666666666668,14.166666666666668,14.166666666666668,14.166666666666668,14.166666666666668,14.166666666666668,14.166666666666668,14.166666666666668,14.166666666666668,14.166666666666668,14.166666666666668,14.166666666666668,14.166666666666668,14.166666666666668,14.166666666666668,14.166666666666668,14.166666666666668,14.166666666666668,14.166666666666668,14.166666666666668,14.166666666666668,14.166666666666668,14.166666666666668,14.166666666666668,14.166666666666668,15.0,15.0,15.0,15.0,15.0,15.0,15.0,15.0,15.0,15.0,15.0,15.0,15.0,15.0,15.0,15.0,15.0,15.0,15.0,15.0,15.0,15.0,15.0,15.0,15.0,15.0,15.0,15.0,15.0,15.0,15.0,15.833333333333334,15.833333333333334,15.833333333333334,15.833333333333334,15.833333333333334,15.833333333333334,15.833333333333334,15.833333333333334,15.833333333333334,15.833333333333334,15.833333333333334,15.833333333333334,15.833333333333334,15.833333333333334,15.833333333333334,15.833333333333334,15.833333333333334,15.833333333333334,15.833333333333334,15.833333333333334,15.833333333333334,15.833333333333334,15.833333333333334,15.833333333333334,15.833333333333334,15.833333333333334,15.833333333333334,15.833333333333334,15.833333333333334,15.833333333333334,15.833333333333334,16.666666666666668,16.666666666666668,16.666666666666668,16.666666666666668,16.666666666666668,16.666666666666668,16.666666666666668,16.666666666666668,16.666666666666668,16.666666666666668,16.666666666666668,16.666666666666668,16.666666666666668,16.666666666666668,16.666666666666668,16.666666666666668,16.666666666666668,16.666666666666668,16.666666666666668,16.666666666666668,16.666666666666668,16.666666666666668,16.666666666666668,16.666666666666668,16.666666666666668,16.666666666666668,16.666666666666668,16.666666666666668,16.666666666666668,16.666666666666668,16.666666666666668,17.5,17.5,17.5,17.5,17.5,17.5,17.5,17.5,17.5,17.5,17.5,17.5,17.5,17.5,17.5,17.5,17.5,17.5,17.5,17.5,17.5,17.5,17.5,17.5,17.5,17.5,17.5,17.5,17.5,17.5,17.5,18.333333333333336,18.333333333333336,18.333333333333336,18.333333333333336,18.333333333333336,18.333333333333336,18.333333333333336,18.333333333333336,18.333333333333336,18.333333333333336,18.333333333333336,18.333333333333336,18.333333333333336,18.333333333333336,18.333333333333336,18.333333333333336,18.333333333333336,18.333333333333336,18.333333333333336,18.333333333333336,18.333333333333336,18.333333333333336,18.333333333333336,18.333333333333336,18.333333333333336,18.333333333333336,18.333333333333336,18.333333333333336,18.333333333333336,18.333333333333336,18.333333333333336,19.166666666666668,19.166666666666668,19.166666666666668,19.166666666666668,19.166666666666668,19.166666666666668,19.166666666666668,19.166666666666668,19.166666666666668,19.166666666666668,19.166666666666668,19.166666666666668,19.166666666666668,19.166666666666668,19.166666666666668,19.166666666666668,19.166666666666668,19.166666666666668,19.166666666666668,19.166666666666668,19.166666666666668,19.166666666666668,19.166666666666668,19.166666666666668,19.166666666666668,19.166666666666668,19.166666666666668,19.166666666666668,19.166666666666668,19.166666666666668,19.166666666666668,20.0,20.0,20.0,20.0,20.0,20.0,20.0,20.0,20.0,20.0,20.0,20.0,20.0,20.0,20.0,20.0,20.0,20.0,20.0,20.0,20.0,20.0,20.0,20.0,20.0,20.0,20.0,20.0,20.0,20.0,20.0,20.833333333333336,20.833333333333336,20.833333333333336,20.833333333333336,20.833333333333336,20.833333333333336,20.833333333333336,20.833333333333336,20.833333333333336,20.833333333333336,20.833333333333336,20.833333333333336,20.833333333333336,20.833333333333336,20.833333333333336,20.833333333333336,20.833333333333336,20.833333333333336,20.833333333333336,20.833333333333336,20.833333333333336,20.833333333333336,20.833333333333336,20.833333333333336,20.833333333333336,20.833333333333336,20.833333333333336,20.833333333333336,20.833333333333336,20.833333333333336,20.833333333333336,21.666666666666668,21.666666666666668,21.666666666666668,21.666666666666668,21.666666666666668,21.666666666666668,21.666666666666668,21.666666666666668,21.666666666666668,21.666666666666668,21.666666666666668,21.666666666666668,21.666666666666668,21.666666666666668,21.666666666666668,21.666666666666668,21.666666666666668,21.666666666666668,21.666666666666668,21.666666666666668,21.666666666666668,21.666666666666668,21.666666666666668,21.666666666666668,21.666666666666668,21.666666666666668,21.666666666666668,21.666666666666668,21.666666666666668,21.666666666666668,21.666666666666668,22.5,22.5,22.5,22.5,22.5,22.5,22.5,22.5,22.5,22.5,22.5,22.5,22.5,22.5,22.5,22.5,22.5,22.5,22.5,22.5,22.5,22.5,22.5,22.5,22.5,22.5,22.5,22.5,22.5,22.5,22.5,23.333333333333336,23.333333333333336,23.333333333333336,23.333333333333336,23.333333333333336,23.333333333333336,23.333333333333336,23.333333333333336,23.333333333333336,23.333333333333336,23.333333333333336,23.333333333333336,23.333333333333336,23.333333333333336,23.333333333333336,23.333333333333336,23.333333333333336,23.333333333333336,23.333333333333336,23.333333333333336,23.333333333333336,23.333333333333336,23.333333333333336,23.333333333333336,23.333333333333336,23.333333333333336,23.333333333333336,23.333333333333336,23.333333333333336,23.333333333333336,23.333333333333336,24.166666666666668,24.166666666666668,24.166666666666668,24.166666666666668,24.166666666666668,24.166666666666668,24.166666666666668,24.166666666666668,24.166666666666668,24.166666666666668,24.166666666666668,24.166666666666668,24.166666666666668,24.166666666666668,24.166666666666668,24.166666666666668,24.166666666666668,24.166666666666668,24.166666666666668,24.166666666666668,24.166666666666668,24.166666666666668,24.166666666666668,24.166666666666668,24.166666666666668,24.166666666666668,24.166666666666668,24.166666666666668,24.166666666666668,24.166666666666668,24.166666666666668,25.0,25.0,25.0,25.0,25.0,25.0,25.0,25.0,25.0,25.0,25.0,25.0,25.0,25.0,25.0,25.0,25.0,25.0,25.0,25.0,25.0,25.0,25.0,25.0,25.0,25.0,25.0,25.0,25.0,25.0,25.0],\"z\":[0.19000500430440148,0.16903214013460932,0.14237774798958114,0.10850940470587389,0.06548548072311888,0.01084840002030063,0.05850838567900496,0.14650521577353892,0.2580788748417522,0.39942926026687964,0.578315586050941,0.8044055707855566,1.0896766089497678,1.4488597181945142,1.8999032157104718,2.4644113041073066,3.167980696022674,4.040314680776783,5.1149402133165225,6.428297662649262,8.017933855790913,9.919541458442898,12.16270092212603,14.765446381863535,17.728213186164055,21.028266716452652,24.616165792655863,28.415879486773356,32.32959014141301,36.246978899780586,40.05731453617863,0.18265398717642256,0.15968921145635306,0.13050532358139932,0.09342614784431191,0.04632868126236822,0.013472987971896444,0.08937205473664989,0.18564740276136682,0.30768219960989107,0.4622287320965217,0.6577244299312603,0.9046611857653719,1.2160043977708348,1.6076480699871922,2.098875750220552,2.712771678220509,3.476490109165969,4.421242790322584,5.581808517347708,6.9953161628473355,8.69902806152728,10.726894799650928,13.104817873256549,15.844887650695268,18.939354424873258,22.355629020639775,26.03395395110105,29.889226960994876,33.817605297987214,37.70712228923891,41.450157497797235,0.1746046428134722,0.14945938328866148,0.11750693753596408,0.07691412383347362,0.025359996493936166,0.0400903055759958,0.12314210556814409,0.22846406829600596,0.3619236124038778,0.5308706393000495,0.7444737069389866,1.0141090146085663,1.353795425755136,1.7806564849167899,2.3153707663525296,2.982542529780341,3.8108837862388647,4.833047090888293,6.084891705514843,7.603920117678696,9.426617738734112,11.584512249482326,14.098993490839302,16.97533130933647,20.196857634939317,23.72077913690929,27.477275893747095,31.373127792474673,35.30001019375692,39.14612489329109,42.80863116891334,0.16579082949517066,0.1382587836223177,0.10327632046597124,0.058838823135955565,0.002409394843747137,0.06921812907245162,0.16008875365007036,0.2752945719614157,0.4212278350274534,0.605884186356155,0.8392190721636243,1.1335554729158464,1.5040322543400428,1.96906766525926,2.5507894772371618,3.2753496736754446,4.172996313187973,5.277720422964789,6.626240706237976,8.256054410884818,10.202305598490927,12.493353051078063,15.145208502888895,18.15547283690503,21.497942287977505,25.119476622218855,28.940710710640275,32.86150841089229,36.77075580236658,40.55863366841042,44.12859123695539,0.15614018026639265,0.12599567238007303,0.08769727563523588,0.03905323816128359,0.022708845368761388,0.1010906608824147,0.20050664961144804,0.32650851255579205,0.4860567182166946,0.6878436992051604,0.9426702734175265,1.2638706499391592,1.6677705452891498,2.174145326086805,2.8066183088438397,3.592901349856387,4.564730444056686,5.757292563586989,7.207889448391387,8.953566102782414,11.027489118016879,13.454045734737434,16.24298920359035,19.38346227328649,22.83925993271724,26.546986830033223,30.4185174074001,34.34822152416416,38.22398312362257,41.9397050917327,45.40643351131848,0.14557352486047925,0.11256971595958021,0.07064277197325808,0.01739673485817228,0.05019753089903389,0.13596343968912272,0.2447169525392905,0.3825082043768493,0.5569121390329457,0.7773719181136762,1.0555947357255544,1.4059919518181712,1.8461423306113023,2.3972363723872725,3.084428882546023,3.9369844571423087,4.988047597290532,6.273812772357297,7.831827558839715,9.698166672484788,11.903314380718104,14.466839633509506,17.39136723225038,20.656885813298423,24.216909890728726,27.998135784107845,31.904722168954958,35.827147320354456,39.65411444601639,43.284866498805755,46.63911633654726,0.13400425950724681,0.09787119741328176,0.05197395829978291,0.006306171007436134,0.08027806199686616,0.17411518256743896,0.2930695518928239,0.4437313124927904,0.6343390542362428,0.8751434187694347,1.178821204450104,1.5609276678118178,2.0403589722156568,2.6397723987928163,3.3858767872522666,4.309458869334215,5.44495560293122,6.829328790514795,8.499969064066402,10.491390647578509,12.830628072861682,15.531558058946072,18.588845962003642,21.972759115274222,25.626469755721246,29.467378807976505,33.393213551752474,37.29229371184718,41.055935145190105,44.59016304939682,47.82416855544383,0.12133766024300563,0.08178015706444519,0.031539092738606556,0.03224713960659287,0.11319206134598048,0.2158497658135623,0.34594544299634755,0.5106536479419646,0.7189287028306204,0.9818881413339771,1.3132434050464479,1.7297603846523355,2.2517136900935633,2.903270330980602,3.712698892996574,4.712249528037686,5.937493381676259,7.425862059346339,9.21411711274162,11.334551100378906,13.80992875536004,16.64755488568384,19.83337551548526,23.327533860103443,27.063040868108303,30.948881227351194,34.87784243670505,38.7378921564843,42.42466361672552,45.85218973772649,48.95968408821945,0.10747013503395486,0.06416545804286145,0.009172381011826047,0.060635441742267204,0.14920313056289736,0.2614983507166482,0.4037592598928281,0.5837921214034107,0.8113219466767685,1.0983950000836078,1.4598236664665247,1.9136501582755638,2.481583516646234,3.189332002650632,4.066708933568695,5.147335993813341,6.467712253919178,8.06537899615247,9.975924885410798,12.228692717131606,14.841318784620643,17.81367646032145,21.122338347144314,24.71711867621061,28.52130825266938,32.436608804989284,36.35252329485209,40.15848585113682,43.75600759093611,47.06810855275813,50.04430462728992,0.092288409715227,0.04488377091380258,0.015307282955165036,0.0916995095172517,0.18859874113378083,0.3114216598292163,0.4669619677608381,0.663707850854955,0.912212732829154,1.2255155378336475,1.6195964425044256,2.1138373342888013,2.7314305117999176,3.499642436317668,4.449791064164813,5.6167391332167735,7.03765361165351,8.749758265164427,10.786853038322839,13.17454339385329,15.924458495488011,19.028230842377653,22.452547128854654,26.13691500401754,29.995613790681123,33.9244250162676,37.81133323972877,41.54900753451445,45.04620578526166,48.23565151163673,51.07719224901747,0.07566864243055704,0.023778471273864454,0.04209768091066124,0.1256886100472112,0.23169226634449913,0.3660124083228329,0.5360437150450235,0.7510094149747442,1.0223516549330949,1.3641675794110828,1.7936716507674308,2.3316448886232397,3.0028020490880856,3.83596657091503,4.86389108306693,6.122504627038867,7.649322742307459,9.480754109982,11.64812423890087,14.172465569308914,17.05852446161722,20.288966380408393,23.82025633949094,27.581867833906163,31.48004069981636,35.40619187556848,39.248605471752164,42.904844719445734,46.292054562579125,49.353110801911356,52.05799391343517,0.05747546094549527,0.0006784439082689886,0.0714147455963765,0.16287464921635753,0.27882516023029424,0.4256978936955935,0.6115368428388912,0.8463562394257291,1.1425495834597719,1.5153388268554746,1.9832377323678383,2.5684801379745643,3.297329957451497,4.200144155672067,5.311004996366929,6.666683008064222,8.304658674867877,10.259955974750959,12.560675585752822,15.222408757375817,18.242173791493567,21.59306150541658,25.22118849329879,29.046530550746102,32.968506769546664,36.8758708136,40.659014048761335,44.22189085134578,47.49091993189754,50.41931765531872,52.986799870577,0.03756091689820984,0.024603213145026004,0.10349415456806099,0.20355411226059417,0.3303692887911698,0.49094274535924853,0.6940190457829427,0.9504620975531886,1.2736813256067023,1.6800903256433468,2.1895643168106176,2.8258356460812983,3.6167282778668515,4.594082509536813,5.793164604538345,7.251305978648619,9.005500028289735,11.088744833077834,13.525109958252523,16.323864969470172,19.47351647844018,22.937127373518038,26.650575361680346,30.5251424020324,34.45486329832897,38.327620102743964,42.03764741403452,45.49658160528003,48.640735811046966,51.43361182990604,53.86409793462748,0.015763350759558037,0.05227059148406177,0.13859304957609098,0.24805014756944566,0.3867294176313347,0.5622518333925886,0.7841166746900559,1.064098700280871,1.416689265187129,1.8595597159247,2.4140043559330273,3.105289127012611,3.9627893691203813,5.01974683064528,6.312419802445482,7.878358823163441,9.753546982518865,11.968246863776596,14.541647597592197,17.475828901465942,20.75009777866162,24.3172246064701,28.103213876796005,32.0117164283015,35.93299634469708,39.75588553172512,43.380068735789536,46.72591623610853,49.739989940383836,52.39580370179276,54.69072544628919,0.008093838996634517,0.08254648918965835,0.17699188844626512,0.29671479948645185,0.4483458587200513,0.6401733329111892,0.8825081661542118,1.188099341953933,1.5725869206195302,2.0549641654469646,2.6579955682642424,3.408502121031093,4.337378074491641,5.479147733495291,6.870817313731937,8.549748821437287,10.550319664380378,12.899285355047393,15.610079466903578,18.67676487549127,22.068892425334845,25.728894869516274,29.57353569329728,33.500135107664626,37.396926767115744,41.15548142402978,44.68236180891823,47.907464538054114,50.78769917636335,53.306130975681896,55.46782054284155,0.03420352924638337,0.11567404870066511,0.21899643612678155,0.34993139500368287,0.5156972770636372,0.7253019369644669,0.9899275784017885,1.323362559389766,1.7424623450697236,2.2676028615000803,2.9230610110917965,3.737217193121044,4.742423642599125,5.974325695525014,7.4703756302158535,9.267269689723399,11.397113442954286,13.882331974096985,16.729724153086426,19.92458255212963,23.42631218890954,27.167207411153356,31.05568867570182,34.98425052026451,38.84090559942429,42.521659642016026,45.94116198637364,49.0393605151808,51.78337610061824,54.16521193339982,56.19677411705162,0.0627763150112699,0.1519185227498543,0.26493990110264143,0.4081170880334497,0.5893036556349571,0.8182822065122917,1.1071682054552117,1.4708557503005135,1.9274812767812293,2.4988589179074534,3.210808572302879,4.0932533800989575,5.179909083408825,6.507332113077832,8.113056000687191,10.032562227330002,12.294951858017855,14.917458794112694,17.899390235209623,21.216623342434428,24.818227863983438,28.6268200016645,32.54362792717903,36.457985572090664,40.25950158341847,43.85016487397506,47.15367229308282,50.12028428853324,52.72698896114969,54.97399697476243,56.879183590844036,0.09404206873573884,0.19156917522225747,0.31518522267459836,0.4717255633284232,0.6697294138327372,0.9198120407214194,1.2350862331427344,1.631618684394164,2.1288899295903914,2.7502005299903693,3.5229291483950202,4.478499590886946,5.651857637092178,7.08020670291577,8.800729414762241,10.847071530112306,13.244538153542392,16.004292707646293,19.117346130424067,22.549659236726583,26.240006213219075,30.102052990358676,34.0312134337601,37.915432754634246,41.647678133111604,45.13727521144263,48.3176654861406,51.14943405777757,53.61891693273179,55.73371998826201,57.51680937453635,0.128251623115883,0.23494132346012364,0.3701275136067732,0.5412499000331259,0.7575866709250274,1.0306462444172766,1.3746043904433431,1.8067668257130087,2.3480172935658103,3.0231811858826596,3.861193249888929,4.894905647975532,6.160316042145293,7.694951043311864,9.535139658854984,11.712001344495237,14.24620664520408,17.141974054279217,20.381299415846296,23.919905421577862,27.686561753479985,31.586974506784863,35.51231101238196,39.35094706299607,43.00085759705856,46.379827735131,49.43147332909466,52.12649009570622,54.45990256427321,56.445850842513025,58.111534640735954,0.16567858446818562,0.2823785279939113,0.4301966612994885,0.6172255921928915,0.8535386412475479,1.1516001618740326,1.5267155379460107,1.9974943680337809,2.586276793736058,3.3194387170992243,4.227445752018941,5.344470648714131,6.707334313426988,8.353498131981642,10.317862684249215,12.6282663726107,15.299875401596468,18.32912142813948,21.68838749497978,25.32304758165247,29.152422565680972,33.075494212894164,36.980893055653134,40.75923003715019,44.314971366247164,47.57522949111765,50.4939647258162,53.051572793366276,55.25100309473008,57.11205003242817,58.665328823021625,0.20662128340024744,0.3342549348783841,0.4958600888716447,0.7002337202198774,0.9583031422423112,1.283553337069094,1.6924861216840554,2.2050768663885076,2.845167131205283,3.6406929456444512,4.623598488703841,5.82922832567675,7.294941784267019,9.057677949892973,11.150262721196949,13.596443592053644,16.40500194478831,19.563804684150085,23.035181217504984,26.75428419559174,30.631808594728955,34.56146252238729,38.43113557831554,42.13540239883774,45.58649509148893,48.72145481470049,51.50451460389819,53.92519670941178,55.993542089313365,57.73412626246508,59.180215059055755,0.25140486913926985,0.3909777746999854,0.5676256752565845,0.7909042632033749,1.0726561895888231,1.4274531499064516,1.873059405155935,2.4308733270053295,3.126272106003386,3.988741660261754,5.051620373509856,6.351229099206346,7.925119233320927,9.809179162586812,12.033445794913778,14.616723910405408,17.560543855533766,20.843528109351237,24.417702668476558,28.208383464143356,32.11872023235823,36.03877188268113,39.85750828897895,43.47506338635468,46.81246897344174,49.81703041980238,52.46296555313765,54.74822243136134,56.68906259541123,58.31399751482053,59.65824163848848,0.30038355324392185,0.4529900208323667,0.6460448305318032,0.8899195369259143,1.197435645544882,1.5843183655724395,2.069658374885231,2.676327595355385,3.431259195388945,4.365454632100089,5.513524725153362,6.9125185459269325,8.599767009948597,10.609507264821852,12.96821154313784,15.688865718853394,18.76492627862166,22.16522555035911,25.831457825390537,29.67975379516304,33.60703439740415,37.50145659251373,41.25485481626224,44.7743355894752,47.99050372438222,50.86101000204786,53.36958422475736,55.521807852091,57.33928276098031,58.85365594116725,60.10145738817569,0.35394300751982044,0.520773207572029,0.7317157191091521,0.9980177363691087,1.333544877015438,1.755242519991798,2.28358819538572,2.9429688578110156,3.7618766358978313,4.772765361930269,6.011353480040415,7.515112058307287,9.320669194487955,11.459939678800376,13.955004490785605,16.812152121244647,20.01601834162925,23.525268980560476,27.27148416025598,31.1625260635973,35.09060489380141,38.94378771519265,42.618460775402326,46.02989480281467,49.11877333795202,51.85294030102588,54.225014401014334,56.247360224714825,57.94605461150759,59.355136737027806,60.5118908292861,0.4125029197201613,0.5948504063028697,0.8252866189890966,1.1159965542126216,1.4819563686500778,1.9413970481903338,2.5162380679528713,3.232411047142909,4.1199487334053995,5.212660239341307,6.547157993783917,8.160965545995722,10.089453983680755,12.361478546870128,14.993866191484162,17.985353772444263,21.31112040556748,24.919491551667377,28.73241257237604,32.65064521900089,36.563363574255206,40.360359936044574,43.94410802245565,47.23898509735872,50.19599621809128,52.79282063968584,55.03022847536295,56.9264901032375,58.51132645544682,59.82049100990861,60.89153287005742,0.4299341773041139,0.6168936836358618,0.8531195952263371,1.151072134769672,1.5260518234123008,1.9966626761390813,2.5852386444050612,3.318149114402665,4.225853387127161,5.342518970010126,6.704963878850685,8.350650674836615,10.314487207195787,12.624327249553176,15.295361856329384,18.324056920535348,21.68283671975407,25.31711841468315,29.14626086395052,33.06927106762285,36.97478646593972,40.753404983507764,44.309562874156896,47.570332145099115,50.48962984432242,53.0478122274891,55.24779725607179,57.10935752011254,58.66309558787884,59.94513448213955,60.993019307799884,0.4299341773041139,0.6168936836358618,0.8531195952263371,1.151072134769672,1.5260518234123008,1.9966626761390813,2.5852386444050612,3.318149114402665,4.225853387127161,5.342518970010126,6.704963878850685,8.350650674836615,10.314487207195787,12.624327249553176,15.295361856329384,18.324056920535348,21.68283671975407,25.31711841468315,29.14626086395052,33.06927106762285,36.97478646593972,40.753404983507764,44.309562874156896,47.570332145099115,50.48962984432242,53.0478122274891,55.24779725607179,57.10935752011254,58.66309558787884,59.94513448213955,60.993019307799884,0.4299341773041139,0.6168936836358618,0.8531195952263371,1.151072134769672,1.5260518234123008,1.9966626761390813,2.5852386444050612,3.318149114402665,4.225853387127161,5.342518970010126,6.704963878850685,8.350650674836615,10.314487207195787,12.624327249553176,15.295361856329384,18.324056920535348,21.68283671975407,25.31711841468315,29.14626086395052,33.06927106762285,36.97478646593972,40.753404983507764,44.309562874156896,47.570332145099115,50.48962984432242,53.0478122274891,55.24779725607179,57.10935752011254,58.66309558787884,59.94513448213955,60.993019307799884,0.4299341773041139,0.6168936836358618,0.8531195952263371,1.151072134769672,1.5260518234123008,1.9966626761390813,2.5852386444050612,3.318149114402665,4.225853387127161,5.342518970010126,6.704963878850685,8.350650674836615,10.314487207195787,12.624327249553176,15.295361856329384,18.324056920535348,21.68283671975407,25.31711841468315,29.14626086395052,33.06927106762285,36.97478646593972,40.753404983507764,44.309562874156896,47.570332145099115,50.48962984432242,53.0478122274891,55.24779725607179,57.10935752011254,58.66309558787884,59.94513448213955,60.993019307799884,0.4299341773041139,0.6168936836358618,0.8531195952263371,1.151072134769672,1.5260518234123008,1.9966626761390813,2.5852386444050612,3.318149114402665,4.225853387127161,5.342518970010126,6.704963878850685,8.350650674836615,10.314487207195787,12.624327249553176,15.295361856329384,18.324056920535348,21.68283671975407,25.31711841468315,29.14626086395052,33.06927106762285,36.97478646593972,40.753404983507764,44.309562874156896,47.570332145099115,50.48962984432242,53.0478122274891,55.24779725607179,57.10935752011254,58.66309558787884,59.94513448213955,60.993019307799884,0.4299341773041139,0.6168936836358618,0.8531195952263371,1.151072134769672,1.5260518234123008,1.9966626761390813,2.5852386444050612,3.318149114402665,4.225853387127161,5.342518970010126,6.704963878850685,8.350650674836615,10.314487207195787,12.624327249553176,15.295361856329384,18.324056920535348,21.68283671975407,25.31711841468315,29.14626086395052,33.06927106762285,36.97478646593972,40.753404983507764,44.309562874156896,47.570332145099115,50.48962984432242,53.0478122274891,55.24779725607179,57.10935752011254,58.66309558787884,59.94513448213955,60.993019307799884],\"type\":\"scatter3d\",\"scene\":\"scene\"},{\"marker\":{\"color\":\"green\",\"size\":0.5},\"mode\":\"markers\",\"name\":\"Equilibrium surface\",\"visible\":true,\"x\":[0.0,2.3333333333333335,4.666666666666667,7.0,9.333333333333334,11.666666666666668,14.0,16.333333333333336,18.666666666666668,21.0,23.333333333333336,25.666666666666668,28.0,30.333333333333336,32.66666666666667,35.0,37.333333333333336,39.66666666666667,42.0,44.333333333333336,46.66666666666667,49.0,51.333333333333336,53.66666666666667,56.0,58.333333333333336,60.66666666666667,63.00000000000001,65.33333333333334,67.66666666666667,70.0,0.0,2.3333333333333335,4.666666666666667,7.0,9.333333333333334,11.666666666666668,14.0,16.333333333333336,18.666666666666668,21.0,23.333333333333336,25.666666666666668,28.0,30.333333333333336,32.66666666666667,35.0,37.333333333333336,39.66666666666667,42.0,44.333333333333336,46.66666666666667,49.0,51.333333333333336,53.66666666666667,56.0,58.333333333333336,60.66666666666667,63.00000000000001,65.33333333333334,67.66666666666667,70.0,0.0,2.3333333333333335,4.666666666666667,7.0,9.333333333333334,11.666666666666668,14.0,16.333333333333336,18.666666666666668,21.0,23.333333333333336,25.666666666666668,28.0,30.333333333333336,32.66666666666667,35.0,37.333333333333336,39.66666666666667,42.0,44.333333333333336,46.66666666666667,49.0,51.333333333333336,53.66666666666667,56.0,58.333333333333336,60.66666666666667,63.00000000000001,65.33333333333334,67.66666666666667,70.0,0.0,2.3333333333333335,4.666666666666667,7.0,9.333333333333334,11.666666666666668,14.0,16.333333333333336,18.666666666666668,21.0,23.333333333333336,25.666666666666668,28.0,30.333333333333336,32.66666666666667,35.0,37.333333333333336,39.66666666666667,42.0,44.333333333333336,46.66666666666667,49.0,51.333333333333336,53.66666666666667,56.0,58.333333333333336,60.66666666666667,63.00000000000001,65.33333333333334,67.66666666666667,70.0,0.0,2.3333333333333335,4.666666666666667,7.0,9.333333333333334,11.666666666666668,14.0,16.333333333333336,18.666666666666668,21.0,23.333333333333336,25.666666666666668,28.0,30.333333333333336,32.66666666666667,35.0,37.333333333333336,39.66666666666667,42.0,44.333333333333336,46.66666666666667,49.0,51.333333333333336,53.66666666666667,56.0,58.333333333333336,60.66666666666667,63.00000000000001,65.33333333333334,67.66666666666667,70.0,0.0,2.3333333333333335,4.666666666666667,7.0,9.333333333333334,11.666666666666668,14.0,16.333333333333336,18.666666666666668,21.0,23.333333333333336,25.666666666666668,28.0,30.333333333333336,32.66666666666667,35.0,37.333333333333336,39.66666666666667,42.0,44.333333333333336,46.66666666666667,49.0,51.333333333333336,53.66666666666667,56.0,58.333333333333336,60.66666666666667,63.00000000000001,65.33333333333334,67.66666666666667,70.0,0.0,2.3333333333333335,4.666666666666667,7.0,9.333333333333334,11.666666666666668,14.0,16.333333333333336,18.666666666666668,21.0,23.333333333333336,25.666666666666668,28.0,30.333333333333336,32.66666666666667,35.0,37.333333333333336,39.66666666666667,42.0,44.333333333333336,46.66666666666667,49.0,51.333333333333336,53.66666666666667,56.0,58.333333333333336,60.66666666666667,63.00000000000001,65.33333333333334,67.66666666666667,70.0,0.0,2.3333333333333335,4.666666666666667,7.0,9.333333333333334,11.666666666666668,14.0,16.333333333333336,18.666666666666668,21.0,23.333333333333336,25.666666666666668,28.0,30.333333333333336,32.66666666666667,35.0,37.333333333333336,39.66666666666667,42.0,44.333333333333336,46.66666666666667,49.0,51.333333333333336,53.66666666666667,56.0,58.333333333333336,60.66666666666667,63.00000000000001,65.33333333333334,67.66666666666667,70.0,0.0,2.3333333333333335,4.666666666666667,7.0,9.333333333333334,11.666666666666668,14.0,16.333333333333336,18.666666666666668,21.0,23.333333333333336,25.666666666666668,28.0,30.333333333333336,32.66666666666667,35.0,37.333333333333336,39.66666666666667,42.0,44.333333333333336,46.66666666666667,49.0,51.333333333333336,53.66666666666667,56.0,58.333333333333336,60.66666666666667,63.00000000000001,65.33333333333334,67.66666666666667,70.0,0.0,2.3333333333333335,4.666666666666667,7.0,9.333333333333334,11.666666666666668,14.0,16.333333333333336,18.666666666666668,21.0,23.333333333333336,25.666666666666668,28.0,30.333333333333336,32.66666666666667,35.0,37.333333333333336,39.66666666666667,42.0,44.333333333333336,46.66666666666667,49.0,51.333333333333336,53.66666666666667,56.0,58.333333333333336,60.66666666666667,63.00000000000001,65.33333333333334,67.66666666666667,70.0,0.0,2.3333333333333335,4.666666666666667,7.0,9.333333333333334,11.666666666666668,14.0,16.333333333333336,18.666666666666668,21.0,23.333333333333336,25.666666666666668,28.0,30.333333333333336,32.66666666666667,35.0,37.333333333333336,39.66666666666667,42.0,44.333333333333336,46.66666666666667,49.0,51.333333333333336,53.66666666666667,56.0,58.333333333333336,60.66666666666667,63.00000000000001,65.33333333333334,67.66666666666667,70.0,0.0,2.3333333333333335,4.666666666666667,7.0,9.333333333333334,11.666666666666668,14.0,16.333333333333336,18.666666666666668,21.0,23.333333333333336,25.666666666666668,28.0,30.333333333333336,32.66666666666667,35.0,37.333333333333336,39.66666666666667,42.0,44.333333333333336,46.66666666666667,49.0,51.333333333333336,53.66666666666667,56.0,58.333333333333336,60.66666666666667,63.00000000000001,65.33333333333334,67.66666666666667,70.0,0.0,2.3333333333333335,4.666666666666667,7.0,9.333333333333334,11.666666666666668,14.0,16.333333333333336,18.666666666666668,21.0,23.333333333333336,25.666666666666668,28.0,30.333333333333336,32.66666666666667,35.0,37.333333333333336,39.66666666666667,42.0,44.333333333333336,46.66666666666667,49.0,51.333333333333336,53.66666666666667,56.0,58.333333333333336,60.66666666666667,63.00000000000001,65.33333333333334,67.66666666666667,70.0,0.0,2.3333333333333335,4.666666666666667,7.0,9.333333333333334,11.666666666666668,14.0,16.333333333333336,18.666666666666668,21.0,23.333333333333336,25.666666666666668,28.0,30.333333333333336,32.66666666666667,35.0,37.333333333333336,39.66666666666667,42.0,44.333333333333336,46.66666666666667,49.0,51.333333333333336,53.66666666666667,56.0,58.333333333333336,60.66666666666667,63.00000000000001,65.33333333333334,67.66666666666667,70.0,0.0,2.3333333333333335,4.666666666666667,7.0,9.333333333333334,11.666666666666668,14.0,16.333333333333336,18.666666666666668,21.0,23.333333333333336,25.666666666666668,28.0,30.333333333333336,32.66666666666667,35.0,37.333333333333336,39.66666666666667,42.0,44.333333333333336,46.66666666666667,49.0,51.333333333333336,53.66666666666667,56.0,58.333333333333336,60.66666666666667,63.00000000000001,65.33333333333334,67.66666666666667,70.0,0.0,2.3333333333333335,4.666666666666667,7.0,9.333333333333334,11.666666666666668,14.0,16.333333333333336,18.666666666666668,21.0,23.333333333333336,25.666666666666668,28.0,30.333333333333336,32.66666666666667,35.0,37.333333333333336,39.66666666666667,42.0,44.333333333333336,46.66666666666667,49.0,51.333333333333336,53.66666666666667,56.0,58.333333333333336,60.66666666666667,63.00000000000001,65.33333333333334,67.66666666666667,70.0,0.0,2.3333333333333335,4.666666666666667,7.0,9.333333333333334,11.666666666666668,14.0,16.333333333333336,18.666666666666668,21.0,23.333333333333336,25.666666666666668,28.0,30.333333333333336,32.66666666666667,35.0,37.333333333333336,39.66666666666667,42.0,44.333333333333336,46.66666666666667,49.0,51.333333333333336,53.66666666666667,56.0,58.333333333333336,60.66666666666667,63.00000000000001,65.33333333333334,67.66666666666667,70.0,0.0,2.3333333333333335,4.666666666666667,7.0,9.333333333333334,11.666666666666668,14.0,16.333333333333336,18.666666666666668,21.0,23.333333333333336,25.666666666666668,28.0,30.333333333333336,32.66666666666667,35.0,37.333333333333336,39.66666666666667,42.0,44.333333333333336,46.66666666666667,49.0,51.333333333333336,53.66666666666667,56.0,58.333333333333336,60.66666666666667,63.00000000000001,65.33333333333334,67.66666666666667,70.0,0.0,2.3333333333333335,4.666666666666667,7.0,9.333333333333334,11.666666666666668,14.0,16.333333333333336,18.666666666666668,21.0,23.333333333333336,25.666666666666668,28.0,30.333333333333336,32.66666666666667,35.0,37.333333333333336,39.66666666666667,42.0,44.333333333333336,46.66666666666667,49.0,51.333333333333336,53.66666666666667,56.0,58.333333333333336,60.66666666666667,63.00000000000001,65.33333333333334,67.66666666666667,70.0,0.0,2.3333333333333335,4.666666666666667,7.0,9.333333333333334,11.666666666666668,14.0,16.333333333333336,18.666666666666668,21.0,23.333333333333336,25.666666666666668,28.0,30.333333333333336,32.66666666666667,35.0,37.333333333333336,39.66666666666667,42.0,44.333333333333336,46.66666666666667,49.0,51.333333333333336,53.66666666666667,56.0,58.333333333333336,60.66666666666667,63.00000000000001,65.33333333333334,67.66666666666667,70.0,0.0,2.3333333333333335,4.666666666666667,7.0,9.333333333333334,11.666666666666668,14.0,16.333333333333336,18.666666666666668,21.0,23.333333333333336,25.666666666666668,28.0,30.333333333333336,32.66666666666667,35.0,37.333333333333336,39.66666666666667,42.0,44.333333333333336,46.66666666666667,49.0,51.333333333333336,53.66666666666667,56.0,58.333333333333336,60.66666666666667,63.00000000000001,65.33333333333334,67.66666666666667,70.0,0.0,2.3333333333333335,4.666666666666667,7.0,9.333333333333334,11.666666666666668,14.0,16.333333333333336,18.666666666666668,21.0,23.333333333333336,25.666666666666668,28.0,30.333333333333336,32.66666666666667,35.0,37.333333333333336,39.66666666666667,42.0,44.333333333333336,46.66666666666667,49.0,51.333333333333336,53.66666666666667,56.0,58.333333333333336,60.66666666666667,63.00000000000001,65.33333333333334,67.66666666666667,70.0,0.0,2.3333333333333335,4.666666666666667,7.0,9.333333333333334,11.666666666666668,14.0,16.333333333333336,18.666666666666668,21.0,23.333333333333336,25.666666666666668,28.0,30.333333333333336,32.66666666666667,35.0,37.333333333333336,39.66666666666667,42.0,44.333333333333336,46.66666666666667,49.0,51.333333333333336,53.66666666666667,56.0,58.333333333333336,60.66666666666667,63.00000000000001,65.33333333333334,67.66666666666667,70.0,0.0,2.3333333333333335,4.666666666666667,7.0,9.333333333333334,11.666666666666668,14.0,16.333333333333336,18.666666666666668,21.0,23.333333333333336,25.666666666666668,28.0,30.333333333333336,32.66666666666667,35.0,37.333333333333336,39.66666666666667,42.0,44.333333333333336,46.66666666666667,49.0,51.333333333333336,53.66666666666667,56.0,58.333333333333336,60.66666666666667,63.00000000000001,65.33333333333334,67.66666666666667,70.0,0.0,2.3333333333333335,4.666666666666667,7.0,9.333333333333334,11.666666666666668,14.0,16.333333333333336,18.666666666666668,21.0,23.333333333333336,25.666666666666668,28.0,30.333333333333336,32.66666666666667,35.0,37.333333333333336,39.66666666666667,42.0,44.333333333333336,46.66666666666667,49.0,51.333333333333336,53.66666666666667,56.0,58.333333333333336,60.66666666666667,63.00000000000001,65.33333333333334,67.66666666666667,70.0,0.0,2.3333333333333335,4.666666666666667,7.0,9.333333333333334,11.666666666666668,14.0,16.333333333333336,18.666666666666668,21.0,23.333333333333336,25.666666666666668,28.0,30.333333333333336,32.66666666666667,35.0,37.333333333333336,39.66666666666667,42.0,44.333333333333336,46.66666666666667,49.0,51.333333333333336,53.66666666666667,56.0,58.333333333333336,60.66666666666667,63.00000000000001,65.33333333333334,67.66666666666667,70.0,0.0,2.3333333333333335,4.666666666666667,7.0,9.333333333333334,11.666666666666668,14.0,16.333333333333336,18.666666666666668,21.0,23.333333333333336,25.666666666666668,28.0,30.333333333333336,32.66666666666667,35.0,37.333333333333336,39.66666666666667,42.0,44.333333333333336,46.66666666666667,49.0,51.333333333333336,53.66666666666667,56.0,58.333333333333336,60.66666666666667,63.00000000000001,65.33333333333334,67.66666666666667,70.0,0.0,2.3333333333333335,4.666666666666667,7.0,9.333333333333334,11.666666666666668,14.0,16.333333333333336,18.666666666666668,21.0,23.333333333333336,25.666666666666668,28.0,30.333333333333336,32.66666666666667,35.0,37.333333333333336,39.66666666666667,42.0,44.333333333333336,46.66666666666667,49.0,51.333333333333336,53.66666666666667,56.0,58.333333333333336,60.66666666666667,63.00000000000001,65.33333333333334,67.66666666666667,70.0,0.0,2.3333333333333335,4.666666666666667,7.0,9.333333333333334,11.666666666666668,14.0,16.333333333333336,18.666666666666668,21.0,23.333333333333336,25.666666666666668,28.0,30.333333333333336,32.66666666666667,35.0,37.333333333333336,39.66666666666667,42.0,44.333333333333336,46.66666666666667,49.0,51.333333333333336,53.66666666666667,56.0,58.333333333333336,60.66666666666667,63.00000000000001,65.33333333333334,67.66666666666667,70.0,0.0,2.3333333333333335,4.666666666666667,7.0,9.333333333333334,11.666666666666668,14.0,16.333333333333336,18.666666666666668,21.0,23.333333333333336,25.666666666666668,28.0,30.333333333333336,32.66666666666667,35.0,37.333333333333336,39.66666666666667,42.0,44.333333333333336,46.66666666666667,49.0,51.333333333333336,53.66666666666667,56.0,58.333333333333336,60.66666666666667,63.00000000000001,65.33333333333334,67.66666666666667,70.0,0.0,2.3333333333333335,4.666666666666667,7.0,9.333333333333334,11.666666666666668,14.0,16.333333333333336,18.666666666666668,21.0,23.333333333333336,25.666666666666668,28.0,30.333333333333336,32.66666666666667,35.0,37.333333333333336,39.66666666666667,42.0,44.333333333333336,46.66666666666667,49.0,51.333333333333336,53.66666666666667,56.0,58.333333333333336,60.66666666666667,63.00000000000001,65.33333333333334,67.66666666666667,70.0],\"y\":[0.0,0.0,0.0,0.0,0.0,0.0,0.0,0.0,0.0,0.0,0.0,0.0,0.0,0.0,0.0,0.0,0.0,0.0,0.0,0.0,0.0,0.0,0.0,0.0,0.0,0.0,0.0,0.0,0.0,0.0,0.0,0.8333333333333334,0.8333333333333334,0.8333333333333334,0.8333333333333334,0.8333333333333334,0.8333333333333334,0.8333333333333334,0.8333333333333334,0.8333333333333334,0.8333333333333334,0.8333333333333334,0.8333333333333334,0.8333333333333334,0.8333333333333334,0.8333333333333334,0.8333333333333334,0.8333333333333334,0.8333333333333334,0.8333333333333334,0.8333333333333334,0.8333333333333334,0.8333333333333334,0.8333333333333334,0.8333333333333334,0.8333333333333334,0.8333333333333334,0.8333333333333334,0.8333333333333334,0.8333333333333334,0.8333333333333334,0.8333333333333334,1.6666666666666667,1.6666666666666667,1.6666666666666667,1.6666666666666667,1.6666666666666667,1.6666666666666667,1.6666666666666667,1.6666666666666667,1.6666666666666667,1.6666666666666667,1.6666666666666667,1.6666666666666667,1.6666666666666667,1.6666666666666667,1.6666666666666667,1.6666666666666667,1.6666666666666667,1.6666666666666667,1.6666666666666667,1.6666666666666667,1.6666666666666667,1.6666666666666667,1.6666666666666667,1.6666666666666667,1.6666666666666667,1.6666666666666667,1.6666666666666667,1.6666666666666667,1.6666666666666667,1.6666666666666667,1.6666666666666667,2.5,2.5,2.5,2.5,2.5,2.5,2.5,2.5,2.5,2.5,2.5,2.5,2.5,2.5,2.5,2.5,2.5,2.5,2.5,2.5,2.5,2.5,2.5,2.5,2.5,2.5,2.5,2.5,2.5,2.5,2.5,3.3333333333333335,3.3333333333333335,3.3333333333333335,3.3333333333333335,3.3333333333333335,3.3333333333333335,3.3333333333333335,3.3333333333333335,3.3333333333333335,3.3333333333333335,3.3333333333333335,3.3333333333333335,3.3333333333333335,3.3333333333333335,3.3333333333333335,3.3333333333333335,3.3333333333333335,3.3333333333333335,3.3333333333333335,3.3333333333333335,3.3333333333333335,3.3333333333333335,3.3333333333333335,3.3333333333333335,3.3333333333333335,3.3333333333333335,3.3333333333333335,3.3333333333333335,3.3333333333333335,3.3333333333333335,3.3333333333333335,4.166666666666667,4.166666666666667,4.166666666666667,4.166666666666667,4.166666666666667,4.166666666666667,4.166666666666667,4.166666666666667,4.166666666666667,4.166666666666667,4.166666666666667,4.166666666666667,4.166666666666667,4.166666666666667,4.166666666666667,4.166666666666667,4.166666666666667,4.166666666666667,4.166666666666667,4.166666666666667,4.166666666666667,4.166666666666667,4.166666666666667,4.166666666666667,4.166666666666667,4.166666666666667,4.166666666666667,4.166666666666667,4.166666666666667,4.166666666666667,4.166666666666667,5.0,5.0,5.0,5.0,5.0,5.0,5.0,5.0,5.0,5.0,5.0,5.0,5.0,5.0,5.0,5.0,5.0,5.0,5.0,5.0,5.0,5.0,5.0,5.0,5.0,5.0,5.0,5.0,5.0,5.0,5.0,5.833333333333334,5.833333333333334,5.833333333333334,5.833333333333334,5.833333333333334,5.833333333333334,5.833333333333334,5.833333333333334,5.833333333333334,5.833333333333334,5.833333333333334,5.833333333333334,5.833333333333334,5.833333333333334,5.833333333333334,5.833333333333334,5.833333333333334,5.833333333333334,5.833333333333334,5.833333333333334,5.833333333333334,5.833333333333334,5.833333333333334,5.833333333333334,5.833333333333334,5.833333333333334,5.833333333333334,5.833333333333334,5.833333333333334,5.833333333333334,5.833333333333334,6.666666666666667,6.666666666666667,6.666666666666667,6.666666666666667,6.666666666666667,6.666666666666667,6.666666666666667,6.666666666666667,6.666666666666667,6.666666666666667,6.666666666666667,6.666666666666667,6.666666666666667,6.666666666666667,6.666666666666667,6.666666666666667,6.666666666666667,6.666666666666667,6.666666666666667,6.666666666666667,6.666666666666667,6.666666666666667,6.666666666666667,6.666666666666667,6.666666666666667,6.666666666666667,6.666666666666667,6.666666666666667,6.666666666666667,6.666666666666667,6.666666666666667,7.5,7.5,7.5,7.5,7.5,7.5,7.5,7.5,7.5,7.5,7.5,7.5,7.5,7.5,7.5,7.5,7.5,7.5,7.5,7.5,7.5,7.5,7.5,7.5,7.5,7.5,7.5,7.5,7.5,7.5,7.5,8.333333333333334,8.333333333333334,8.333333333333334,8.333333333333334,8.333333333333334,8.333333333333334,8.333333333333334,8.333333333333334,8.333333333333334,8.333333333333334,8.333333333333334,8.333333333333334,8.333333333333334,8.333333333333334,8.333333333333334,8.333333333333334,8.333333333333334,8.333333333333334,8.333333333333334,8.333333333333334,8.333333333333334,8.333333333333334,8.333333333333334,8.333333333333334,8.333333333333334,8.333333333333334,8.333333333333334,8.333333333333334,8.333333333333334,8.333333333333334,8.333333333333334,9.166666666666668,9.166666666666668,9.166666666666668,9.166666666666668,9.166666666666668,9.166666666666668,9.166666666666668,9.166666666666668,9.166666666666668,9.166666666666668,9.166666666666668,9.166666666666668,9.166666666666668,9.166666666666668,9.166666666666668,9.166666666666668,9.166666666666668,9.166666666666668,9.166666666666668,9.166666666666668,9.166666666666668,9.166666666666668,9.166666666666668,9.166666666666668,9.166666666666668,9.166666666666668,9.166666666666668,9.166666666666668,9.166666666666668,9.166666666666668,9.166666666666668,10.0,10.0,10.0,10.0,10.0,10.0,10.0,10.0,10.0,10.0,10.0,10.0,10.0,10.0,10.0,10.0,10.0,10.0,10.0,10.0,10.0,10.0,10.0,10.0,10.0,10.0,10.0,10.0,10.0,10.0,10.0,10.833333333333334,10.833333333333334,10.833333333333334,10.833333333333334,10.833333333333334,10.833333333333334,10.833333333333334,10.833333333333334,10.833333333333334,10.833333333333334,10.833333333333334,10.833333333333334,10.833333333333334,10.833333333333334,10.833333333333334,10.833333333333334,10.833333333333334,10.833333333333334,10.833333333333334,10.833333333333334,10.833333333333334,10.833333333333334,10.833333333333334,10.833333333333334,10.833333333333334,10.833333333333334,10.833333333333334,10.833333333333334,10.833333333333334,10.833333333333334,10.833333333333334,11.666666666666668,11.666666666666668,11.666666666666668,11.666666666666668,11.666666666666668,11.666666666666668,11.666666666666668,11.666666666666668,11.666666666666668,11.666666666666668,11.666666666666668,11.666666666666668,11.666666666666668,11.666666666666668,11.666666666666668,11.666666666666668,11.666666666666668,11.666666666666668,11.666666666666668,11.666666666666668,11.666666666666668,11.666666666666668,11.666666666666668,11.666666666666668,11.666666666666668,11.666666666666668,11.666666666666668,11.666666666666668,11.666666666666668,11.666666666666668,11.666666666666668,12.5,12.5,12.5,12.5,12.5,12.5,12.5,12.5,12.5,12.5,12.5,12.5,12.5,12.5,12.5,12.5,12.5,12.5,12.5,12.5,12.5,12.5,12.5,12.5,12.5,12.5,12.5,12.5,12.5,12.5,12.5,13.333333333333334,13.333333333333334,13.333333333333334,13.333333333333334,13.333333333333334,13.333333333333334,13.333333333333334,13.333333333333334,13.333333333333334,13.333333333333334,13.333333333333334,13.333333333333334,13.333333333333334,13.333333333333334,13.333333333333334,13.333333333333334,13.333333333333334,13.333333333333334,13.333333333333334,13.333333333333334,13.333333333333334,13.333333333333334,13.333333333333334,13.333333333333334,13.333333333333334,13.333333333333334,13.333333333333334,13.333333333333334,13.333333333333334,13.333333333333334,13.333333333333334,14.166666666666668,14.166666666666668,14.166666666666668,14.166666666666668,14.166666666666668,14.166666666666668,14.166666666666668,14.166666666666668,14.166666666666668,14.166666666666668,14.166666666666668,14.166666666666668,14.166666666666668,14.166666666666668,14.166666666666668,14.166666666666668,14.166666666666668,14.166666666666668,14.166666666666668,14.166666666666668,14.166666666666668,14.166666666666668,14.166666666666668,14.166666666666668,14.166666666666668,14.166666666666668,14.166666666666668,14.166666666666668,14.166666666666668,14.166666666666668,14.166666666666668,15.0,15.0,15.0,15.0,15.0,15.0,15.0,15.0,15.0,15.0,15.0,15.0,15.0,15.0,15.0,15.0,15.0,15.0,15.0,15.0,15.0,15.0,15.0,15.0,15.0,15.0,15.0,15.0,15.0,15.0,15.0,15.833333333333334,15.833333333333334,15.833333333333334,15.833333333333334,15.833333333333334,15.833333333333334,15.833333333333334,15.833333333333334,15.833333333333334,15.833333333333334,15.833333333333334,15.833333333333334,15.833333333333334,15.833333333333334,15.833333333333334,15.833333333333334,15.833333333333334,15.833333333333334,15.833333333333334,15.833333333333334,15.833333333333334,15.833333333333334,15.833333333333334,15.833333333333334,15.833333333333334,15.833333333333334,15.833333333333334,15.833333333333334,15.833333333333334,15.833333333333334,15.833333333333334,16.666666666666668,16.666666666666668,16.666666666666668,16.666666666666668,16.666666666666668,16.666666666666668,16.666666666666668,16.666666666666668,16.666666666666668,16.666666666666668,16.666666666666668,16.666666666666668,16.666666666666668,16.666666666666668,16.666666666666668,16.666666666666668,16.666666666666668,16.666666666666668,16.666666666666668,16.666666666666668,16.666666666666668,16.666666666666668,16.666666666666668,16.666666666666668,16.666666666666668,16.666666666666668,16.666666666666668,16.666666666666668,16.666666666666668,16.666666666666668,16.666666666666668,17.5,17.5,17.5,17.5,17.5,17.5,17.5,17.5,17.5,17.5,17.5,17.5,17.5,17.5,17.5,17.5,17.5,17.5,17.5,17.5,17.5,17.5,17.5,17.5,17.5,17.5,17.5,17.5,17.5,17.5,17.5,18.333333333333336,18.333333333333336,18.333333333333336,18.333333333333336,18.333333333333336,18.333333333333336,18.333333333333336,18.333333333333336,18.333333333333336,18.333333333333336,18.333333333333336,18.333333333333336,18.333333333333336,18.333333333333336,18.333333333333336,18.333333333333336,18.333333333333336,18.333333333333336,18.333333333333336,18.333333333333336,18.333333333333336,18.333333333333336,18.333333333333336,18.333333333333336,18.333333333333336,18.333333333333336,18.333333333333336,18.333333333333336,18.333333333333336,18.333333333333336,18.333333333333336,19.166666666666668,19.166666666666668,19.166666666666668,19.166666666666668,19.166666666666668,19.166666666666668,19.166666666666668,19.166666666666668,19.166666666666668,19.166666666666668,19.166666666666668,19.166666666666668,19.166666666666668,19.166666666666668,19.166666666666668,19.166666666666668,19.166666666666668,19.166666666666668,19.166666666666668,19.166666666666668,19.166666666666668,19.166666666666668,19.166666666666668,19.166666666666668,19.166666666666668,19.166666666666668,19.166666666666668,19.166666666666668,19.166666666666668,19.166666666666668,19.166666666666668,20.0,20.0,20.0,20.0,20.0,20.0,20.0,20.0,20.0,20.0,20.0,20.0,20.0,20.0,20.0,20.0,20.0,20.0,20.0,20.0,20.0,20.0,20.0,20.0,20.0,20.0,20.0,20.0,20.0,20.0,20.0,20.833333333333336,20.833333333333336,20.833333333333336,20.833333333333336,20.833333333333336,20.833333333333336,20.833333333333336,20.833333333333336,20.833333333333336,20.833333333333336,20.833333333333336,20.833333333333336,20.833333333333336,20.833333333333336,20.833333333333336,20.833333333333336,20.833333333333336,20.833333333333336,20.833333333333336,20.833333333333336,20.833333333333336,20.833333333333336,20.833333333333336,20.833333333333336,20.833333333333336,20.833333333333336,20.833333333333336,20.833333333333336,20.833333333333336,20.833333333333336,20.833333333333336,21.666666666666668,21.666666666666668,21.666666666666668,21.666666666666668,21.666666666666668,21.666666666666668,21.666666666666668,21.666666666666668,21.666666666666668,21.666666666666668,21.666666666666668,21.666666666666668,21.666666666666668,21.666666666666668,21.666666666666668,21.666666666666668,21.666666666666668,21.666666666666668,21.666666666666668,21.666666666666668,21.666666666666668,21.666666666666668,21.666666666666668,21.666666666666668,21.666666666666668,21.666666666666668,21.666666666666668,21.666666666666668,21.666666666666668,21.666666666666668,21.666666666666668,22.5,22.5,22.5,22.5,22.5,22.5,22.5,22.5,22.5,22.5,22.5,22.5,22.5,22.5,22.5,22.5,22.5,22.5,22.5,22.5,22.5,22.5,22.5,22.5,22.5,22.5,22.5,22.5,22.5,22.5,22.5,23.333333333333336,23.333333333333336,23.333333333333336,23.333333333333336,23.333333333333336,23.333333333333336,23.333333333333336,23.333333333333336,23.333333333333336,23.333333333333336,23.333333333333336,23.333333333333336,23.333333333333336,23.333333333333336,23.333333333333336,23.333333333333336,23.333333333333336,23.333333333333336,23.333333333333336,23.333333333333336,23.333333333333336,23.333333333333336,23.333333333333336,23.333333333333336,23.333333333333336,23.333333333333336,23.333333333333336,23.333333333333336,23.333333333333336,23.333333333333336,23.333333333333336,24.166666666666668,24.166666666666668,24.166666666666668,24.166666666666668,24.166666666666668,24.166666666666668,24.166666666666668,24.166666666666668,24.166666666666668,24.166666666666668,24.166666666666668,24.166666666666668,24.166666666666668,24.166666666666668,24.166666666666668,24.166666666666668,24.166666666666668,24.166666666666668,24.166666666666668,24.166666666666668,24.166666666666668,24.166666666666668,24.166666666666668,24.166666666666668,24.166666666666668,24.166666666666668,24.166666666666668,24.166666666666668,24.166666666666668,24.166666666666668,24.166666666666668,25.0,25.0,25.0,25.0,25.0,25.0,25.0,25.0,25.0,25.0,25.0,25.0,25.0,25.0,25.0,25.0,25.0,25.0,25.0,25.0,25.0,25.0,25.0,25.0,25.0,25.0,25.0,25.0,25.0,25.0,25.0],\"z\":[5.214211033088409,5.214233100366512,5.2142664473455405,5.214316859762466,5.214393123042409,5.214508628201958,5.214683916872822,5.214950835028421,5.215359609445507,5.215991615466339,5.216984046071107,5.218581101674422,5.221247259354195,5.225930609582665,5.234693783354623,5.25223294735025,5.289395631518655,5.370219622135844,5.53991999169575,5.8495604717742715,6.278732736809987,6.699633886561362,7.0263651522247725,7.2900285856380656,7.555306130245492,7.867782343471273,8.248639831446242,8.696898629109914,9.190937544399251,9.694002536414612,10.165718045385297,5.214227460549903,5.2142579139820695,5.214303931596708,5.214373493505999,5.214478712106411,5.214638036441357,5.214879733848412,5.215247543374403,5.215810238132798,5.216678720605961,5.218038712732548,5.2202178999507804,5.2238331729083765,5.230130334519897,5.241791713222937,5.264857437334769,5.313055857161239,5.415806961364565,5.62399549531498,5.980702892121791,6.434805772580842,6.852451785233222,7.181748765365649,7.472269910349093,7.78512778716002,8.155768781743987,8.592590857857578,9.080205706813054,9.585154073434195,10.066998920799923,10.49173091441277,5.214250131901826,5.214292158494657,5.214355661280285,5.214451647240925,5.214596816290605,5.214816587809105,5.215149865363731,5.215656735516543,5.216431398950566,5.2176250798303965,5.219489380276746,5.222464401268293,5.227370173934062,5.2358446711120585,5.251375880053075,5.281721150189033,5.344172148885825,5.474263598364228,5.727130919340985,6.131404739114625,6.605387045208672,7.022905099499274,7.366237001105166,7.695016163999196,8.062006099886652,8.489156616160955,8.969698516335145,9.474929570913371,9.965392703250089,10.40490610116732,10.77113752805153,5.21428142031229,5.214339418165297,5.214427049916664,5.214559497668381,5.2147597868701485,5.215062942331167,5.215522510599817,5.216221048479543,5.217287619465973,5.218928514006227,5.221484779265625,5.225547901875435,5.23220864043566,5.243621258986911,5.264319319909444,5.304244149681165,5.385039300124765,5.548899959047775,5.852568956674442,6.30345451713772,6.793998245256014,7.2179975721020515,7.587277274370226,7.963047262680584,8.385101322973195,8.859140251279118,9.363490419032097,9.861102648882994,10.314438508244576,10.697810918080823,11.001987548232378,5.214324600862515,5.21440463929915,5.214525567874256,5.214708327430843,5.214984664980547,5.215402841116415,5.216036559678044,5.216999260120389,5.218467798446829,5.220723654838487,5.224229287230191,5.2297799713350015,5.238827014750685,5.2542034324854985,5.2817958106265355,5.334304893837889,5.438598120438406,5.643683482456694,6.003805397598288,6.4992749635946945,7.00567414647122,7.445115914531593,7.850698593893753,8.277170947422448,8.747532709760618,9.25073222089727,9.754260066211122,10.220410547834614,10.620587926248538,10.942151150762527,11.187015552828775,5.214384193240266,5.214494647661299,5.214661523474817,5.214913704034835,5.215294960400781,5.215871788977664,5.216745636661429,5.218072376487552,5.220094358719882,5.223195680372043,5.22800348598332,5.2355871060903425,5.247877272210413,5.268597078869988,5.305376172022864,5.374369594681937,5.508566983216405,5.763259165388442,6.1845760317214005,6.7221508776309795,7.246455735659163,7.710711154443449,8.158898215625449,8.632480127879491,9.136001909756937,9.644811256129888,10.122861521563863,10.539432846335703,10.878570071630321,11.139539261121918,11.33174099196901,5.214466434574597,5.214618862291228,5.214849140369903,5.2151971054375315,5.215723103131987,5.216518749100388,5.217723661847746,5.219551993033297,5.22233578767042,5.226599062712777,5.233192057109374,5.243551952488861,5.2602452166483,5.28815733466572,5.337148423141961,5.427641261657209,5.599559634861105,5.912897771487522,6.398814622742075,6.97615868750831,7.522288705526697,8.01849864548188,8.508973185264527,9.017555026273737,9.532295171989276,10.021701809692738,10.454279297067401,10.811122456312127,11.088725745705897,11.294902771969774,11.442796247405749,5.214579931771153,5.2147902801200345,5.215108043234597,5.2155881607777115,5.216313820538403,5.217411227675694,5.219072495421529,5.221591758885836,5.225423773349371,5.231283052736813,5.240321398385079,5.254468206678355,5.277129219322019,5.314698230537871,5.379861272838346,5.49821584322221,5.717149724099274,6.098319601510768,6.650487724775789,7.265567967600044,7.837323533227469,8.367470989590732,8.89155428730946,9.415411510033794,9.916540524242649,10.364965620940023,10.739658513601222,11.034407242539817,11.255249495714324,11.41470363227793,11.526769331395082,5.214736561370616,5.2150268338510095,5.215465305900816,5.216127737601597,5.217128786229437,5.218642263997561,5.2209324244047695,5.22440305738396,5.229676532951501,5.2377261243908775,5.250109899034472,5.269412711538976,5.3001407421396864,5.350626138682809,5.4370833975728345,5.591216067636918,5.867814518395795,6.325317394384547,6.94314640392175,7.5935747478479785,8.191856589427253,8.750391672984017,9.291207252007442,9.806345447295682,10.27110229516521,10.663951429533586,10.976387426125115,11.212601534042514,11.384330500345946,11.50562768547548,11.589560461621495,5.21495271062105,5.215353264081919,5.215958273658773,5.2168721926469335,5.218253013383794,5.22034002596937,5.223496518407523,5.228276380388516,5.235530405307684,5.246582152017895,5.2635342822797675,5.289838216252907,5.331428343588329,5.399092389781787,5.513357393974084,5.712846309499792,6.058655447180535,6.59907988355616,7.279022590946141,7.960469116629166,8.580511585669099,9.153651391775986,9.688790351244755,10.171806171399343,10.58359515450544,10.914403372517086,11.166750437991027,11.351507762000868,11.48269275391689,11.57380767649163,11.636122314576742,5.215250988709982,5.215803699418826,5.21663845007693,5.217899219538849,5.219803635287093,5.2226809552407305,5.22703022027587,5.233610324895851,5.2435823197789055,5.258741604535109,5.281915542087942,5.3176891042391095,5.3738225254730425,5.464149337125214,5.614304041913635,5.870273527261803,6.296763423579053,6.923125543891701,7.657624379609103,8.361724798175374,8.991544579585462,9.559070964817066,10.0651817178517,10.497797092837748,10.84804606610992,11.117428902983217,11.316038845322971,11.457817436417841,11.556675265260873,11.624471679077281,11.67043623841047,5.215662585434565,5.216425210425729,5.217576845523803,5.21931588344533,5.2219419419709325,5.22590772393619,5.231897964354362,5.24095066649541,5.254646289258499,5.275411293450496,5.307027233509249,5.355538984907086,5.430989623719043,5.550874397899639,5.746597652240784,6.071197531906625,6.588102781942249,7.29784775843494,8.074100914136867,8.786868112144676,9.408017031909353,9.947353592207824,10.404967996805581,10.776598241951167,11.064248336540267,11.27767571018881,11.430829891172664,11.53804174574729,11.611776543456674,11.66186674080938,11.695608672152598,5.216230520677454,5.217282701353971,5.2188713288403745,5.22126964180175,5.224889837672346,5.230353667020712,5.238599122795842,5.2510425121597395,5.269827430821623,5.298215763619685,5.341226242544554,5.406741506772562,5.5075660783243325,5.665395650034832,5.917690622710799,6.322953540114464,6.935881736662408,7.718902042900378,8.518059345243886,9.220009164249442,9.81082867237204,10.301940576945402,10.698710748639625,11.006571476797841,11.236069489323091,11.401514319227559,11.517764383628485,11.597940089370573,11.652515672954662,11.68933089413069,11.714013120529454,5.217014118097829,5.21846563632872,5.220656716696668,5.223963425149444,5.228952261564745,5.236475841149421,5.247816130971884,5.264898966497504,5.290616827023461,5.329321432702535,5.387600010582493,5.475571380083875,5.609216951012954,5.81471191540874,6.13513292280269,6.631041716151449,7.3386128449172,8.176003496507631,8.973718015737344,9.642324651047522,10.182586743361526,10.611776053275676,10.943256968775255,11.19067010123115,11.369571844570011,11.495663830781385,11.582847879351236,11.64230776029148,11.682473256664155,11.709427782477317,11.727436274286266,5.218095158495484,5.220097274823983,5.223118590266441,5.227676205971207,5.234547578317036,5.244899406258381,5.260478128207238,5.283889759925161,5.3190090992760695,5.3715796264774,5.450112037541133,5.5673083533721766,5.742524348236635,6.006162784443506,6.405352081560073,6.99716756345793,7.788427395881023,8.652935464654385,9.42191414206742,10.035757967757059,10.510782716293305,10.872159392619283,11.140524605471231,11.33454130204194,11.471493139855134,11.566355630812184,11.631153492752254,11.674978242656104,11.7044148936675,11.724094332648662,11.737208844004577,5.219586332537593,5.222347327607615,5.226512159467404,5.23279092372135,5.242248479127076,5.25647654659466,5.277843624716699,5.309852292274609,5.3576406244854065,5.428674474891694,5.533706276997897,5.688181426262322,5.914571210359519,6.2464039965988984,6.731895100723916,7.417225846666606,8.270508881462455,9.129356443332366,9.843555296541481,10.386467950392568,10.789192744563007,11.083879520993516,11.295640104555176,11.444875287623487,11.54826472829707,11.618939441635217,11.666777041859142,11.698931038131285,11.720438552723108,11.73477695499038,11.744314380025635,5.2216428312279515,5.2254492525563565,5.23118791100576,5.239832152405429,5.252836474810988,5.27236344556041,5.301605075626713,5.345224468677239,5.4099378769046815,5.505243254950913,5.644298599613176,5.845049328749997,6.132071112068302,6.539839869854678,7.113430039354814,7.880043768358535,8.764411544414056,9.58420045422914,10.223213991761511,10.686732474012125,11.01742254461136,11.251448805500804,11.415177721441278,11.528273014495106,11.605508958912385,11.657781914795645,11.692923954323573,11.716436441002106,11.732115440354313,11.742546743416344,11.749475848564842,5.224478199265847,5.229723801323859,5.2376262753184495,5.24951644667958,5.267373452238617,5.294118493829426,5.334015892632478,5.39319176698633,5.480249604265888,5.60690750763518,5.788542635224703,6.04466740206347,6.3999581089762545,6.886713353236471,7.542192403108103,8.367795468537441,9.247311473804912,9.999525642584317,10.551455910978559,10.934934641264235,11.1993016611346,11.381262798253715,11.50587602844966,11.590623483828274,11.647871018483583,11.68632653404132,11.71204863537849,11.729200124617229,11.740611486336594,11.748192090661494,11.753222564478033,5.228385943881064,5.235610905042891,5.246484096482259,5.262818758652346,5.2872936662868195,5.323823165903068,5.378034793113637,5.4578275660938695,5.573910487409867,5.740113903875602,5.973223705966408,6.292426310608041,6.719554806913204,7.281428350709251,8.003775413557555,8.858489614677788,9.698199917623587,10.363335567094445,10.825257180279234,11.134170050257245,11.34100083842161,11.480170026429658,11.57388490982866,11.636858030454885,11.67904491696172,11.707224201086184,11.726001529445268,11.738490694374292,11.746786176718507,11.752290783696104,11.755940951599428,5.233768845744574,5.243712528344611,5.258656191020643,5.281058404306499,5.314518296712115,5.364222489963899,5.437471091780612,5.544182818600914,5.697146893079848,5.911645464451285,6.204146723061956,6.59060842493315,7.086788345269054,7.7119685399483355,8.47885466568357,9.32991719091906,10.101438441488568,10.670488519359289,11.046847096199267,11.290357545500342,11.449464734844273,11.554580428465494,11.624431207085122,11.670934676440766,11.701891304605283,11.722481193010697,11.736162374108275,11.745244867282654,11.751270083874253,11.755264934989873,11.757912532187957,5.24117844627324,5.254849651599054,5.27535551233475,5.306007227135073,5.35159114204804,5.418872613098611,5.517094547474615,5.658246936253779,5.856694582431035,6.127657667583754,6.48450335130154,6.936525476719057,7.491269368694165,8.161128901463776,8.946554209737766,9.763604888137774,10.448469694170639,10.921820699488421,11.221828656263515,11.410545069131361,11.531375727928266,11.610031381728511,11.661753034777336,11.695938563465612,11.71858437277308,11.73359757681469,11.74355179219967,11.750150696982072,11.754524245760011,11.757422226666147,11.759342096745907,5.251367731482841,5.270136881400797,5.298214940544146,5.340019853704624,5.4018262400007835,5.492265715835959,5.62264226789679,5.806660503592387,6.058978446423327,6.392176720045081,6.812980007284472,7.321276694810991,7.917054447176991,8.60951505696871,9.388233601641323,10.147344621165486,10.737498686609067,11.122287360245236,11.357354121645045,11.50172236543063,11.592609624382888,11.651063065198626,11.689177611480059,11.714225450917322,11.730754693274111,11.741685204716964,11.748920454953915,11.753711683997848,11.756884909576687,11.758986563309595,11.760378456338007,5.265360453311727,5.291077961273505,5.329411638454741,5.386179577262141,5.469443463410229,5.589874627973256,5.7606148182711205,5.996030879062452,6.308755479366306,6.70522844103297,7.182249689735898,7.7300056343770045,8.34530607534992,9.039269884033963,9.790255835164997,10.475724822513058,10.971830910612727,11.278984058728668,11.460769234719733,11.570154379898593,11.638042719552331,11.681267959283769,11.709258627748007,11.727568039288997,11.739613523349089,11.747563036909032,11.752818210744826,11.756295276212644,11.758596868883902,11.760120689890485,11.761129659584636,5.284540514877082,5.319683935519115,5.371809781816183,5.448440924718568,5.5596434175395935,5.718021038545218,5.937717703343762,6.231726611429432,6.607308014813071,7.061133782006219,7.578734357679888,8.144105448240568,8.75805204294002,9.43703306626747,10.144966988805908,10.749058770690123,11.157802350667854,11.399578702204291,11.538803543271765,11.621109271181076,11.671566778341717,11.703419035988096,11.723924923937096,11.737286407997729,11.746054486668703,11.75183158045824,11.755646612645563,11.758169105232557,11.759838105896966,11.760942795839778,11.761674113707645,5.310763788719512,5.3586116338113206,5.429107002940221,5.531728294919452,5.678537073364106,5.883431533560614,6.159808187955478,6.516169206040487,6.950613395760922,7.447824811226576,7.984275817697617,8.544864990505594,9.141555554707404,9.795134730899708,10.450085340974614,10.971565304880382,11.302979838021091,11.491312638751456,11.597202147142479,11.658831689470492,11.696204751666627,11.719619531685392,11.734616822948482,11.744356237842561,11.750733621214604,11.754929728909664,11.757698283879,11.759527824216441,11.76073790459078,11.76153865983958,11.76206869273301,5.319727385868319,5.371869680322013,5.4485171852859775,5.559723317963762,5.7180540593052305,5.937549699566135,6.2309311493243635,6.604760372903025,7.053957177588983,7.559832505318209,8.097269296090102,8.6529622502008,9.242923266157543,9.888247479583676,10.527113940281154,11.025821815360311,11.337506884079602,11.512802753058104,11.610754644663336,11.6675317365961,11.701863620155553,11.7233302879219,11.73706142340826,11.74597079319103,11.751801394179095,11.755636373794225,11.758166091966158,11.759837565684409,11.760943000225048,11.761674466175517,11.762158618054258,5.319727385868319,5.371869680322013,5.4485171852859775,5.559723317963762,5.7180540593052305,5.937549699566135,6.2309311493243635,6.604760372903025,7.053957177588983,7.559832505318209,8.097269296090102,8.6529622502008,9.242923266157543,9.888247479583676,10.527113940281154,11.025821815360311,11.337506884079602,11.512802753058104,11.610754644663336,11.6675317365961,11.701863620155553,11.7233302879219,11.73706142340826,11.74597079319103,11.751801394179095,11.755636373794225,11.758166091966158,11.759837565684409,11.760943000225048,11.761674466175517,11.762158618054258,5.319727385868319,5.371869680322013,5.4485171852859775,5.559723317963762,5.7180540593052305,5.937549699566135,6.2309311493243635,6.604760372903025,7.053957177588983,7.559832505318209,8.097269296090102,8.6529622502008,9.242923266157543,9.888247479583676,10.527113940281154,11.025821815360311,11.337506884079602,11.512802753058104,11.610754644663336,11.6675317365961,11.701863620155553,11.7233302879219,11.73706142340826,11.74597079319103,11.751801394179095,11.755636373794225,11.758166091966158,11.759837565684409,11.760943000225048,11.761674466175517,11.762158618054258,5.319727385868319,5.371869680322013,5.4485171852859775,5.559723317963762,5.7180540593052305,5.937549699566135,6.2309311493243635,6.604760372903025,7.053957177588983,7.559832505318209,8.097269296090102,8.6529622502008,9.242923266157543,9.888247479583676,10.527113940281154,11.025821815360311,11.337506884079602,11.512802753058104,11.610754644663336,11.6675317365961,11.701863620155553,11.7233302879219,11.73706142340826,11.74597079319103,11.751801394179095,11.755636373794225,11.758166091966158,11.759837565684409,11.760943000225048,11.761674466175517,11.762158618054258,5.319727385868319,5.371869680322013,5.4485171852859775,5.559723317963762,5.7180540593052305,5.937549699566135,6.2309311493243635,6.604760372903025,7.053957177588983,7.559832505318209,8.097269296090102,8.6529622502008,9.242923266157543,9.888247479583676,10.527113940281154,11.025821815360311,11.337506884079602,11.512802753058104,11.610754644663336,11.6675317365961,11.701863620155553,11.7233302879219,11.73706142340826,11.74597079319103,11.751801394179095,11.755636373794225,11.758166091966158,11.759837565684409,11.760943000225048,11.761674466175517,11.762158618054258,5.319727385868319,5.371869680322013,5.4485171852859775,5.559723317963762,5.7180540593052305,5.937549699566135,6.2309311493243635,6.604760372903025,7.053957177588983,7.559832505318209,8.097269296090102,8.6529622502008,9.242923266157543,9.888247479583676,10.527113940281154,11.025821815360311,11.337506884079602,11.512802753058104,11.610754644663336,11.6675317365961,11.701863620155553,11.7233302879219,11.73706142340826,11.74597079319103,11.751801394179095,11.755636373794225,11.758166091966158,11.759837565684409,11.760943000225048,11.761674466175517,11.762158618054258],\"type\":\"scatter3d\",\"scene\":\"scene2\"},{\"marker\":{\"color\":\"green\",\"size\":0.5},\"mode\":\"markers\",\"name\":\"Equilibrium surface\",\"visible\":true,\"x\":[0.0,2.3333333333333335,4.666666666666667,7.0,9.333333333333334,11.666666666666668,14.0,16.333333333333336,18.666666666666668,21.0,23.333333333333336,25.666666666666668,28.0,30.333333333333336,32.66666666666667,35.0,37.333333333333336,39.66666666666667,42.0,44.333333333333336,46.66666666666667,49.0,51.333333333333336,53.66666666666667,56.0,58.333333333333336,60.66666666666667,63.00000000000001,65.33333333333334,67.66666666666667,70.0,0.0,2.3333333333333335,4.666666666666667,7.0,9.333333333333334,11.666666666666668,14.0,16.333333333333336,18.666666666666668,21.0,23.333333333333336,25.666666666666668,28.0,30.333333333333336,32.66666666666667,35.0,37.333333333333336,39.66666666666667,42.0,44.333333333333336,46.66666666666667,49.0,51.333333333333336,53.66666666666667,56.0,58.333333333333336,60.66666666666667,63.00000000000001,65.33333333333334,67.66666666666667,70.0,0.0,2.3333333333333335,4.666666666666667,7.0,9.333333333333334,11.666666666666668,14.0,16.333333333333336,18.666666666666668,21.0,23.333333333333336,25.666666666666668,28.0,30.333333333333336,32.66666666666667,35.0,37.333333333333336,39.66666666666667,42.0,44.333333333333336,46.66666666666667,49.0,51.333333333333336,53.66666666666667,56.0,58.333333333333336,60.66666666666667,63.00000000000001,65.33333333333334,67.66666666666667,70.0,0.0,2.3333333333333335,4.666666666666667,7.0,9.333333333333334,11.666666666666668,14.0,16.333333333333336,18.666666666666668,21.0,23.333333333333336,25.666666666666668,28.0,30.333333333333336,32.66666666666667,35.0,37.333333333333336,39.66666666666667,42.0,44.333333333333336,46.66666666666667,49.0,51.333333333333336,53.66666666666667,56.0,58.333333333333336,60.66666666666667,63.00000000000001,65.33333333333334,67.66666666666667,70.0,0.0,2.3333333333333335,4.666666666666667,7.0,9.333333333333334,11.666666666666668,14.0,16.333333333333336,18.666666666666668,21.0,23.333333333333336,25.666666666666668,28.0,30.333333333333336,32.66666666666667,35.0,37.333333333333336,39.66666666666667,42.0,44.333333333333336,46.66666666666667,49.0,51.333333333333336,53.66666666666667,56.0,58.333333333333336,60.66666666666667,63.00000000000001,65.33333333333334,67.66666666666667,70.0,0.0,2.3333333333333335,4.666666666666667,7.0,9.333333333333334,11.666666666666668,14.0,16.333333333333336,18.666666666666668,21.0,23.333333333333336,25.666666666666668,28.0,30.333333333333336,32.66666666666667,35.0,37.333333333333336,39.66666666666667,42.0,44.333333333333336,46.66666666666667,49.0,51.333333333333336,53.66666666666667,56.0,58.333333333333336,60.66666666666667,63.00000000000001,65.33333333333334,67.66666666666667,70.0,0.0,2.3333333333333335,4.666666666666667,7.0,9.333333333333334,11.666666666666668,14.0,16.333333333333336,18.666666666666668,21.0,23.333333333333336,25.666666666666668,28.0,30.333333333333336,32.66666666666667,35.0,37.333333333333336,39.66666666666667,42.0,44.333333333333336,46.66666666666667,49.0,51.333333333333336,53.66666666666667,56.0,58.333333333333336,60.66666666666667,63.00000000000001,65.33333333333334,67.66666666666667,70.0,0.0,2.3333333333333335,4.666666666666667,7.0,9.333333333333334,11.666666666666668,14.0,16.333333333333336,18.666666666666668,21.0,23.333333333333336,25.666666666666668,28.0,30.333333333333336,32.66666666666667,35.0,37.333333333333336,39.66666666666667,42.0,44.333333333333336,46.66666666666667,49.0,51.333333333333336,53.66666666666667,56.0,58.333333333333336,60.66666666666667,63.00000000000001,65.33333333333334,67.66666666666667,70.0,0.0,2.3333333333333335,4.666666666666667,7.0,9.333333333333334,11.666666666666668,14.0,16.333333333333336,18.666666666666668,21.0,23.333333333333336,25.666666666666668,28.0,30.333333333333336,32.66666666666667,35.0,37.333333333333336,39.66666666666667,42.0,44.333333333333336,46.66666666666667,49.0,51.333333333333336,53.66666666666667,56.0,58.333333333333336,60.66666666666667,63.00000000000001,65.33333333333334,67.66666666666667,70.0,0.0,2.3333333333333335,4.666666666666667,7.0,9.333333333333334,11.666666666666668,14.0,16.333333333333336,18.666666666666668,21.0,23.333333333333336,25.666666666666668,28.0,30.333333333333336,32.66666666666667,35.0,37.333333333333336,39.66666666666667,42.0,44.333333333333336,46.66666666666667,49.0,51.333333333333336,53.66666666666667,56.0,58.333333333333336,60.66666666666667,63.00000000000001,65.33333333333334,67.66666666666667,70.0,0.0,2.3333333333333335,4.666666666666667,7.0,9.333333333333334,11.666666666666668,14.0,16.333333333333336,18.666666666666668,21.0,23.333333333333336,25.666666666666668,28.0,30.333333333333336,32.66666666666667,35.0,37.333333333333336,39.66666666666667,42.0,44.333333333333336,46.66666666666667,49.0,51.333333333333336,53.66666666666667,56.0,58.333333333333336,60.66666666666667,63.00000000000001,65.33333333333334,67.66666666666667,70.0,0.0,2.3333333333333335,4.666666666666667,7.0,9.333333333333334,11.666666666666668,14.0,16.333333333333336,18.666666666666668,21.0,23.333333333333336,25.666666666666668,28.0,30.333333333333336,32.66666666666667,35.0,37.333333333333336,39.66666666666667,42.0,44.333333333333336,46.66666666666667,49.0,51.333333333333336,53.66666666666667,56.0,58.333333333333336,60.66666666666667,63.00000000000001,65.33333333333334,67.66666666666667,70.0,0.0,2.3333333333333335,4.666666666666667,7.0,9.333333333333334,11.666666666666668,14.0,16.333333333333336,18.666666666666668,21.0,23.333333333333336,25.666666666666668,28.0,30.333333333333336,32.66666666666667,35.0,37.333333333333336,39.66666666666667,42.0,44.333333333333336,46.66666666666667,49.0,51.333333333333336,53.66666666666667,56.0,58.333333333333336,60.66666666666667,63.00000000000001,65.33333333333334,67.66666666666667,70.0,0.0,2.3333333333333335,4.666666666666667,7.0,9.333333333333334,11.666666666666668,14.0,16.333333333333336,18.666666666666668,21.0,23.333333333333336,25.666666666666668,28.0,30.333333333333336,32.66666666666667,35.0,37.333333333333336,39.66666666666667,42.0,44.333333333333336,46.66666666666667,49.0,51.333333333333336,53.66666666666667,56.0,58.333333333333336,60.66666666666667,63.00000000000001,65.33333333333334,67.66666666666667,70.0,0.0,2.3333333333333335,4.666666666666667,7.0,9.333333333333334,11.666666666666668,14.0,16.333333333333336,18.666666666666668,21.0,23.333333333333336,25.666666666666668,28.0,30.333333333333336,32.66666666666667,35.0,37.333333333333336,39.66666666666667,42.0,44.333333333333336,46.66666666666667,49.0,51.333333333333336,53.66666666666667,56.0,58.333333333333336,60.66666666666667,63.00000000000001,65.33333333333334,67.66666666666667,70.0,0.0,2.3333333333333335,4.666666666666667,7.0,9.333333333333334,11.666666666666668,14.0,16.333333333333336,18.666666666666668,21.0,23.333333333333336,25.666666666666668,28.0,30.333333333333336,32.66666666666667,35.0,37.333333333333336,39.66666666666667,42.0,44.333333333333336,46.66666666666667,49.0,51.333333333333336,53.66666666666667,56.0,58.333333333333336,60.66666666666667,63.00000000000001,65.33333333333334,67.66666666666667,70.0,0.0,2.3333333333333335,4.666666666666667,7.0,9.333333333333334,11.666666666666668,14.0,16.333333333333336,18.666666666666668,21.0,23.333333333333336,25.666666666666668,28.0,30.333333333333336,32.66666666666667,35.0,37.333333333333336,39.66666666666667,42.0,44.333333333333336,46.66666666666667,49.0,51.333333333333336,53.66666666666667,56.0,58.333333333333336,60.66666666666667,63.00000000000001,65.33333333333334,67.66666666666667,70.0,0.0,2.3333333333333335,4.666666666666667,7.0,9.333333333333334,11.666666666666668,14.0,16.333333333333336,18.666666666666668,21.0,23.333333333333336,25.666666666666668,28.0,30.333333333333336,32.66666666666667,35.0,37.333333333333336,39.66666666666667,42.0,44.333333333333336,46.66666666666667,49.0,51.333333333333336,53.66666666666667,56.0,58.333333333333336,60.66666666666667,63.00000000000001,65.33333333333334,67.66666666666667,70.0,0.0,2.3333333333333335,4.666666666666667,7.0,9.333333333333334,11.666666666666668,14.0,16.333333333333336,18.666666666666668,21.0,23.333333333333336,25.666666666666668,28.0,30.333333333333336,32.66666666666667,35.0,37.333333333333336,39.66666666666667,42.0,44.333333333333336,46.66666666666667,49.0,51.333333333333336,53.66666666666667,56.0,58.333333333333336,60.66666666666667,63.00000000000001,65.33333333333334,67.66666666666667,70.0,0.0,2.3333333333333335,4.666666666666667,7.0,9.333333333333334,11.666666666666668,14.0,16.333333333333336,18.666666666666668,21.0,23.333333333333336,25.666666666666668,28.0,30.333333333333336,32.66666666666667,35.0,37.333333333333336,39.66666666666667,42.0,44.333333333333336,46.66666666666667,49.0,51.333333333333336,53.66666666666667,56.0,58.333333333333336,60.66666666666667,63.00000000000001,65.33333333333334,67.66666666666667,70.0,0.0,2.3333333333333335,4.666666666666667,7.0,9.333333333333334,11.666666666666668,14.0,16.333333333333336,18.666666666666668,21.0,23.333333333333336,25.666666666666668,28.0,30.333333333333336,32.66666666666667,35.0,37.333333333333336,39.66666666666667,42.0,44.333333333333336,46.66666666666667,49.0,51.333333333333336,53.66666666666667,56.0,58.333333333333336,60.66666666666667,63.00000000000001,65.33333333333334,67.66666666666667,70.0,0.0,2.3333333333333335,4.666666666666667,7.0,9.333333333333334,11.666666666666668,14.0,16.333333333333336,18.666666666666668,21.0,23.333333333333336,25.666666666666668,28.0,30.333333333333336,32.66666666666667,35.0,37.333333333333336,39.66666666666667,42.0,44.333333333333336,46.66666666666667,49.0,51.333333333333336,53.66666666666667,56.0,58.333333333333336,60.66666666666667,63.00000000000001,65.33333333333334,67.66666666666667,70.0,0.0,2.3333333333333335,4.666666666666667,7.0,9.333333333333334,11.666666666666668,14.0,16.333333333333336,18.666666666666668,21.0,23.333333333333336,25.666666666666668,28.0,30.333333333333336,32.66666666666667,35.0,37.333333333333336,39.66666666666667,42.0,44.333333333333336,46.66666666666667,49.0,51.333333333333336,53.66666666666667,56.0,58.333333333333336,60.66666666666667,63.00000000000001,65.33333333333334,67.66666666666667,70.0,0.0,2.3333333333333335,4.666666666666667,7.0,9.333333333333334,11.666666666666668,14.0,16.333333333333336,18.666666666666668,21.0,23.333333333333336,25.666666666666668,28.0,30.333333333333336,32.66666666666667,35.0,37.333333333333336,39.66666666666667,42.0,44.333333333333336,46.66666666666667,49.0,51.333333333333336,53.66666666666667,56.0,58.333333333333336,60.66666666666667,63.00000000000001,65.33333333333334,67.66666666666667,70.0,0.0,2.3333333333333335,4.666666666666667,7.0,9.333333333333334,11.666666666666668,14.0,16.333333333333336,18.666666666666668,21.0,23.333333333333336,25.666666666666668,28.0,30.333333333333336,32.66666666666667,35.0,37.333333333333336,39.66666666666667,42.0,44.333333333333336,46.66666666666667,49.0,51.333333333333336,53.66666666666667,56.0,58.333333333333336,60.66666666666667,63.00000000000001,65.33333333333334,67.66666666666667,70.0,0.0,2.3333333333333335,4.666666666666667,7.0,9.333333333333334,11.666666666666668,14.0,16.333333333333336,18.666666666666668,21.0,23.333333333333336,25.666666666666668,28.0,30.333333333333336,32.66666666666667,35.0,37.333333333333336,39.66666666666667,42.0,44.333333333333336,46.66666666666667,49.0,51.333333333333336,53.66666666666667,56.0,58.333333333333336,60.66666666666667,63.00000000000001,65.33333333333334,67.66666666666667,70.0,0.0,2.3333333333333335,4.666666666666667,7.0,9.333333333333334,11.666666666666668,14.0,16.333333333333336,18.666666666666668,21.0,23.333333333333336,25.666666666666668,28.0,30.333333333333336,32.66666666666667,35.0,37.333333333333336,39.66666666666667,42.0,44.333333333333336,46.66666666666667,49.0,51.333333333333336,53.66666666666667,56.0,58.333333333333336,60.66666666666667,63.00000000000001,65.33333333333334,67.66666666666667,70.0,0.0,2.3333333333333335,4.666666666666667,7.0,9.333333333333334,11.666666666666668,14.0,16.333333333333336,18.666666666666668,21.0,23.333333333333336,25.666666666666668,28.0,30.333333333333336,32.66666666666667,35.0,37.333333333333336,39.66666666666667,42.0,44.333333333333336,46.66666666666667,49.0,51.333333333333336,53.66666666666667,56.0,58.333333333333336,60.66666666666667,63.00000000000001,65.33333333333334,67.66666666666667,70.0,0.0,2.3333333333333335,4.666666666666667,7.0,9.333333333333334,11.666666666666668,14.0,16.333333333333336,18.666666666666668,21.0,23.333333333333336,25.666666666666668,28.0,30.333333333333336,32.66666666666667,35.0,37.333333333333336,39.66666666666667,42.0,44.333333333333336,46.66666666666667,49.0,51.333333333333336,53.66666666666667,56.0,58.333333333333336,60.66666666666667,63.00000000000001,65.33333333333334,67.66666666666667,70.0,0.0,2.3333333333333335,4.666666666666667,7.0,9.333333333333334,11.666666666666668,14.0,16.333333333333336,18.666666666666668,21.0,23.333333333333336,25.666666666666668,28.0,30.333333333333336,32.66666666666667,35.0,37.333333333333336,39.66666666666667,42.0,44.333333333333336,46.66666666666667,49.0,51.333333333333336,53.66666666666667,56.0,58.333333333333336,60.66666666666667,63.00000000000001,65.33333333333334,67.66666666666667,70.0,0.0,2.3333333333333335,4.666666666666667,7.0,9.333333333333334,11.666666666666668,14.0,16.333333333333336,18.666666666666668,21.0,23.333333333333336,25.666666666666668,28.0,30.333333333333336,32.66666666666667,35.0,37.333333333333336,39.66666666666667,42.0,44.333333333333336,46.66666666666667,49.0,51.333333333333336,53.66666666666667,56.0,58.333333333333336,60.66666666666667,63.00000000000001,65.33333333333334,67.66666666666667,70.0],\"y\":[0.0,0.0,0.0,0.0,0.0,0.0,0.0,0.0,0.0,0.0,0.0,0.0,0.0,0.0,0.0,0.0,0.0,0.0,0.0,0.0,0.0,0.0,0.0,0.0,0.0,0.0,0.0,0.0,0.0,0.0,0.0,0.8333333333333334,0.8333333333333334,0.8333333333333334,0.8333333333333334,0.8333333333333334,0.8333333333333334,0.8333333333333334,0.8333333333333334,0.8333333333333334,0.8333333333333334,0.8333333333333334,0.8333333333333334,0.8333333333333334,0.8333333333333334,0.8333333333333334,0.8333333333333334,0.8333333333333334,0.8333333333333334,0.8333333333333334,0.8333333333333334,0.8333333333333334,0.8333333333333334,0.8333333333333334,0.8333333333333334,0.8333333333333334,0.8333333333333334,0.8333333333333334,0.8333333333333334,0.8333333333333334,0.8333333333333334,0.8333333333333334,1.6666666666666667,1.6666666666666667,1.6666666666666667,1.6666666666666667,1.6666666666666667,1.6666666666666667,1.6666666666666667,1.6666666666666667,1.6666666666666667,1.6666666666666667,1.6666666666666667,1.6666666666666667,1.6666666666666667,1.6666666666666667,1.6666666666666667,1.6666666666666667,1.6666666666666667,1.6666666666666667,1.6666666666666667,1.6666666666666667,1.6666666666666667,1.6666666666666667,1.6666666666666667,1.6666666666666667,1.6666666666666667,1.6666666666666667,1.6666666666666667,1.6666666666666667,1.6666666666666667,1.6666666666666667,1.6666666666666667,2.5,2.5,2.5,2.5,2.5,2.5,2.5,2.5,2.5,2.5,2.5,2.5,2.5,2.5,2.5,2.5,2.5,2.5,2.5,2.5,2.5,2.5,2.5,2.5,2.5,2.5,2.5,2.5,2.5,2.5,2.5,3.3333333333333335,3.3333333333333335,3.3333333333333335,3.3333333333333335,3.3333333333333335,3.3333333333333335,3.3333333333333335,3.3333333333333335,3.3333333333333335,3.3333333333333335,3.3333333333333335,3.3333333333333335,3.3333333333333335,3.3333333333333335,3.3333333333333335,3.3333333333333335,3.3333333333333335,3.3333333333333335,3.3333333333333335,3.3333333333333335,3.3333333333333335,3.3333333333333335,3.3333333333333335,3.3333333333333335,3.3333333333333335,3.3333333333333335,3.3333333333333335,3.3333333333333335,3.3333333333333335,3.3333333333333335,3.3333333333333335,4.166666666666667,4.166666666666667,4.166666666666667,4.166666666666667,4.166666666666667,4.166666666666667,4.166666666666667,4.166666666666667,4.166666666666667,4.166666666666667,4.166666666666667,4.166666666666667,4.166666666666667,4.166666666666667,4.166666666666667,4.166666666666667,4.166666666666667,4.166666666666667,4.166666666666667,4.166666666666667,4.166666666666667,4.166666666666667,4.166666666666667,4.166666666666667,4.166666666666667,4.166666666666667,4.166666666666667,4.166666666666667,4.166666666666667,4.166666666666667,4.166666666666667,5.0,5.0,5.0,5.0,5.0,5.0,5.0,5.0,5.0,5.0,5.0,5.0,5.0,5.0,5.0,5.0,5.0,5.0,5.0,5.0,5.0,5.0,5.0,5.0,5.0,5.0,5.0,5.0,5.0,5.0,5.0,5.833333333333334,5.833333333333334,5.833333333333334,5.833333333333334,5.833333333333334,5.833333333333334,5.833333333333334,5.833333333333334,5.833333333333334,5.833333333333334,5.833333333333334,5.833333333333334,5.833333333333334,5.833333333333334,5.833333333333334,5.833333333333334,5.833333333333334,5.833333333333334,5.833333333333334,5.833333333333334,5.833333333333334,5.833333333333334,5.833333333333334,5.833333333333334,5.833333333333334,5.833333333333334,5.833333333333334,5.833333333333334,5.833333333333334,5.833333333333334,5.833333333333334,6.666666666666667,6.666666666666667,6.666666666666667,6.666666666666667,6.666666666666667,6.666666666666667,6.666666666666667,6.666666666666667,6.666666666666667,6.666666666666667,6.666666666666667,6.666666666666667,6.666666666666667,6.666666666666667,6.666666666666667,6.666666666666667,6.666666666666667,6.666666666666667,6.666666666666667,6.666666666666667,6.666666666666667,6.666666666666667,6.666666666666667,6.666666666666667,6.666666666666667,6.666666666666667,6.666666666666667,6.666666666666667,6.666666666666667,6.666666666666667,6.666666666666667,7.5,7.5,7.5,7.5,7.5,7.5,7.5,7.5,7.5,7.5,7.5,7.5,7.5,7.5,7.5,7.5,7.5,7.5,7.5,7.5,7.5,7.5,7.5,7.5,7.5,7.5,7.5,7.5,7.5,7.5,7.5,8.333333333333334,8.333333333333334,8.333333333333334,8.333333333333334,8.333333333333334,8.333333333333334,8.333333333333334,8.333333333333334,8.333333333333334,8.333333333333334,8.333333333333334,8.333333333333334,8.333333333333334,8.333333333333334,8.333333333333334,8.333333333333334,8.333333333333334,8.333333333333334,8.333333333333334,8.333333333333334,8.333333333333334,8.333333333333334,8.333333333333334,8.333333333333334,8.333333333333334,8.333333333333334,8.333333333333334,8.333333333333334,8.333333333333334,8.333333333333334,8.333333333333334,9.166666666666668,9.166666666666668,9.166666666666668,9.166666666666668,9.166666666666668,9.166666666666668,9.166666666666668,9.166666666666668,9.166666666666668,9.166666666666668,9.166666666666668,9.166666666666668,9.166666666666668,9.166666666666668,9.166666666666668,9.166666666666668,9.166666666666668,9.166666666666668,9.166666666666668,9.166666666666668,9.166666666666668,9.166666666666668,9.166666666666668,9.166666666666668,9.166666666666668,9.166666666666668,9.166666666666668,9.166666666666668,9.166666666666668,9.166666666666668,9.166666666666668,10.0,10.0,10.0,10.0,10.0,10.0,10.0,10.0,10.0,10.0,10.0,10.0,10.0,10.0,10.0,10.0,10.0,10.0,10.0,10.0,10.0,10.0,10.0,10.0,10.0,10.0,10.0,10.0,10.0,10.0,10.0,10.833333333333334,10.833333333333334,10.833333333333334,10.833333333333334,10.833333333333334,10.833333333333334,10.833333333333334,10.833333333333334,10.833333333333334,10.833333333333334,10.833333333333334,10.833333333333334,10.833333333333334,10.833333333333334,10.833333333333334,10.833333333333334,10.833333333333334,10.833333333333334,10.833333333333334,10.833333333333334,10.833333333333334,10.833333333333334,10.833333333333334,10.833333333333334,10.833333333333334,10.833333333333334,10.833333333333334,10.833333333333334,10.833333333333334,10.833333333333334,10.833333333333334,11.666666666666668,11.666666666666668,11.666666666666668,11.666666666666668,11.666666666666668,11.666666666666668,11.666666666666668,11.666666666666668,11.666666666666668,11.666666666666668,11.666666666666668,11.666666666666668,11.666666666666668,11.666666666666668,11.666666666666668,11.666666666666668,11.666666666666668,11.666666666666668,11.666666666666668,11.666666666666668,11.666666666666668,11.666666666666668,11.666666666666668,11.666666666666668,11.666666666666668,11.666666666666668,11.666666666666668,11.666666666666668,11.666666666666668,11.666666666666668,11.666666666666668,12.5,12.5,12.5,12.5,12.5,12.5,12.5,12.5,12.5,12.5,12.5,12.5,12.5,12.5,12.5,12.5,12.5,12.5,12.5,12.5,12.5,12.5,12.5,12.5,12.5,12.5,12.5,12.5,12.5,12.5,12.5,13.333333333333334,13.333333333333334,13.333333333333334,13.333333333333334,13.333333333333334,13.333333333333334,13.333333333333334,13.333333333333334,13.333333333333334,13.333333333333334,13.333333333333334,13.333333333333334,13.333333333333334,13.333333333333334,13.333333333333334,13.333333333333334,13.333333333333334,13.333333333333334,13.333333333333334,13.333333333333334,13.333333333333334,13.333333333333334,13.333333333333334,13.333333333333334,13.333333333333334,13.333333333333334,13.333333333333334,13.333333333333334,13.333333333333334,13.333333333333334,13.333333333333334,14.166666666666668,14.166666666666668,14.166666666666668,14.166666666666668,14.166666666666668,14.166666666666668,14.166666666666668,14.166666666666668,14.166666666666668,14.166666666666668,14.166666666666668,14.166666666666668,14.166666666666668,14.166666666666668,14.166666666666668,14.166666666666668,14.166666666666668,14.166666666666668,14.166666666666668,14.166666666666668,14.166666666666668,14.166666666666668,14.166666666666668,14.166666666666668,14.166666666666668,14.166666666666668,14.166666666666668,14.166666666666668,14.166666666666668,14.166666666666668,14.166666666666668,15.0,15.0,15.0,15.0,15.0,15.0,15.0,15.0,15.0,15.0,15.0,15.0,15.0,15.0,15.0,15.0,15.0,15.0,15.0,15.0,15.0,15.0,15.0,15.0,15.0,15.0,15.0,15.0,15.0,15.0,15.0,15.833333333333334,15.833333333333334,15.833333333333334,15.833333333333334,15.833333333333334,15.833333333333334,15.833333333333334,15.833333333333334,15.833333333333334,15.833333333333334,15.833333333333334,15.833333333333334,15.833333333333334,15.833333333333334,15.833333333333334,15.833333333333334,15.833333333333334,15.833333333333334,15.833333333333334,15.833333333333334,15.833333333333334,15.833333333333334,15.833333333333334,15.833333333333334,15.833333333333334,15.833333333333334,15.833333333333334,15.833333333333334,15.833333333333334,15.833333333333334,15.833333333333334,16.666666666666668,16.666666666666668,16.666666666666668,16.666666666666668,16.666666666666668,16.666666666666668,16.666666666666668,16.666666666666668,16.666666666666668,16.666666666666668,16.666666666666668,16.666666666666668,16.666666666666668,16.666666666666668,16.666666666666668,16.666666666666668,16.666666666666668,16.666666666666668,16.666666666666668,16.666666666666668,16.666666666666668,16.666666666666668,16.666666666666668,16.666666666666668,16.666666666666668,16.666666666666668,16.666666666666668,16.666666666666668,16.666666666666668,16.666666666666668,16.666666666666668,17.5,17.5,17.5,17.5,17.5,17.5,17.5,17.5,17.5,17.5,17.5,17.5,17.5,17.5,17.5,17.5,17.5,17.5,17.5,17.5,17.5,17.5,17.5,17.5,17.5,17.5,17.5,17.5,17.5,17.5,17.5,18.333333333333336,18.333333333333336,18.333333333333336,18.333333333333336,18.333333333333336,18.333333333333336,18.333333333333336,18.333333333333336,18.333333333333336,18.333333333333336,18.333333333333336,18.333333333333336,18.333333333333336,18.333333333333336,18.333333333333336,18.333333333333336,18.333333333333336,18.333333333333336,18.333333333333336,18.333333333333336,18.333333333333336,18.333333333333336,18.333333333333336,18.333333333333336,18.333333333333336,18.333333333333336,18.333333333333336,18.333333333333336,18.333333333333336,18.333333333333336,18.333333333333336,19.166666666666668,19.166666666666668,19.166666666666668,19.166666666666668,19.166666666666668,19.166666666666668,19.166666666666668,19.166666666666668,19.166666666666668,19.166666666666668,19.166666666666668,19.166666666666668,19.166666666666668,19.166666666666668,19.166666666666668,19.166666666666668,19.166666666666668,19.166666666666668,19.166666666666668,19.166666666666668,19.166666666666668,19.166666666666668,19.166666666666668,19.166666666666668,19.166666666666668,19.166666666666668,19.166666666666668,19.166666666666668,19.166666666666668,19.166666666666668,19.166666666666668,20.0,20.0,20.0,20.0,20.0,20.0,20.0,20.0,20.0,20.0,20.0,20.0,20.0,20.0,20.0,20.0,20.0,20.0,20.0,20.0,20.0,20.0,20.0,20.0,20.0,20.0,20.0,20.0,20.0,20.0,20.0,20.833333333333336,20.833333333333336,20.833333333333336,20.833333333333336,20.833333333333336,20.833333333333336,20.833333333333336,20.833333333333336,20.833333333333336,20.833333333333336,20.833333333333336,20.833333333333336,20.833333333333336,20.833333333333336,20.833333333333336,20.833333333333336,20.833333333333336,20.833333333333336,20.833333333333336,20.833333333333336,20.833333333333336,20.833333333333336,20.833333333333336,20.833333333333336,20.833333333333336,20.833333333333336,20.833333333333336,20.833333333333336,20.833333333333336,20.833333333333336,20.833333333333336,21.666666666666668,21.666666666666668,21.666666666666668,21.666666666666668,21.666666666666668,21.666666666666668,21.666666666666668,21.666666666666668,21.666666666666668,21.666666666666668,21.666666666666668,21.666666666666668,21.666666666666668,21.666666666666668,21.666666666666668,21.666666666666668,21.666666666666668,21.666666666666668,21.666666666666668,21.666666666666668,21.666666666666668,21.666666666666668,21.666666666666668,21.666666666666668,21.666666666666668,21.666666666666668,21.666666666666668,21.666666666666668,21.666666666666668,21.666666666666668,21.666666666666668,22.5,22.5,22.5,22.5,22.5,22.5,22.5,22.5,22.5,22.5,22.5,22.5,22.5,22.5,22.5,22.5,22.5,22.5,22.5,22.5,22.5,22.5,22.5,22.5,22.5,22.5,22.5,22.5,22.5,22.5,22.5,23.333333333333336,23.333333333333336,23.333333333333336,23.333333333333336,23.333333333333336,23.333333333333336,23.333333333333336,23.333333333333336,23.333333333333336,23.333333333333336,23.333333333333336,23.333333333333336,23.333333333333336,23.333333333333336,23.333333333333336,23.333333333333336,23.333333333333336,23.333333333333336,23.333333333333336,23.333333333333336,23.333333333333336,23.333333333333336,23.333333333333336,23.333333333333336,23.333333333333336,23.333333333333336,23.333333333333336,23.333333333333336,23.333333333333336,23.333333333333336,23.333333333333336,24.166666666666668,24.166666666666668,24.166666666666668,24.166666666666668,24.166666666666668,24.166666666666668,24.166666666666668,24.166666666666668,24.166666666666668,24.166666666666668,24.166666666666668,24.166666666666668,24.166666666666668,24.166666666666668,24.166666666666668,24.166666666666668,24.166666666666668,24.166666666666668,24.166666666666668,24.166666666666668,24.166666666666668,24.166666666666668,24.166666666666668,24.166666666666668,24.166666666666668,24.166666666666668,24.166666666666668,24.166666666666668,24.166666666666668,24.166666666666668,24.166666666666668,25.0,25.0,25.0,25.0,25.0,25.0,25.0,25.0,25.0,25.0,25.0,25.0,25.0,25.0,25.0,25.0,25.0,25.0,25.0,25.0,25.0,25.0,25.0,25.0,25.0,25.0,25.0,25.0,25.0,25.0,25.0],\"z\":[0.9920310618684957,0.9920310618684957,0.9920310618684957,0.9920310618684957,0.9920310618684957,0.9920310618684957,0.9920310618684957,0.9920310618684957,0.9920310618684957,0.9920310618684957,0.9920310618684957,0.9920310618684957,0.9920310618684957,0.9920310618684957,0.9920310618684957,0.9920310618684957,0.9920310618684957,0.9920310618684957,0.9920310618684957,0.9920310618684957,0.9920310618684957,0.9920310618684957,0.9920310618684957,0.9920310618684957,0.9920310618684957,0.9920310618684957,0.9920310618684957,0.9920310618684957,0.9920310618684957,0.9920310618684957,0.9920310618684957,0.9920310618684957,0.9920310618684957,0.9920310618684957,0.9920310618684957,0.9920310618684957,0.9920310618684957,0.9920310618684957,0.9920310618684957,0.9920310618684957,0.9920310618684957,0.9920310618684957,0.9920310618684957,0.9920310618684957,0.9920310618684957,0.9920310618684957,0.9920310618684957,0.9920310618684957,0.9920310618684957,0.9920310618684957,0.9920310618684957,0.9920310618684957,0.9920310618684957,0.9920310618684957,0.9920310618684957,0.9920310618684957,0.9920310618684957,0.9920310618684957,0.9920310618684957,0.9920310618684957,0.9920310618684957,0.9920310618684957,0.9920310618684957,0.9920310618684957,0.9920310618684957,0.9920310618684957,0.9920310618684957,0.9920310618684957,0.9920310618684957,0.9920310618684957,0.9920310618684957,0.9920310618684957,0.9920310618684957,0.9920310618684957,0.9920310618684957,0.9920310618684957,0.9920310618684957,0.9920310618684957,0.9920310618684957,0.9920310618684957,0.9920310618684957,0.9920310618684957,0.9920310618684957,0.9920310618684957,0.9920310618684957,0.9920310618684957,0.9920310618684957,0.9920310618684957,0.9920310618684957,0.9920310618684957,0.9920310618684957,0.9920310618684957,0.9920310618684957,0.9920310618684957,0.9920310618684957,0.9920310618684957,0.9920310618684957,0.9920310618684957,0.9920310618684957,0.9920310618684957,0.9920310618684957,0.9920310618684957,0.9920310618684957,0.9920310618684957,0.9920310618684957,0.9920310618684957,0.9920310618684957,0.9920310618684957,0.9920310618684957,0.9920310618684957,0.9920310618684957,0.9920310618684957,0.9920310618684957,0.9920310618684957,0.9920310618684957,0.9920310618684957,0.9920310618684957,0.9920310618684957,0.9920310618684957,0.9920310618684957,0.9920310618684957,0.9920310618684957,0.9920310618684957,0.9920310618684957,0.9920310618684957,0.9920310618684957,0.9920310618684957,0.9920310618684957,0.9920310618684957,0.9920310618684957,0.9920310618684957,0.9920310618684957,0.9920310618684957,0.9920310618684957,0.9920310618684957,0.9920310618684957,0.9920310618684957,0.9920310618684957,0.9920310618684957,0.9920310618684957,0.9920310618684957,0.9920310618684957,0.9920310618684957,0.9920310618684957,0.9920310618684957,0.9920310618684957,0.9920310618684957,0.9920310618684957,0.9920310618684957,0.9920310618684957,0.9920310618684957,0.9920310618684957,0.9920310618684957,0.9920310618684957,0.9920310618684957,0.9920310618684957,0.9920310618684957,0.9920310618684957,0.9920310618684957,0.9920310618684957,0.9920310618684957,0.9920310618684957,0.9920310618684957,0.9920310618684957,0.9920310618684957,0.9920310618684957,0.9920310618684957,0.9920310618684957,0.9920310618684957,0.9920310618684957,0.9920310618684957,0.9920310618684957,0.9920310618684957,0.9920310618684957,0.9920310618684957,0.9920310618684957,0.9920310618684957,0.9920310618684957,0.9920310618684957,0.9920310618684957,0.9920310618684957,0.9920310618684957,0.9920310618684957,0.9920310618684957,0.9920310618684957,0.9920310618684957,0.9920310618684957,0.9920310618684957,0.9920310618684957,0.9920310618684957,0.9920310618684957,0.9920310618684957,0.9920310618684957,0.9920310618684957,0.9920310618684957,0.9920310618684957,0.9920310618684957,0.9920310618684957,0.9920310618684957,0.9920310618684957,0.9920310618684957,0.9920310618684957,0.9920310618684957,0.9920310618684957,0.9920310618684957,0.9920310618684957,0.9920310618684957,0.9920310618684957,0.9920310618684957,0.9920310618684957,0.9920310618684957,0.9920310618684957,0.9920310618684957,0.9920310618684957,0.9920310618684957,0.9920310618684957,0.9920310618684957,0.9920310618684957,0.9920310618684957,0.9920310618684957,0.9920310618684957,0.9920310618684957,0.9920310618684957,0.9920310618684957,0.9920310618684957,0.9920310618684957,0.9920310618684957,0.9920310618684957,0.9920310618684957,0.9920310618684957,0.9920310618684957,0.9920310618684957,0.9920310618684957,0.9920310618684957,0.9920310618684957,0.9920310618684957,0.9920310618684957,0.9920310618684957,0.9920310618684957,0.9920310618684957,0.9920310618684957,0.9920310618684957,0.9920310618684957,0.9920310618684957,0.9920310618684957,0.9920310618684957,0.9920310618684957,0.9920310618684957,0.9920310618684957,0.9920310618684957,0.9920310618684957,0.9920310618684957,0.9920310618684957,0.9920310618684957,0.9920310618684957,0.9920310618684957,0.9920310618684957,0.9920310618684957,0.9920310618684957,0.9920310618684957,0.9920310618684957,0.9920310618684957,0.9920310618684957,0.9920310618684957,0.9920310618684957,0.9920310618684957,0.9920310618684957,0.9920310618684957,0.9920310618684957,0.9920310618684957,0.9920310618684957,0.9920310618684957,0.9920310618684957,0.9920310618684957,0.9920310618684957,0.9920310618684957,0.9920310618684957,0.9920310618684957,0.9920310618684957,0.9920310618684957,0.9920310618684957,0.9920310618684957,0.9920310618684957,0.9920310618684957,0.9920310618684957,0.9920310618684957,0.9920310618684957,0.9920310618684957,0.9920310618684957,0.9920310618684957,0.9920310618684957,0.9920310618684957,0.9920310618684957,0.9920310618684957,0.9920310618684957,0.9920310618684957,0.9920310618684957,0.9920310618684957,0.9920310618684957,0.9920310618684957,0.9920310618684957,0.9920310618684957,0.9920310618684957,0.9920310618684957,0.9920310618684957,0.9920310618684957,0.9920310618684957,0.9920310618684957,0.9920310618684957,0.9920310618684957,0.9920310618684957,0.9920310618684957,0.9920310618684957,0.9920310618684957,0.9920310618684957,0.9920310618684957,0.9920310618684957,0.9920310618684957,0.9920310618684957,0.9920310618684957,0.9920310618684957,0.9920310618684957,0.9920310618684957,0.9920310618684957,0.9920310618684957,0.9920310618684957,0.9920310618684957,0.9920310618684957,0.9920310618684957,0.9920310618684957,0.9920310618684957,0.9920310618684957,0.9920310618684957,0.9920310618684957,0.9920310618684957,0.9920310618684957,0.9920310618684957,0.9920310618684957,0.9920310618684957,0.9920310618684957,0.9920310618684957,0.9920310618684957,0.9920310618684957,0.9920310618684957,0.9920310618684957,0.9920310618684957,0.9920310618684957,0.9920310618684957,0.9920310618684957,0.9920310618684957,0.9920310618684957,0.9920310618684957,0.9920310618684957,0.9920310618684957,0.9920310618684957,0.9920310618684957,0.9920310618684957,0.9920310618684957,0.9920310618684957,0.9920310618684957,0.9920310618684957,0.9920310618684957,0.9920310618684957,0.9920310618684957,0.9920310618684957,0.9920310618684957,0.9920310618684957,0.9920310618684957,0.9920310618684957,0.9920310618684957,0.9920310618684957,0.9920310618684957,0.9920310618684957,0.9920310618684957,0.9920310618684957,0.9920310618684957,0.9920310618684957,0.9920310618684957,0.9920310618684957,0.9920310618684957,0.9920310618684957,0.9920310618684957,0.9920310618684957,0.9920310618684957,0.9920310618684957,0.9920310618684957,0.9920310618684957,0.9920310618684957,0.9920310618684957,0.9920310618684957,0.9920310618684957,0.9920310618684957,0.9920310618684957,0.9920310618684957,0.9920310618684957,0.9920310618684957,0.9920310618684957,0.9920310618684957,0.9920310618684957,0.9920310618684957,0.9920310618684957,0.9920310618684957,0.9920310618684957,0.9920310618684957,0.9920310618684957,0.9920310618684957,0.9920310618684957,0.9920310618684957,0.9920310618684957,0.9920310618684957,0.9920310618684957,0.9920310618684957,0.9920310618684957,0.9920310618684957,0.9920310618684957,0.9920310618684957,0.9920310618684957,0.9920310618684957,0.9920310618684957,0.9920310618684957,0.9920310618684957,0.9920310618684957,0.9920310618684957,0.9920310618684957,0.9920310618684957,0.9920310618684957,0.9920310618684957,0.9920310618684957,0.9920310618684957,0.9920310618684957,0.9920310618684957,0.9920310618684957,0.9920310618684957,0.9920310618684957,0.9920310618684957,0.9920310618684957,0.9920310618684957,0.9920310618684957,0.9920310618684957,0.9920310618684957,0.9920310618684957,0.9920310618684957,0.9920310618684957,0.9920310618684957,0.9920310618684957,0.9920310618684957,0.9920310618684957,0.9920310618684957,0.9920310618684957,0.9920310618684957,0.9920310618684957,0.9920310618684957,0.9920310618684957,0.9920310618684957,0.9920310618684957,0.9920310618684957,0.9920310618684957,0.9920310618684957,0.9920310618684957,0.9920310618684957,0.9920310618684957,0.9920310618684957,0.9920310618684957,0.9920310618684957,0.9920310618684957,0.9920310618684957,0.9920310618684957,0.9920310618684957,0.9920310618684957,0.9920310618684957,0.9920310618684957,0.9920310618684957,0.9920310618684957,0.9920310618684957,0.9920310618684957,0.9920310618684957,0.9920310618684957,0.9920310618684957,0.9920310618684957,0.9920310618684957,0.9920310618684957,0.9920310618684957,0.9920310618684957,0.9920310618684957,0.9920310618684957,0.9920310618684957,0.9920310618684957,0.9920310618684957,0.9920310618684957,0.9920310618684957,0.9920310618684957,0.9920310618684957,0.9920310618684957,0.9920310618684957,0.9920310618684957,0.9920310618684957,0.9920310618684957,0.9920310618684957,0.9920310618684957,0.9920310618684957,0.9920310618684957,0.9920310618684957,0.9920310618684957,0.9920310618684957,0.9920310618684957,0.9920310618684957,0.9920310618684957,0.9920310618684957,0.9920310618684957,0.9920310618684957,0.9920310618684957,0.9920310618684957,0.9920310618684957,0.9920310618684957,0.9920310618684957,0.9920310618684957,0.9920310618684957,0.9920310618684957,0.9920310618684957,0.9920310618684957,0.9920310618684957,0.9920310618684957,0.9920310618684957,0.9920310618684957,0.9920310618684957,0.9920310618684957,0.9920310618684957,0.9920310618684957,0.9920310618684957,0.9920310618684957,0.9920310618684957,0.9920310618684957,0.9920310618684957,0.9920310618684957,0.9920310618684957,0.9920310618684957,0.9920310618684957,0.9920310618684957,0.9920310618684957,0.9920310618684957,0.9920310618684957,0.9920310618684957,0.9920310618684957,0.9920310618684957,0.9920310618684957,0.9920310618684957,0.9920310618684957,0.9920310618684957,0.9920310618684957,0.9920310618684957,0.9920310618684957,0.9920310618684957,0.9920310618684957,0.9920310618684957,0.9920310618684957,0.9920310618684957,0.9920310618684957,0.9920310618684957,0.9920310618684957,0.9920310618684957,0.9920310618684957,0.9920310618684957,0.9920310618684957,0.9920310618684957,0.9920310618684957,0.9920310618684957,0.9920310618684957,0.9920310618684957,0.9920310618684957,0.9920310618684957,0.9920310618684957,0.9920310618684957,0.9920310618684957,0.9920310618684957,0.9920310618684957,0.9920310618684957,0.9920310618684957,0.9920310618684957,0.9920310618684957,0.9920310618684957,0.9920310618684957,0.9920310618684957,0.9920310618684957,0.9920310618684957,0.9920310618684957,0.9920310618684957,0.9920310618684957,0.9920310618684957,0.9920310618684957,0.9920310618684957,0.9920310618684957,0.9920310618684957,0.9920310618684957,0.9920310618684957,0.9920310618684957,0.9920310618684957,0.9920310618684957,0.9920310618684957,0.9920310618684957,0.9920310618684957,0.9920310618684957,0.9920310618684957,0.9920310618684957,0.9920310618684957,0.9920310618684957,0.9920310618684957,0.9920310618684957,0.9920310618684957,0.9920310618684957,0.9920310618684957,0.9920310618684957,0.9920310618684957,0.9920310618684957,0.9920310618684957,0.9920310618684957,0.9920310618684957,0.9920310618684957,0.9920310618684957,0.9920310618684957,0.9920310618684957,0.9920310618684957,0.9920310618684957,0.9920310618684957,0.9920310618684957,0.9920310618684957,0.9920310618684957,0.9920310618684957,0.9920310618684957,0.9920310618684957,0.9920310618684957,0.9920310618684957,0.9920310618684957,0.9920310618684957,0.9920310618684957,0.9920310618684957,0.9920310618684957,0.9920310618684957,0.9920310618684957,0.9920310618684957,0.9920310618684957,0.9920310618684957,0.9920310618684957,0.9920310618684957,0.9920310618684957,0.9920310618684957,0.9920310618684957,0.9920310618684957,0.9920310618684957,0.9920310618684957,0.9920310618684957,0.9920310618684957,0.9920310618684957,0.9920310618684957,0.9920310618684957,0.9920310618684957,0.9920310618684957,0.9920310618684957,0.9920310618684957,0.9920310618684957,0.9920310618684957,0.9920310618684957,0.9920310618684957,0.9920310618684957,0.9920310618684957,0.9920310618684957,0.9920310618684957,0.9920310618684957,0.9920310618684957,0.9920310618684957,0.9920310618684957,0.9920310618684957,0.9920310618684957,0.9920310618684957,0.9920310618684957,0.9920310618684957,0.9920310618684957,0.9920310618684957,0.9920310618684957,0.9920310618684957,0.9920310618684957,0.9920310618684957,0.9920310618684957,0.9920310618684957,0.9920310618684957,0.9920310618684957,0.9920310618684957,0.9920310618684957,0.9920310618684957,0.9920310618684957,0.9920310618684957,0.9920310618684957,0.9920310618684957,0.9920310618684957,0.9920310618684957,0.9920310618684957,0.9920310618684957,0.9920310618684957,0.9920310618684957,0.9920310618684957,0.9920310618684957,0.9920310618684957,0.9920310618684957,0.9920310618684957,0.9920310618684957,0.9920310618684957,0.9920310618684957,0.9920310618684957,0.9920310618684957,0.9920310618684957,0.9920310618684957,0.9920310618684957,0.9920310618684957,0.9920310618684957,0.9920310618684957,0.9920310618684957,0.9920310618684957,0.9920310618684957,0.9920310618684957,0.9920310618684957,0.9920310618684957,0.9920310618684957,0.9920310618684957,0.9920310618684957,0.9920310618684957,0.9920310618684957,0.9920310618684957,0.9920310618684957,0.9920310618684957,0.9920310618684957,0.9920310618684957,0.9920310618684957,0.9920310618684957,0.9920310618684957,0.9920310618684957,0.9920310618684957,0.9920310618684957,0.9920310618684957,0.9920310618684957,0.9920310618684957,0.9920310618684957,0.9920310618684957,0.9920310618684957,0.9920310618684957,0.9920310618684957,0.9920310618684957,0.9920310618684957,0.9920310618684957,0.9920310618684957,0.9920310618684957,0.9920310618684957,0.9920310618684957,0.9920310618684957,0.9920310618684957,0.9920310618684957,0.9920310618684957,0.9920310618684957,0.9920310618684957,0.9920310618684957,0.9920310618684957,0.9920310618684957,0.9920310618684957,0.9920310618684957,0.9920310618684957,0.9920310618684957,0.9920310618684957,0.9920310618684957,0.9920310618684957,0.9920310618684957,0.9920310618684957,0.9920310618684957,0.9920310618684957,0.9920310618684957,0.9920310618684957,0.9920310618684957,0.9920310618684957,0.9920310618684957,0.9920310618684957,0.9920310618684957,0.9920310618684957,0.9920310618684957,0.9920310618684957,0.9920310618684957,0.9920310618684957,0.9920310618684957,0.9920310618684957,0.9920310618684957,0.9920310618684957,0.9920310618684957,0.9920310618684957,0.9920310618684957,0.9920310618684957,0.9920310618684957,0.9920310618684957,0.9920310618684957,0.9920310618684957,0.9920310618684957,0.9920310618684957,0.9920310618684957,0.9920310618684957,0.9920310618684957,0.9920310618684957,0.9920310618684957,0.9920310618684957,0.9920310618684957,0.9920310618684957,0.9920310618684957,0.9920310618684957,0.9920310618684957,0.9920310618684957,0.9920310618684957,0.9920310618684957,0.9920310618684957,0.9920310618684957,0.9920310618684957,0.9920310618684957,0.9920310618684957,0.9920310618684957,0.9920310618684957,0.9920310618684957,0.9920310618684957,0.9920310618684957,0.9920310618684957,0.9920310618684957,0.9920310618684957,0.9920310618684957,0.9920310618684957,0.9920310618684957,0.9920310618684957,0.9920310618684957,0.9920310618684957,0.9920310618684957,0.9920310618684957,0.9920310618684957,0.9920310618684957,0.9920310618684957,0.9920310618684957,0.9920310618684957,0.9920310618684957,0.9920310618684957,0.9920310618684957,0.9920310618684957,0.9920310618684957,0.9920310618684957,0.9920310618684957,0.9920310618684957,0.9920310618684957,0.9920310618684957,0.9920310618684957,0.9920310618684957,0.9920310618684957,0.9920310618684957,0.9920310618684957,0.9920310618684957,0.9920310618684957,0.9920310618684957,0.9920310618684957,0.9920310618684957,0.9920310618684957,0.9920310618684957,0.9920310618684957,0.9920310618684957,0.9920310618684957,0.9920310618684957,0.9920310618684957,0.9920310618684957,0.9920310618684957,0.9920310618684957,0.9920310618684957,0.9920310618684957,0.9920310618684957,0.9920310618684957,0.9920310618684957,0.9920310618684957,0.9920310618684957,0.9920310618684957,0.9920310618684957,0.9920310618684957,0.9920310618684957,0.9920310618684957,0.9920310618684957,0.9920310618684957,0.9920310618684957,0.9920310618684957,0.9920310618684957,0.9920310618684957,0.9920310618684957,0.9920310618684957,0.9920310618684957,0.9920310618684957,0.9920310618684957,0.9920310618684957,0.9920310618684957,0.9920310618684957,0.9920310618684957,0.9920310618684957,0.9920310618684957,0.9920310618684957,0.9920310618684957,0.9920310618684957,0.9920310618684957,0.9920310618684957,0.9920310618684957,0.9920310618684957,0.9920310618684957,0.9920310618684957,0.9920310618684957,0.9920310618684957,0.9920310618684957,0.9920310618684957,0.9920310618684957,0.9920310618684957,0.9920310618684957,0.9920310618684957,0.9920310618684957,0.9920310618684957,0.9920310618684957,0.9920310618684957,0.9920310618684957,0.9920310618684957,0.9920310618684957,0.9920310618684957,0.9920310618684957,0.9920310618684957,0.9920310618684957,0.9920310618684957,0.9920310618684957,0.9920310618684957,0.9920310618684957,0.9920310618684957,0.9920310618684957,0.9920310618684957,0.9920310618684957,0.9920310618684957,0.9920310618684957,0.9920310618684957,0.9920310618684957,0.9920310618684957,0.9920310618684957,0.9920310618684957,0.9920310618684957,0.9920310618684957,0.9920310618684957,0.9920310618684957,0.9920310618684957,0.9920310618684957,0.9920310618684957,0.9920310618684957,0.9920310618684957,0.9920310618684957,0.9920310618684957,0.9920310618684957,0.9920310618684957,0.9920310618684957,0.9920310618684957,0.9920310618684957,0.9920310618684957,0.9920310618684957,0.9920310618684957,0.9920310618684957,0.9920310618684957,0.9920310618684957],\"type\":\"scatter3d\",\"scene\":\"scene3\"},{\"marker\":{\"color\":\"green\",\"size\":0.5},\"mode\":\"markers\",\"name\":\"Equilibrium surface\",\"visible\":true,\"x\":[0.0,2.3333333333333335,4.666666666666667,7.0,9.333333333333334,11.666666666666668,14.0,16.333333333333336,18.666666666666668,21.0,23.333333333333336,25.666666666666668,28.0,30.333333333333336,32.66666666666667,35.0,37.333333333333336,39.66666666666667,42.0,44.333333333333336,46.66666666666667,49.0,51.333333333333336,53.66666666666667,56.0,58.333333333333336,60.66666666666667,63.00000000000001,65.33333333333334,67.66666666666667,70.0,0.0,2.3333333333333335,4.666666666666667,7.0,9.333333333333334,11.666666666666668,14.0,16.333333333333336,18.666666666666668,21.0,23.333333333333336,25.666666666666668,28.0,30.333333333333336,32.66666666666667,35.0,37.333333333333336,39.66666666666667,42.0,44.333333333333336,46.66666666666667,49.0,51.333333333333336,53.66666666666667,56.0,58.333333333333336,60.66666666666667,63.00000000000001,65.33333333333334,67.66666666666667,70.0,0.0,2.3333333333333335,4.666666666666667,7.0,9.333333333333334,11.666666666666668,14.0,16.333333333333336,18.666666666666668,21.0,23.333333333333336,25.666666666666668,28.0,30.333333333333336,32.66666666666667,35.0,37.333333333333336,39.66666666666667,42.0,44.333333333333336,46.66666666666667,49.0,51.333333333333336,53.66666666666667,56.0,58.333333333333336,60.66666666666667,63.00000000000001,65.33333333333334,67.66666666666667,70.0,0.0,2.3333333333333335,4.666666666666667,7.0,9.333333333333334,11.666666666666668,14.0,16.333333333333336,18.666666666666668,21.0,23.333333333333336,25.666666666666668,28.0,30.333333333333336,32.66666666666667,35.0,37.333333333333336,39.66666666666667,42.0,44.333333333333336,46.66666666666667,49.0,51.333333333333336,53.66666666666667,56.0,58.333333333333336,60.66666666666667,63.00000000000001,65.33333333333334,67.66666666666667,70.0,0.0,2.3333333333333335,4.666666666666667,7.0,9.333333333333334,11.666666666666668,14.0,16.333333333333336,18.666666666666668,21.0,23.333333333333336,25.666666666666668,28.0,30.333333333333336,32.66666666666667,35.0,37.333333333333336,39.66666666666667,42.0,44.333333333333336,46.66666666666667,49.0,51.333333333333336,53.66666666666667,56.0,58.333333333333336,60.66666666666667,63.00000000000001,65.33333333333334,67.66666666666667,70.0,0.0,2.3333333333333335,4.666666666666667,7.0,9.333333333333334,11.666666666666668,14.0,16.333333333333336,18.666666666666668,21.0,23.333333333333336,25.666666666666668,28.0,30.333333333333336,32.66666666666667,35.0,37.333333333333336,39.66666666666667,42.0,44.333333333333336,46.66666666666667,49.0,51.333333333333336,53.66666666666667,56.0,58.333333333333336,60.66666666666667,63.00000000000001,65.33333333333334,67.66666666666667,70.0,0.0,2.3333333333333335,4.666666666666667,7.0,9.333333333333334,11.666666666666668,14.0,16.333333333333336,18.666666666666668,21.0,23.333333333333336,25.666666666666668,28.0,30.333333333333336,32.66666666666667,35.0,37.333333333333336,39.66666666666667,42.0,44.333333333333336,46.66666666666667,49.0,51.333333333333336,53.66666666666667,56.0,58.333333333333336,60.66666666666667,63.00000000000001,65.33333333333334,67.66666666666667,70.0,0.0,2.3333333333333335,4.666666666666667,7.0,9.333333333333334,11.666666666666668,14.0,16.333333333333336,18.666666666666668,21.0,23.333333333333336,25.666666666666668,28.0,30.333333333333336,32.66666666666667,35.0,37.333333333333336,39.66666666666667,42.0,44.333333333333336,46.66666666666667,49.0,51.333333333333336,53.66666666666667,56.0,58.333333333333336,60.66666666666667,63.00000000000001,65.33333333333334,67.66666666666667,70.0,0.0,2.3333333333333335,4.666666666666667,7.0,9.333333333333334,11.666666666666668,14.0,16.333333333333336,18.666666666666668,21.0,23.333333333333336,25.666666666666668,28.0,30.333333333333336,32.66666666666667,35.0,37.333333333333336,39.66666666666667,42.0,44.333333333333336,46.66666666666667,49.0,51.333333333333336,53.66666666666667,56.0,58.333333333333336,60.66666666666667,63.00000000000001,65.33333333333334,67.66666666666667,70.0,0.0,2.3333333333333335,4.666666666666667,7.0,9.333333333333334,11.666666666666668,14.0,16.333333333333336,18.666666666666668,21.0,23.333333333333336,25.666666666666668,28.0,30.333333333333336,32.66666666666667,35.0,37.333333333333336,39.66666666666667,42.0,44.333333333333336,46.66666666666667,49.0,51.333333333333336,53.66666666666667,56.0,58.333333333333336,60.66666666666667,63.00000000000001,65.33333333333334,67.66666666666667,70.0,0.0,2.3333333333333335,4.666666666666667,7.0,9.333333333333334,11.666666666666668,14.0,16.333333333333336,18.666666666666668,21.0,23.333333333333336,25.666666666666668,28.0,30.333333333333336,32.66666666666667,35.0,37.333333333333336,39.66666666666667,42.0,44.333333333333336,46.66666666666667,49.0,51.333333333333336,53.66666666666667,56.0,58.333333333333336,60.66666666666667,63.00000000000001,65.33333333333334,67.66666666666667,70.0,0.0,2.3333333333333335,4.666666666666667,7.0,9.333333333333334,11.666666666666668,14.0,16.333333333333336,18.666666666666668,21.0,23.333333333333336,25.666666666666668,28.0,30.333333333333336,32.66666666666667,35.0,37.333333333333336,39.66666666666667,42.0,44.333333333333336,46.66666666666667,49.0,51.333333333333336,53.66666666666667,56.0,58.333333333333336,60.66666666666667,63.00000000000001,65.33333333333334,67.66666666666667,70.0,0.0,2.3333333333333335,4.666666666666667,7.0,9.333333333333334,11.666666666666668,14.0,16.333333333333336,18.666666666666668,21.0,23.333333333333336,25.666666666666668,28.0,30.333333333333336,32.66666666666667,35.0,37.333333333333336,39.66666666666667,42.0,44.333333333333336,46.66666666666667,49.0,51.333333333333336,53.66666666666667,56.0,58.333333333333336,60.66666666666667,63.00000000000001,65.33333333333334,67.66666666666667,70.0,0.0,2.3333333333333335,4.666666666666667,7.0,9.333333333333334,11.666666666666668,14.0,16.333333333333336,18.666666666666668,21.0,23.333333333333336,25.666666666666668,28.0,30.333333333333336,32.66666666666667,35.0,37.333333333333336,39.66666666666667,42.0,44.333333333333336,46.66666666666667,49.0,51.333333333333336,53.66666666666667,56.0,58.333333333333336,60.66666666666667,63.00000000000001,65.33333333333334,67.66666666666667,70.0,0.0,2.3333333333333335,4.666666666666667,7.0,9.333333333333334,11.666666666666668,14.0,16.333333333333336,18.666666666666668,21.0,23.333333333333336,25.666666666666668,28.0,30.333333333333336,32.66666666666667,35.0,37.333333333333336,39.66666666666667,42.0,44.333333333333336,46.66666666666667,49.0,51.333333333333336,53.66666666666667,56.0,58.333333333333336,60.66666666666667,63.00000000000001,65.33333333333334,67.66666666666667,70.0,0.0,2.3333333333333335,4.666666666666667,7.0,9.333333333333334,11.666666666666668,14.0,16.333333333333336,18.666666666666668,21.0,23.333333333333336,25.666666666666668,28.0,30.333333333333336,32.66666666666667,35.0,37.333333333333336,39.66666666666667,42.0,44.333333333333336,46.66666666666667,49.0,51.333333333333336,53.66666666666667,56.0,58.333333333333336,60.66666666666667,63.00000000000001,65.33333333333334,67.66666666666667,70.0,0.0,2.3333333333333335,4.666666666666667,7.0,9.333333333333334,11.666666666666668,14.0,16.333333333333336,18.666666666666668,21.0,23.333333333333336,25.666666666666668,28.0,30.333333333333336,32.66666666666667,35.0,37.333333333333336,39.66666666666667,42.0,44.333333333333336,46.66666666666667,49.0,51.333333333333336,53.66666666666667,56.0,58.333333333333336,60.66666666666667,63.00000000000001,65.33333333333334,67.66666666666667,70.0,0.0,2.3333333333333335,4.666666666666667,7.0,9.333333333333334,11.666666666666668,14.0,16.333333333333336,18.666666666666668,21.0,23.333333333333336,25.666666666666668,28.0,30.333333333333336,32.66666666666667,35.0,37.333333333333336,39.66666666666667,42.0,44.333333333333336,46.66666666666667,49.0,51.333333333333336,53.66666666666667,56.0,58.333333333333336,60.66666666666667,63.00000000000001,65.33333333333334,67.66666666666667,70.0,0.0,2.3333333333333335,4.666666666666667,7.0,9.333333333333334,11.666666666666668,14.0,16.333333333333336,18.666666666666668,21.0,23.333333333333336,25.666666666666668,28.0,30.333333333333336,32.66666666666667,35.0,37.333333333333336,39.66666666666667,42.0,44.333333333333336,46.66666666666667,49.0,51.333333333333336,53.66666666666667,56.0,58.333333333333336,60.66666666666667,63.00000000000001,65.33333333333334,67.66666666666667,70.0,0.0,2.3333333333333335,4.666666666666667,7.0,9.333333333333334,11.666666666666668,14.0,16.333333333333336,18.666666666666668,21.0,23.333333333333336,25.666666666666668,28.0,30.333333333333336,32.66666666666667,35.0,37.333333333333336,39.66666666666667,42.0,44.333333333333336,46.66666666666667,49.0,51.333333333333336,53.66666666666667,56.0,58.333333333333336,60.66666666666667,63.00000000000001,65.33333333333334,67.66666666666667,70.0,0.0,2.3333333333333335,4.666666666666667,7.0,9.333333333333334,11.666666666666668,14.0,16.333333333333336,18.666666666666668,21.0,23.333333333333336,25.666666666666668,28.0,30.333333333333336,32.66666666666667,35.0,37.333333333333336,39.66666666666667,42.0,44.333333333333336,46.66666666666667,49.0,51.333333333333336,53.66666666666667,56.0,58.333333333333336,60.66666666666667,63.00000000000001,65.33333333333334,67.66666666666667,70.0,0.0,2.3333333333333335,4.666666666666667,7.0,9.333333333333334,11.666666666666668,14.0,16.333333333333336,18.666666666666668,21.0,23.333333333333336,25.666666666666668,28.0,30.333333333333336,32.66666666666667,35.0,37.333333333333336,39.66666666666667,42.0,44.333333333333336,46.66666666666667,49.0,51.333333333333336,53.66666666666667,56.0,58.333333333333336,60.66666666666667,63.00000000000001,65.33333333333334,67.66666666666667,70.0,0.0,2.3333333333333335,4.666666666666667,7.0,9.333333333333334,11.666666666666668,14.0,16.333333333333336,18.666666666666668,21.0,23.333333333333336,25.666666666666668,28.0,30.333333333333336,32.66666666666667,35.0,37.333333333333336,39.66666666666667,42.0,44.333333333333336,46.66666666666667,49.0,51.333333333333336,53.66666666666667,56.0,58.333333333333336,60.66666666666667,63.00000000000001,65.33333333333334,67.66666666666667,70.0,0.0,2.3333333333333335,4.666666666666667,7.0,9.333333333333334,11.666666666666668,14.0,16.333333333333336,18.666666666666668,21.0,23.333333333333336,25.666666666666668,28.0,30.333333333333336,32.66666666666667,35.0,37.333333333333336,39.66666666666667,42.0,44.333333333333336,46.66666666666667,49.0,51.333333333333336,53.66666666666667,56.0,58.333333333333336,60.66666666666667,63.00000000000001,65.33333333333334,67.66666666666667,70.0,0.0,2.3333333333333335,4.666666666666667,7.0,9.333333333333334,11.666666666666668,14.0,16.333333333333336,18.666666666666668,21.0,23.333333333333336,25.666666666666668,28.0,30.333333333333336,32.66666666666667,35.0,37.333333333333336,39.66666666666667,42.0,44.333333333333336,46.66666666666667,49.0,51.333333333333336,53.66666666666667,56.0,58.333333333333336,60.66666666666667,63.00000000000001,65.33333333333334,67.66666666666667,70.0,0.0,2.3333333333333335,4.666666666666667,7.0,9.333333333333334,11.666666666666668,14.0,16.333333333333336,18.666666666666668,21.0,23.333333333333336,25.666666666666668,28.0,30.333333333333336,32.66666666666667,35.0,37.333333333333336,39.66666666666667,42.0,44.333333333333336,46.66666666666667,49.0,51.333333333333336,53.66666666666667,56.0,58.333333333333336,60.66666666666667,63.00000000000001,65.33333333333334,67.66666666666667,70.0,0.0,2.3333333333333335,4.666666666666667,7.0,9.333333333333334,11.666666666666668,14.0,16.333333333333336,18.666666666666668,21.0,23.333333333333336,25.666666666666668,28.0,30.333333333333336,32.66666666666667,35.0,37.333333333333336,39.66666666666667,42.0,44.333333333333336,46.66666666666667,49.0,51.333333333333336,53.66666666666667,56.0,58.333333333333336,60.66666666666667,63.00000000000001,65.33333333333334,67.66666666666667,70.0,0.0,2.3333333333333335,4.666666666666667,7.0,9.333333333333334,11.666666666666668,14.0,16.333333333333336,18.666666666666668,21.0,23.333333333333336,25.666666666666668,28.0,30.333333333333336,32.66666666666667,35.0,37.333333333333336,39.66666666666667,42.0,44.333333333333336,46.66666666666667,49.0,51.333333333333336,53.66666666666667,56.0,58.333333333333336,60.66666666666667,63.00000000000001,65.33333333333334,67.66666666666667,70.0,0.0,2.3333333333333335,4.666666666666667,7.0,9.333333333333334,11.666666666666668,14.0,16.333333333333336,18.666666666666668,21.0,23.333333333333336,25.666666666666668,28.0,30.333333333333336,32.66666666666667,35.0,37.333333333333336,39.66666666666667,42.0,44.333333333333336,46.66666666666667,49.0,51.333333333333336,53.66666666666667,56.0,58.333333333333336,60.66666666666667,63.00000000000001,65.33333333333334,67.66666666666667,70.0,0.0,2.3333333333333335,4.666666666666667,7.0,9.333333333333334,11.666666666666668,14.0,16.333333333333336,18.666666666666668,21.0,23.333333333333336,25.666666666666668,28.0,30.333333333333336,32.66666666666667,35.0,37.333333333333336,39.66666666666667,42.0,44.333333333333336,46.66666666666667,49.0,51.333333333333336,53.66666666666667,56.0,58.333333333333336,60.66666666666667,63.00000000000001,65.33333333333334,67.66666666666667,70.0,0.0,2.3333333333333335,4.666666666666667,7.0,9.333333333333334,11.666666666666668,14.0,16.333333333333336,18.666666666666668,21.0,23.333333333333336,25.666666666666668,28.0,30.333333333333336,32.66666666666667,35.0,37.333333333333336,39.66666666666667,42.0,44.333333333333336,46.66666666666667,49.0,51.333333333333336,53.66666666666667,56.0,58.333333333333336,60.66666666666667,63.00000000000001,65.33333333333334,67.66666666666667,70.0],\"y\":[0.0,0.0,0.0,0.0,0.0,0.0,0.0,0.0,0.0,0.0,0.0,0.0,0.0,0.0,0.0,0.0,0.0,0.0,0.0,0.0,0.0,0.0,0.0,0.0,0.0,0.0,0.0,0.0,0.0,0.0,0.0,0.8333333333333334,0.8333333333333334,0.8333333333333334,0.8333333333333334,0.8333333333333334,0.8333333333333334,0.8333333333333334,0.8333333333333334,0.8333333333333334,0.8333333333333334,0.8333333333333334,0.8333333333333334,0.8333333333333334,0.8333333333333334,0.8333333333333334,0.8333333333333334,0.8333333333333334,0.8333333333333334,0.8333333333333334,0.8333333333333334,0.8333333333333334,0.8333333333333334,0.8333333333333334,0.8333333333333334,0.8333333333333334,0.8333333333333334,0.8333333333333334,0.8333333333333334,0.8333333333333334,0.8333333333333334,0.8333333333333334,1.6666666666666667,1.6666666666666667,1.6666666666666667,1.6666666666666667,1.6666666666666667,1.6666666666666667,1.6666666666666667,1.6666666666666667,1.6666666666666667,1.6666666666666667,1.6666666666666667,1.6666666666666667,1.6666666666666667,1.6666666666666667,1.6666666666666667,1.6666666666666667,1.6666666666666667,1.6666666666666667,1.6666666666666667,1.6666666666666667,1.6666666666666667,1.6666666666666667,1.6666666666666667,1.6666666666666667,1.6666666666666667,1.6666666666666667,1.6666666666666667,1.6666666666666667,1.6666666666666667,1.6666666666666667,1.6666666666666667,2.5,2.5,2.5,2.5,2.5,2.5,2.5,2.5,2.5,2.5,2.5,2.5,2.5,2.5,2.5,2.5,2.5,2.5,2.5,2.5,2.5,2.5,2.5,2.5,2.5,2.5,2.5,2.5,2.5,2.5,2.5,3.3333333333333335,3.3333333333333335,3.3333333333333335,3.3333333333333335,3.3333333333333335,3.3333333333333335,3.3333333333333335,3.3333333333333335,3.3333333333333335,3.3333333333333335,3.3333333333333335,3.3333333333333335,3.3333333333333335,3.3333333333333335,3.3333333333333335,3.3333333333333335,3.3333333333333335,3.3333333333333335,3.3333333333333335,3.3333333333333335,3.3333333333333335,3.3333333333333335,3.3333333333333335,3.3333333333333335,3.3333333333333335,3.3333333333333335,3.3333333333333335,3.3333333333333335,3.3333333333333335,3.3333333333333335,3.3333333333333335,4.166666666666667,4.166666666666667,4.166666666666667,4.166666666666667,4.166666666666667,4.166666666666667,4.166666666666667,4.166666666666667,4.166666666666667,4.166666666666667,4.166666666666667,4.166666666666667,4.166666666666667,4.166666666666667,4.166666666666667,4.166666666666667,4.166666666666667,4.166666666666667,4.166666666666667,4.166666666666667,4.166666666666667,4.166666666666667,4.166666666666667,4.166666666666667,4.166666666666667,4.166666666666667,4.166666666666667,4.166666666666667,4.166666666666667,4.166666666666667,4.166666666666667,5.0,5.0,5.0,5.0,5.0,5.0,5.0,5.0,5.0,5.0,5.0,5.0,5.0,5.0,5.0,5.0,5.0,5.0,5.0,5.0,5.0,5.0,5.0,5.0,5.0,5.0,5.0,5.0,5.0,5.0,5.0,5.833333333333334,5.833333333333334,5.833333333333334,5.833333333333334,5.833333333333334,5.833333333333334,5.833333333333334,5.833333333333334,5.833333333333334,5.833333333333334,5.833333333333334,5.833333333333334,5.833333333333334,5.833333333333334,5.833333333333334,5.833333333333334,5.833333333333334,5.833333333333334,5.833333333333334,5.833333333333334,5.833333333333334,5.833333333333334,5.833333333333334,5.833333333333334,5.833333333333334,5.833333333333334,5.833333333333334,5.833333333333334,5.833333333333334,5.833333333333334,5.833333333333334,6.666666666666667,6.666666666666667,6.666666666666667,6.666666666666667,6.666666666666667,6.666666666666667,6.666666666666667,6.666666666666667,6.666666666666667,6.666666666666667,6.666666666666667,6.666666666666667,6.666666666666667,6.666666666666667,6.666666666666667,6.666666666666667,6.666666666666667,6.666666666666667,6.666666666666667,6.666666666666667,6.666666666666667,6.666666666666667,6.666666666666667,6.666666666666667,6.666666666666667,6.666666666666667,6.666666666666667,6.666666666666667,6.666666666666667,6.666666666666667,6.666666666666667,7.5,7.5,7.5,7.5,7.5,7.5,7.5,7.5,7.5,7.5,7.5,7.5,7.5,7.5,7.5,7.5,7.5,7.5,7.5,7.5,7.5,7.5,7.5,7.5,7.5,7.5,7.5,7.5,7.5,7.5,7.5,8.333333333333334,8.333333333333334,8.333333333333334,8.333333333333334,8.333333333333334,8.333333333333334,8.333333333333334,8.333333333333334,8.333333333333334,8.333333333333334,8.333333333333334,8.333333333333334,8.333333333333334,8.333333333333334,8.333333333333334,8.333333333333334,8.333333333333334,8.333333333333334,8.333333333333334,8.333333333333334,8.333333333333334,8.333333333333334,8.333333333333334,8.333333333333334,8.333333333333334,8.333333333333334,8.333333333333334,8.333333333333334,8.333333333333334,8.333333333333334,8.333333333333334,9.166666666666668,9.166666666666668,9.166666666666668,9.166666666666668,9.166666666666668,9.166666666666668,9.166666666666668,9.166666666666668,9.166666666666668,9.166666666666668,9.166666666666668,9.166666666666668,9.166666666666668,9.166666666666668,9.166666666666668,9.166666666666668,9.166666666666668,9.166666666666668,9.166666666666668,9.166666666666668,9.166666666666668,9.166666666666668,9.166666666666668,9.166666666666668,9.166666666666668,9.166666666666668,9.166666666666668,9.166666666666668,9.166666666666668,9.166666666666668,9.166666666666668,10.0,10.0,10.0,10.0,10.0,10.0,10.0,10.0,10.0,10.0,10.0,10.0,10.0,10.0,10.0,10.0,10.0,10.0,10.0,10.0,10.0,10.0,10.0,10.0,10.0,10.0,10.0,10.0,10.0,10.0,10.0,10.833333333333334,10.833333333333334,10.833333333333334,10.833333333333334,10.833333333333334,10.833333333333334,10.833333333333334,10.833333333333334,10.833333333333334,10.833333333333334,10.833333333333334,10.833333333333334,10.833333333333334,10.833333333333334,10.833333333333334,10.833333333333334,10.833333333333334,10.833333333333334,10.833333333333334,10.833333333333334,10.833333333333334,10.833333333333334,10.833333333333334,10.833333333333334,10.833333333333334,10.833333333333334,10.833333333333334,10.833333333333334,10.833333333333334,10.833333333333334,10.833333333333334,11.666666666666668,11.666666666666668,11.666666666666668,11.666666666666668,11.666666666666668,11.666666666666668,11.666666666666668,11.666666666666668,11.666666666666668,11.666666666666668,11.666666666666668,11.666666666666668,11.666666666666668,11.666666666666668,11.666666666666668,11.666666666666668,11.666666666666668,11.666666666666668,11.666666666666668,11.666666666666668,11.666666666666668,11.666666666666668,11.666666666666668,11.666666666666668,11.666666666666668,11.666666666666668,11.666666666666668,11.666666666666668,11.666666666666668,11.666666666666668,11.666666666666668,12.5,12.5,12.5,12.5,12.5,12.5,12.5,12.5,12.5,12.5,12.5,12.5,12.5,12.5,12.5,12.5,12.5,12.5,12.5,12.5,12.5,12.5,12.5,12.5,12.5,12.5,12.5,12.5,12.5,12.5,12.5,13.333333333333334,13.333333333333334,13.333333333333334,13.333333333333334,13.333333333333334,13.333333333333334,13.333333333333334,13.333333333333334,13.333333333333334,13.333333333333334,13.333333333333334,13.333333333333334,13.333333333333334,13.333333333333334,13.333333333333334,13.333333333333334,13.333333333333334,13.333333333333334,13.333333333333334,13.333333333333334,13.333333333333334,13.333333333333334,13.333333333333334,13.333333333333334,13.333333333333334,13.333333333333334,13.333333333333334,13.333333333333334,13.333333333333334,13.333333333333334,13.333333333333334,14.166666666666668,14.166666666666668,14.166666666666668,14.166666666666668,14.166666666666668,14.166666666666668,14.166666666666668,14.166666666666668,14.166666666666668,14.166666666666668,14.166666666666668,14.166666666666668,14.166666666666668,14.166666666666668,14.166666666666668,14.166666666666668,14.166666666666668,14.166666666666668,14.166666666666668,14.166666666666668,14.166666666666668,14.166666666666668,14.166666666666668,14.166666666666668,14.166666666666668,14.166666666666668,14.166666666666668,14.166666666666668,14.166666666666668,14.166666666666668,14.166666666666668,15.0,15.0,15.0,15.0,15.0,15.0,15.0,15.0,15.0,15.0,15.0,15.0,15.0,15.0,15.0,15.0,15.0,15.0,15.0,15.0,15.0,15.0,15.0,15.0,15.0,15.0,15.0,15.0,15.0,15.0,15.0,15.833333333333334,15.833333333333334,15.833333333333334,15.833333333333334,15.833333333333334,15.833333333333334,15.833333333333334,15.833333333333334,15.833333333333334,15.833333333333334,15.833333333333334,15.833333333333334,15.833333333333334,15.833333333333334,15.833333333333334,15.833333333333334,15.833333333333334,15.833333333333334,15.833333333333334,15.833333333333334,15.833333333333334,15.833333333333334,15.833333333333334,15.833333333333334,15.833333333333334,15.833333333333334,15.833333333333334,15.833333333333334,15.833333333333334,15.833333333333334,15.833333333333334,16.666666666666668,16.666666666666668,16.666666666666668,16.666666666666668,16.666666666666668,16.666666666666668,16.666666666666668,16.666666666666668,16.666666666666668,16.666666666666668,16.666666666666668,16.666666666666668,16.666666666666668,16.666666666666668,16.666666666666668,16.666666666666668,16.666666666666668,16.666666666666668,16.666666666666668,16.666666666666668,16.666666666666668,16.666666666666668,16.666666666666668,16.666666666666668,16.666666666666668,16.666666666666668,16.666666666666668,16.666666666666668,16.666666666666668,16.666666666666668,16.666666666666668,17.5,17.5,17.5,17.5,17.5,17.5,17.5,17.5,17.5,17.5,17.5,17.5,17.5,17.5,17.5,17.5,17.5,17.5,17.5,17.5,17.5,17.5,17.5,17.5,17.5,17.5,17.5,17.5,17.5,17.5,17.5,18.333333333333336,18.333333333333336,18.333333333333336,18.333333333333336,18.333333333333336,18.333333333333336,18.333333333333336,18.333333333333336,18.333333333333336,18.333333333333336,18.333333333333336,18.333333333333336,18.333333333333336,18.333333333333336,18.333333333333336,18.333333333333336,18.333333333333336,18.333333333333336,18.333333333333336,18.333333333333336,18.333333333333336,18.333333333333336,18.333333333333336,18.333333333333336,18.333333333333336,18.333333333333336,18.333333333333336,18.333333333333336,18.333333333333336,18.333333333333336,18.333333333333336,19.166666666666668,19.166666666666668,19.166666666666668,19.166666666666668,19.166666666666668,19.166666666666668,19.166666666666668,19.166666666666668,19.166666666666668,19.166666666666668,19.166666666666668,19.166666666666668,19.166666666666668,19.166666666666668,19.166666666666668,19.166666666666668,19.166666666666668,19.166666666666668,19.166666666666668,19.166666666666668,19.166666666666668,19.166666666666668,19.166666666666668,19.166666666666668,19.166666666666668,19.166666666666668,19.166666666666668,19.166666666666668,19.166666666666668,19.166666666666668,19.166666666666668,20.0,20.0,20.0,20.0,20.0,20.0,20.0,20.0,20.0,20.0,20.0,20.0,20.0,20.0,20.0,20.0,20.0,20.0,20.0,20.0,20.0,20.0,20.0,20.0,20.0,20.0,20.0,20.0,20.0,20.0,20.0,20.833333333333336,20.833333333333336,20.833333333333336,20.833333333333336,20.833333333333336,20.833333333333336,20.833333333333336,20.833333333333336,20.833333333333336,20.833333333333336,20.833333333333336,20.833333333333336,20.833333333333336,20.833333333333336,20.833333333333336,20.833333333333336,20.833333333333336,20.833333333333336,20.833333333333336,20.833333333333336,20.833333333333336,20.833333333333336,20.833333333333336,20.833333333333336,20.833333333333336,20.833333333333336,20.833333333333336,20.833333333333336,20.833333333333336,20.833333333333336,20.833333333333336,21.666666666666668,21.666666666666668,21.666666666666668,21.666666666666668,21.666666666666668,21.666666666666668,21.666666666666668,21.666666666666668,21.666666666666668,21.666666666666668,21.666666666666668,21.666666666666668,21.666666666666668,21.666666666666668,21.666666666666668,21.666666666666668,21.666666666666668,21.666666666666668,21.666666666666668,21.666666666666668,21.666666666666668,21.666666666666668,21.666666666666668,21.666666666666668,21.666666666666668,21.666666666666668,21.666666666666668,21.666666666666668,21.666666666666668,21.666666666666668,21.666666666666668,22.5,22.5,22.5,22.5,22.5,22.5,22.5,22.5,22.5,22.5,22.5,22.5,22.5,22.5,22.5,22.5,22.5,22.5,22.5,22.5,22.5,22.5,22.5,22.5,22.5,22.5,22.5,22.5,22.5,22.5,22.5,23.333333333333336,23.333333333333336,23.333333333333336,23.333333333333336,23.333333333333336,23.333333333333336,23.333333333333336,23.333333333333336,23.333333333333336,23.333333333333336,23.333333333333336,23.333333333333336,23.333333333333336,23.333333333333336,23.333333333333336,23.333333333333336,23.333333333333336,23.333333333333336,23.333333333333336,23.333333333333336,23.333333333333336,23.333333333333336,23.333333333333336,23.333333333333336,23.333333333333336,23.333333333333336,23.333333333333336,23.333333333333336,23.333333333333336,23.333333333333336,23.333333333333336,24.166666666666668,24.166666666666668,24.166666666666668,24.166666666666668,24.166666666666668,24.166666666666668,24.166666666666668,24.166666666666668,24.166666666666668,24.166666666666668,24.166666666666668,24.166666666666668,24.166666666666668,24.166666666666668,24.166666666666668,24.166666666666668,24.166666666666668,24.166666666666668,24.166666666666668,24.166666666666668,24.166666666666668,24.166666666666668,24.166666666666668,24.166666666666668,24.166666666666668,24.166666666666668,24.166666666666668,24.166666666666668,24.166666666666668,24.166666666666668,24.166666666666668,25.0,25.0,25.0,25.0,25.0,25.0,25.0,25.0,25.0,25.0,25.0,25.0,25.0,25.0,25.0,25.0,25.0,25.0,25.0,25.0,25.0,25.0,25.0,25.0,25.0,25.0,25.0,25.0,25.0,25.0,25.0],\"z\":[0.06420811994124898,0.06458282358317924,0.06505685490823354,0.06565504763447794,0.06640778671466607,0.06735193485261659,0.0685317435496201,0.06999962704521656,0.07181659738699442,0.0740520433239219,0.07678237739630267,0.08008787417119656,0.08404679703848017,0.08872572286025349,0.09416496587463541,0.10035845267620025,0.1072287720472378,0.11460104460960141,0.12218427727244507,0.12957575590339787,0.1363104723059585,0.14197781150729705,0.1464132345240149,0.14993866963842317,0.15358368859345617,0.15920785723816078,0.1695084859269651,0.18804152900281634,0.21953610121818057,0.2708432772913011,0.3527725463416541,0.065309296092806,0.06603982298420041,0.06698462927245374,0.06820554731805106,0.0697817280512546,0.07181419225360874,0.07443139058968573,0.0777958684062966,0.08211203878750917,0.08763487865305586,0.09467901581167104,0.10362708050318004,0.11493523609458622,0.12913235240746057,0.14680726067809846,0.16857603671775256,0.195018865992713,0.22657522749078196,0.2633898001301638,0.30511413390596276,0.35069550596289845,0.39822524004304416,0.4449630735798582,0.48767249858479467,0.5233539542824516,0.5503316692537363,0.5694926213425351,0.5854274076834021,0.6073948701922017,0.6503533787855957,0.7364432476864473,0.06643982544093896,0.067530812281413,0.06895086127884875,0.0707981539843876,0.07319952398499296,0.07631840295064807,0.08036468790470086,0.08560679264109472,0.09238602148907127,0.10113311829526928,0.11238628578220011,0.12680897577209937,0.14520409818201419,0.16851873495056646,0.19782979052289174,0.23429638830850819,0.27906014171646265,0.3330721350097001,0.3968303643442299,0.47003085827735214,0.551177395556706,0.6372601139545253,0.7236868488923573,0.8046923941152024,0.8744050373240295,0.9285873195429726,0.9668390284336001,0.9948946922811936,1.0266998813647148,1.0861406403825256,1.2081480919336092,0.06767518184592725,0.06915577941733175,0.0710879521269907,0.07360807171355,0.07689280343847349,0.08117040471429737,0.08673476730630114,0.09396256180314333,0.10333364226464836,0.11545442236659342,0.13108307710645517,0.1511539216670641,0.17679587500783067,0.2093362356134726,0.2502759719014742,0.30121683526824583,0.36371558998981224,0.4390404529127071,0.52781615056618,0.629575264682907,0.7422903306062734,0.8620374218100071,0.9830113530506752,1.0981313537937778,1.2004074440158068,1.2850887543855283,1.3524467659758805,1.410922955141206,1.4802483152230383,1.5937260300070928,1.7975234618953302,0.06908821617863048,0.0710108368140604,0.07352261628297652,0.07680220416618988,0.08108112820068836,0.086658544000907,0.09391946208787272,0.1033568082357279,0.11559732846826254,0.13143064059613885,0.15183943644037678,0.17802665684804142,0.21143206927090796,0.2537258621718048,0.30676086347573317,0.37245907700753367,0.45260561510934916,0.5485296394535119,0.6606756012088172,0.788115512378252,0.9281218123443807,1.0759906700158788,1.2253402456650753,1.369074202828434,1.5011026982221467,1.618805607808702,1.7261525186958377,1.837274889072519,1.9797604686534913,2.1953586833819916,2.5328588722641827,0.07075452464007215,0.07319531298923121,0.07638522895653421,0.08055143940029486,0.08598807528790453,0.09307462115558474,0.10229839881613911,0.1142813582205322,0.1298108041259579,0.14987257595372694,0.17568327763619773,0.20871509470215488,0.2507022732931219,0.3036125506382267,0.3695606821623507,0.4506373684842574,0.5486305144670697,0.6646344060529259,0.7985832768896496,0.9488089606150243,1.1117920273390194,1.2823179231387596,1.4542285755411968,1.621873202081301,1.7822603377211241,1.9378552449915354,2.099891401071692,2.2916221017399874,2.549431801667502,2.9167520057797973,3.423953131540257,0.07275726738526433,0.07581807396719276,0.07981809239730386,0.08504141373082919,0.09185517494551676,0.10073180634969348,0.11227580445233065,0.12725489673731316,0.1466345124148134,0.1716127851333067,0.203650566362909,0.24448682884339412,0.2961243605432158,0.36076450429483675,0.4406651037328374,0.5378973503548449,0.6539920198568533,0.7895013000497194,0.9435613510518502,1.1136109552275784,1.2954721907861715,1.4839919963586543,1.6743658817998022,1.8641557301343328,2.055932736707411,2.2603856111135903,2.4993188458216915,2.8065502134317573,3.221858302671564,3.7713423944322066,4.436031006416311,0.07519181924694707,0.07900356991779645,0.0839832583620308,0.090482565111899,0.09895471893244556,0.10998076962075198,0.12430050776375678,0.14284725897486616,0.166784296016125,0.19753814786571344,0.23682033053604334,0.28662387009306844,0.3491749405135949,0.42681482757680356,0.5217872854119701,0.6359178455475558,0.7702026948787803,0.9243795505910306,1.0966233901935871,1.2835688629232667,1.480869966614632,1.6844440669118175,1.8924366185077144,2.1078394839380445,2.3415743239964844,2.615426293487591,2.9628288679327146,3.422701849278138,4.01974522980683,4.732858786047416,5.47736415854561,0.07817056164664904,0.0828980002043257,0.08907039987929133,0.0971200827548373,0.10760216607140038,0.12122486429058643,0.1388840528841897,0.16170027234461903,0.1910541432180265,0.22861273303184326,0.27633458974721203,0.33643526703288884,0.41128970113404983,0.5032462707958905,0.6143359469628227,0.7458866023102451,0.898103008567914,1.0697426921225401,1.2580838165895707,1.4594056989418769,1.6701562604504332,1.8888752372907711,2.118823160179396,2.371117086012044,2.667731527096751,3.042353268191424,3.5343080746738207,4.16891930897361,4.9256650754802305,5.719393998033858,6.429306850178332,0.08182807587476248,0.08767591636209082,0.09530511422440158,0.10524419185410328,0.11816861992917393,0.1349348283947669,0.15661729701736982,0.18454530318068052,0.22033278000152767,0.26589023955039404,0.3234020323377197,0.39524652939916105,0.48383415522397233,0.5913441981826106,0.7193638407160152,0.8684787287302248,1.037932164211104,1.2255412165487547,1.4280968678780601,1.6424474240257851,1.8673688299764573,2.106197504477478,2.3700287146167893,2.680824854011007,3.072420659593986,3.5846668675720035,4.244031184662647,5.031700871990867,5.863954930656325,6.619824864087276,7.204127599542835,0.08632696377936822,0.09354752471161143,0.1029579430303611,0.11520105612224663,0.13109360521673563,0.15166308540315443,0.17818529523945603,0.21221686432557496,0.25561286442278797,0.3105141698342708,0.3792834451101965,0.4643650806488858,0.5680481483094768,0.6921300983760568,0.8375200997401117,1.0038858612779107,1.1895223503367474,1.391672228044098,1.6075184930400486,1.8359874297579002,2.0803678423123024,2.3515597935626955,2.6712908365777386,3.0732904088807547,3.5976927321234644,4.271956744057546,5.079041234855129,5.937112022957955,6.726072077153489,7.3502318778961,7.776968912871517,0.09186449417487319,0.10076689604270783,0.11235429697128096,0.12740441168546546,0.14689809296953837,0.17205729660173008,0.20437965222392596,0.24566081554062857,0.29799061065415755,0.3637031806362686,0.445257116029234,0.5450233547994243,0.664973747105759,0.8062996688535362,0.9690514236484508,1.15196540046137,1.3527079405054327,1.5687735449134528,1.799208293867279,2.0471977721880075,2.323349311001051,2.6490059558218935,3.057588684518559,3.5892662804701283,4.27221533459377,5.090914451865979,5.965265615305805,6.776095105454109,7.427589809519683,7.886737149195989,8.17243277442995,0.0986802433620001,0.10964122614733918,0.12388535277416046,0.14234783851665822,0.16619738957699115,0.19687231576076158,0.23610684052671504,0.28593490543065614,0.3486530557822102,0.42671924079174783,0.5225645606833872,0.6383068836583305,0.7753871694051293,0.9342065591504857,1.1139186419679432,1.312601811240777,1.5280622610403363,1.7594687575053047,2.009893567420396,2.289611541008383,2.619499774836987,3.0325420590362064,3.5687650345858133,4.256842908369345,5.082526978750677,5.9672099735205535,6.792423968464199,7.462073740957543,7.942741160075521,8.25350410672264,8.43413668938188,0.10706485627900597,0.12054120341158081,0.13801982934382206,0.16061730541257802,0.18971308861611702,0.2269791194200469,0.2743903049805879,0.33419885220287826,0.4088503191248981,0.5008181100110826,0.6123421702006668,0.7450851715837223,0.8997722030068331,1.0759551355282555,1.2721198132257088,1.4863953807037498,1.7180940232169561,1.970191348185743,2.2526265541134887,2.585775649118046,3.002112088786461,3.541407819651279,4.232685158735886,5.062791668258516,5.954422456193058,6.7896148068181965,7.4717633722179695,7.966801436145236,8.293791340617092,8.4931578217184,8.603601085199069,0.11736998932563969,0.1339124117357826,0.15531632704005538,0.18290327233464632,0.21828278473116747,0.2633686827696702,0.3203636614993547,0.39169123580304177,0.47985183963408784,0.5871864081150562,0.7155541868221492,0.8659795318996419,1.0383953285687435,1.231692157824882,1.4443373051022712,1.6758154386351256,1.929036827751813,2.2136236337039756,2.549444367507233,2.9684244304729974,3.5100110729286276,4.203475891981812,5.03664576090983,5.9333972129007755,6.7761430201032145,7.4676018217266815,7.9728437979901035,8.31067021654884,8.52191074029982,8.64605923403064,8.712546232097559,0.1300193929979665,0.1502875112482821,0.17643561284511355,0.21001119697282822,0.25286570787318685,0.3071482904651799,0.37525231279268245,0.4596918720409823,0.5628898472244712,0.686878668070391,0.8329582212039331,1.001425005527897,1.191570852431214,1.4022163771401779,1.6330506265463614,1.8869573184991317,2.173272981718216,2.5113698995252256,2.9326095486746615,3.476070466603327,4.171205784895099,5.006742566851943,5.907664379883183,6.7566867303441605,7.455753143102022,7.968927902131991,8.314571204108063,8.533709690933982,8.666400849826042,8.74279163252646,8.782755494328441,0.14552093700017554,0.17029868071200127,0.2021518510895729,0.24286880656700904,0.29454198462304193,0.3595277345869179,0.4403419872720251,0.5394721508718776,0.6591017532391967,0.8007828886758642,0.9651573705390846,1.1519127481833502,1.3602360587032631,1.5900523174039718,1.8442607203092014,2.1319510903121994,2.4720220152787964,2.8952690801504435,3.4403739910891655,4.136921890463831,4.9744826644015845,5.8790997966638585,6.733754101878267,7.439560173522569,7.9594893415878705,8.311346088920796,8.536217539075887,8.674563033584512,8.757053873467843,8.804127733465169,8.82839691620591,0.16447915918259692,0.194689470646201,0.23336134489439164,0.282528075671569,0.3445031587773846,0.421793851211857,0.5169360993219347,0.6322435722278619,0.7694975110728859,0.9296656182912465,1.1128230706710218,1.3185332590423293,1.5469866495334927,1.8011406520439275,2.089881698023274,2.431664807442434,2.856727214778617,3.4033359972744113,4.101169663047077,4.9405956242813485,5.848684916583963,6.708665871258061,7.420796747393638,7.946903221944389,8.304162936370684,8.533640789144423,8.67610012698696,8.762615651243506,8.814038287349861,8.843396513193033,8.858445871049232,0.18760762888420301,0.22432483077129095,0.2710869678298148,0.3301597534467098,0.404032449656202,0.49527486468346127,0.6063109365315461,0.7391282868536534,0.8950000059642615,1.0743781518461921,1.277208759308243,1.5039740752703303,1.7577315638972943,2.0472099947632447,2.3904563768117058,2.817164249531261,3.3651756672010666,4.064230855737334,4.905456218880772,5.816925560172013,6.68210711711051,7.400389698979575,7.932419845173218,8.294702450332315,8.528230286510754,8.674014786429714,8.763465236198039,8.817757200184923,8.850220966583358,8.868910015784937,8.878529914834763,0.2157400772721545,0.26019772782958006,0.31647635965389087,0.3870390079596676,0.47447591720579696,0.5813025176303535,0.7096904543693663,0.8611968155220671,1.0366372657554954,1.2363429865282245,1.4611105787635783,1.7141374312481812,2.0040414440911216,2.348501215971872,2.776687022504755,3.3260114433473933,4.026249857689862,4.869253167930282,5.784076894825869,6.654426486564674,7.3788154882534585,7.916687953744258,8.283843743095769,8.521171870805128,8.669900190830532,8.76173537089938,8.818129366218002,8.852650194063983,8.873564730595671,8.885789431278667,8.892175121778646,0.2498389405941237,0.3034306680135367,0.3707925897365024,0.4545231650239845,0.5572116650045091,0.6811919539044768,0.828283085712998,0.9996487770075512,1.1960041253015352,1.4184785691310982,1.670446558722705,1.960461960803867,2.3058776113889863,2.735365915961985,3.285910765617351,3.987300363695539,4.8320783813248225,5.750262789260306,6.6257956596508105,7.356312928786009,7.90003786746837,8.272039965682508,8.513082476583593,8.66459120024625,8.758550678046872,8.816664326469285,8.852704079107957,8.87510432307518,8.888930953837372,8.897183814158781,8.901602715781303,0.29099987463430976,0.3552709990081906,0.4353981652310458,0.534027988531888,0.6536354445381218,0.7962791450952675,0.9634533334279674,1.1562522378758668,1.3761523758311167,1.6267390991498907,1.9165482891200407,2.262651900010395,2.693254249193019,3.2449162272931407,3.9474204768579852,4.79397397427617,5.7155387532881985,6.596293597164792,7.332995914052278,7.882632180146517,8.259519461551976,8.504278042529616,8.65852006660379,8.754497934656161,8.814154377726913,8.851448384636585,8.874958205911165,8.889866584327608,8.89927824872925,8.905038644185284,8.90822507106668,0.34045131241122983,0.417080844151279,0.5117382926400638,0.627019464814299,0.7652000076103225,0.928085532426031,1.117141316887511,1.33420093256359,1.5830907577676476,1.8723732334911714,2.2188858145320416,2.650398413824121,3.203059334207394,3.906631202512791,4.754957024619372,5.679925058627429,6.565950875826191,7.308912797096982,7.864545296232814,8.246392254704576,8.494915943873377,8.651906652593928,8.749879561930227,8.81101137878776,8.84944045561062,8.87387746238409,8.889605514063947,8.899811227264955,8.906414259733094,8.910567210457728,8.912951141911428,0.39954995551362815,0.4903271684876692,0.6013391483194438,0.7350561841879616,0.8935748079065045,1.0787202784510503,1.2926890063595262,1.5395745031651193,1.828008183697538,2.174640189902177,2.6068431400695804,3.1603677534539703,3.864946225729184,4.7150326445714885,5.6434241842512165,6.53477299893235,7.2840775904945385,7.845805237572458,8.232706093419598,8.485070109470808,8.644859049665087,8.744848259093681,8.807446628009377,8.846969047432932,8.872253709431684,8.888676354301115,8.899494064756844,8.9066845728646,8.911453548232169,8.914536087275907,8.916374095934161,0.46977740355563025,0.5765867076806328,0.705854197984906,0.8599459269278684,1.04103342280013,1.251677683717787,1.4962612415303114,1.783524215499812,2.1299767465825314,2.5626341937812205,3.1168691385448297,3.822377117075331,4.674200929571093,5.606030045951124,6.502752676012486,7.258486357975544,7.826415582675105,8.218475861002005,8.474770473936962,8.637426500529712,8.739477966318066,8.803565945842372,8.84418159025913,8.870289188177834,8.887354018307937,8.898698423414222,8.906350335865191,8.911557225635319,8.915092575221617,8.917437340406474,8.918886924250074,0.49175016695049634,0.6034222080288744,0.7381876014163657,0.8984128790466622,1.0863887952384905,1.305099249979024,1.5599211927433667,1.8614380134430313,2.2288910847923677,2.692130321621458,3.286949552810671,4.036732462872916,4.921179130882061,5.856784652043803,6.724191646791468,7.430721577173276,7.947839102454843,8.298597021215206,8.525630010955146,8.669124834966906,8.75915307267333,8.815847883732522,8.851945361056796,8.87528406397101,8.890637702147139,8.900912558082016,8.907888456583775,8.912665284176553,8.915928791098064,8.918108014133889,8.919468223207689,0.49175016695049634,0.6034222080288744,0.7381876014163657,0.8984128790466622,1.0863887952384905,1.305099249979024,1.5599211927433667,1.8614380134430313,2.2288910847923677,2.692130321621458,3.286949552810671,4.036732462872916,4.921179130882061,5.856784652043803,6.724191646791468,7.430721577173276,7.947839102454843,8.298597021215206,8.525630010955146,8.669124834966906,8.75915307267333,8.815847883732522,8.851945361056796,8.87528406397101,8.890637702147139,8.900912558082016,8.907888456583775,8.912665284176553,8.915928791098064,8.918108014133889,8.919468223207689,0.49175016695049634,0.6034222080288744,0.7381876014163657,0.8984128790466622,1.0863887952384905,1.305099249979024,1.5599211927433667,1.8614380134430313,2.2288910847923677,2.692130321621458,3.286949552810671,4.036732462872916,4.921179130882061,5.856784652043803,6.724191646791468,7.430721577173276,7.947839102454843,8.298597021215206,8.525630010955146,8.669124834966906,8.75915307267333,8.815847883732522,8.851945361056796,8.87528406397101,8.890637702147139,8.900912558082016,8.907888456583775,8.912665284176553,8.915928791098064,8.918108014133889,8.919468223207689,0.49175016695049634,0.6034222080288744,0.7381876014163657,0.8984128790466622,1.0863887952384905,1.305099249979024,1.5599211927433667,1.8614380134430313,2.2288910847923677,2.692130321621458,3.286949552810671,4.036732462872916,4.921179130882061,5.856784652043803,6.724191646791468,7.430721577173276,7.947839102454843,8.298597021215206,8.525630010955146,8.669124834966906,8.75915307267333,8.815847883732522,8.851945361056796,8.87528406397101,8.890637702147139,8.900912558082016,8.907888456583775,8.912665284176553,8.915928791098064,8.918108014133889,8.919468223207689,0.49175016695049634,0.6034222080288744,0.7381876014163657,0.8984128790466622,1.0863887952384905,1.305099249979024,1.5599211927433667,1.8614380134430313,2.2288910847923677,2.692130321621458,3.286949552810671,4.036732462872916,4.921179130882061,5.856784652043803,6.724191646791468,7.430721577173276,7.947839102454843,8.298597021215206,8.525630010955146,8.669124834966906,8.75915307267333,8.815847883732522,8.851945361056796,8.87528406397101,8.890637702147139,8.900912558082016,8.907888456583775,8.912665284176553,8.915928791098064,8.918108014133889,8.919468223207689,0.49175016695049634,0.6034222080288744,0.7381876014163657,0.8984128790466622,1.0863887952384905,1.305099249979024,1.5599211927433667,1.8614380134430313,2.2288910847923677,2.692130321621458,3.286949552810671,4.036732462872916,4.921179130882061,5.856784652043803,6.724191646791468,7.430721577173276,7.947839102454843,8.298597021215206,8.525630010955146,8.669124834966906,8.75915307267333,8.815847883732522,8.851945361056796,8.87528406397101,8.890637702147139,8.900912558082016,8.907888456583775,8.912665284176553,8.915928791098064,8.918108014133889,8.919468223207689],\"type\":\"scatter3d\",\"scene\":\"scene4\"},{\"marker\":{\"color\":\"blue\"},\"mode\":\"markers\",\"name\":\"Efficiency\",\"x\":[43.26492473795802,47.92163503912569,53.469881642711435],\"y\":[3.4362252297621714,1.4558522605985578,0.6952982953795706],\"z\":[7.758250237901218,9.7410663539257,14.423818913449718],\"type\":\"scatter3d\",\"scene\":\"scene\"},{\"marker\":{\"color\":\"green\"},\"mode\":\"markers+lines+text\",\"name\":\"Operation\",\"text\":[\"(43.26,3.44,6.00)\",\"(47.92,1.46,7.76)\",\"(53.47,0.70,9.74)\",\"(60.00,0.10,14.42)\"],\"textposition\":\"bottom center\",\"x\":[43.26492473795802,47.92163503912569,53.469881642711435,60.0],\"y\":[3.4362252297621714,1.4558522605985578,0.6952982953795706,0.1],\"z\":[6.0,7.758250237901218,9.7410663539257,14.423818913449718],\"type\":\"scatter3d\",\"scene\":\"scene\"},{\"marker\":{\"color\":\"blue\"},\"mode\":\"markers\",\"name\":\"Efficiency\",\"x\":[43.26492473795802,47.92163503912569,53.469881642711435],\"y\":[3.4362252297621714,1.4558522605985578,0.6952982953795706],\"z\":[6.286341005790023,6.796335090890499,7.415383919209512],\"type\":\"scatter3d\",\"scene\":\"scene2\"},{\"marker\":{\"color\":\"green\"},\"mode\":\"markers+lines+text\",\"name\":\"Operation\",\"text\":[\"(43.26,3.44,6.00)\",\"(47.92,1.46,6.29)\",\"(53.47,0.70,6.80)\",\"(60.00,0.10,7.42)\"],\"textposition\":\"bottom center\",\"x\":[43.26492473795802,47.92163503912569,53.469881642711435,60.0],\"y\":[3.4362252297621714,1.4558522605985578,0.6952982953795706,0.1],\"z\":[6.0,6.286341005790023,6.796335090890499,7.415383919209512],\"type\":\"scatter3d\",\"scene\":\"scene2\"},{\"marker\":{\"color\":\"blue\"},\"mode\":\"markers\",\"name\":\"Efficiency\",\"x\":[43.26492473795802,47.92163503912569,53.469881642711435],\"y\":[3.4362252297621714,1.4558522605985578,0.6952982953795706],\"z\":[0.7970301342790694,0.5815734767368943,0.4676563032019465],\"type\":\"scatter3d\",\"scene\":\"scene4\"},{\"marker\":{\"color\":\"green\"},\"mode\":\"markers+lines+text\",\"name\":\"Operation\",\"text\":[\"(43.26,3.44,1.00)\",\"(47.92,1.46,0.80)\",\"(53.47,0.70,0.58)\",\"(60.00,0.10,0.47)\"],\"textposition\":\"bottom center\",\"x\":[43.26492473795802,47.92163503912569,53.469881642711435,60.0],\"y\":[3.4362252297621714,1.4558522605985578,0.6952982953795706,0.1],\"z\":[1.0,0.7970301342790694,0.5815734767368943,0.4676563032019465],\"type\":\"scatter3d\",\"scene\":\"scene4\"},{\"marker\":{\"color\":\"blue\"},\"mode\":\"markers\",\"name\":\"Efficiency\",\"x\":[43.26492473795802,47.92163503912569,53.469881642711435],\"y\":[3.4362252297621714,1.4558522605985578,0.6952982953795706],\"z\":[0.9920310618684957,0.9920310618684957,0.9920310618684957],\"type\":\"scatter3d\",\"scene\":\"scene3\"},{\"marker\":{\"color\":\"green\"},\"mode\":\"markers+lines+text\",\"name\":\"Operation\",\"text\":[\"(43.26,3.44,0.99)\",\"(47.92,1.46,0.99)\",\"(53.47,0.70,0.99)\",\"(60.00,0.10,1.00)\"],\"textposition\":\"bottom center\",\"x\":[43.26492473795802,47.92163503912569,53.469881642711435,60.0],\"y\":[3.4362252297621714,1.4558522605985578,0.6952982953795706,0.1],\"z\":[0.9920310618684957,0.9920310618684957,0.9920310618684957,1.0],\"type\":\"scatter3d\",\"scene\":\"scene3\"}],                        {\"template\":{\"data\":{\"histogram2dcontour\":[{\"type\":\"histogram2dcontour\",\"colorbar\":{\"outlinewidth\":0,\"ticks\":\"\"},\"colorscale\":[[0.0,\"#0d0887\"],[0.1111111111111111,\"#46039f\"],[0.2222222222222222,\"#7201a8\"],[0.3333333333333333,\"#9c179e\"],[0.4444444444444444,\"#bd3786\"],[0.5555555555555556,\"#d8576b\"],[0.6666666666666666,\"#ed7953\"],[0.7777777777777778,\"#fb9f3a\"],[0.8888888888888888,\"#fdca26\"],[1.0,\"#f0f921\"]]}],\"choropleth\":[{\"type\":\"choropleth\",\"colorbar\":{\"outlinewidth\":0,\"ticks\":\"\"}}],\"histogram2d\":[{\"type\":\"histogram2d\",\"colorbar\":{\"outlinewidth\":0,\"ticks\":\"\"},\"colorscale\":[[0.0,\"#0d0887\"],[0.1111111111111111,\"#46039f\"],[0.2222222222222222,\"#7201a8\"],[0.3333333333333333,\"#9c179e\"],[0.4444444444444444,\"#bd3786\"],[0.5555555555555556,\"#d8576b\"],[0.6666666666666666,\"#ed7953\"],[0.7777777777777778,\"#fb9f3a\"],[0.8888888888888888,\"#fdca26\"],[1.0,\"#f0f921\"]]}],\"heatmap\":[{\"type\":\"heatmap\",\"colorbar\":{\"outlinewidth\":0,\"ticks\":\"\"},\"colorscale\":[[0.0,\"#0d0887\"],[0.1111111111111111,\"#46039f\"],[0.2222222222222222,\"#7201a8\"],[0.3333333333333333,\"#9c179e\"],[0.4444444444444444,\"#bd3786\"],[0.5555555555555556,\"#d8576b\"],[0.6666666666666666,\"#ed7953\"],[0.7777777777777778,\"#fb9f3a\"],[0.8888888888888888,\"#fdca26\"],[1.0,\"#f0f921\"]]}],\"heatmapgl\":[{\"type\":\"heatmapgl\",\"colorbar\":{\"outlinewidth\":0,\"ticks\":\"\"},\"colorscale\":[[0.0,\"#0d0887\"],[0.1111111111111111,\"#46039f\"],[0.2222222222222222,\"#7201a8\"],[0.3333333333333333,\"#9c179e\"],[0.4444444444444444,\"#bd3786\"],[0.5555555555555556,\"#d8576b\"],[0.6666666666666666,\"#ed7953\"],[0.7777777777777778,\"#fb9f3a\"],[0.8888888888888888,\"#fdca26\"],[1.0,\"#f0f921\"]]}],\"contourcarpet\":[{\"type\":\"contourcarpet\",\"colorbar\":{\"outlinewidth\":0,\"ticks\":\"\"}}],\"contour\":[{\"type\":\"contour\",\"colorbar\":{\"outlinewidth\":0,\"ticks\":\"\"},\"colorscale\":[[0.0,\"#0d0887\"],[0.1111111111111111,\"#46039f\"],[0.2222222222222222,\"#7201a8\"],[0.3333333333333333,\"#9c179e\"],[0.4444444444444444,\"#bd3786\"],[0.5555555555555556,\"#d8576b\"],[0.6666666666666666,\"#ed7953\"],[0.7777777777777778,\"#fb9f3a\"],[0.8888888888888888,\"#fdca26\"],[1.0,\"#f0f921\"]]}],\"surface\":[{\"type\":\"surface\",\"colorbar\":{\"outlinewidth\":0,\"ticks\":\"\"},\"colorscale\":[[0.0,\"#0d0887\"],[0.1111111111111111,\"#46039f\"],[0.2222222222222222,\"#7201a8\"],[0.3333333333333333,\"#9c179e\"],[0.4444444444444444,\"#bd3786\"],[0.5555555555555556,\"#d8576b\"],[0.6666666666666666,\"#ed7953\"],[0.7777777777777778,\"#fb9f3a\"],[0.8888888888888888,\"#fdca26\"],[1.0,\"#f0f921\"]]}],\"mesh3d\":[{\"type\":\"mesh3d\",\"colorbar\":{\"outlinewidth\":0,\"ticks\":\"\"}}],\"scatter\":[{\"fillpattern\":{\"fillmode\":\"overlay\",\"size\":10,\"solidity\":0.2},\"type\":\"scatter\"}],\"parcoords\":[{\"type\":\"parcoords\",\"line\":{\"colorbar\":{\"outlinewidth\":0,\"ticks\":\"\"}}}],\"scatterpolargl\":[{\"type\":\"scatterpolargl\",\"marker\":{\"colorbar\":{\"outlinewidth\":0,\"ticks\":\"\"}}}],\"bar\":[{\"error_x\":{\"color\":\"#2a3f5f\"},\"error_y\":{\"color\":\"#2a3f5f\"},\"marker\":{\"line\":{\"color\":\"#E5ECF6\",\"width\":0.5},\"pattern\":{\"fillmode\":\"overlay\",\"size\":10,\"solidity\":0.2}},\"type\":\"bar\"}],\"scattergeo\":[{\"type\":\"scattergeo\",\"marker\":{\"colorbar\":{\"outlinewidth\":0,\"ticks\":\"\"}}}],\"scatterpolar\":[{\"type\":\"scatterpolar\",\"marker\":{\"colorbar\":{\"outlinewidth\":0,\"ticks\":\"\"}}}],\"histogram\":[{\"marker\":{\"pattern\":{\"fillmode\":\"overlay\",\"size\":10,\"solidity\":0.2}},\"type\":\"histogram\"}],\"scattergl\":[{\"type\":\"scattergl\",\"marker\":{\"colorbar\":{\"outlinewidth\":0,\"ticks\":\"\"}}}],\"scatter3d\":[{\"type\":\"scatter3d\",\"line\":{\"colorbar\":{\"outlinewidth\":0,\"ticks\":\"\"}},\"marker\":{\"colorbar\":{\"outlinewidth\":0,\"ticks\":\"\"}}}],\"scattermapbox\":[{\"type\":\"scattermapbox\",\"marker\":{\"colorbar\":{\"outlinewidth\":0,\"ticks\":\"\"}}}],\"scatterternary\":[{\"type\":\"scatterternary\",\"marker\":{\"colorbar\":{\"outlinewidth\":0,\"ticks\":\"\"}}}],\"scattercarpet\":[{\"type\":\"scattercarpet\",\"marker\":{\"colorbar\":{\"outlinewidth\":0,\"ticks\":\"\"}}}],\"carpet\":[{\"aaxis\":{\"endlinecolor\":\"#2a3f5f\",\"gridcolor\":\"white\",\"linecolor\":\"white\",\"minorgridcolor\":\"white\",\"startlinecolor\":\"#2a3f5f\"},\"baxis\":{\"endlinecolor\":\"#2a3f5f\",\"gridcolor\":\"white\",\"linecolor\":\"white\",\"minorgridcolor\":\"white\",\"startlinecolor\":\"#2a3f5f\"},\"type\":\"carpet\"}],\"table\":[{\"cells\":{\"fill\":{\"color\":\"#EBF0F8\"},\"line\":{\"color\":\"white\"}},\"header\":{\"fill\":{\"color\":\"#C8D4E3\"},\"line\":{\"color\":\"white\"}},\"type\":\"table\"}],\"barpolar\":[{\"marker\":{\"line\":{\"color\":\"#E5ECF6\",\"width\":0.5},\"pattern\":{\"fillmode\":\"overlay\",\"size\":10,\"solidity\":0.2}},\"type\":\"barpolar\"}],\"pie\":[{\"automargin\":true,\"type\":\"pie\"}]},\"layout\":{\"autotypenumbers\":\"strict\",\"colorway\":[\"#636efa\",\"#EF553B\",\"#00cc96\",\"#ab63fa\",\"#FFA15A\",\"#19d3f3\",\"#FF6692\",\"#B6E880\",\"#FF97FF\",\"#FECB52\"],\"font\":{\"color\":\"#2a3f5f\"},\"hovermode\":\"closest\",\"hoverlabel\":{\"align\":\"left\"},\"paper_bgcolor\":\"white\",\"plot_bgcolor\":\"#E5ECF6\",\"polar\":{\"bgcolor\":\"#E5ECF6\",\"angularaxis\":{\"gridcolor\":\"white\",\"linecolor\":\"white\",\"ticks\":\"\"},\"radialaxis\":{\"gridcolor\":\"white\",\"linecolor\":\"white\",\"ticks\":\"\"}},\"ternary\":{\"bgcolor\":\"#E5ECF6\",\"aaxis\":{\"gridcolor\":\"white\",\"linecolor\":\"white\",\"ticks\":\"\"},\"baxis\":{\"gridcolor\":\"white\",\"linecolor\":\"white\",\"ticks\":\"\"},\"caxis\":{\"gridcolor\":\"white\",\"linecolor\":\"white\",\"ticks\":\"\"}},\"coloraxis\":{\"colorbar\":{\"outlinewidth\":0,\"ticks\":\"\"}},\"colorscale\":{\"sequential\":[[0.0,\"#0d0887\"],[0.1111111111111111,\"#46039f\"],[0.2222222222222222,\"#7201a8\"],[0.3333333333333333,\"#9c179e\"],[0.4444444444444444,\"#bd3786\"],[0.5555555555555556,\"#d8576b\"],[0.6666666666666666,\"#ed7953\"],[0.7777777777777778,\"#fb9f3a\"],[0.8888888888888888,\"#fdca26\"],[1.0,\"#f0f921\"]],\"sequentialminus\":[[0.0,\"#0d0887\"],[0.1111111111111111,\"#46039f\"],[0.2222222222222222,\"#7201a8\"],[0.3333333333333333,\"#9c179e\"],[0.4444444444444444,\"#bd3786\"],[0.5555555555555556,\"#d8576b\"],[0.6666666666666666,\"#ed7953\"],[0.7777777777777778,\"#fb9f3a\"],[0.8888888888888888,\"#fdca26\"],[1.0,\"#f0f921\"]],\"diverging\":[[0,\"#8e0152\"],[0.1,\"#c51b7d\"],[0.2,\"#de77ae\"],[0.3,\"#f1b6da\"],[0.4,\"#fde0ef\"],[0.5,\"#f7f7f7\"],[0.6,\"#e6f5d0\"],[0.7,\"#b8e186\"],[0.8,\"#7fbc41\"],[0.9,\"#4d9221\"],[1,\"#276419\"]]},\"xaxis\":{\"gridcolor\":\"white\",\"linecolor\":\"white\",\"ticks\":\"\",\"title\":{\"standoff\":15},\"zerolinecolor\":\"white\",\"automargin\":true,\"zerolinewidth\":2},\"yaxis\":{\"gridcolor\":\"white\",\"linecolor\":\"white\",\"ticks\":\"\",\"title\":{\"standoff\":15},\"zerolinecolor\":\"white\",\"automargin\":true,\"zerolinewidth\":2},\"scene\":{\"xaxis\":{\"backgroundcolor\":\"#E5ECF6\",\"gridcolor\":\"white\",\"linecolor\":\"white\",\"showbackground\":true,\"ticks\":\"\",\"zerolinecolor\":\"white\",\"gridwidth\":2},\"yaxis\":{\"backgroundcolor\":\"#E5ECF6\",\"gridcolor\":\"white\",\"linecolor\":\"white\",\"showbackground\":true,\"ticks\":\"\",\"zerolinecolor\":\"white\",\"gridwidth\":2},\"zaxis\":{\"backgroundcolor\":\"#E5ECF6\",\"gridcolor\":\"white\",\"linecolor\":\"white\",\"showbackground\":true,\"ticks\":\"\",\"zerolinecolor\":\"white\",\"gridwidth\":2}},\"shapedefaults\":{\"line\":{\"color\":\"#2a3f5f\"}},\"annotationdefaults\":{\"arrowcolor\":\"#2a3f5f\",\"arrowhead\":0,\"arrowwidth\":1},\"geo\":{\"bgcolor\":\"white\",\"landcolor\":\"#E5ECF6\",\"subunitcolor\":\"white\",\"showland\":true,\"showlakes\":true,\"lakecolor\":\"white\"},\"title\":{\"x\":0.05},\"mapbox\":{\"style\":\"light\"}}},\"scene\":{\"domain\":{\"x\":[0.0,0.45],\"y\":[0.525,1.0]},\"camera\":{\"eye\":{\"x\":0,\"y\":-2.2,\"z\":0.01},\"projection\":{\"type\":\"orthographic\"}},\"aspectratio\":{\"x\":1,\"y\":1,\"z\":1},\"xaxis\":{\"title\":{\"text\":\"H3PO4_aq\"}},\"yaxis\":{\"title\":{\"text\":\"SO4_aq\"}}},\"scene2\":{\"domain\":{\"x\":[0.55,1.0],\"y\":[0.525,1.0]},\"camera\":{\"eye\":{\"x\":0,\"y\":-2.2,\"z\":0.01},\"projection\":{\"type\":\"orthographic\"}},\"aspectratio\":{\"x\":1,\"y\":1,\"z\":1},\"xaxis\":{\"title\":{\"text\":\"H3PO4_aq\"}},\"yaxis\":{\"title\":{\"text\":\"SO4_aq\"}}},\"scene3\":{\"domain\":{\"x\":[0.0,0.45],\"y\":[0.0,0.475]},\"camera\":{\"eye\":{\"x\":0,\"y\":-2.2,\"z\":0.01},\"projection\":{\"type\":\"orthographic\"}},\"aspectratio\":{\"x\":1,\"y\":1,\"z\":1},\"xaxis\":{\"title\":{\"text\":\"H3PO4_aq\"}},\"yaxis\":{\"title\":{\"text\":\"SO4_aq\"}}},\"scene4\":{\"domain\":{\"x\":[0.55,1.0],\"y\":[0.0,0.475]},\"camera\":{\"eye\":{\"x\":0,\"y\":-2.2,\"z\":0.01},\"projection\":{\"type\":\"orthographic\"}},\"aspectratio\":{\"x\":1,\"y\":1,\"z\":1},\"xaxis\":{\"title\":{\"text\":\"H3PO4_aq\"}},\"yaxis\":{\"title\":{\"text\":\"SO4_aq\"}}},\"annotations\":[{\"font\":{\"size\":16},\"showarrow\":false,\"text\":\"H3PO4_org\",\"x\":0.225,\"xanchor\":\"center\",\"xref\":\"paper\",\"y\":1.0,\"yanchor\":\"bottom\",\"yref\":\"paper\"},{\"font\":{\"size\":16},\"showarrow\":false,\"text\":\"water_org\",\"x\":0.775,\"xanchor\":\"center\",\"xref\":\"paper\",\"y\":1.0,\"yanchor\":\"bottom\",\"yref\":\"paper\"},{\"font\":{\"size\":16},\"showarrow\":false,\"text\":\"solvent_aq\",\"x\":0.225,\"xanchor\":\"center\",\"xref\":\"paper\",\"y\":0.475,\"yanchor\":\"bottom\",\"yref\":\"paper\"},{\"font\":{\"size\":16},\"showarrow\":false,\"text\":\"SO4_org\",\"x\":0.775,\"xanchor\":\"center\",\"xref\":\"paper\",\"y\":0.475,\"yanchor\":\"bottom\",\"yref\":\"paper\"}],\"margin\":{\"l\":0,\"r\":0,\"b\":0,\"t\":30},\"title\":{\"text\":\"\"},\"autosize\":true,\"width\":980,\"height\":980},                        {\"responsive\": true}                    ).then(function(){\n",
              "                            \n",
              "var gd = document.getElementById('58faadf5-81a7-480f-afcc-bf7b0c96c578');\n",
              "var x = new MutationObserver(function (mutations, observer) {{\n",
              "        var display = window.getComputedStyle(gd).display;\n",
              "        if (!display || display === 'none') {{\n",
              "            console.log([gd, 'removed!']);\n",
              "            Plotly.purge(gd);\n",
              "            observer.disconnect();\n",
              "        }}\n",
              "}});\n",
              "\n",
              "// Listen for the removal of the full notebook cells\n",
              "var notebookContainer = gd.closest('#notebook-container');\n",
              "if (notebookContainer) {{\n",
              "    x.observe(notebookContainer, {childList: true});\n",
              "}}\n",
              "\n",
              "// Listen for the clearing of the current output cell\n",
              "var outputEl = gd.closest('.output');\n",
              "if (outputEl) {{\n",
              "    x.observe(outputEl, {childList: true});\n",
              "}}\n",
              "\n",
              "                        })                };                            </script>        </div>\n",
              "</body>\n",
              "</html>"
            ]
          },
          "metadata": {}
        }
      ]
    },
    {
      "cell_type": "markdown",
      "source": [
        "### 7 - Washing2 - water_org=12"
      ],
      "metadata": {
        "id": "P9MJTWCH-Fk-"
      }
    },
    {
      "cell_type": "code",
      "source": [
        "# x_mesh, y_mesh = np.linspace(0, 60, 31), np.linspace(0, 0.2, 31) # expanded x and y extrapolation area observation\n",
        "x_mesh, y_mesh = np.linspace(0, 50, 31), np.linspace(0, 0.15, 31)\n",
        "x_mesh, y_mesh = np.meshgrid(x_mesh, y_mesh)\n",
        "x_mesh4 = x_mesh.flatten().reshape(31*31,1)\n",
        "y_mesh4 = y_mesh.flatten().reshape(31*31,1)\n",
        "mesh4=np.concatenate((x_mesh4, y_mesh4), axis=1)"
      ],
      "metadata": {
        "id": "1RhTalUW-PEr"
      },
      "execution_count": null,
      "outputs": []
    },
    {
      "cell_type": "code",
      "source": [
        "a=np.concatenate((np.zeros([len(mesh4),1]),mesh4), axis=1)"
      ],
      "metadata": {
        "id": "GXB74c8S-PE0"
      },
      "execution_count": null,
      "outputs": []
    },
    {
      "cell_type": "code",
      "source": [
        "mesh_predict_x=np.array([EQUIL_rotem_washing3_2([row]).xout for row in a])\n",
        "mesh_predict_y=np.array([EQUIL_rotem_washing3_2([row]).yout for row in a])\n",
        "mesh_predics4_1=mesh_predict_y[:,:,1]\n",
        "mesh_predics4_2=mesh_predict_y[:,:,0]\n",
        "mesh_predics4_3=mesh_predict_x[:,:,0]\n",
        "mesh_predics4_4=mesh_predict_y[:,:,2]"
      ],
      "metadata": {
        "id": "B-1wYlNs-PE1"
      },
      "execution_count": null,
      "outputs": []
    },
    {
      "cell_type": "code",
      "source": [
        "bat7_1=LLC.Battery(stages_num=6, Oin=90, Ain=29, yin=[10, 14, .07], xin=[0, 0.1, .02], EQUIL=EQUIL_rotem_washing3_2, eff=.7)\n",
        "bat7_1.runs"
      ],
      "metadata": {
        "id": "VWjnHl_T9ZJs"
      },
      "execution_count": null,
      "outputs": []
    },
    {
      "cell_type": "code",
      "source": [
        "table7_1=LLC.BatteryTable(bat7_1).data"
      ],
      "metadata": {
        "id": "vYfseTU19ZJ7"
      },
      "execution_count": null,
      "outputs": []
    },
    {
      "cell_type": "code",
      "source": [
        "fig_equil7_1 = make_subplots(rows=2, cols=2, subplot_titles=('H3PO4_org','water_org','solvent_aq','SO4_org'), column_widths=[0.5, 0.5], vertical_spacing=0.05,\n",
        "                     specs=[[{\"type\": \"scene\"}, {\"type\": \"scene\"}],[{\"type\": \"scene\"}, {\"type\": \"scene\"}]])\n",
        "\n",
        "fig_equil7_1.add_trace(go.Scatter3d(x=data3.H3PO4_aq, y=data3.SO4_aq, z=data3.H3PO4_org, mode='markers', name='H3PO4_org'), 1, 1)\n",
        "fig_equil7_1.add_trace(go.Scatter3d(x=data3.H3PO4_aq, y=data3.SO4_aq, z=data3.water_org, mode='markers', name='water_org'), 1, 2)\n",
        "fig_equil7_1.add_trace(go.Scatter3d(x=data3.H3PO4_aq, y=data3.SO4_aq, z=data3.solvent_aq, mode='markers', name='solvent_aq'), 2, 1)\n",
        "fig_equil7_1.add_trace(go.Scatter3d(x=data3.H3PO4_aq, y=data3.SO4_aq, z=data3.SO4_org, mode='markers', name='SO4_org'), 2, 2)\n",
        "\n",
        "# visib='legendonly'\n",
        "visib=True\n",
        "fig_equil7_1.add_trace(go.Scatter3d(x=x_mesh4[:,0], y=y_mesh4[:,0], z=mesh_predics4_1[:,0], mode='markers',marker_color='green', marker_size=0.5, name='Equilibrium surface', visible=visib),1,1)\n",
        "fig_equil7_1.add_trace(go.Scatter3d(x=x_mesh4[:,0], y=y_mesh4[:,0], z=mesh_predics4_2[:,0], mode='markers',marker_color='green', marker_size=0.5, name='Equilibrium surface', visible=visib),1,2)\n",
        "fig_equil7_1.add_trace(go.Scatter3d(x=x_mesh4[:,0], y=y_mesh4[:,0], z=mesh_predics4_3[:,0], mode='markers',marker_color='green', marker_size=0.5, name='Equilibrium surface', visible=visib),2,1)\n",
        "fig_equil7_1.add_trace(go.Scatter3d(x=x_mesh4[:,0], y=y_mesh4[:,0], z=mesh_predics4_4[:,0], mode='markers',marker_color='green', marker_size=0.5, name='Equilibrium surface', visible=visib),2,2)\n",
        "\n",
        "bat=bat7_1\n",
        "# n, row, col =[1,0,2], [1,1,2], [1,2,2] # H3PO4_org, water_org, SO4_org\n",
        "# for i in range(3):\n",
        "#   fig_equil6_1.add_trace(go.Scatter3d(x=bat.xout_list[:,1], y=bat.xout_list[:,2], z=bat.yout_list[:,n[i]], mode='markers', marker_color='blue', name='Efficiency'), row[i], col[i])\n",
        "#   x,y,z=np.concatenate((bat.xout_list[:,1], [bat.xin_list[-1,1]])),np.concatenate((bat.xout_list[:,2],[bat.xin_list[-1,2]])), np.concatenate((bat.yin_list[:,n[i]],[bat.yout_list[-1,n[i]]]))\n",
        "#   fig_equil6_1.add_trace(go.Scatter3d(x=x, y=y, z=z, mode = \"markers+lines+text\", text= ['({:.2f},{:.2f},{:.2f})'.format(a,b,c) for a,b,c in zip(x,y,z)], textposition ='bottom center', name='Operation', marker_color='green'),row[i],col[i])\n",
        "\n",
        "# H3PO4_org\n",
        "fig_equil7_1.add_trace(go.Scatter3d(x=bat.xout_list[:,1], y=bat.xout_list[:,2], z=bat.yout_list[:,1], mode='markers', marker_color='blue', name='Efficiency'), 1, 1)\n",
        "x,y,z=np.concatenate((bat.xout_list[:,1], [bat.xin_list[-1,1]])),np.concatenate((bat.xout_list[:,2],[bat.xin_list[-1,2]])), np.concatenate((bat.yin_list[:,1],[bat.yout_list[-1,1]]))\n",
        "fig_equil7_1.add_trace(go.Scatter3d(x=x, y=y, z=z, mode = \"markers+lines+text\", text= ['({:.2f},{:.2f},{:.2f})'.format(a,b,c) for a,b,c in zip(x,y,z)], textposition ='bottom center', name='Operation', marker_color='green'),1,1)\n",
        "# water_org\n",
        "fig_equil7_1.add_trace(go.Scatter3d(x=bat.xout_list[:,1], y=bat.xout_list[:,2], z=bat.yout_list[:,0], mode='markers', marker_color='blue', name='Efficiency'), 1, 2)\n",
        "x,y,z=np.concatenate((bat.xout_list[:,1], [bat.xin_list[-1,1]])),np.concatenate((bat.xout_list[:,2],[bat.xin_list[-1,2]])), np.concatenate((bat.yin_list[:,0],[bat.yout_list[-1,0]]))\n",
        "fig_equil7_1.add_trace(go.Scatter3d(x=x, y=y, z=z, mode = \"markers+lines+text\", text= ['({:.2f},{:.2f},{:.2f})'.format(a,b,c) for a,b,c in zip(x,y,z)], textposition ='bottom center', name='Operation', marker_color='green'),1,2)\n",
        "# SO4_org\n",
        "fig_equil7_1.add_trace(go.Scatter3d(x=bat.xout_list[:,1], y=bat.xout_list[:,2], z=bat.yout_list[:,2], mode='markers', marker_color='blue', name='Efficiency'), 2, 2)\n",
        "x,y,z=np.concatenate((bat.xout_list[:,1], [bat.xin_list[-1,1]])),np.concatenate((bat.xout_list[:,2],[bat.xin_list[-1,2]])), np.concatenate((bat.yin_list[:,2],[bat.yout_list[-1,2]]))\n",
        "fig_equil7_1.add_trace(go.Scatter3d(x=x, y=y, z=z, mode = \"markers+lines+text\", text= ['({:.2f},{:.2f},{:.2f})'.format(a,b,c) for a,b,c in zip(x,y,z)], textposition ='bottom center', name='Operation', marker_color='green'),2,2)\n",
        "\n",
        "# solvent_aq\n",
        "fig_equil7_1.add_trace(go.Scatter3d(x=bat.xout_list[:,1], y=bat.xout_list[:,2], z=bat.xout_list[:,0], mode='markers', marker_color='blue', name='Efficiency'), 2, 1)\n",
        "x,y,z=np.concatenate((bat.xout_list[:,1], [bat.xin_list[-1,1]])),np.concatenate((bat.xout_list[:,2],[bat.xin_list[-1,2]])), np.concatenate((bat.xout_list[:,0],[bat.xin_list[-1,0]])) # aqueous -- different operation line order\n",
        "fig_equil7_1.add_trace(go.Scatter3d(x=x, y=y, z=z, mode = \"markers+lines+text\", text= ['({:.2f},{:.2f},{:.2f})'.format(a,b,c) for a,b,c in zip(x,y,z)], textposition ='bottom center', name='Operation', marker_color='green'),2,1)\n",
        "\n",
        "\n",
        "fig_equil7_1.update_layout(title='', autosize=True,\n",
        "                  width=980, height=980,\n",
        "                  margin=dict(l=0, r=0, b=0, t=30),\n",
        "                  )\n",
        "\n",
        "fig_equil7_1.update_layout(\n",
        "    # scene1_zaxis_range=[0,10],\n",
        "    # scene2_zaxis_range=[10,14],\n",
        "    # scene3_zaxis_range=[0,3],\n",
        "    # scene4_zaxis_range=[0,.1],\n",
        "    )\n",
        "\n",
        "# fig_equil7_1.update_scenes(xaxis_title='H3PO4_aq', yaxis_title='SO4_aq', camera_eye=dict(x=1.5, y=-1.5, z=1.5))\n",
        "fig_equil7_1.update_scenes(xaxis_title='H3PO4_aq', yaxis_title='SO4_aq', camera_eye=dict(x=0, y=-2.2, z=0.01))\n",
        "fig_equil7_1.update_scenes(camera_projection_type=\"orthographic\")\n",
        "\n",
        "fig_equil7_1.show()"
      ],
      "metadata": {
        "id": "X-PLgl7M9ZJ8"
      },
      "execution_count": null,
      "outputs": []
    },
    {
      "cell_type": "markdown",
      "source": [
        "### 8 - Washing3 - compare with plant data"
      ],
      "metadata": {
        "id": "bBnkhPOA6she"
      }
    },
    {
      "cell_type": "markdown",
      "source": [
        "Profile data"
      ],
      "metadata": {
        "id": "1TCpog-CovTx"
      }
    },
    {
      "cell_type": "code",
      "source": [
        "data=CopyPasteToArray('''\n",
        "x\ty\n",
        "0\t0.0531\n",
        "3.01\t0.26\n",
        "10.8\t1.22\n",
        "20.69\t6.02\n",
        "33.12\t7.77\n",
        "34.9\t8.86\n",
        "35.81\t10.3\n",
        "''')\n",
        "profile_data1=pd.DataFrame(data[1:], columns=data[0])"
      ],
      "metadata": {
        "id": "7qJTsYq6oxY4"
      },
      "execution_count": null,
      "outputs": []
    },
    {
      "cell_type": "markdown",
      "source": [
        "Plant data"
      ],
      "metadata": {
        "id": "046CELuGH78S"
      }
    },
    {
      "cell_type": "code",
      "source": [
        "PS_P2O5=11.6\n",
        "WS_P2O5=0.2\n",
        "W_flow=23.4\n",
        "Prod_flow=48.4 # =36.7*1.32\n",
        "Prod_P2O5=37.6\n",
        "\n",
        "PS_flow=(Prod_flow*Prod_P2O5+WS_P2O5*(W_flow-Prod_flow))/(PS_P2O5-WS_P2O5)\n",
        "WS_flow=PS_flow+W_flow-Prod_flow\n",
        "P2O5_recovery=Prod_flow*Prod_P2O5/(PS_flow*PS_P2O5)\n",
        "print ('Purified solvent flow =',f\"{PS_flow:.1f}\",'ton/hr,  ', 'Washed solvent flow =',f\"{WS_flow:.1f}\",'ton/hr  ', 'P2O5 recovery =',f\"{P2O5_recovery:.1%}\")"
      ],
      "metadata": {
        "id": "iGhwHtWg74sM"
      },
      "execution_count": null,
      "outputs": []
    },
    {
      "cell_type": "code",
      "source": [
        "summary_table8=pd.DataFrame([PS_flow,PS_P2O5,WS_flow,WS_P2O5,W_flow,Prod_flow,Prod_P2O5,f\"{P2O5_recovery:.1%}\",6,'---', '---'],\n",
        "                        index=['PS_flow','PS_P2O5','WS_flow','WS_P2O5','W_flow','Prod_flow','Prod_P2O5','P2O5_recovery','Stages_num','Efficiency','Equilibrium'],\n",
        "                        columns=['Plant data'])\n",
        "summary_table8"
      ],
      "metadata": {
        "id": "PKKxCNU-dNix"
      },
      "execution_count": null,
      "outputs": []
    },
    {
      "cell_type": "markdown",
      "source": [
        "[0.76853034 3.57952069] root,\n",
        "[0.75617284 3.26131687] direct,\n",
        "[0.77263374 3.61111111] direct *10,\n",
        "[0.77057613 3.48536808 2.34910837] direct entrain"
      ],
      "metadata": {
        "id": "yMzGpKDUIhiT"
      }
    },
    {
      "cell_type": "code",
      "source": [
        "bat8_1=LLC.Battery(stages_num=6, Oin=PS_flow, Ain=W_flow, yin=[12,PS_P2O5/71*98,.07], xin=[0,0,.02], EQUIL=EQUIL_rotem_washing3_3, eff=.77, convergence=1E-3, entrainment_perc_out=[3.6,0])\n",
        "bat8_1.runs"
      ],
      "metadata": {
        "id": "i-nfLu7E6shf"
      },
      "execution_count": null,
      "outputs": []
    },
    {
      "cell_type": "code",
      "source": [
        "bat=bat8_1\n",
        "summary_table8['Model data-0.75-3']=[bat.Oin,bat.yin[1]/98*71,bat.Oout,bat.yout[1]/98*71,bat.Ain,bat.Aout,bat.xout[1]/98*71,f\"{bat.Aout*bat.xout[1]/(bat.Oin*bat.yin[1]):.1%}\", f\"{bat.stages_num:.0f}\", bat.eff_list[0,1], str(bat.EQUIL)[17:-2]]\n",
        "summary_table8"
      ],
      "metadata": {
        "id": "OG1E8jAtDqTe"
      },
      "execution_count": null,
      "outputs": []
    },
    {
      "cell_type": "code",
      "source": [
        "table8_1=LLC.BatteryTable(bat8_1).data"
      ],
      "metadata": {
        "id": "pPeEQpzb6shf"
      },
      "execution_count": null,
      "outputs": []
    },
    {
      "cell_type": "code",
      "source": [
        "## P2O5\n",
        "bat=bat8_1\n",
        "summary_table=summary_table8\n",
        "fig8_1 = go.Figure()\n",
        "n=1 #H3PO4\n",
        "fig8_1.add_trace(go.Scatter(x=[0,summary_table['Plant data'].loc['Prod_P2O5']], y=[summary_table['Plant data'].loc['WS_P2O5'],summary_table['Plant data'].loc['PS_P2O5']], name='Plant data', marker_color='orange'))\n",
        "fig8_1.add_trace(go.Scatter(x=np.concatenate((bat.xout_list[:,n]*71/98, [bat.xin_list[-1,n]/98*71])), y=np.concatenate((bat.yin_list[:,n]/98*71, [bat.yout_list[-1,n]/98*71])), mode = \"markers+lines+text\",\n",
        "                          text= ['({:.2f},{:.2f})'.format(a,b) for a,b in zip(np.concatenate((bat.xout_list[:,n]/98*71, [bat.xin_list[-1,n]/98*71])),np.concatenate((bat.yin_list[:,n]/98*71, [bat.yout_list[-1,n]/98*71])))],\n",
        "                          textposition ='bottom center', name='Model data', marker_color='green'))\n",
        "fig8_1.add_trace(go.Scatter(x=bat.xout_list[:,n]/98*71, y=bat.yout_list[:,n]/98*71, name='Efficiency', marker_color='blue'))\n",
        "fig8_1.add_trace(go.Scatter(x=bat.xout_list[:,n]/98*71, y=bat.yout_tag_list[:,n]/98*71, name='Equilibrium', marker_color='black'))\n",
        "fig8_1.add_trace(go.Scatter(x=profile_data1.x, y=profile_data1.y, name='Plant profile data', marker_color='grey', visible='legendonly'))\n",
        "\n",
        "fig8_1.update_xaxes(title_text=\"%P2O5 aq\")#, range=[0.5, 2])\n",
        "fig8_1.update_yaxes(title_text=\"%P2O5 org\")#, range=[0.5, 2])\n",
        "# fig8_1.update_layout(title='', width=1200, height=600,)\n",
        "fig8_1.show()"
      ],
      "metadata": {
        "id": "4WB4LmX_DInR"
      },
      "execution_count": null,
      "outputs": []
    },
    {
      "cell_type": "code",
      "source": [
        "# x_mesh, y_mesh = np.linspace(0, 60, 31), np.linspace(0, 0.2, 31) # expanded x and y extrapolation area observation\n",
        "x_mesh, y_mesh = np.linspace(0, 50, 31), np.linspace(0, 0.15, 31)\n",
        "x_mesh, y_mesh = np.meshgrid(x_mesh, y_mesh)\n",
        "x_mesh4 = x_mesh.flatten().reshape(31*31,1)\n",
        "y_mesh4 = y_mesh.flatten().reshape(31*31,1)\n",
        "mesh4=np.concatenate((x_mesh4, y_mesh4), axis=1)"
      ],
      "metadata": {
        "id": "8afp32I_GRq-"
      },
      "execution_count": null,
      "outputs": []
    },
    {
      "cell_type": "code",
      "source": [
        "a=np.concatenate((np.zeros([len(mesh4),1]),mesh4), axis=1)"
      ],
      "metadata": {
        "id": "4yt9kWILGRq-"
      },
      "execution_count": null,
      "outputs": []
    },
    {
      "cell_type": "code",
      "source": [
        "mesh_predict_x=np.array([EQUIL_rotem_washing3_3([row]).xout for row in a])\n",
        "mesh_predict_y=np.array([EQUIL_rotem_washing3_3([row]).yout for row in a])\n",
        "mesh_predics4_1=mesh_predict_y[:,:,1]\n",
        "mesh_predics4_2=mesh_predict_y[:,:,0]\n",
        "mesh_predics4_3=mesh_predict_x[:,:,0]\n",
        "mesh_predics4_4=mesh_predict_y[:,:,2]"
      ],
      "metadata": {
        "id": "u2wN0iezGRq-"
      },
      "execution_count": null,
      "outputs": []
    },
    {
      "cell_type": "code",
      "source": [
        "fig_equil8_1 = make_subplots(rows=2, cols=2, subplot_titles=('H3PO4_org','water_org','solvent_aq','SO4_org'), column_widths=[0.5, 0.5], vertical_spacing=0.05,\n",
        "                     specs=[[{\"type\": \"scene\"}, {\"type\": \"scene\"}],[{\"type\": \"scene\"}, {\"type\": \"scene\"}]])\n",
        "\n",
        "fig_equil8_1.add_trace(go.Scatter3d(x=data3.H3PO4_aq, y=data3.SO4_aq, z=data3.H3PO4_org, mode='markers', name='H3PO4_org'), 1, 1)\n",
        "fig_equil8_1.add_trace(go.Scatter3d(x=data3.H3PO4_aq, y=data3.SO4_aq, z=data3.water_org, mode='markers', name='water_org'), 1, 2)\n",
        "fig_equil8_1.add_trace(go.Scatter3d(x=data3.H3PO4_aq, y=data3.SO4_aq, z=data3.solvent_aq, mode='markers', name='solvent_aq'), 2, 1)\n",
        "fig_equil8_1.add_trace(go.Scatter3d(x=data3.H3PO4_aq, y=data3.SO4_aq, z=data3.SO4_org, mode='markers', name='SO4_org'), 2, 2)\n",
        "\n",
        "# visib='legendonly'\n",
        "visib=True\n",
        "fig_equil8_1.add_trace(go.Scatter3d(x=x_mesh4[:,0], y=y_mesh4[:,0], z=mesh_predics4_1[:,0], mode='markers',marker_color='green', marker_size=0.5, name='Equilibrium surface', visible=visib),1,1)\n",
        "fig_equil8_1.add_trace(go.Scatter3d(x=x_mesh4[:,0], y=y_mesh4[:,0], z=mesh_predics4_2[:,0], mode='markers',marker_color='green', marker_size=0.5, name='Equilibrium surface', visible=visib),1,2)\n",
        "fig_equil8_1.add_trace(go.Scatter3d(x=x_mesh4[:,0], y=y_mesh4[:,0], z=mesh_predics4_3[:,0], mode='markers',marker_color='green', marker_size=0.5, name='Equilibrium surface', visible=visib),2,1)\n",
        "fig_equil8_1.add_trace(go.Scatter3d(x=x_mesh4[:,0], y=y_mesh4[:,0], z=mesh_predics4_4[:,0], mode='markers',marker_color='green', marker_size=0.5, name='Equilibrium surface', visible=visib),2,2)\n",
        "\n",
        "bat=bat8_1\n",
        "# n, row, col =[1,0,2], [1,1,2], [1,2,2] # H3PO4_org, water_org, SO4_org\n",
        "# for i in range(3):\n",
        "#   fig_equil6_1.add_trace(go.Scatter3d(x=bat.xout_list[:,1], y=bat.xout_list[:,2], z=bat.yout_list[:,n[i]], mode='markers', marker_color='blue', name='Efficiency'), row[i], col[i])\n",
        "#   x,y,z=np.concatenate((bat.xout_list[:,1], [bat.xin_list[-1,1]])),np.concatenate((bat.xout_list[:,2],[bat.xin_list[-1,2]])), np.concatenate((bat.yin_list[:,n[i]],[bat.yout_list[-1,n[i]]]))\n",
        "#   fig_equil6_1.add_trace(go.Scatter3d(x=x, y=y, z=z, mode = \"markers+lines+text\", text= ['({:.2f},{:.2f},{:.2f})'.format(a,b,c) for a,b,c in zip(x,y,z)], textposition ='bottom center', name='Operation', marker_color='green'),row[i],col[i])\n",
        "\n",
        "# H3PO4_org\n",
        "fig_equil8_1.add_trace(go.Scatter3d(x=bat.xout_list[:,1], y=bat.xout_list[:,2], z=bat.yout_list[:,1], mode='markers', marker_color='blue', name='Efficiency'), 1, 1)\n",
        "x,y,z=np.concatenate((bat.xout_list[:,1], [bat.xin_list[-1,1]])),np.concatenate((bat.xout_list[:,2],[bat.xin_list[-1,2]])), np.concatenate((bat.yin_list[:,1],[bat.yout_list[-1,1]]))\n",
        "fig_equil8_1.add_trace(go.Scatter3d(x=x, y=y, z=z, mode = \"markers+lines+text\", text= ['({:.2f},{:.2f},{:.2f})'.format(a,b,c) for a,b,c in zip(x,y,z)], textposition ='bottom center', name='Operation', marker_color='green'),1,1)\n",
        "# water_org\n",
        "fig_equil8_1.add_trace(go.Scatter3d(x=bat.xout_list[:,1], y=bat.xout_list[:,2], z=bat.yout_list[:,0], mode='markers', marker_color='blue', name='Efficiency'), 1, 2)\n",
        "x,y,z=np.concatenate((bat.xout_list[:,1], [bat.xin_list[-1,1]])),np.concatenate((bat.xout_list[:,2],[bat.xin_list[-1,2]])), np.concatenate((bat.yin_list[:,0],[bat.yout_list[-1,0]]))\n",
        "fig_equil8_1.add_trace(go.Scatter3d(x=x, y=y, z=z, mode = \"markers+lines+text\", text= ['({:.2f},{:.2f},{:.2f})'.format(a,b,c) for a,b,c in zip(x,y,z)], textposition ='bottom center', name='Operation', marker_color='green'),1,2)\n",
        "# SO4_org\n",
        "fig_equil8_1.add_trace(go.Scatter3d(x=bat.xout_list[:,1], y=bat.xout_list[:,2], z=bat.yout_list[:,2], mode='markers', marker_color='blue', name='Efficiency'), 2, 2)\n",
        "x,y,z=np.concatenate((bat.xout_list[:,1], [bat.xin_list[-1,1]])),np.concatenate((bat.xout_list[:,2],[bat.xin_list[-1,2]])), np.concatenate((bat.yin_list[:,2],[bat.yout_list[-1,2]]))\n",
        "fig_equil8_1.add_trace(go.Scatter3d(x=x, y=y, z=z, mode = \"markers+lines+text\", text= ['({:.2f},{:.2f},{:.2f})'.format(a,b,c) for a,b,c in zip(x,y,z)], textposition ='bottom center', name='Operation', marker_color='green'),2,2)\n",
        "\n",
        "# solvent_aq\n",
        "fig_equil8_1.add_trace(go.Scatter3d(x=bat.xout_list[:,1], y=bat.xout_list[:,2], z=bat.xout_list[:,0], mode='markers', marker_color='blue', name='Efficiency'), 2, 1)\n",
        "x,y,z=np.concatenate((bat.xout_list[:,1], [bat.xin_list[-1,1]])),np.concatenate((bat.xout_list[:,2],[bat.xin_list[-1,2]])), np.concatenate((bat.xout_list[:,0],[bat.xin_list[-1,0]])) # aqueous -- different operation line order\n",
        "fig_equil8_1.add_trace(go.Scatter3d(x=x, y=y, z=z, mode = \"markers+lines+text\", text= ['({:.2f},{:.2f},{:.2f})'.format(a,b,c) for a,b,c in zip(x,y,z)], textposition ='bottom center', name='Operation', marker_color='green'),2,1)\n",
        "\n",
        "\n",
        "fig_equil8_1.update_layout(title='', autosize=True,\n",
        "                  width=980, height=980,\n",
        "                  margin=dict(l=0, r=0, b=0, t=30),\n",
        "                  )\n",
        "\n",
        "fig_equil8_1.update_layout(\n",
        "    # scene1_zaxis_range=[0,10],\n",
        "    # scene2_zaxis_range=[10,14],\n",
        "    # scene3_zaxis_range=[0,3],\n",
        "    # scene4_zaxis_range=[0,.1],\n",
        "    )\n",
        "\n",
        "# fig_equil8_1.update_scenes(xaxis_title='H3PO4_aq', yaxis_title='SO4_aq', camera_eye=dict(x=1.5, y=-1.5, z=1.5))\n",
        "fig_equil8_1.update_scenes(xaxis_title='H3PO4_aq', yaxis_title='SO4_aq', camera_eye=dict(x=0, y=-2.2, z=0.01))\n",
        "fig_equil8_1.update_scenes(camera_projection_type=\"orthographic\")\n",
        "\n",
        "fig_equil8_1.show()"
      ],
      "metadata": {
        "id": "y7y1JXMd6shf"
      },
      "execution_count": null,
      "outputs": []
    },
    {
      "cell_type": "markdown",
      "source": [
        "### 10 - Washing5 - optimize.direct()"
      ],
      "metadata": {
        "id": "HaOjizc9-MU4"
      }
    },
    {
      "cell_type": "markdown",
      "source": [
        "Plant data"
      ],
      "metadata": {
        "id": "dQfmjUDn-MU6"
      }
    },
    {
      "cell_type": "code",
      "source": [
        "PS_P2O5=11.6\n",
        "WS_P2O5=0.2\n",
        "W_flow=23.4\n",
        "Prod_flow=48.4 # =36.7*1.32\n",
        "Prod_P2O5=37.6\n",
        "\n",
        "PS_flow=(Prod_flow*Prod_P2O5+WS_P2O5*(W_flow-Prod_flow))/(PS_P2O5-WS_P2O5)\n",
        "WS_flow=PS_flow+W_flow-Prod_flow\n",
        "P2O5_recovery=Prod_flow*Prod_P2O5/(PS_flow*PS_P2O5)\n",
        "print ('Purified solvent flow =',f\"{PS_flow:.1f}\",'ton/hr,  ', 'Washed solvent flow =',f\"{WS_flow:.1f}\",'ton/hr  ', 'P2O5 recovery =',f\"{P2O5_recovery:.1%}\")"
      ],
      "metadata": {
        "id": "putugCqs-MU6"
      },
      "execution_count": null,
      "outputs": []
    },
    {
      "cell_type": "code",
      "source": [
        "summary_table10=pd.DataFrame([PS_flow,PS_P2O5,WS_flow,WS_P2O5,W_flow,Prod_flow,Prod_P2O5,f\"{P2O5_recovery:.1%}\",6,'---', '---'],\n",
        "                        index=['PS_flow','PS_P2O5','WS_flow','WS_P2O5','W_flow','Prod_flow','Prod_P2O5','P2O5_recovery','Stages_num','Efficiency','Equilibrium'],\n",
        "                        columns=['Plant data'])\n",
        "summary_table10"
      ],
      "metadata": {
        "id": "B9cyOby0-MU6"
      },
      "execution_count": null,
      "outputs": []
    },
    {
      "cell_type": "markdown",
      "source": [
        "#### slope(entr,eff)"
      ],
      "metadata": {
        "id": "sBG0fLuhKXKJ"
      }
    },
    {
      "cell_type": "markdown",
      "source": [
        "נמצא שהתלות של השיפוע של קו הפעולה תלוי באחוז סחיפות בקשר ליניארי וביעילות בקשר\n",
        "מרובע. מחשבים פרמטרים של פונקציה זאת\n",
        "\n",
        "slope = a + b * entr + c * eff + d * eff^2\n",
        "\n",
        "בשלב ראשון מוסיפים עמודה עם יעילות בריבוע\n",
        "\n",
        "מתוך הריכוזים של התהליך מחשבים שיפוע של התהליך. מוצאים קשר בין סחיפות ויעילות.\n",
        "\n",
        "entrain=(slope_proc-C[0]-C[2]*eff-C[3]*eff**2)/C[1]\n",
        "\n",
        "האופטימיזציה הופכת לאחת עם משתנה בודד."
      ],
      "metadata": {
        "id": "BVGDEk10denU"
      }
    },
    {
      "cell_type": "code",
      "source": [
        "## P2O5\n",
        "summary_table=summary_table10\n",
        "fig10_1 = go.Figure()\n",
        "n=1 #H3PO4\n",
        "\n",
        "for entr in [2.6, 3.6, 4.6]:\n",
        "  for eff in [0.67,0.77,0.87]:\n",
        "    bat=LLC.Battery(stages_num=6, Oin=PS_flow, Ain=W_flow, yin=[12,PS_P2O5/71*98,.07], xin=[0,0,.02], EQUIL=EQUIL_rotem_washing3_3, eff=eff, convergence=1E-3, entrainment_perc_out=[entr,0])\n",
        "    print ('entr:', entr, '  eff:', eff, '  slope:', (bat.yin[1]-bat.yout[1])/(bat.xout[1]-bat.xin[1]))\n",
        "    fig10_1.add_trace(go.Scatter(x=np.concatenate((bat.xout_list[:,n]*71/98, [bat.xin_list[-1,n]/98*71])), y=np.concatenate((bat.yin_list[:,n]/98*71, [bat.yout_list[-1,n]/98*71])), mode = \"markers+lines+text\",\n",
        "                          # text= ['({:.2f},{:.2f})'.format(a,b) for a,b in zip(np.concatenate((bat.xout_list[:,n]/98*71, [bat.xin_list[-1,n]/98*71])),np.concatenate((bat.yin_list[:,n]/98*71, [bat.yout_list[-1,n]/98*71])))],\n",
        "                          textposition ='bottom center', name='entr:'+str(entr)+', '+'eff:'+str(eff)))\n",
        "\n",
        "bat=LLC.Battery(stages_num=6, Oin=PS_flow, Ain=W_flow, yin=[12,PS_P2O5/71*98,.07], xin=[0,0,.02], EQUIL=EQUIL_rotem_washing3_3, eff=.77, convergence=1E-3, entrainment_perc_out=[3.6,0])\n",
        "fig10_1.add_trace(go.Scatter(x=[0,summary_table['Plant data'].loc['Prod_P2O5']], y=[summary_table['Plant data'].loc['WS_P2O5'],summary_table['Plant data'].loc['PS_P2O5']], name='Plant data', marker_color='orange'))\n",
        "fig10_1.add_trace(go.Scatter(x=np.concatenate((bat.xout_list[:,n]*71/98, [bat.xin_list[-1,n]/98*71])), y=np.concatenate((bat.yin_list[:,n]/98*71, [bat.yout_list[-1,n]/98*71])), mode = \"markers+lines+text\",\n",
        "                          text= ['({:.2f},{:.2f})'.format(a,b) for a,b in zip(np.concatenate((bat.xout_list[:,n]/98*71, [bat.xin_list[-1,n]/98*71])),np.concatenate((bat.yin_list[:,n]/98*71, [bat.yout_list[-1,n]/98*71])))],\n",
        "                          textposition ='bottom center', name='Model data', marker_color='green'))\n",
        "fig10_1.add_trace(go.Scatter(x=bat.xout_list[:,n]/98*71, y=bat.yout_list[:,n]/98*71, name='Efficiency', marker_color='blue'))\n",
        "fig10_1.add_trace(go.Scatter(x=bat.xout_list[:,n]/98*71, y=bat.yout_tag_list[:,n]/98*71, name='Equilibrium', marker_color='black'))\n",
        "\n",
        "fig10_1.update_xaxes(title_text=\"%P2O5 aq\")#, range=[0.5, 2])\n",
        "fig10_1.update_yaxes(title_text=\"%P2O5 org\")#, range=[0.5, 2])\n",
        "# fig10_1.update_layout(title='', width=1200, height=600,)\n",
        "fig10_1.show()"
      ],
      "metadata": {
        "id": "U8B8ltEQBeGl"
      },
      "execution_count": null,
      "outputs": []
    },
    {
      "cell_type": "code",
      "source": [
        "slopes=[]\n",
        "for entr in [3.6, 2.6, 4.6]: # לינארי -- מספיק 2\n",
        "  for eff in [0.77,0.67,0.87]: # פורבולה -- צריך 3\n",
        "    bat=LLC.Battery(stages_num=6, Oin=PS_flow, Ain=W_flow, yin=[12,PS_P2O5/71*98,.07], xin=[0,0,.02], EQUIL=EQUIL_rotem_washing3_3, eff=eff, convergence=1E-3, entrainment_perc_out=[entr,0])\n",
        "    slope=(bat.yin[1]-bat.yout[1])/(bat.xout[1]-bat.xin[1]) # שיפוע של קו הפעולה\n",
        "    slopes.append([entr, eff, slope])\n",
        "    # print ('entr:', entr, '  eff:', eff, '  slope:', slope)\n",
        "arr=np.array(slopes)\n",
        "arr"
      ],
      "metadata": {
        "id": "F5s4rm6mcMfU"
      },
      "execution_count": null,
      "outputs": []
    },
    {
      "cell_type": "code",
      "source": [
        "fig=go.Figure()\n",
        "fig.add_trace(go.Scatter3d(x=arr[:,0], y=arr[:,1], z=arr[:,2], mode = \"markers\"))\n",
        "fig.show()"
      ],
      "metadata": {
        "id": "o-xfdhwNdFuN"
      },
      "execution_count": null,
      "outputs": []
    },
    {
      "cell_type": "code",
      "source": [
        "arr_mod=np.c_[np.ones([len(arr),1]),arr[:,0:2], arr[:,1]**2, arr[:,2]]\n",
        "arr_mod"
      ],
      "metadata": {
        "id": "7aJ7-6kSkGfR"
      },
      "execution_count": null,
      "outputs": []
    },
    {
      "cell_type": "code",
      "source": [
        "rows=[0,1,2,3]\n",
        "A=arr_mod[rows,0:4]\n",
        "B=arr_mod[rows,4]\n",
        "C=np.dot(np.linalg.inv(A),B) # מחשבים ערכים של עמודה אחרונה (קו הפעולה) מתוך עמודות ראשונות\n",
        "C"
      ],
      "metadata": {
        "id": "yJFwecz8tv90"
      },
      "execution_count": null,
      "outputs": []
    },
    {
      "cell_type": "code",
      "source": [
        "pred=np.dot(arr_mod[:,0:4],C)\n",
        "pred"
      ],
      "metadata": {
        "id": "9Qrh2ZLcu863"
      },
      "execution_count": null,
      "outputs": []
    },
    {
      "cell_type": "code",
      "source": [
        "fig=go.Figure()\n",
        "fig.add_trace(go.Scatter3d(x=arr[:,0], y=arr[:,1], z=arr[:,2], mode = \"markers\"))\n",
        "# fig.add_trace(go.Scatter3d(x=arr[rows,0], y=arr[rows,1], z=pred[rows], mode = \"markers\"))\n",
        "fig.add_trace(go.Scatter3d(x=arr[:,0], y=arr[:,1], z=pred, mode = \"markers\"))\n",
        "\n",
        "fig.show()"
      ],
      "metadata": {
        "id": "f6ozXvc1w4hV"
      },
      "execution_count": null,
      "outputs": []
    },
    {
      "cell_type": "markdown",
      "source": [
        "#### together"
      ],
      "metadata": {
        "id": "uf5Ejgx3gMf_"
      }
    },
    {
      "cell_type": "markdown",
      "source": [
        "Plant data"
      ],
      "metadata": {
        "id": "Vqv4IC2Bglmz"
      }
    },
    {
      "cell_type": "code",
      "source": [
        "PS_P2O5=11.6\n",
        "WS_P2O5=0.2\n",
        "W_flow=23.4\n",
        "Prod_flow=48.4 # =36.7*1.32\n",
        "Prod_P2O5=37.6\n",
        "PS_flow=(Prod_flow*Prod_P2O5+WS_P2O5*(W_flow-Prod_flow))/(PS_P2O5-WS_P2O5)\n",
        "WS_flow=PS_flow+W_flow-Prod_flow\n",
        "P2O5_recovery=Prod_flow*Prod_P2O5/(PS_flow*PS_P2O5)\n",
        "print ('Purified solvent flow =',f\"{PS_flow:.1f}\",'ton/hr,  ', 'Washed solvent flow =',f\"{WS_flow:.1f}\",'ton/hr  ', 'P2O5 recovery =',f\"{P2O5_recovery:.1%}\")\n",
        "\n",
        "slope_proc=(PS_P2O5-WS_P2O5)/Prod_P2O5"
      ],
      "metadata": {
        "id": "hWTWAHNZgQKJ"
      },
      "execution_count": null,
      "outputs": []
    },
    {
      "cell_type": "code",
      "source": [
        "summary_table10_1=pd.DataFrame([PS_flow,PS_P2O5,WS_flow,WS_P2O5,W_flow,Prod_flow,Prod_P2O5,f\"{P2O5_recovery:.1%}\",6,'---', '---'],\n",
        "                        index=['PS_flow','PS_P2O5','WS_flow','WS_P2O5','W_flow','Prod_flow','Prod_P2O5','P2O5_recovery','Stages_num','Efficiency','Equilibrium'],\n",
        "                        columns=['Plant data'])\n",
        "summary_table10_1"
      ],
      "metadata": {
        "id": "d14J6ejCicvM"
      },
      "execution_count": null,
      "outputs": []
    },
    {
      "cell_type": "markdown",
      "source": [
        "Slope(entrain,eff)"
      ],
      "metadata": {
        "id": "_eQ4gKH1gn4A"
      }
    },
    {
      "cell_type": "markdown",
      "source": [
        "נמצא שהתלות של השיפוע של קו הפעולה תלוי באחוז סחיפות בקשר ליניארי וביעילות בקשר\n",
        "מרובע. מחשבים פרמטרים של פונקציה זאת\n",
        "\n",
        "slope = a + b * entr + c * eff + d * eff^2\n",
        "\n",
        "בשלב ראשון מוסיפים עמודה עם יעילות בריבוע\n",
        "\n",
        "מתוך הריכוזים של התהליך מחשבים שיפוע של התהליך. מוצאים קשר בין סחיפות ויעילות.\n",
        "\n",
        "entrain=(slope_proc-C[0]-C[2]*eff-C[3]*eff**2)/C[1]\n",
        "\n",
        "האופטימיזציה הופכת לאחת עם משתנה בודד."
      ],
      "metadata": {
        "id": "sr7jSRO1qkPv"
      }
    },
    {
      "cell_type": "code",
      "source": [
        "slopes=[]\n",
        "entr_initial, eff_init = 3.6, 0.77\n",
        "for entr in [entr_initial, entr_initial*.75]: # לינארי -- מספיק 2\n",
        "  for eff in [eff_init,eff_init*.85,eff_init*1.1]: # פורבולה -- צריך 3\n",
        "    bat=LLC.Battery(stages_num=6, Oin=PS_flow, Ain=W_flow, yin=[12,PS_P2O5/71*98,.07], xin=[0,0,.02], EQUIL=EQUIL_rotem_washing3_3, eff=eff, convergence=1E-3, entrainment_perc_out=[entr,0])\n",
        "    slope=(bat.yin[1]-bat.yout[1])/(bat.xout[1]-bat.xin[1])\n",
        "    slopes.append([entr, eff, slope])\n",
        "    # print ('entr:', entr, '  eff:', eff, '  slope:', slope)\n",
        "arr=np.array(slopes)\n",
        "arr_mod=np.c_[np.ones([len(arr),1]),arr[:,0:2], arr[:,1]**2, arr[:,2]] # entrainment approximated to porabola"
      ],
      "metadata": {
        "id": "Vwu6APhGgtP5"
      },
      "execution_count": null,
      "outputs": []
    },
    {
      "cell_type": "code",
      "source": [
        "rows=[0,1,2,3] # 4 rows for 4 unknowns\n",
        "A=arr_mod[rows,0:4]\n",
        "B=arr_mod[rows,4]\n",
        "C=np.dot(np.linalg.inv(A),B) # פתרון מערכת משוואות.  מחשבים ערכים של עמודה אחרונה (קו הפעולה) מתוך עמודות ראשונות"
      ],
      "metadata": {
        "id": "p6fbumCfi1pV"
      },
      "execution_count": null,
      "outputs": []
    },
    {
      "cell_type": "markdown",
      "source": [
        "optimize\n",
        "\n",
        "optimization with 1 parameter\n",
        "\n",
        "במקום להריץ אופטימיזציה עם 2 משתנים: יעילות וסחיפות, זה רץ על פרמטר בודד -- יעילות. הסחיפות מחושבות מתוך תלות בין סחיפות ושיפוע קו פעולה. תלות זאת חושבה לפני זה."
      ],
      "metadata": {
        "id": "r_XVm2pgho1q"
      }
    },
    {
      "cell_type": "code",
      "source": [
        "def P2O5_calc3_1(x):\n",
        "  eff = x[0]\n",
        "  entrain=(slope_proc-C[0]-C[2]*eff-C[3]*eff**2)/C[1]\n",
        "  bat=LLC.Battery(stages_num=6, Oin=PS_flow, Ain=W_flow, yin=[12,PS_P2O5/71*98,.07], xin=[0,0,.02], EQUIL=EQUIL_rotem_washing3_3, eff=eff, convergence=1E-3, entrainment_perc_out=[entrain,0])\n",
        "  # error1=abs((WS_P2O5-bat.yout[1]/98*71)/WS_P2O5)\n",
        "  error=abs((Prod_P2O5-bat.xout[1]/98*71)/Prod_P2O5)\n",
        "  print (eff, entrain, bat.yout[1]/98*71, bat.xout[1]/98*71, error, bat.runs, ',')\n",
        "\n",
        "  return error"
      ],
      "metadata": {
        "id": "-xcDxenPhbmb"
      },
      "execution_count": null,
      "outputs": []
    },
    {
      "cell_type": "code",
      "source": [
        "bounds=[(0.5,1)]\n",
        "sol10_1=optimize.direct(P2O5_calc3_1, bounds=bounds, f_min=0, f_min_rtol=0.001, maxiter=100, locally_biased=False)\n",
        "print (sol10_1.x, sol10_1.fun)"
      ],
      "metadata": {
        "id": "pZju7nk9hwGP"
      },
      "execution_count": null,
      "outputs": []
    },
    {
      "cell_type": "code",
      "source": [
        "eff10_1=sol10_1.x[0]\n",
        "entrain10_1=entrain=(slope_proc-C[0]-C[2]*eff10_1-C[3]*eff10_1**2)/C[1]"
      ],
      "metadata": {
        "id": "6JS6LshHj3ER"
      },
      "execution_count": null,
      "outputs": []
    },
    {
      "cell_type": "markdown",
      "source": [
        "optimal calcul"
      ],
      "metadata": {
        "id": "Fueb85svibqb"
      }
    },
    {
      "cell_type": "code",
      "source": [
        "bat10_1=LLC.Battery(stages_num=6, Oin=PS_flow, Ain=W_flow, yin=[12,PS_P2O5/71*98,.07], xin=[0,0,.02], EQUIL=EQUIL_rotem_washing3_3, eff=eff10_1, convergence=1E-3, entrainment_perc_out=[entrain10_1,0])\n",
        "bat10_1.runs"
      ],
      "metadata": {
        "id": "qS8XMq6SjnXW"
      },
      "execution_count": null,
      "outputs": []
    },
    {
      "cell_type": "code",
      "source": [
        "bat=bat10_1\n",
        "summary_table10_1['Model data']=[bat.Oin,bat.yin[1]/98*71,bat.Oout,bat.yout[1]/98*71,bat.Ain,bat.Aout,bat.xout[1]/98*71,f\"{bat.Aout*bat.xout[1]/(bat.Oin*bat.yin[1]):.1%}\", f\"{bat.stages_num:.0f}\", bat.eff_list[0,1], str(bat.EQUIL)[17:-2]]\n",
        "summary_table10_1"
      ],
      "metadata": {
        "id": "TPJBFzDLlNsh"
      },
      "execution_count": null,
      "outputs": []
    },
    {
      "cell_type": "code",
      "source": [
        "table10_1=LLC.BatteryTable(bat10_1).data"
      ],
      "metadata": {
        "id": "hksoa7MfjnXX"
      },
      "execution_count": null,
      "outputs": []
    },
    {
      "cell_type": "markdown",
      "source": [
        "#### vizual"
      ],
      "metadata": {
        "id": "2f0-7VrOtxQC"
      }
    },
    {
      "cell_type": "code",
      "source": [
        "## P2O5\n",
        "bat=bat10_1\n",
        "summary_table=summary_table10_1\n",
        "fig10_1 = go.Figure()\n",
        "n=1 #H3PO4\n",
        "fig10_1.add_trace(go.Scatter(x=[0,summary_table['Plant data'].loc['Prod_P2O5']], y=[summary_table['Plant data'].loc['WS_P2O5'],summary_table['Plant data'].loc['PS_P2O5']], name='Plant data', marker_color='orange'))\n",
        "fig10_1.add_trace(go.Scatter(x=np.concatenate((bat.xout_list[:,n]*71/98, [bat.xin_list[-1,n]/98*71])), y=np.concatenate((bat.yin_list[:,n]/98*71, [bat.yout_list[-1,n]/98*71])), mode = \"markers+lines+text\",\n",
        "                          text= ['({:.2f},{:.2f})'.format(a,b) for a,b in zip(np.concatenate((bat.xout_list[:,n]/98*71, [bat.xin_list[-1,n]/98*71])),np.concatenate((bat.yin_list[:,n]/98*71, [bat.yout_list[-1,n]/98*71])))],\n",
        "                          textposition ='bottom center', name='Model data', marker_color='green'))\n",
        "fig10_1.add_trace(go.Scatter(x=bat.xout_list[:,n]/98*71, y=bat.yout_list[:,n]/98*71, name='Efficiency', marker_color='blue'))\n",
        "fig10_1.add_trace(go.Scatter(x=bat.xout_list[:,n]/98*71, y=bat.yout_tag_list[:,n]/98*71, name='Equilibrium', marker_color='black'))\n",
        "fig10_1.add_trace(go.Scatter(x=profile_data1.x, y=profile_data1.y, name='Plant profile data', marker_color='grey', visible='legendonly'))\n",
        "\n",
        "fig10_1.update_xaxes(title_text=\"%P2O5 aq\")#, range=[0.5, 2])\n",
        "fig10_1.update_yaxes(title_text=\"%P2O5 org\")#, range=[0.5, 2])\n",
        "# fig10_1.update_layout(title='', width=1200, height=600,)\n",
        "fig10_1.show()"
      ],
      "metadata": {
        "id": "sj6k5JlWkJGo"
      },
      "execution_count": null,
      "outputs": []
    },
    {
      "cell_type": "code",
      "source": [
        "# x_mesh, y_mesh = np.linspace(0, 60, 31), np.linspace(0, 0.2, 31) # expanded x and y extrapolation area observation\n",
        "x_mesh, y_mesh = np.linspace(0, 50, 31), np.linspace(0, 0.15, 31)\n",
        "x_mesh, y_mesh = np.meshgrid(x_mesh, y_mesh)\n",
        "x_mesh4 = x_mesh.flatten().reshape(31*31,1)\n",
        "y_mesh4 = y_mesh.flatten().reshape(31*31,1)\n",
        "mesh4=np.concatenate((x_mesh4, y_mesh4), axis=1)"
      ],
      "metadata": {
        "id": "6Sqmnv4_tmMD"
      },
      "execution_count": null,
      "outputs": []
    },
    {
      "cell_type": "code",
      "source": [
        "a=np.concatenate((np.zeros([len(mesh4),1]),mesh4), axis=1)"
      ],
      "metadata": {
        "id": "DilmuvhQtmME"
      },
      "execution_count": null,
      "outputs": []
    },
    {
      "cell_type": "code",
      "source": [
        "mesh_predict_x=np.array([EQUIL_rotem_washing3_3([row]).xout for row in a])\n",
        "mesh_predict_y=np.array([EQUIL_rotem_washing3_3([row]).yout for row in a])\n",
        "mesh_predics4_1=mesh_predict_y[:,:,1]\n",
        "mesh_predics4_2=mesh_predict_y[:,:,0]\n",
        "mesh_predics4_3=mesh_predict_x[:,:,0]\n",
        "mesh_predics4_4=mesh_predict_y[:,:,2]"
      ],
      "metadata": {
        "id": "8cmlMb94tmME"
      },
      "execution_count": null,
      "outputs": []
    },
    {
      "cell_type": "code",
      "source": [
        "fig_equil10_1 = make_subplots(rows=2, cols=2, subplot_titles=('H3PO4_org','water_org','solvent_aq','SO4_org'), column_widths=[0.5, 0.5], vertical_spacing=0.05,\n",
        "                     specs=[[{\"type\": \"scene\"}, {\"type\": \"scene\"}],[{\"type\": \"scene\"}, {\"type\": \"scene\"}]])\n",
        "\n",
        "fig_equil10_1.add_trace(go.Scatter3d(x=data3.H3PO4_aq, y=data3.SO4_aq, z=data3.H3PO4_org, mode='markers', name='H3PO4_org'), 1, 1)\n",
        "fig_equil10_1.add_trace(go.Scatter3d(x=data3.H3PO4_aq, y=data3.SO4_aq, z=data3.water_org, mode='markers', name='water_org'), 1, 2)\n",
        "fig_equil10_1.add_trace(go.Scatter3d(x=data3.H3PO4_aq, y=data3.SO4_aq, z=data3.solvent_aq, mode='markers', name='solvent_aq'), 2, 1)\n",
        "fig_equil10_1.add_trace(go.Scatter3d(x=data3.H3PO4_aq, y=data3.SO4_aq, z=data3.SO4_org, mode='markers', name='SO4_org'), 2, 2)\n",
        "\n",
        "# visib='legendonly'\n",
        "visib=True\n",
        "fig_equil10_1.add_trace(go.Scatter3d(x=x_mesh4[:,0], y=y_mesh4[:,0], z=mesh_predics4_1[:,0], mode='markers',marker_color='green', marker_size=0.5, name='Equilibrium surface', visible=visib),1,1)\n",
        "fig_equil10_1.add_trace(go.Scatter3d(x=x_mesh4[:,0], y=y_mesh4[:,0], z=mesh_predics4_2[:,0], mode='markers',marker_color='green', marker_size=0.5, name='Equilibrium surface', visible=visib),1,2)\n",
        "fig_equil10_1.add_trace(go.Scatter3d(x=x_mesh4[:,0], y=y_mesh4[:,0], z=mesh_predics4_3[:,0], mode='markers',marker_color='green', marker_size=0.5, name='Equilibrium surface', visible=visib),2,1)\n",
        "fig_equil10_1.add_trace(go.Scatter3d(x=x_mesh4[:,0], y=y_mesh4[:,0], z=mesh_predics4_4[:,0], mode='markers',marker_color='green', marker_size=0.5, name='Equilibrium surface', visible=visib),2,2)\n",
        "\n",
        "bat=bat10_1\n",
        "# H3PO4_org\n",
        "fig_equil10_1.add_trace(go.Scatter3d(x=bat.xout_list[:,1], y=bat.xout_list[:,2], z=bat.yout_list[:,1], mode='markers', marker_color='blue', name='Efficiency'), 1, 1)\n",
        "x,y,z=np.concatenate((bat.xout_list[:,1], [bat.xin_list[-1,1]])),np.concatenate((bat.xout_list[:,2],[bat.xin_list[-1,2]])), np.concatenate((bat.yin_list[:,1],[bat.yout_list[-1,1]]))\n",
        "fig_equil10_1.add_trace(go.Scatter3d(x=x, y=y, z=z, mode = \"markers+lines+text\", text= ['({:.2f},{:.2f},{:.2f})'.format(a,b,c) for a,b,c in zip(x,y,z)], textposition ='bottom center', name='Operation', marker_color='green'),1,1)\n",
        "# water_org\n",
        "fig_equil10_1.add_trace(go.Scatter3d(x=bat.xout_list[:,1], y=bat.xout_list[:,2], z=bat.yout_list[:,0], mode='markers', marker_color='blue', name='Efficiency'), 1, 2)\n",
        "x,y,z=np.concatenate((bat.xout_list[:,1], [bat.xin_list[-1,1]])),np.concatenate((bat.xout_list[:,2],[bat.xin_list[-1,2]])), np.concatenate((bat.yin_list[:,0],[bat.yout_list[-1,0]]))\n",
        "fig_equil10_1.add_trace(go.Scatter3d(x=x, y=y, z=z, mode = \"markers+lines+text\", text= ['({:.2f},{:.2f},{:.2f})'.format(a,b,c) for a,b,c in zip(x,y,z)], textposition ='bottom center', name='Operation', marker_color='green'),1,2)\n",
        "# SO4_org\n",
        "fig_equil10_1.add_trace(go.Scatter3d(x=bat.xout_list[:,1], y=bat.xout_list[:,2], z=bat.yout_list[:,2], mode='markers', marker_color='blue', name='Efficiency'), 2, 2)\n",
        "x,y,z=np.concatenate((bat.xout_list[:,1], [bat.xin_list[-1,1]])),np.concatenate((bat.xout_list[:,2],[bat.xin_list[-1,2]])), np.concatenate((bat.yin_list[:,2],[bat.yout_list[-1,2]]))\n",
        "fig_equil10_1.add_trace(go.Scatter3d(x=x, y=y, z=z, mode = \"markers+lines+text\", text= ['({:.2f},{:.2f},{:.2f})'.format(a,b,c) for a,b,c in zip(x,y,z)], textposition ='bottom center', name='Operation', marker_color='green'),2,2)\n",
        "\n",
        "# solvent_aq\n",
        "fig_equil10_1.add_trace(go.Scatter3d(x=bat.xout_list[:,1], y=bat.xout_list[:,2], z=bat.xout_list[:,0], mode='markers', marker_color='blue', name='Efficiency'), 2, 1)\n",
        "x,y,z=np.concatenate((bat.xout_list[:,1], [bat.xin_list[-1,1]])),np.concatenate((bat.xout_list[:,2],[bat.xin_list[-1,2]])), np.concatenate((bat.xout_list[:,0],[bat.xin_list[-1,0]])) # aqueous -- different operation line order\n",
        "fig_equil10_1.add_trace(go.Scatter3d(x=x, y=y, z=z, mode = \"markers+lines+text\", text= ['({:.2f},{:.2f},{:.2f})'.format(a,b,c) for a,b,c in zip(x,y,z)], textposition ='bottom center', name='Operation', marker_color='green'),2,1)\n",
        "\n",
        "\n",
        "fig_equil10_1.update_layout(title='', autosize=True,\n",
        "                  width=980, height=980,\n",
        "                  margin=dict(l=0, r=0, b=0, t=30),\n",
        "                  )\n",
        "\n",
        "fig_equil10_1.update_layout(\n",
        "    # scene1_zaxis_range=[0,10],\n",
        "    # scene2_zaxis_range=[10,14],\n",
        "    # scene3_zaxis_range=[0,3],\n",
        "    # scene4_zaxis_range=[0,.1],\n",
        "    )\n",
        "\n",
        "# fig_equil10_1.update_scenes(xaxis_title='H3PO4_aq', yaxis_title='SO4_aq', camera_eye=dict(x=1.5, y=-1.5, z=1.5))\n",
        "fig_equil10_1.update_scenes(xaxis_title='H3PO4_aq', yaxis_title='SO4_aq', camera_eye=dict(x=0, y=-2.2, z=0.01))\n",
        "fig_equil10_1.update_scenes(camera_projection_type=\"orthographic\")\n",
        "\n",
        "fig_equil10_1.show()"
      ],
      "metadata": {
        "id": "jX52qxyXtmMF"
      },
      "execution_count": null,
      "outputs": []
    },
    {
      "cell_type": "markdown",
      "source": [
        "# Profile"
      ],
      "metadata": {
        "id": "VPI-5BeLUenx"
      }
    },
    {
      "cell_type": "code",
      "source": [
        "data22=CopyPasteToArray('''\n",
        "H3PO4_aq\tSO4_aq\tSO4_org\tUnit\n",
        "4.15\t0.147\t0.0626\t571\n",
        "14.91\t0.0806\t0.0852\t573\n",
        "28.56\t0.0329\t0.0787\t575\n",
        "45.71\t0.0106\t0.0664\t579\n",
        "48.17\t0.0078\t0.0631\t581\n",
        "49.43\t0.0058\t0.0641\t5150\n",
        "''')\n",
        "\n",
        "data22=pd.DataFrame(data22[1:], columns=data22[0])"
      ],
      "metadata": {
        "id": "GfDhYv0kuFkf"
      },
      "execution_count": null,
      "outputs": []
    },
    {
      "cell_type": "code",
      "source": [
        "data22"
      ],
      "metadata": {
        "id": "-bvrNB3YSF5v"
      },
      "execution_count": null,
      "outputs": []
    },
    {
      "cell_type": "code",
      "source": [
        "fig = go.Figure()\n",
        "\n",
        "fig.add_trace(go.Scatter3d(x=data3.H3PO4_aq, y=data3.SO4_aq, z=data3.SO4_org, mode='markers', name='Tests'))\n",
        "fig.add_trace(go.Scatter3d(x=x_mesh4[:,0], y=y_mesh4[:,0], z=mesh_predics4_4[:,0],\n",
        "                                     mode='markers',marker_color='gray', marker_size=1, name='Equilibrium surface', visible=True))\n",
        "fig.add_trace(go.Scatter3d(x=data22.H3PO4_aq, y=data22.SO4_aq, z=data22.SO4_org,\n",
        "                                     mode = \"markers+lines+text\", text= ['({:.2f},{:.2f},{:.2f})'.format(a,b,c) for a,b,c in zip(x,y,z)],\n",
        "                                     textposition ='bottom center', name='Profile', marker_color='green'))\n",
        "\n",
        "fig.update_layout(title='', autosize=True,\n",
        "                  # width=980,\n",
        "                  height=980,\n",
        "                  margin=dict(l=0, r=0, b=0, t=30),\n",
        "                  )\n",
        "\n",
        "fig.update_scenes(xaxis_title='H3PO4_aq', yaxis_title='SO4_aq',  zaxis_title='SO4_org', camera_eye=dict(x=0, y=-2.2, z=0.01))\n",
        "fig.update_scenes(camera_projection_type=\"orthographic\")\n",
        "\n",
        "# fig.write_html(\"Profile_SO4.html\")\n",
        "fig.show()"
      ],
      "metadata": {
        "id": "L4UeX9tdREC7"
      },
      "execution_count": null,
      "outputs": []
    }
  ]
}