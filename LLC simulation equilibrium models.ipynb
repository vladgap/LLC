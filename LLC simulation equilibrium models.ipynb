{
  "nbformat": 4,
  "nbformat_minor": 0,
  "metadata": {
    "colab": {
      "provenance": [],
      "gpuType": "T4",
      "collapsed_sections": [
        "5hcD4Dq4JUvo",
        "9I-1DTOyWWmu",
        "9NN5Dmv6WWmv"
      ],
      "toc_visible": true,
      "authorship_tag": "ABX9TyN716GwYHu43wAKqkxmN1Yx",
      "include_colab_link": true
    },
    "kernelspec": {
      "name": "python3",
      "display_name": "Python 3"
    },
    "language_info": {
      "name": "python"
    }
  },
  "cells": [
    {
      "cell_type": "markdown",
      "metadata": {
        "id": "view-in-github",
        "colab_type": "text"
      },
      "source": [
        "<a href=\"https://colab.research.google.com/github/vladgap/LLC/blob/main/LLC%20simulation%20equilibrium%20models.ipynb\" target=\"_parent\"><img src=\"https://colab.research.google.com/assets/colab-badge.svg\" alt=\"Open In Colab\"/></a>"
      ]
    },
    {
      "cell_type": "code",
      "execution_count": null,
      "metadata": {
        "id": "hX7Dz1n-8hqQ"
      },
      "outputs": [],
      "source": [
        "import numpy as np\n",
        "import pandas as pd\n",
        "import plotly.express as px\n",
        "import plotly.graph_objs as go\n",
        "from plotly.subplots import make_subplots\n",
        "from sklearn import preprocessing\n",
        "import matplotlib.pyplot as plt\n",
        "pd.options.plotting.backend = \"plotly\"\n"
      ]
    },
    {
      "cell_type": "code",
      "source": [
        "pip install MLNN"
      ],
      "metadata": {
        "id": "DIjFhFZKgYXZ"
      },
      "execution_count": null,
      "outputs": []
    },
    {
      "cell_type": "code",
      "source": [
        "from MLNN import*"
      ],
      "metadata": {
        "id": "ybf8ItjYnFEu"
      },
      "execution_count": null,
      "outputs": []
    },
    {
      "cell_type": "code",
      "source": [
        "def CopyPasteToArray(a):\n",
        "  if a.startswith('\\n'):\n",
        "    b=a[1:]\n",
        "  else:\n",
        "    b=a\n",
        "  if b.endswith('\\n'):\n",
        "    b=b[:-1]\n",
        "  c=b.replace('\\t',',')\n",
        "  d=c.split('\\n')\n",
        "  f=[]\n",
        "  for e in d:\n",
        "    if e.replace(',','').replace('.','').isdigit(): # only digits no letters\n",
        "      f.append(list(eval(e)))\n",
        "    else:\n",
        "      f.append(e.split(','))\n",
        "  return f"
      ],
      "metadata": {
        "id": "oNdhOQ8XL3u3"
      },
      "execution_count": null,
      "outputs": []
    },
    {
      "cell_type": "markdown",
      "source": [
        "# 1 - EQUIL_rotem_lit1\n",
        "lit data with NN model (7 hidden sigmoids)"
      ],
      "metadata": {
        "id": "urg-2lQgmtOY"
      }
    },
    {
      "cell_type": "code",
      "source": [
        "data1=pd.DataFrame(data=[\n",
        "[63.5,\t1.3,\t42.4,\t15.0],\n",
        "[58.7,\t1.2,\t36.9,\t13.8],\n",
        "[52.0, 1.0,\t27.7,\t11.8],\n",
        "[45.5,\t1.0,\t18.9,\t9.6],\n",
        "[39.1,\t1.4,\t10.2,\t8.3],\n",
        "[31.5,\t1.5,\t5.1,\t8.8],\n",
        "[22.9,\t2.0,\t2.3,\t9.0],\n",
        "[12.6,\t2.2,\t0.90,\t9.3],\n",
        "[6.3,\t2.4,\t0.45,\t9.45],\n",
        "[0.01,\t2.6,\t0.01,\t9.6],\n",
        "],\n",
        "columns=['H3PO4_aq', 'solvent_aq', 'H3PO4_org', 'water_org'])"
      ],
      "metadata": {
        "id": "jt1vxfNR17Jw"
      },
      "execution_count": null,
      "outputs": []
    },
    {
      "cell_type": "code",
      "source": [
        "data1.head()"
      ],
      "metadata": {
        "id": "fVdOk5VHp89s"
      },
      "execution_count": null,
      "outputs": []
    },
    {
      "cell_type": "code",
      "source": [
        "fig1=go.Figure()\n",
        "[fig1.add_trace(go.Scatter(x=data1.H3PO4_aq, y=data1[data1.columns[i]], name=data1.columns[i])) for i in range(1,4)]\n",
        "fig1.update_layout(title='', width=1200, height=600,)\n",
        "fig1.show()"
      ],
      "metadata": {
        "id": "mRGrmRypqKB5"
      },
      "execution_count": null,
      "outputs": []
    },
    {
      "cell_type": "code",
      "source": [
        "X1=np.array(data1)[:,[0]]\n",
        "T1=np.array(data1)[:,[1,2,3]]"
      ],
      "metadata": {
        "id": "1M6R1TT5stKk"
      },
      "execution_count": null,
      "outputs": []
    },
    {
      "cell_type": "markdown",
      "source": [
        "## Model"
      ],
      "metadata": {
        "id": "dcNPCzjcH6Ko"
      }
    },
    {
      "cell_type": "markdown",
      "source": [
        "### scaling"
      ],
      "metadata": {
        "id": "9K7bdwVwmuD0"
      }
    },
    {
      "cell_type": "code",
      "source": [
        "scaler_X1 = preprocessing.StandardScaler().fit(X1)\n",
        "scaler_T1 = preprocessing.StandardScaler().fit(T1)\n",
        "\n",
        "# scaler_X1.mean_, scaler_X1.scale_ = np.zeros(X1.shape[1]), np.ones(X1.shape[1]) # disable scaling\n",
        "# scaler_T1.mean_, scaler_T1.scale_ = np.zeros(X1.shape[1]), np.ones(X1.shape[1]) # disable scaling\n",
        "\n",
        "scaler_data1 = [scaler_X1.mean_, scaler_X1.scale_, scaler_T1.mean_, scaler_T1.scale_]\n",
        "print('scaler X -- mean, stdev:  ',scaler_data1[0], scaler_data1[1])\n",
        "print('scaler T -- mean, stdev:  ',scaler_data1[2], scaler_data1[3])\n",
        "\n",
        "X_sc1 = scaler_X1.transform(X1)\n",
        "T_sc1 = scaler_T1.transform(T1)\n",
        "X_sc1[0:3]"
      ],
      "metadata": {
        "id": "BsyaONOmmuD1"
      },
      "execution_count": null,
      "outputs": []
    },
    {
      "cell_type": "code",
      "source": [
        "def print_scaler_data(scaler_data):\n",
        "    print('scaler X -- mean, stdev:  ',scaler_data[0], scaler_data[1])\n",
        "    print('scaler T -- mean, stdev:  ',scaler_data[2], scaler_data[3])"
      ],
      "metadata": {
        "id": "5ACHd9xn93n-"
      },
      "execution_count": null,
      "outputs": []
    },
    {
      "cell_type": "markdown",
      "source": [
        "### parameter searching"
      ],
      "metadata": {
        "id": "CIvfbsXqmuD2"
      }
    },
    {
      "cell_type": "code",
      "source": [
        "bp_iter=VectorBackProp(layers=[1,7,3], hidden_activation = 'sigmoid')\n",
        "learning_rate = [0.05, 0.1, 0.5]\n",
        "momentum_term = [0.8, 0.9, 0.95]\n",
        "learning_rate_decay = [0, 0.5]\n",
        "repeats = range(5)\n",
        "rows=len(learning_rate) * len(momentum_term) * len(learning_rate_decay) * len(repeats)\n",
        "print ('total runs:', rows)\n",
        "output = np.zeros((rows,5))\n",
        "i=0\n",
        "weights_list = []\n",
        "for lr in learning_rate:\n",
        "    for mt in momentum_term:\n",
        "        for lrd in learning_rate_decay:\n",
        "            for rep in repeats:\n",
        "                bp_iter.fit(X_sc1, T_sc1, epochs=1000, learning_rate = lr, momentum_term = mt, learning_rate_decay = lrd, repeat=False)\n",
        "                relative_delta=[(a-b)/a*100 for a,b in zip(bp_iter.loss_list,[0]+bp_iter.loss_list[:-1])]\n",
        "                output[i] = [lr, mt, lrd, bp_iter.loss_list[-1], relative_delta[-1]]\n",
        "                weights_list.append(bp_iter.export_weights())\n",
        "                print (i, end=' ')\n",
        "                if i%25==0 and i>0:\n",
        "                    print ('\\n')\n",
        "                i+=1\n"
      ],
      "metadata": {
        "id": "havsQ0uRmuD2"
      },
      "execution_count": null,
      "outputs": []
    },
    {
      "cell_type": "code",
      "source": [
        "output_table = pd.DataFrame(data=output, columns=['learning_rate', 'momentum_term', 'learning_rate_decay', 'final_loss', 'relative_delta'])\n",
        "output_table.fillna(value = 1.1, inplace = True)\n",
        "output_table.sort_values(by=['final_loss'])"
      ],
      "metadata": {
        "id": "IxDjkGvNmuD3"
      },
      "execution_count": null,
      "outputs": []
    },
    {
      "cell_type": "code",
      "source": [
        "fig = go.Figure(data=\n",
        "    go.Parcoords(\n",
        "\n",
        "        dimensions = list([\n",
        "            dict(\n",
        "                label = 'learning_rate', values = output_table['learning_rate']),\n",
        "            dict(\n",
        "                label = 'momentum_term', values = output_table['momentum_term']),\n",
        "            dict(range = [0, 1],\n",
        "                label = 'learning_rate_decay', values = output_table['learning_rate_decay']),\n",
        "            dict(range = [0, 0.2],\n",
        "                label = 'final_loss', values = output_table['final_loss']),\n",
        "            dict(\n",
        "                label = 'relative_delta', values = output_table['relative_delta']),\n",
        "        ])\n",
        "    )\n",
        ")\n",
        "\n",
        "fig.update_layout(\n",
        "    plot_bgcolor = 'white',\n",
        "    paper_bgcolor = 'white'\n",
        ")\n",
        "\n",
        "fig.show()"
      ],
      "metadata": {
        "id": "X2WdhCVNmuD4"
      },
      "execution_count": null,
      "outputs": []
    },
    {
      "cell_type": "markdown",
      "source": [
        "### running best parameters"
      ],
      "metadata": {
        "id": "-JwpdijImuD4"
      }
    },
    {
      "cell_type": "code",
      "source": [
        "bp_iter=VectorBackProp(layers=[1,7,3], hidden_activation = 'sigmoid')\n",
        "weights_lists2=[]\n",
        "loss_lists2=[]\n",
        "relative_delta_lists2=[]\n",
        "n = 10\n",
        "for i in range(n):\n",
        "    bp_iter.fit(X_sc1, T_sc1, epochs=1500, learning_rate = 0.1, momentum_term = 0.95, learning_rate_decay = 0, repeat=False)\n",
        "    relative_delta=[(a-b)/a*100 for a,b in zip(bp_iter.loss_list,[0]+bp_iter.loss_list[:-1])]\n",
        "    weights_lists2.append(bp_iter.export_weights())\n",
        "    loss_lists2.append(bp_iter.loss_list)\n",
        "    relative_delta_lists2.append(relative_delta)"
      ],
      "metadata": {
        "id": "NADNM3EQmuD5"
      },
      "execution_count": null,
      "outputs": []
    },
    {
      "cell_type": "code",
      "source": [
        "fig2=go.Figure()\n",
        "[fig2.add_trace(go.Scatter(y=loss_lists2[i][100:], name=i)) for i in range(n)]\n",
        "fig2.update_layout (yaxis_range=[0,0.05], title='Loss')\n",
        "fig2.show()"
      ],
      "metadata": {
        "id": "2VGcUtgAmuD5"
      },
      "execution_count": null,
      "outputs": []
    },
    {
      "cell_type": "markdown",
      "source": [
        "### best_weights_for_now"
      ],
      "metadata": {
        "id": "1Qe9ELJAmuD5"
      }
    },
    {
      "cell_type": "code",
      "source": [
        "best_weights_for_now2=weights_lists2[0] # 7 hidden\n",
        "best_weights_for_now2"
      ],
      "metadata": {
        "id": "PzW7n_YIEG0I"
      },
      "execution_count": null,
      "outputs": []
    },
    {
      "cell_type": "code",
      "source": [
        "manual_best_weights_for_now2=[[[-4.215621245080982,\n",
        "   -8.235086763118087,\n",
        "   -1.6251342150606451,\n",
        "   -6.9206357615871035,\n",
        "   -3.4092427169369826,\n",
        "   -7.4263402914028775,\n",
        "   -3.7003458539301977]],\n",
        " [[0.8764395040443358,\n",
        "   3.9145850159876945,\n",
        "   -1.5013585830931442,\n",
        "   -1.194371163565281,\n",
        "   4.118411550251139,\n",
        "   5.892242255497829,\n",
        "   -6.755593628941706]],\n",
        " [[-2.6609909047049918, -0.44480776958732143, 1.9256391063013463],\n",
        "  [2.566022222516618, -0.5042582093932455, -1.432212975592254],\n",
        "  [1.405004033981333, -0.2988952466228391, 0.5807591718257896],\n",
        "  [2.0692859230668117, -0.0780871568942863, -0.5145373287488922],\n",
        "  [-0.7989625307881565, -1.957459884661486, -2.8991426864622065],\n",
        "  [-0.5821795598385298, -0.22284877970127598, -0.9077232625087237],\n",
        "  [1.619488070885094, 0.03697105802710269, 0.008613201857731975]],\n",
        " [[-0.4010006364699687, 2.4687577407660806, 2.995012357373033]]]\n",
        "\n",
        " # 7 relu\n",
        " # epochs=1000, learning_rate = 0.1, momentum_term = 0.95, learning_rate_decay = 0\n",
        " # loss = .00038"
      ],
      "metadata": {
        "id": "AsCJiWILEdRI"
      },
      "execution_count": null,
      "outputs": []
    },
    {
      "cell_type": "markdown",
      "source": [
        "### fitting best parameters"
      ],
      "metadata": {
        "id": "JRxglUywmuD7"
      }
    },
    {
      "cell_type": "code",
      "source": [
        "bp1=VectorBackProp(layers=[1,7,3], hidden_activation = 'sigmoid')"
      ],
      "metadata": {
        "id": "lK1oeP7_muD7"
      },
      "execution_count": null,
      "outputs": []
    },
    {
      "cell_type": "code",
      "source": [
        "# bp1.import_weights(best_weights_for_now2)\n",
        "bp1.import_weights(manual_best_weights_for_now2)\n",
        "bp1.fit(X_sc1, T_sc1, epochs=5000, learning_rate = 0.1, momentum_term = 0.9, learning_rate_decay = 1, repeat=True)"
      ],
      "metadata": {
        "id": "YfPgHLv1muD7"
      },
      "execution_count": null,
      "outputs": []
    },
    {
      "cell_type": "code",
      "source": [
        "fig1=go.Figure()\n",
        "fig1.add_trace(go.Scatter(y=bp1.loss_list[20:], name=''))\n",
        "print('Initial loss =', bp1.loss_list[0])\n",
        "print('Final loss =', bp1.loss_list[-1])\n",
        "# fig1.show()"
      ],
      "metadata": {
        "id": "NmZqKo46muD7"
      },
      "execution_count": null,
      "outputs": []
    },
    {
      "cell_type": "markdown",
      "source": [
        "### prediction"
      ],
      "metadata": {
        "id": "cynx574LmuD8"
      }
    },
    {
      "cell_type": "code",
      "source": [
        "predics1=scaler_T1.inverse_transform(bp1.run(X_sc1))\n",
        "predics1"
      ],
      "metadata": {
        "id": "9UDHZT64muD8"
      },
      "execution_count": null,
      "outputs": []
    },
    {
      "cell_type": "code",
      "source": [
        "pred=predics1\n",
        "predics1_y1=pred[:,0]\n",
        "error1_y1=(predics1_y1-T1[:,0])/T1[:,0]*100\n",
        "predics1_y2=pred[:,1]\n",
        "error1_y2=(predics1_y2-T1[:,1])/T1[:,1]*100\n",
        "predics1_y3=pred[:,2]\n",
        "error1_y3=(predics1_y3-T1[:,2])/T1[:,2]*100\n",
        "\n",
        "plt.hist(error1_y1)\n",
        "plt.hist(error1_y2)\n",
        "plt.hist(error1_y3)\n",
        "plt.legend(['solvent_aq', 'H3PO4_org', 'water_org'])\n",
        "plt.show()"
      ],
      "metadata": {
        "id": "9O389LuYmuD8"
      },
      "execution_count": null,
      "outputs": []
    },
    {
      "cell_type": "code",
      "source": [
        "fig = make_subplots(rows=1, cols=3, subplot_titles=(\"solvent_aq\", \"H3PO4_org\", \"water_org\"), column_widths=[0.33, 0.33, 0.33],\n",
        "                     specs=[[{\"secondary_y\": True}, {\"secondary_y\": True}, {\"secondary_y\": True}]])\n",
        "\n",
        "fig.add_trace(go.Scatter(x=T1[:,0] , y=predics1_y1, mode='markers', marker_size=4, name='predics solvent_aq', marker_color='black' ), 1, 1)\n",
        "fig.add_trace(go.Scatter(x=T1[:,1] , y=predics1_y2, mode='markers', marker_size=4, name='predics H3PO4_org', marker_color='black' ), 1, 2)\n",
        "fig.add_trace(go.Scatter(x=T1[:,2] , y=predics1_y3, mode='markers', marker_size=4, name='predics water_org', marker_color='black' ), 1, 3)\n",
        "\n",
        "fig.add_trace(go.Scatter(x=T1[:,0] , y=error1_y1, mode='markers', marker_size=4, name='error solvent_aq', marker_color='orange' ), 1, 1, secondary_y=True,)\n",
        "fig.add_trace(go.Scatter(x=T1[:,1] , y=error1_y2, mode='markers', marker_size=4, name='error H3PO4_org', marker_color='orange' ), 1, 2, secondary_y=True,)\n",
        "fig.add_trace(go.Scatter(x=T1[:,2] , y=error1_y3, mode='markers', marker_size=4, name='error water_org', marker_color='orange' ), 1, 3, secondary_y=True,)\n",
        "\n",
        "fig.update_layout(title='', autosize=True,\n",
        "                  width=1550, height=350,\n",
        "                  margin=dict(l=0, r=0, b=0, t=30))\n",
        "\n",
        "# fig.update_xaxes(title_text=\"\", range=[0.5, 2], row=1, col=1)\n",
        "# fig.update_yaxes(title_text=\"\", range=[0.5, 2], row=1, col=1)\n",
        "# fig.update_yaxes(title_text=\"%error\", range=[-10, 10], row=1, col=1, secondary_y=True, showgrid=False, tick0=-10, dtick=2)\n",
        "\n",
        "# fig.update_xaxes(title_text=\"\", range=[0, 30], row=1, col=2)\n",
        "# fig.update_yaxes(title_text=\"\", range=[0, 30], row=1, col=2)\n",
        "# fig.update_yaxes(title_text=\"%error\", range=[-10, 10], row=1, col=2, secondary_y=True, showgrid=False, tickvals=[-10,-5,-1,0,1,5,10])\n",
        "\n",
        "# fig.update_xaxes(title_text=\"\", range=[0.5, 2], row=1, col=3)\n",
        "# fig.update_yaxes(title_text=\"\", range=[0.5, 2], row=1, col=3)\n",
        "# fig.update_yaxes(title_text=\"%error\", range=[-10, 10], row=1, col=3, secondary_y=True, showgrid=False, tick0=-10, dtick=2)\n",
        "\n",
        "fig.show()"
      ],
      "metadata": {
        "id": "hcvsGKsB-Ew7"
      },
      "execution_count": null,
      "outputs": []
    },
    {
      "cell_type": "code",
      "source": [
        "fig1=go.Figure()\n",
        "[fig1.add_trace(go.Scatter(x=data1.H3PO4_aq, y=data1[data1.columns[i]], name=data1.columns[i])) for i in range(1,4)]\n",
        "[fig1.add_trace(go.Scatter(x=data1.H3PO4_aq, y=predics1[:,i-1], name=data1.columns[i]+' predic')) for i in range(1,4)]\n",
        "fig1.update_layout(title='', width=1200, height=600,)\n",
        "fig1.show()"
      ],
      "metadata": {
        "id": "R_Ac973sBKlB"
      },
      "execution_count": null,
      "outputs": []
    },
    {
      "cell_type": "code",
      "source": [
        "bp1.print_weights()"
      ],
      "metadata": {
        "id": "3wiovEjZrOwV"
      },
      "execution_count": null,
      "outputs": []
    },
    {
      "cell_type": "code",
      "source": [
        "print (*scaler_data1)"
      ],
      "metadata": {
        "id": "vroTVfmTrOwW"
      },
      "execution_count": null,
      "outputs": []
    },
    {
      "cell_type": "code",
      "source": [
        "print_scaler_data(scaler_data1)"
      ],
      "metadata": {
        "id": "XPr1FwV5-K7z"
      },
      "execution_count": null,
      "outputs": []
    },
    {
      "cell_type": "markdown",
      "source": [
        "# 2 - EQUIL_rotem_washing2"
      ],
      "metadata": {
        "id": "zmbPKG_azqu4"
      }
    },
    {
      "cell_type": "code",
      "source": [
        "data=CopyPasteToArray('''\n",
        "H3PO4_aq\tSO4_aq\tH3PO4_org\twater_org\tsolvent_aq\tSO4_org\n",
        "4.15\t0.147\t0.0733\t9.6\t2.5\t0.0626\n",
        "14.9\t0.0806\t0.359\t9.5\t2.2\t0.0852\n",
        "28.6\t0.0329\t1.68\t9.3\t1.9\t0.0787\n",
        "45.7\t0.0106\t8.31\t8.5\t1.6\t0.0664\n",
        "48.2\t0.0078\t10.7\t8.5\t1.3\t0.0631\n",
        "49.4\t0.0058\t12.2\t8.7\t1.0\t0.0641\n",
        "''')\n",
        "# data\n",
        "# data2=pd.DataFrame(data, columns=['H3PO4_aq',\t'SO4_aq',\t'H3PO4_org',\t'water_org',\t'solvent_aq',\t'SO4_org'])\n",
        "data2=pd.DataFrame(data[1:], columns=data[0])\n",
        "data2"
      ],
      "metadata": {
        "id": "6Rk9eJPQqoeH"
      },
      "execution_count": null,
      "outputs": []
    },
    {
      "cell_type": "code",
      "source": [
        "fig_equil2 = make_subplots(rows=2, cols=2, subplot_titles=('H3PO4_org','water_org','solvent_aq','SO4_org'), column_widths=[0.5, 0.5], vertical_spacing=0.05,\n",
        "                     specs=[[{\"type\": \"scene\"}, {\"type\": \"scene\"}],[{\"type\": \"scene\"}, {\"type\": \"scene\"}]])\n",
        "\n",
        "fig_equil2.add_trace(go.Scatter3d(x=data2.H3PO4_aq, y=data2.SO4_aq, z=data2.H3PO4_org, mode='markers', name='H3PO4_org'), 1, 1)\n",
        "fig_equil2.add_trace(go.Scatter3d(x=data2.H3PO4_aq, y=data2.SO4_aq, z=data2.water_org, mode='markers', name='water_org'), 1, 2)\n",
        "fig_equil2.add_trace(go.Scatter3d(x=data2.H3PO4_aq, y=data2.SO4_aq, z=data2.solvent_aq, mode='markers', name='solvent_aq'), 2, 1)\n",
        "fig_equil2.add_trace(go.Scatter3d(x=data2.H3PO4_aq, y=data2.SO4_aq, z=data2.SO4_org, mode='markers', name='SO4_org'), 2, 2)\n",
        "\n",
        "fig_equil2.update_layout(title='', autosize=True,\n",
        "                  width=800, height=800,\n",
        "                  margin=dict(l=0, r=0, b=0, t=30),\n",
        "                  )\n",
        "\n",
        "fig_equil2.update_layout(\n",
        "    scene1_zaxis_range=[0,15],\n",
        "    scene2_zaxis_range=[8,10],\n",
        "    scene3_zaxis_range=[0,3],\n",
        "    scene4_zaxis_range=[.05,.1],\n",
        "    )\n",
        "\n",
        "fig_equil2.update_scenes(xaxis_title='H3PO4_aq', yaxis_title='SO4_aq', camera_eye=dict(x=1.5, y=1.5, z=1.5))\n",
        "\n",
        "fig_equil2.show()"
      ],
      "metadata": {
        "id": "qpEvpd8ODyOJ"
      },
      "execution_count": null,
      "outputs": []
    },
    {
      "cell_type": "code",
      "source": [
        "X2=np.array(data2)[:,[0,1]]\n",
        "T2=np.array(data2)[:,[2,3,4,5]]"
      ],
      "metadata": {
        "id": "ezKUsKkdSl2U"
      },
      "execution_count": null,
      "outputs": []
    },
    {
      "cell_type": "code",
      "source": [
        "scaler_X2 = preprocessing.StandardScaler().fit(X2)\n",
        "scaler_T2 = preprocessing.StandardScaler().fit(T2)\n",
        "\n",
        "# scaler_X2.mean_, scaler_X2.scale_ = np.zeros(X2.shape[1]), np.ones(X2.shape[1]) # disable scaling\n",
        "# scaler_T2.mean_, scaler_T2.scale_ = np.zeros(X2.shape[1]), np.ones(X2.shape[1]) # disable scaling\n",
        "\n",
        "scaler_data2 = [scaler_X2.mean_, scaler_X2.scale_, scaler_T2.mean_, scaler_T2.scale_]\n",
        "print('scaler X -- mean, stdev:  ',scaler_data2[0], scaler_data2[1])\n",
        "print('scaler T -- mean, stdev:  ',scaler_data2[2], scaler_data2[3])\n",
        "\n",
        "X_sc2 = scaler_X2.transform(X2)\n",
        "T_sc2 = scaler_T2.transform(T2)\n",
        "X_sc2[0:3]"
      ],
      "metadata": {
        "id": "0an6ypGLSsyg"
      },
      "execution_count": null,
      "outputs": []
    },
    {
      "cell_type": "markdown",
      "source": [
        "### 4 together - 2 hidden * 4"
      ],
      "metadata": {
        "id": "hO7gEwItI9mE"
      }
    },
    {
      "cell_type": "markdown",
      "source": [
        "#### parameter searching"
      ],
      "metadata": {
        "id": "gYzK7fdfJUvm"
      }
    },
    {
      "cell_type": "code",
      "source": [
        "bp_iter=VectorBackProp(layers=[2,8,4], hidden_activation = 'prelu')\n",
        "learning_rate = [0.005, 0.01, 0.05]\n",
        "momentum_term = [0.8, 0.9, 0.95]\n",
        "learning_rate_decay = [0, 0.5]\n",
        "repeats = range(5)\n",
        "rows=len(learning_rate) * len(momentum_term) * len(learning_rate_decay) * len(repeats)\n",
        "print ('total runs:', rows)\n",
        "output = np.zeros((rows,5))\n",
        "i=0\n",
        "weights_list = []\n",
        "for lr in learning_rate:\n",
        "    for mt in momentum_term:\n",
        "        for lrd in learning_rate_decay:\n",
        "            for rep in repeats:\n",
        "                bp_iter.fit(X_sc2, T_sc2, epochs=1000, learning_rate = lr, momentum_term = mt, learning_rate_decay = lrd, repeat=False)\n",
        "                relative_delta=[(a-b)/a*100 for a,b in zip(bp_iter.loss_list,[0]+bp_iter.loss_list[:-1])]\n",
        "                output[i] = [lr, mt, lrd, bp_iter.loss_list[-1], relative_delta[-1]]\n",
        "                weights_list.append(bp_iter.export_weights())\n",
        "                print (i, end=' ')\n",
        "                if i%25==0 and i>0:\n",
        "                    print ('\\n')\n",
        "                i+=1\n"
      ],
      "metadata": {
        "id": "riZhOJTKJUvn"
      },
      "execution_count": null,
      "outputs": []
    },
    {
      "cell_type": "code",
      "source": [
        "output_table = pd.DataFrame(data=output, columns=['learning_rate', 'momentum_term', 'learning_rate_decay', 'final_loss', 'relative_delta'])\n",
        "output_table.fillna(value = 1.1, inplace = True)\n",
        "output_table.sort_values(by=['final_loss'])"
      ],
      "metadata": {
        "id": "alko2UvuJUvn"
      },
      "execution_count": null,
      "outputs": []
    },
    {
      "cell_type": "code",
      "source": [
        "# weights_list[64]"
      ],
      "metadata": {
        "id": "a72FM9miLKor"
      },
      "execution_count": null,
      "outputs": []
    },
    {
      "cell_type": "code",
      "source": [
        "fig = go.Figure(data=\n",
        "    go.Parcoords(\n",
        "\n",
        "        dimensions = list([\n",
        "            dict(\n",
        "                label = 'learning_rate', values = output_table['learning_rate']),\n",
        "            dict(\n",
        "                label = 'momentum_term', values = output_table['momentum_term']),\n",
        "            dict(range = [0, 1],\n",
        "                label = 'learning_rate_decay', values = output_table['learning_rate_decay']),\n",
        "            dict(range = [0, 0.2],\n",
        "                label = 'final_loss', values = output_table['final_loss']),\n",
        "            dict(\n",
        "                label = 'relative_delta', values = output_table['relative_delta']),\n",
        "        ])\n",
        "    )\n",
        ")\n",
        "\n",
        "fig.update_layout(\n",
        "    plot_bgcolor = 'white',\n",
        "    paper_bgcolor = 'white'\n",
        ")\n",
        "\n",
        "fig.show()"
      ],
      "metadata": {
        "id": "-Y4UOPxcJUvn"
      },
      "execution_count": null,
      "outputs": []
    },
    {
      "cell_type": "markdown",
      "source": [
        "#### running best parameters"
      ],
      "metadata": {
        "id": "Xwt59GrYJUvo"
      }
    },
    {
      "cell_type": "code",
      "source": [
        "bp_iter=VectorBackProp(layers=[2,8,4], hidden_activation = 'prelu')\n",
        "weights_lists2=[]\n",
        "loss_lists2=[]\n",
        "relative_delta_lists2=[]\n",
        "n = 10\n",
        "for i in range(n):\n",
        "    bp_iter.fit(X_sc2, T_sc2, epochs=1500, learning_rate = 0.05, momentum_term = 0.9, learning_rate_decay = 0, repeat=False)\n",
        "    relative_delta=[(a-b)/a*100 for a,b in zip(bp_iter.loss_list,[0]+bp_iter.loss_list[:-1])]\n",
        "    weights_lists2.append(bp_iter.export_weights())\n",
        "    loss_lists2.append(bp_iter.loss_list)\n",
        "    relative_delta_lists2.append(relative_delta)"
      ],
      "metadata": {
        "id": "laDo-8JQJUvo"
      },
      "execution_count": null,
      "outputs": []
    },
    {
      "cell_type": "code",
      "source": [
        "fig2=go.Figure()\n",
        "[fig2.add_trace(go.Scatter(y=loss_lists2[i][100:], name=i)) for i in range(n)]\n",
        "fig2.update_layout (yaxis_range=[0,0.05], title='Loss')\n",
        "fig2.show()"
      ],
      "metadata": {
        "id": "km3n7b7pJUvo"
      },
      "execution_count": null,
      "outputs": []
    },
    {
      "cell_type": "markdown",
      "source": [
        "#### best_weights_for_now"
      ],
      "metadata": {
        "id": "5hcD4Dq4JUvo"
      }
    },
    {
      "cell_type": "code",
      "source": [
        "best_weights_for_now3=weights_lists2[4] # 8 hidden\n",
        "best_weights_for_now3"
      ],
      "metadata": {
        "id": "NZ4lGCxgJUvo"
      },
      "execution_count": null,
      "outputs": []
    },
    {
      "cell_type": "code",
      "source": [
        "manual_best_weights_for_now3=[[[0.1696720252705648,\n",
        "   -0.5162308438477623,\n",
        "   0.13610790853748875,\n",
        "   -0.5459314437521549,\n",
        "   -2.1522048507144826,\n",
        "   2.7991812855017795,\n",
        "   2.2522841303762253,\n",
        "   1.3036289525897713],\n",
        "  [1.9323970045933287,\n",
        "   -0.08884458078459549,\n",
        "   -0.04852345102466107,\n",
        "   -1.13411282324348,\n",
        "   -1.1158382553237762,\n",
        "   -0.30779837858885173,\n",
        "   -0.12173117756887028,\n",
        "   -0.3540034590708585]],\n",
        " [[-2.2417610065610107,\n",
        "   0.4613129251492482,\n",
        "   -0.38183137933144556,\n",
        "   0.20208421030007576,\n",
        "   0.24825035116765534,\n",
        "   -2.724270642622788,\n",
        "   -1.4054454276875747,\n",
        "   -1.495660228647515]],\n",
        " [[-0.09979718973451998,\n",
        "   0.28011277994919526,\n",
        "   0.4104045147375449,\n",
        "   -2.1081691041207278],\n",
        "  [-0.07462529108713224,\n",
        "   0.1288590985174545,\n",
        "   0.37672842958623576,\n",
        "   0.3534601743451425],\n",
        "  [-0.11173633889460348,\n",
        "   0.00821047485908231,\n",
        "   0.19900068654350242,\n",
        "   -0.05106279558482743],\n",
        "  [-0.373527746807881,\n",
        "   0.7112152688917183,\n",
        "   -0.714362680105141,\n",
        "   -0.3971956188561637],\n",
        "  [-0.7200547208576185,\n",
        "   1.2845480318642744,\n",
        "   0.01664600484698315,\n",
        "   0.5938436742786131],\n",
        "  [0.4953475705930187,\n",
        "   2.2058959745264994,\n",
        "   -1.9913671273187976,\n",
        "   0.9877485984296825],\n",
        "  [1.2259212443455991,\n",
        "   -0.8667682552513223,\n",
        "   -0.8898281887001765,\n",
        "   -1.4867004920499955],\n",
        "  [-0.013464260161279627,\n",
        "   1.1730541754941695,\n",
        "   -0.23926419164268528,\n",
        "   1.5182593706861813]],\n",
        " [[0.19835057879125104,\n",
        "   -1.1336610820808901,\n",
        "   0.4964010766667916,\n",
        "   0.46387402167019487]]]\n",
        "\n",
        " # 8 relu\n",
        " # epochs=1500, learning_rate = 0.05, momentum_term = 0.9, learning_rate_decay = 0\n",
        " # loss = .0004"
      ],
      "metadata": {
        "id": "WraemKOWJUvo"
      },
      "execution_count": null,
      "outputs": []
    },
    {
      "cell_type": "markdown",
      "source": [
        "#### fitting best parameters"
      ],
      "metadata": {
        "id": "bDE8BdrmJUvp"
      }
    },
    {
      "cell_type": "code",
      "source": [
        "bp2_01=VectorBackProp(layers=[2,8,4], hidden_activation = 'prelu')"
      ],
      "metadata": {
        "id": "TzSj_Fh0JUvp"
      },
      "execution_count": null,
      "outputs": []
    },
    {
      "cell_type": "code",
      "source": [
        "# bp2_01.import_weights(best_weights_for_now3)\n",
        "bp2_01.import_weights(manual_best_weights_for_now3)\n",
        "bp2_01.fit(X_sc2, T_sc2, epochs=5000, learning_rate = 0.1, momentum_term = 0.9, learning_rate_decay = 1, repeat=True)"
      ],
      "metadata": {
        "id": "epdPDbMnJUvp"
      },
      "execution_count": null,
      "outputs": []
    },
    {
      "cell_type": "code",
      "source": [
        "fig2_01=go.Figure()\n",
        "fig2_01.add_trace(go.Scatter(y=bp2_01.loss_list[20:], name=''))\n",
        "print('Initial loss =', bp2_01.loss_list[0])\n",
        "print('Final loss =', bp2_01.loss_list[-1])\n",
        "# fig2_01.show()"
      ],
      "metadata": {
        "id": "KTSU5JfMJUvp"
      },
      "execution_count": null,
      "outputs": []
    },
    {
      "cell_type": "markdown",
      "source": [
        "#### prediction"
      ],
      "metadata": {
        "id": "3cfRmRZIJUvp"
      }
    },
    {
      "cell_type": "code",
      "source": [
        "predics2_01=scaler_T2.inverse_transform(bp2_01.run(X_sc2))\n",
        "predics2_01"
      ],
      "metadata": {
        "id": "p2gpaKW_JUvq"
      },
      "execution_count": null,
      "outputs": []
    },
    {
      "cell_type": "code",
      "source": [
        "pred=predics2_01\n",
        "predics1_y1=pred[:,0]\n",
        "error1_y1=(predics1_y1-T2[:,0])/T2[:,0]*100\n",
        "predics1_y2=pred[:,1]\n",
        "error1_y2=(predics1_y2-T2[:,1])/T2[:,1]*100\n",
        "predics1_y3=pred[:,2]\n",
        "error1_y3=(predics1_y3-T2[:,2])/T2[:,2]*100\n",
        "predics1_y4=pred[:,3]\n",
        "error1_y4=(predics1_y4-T2[:,3])/T2[:,3]*100\n",
        "\n",
        "plt.hist(error1_y1)\n",
        "plt.hist(error1_y2)\n",
        "plt.hist(error1_y3)\n",
        "plt.hist(error1_y4)\n",
        "\n",
        "plt.legend(['H3PO4_org','water_org','solvent_aq','SO4_org'])\n",
        "plt.show()"
      ],
      "metadata": {
        "id": "zLxTsTyEJUvq"
      },
      "execution_count": null,
      "outputs": []
    },
    {
      "cell_type": "code",
      "source": [
        "fig = make_subplots(rows=1, cols=4, subplot_titles=('H3PO4_org','water_org','solvent_aq','SO4_org'), column_widths=[0.25, 0.25, 0.25, 0.25],\n",
        "                     specs=[[{\"secondary_y\": True}, {\"secondary_y\": True}, {\"secondary_y\": True}, {\"secondary_y\": True}]])\n",
        "\n",
        "fig.add_trace(go.Scatter(x=T2[:,0] , y=predics1_y1, mode='markers', marker_size=4, name='predics H3PO4_org', marker_color='black' ), 1, 1)\n",
        "fig.add_trace(go.Scatter(x=T2[:,1] , y=predics1_y2, mode='markers', marker_size=4, name='predics water_org', marker_color='black' ), 1, 2)\n",
        "fig.add_trace(go.Scatter(x=T2[:,2] , y=predics1_y3, mode='markers', marker_size=4, name='predics solvent_aq', marker_color='black' ), 1, 3)\n",
        "fig.add_trace(go.Scatter(x=T2[:,3] , y=predics1_y4, mode='markers', marker_size=4, name='predics SO4_org', marker_color='black' ), 1, 4)\n",
        "\n",
        "fig.add_trace(go.Scatter(x=T2[:,0] , y=error1_y1, mode='markers', marker_size=4, name='error H3PO4_org', marker_color='orange' ), 1, 1, secondary_y=True,)\n",
        "fig.add_trace(go.Scatter(x=T2[:,1] , y=error1_y2, mode='markers', marker_size=4, name='error water_org', marker_color='orange' ), 1, 2, secondary_y=True,)\n",
        "fig.add_trace(go.Scatter(x=T2[:,2] , y=error1_y3, mode='markers', marker_size=4, name='error solvent_aq', marker_color='orange' ), 1, 3, secondary_y=True,)\n",
        "fig.add_trace(go.Scatter(x=T2[:,3] , y=error1_y3, mode='markers', marker_size=4, name='error SO4_org', marker_color='orange' ), 1, 4, secondary_y=True,)\n",
        "\n",
        "fig.update_layout(title='', autosize=True,\n",
        "                  width=1550, height=250,\n",
        "                  margin=dict(l=0, r=0, b=0, t=30))\n",
        "\n",
        "fig.show()"
      ],
      "metadata": {
        "id": "i5MYWxSrJUvq"
      },
      "execution_count": null,
      "outputs": []
    },
    {
      "cell_type": "code",
      "source": [
        "data2"
      ],
      "metadata": {
        "id": "7qoQG1f_O4B4"
      },
      "execution_count": null,
      "outputs": []
    },
    {
      "cell_type": "markdown",
      "source": [
        "#### mesh"
      ],
      "metadata": {
        "id": "wolegAKdQHgh"
      }
    },
    {
      "cell_type": "code",
      "source": [
        "x_mesh, y_mesh = np.linspace(0, 50, 51), np.linspace(0, 0.15, 51)\n",
        "x_mesh, y_mesh = np.meshgrid(x_mesh, y_mesh)\n",
        "x_mesh2 = x_mesh.flatten().reshape(51*51,1)\n",
        "y_mesh2 = y_mesh.flatten().reshape(51*51,1)\n",
        "mesh2_2=np.concatenate((x_mesh2, y_mesh2), axis=1)\n",
        "# x_mesh[:5]"
      ],
      "metadata": {
        "id": "3dQ65Yh5Pc9A"
      },
      "execution_count": null,
      "outputs": []
    },
    {
      "cell_type": "code",
      "source": [
        "mesh_predics2_01=scaler_T2.inverse_transform(  bp2_01.run( scaler_X2.transform(mesh2_2) )  )"
      ],
      "metadata": {
        "id": "rt46ppZCPvET"
      },
      "execution_count": null,
      "outputs": []
    },
    {
      "cell_type": "code",
      "source": [
        "mesh_predics2_01"
      ],
      "metadata": {
        "id": "wtBpAjlRQg3h"
      },
      "execution_count": null,
      "outputs": []
    },
    {
      "cell_type": "code",
      "source": [
        "fig_equil2_2 = make_subplots(rows=2, cols=2, subplot_titles=('H3PO4_org','water_org','solvent_aq','SO4_org'), column_widths=[0.5, 0.5], vertical_spacing=0.05,\n",
        "                     specs=[[{\"type\": \"scene\"}, {\"type\": \"scene\"}],[{\"type\": \"scene\"}, {\"type\": \"scene\"}]])\n",
        "\n",
        "fig_equil2_2.add_trace(go.Scatter3d(x=data2.H3PO4_aq, y=data2.SO4_aq, z=data2.H3PO4_org, mode='markers', name='H3PO4_org'), 1, 1)\n",
        "fig_equil2_2.add_trace(go.Scatter3d(x=data2.H3PO4_aq, y=data2.SO4_aq, z=data2.water_org, mode='markers', name='water_org'), 1, 2)\n",
        "fig_equil2_2.add_trace(go.Scatter3d(x=data2.H3PO4_aq, y=data2.SO4_aq, z=data2.solvent_aq, mode='markers', name='solvent_aq'), 2, 1)\n",
        "fig_equil2_2.add_trace(go.Scatter3d(x=data2.H3PO4_aq, y=data2.SO4_aq, z=data2.SO4_org, mode='markers', name='SO4_org'), 2, 2)\n",
        "\n",
        "fig_equil2_2.add_trace(go.Scatter3d(x=x_mesh2[:,0], y=y_mesh2[:,0], z=mesh_predics2_01[:,0], mode='markers',marker_color='green', marker_size=0.5, name='model mesh', visible='legendonly'),1,1)\n",
        "fig_equil2_2.add_trace(go.Scatter3d(x=x_mesh2[:,0], y=y_mesh2[:,0], z=mesh_predics2_01[:,1], mode='markers',marker_color='green', marker_size=0.5, name='model mesh', visible='legendonly'),1,2)\n",
        "fig_equil2_2.add_trace(go.Scatter3d(x=x_mesh2[:,0], y=y_mesh2[:,0], z=mesh_predics2_01[:,2], mode='markers',marker_color='green', marker_size=0.5, name='model mesh', visible='legendonly'),2,1)\n",
        "fig_equil2_2.add_trace(go.Scatter3d(x=x_mesh2[:,0], y=y_mesh2[:,0], z=mesh_predics2_01[:,3], mode='markers',marker_color='green', marker_size=0.5, name='model mesh', visible='legendonly'),2,2)\n",
        "\n",
        "fig_equil2_2.update_layout(title='', autosize=True,\n",
        "                  width=800, height=800,\n",
        "                  margin=dict(l=0, r=0, b=0, t=30),\n",
        "                  )\n",
        "\n",
        "fig_equil2_2.update_layout(\n",
        "    scene1_zaxis_range=[0,15],\n",
        "    scene2_zaxis_range=[8,10],\n",
        "    scene3_zaxis_range=[0,3],\n",
        "    scene4_zaxis_range=[.05,.1],\n",
        "    )\n",
        "\n",
        "fig_equil2_2.update_scenes(xaxis_title='H3PO4_aq', yaxis_title='SO4_aq', camera_eye=dict(x=1.5, y=1.5, z=1.5))\n",
        "\n",
        "fig_equil2_2.show()"
      ],
      "metadata": {
        "id": "PHw3S_PcQ6Vz"
      },
      "execution_count": null,
      "outputs": []
    },
    {
      "cell_type": "markdown",
      "source": [
        "### 4 together - 5 hidden"
      ],
      "metadata": {
        "id": "M26C2TxBWWmq"
      }
    },
    {
      "cell_type": "markdown",
      "source": [
        "#### parameter searching"
      ],
      "metadata": {
        "id": "rufulMR4WWmr"
      }
    },
    {
      "cell_type": "code",
      "source": [
        "bp_iter=VectorBackProp(layers=[2,5,4], hidden_activation = 'prelu')\n",
        "learning_rate = [0.005, 0.01, 0.05]\n",
        "momentum_term = [0.8, 0.9, 0.95]\n",
        "learning_rate_decay = [0, 0.5]\n",
        "repeats = range(5)\n",
        "rows=len(learning_rate) * len(momentum_term) * len(learning_rate_decay) * len(repeats)\n",
        "print ('total runs:', rows)\n",
        "output = np.zeros((rows,5))\n",
        "i=0\n",
        "weights_list = []\n",
        "for lr in learning_rate:\n",
        "    for mt in momentum_term:\n",
        "        for lrd in learning_rate_decay:\n",
        "            for rep in repeats:\n",
        "                bp_iter.fit(X_sc2, T_sc2, epochs=1000, learning_rate = lr, momentum_term = mt, learning_rate_decay = lrd, repeat=False)\n",
        "                relative_delta=[(a-b)/a*100 for a,b in zip(bp_iter.loss_list,[0]+bp_iter.loss_list[:-1])]\n",
        "                output[i] = [lr, mt, lrd, bp_iter.loss_list[-1], relative_delta[-1]]\n",
        "                weights_list.append(bp_iter.export_weights())\n",
        "                print (i, end=' ')\n",
        "                if i%25==0 and i>0:\n",
        "                    print ('\\n')\n",
        "                i+=1\n"
      ],
      "metadata": {
        "id": "_Pc-JShqWWmr"
      },
      "execution_count": null,
      "outputs": []
    },
    {
      "cell_type": "code",
      "source": [
        "output_table = pd.DataFrame(data=output, columns=['learning_rate', 'momentum_term', 'learning_rate_decay', 'final_loss', 'relative_delta'])\n",
        "output_table.fillna(value = 1.1, inplace = True)\n",
        "output_table.sort_values(by=['final_loss'])"
      ],
      "metadata": {
        "id": "Dt778mCiWWms"
      },
      "execution_count": null,
      "outputs": []
    },
    {
      "cell_type": "code",
      "source": [
        "# weights_list[64]"
      ],
      "metadata": {
        "id": "42ggOiXSWWms"
      },
      "execution_count": null,
      "outputs": []
    },
    {
      "cell_type": "code",
      "source": [
        "fig = go.Figure(data=\n",
        "    go.Parcoords(\n",
        "\n",
        "        dimensions = list([\n",
        "            dict(\n",
        "                label = 'learning_rate', values = output_table['learning_rate']),\n",
        "            dict(\n",
        "                label = 'momentum_term', values = output_table['momentum_term']),\n",
        "            dict(range = [0, 1],\n",
        "                label = 'learning_rate_decay', values = output_table['learning_rate_decay']),\n",
        "            dict(range = [0, 0.2],\n",
        "                label = 'final_loss', values = output_table['final_loss']),\n",
        "            dict(\n",
        "                label = 'relative_delta', values = output_table['relative_delta']),\n",
        "        ])\n",
        "    )\n",
        ")\n",
        "\n",
        "fig.update_layout(\n",
        "    plot_bgcolor = 'white',\n",
        "    paper_bgcolor = 'white'\n",
        ")\n",
        "\n",
        "fig.show()"
      ],
      "metadata": {
        "id": "YM7N5RCPWWmt"
      },
      "execution_count": null,
      "outputs": []
    },
    {
      "cell_type": "markdown",
      "source": [
        "#### running best parameters"
      ],
      "metadata": {
        "id": "FUcyUuKOWWmt"
      }
    },
    {
      "cell_type": "code",
      "source": [
        "bp_iter=VectorBackProp(layers=[2,5,4], hidden_activation = 'prelu')\n",
        "weights_lists2=[]\n",
        "loss_lists2=[]\n",
        "relative_delta_lists2=[]\n",
        "n = 10\n",
        "for i in range(n):\n",
        "    bp_iter.fit(X_sc2, T_sc2, epochs=1500, learning_rate = 0.05, momentum_term = 0.9, learning_rate_decay = 0, repeat=False)\n",
        "    relative_delta=[(a-b)/a*100 for a,b in zip(bp_iter.loss_list,[0]+bp_iter.loss_list[:-1])]\n",
        "    weights_lists2.append(bp_iter.export_weights())\n",
        "    loss_lists2.append(bp_iter.loss_list)\n",
        "    relative_delta_lists2.append(relative_delta)"
      ],
      "metadata": {
        "id": "tH-Mb6ChWWmt"
      },
      "execution_count": null,
      "outputs": []
    },
    {
      "cell_type": "code",
      "source": [
        "fig2=go.Figure()\n",
        "[fig2.add_trace(go.Scatter(y=loss_lists2[i][100:], name=i)) for i in range(n)]\n",
        "fig2.update_layout (yaxis_range=[0,0.05], title='Loss')\n",
        "fig2.show()"
      ],
      "metadata": {
        "id": "-AAQJgaKWWmu"
      },
      "execution_count": null,
      "outputs": []
    },
    {
      "cell_type": "markdown",
      "source": [
        "#### best_weights_for_now"
      ],
      "metadata": {
        "id": "9I-1DTOyWWmu"
      }
    },
    {
      "cell_type": "code",
      "source": [
        "best_weights_for_now4=weights_lists2[0] # 5 hidden\n",
        "best_weights_for_now4"
      ],
      "metadata": {
        "id": "5rsTrxpKWWmu"
      },
      "execution_count": null,
      "outputs": []
    },
    {
      "cell_type": "code",
      "source": [
        "manual_best_weights_for_now4=[[[-0.49713918706342886,\n",
        "   0.1950284001898634,\n",
        "   0.3000286638538871,\n",
        "   2.942836725200948,\n",
        "   -1.777182367796712],\n",
        "  [2.1234531580838945,\n",
        "   -0.5308939551421104,\n",
        "   1.5451518611127595,\n",
        "   -0.43183539769698653,\n",
        "   -1.353510483105784]],\n",
        " [[-5.943166311786588,\n",
        "   0.5436660955058797,\n",
        "   -1.505456576119919,\n",
        "   -2.9099233142370085,\n",
        "   0.63874921575053]],\n",
        " [[0.6631567120354075,\n",
        "   1.7152225538132848,\n",
        "   -1.926593325437448,\n",
        "   0.2593021750619779],\n",
        "  [0.1590583031187942,\n",
        "   -0.3475279357013146,\n",
        "   -0.8488900298997195,\n",
        "   -0.9144956943161578],\n",
        "  [-0.7480193778822165,\n",
        "   1.0922520235074942,\n",
        "   0.6924882000692089,\n",
        "   -1.9518238819373117],\n",
        "  [1.4121712190765998,\n",
        "   1.8210598982444497,\n",
        "   -2.656747328453359,\n",
        "   0.026146767983708605],\n",
        "  [-1.091064184783977,\n",
        "   1.3878567618032225,\n",
        "   0.2004093181868182,\n",
        "   0.9479273709076199]],\n",
        " [[0.5932312645572166,\n",
        "   -0.9965956124325036,\n",
        "   0.5675174709474265,\n",
        "   0.34346613214124766]]]\n",
        "\n",
        " # 5 relu\n",
        " # epochs=1500, learning_rate = 0.05, momentum_term = 0.9, learning_rate_decay = 0\n",
        " # loss = .0004"
      ],
      "metadata": {
        "id": "UYcHZ-LGWWmv"
      },
      "execution_count": null,
      "outputs": []
    },
    {
      "cell_type": "markdown",
      "source": [
        "#### fitting best parameters"
      ],
      "metadata": {
        "id": "9NN5Dmv6WWmv"
      }
    },
    {
      "cell_type": "code",
      "source": [
        "bp2_02=VectorBackProp(layers=[2,5,4], hidden_activation = 'prelu')"
      ],
      "metadata": {
        "id": "CVdZt1h-WWmv"
      },
      "execution_count": null,
      "outputs": []
    },
    {
      "cell_type": "code",
      "source": [
        "# bp2_02.import_weights(best_weights_for_now4)\n",
        "bp2_02.import_weights(manual_best_weights_for_now4)\n",
        "bp2_02.fit(X_sc2, T_sc2, epochs=5000, learning_rate = 0.1, momentum_term = 0.9, learning_rate_decay = 1, repeat=True)"
      ],
      "metadata": {
        "id": "H-Hrk4-WWWmw"
      },
      "execution_count": null,
      "outputs": []
    },
    {
      "cell_type": "code",
      "source": [
        "fig2_3=go.Figure()\n",
        "fig2_3.add_trace(go.Scatter(y=bp2_02.loss_list[20:], name=''))\n",
        "print('Initial loss =', bp2_02.loss_list[0])\n",
        "print('Final loss =', bp2_02.loss_list[-1])\n",
        "# fig2_3.show()"
      ],
      "metadata": {
        "id": "Uzz07OgaWWmw"
      },
      "execution_count": null,
      "outputs": []
    },
    {
      "cell_type": "markdown",
      "source": [
        "#### prediction"
      ],
      "metadata": {
        "id": "OqbpNb3sWWmw"
      }
    },
    {
      "cell_type": "code",
      "source": [
        "predics2_02=scaler_T2.inverse_transform(bp2_02.run(X_sc2))\n",
        "predics2_02"
      ],
      "metadata": {
        "id": "qoG_HzwVWWmx"
      },
      "execution_count": null,
      "outputs": []
    },
    {
      "cell_type": "code",
      "source": [
        "pred=predics2_02\n",
        "predics1_y1=pred[:,0]\n",
        "error1_y1=(predics1_y1-T2[:,0])/T2[:,0]*100\n",
        "predics1_y2=pred[:,1]\n",
        "error1_y2=(predics1_y2-T2[:,1])/T2[:,1]*100\n",
        "predics1_y3=pred[:,2]\n",
        "error1_y3=(predics1_y3-T2[:,2])/T2[:,2]*100\n",
        "predics1_y4=pred[:,3]\n",
        "error1_y4=(predics1_y4-T2[:,3])/T2[:,3]*100\n",
        "\n",
        "plt.hist(error1_y1)\n",
        "plt.hist(error1_y2)\n",
        "plt.hist(error1_y3)\n",
        "plt.hist(error1_y4)\n",
        "\n",
        "plt.legend(['H3PO4_org','water_org','solvent_aq','SO4_org'])\n",
        "plt.show()"
      ],
      "metadata": {
        "id": "8w_1tSfyWWmx"
      },
      "execution_count": null,
      "outputs": []
    },
    {
      "cell_type": "code",
      "source": [
        "fig = make_subplots(rows=1, cols=4, subplot_titles=('H3PO4_org','water_org','solvent_aq','SO4_org'), column_widths=[0.25, 0.25, 0.25, 0.25],\n",
        "                     specs=[[{\"secondary_y\": True}, {\"secondary_y\": True}, {\"secondary_y\": True}, {\"secondary_y\": True}]])\n",
        "\n",
        "fig.add_trace(go.Scatter(x=T2[:,0] , y=predics1_y1, mode='markers', marker_size=4, name='predics H3PO4_org', marker_color='black' ), 1, 1)\n",
        "fig.add_trace(go.Scatter(x=T2[:,1] , y=predics1_y2, mode='markers', marker_size=4, name='predics water_org', marker_color='black' ), 1, 2)\n",
        "fig.add_trace(go.Scatter(x=T2[:,2] , y=predics1_y3, mode='markers', marker_size=4, name='predics solvent_aq', marker_color='black' ), 1, 3)\n",
        "fig.add_trace(go.Scatter(x=T2[:,3] , y=predics1_y4, mode='markers', marker_size=4, name='predics SO4_org', marker_color='black' ), 1, 4)\n",
        "\n",
        "fig.add_trace(go.Scatter(x=T2[:,0] , y=error1_y1, mode='markers', marker_size=4, name='error H3PO4_org', marker_color='orange' ), 1, 1, secondary_y=True,)\n",
        "fig.add_trace(go.Scatter(x=T2[:,1] , y=error1_y2, mode='markers', marker_size=4, name='error water_org', marker_color='orange' ), 1, 2, secondary_y=True,)\n",
        "fig.add_trace(go.Scatter(x=T2[:,2] , y=error1_y3, mode='markers', marker_size=4, name='error solvent_aq', marker_color='orange' ), 1, 3, secondary_y=True,)\n",
        "fig.add_trace(go.Scatter(x=T2[:,3] , y=error1_y3, mode='markers', marker_size=4, name='error SO4_org', marker_color='orange' ), 1, 4, secondary_y=True,)\n",
        "\n",
        "fig.update_layout(title='', autosize=True,\n",
        "                  width=1550, height=250,\n",
        "                  margin=dict(l=0, r=0, b=0, t=30))\n",
        "\n",
        "fig.show()"
      ],
      "metadata": {
        "id": "0cv6kHF8WWmy"
      },
      "execution_count": null,
      "outputs": []
    },
    {
      "cell_type": "code",
      "source": [
        "data2"
      ],
      "metadata": {
        "id": "oQHwklPfWWmy"
      },
      "execution_count": null,
      "outputs": []
    },
    {
      "cell_type": "markdown",
      "source": [
        "#### mesh"
      ],
      "metadata": {
        "id": "EMlpRnoOWWmy"
      }
    },
    {
      "cell_type": "code",
      "source": [
        "x_mesh, y_mesh = np.linspace(0, 50, 51), np.linspace(0, 0.15, 51)\n",
        "x_mesh, y_mesh = np.meshgrid(x_mesh, y_mesh)\n",
        "x_mesh2 = x_mesh.flatten().reshape(51*51,1)\n",
        "y_mesh2 = y_mesh.flatten().reshape(51*51,1)\n",
        "mesh2_2=np.concatenate((x_mesh2, y_mesh2), axis=1)\n",
        "# x_mesh[:5]"
      ],
      "metadata": {
        "id": "qUglRpkDWWmy"
      },
      "execution_count": null,
      "outputs": []
    },
    {
      "cell_type": "code",
      "source": [
        "mesh_predics2_02=scaler_T2.inverse_transform(  bp2_02.run( scaler_X2.transform(mesh2_2) )  )"
      ],
      "metadata": {
        "id": "iGFxBi9pWWmz"
      },
      "execution_count": null,
      "outputs": []
    },
    {
      "cell_type": "code",
      "source": [
        "mesh_predics2_02"
      ],
      "metadata": {
        "id": "8UbnmgOTWWmz"
      },
      "execution_count": null,
      "outputs": []
    },
    {
      "cell_type": "code",
      "source": [
        "fig_equil2_3 = make_subplots(rows=2, cols=2, subplot_titles=('H3PO4_org','water_org','solvent_aq','SO4_org'), column_widths=[0.5, 0.5], vertical_spacing=0.05,\n",
        "                     specs=[[{\"type\": \"scene\"}, {\"type\": \"scene\"}],[{\"type\": \"scene\"}, {\"type\": \"scene\"}]])\n",
        "\n",
        "fig_equil2_3.add_trace(go.Scatter3d(x=data2.H3PO4_aq, y=data2.SO4_aq, z=data2.H3PO4_org, mode='markers', name='H3PO4_org'), 1, 1)\n",
        "fig_equil2_3.add_trace(go.Scatter3d(x=data2.H3PO4_aq, y=data2.SO4_aq, z=data2.water_org, mode='markers', name='water_org'), 1, 2)\n",
        "fig_equil2_3.add_trace(go.Scatter3d(x=data2.H3PO4_aq, y=data2.SO4_aq, z=data2.solvent_aq, mode='markers', name='solvent_aq'), 2, 1)\n",
        "fig_equil2_3.add_trace(go.Scatter3d(x=data2.H3PO4_aq, y=data2.SO4_aq, z=data2.SO4_org, mode='markers', name='SO4_org'), 2, 2)\n",
        "\n",
        "fig_equil2_3.add_trace(go.Scatter3d(x=x_mesh2[:,0], y=y_mesh2[:,0], z=mesh_predics2_02[:,0], mode='markers',marker_color='green', marker_size=0.5, name='model mesh', visible='legendonly'),1,1)\n",
        "fig_equil2_3.add_trace(go.Scatter3d(x=x_mesh2[:,0], y=y_mesh2[:,0], z=mesh_predics2_02[:,1], mode='markers',marker_color='green', marker_size=0.5, name='model mesh', visible='legendonly'),1,2)\n",
        "fig_equil2_3.add_trace(go.Scatter3d(x=x_mesh2[:,0], y=y_mesh2[:,0], z=mesh_predics2_02[:,2], mode='markers',marker_color='green', marker_size=0.5, name='model mesh', visible='legendonly'),2,1)\n",
        "fig_equil2_3.add_trace(go.Scatter3d(x=x_mesh2[:,0], y=y_mesh2[:,0], z=mesh_predics2_02[:,3], mode='markers',marker_color='green', marker_size=0.5, name='model mesh', visible='legendonly'),2,2)\n",
        "\n",
        "fig_equil2_3.update_layout(title='', autosize=True,\n",
        "                  width=800, height=800,\n",
        "                  margin=dict(l=0, r=0, b=0, t=30),\n",
        "                  )\n",
        "\n",
        "fig_equil2_3.update_layout(\n",
        "    scene1_zaxis_range=[0,15],\n",
        "    scene2_zaxis_range=[8,10],\n",
        "    scene3_zaxis_range=[0,3],\n",
        "    scene4_zaxis_range=[.05,.1],\n",
        "    )\n",
        "\n",
        "fig_equil2_3.update_scenes(xaxis_title='H3PO4_aq', yaxis_title='SO4_aq', camera_eye=dict(x=1.5, y=1.5, z=1.5))\n",
        "\n",
        "fig_equil2_3.show()"
      ],
      "metadata": {
        "id": "L2XKZEdpWWmz"
      },
      "execution_count": null,
      "outputs": []
    },
    {
      "cell_type": "markdown",
      "source": [
        "### H3PO4_org"
      ],
      "metadata": {
        "id": "8h4IESZCVfBs"
      }
    },
    {
      "cell_type": "code",
      "source": [
        "X2=np.array(data2)[:,[0,1]]\n",
        "T2_1=np.array(data2)[:,[2]]"
      ],
      "metadata": {
        "id": "ZKZB5sW7eo3m"
      },
      "execution_count": null,
      "outputs": []
    },
    {
      "cell_type": "code",
      "source": [
        "scaler_X2 = preprocessing.StandardScaler().fit(X2)\n",
        "scaler_T2_1 = preprocessing.StandardScaler().fit(T2_1)\n",
        "\n",
        "scaler_data2_1 = [scaler_X2.mean_, scaler_X2.scale_, scaler_T2_1.mean_, scaler_T2_1.scale_]\n",
        "print('scaler X -- mean, stdev:  ',scaler_data2_1[0], scaler_data2_1[1])\n",
        "print('scaler T -- mean, stdev:  ',scaler_data2_1[2], scaler_data2_1[3])\n",
        "\n",
        "X_sc2 = scaler_X2.transform(X2)\n",
        "T_sc2_1 = scaler_T2_1.transform(T2_1)\n",
        "X_sc2[0:3]"
      ],
      "metadata": {
        "id": "eKuS3Vvweo3n"
      },
      "execution_count": null,
      "outputs": []
    },
    {
      "cell_type": "code",
      "source": [
        "bp2_1=VectorBackProp(layers=[2,2,1], hidden_activation = 'prelu')"
      ],
      "metadata": {
        "id": "c0Dz8BMzTaWE"
      },
      "execution_count": null,
      "outputs": []
    },
    {
      "cell_type": "code",
      "source": [
        "bp2_1.fit(X_sc2, T_sc2_1, epochs=1000, learning_rate = 0.01, momentum_term = 0.95, learning_rate_decay = 0)\n",
        "print('Initial loss =', bp2_1.loss_list[0])\n",
        "print('Final loss =', bp2_1.loss_list[-1])"
      ],
      "metadata": {
        "id": "WeCMAb_-ThDf"
      },
      "execution_count": null,
      "outputs": []
    },
    {
      "cell_type": "code",
      "source": [
        "bp2_1.export_weights()"
      ],
      "metadata": {
        "id": "MdQKcf7sUIcu"
      },
      "execution_count": null,
      "outputs": []
    },
    {
      "cell_type": "code",
      "source": [
        "weights2_1=bp2_1.export_weights()"
      ],
      "metadata": {
        "id": "lv1XQrAHXW_k"
      },
      "execution_count": null,
      "outputs": []
    },
    {
      "cell_type": "code",
      "source": [
        "manual_weights2_1=[[[1.7891568738335732, -1.1785291564925502],\n",
        "  [-0.504929133439221, -0.4385439629245994]],\n",
        " [[-1.2274800854986472, 1.060820499155897]],\n",
        " [[1.5766657992281017], [-0.4638647113832393]],\n",
        " [[-0.12921146069478243]]]\n",
        "\n",
        "# 2 hidden prelu\n",
        "# Final loss = 0.00023878868378339208\n",
        "\n",
        "manual_weights2_12=[[[0.1735491429461148, 1.8140938189194906],\n",
        "  [-0.6530409129171293, -0.6441814583921941]],\n",
        " [[0.7411897128053353, -1.2033881701371891]],\n",
        " [[0.3516552639162472], [1.6547118904069311]],\n",
        " [[-1.0860308848681413]]]\n",
        "\n",
        "# 2 hidden prelu\n",
        "# Final loss = 0.00014"
      ],
      "metadata": {
        "id": "rNXhy92zVJIh"
      },
      "execution_count": null,
      "outputs": []
    },
    {
      "cell_type": "code",
      "source": [
        "# bp2_1.import_weights(weights2_1)\n",
        "# bp2_1.import_weights(manual_weights2_1)\n",
        "bp2_1.import_weights(manual_weights2_12)\n",
        "predics2_1=scaler_T2_1.inverse_transform(bp2_1.run(X_sc2))"
      ],
      "metadata": {
        "id": "OphhShUXWDsa"
      },
      "execution_count": null,
      "outputs": []
    },
    {
      "cell_type": "code",
      "source": [
        "# predics2_1, T2_1"
      ],
      "metadata": {
        "id": "8pPIzpm7cvbw"
      },
      "execution_count": null,
      "outputs": []
    },
    {
      "cell_type": "code",
      "source": [
        "error2_1=(predics2_1[:,0]-T2_1[:,0])/T2_1[:,0]*100\n",
        "plt.hist(error2_1)\n",
        "plt.show()"
      ],
      "metadata": {
        "id": "782KUf9VXlog"
      },
      "execution_count": null,
      "outputs": []
    },
    {
      "cell_type": "code",
      "source": [
        "mesh_predics2_1=scaler_T2_1.inverse_transform(  bp2_1.run( scaler_X2.transform(mesh2_2) )  )\n",
        "# mesh_predics2_1"
      ],
      "metadata": {
        "id": "94UQ1GhdYrdL"
      },
      "execution_count": null,
      "outputs": []
    },
    {
      "cell_type": "markdown",
      "source": [
        "### water_org"
      ],
      "metadata": {
        "id": "vbjJvCTCiR9c"
      }
    },
    {
      "cell_type": "code",
      "source": [
        "X2=np.array(data2)[:,[0,1]]\n",
        "T2_2=np.array(data2)[:,[3]]"
      ],
      "metadata": {
        "id": "vfBoMn-0iR9j"
      },
      "execution_count": null,
      "outputs": []
    },
    {
      "cell_type": "code",
      "source": [
        "scaler_X2 = preprocessing.StandardScaler().fit(X2)\n",
        "scaler_T2_2 = preprocessing.StandardScaler().fit(T2_2)\n",
        "\n",
        "scaler_data2_2 = [scaler_X2.mean_, scaler_X2.scale_, scaler_T2_2.mean_, scaler_T2_2.scale_]\n",
        "print('scaler X -- mean, stdev:  ',scaler_data2_2[0], scaler_data2_2[1])\n",
        "print('scaler T -- mean, stdev:  ',scaler_data2_2[2], scaler_data2_2[3])\n",
        "\n",
        "X_sc2 = scaler_X2.transform(X2)\n",
        "T_sc2_2 = scaler_T2_2.transform(T2_2)\n",
        "X_sc2[0:3]"
      ],
      "metadata": {
        "id": "pMNMjyjXiR9k"
      },
      "execution_count": null,
      "outputs": []
    },
    {
      "cell_type": "markdown",
      "source": [],
      "metadata": {
        "id": "ozia-jGV3KWm"
      }
    },
    {
      "cell_type": "markdown",
      "source": [
        "parameter searching"
      ],
      "metadata": {
        "id": "w37Nb79e3KnJ"
      }
    },
    {
      "cell_type": "code",
      "source": [
        "bp_iter=VectorBackProp(layers=[2,2,1], hidden_activation = 'prelu')\n",
        "learning_rate = [0.005, 0.01, 0.05]\n",
        "momentum_term = [0.8, 0.9, 0.95]\n",
        "learning_rate_decay = [0, 0.5]\n",
        "repeats = range(5)\n",
        "rows=len(learning_rate) * len(momentum_term) * len(learning_rate_decay) * len(repeats)\n",
        "print ('total runs:', rows)\n",
        "output = np.zeros((rows,5))\n",
        "i=0\n",
        "weights_list = []\n",
        "for lr in learning_rate:\n",
        "    for mt in momentum_term:\n",
        "        for lrd in learning_rate_decay:\n",
        "            for rep in repeats:\n",
        "                bp_iter.fit(X_sc2, T_sc2_2, epochs=1000, learning_rate = lr, momentum_term = mt, learning_rate_decay = lrd, repeat=False)\n",
        "                relative_delta=[(a-b)/a*100 for a,b in zip(bp_iter.loss_list,[0]+bp_iter.loss_list[:-1])]\n",
        "                output[i] = [lr, mt, lrd, bp_iter.loss_list[-1], relative_delta[-1]]\n",
        "                weights_list.append(bp_iter.export_weights())\n",
        "                print (i, end=' ')\n",
        "                if i%25==0 and i>0:\n",
        "                    print ('\\n')\n",
        "                i+=1\n"
      ],
      "metadata": {
        "id": "XzCgoURP3KnK"
      },
      "execution_count": null,
      "outputs": []
    },
    {
      "cell_type": "code",
      "source": [
        "output_table = pd.DataFrame(data=output, columns=['learning_rate', 'momentum_term', 'learning_rate_decay', 'final_loss', 'relative_delta'])\n",
        "output_table.fillna(value = 1.1, inplace = True)\n",
        "output_table.sort_values(by=['final_loss'])"
      ],
      "metadata": {
        "id": "-FlX5o_V3KnL"
      },
      "execution_count": null,
      "outputs": []
    },
    {
      "cell_type": "code",
      "source": [
        "weights_list[60]"
      ],
      "metadata": {
        "id": "jSslznfz3KnM"
      },
      "execution_count": null,
      "outputs": []
    },
    {
      "cell_type": "code",
      "source": [
        "fig = go.Figure(data=\n",
        "    go.Parcoords(\n",
        "\n",
        "        dimensions = list([\n",
        "            dict(\n",
        "                label = 'learning_rate', values = output_table['learning_rate']),\n",
        "            dict(\n",
        "                label = 'momentum_term', values = output_table['momentum_term']),\n",
        "            dict(range = [0, 1],\n",
        "                label = 'learning_rate_decay', values = output_table['learning_rate_decay']),\n",
        "            dict(range = [0, 0.2],\n",
        "                label = 'final_loss', values = output_table['final_loss']),\n",
        "            dict(\n",
        "                label = 'relative_delta', values = output_table['relative_delta']),\n",
        "        ])\n",
        "    )\n",
        ")\n",
        "\n",
        "fig.update_layout(\n",
        "    plot_bgcolor = 'white',\n",
        "    paper_bgcolor = 'white'\n",
        ")\n",
        "\n",
        "fig.show()"
      ],
      "metadata": {
        "id": "zNfjX0CJ3KnM"
      },
      "execution_count": null,
      "outputs": []
    },
    {
      "cell_type": "code",
      "source": [
        "bp2_2=VectorBackProp(layers=[2,2,1], hidden_activation = 'prelu')"
      ],
      "metadata": {
        "id": "yIyTgy7XiR9k"
      },
      "execution_count": null,
      "outputs": []
    },
    {
      "cell_type": "code",
      "source": [
        "bp2_2.fit(X_sc2, T_sc2_2, epochs=1000, learning_rate = 0.005, momentum_term = 0.95, learning_rate_decay = 0)\n",
        "print('Initial loss =', bp2_2.loss_list[0])\n",
        "print('Final loss =', bp2_2.loss_list[-1])"
      ],
      "metadata": {
        "id": "mXuj6UIXiR9k"
      },
      "execution_count": null,
      "outputs": []
    },
    {
      "cell_type": "code",
      "source": [
        "bp2_2.export_weights()"
      ],
      "metadata": {
        "id": "fNRgegrmiR9k"
      },
      "execution_count": null,
      "outputs": []
    },
    {
      "cell_type": "code",
      "source": [
        "manual_weights2_2=[[[-2.3688210444515527, 2.098731394118159],\n",
        "  [-1.1028505358197696, -4.289031245616676]],\n",
        " [[1.0951314669487642, -8.766706105459567]],\n",
        " [[0.7892953147766246], [-1.3482461942845092]],\n",
        " [[-0.9630528809172003]]]\n",
        "\n",
        "# 2 hidden prelu\n",
        "# Final loss = 0.026\n",
        "\n",
        "manual_weights2_22=[[[-1.356083366626272, 2.1006456906712234],\n",
        "  [-0.6309805208401018, -0.5374527149916659]],\n",
        " [[1.0515374304634164, -2.3182953246087115]],\n",
        " [[1.4841383017903245], [3.153523627853289]],\n",
        " [[-1.7074908699001965]]]\n",
        "\n",
        "# 2 hidden prelu\n",
        "# Final loss = 0.007"
      ],
      "metadata": {
        "id": "lKNktYi1iR9k"
      },
      "execution_count": null,
      "outputs": []
    },
    {
      "cell_type": "code",
      "source": [
        "bp2_2.import_weights(manual_weights2_22)\n",
        "predics2_2=scaler_T2_2.inverse_transform(bp2_2.run(X_sc2))"
      ],
      "metadata": {
        "id": "4TVVBwEgiR9l"
      },
      "execution_count": null,
      "outputs": []
    },
    {
      "cell_type": "code",
      "source": [
        "error2_2=(predics2_2[:,0]-T2_2[:,0])/T2_2[:,0]*100\n",
        "plt.hist(error2_2)\n",
        "plt.show()"
      ],
      "metadata": {
        "id": "96to2Vr6iR9l"
      },
      "execution_count": null,
      "outputs": []
    },
    {
      "cell_type": "code",
      "source": [
        "mesh_predics2_2=scaler_T2_2.inverse_transform(  bp2_2.run( scaler_X2.transform(mesh2_2) )  )\n",
        "# mesh_predics2_2"
      ],
      "metadata": {
        "id": "muzhV5VBiR9l"
      },
      "execution_count": null,
      "outputs": []
    },
    {
      "cell_type": "markdown",
      "source": [
        "### solvent_aq"
      ],
      "metadata": {
        "id": "cKn14fKF7AdK"
      }
    },
    {
      "cell_type": "code",
      "source": [
        "X2=np.array(data2)[:,[0,1]]\n",
        "T2_3=np.array(data2)[:,[4]]"
      ],
      "metadata": {
        "id": "upmB_8337AdK"
      },
      "execution_count": null,
      "outputs": []
    },
    {
      "cell_type": "code",
      "source": [
        "scaler_X2 = preprocessing.StandardScaler().fit(X2)\n",
        "scaler_T2_3 = preprocessing.StandardScaler().fit(T2_3)\n",
        "\n",
        "scaler_data2_3 = [scaler_X2.mean_, scaler_X2.scale_, scaler_T2_3.mean_, scaler_T2_3.scale_]\n",
        "print('scaler X -- mean, stdev:  ',scaler_data2_3[0], scaler_data2_3[1])\n",
        "print('scaler T -- mean, stdev:  ',scaler_data2_3[2], scaler_data2_3[3])\n",
        "\n",
        "X_sc2 = scaler_X2.transform(X2)\n",
        "T_sc2_3 = scaler_T2_3.transform(T2_3)\n",
        "X_sc2[0:3]"
      ],
      "metadata": {
        "id": "9mqJWMju7AdL"
      },
      "execution_count": null,
      "outputs": []
    },
    {
      "cell_type": "markdown",
      "source": [
        "parameter searching"
      ],
      "metadata": {
        "id": "CuLmVCvP8Fmm"
      }
    },
    {
      "cell_type": "code",
      "source": [
        "bp_iter=VectorBackProp(layers=[2,2,1], hidden_activation = 'prelu')\n",
        "learning_rate = [0.005, 0.01, 0.05]\n",
        "momentum_term = [0.8, 0.9, 0.95]\n",
        "learning_rate_decay = [0, 0.5]\n",
        "repeats = range(5)\n",
        "rows=len(learning_rate) * len(momentum_term) * len(learning_rate_decay) * len(repeats)\n",
        "print ('total runs:', rows)\n",
        "output = np.zeros((rows,5))\n",
        "i=0\n",
        "weights_list = []\n",
        "for lr in learning_rate:\n",
        "    for mt in momentum_term:\n",
        "        for lrd in learning_rate_decay:\n",
        "            for rep in repeats:\n",
        "                bp_iter.fit(X_sc2, T_sc2_3, epochs=1000, learning_rate = lr, momentum_term = mt, learning_rate_decay = lrd, repeat=False)\n",
        "                relative_delta=[(a-b)/a*100 for a,b in zip(bp_iter.loss_list,[0]+bp_iter.loss_list[:-1])]\n",
        "                output[i] = [lr, mt, lrd, bp_iter.loss_list[-1], relative_delta[-1]]\n",
        "                weights_list.append(bp_iter.export_weights())\n",
        "                print (i, end=' ')\n",
        "                if i%25==0 and i>0:\n",
        "                    print ('\\n')\n",
        "                i+=1\n"
      ],
      "metadata": {
        "id": "gBJd7ZyC8Fmn"
      },
      "execution_count": null,
      "outputs": []
    },
    {
      "cell_type": "code",
      "source": [
        "output_table = pd.DataFrame(data=output, columns=['learning_rate', 'momentum_term', 'learning_rate_decay', 'final_loss', 'relative_delta'])\n",
        "output_table.fillna(value = 1.1, inplace = True)\n",
        "output_table.sort_values(by=['final_loss'])"
      ],
      "metadata": {
        "id": "rmUwHA2r8Fmo"
      },
      "execution_count": null,
      "outputs": []
    },
    {
      "cell_type": "code",
      "source": [
        "weights_list[70]"
      ],
      "metadata": {
        "id": "GIBxkRxW8Fmo"
      },
      "execution_count": null,
      "outputs": []
    },
    {
      "cell_type": "code",
      "source": [
        "fig = go.Figure(data=\n",
        "    go.Parcoords(\n",
        "\n",
        "        dimensions = list([\n",
        "            dict(\n",
        "                label = 'learning_rate', values = output_table['learning_rate']),\n",
        "            dict(\n",
        "                label = 'momentum_term', values = output_table['momentum_term']),\n",
        "            dict(range = [0, 1],\n",
        "                label = 'learning_rate_decay', values = output_table['learning_rate_decay']),\n",
        "            dict(range = [0, 0.2],\n",
        "                label = 'final_loss', values = output_table['final_loss']),\n",
        "            dict(\n",
        "                label = 'relative_delta', values = output_table['relative_delta']),\n",
        "        ])\n",
        "    )\n",
        ")\n",
        "\n",
        "fig.update_layout(\n",
        "    plot_bgcolor = 'white',\n",
        "    paper_bgcolor = 'white'\n",
        ")\n",
        "\n",
        "fig.show()"
      ],
      "metadata": {
        "id": "zBUE1a918Fmp"
      },
      "execution_count": null,
      "outputs": []
    },
    {
      "cell_type": "code",
      "source": [
        "bp2_3=VectorBackProp(layers=[2,2,1], hidden_activation = 'prelu')"
      ],
      "metadata": {
        "id": "UKtpcHws7AdM"
      },
      "execution_count": null,
      "outputs": []
    },
    {
      "cell_type": "code",
      "source": [
        "bp2_3.fit(X_sc2, T_sc2_3, epochs=1000, learning_rate = 0.005, momentum_term = 0.95, learning_rate_decay = 0)\n",
        "print('Initial loss =', bp2_3.loss_list[0])\n",
        "print('Final loss =', bp2_3.loss_list[-1])"
      ],
      "metadata": {
        "id": "yGSdE3FH7AdM"
      },
      "execution_count": null,
      "outputs": []
    },
    {
      "cell_type": "code",
      "source": [
        "bp2_3.export_weights()"
      ],
      "metadata": {
        "id": "7UM2qywS7AdM"
      },
      "execution_count": null,
      "outputs": []
    },
    {
      "cell_type": "code",
      "source": [
        "manual_weights2_3=[[[-1.0434539247186463, -0.840891516715229],\n",
        "  [-0.22875054162539293, -0.12682741253900376]],\n",
        " [[1.1115656735349122, 0.7810694575866067]],\n",
        " [[0.6969716415327804], [0.5332714811363267]],\n",
        " [[-1.191251818678171]]]\n",
        "\n",
        "# 2 hidden prelu\n",
        "# Final loss = 0.077\n",
        "\n",
        "manual_weights2_32=[[[2.0994823528593702, -1.2293957752203057],\n",
        "  [-0.6972915446623457, 0.5216771334283966]],\n",
        " [[-2.3459563115354527, 1.775004898861346]],\n",
        " [[-3.1726827033207408], [0.4025651395234753]],\n",
        " [[-0.4638947231253712]]]\n",
        "\n",
        "# 2 hidden prelu\n",
        "# Final loss = 0"
      ],
      "metadata": {
        "id": "uF0KZ4Kz7AdN"
      },
      "execution_count": null,
      "outputs": []
    },
    {
      "cell_type": "code",
      "source": [
        "bp2_3.import_weights(manual_weights2_32)\n",
        "predics2_3=scaler_T2_3.inverse_transform(bp2_3.run(X_sc2))"
      ],
      "metadata": {
        "id": "Bioiy2GU7AdN"
      },
      "execution_count": null,
      "outputs": []
    },
    {
      "cell_type": "code",
      "source": [
        "predics2_3[:,0]"
      ],
      "metadata": {
        "id": "r9KzaGNJj786"
      },
      "execution_count": null,
      "outputs": []
    },
    {
      "cell_type": "code",
      "source": [
        "error2_3=(predics2_3[:,0]-T2_3[:,0])/T2_3[:,0]*100\n",
        "plt.hist(error2_3)\n",
        "plt.show()"
      ],
      "metadata": {
        "id": "Uygzy_tW7AdO"
      },
      "execution_count": null,
      "outputs": []
    },
    {
      "cell_type": "code",
      "source": [
        "mesh_predics2_3=scaler_T2_3.inverse_transform(  bp2_3.run( scaler_X2.transform(mesh2_2) )  )\n",
        "# mesh_predics2_3"
      ],
      "metadata": {
        "id": "f3xDbMdv7AdO"
      },
      "execution_count": null,
      "outputs": []
    },
    {
      "cell_type": "markdown",
      "source": [
        "### SO4_org"
      ],
      "metadata": {
        "id": "UEvpp4SB83cz"
      }
    },
    {
      "cell_type": "code",
      "source": [
        "X2=np.array(data2)[:,[0,1]]\n",
        "T2_4=np.array(data2)[:,[5]]"
      ],
      "metadata": {
        "id": "hLzUizoo83c0"
      },
      "execution_count": null,
      "outputs": []
    },
    {
      "cell_type": "code",
      "source": [
        "scaler_X2 = preprocessing.StandardScaler().fit(X2)\n",
        "scaler_T2_4 = preprocessing.StandardScaler().fit(T2_4)\n",
        "\n",
        "scaler_data2_4 = [scaler_X2.mean_, scaler_X2.scale_, scaler_T2_4.mean_, scaler_T2_4.scale_]\n",
        "print('scaler X -- mean, stdev:  ',scaler_data2_4[0], scaler_data2_4[1])\n",
        "print('scaler T -- mean, stdev:  ',scaler_data2_4[2], scaler_data2_4[3])\n",
        "\n",
        "X_sc2 = scaler_X2.transform(X2)\n",
        "T_sc2_4 = scaler_T2_4.transform(T2_4)\n",
        "X_sc2[0:3]"
      ],
      "metadata": {
        "id": "c5wESAhQ83c0"
      },
      "execution_count": null,
      "outputs": []
    },
    {
      "cell_type": "markdown",
      "source": [
        "parameter searching"
      ],
      "metadata": {
        "id": "6fvGu6AM83c1"
      }
    },
    {
      "cell_type": "code",
      "source": [
        "bp_iter=VectorBackProp(layers=[2,2,1], hidden_activation = 'prelu')\n",
        "learning_rate = [0.005, 0.01, 0.05]\n",
        "momentum_term = [0.9, 0.95, 0.98]\n",
        "learning_rate_decay = [0, 0.5]\n",
        "repeats = range(10)\n",
        "rows=len(learning_rate) * len(momentum_term) * len(learning_rate_decay) * len(repeats)\n",
        "print ('total runs:', rows)\n",
        "output = np.zeros((rows,5))\n",
        "i=0\n",
        "weights_list = []\n",
        "for lr in learning_rate:\n",
        "    for mt in momentum_term:\n",
        "        for lrd in learning_rate_decay:\n",
        "            for rep in repeats:\n",
        "                bp_iter.fit(X_sc2, T_sc2_4, epochs=1000, learning_rate = lr, momentum_term = mt, learning_rate_decay = lrd, repeat=False)\n",
        "                relative_delta=[(a-b)/a*100 for a,b in zip(bp_iter.loss_list,[0]+bp_iter.loss_list[:-1])]\n",
        "                output[i] = [lr, mt, lrd, bp_iter.loss_list[-1], relative_delta[-1]]\n",
        "                weights_list.append(bp_iter.export_weights())\n",
        "                print (i, end=' ')\n",
        "                if i%25==0 and i>0:\n",
        "                    print ('\\n')\n",
        "                i+=1\n"
      ],
      "metadata": {
        "id": "noiVUN6983c1"
      },
      "execution_count": null,
      "outputs": []
    },
    {
      "cell_type": "code",
      "source": [
        "output_table = pd.DataFrame(data=output, columns=['learning_rate', 'momentum_term', 'learning_rate_decay', 'final_loss', 'relative_delta'])\n",
        "output_table.fillna(value = 1.1, inplace = True)\n",
        "output_table.sort_values(by=['final_loss'])"
      ],
      "metadata": {
        "id": "v5AcQpj383c2"
      },
      "execution_count": null,
      "outputs": []
    },
    {
      "cell_type": "code",
      "source": [
        "weights_list[108]"
      ],
      "metadata": {
        "id": "hNAubcMj83c2"
      },
      "execution_count": null,
      "outputs": []
    },
    {
      "cell_type": "code",
      "source": [
        "weights2_4=weights_list[108]"
      ],
      "metadata": {
        "id": "fJrGDzSq1mae"
      },
      "execution_count": null,
      "outputs": []
    },
    {
      "cell_type": "code",
      "source": [
        "fig = go.Figure(data=\n",
        "    go.Parcoords(\n",
        "\n",
        "        dimensions = list([\n",
        "            dict(\n",
        "                label = 'learning_rate', values = output_table['learning_rate']),\n",
        "            dict(\n",
        "                label = 'momentum_term', values = output_table['momentum_term']),\n",
        "            dict(range = [0, 1],\n",
        "                label = 'learning_rate_decay', values = output_table['learning_rate_decay']),\n",
        "            dict(range = [0, 0.2],\n",
        "                label = 'final_loss', values = output_table['final_loss']),\n",
        "            dict(\n",
        "                label = 'relative_delta', values = output_table['relative_delta']),\n",
        "        ])\n",
        "    )\n",
        ")\n",
        "\n",
        "fig.update_layout(\n",
        "    plot_bgcolor = 'white',\n",
        "    paper_bgcolor = 'white'\n",
        ")\n",
        "\n",
        "fig.show()"
      ],
      "metadata": {
        "id": "Q1-ncQBP83c3"
      },
      "execution_count": null,
      "outputs": []
    },
    {
      "cell_type": "markdown",
      "source": [
        "running best parameters"
      ],
      "metadata": {
        "id": "F_duK2OHAs7n"
      }
    },
    {
      "cell_type": "code",
      "source": [
        "bp_iter=VectorBackProp(layers=[2,2,1], hidden_activation = 'prelu')\n",
        "weights_lists2=[]\n",
        "loss_lists2=[]\n",
        "relative_delta_lists2=[]\n",
        "n = 30\n",
        "for i in range(n):\n",
        "    bp_iter.fit(X_sc2, T_sc2_4, epochs=3000, learning_rate = 0.05, momentum_term = 0.98, learning_rate_decay = 0.3, repeat=False)\n",
        "    relative_delta=[(a-b)/a*100 for a,b in zip(bp_iter.loss_list,[0]+bp_iter.loss_list[:-1])]\n",
        "    weights_lists2.append(bp_iter.export_weights())\n",
        "    loss_lists2.append(bp_iter.loss_list)\n",
        "    relative_delta_lists2.append(relative_delta)"
      ],
      "metadata": {
        "id": "jaYBU_K2As7o"
      },
      "execution_count": null,
      "outputs": []
    },
    {
      "cell_type": "code",
      "source": [
        "fig2=go.Figure()\n",
        "[fig2.add_trace(go.Scatter(y=loss_lists2[i][100:], name=i)) for i in range(n)]\n",
        "fig2.update_layout (yaxis_range=[0,0.05], title='Loss')\n",
        "fig2.show()"
      ],
      "metadata": {
        "id": "pJgDAnAZAs7p"
      },
      "execution_count": null,
      "outputs": []
    },
    {
      "cell_type": "code",
      "source": [
        "best_weights_for_now2_4=weights_lists2[13]\n",
        "best_weights_for_now2_4"
      ],
      "metadata": {
        "id": "HjfJ2RWxBZ9v"
      },
      "execution_count": null,
      "outputs": []
    },
    {
      "cell_type": "code",
      "source": [
        "bp2_4=VectorBackProp(layers=[2,2,1], hidden_activation = 'prelu')"
      ],
      "metadata": {
        "id": "jfRgfHSm83c3"
      },
      "execution_count": null,
      "outputs": []
    },
    {
      "cell_type": "code",
      "source": [
        "# bp2_4.export_weights()"
      ],
      "metadata": {
        "id": "3P14BzrJ83c4"
      },
      "execution_count": null,
      "outputs": []
    },
    {
      "cell_type": "code",
      "source": [
        "manual_weights2_4=[[[-0.16700158966413353, 1.1770332498659186],\n",
        "  [1.4526084685823955, -0.9137197260973858]],\n",
        " [[-0.7468444598517179, 1.2452474051184519]],\n",
        " [[-1.3107172968906877], [-0.9375882900282885]],\n",
        " [[2.199196282499367]]]\n",
        "\n",
        "# 2 hidden prelu\n",
        "# Final loss = 0.1\n",
        "\n",
        "manual_weights2_42=[[[-0.03998713454920765, -1.296313464466576],\n",
        "  [1.3133609043926477, -0.5524389024009899]],\n",
        " [[-0.8849418689452931, 0.7889879563287986]],\n",
        " [[-1.576332174028801], [1.4492604070808766]],\n",
        " [[-0.7102506948766614]]]\n",
        "\n",
        "# 2 hidden prelu\n",
        "# Final loss = 0.002\n",
        "\n",
        "manual_weights2_43=[[[-2.7308241499437758, 1.8373933992350313],\n",
        "  [-2.021898044039464, -0.8845457922101067]],\n",
        " [[1.0694417308325381, 0.08920200363835196]],\n",
        " [[2.7835653102552724], [1.6175935763910405]],\n",
        " [[-4.969235753353272]]]\n",
        "# 2 hidden prelu\n",
        "# Final loss = 0.0008"
      ],
      "metadata": {
        "id": "soLSjNuW83c4"
      },
      "execution_count": null,
      "outputs": []
    },
    {
      "cell_type": "code",
      "source": [
        "bp2_4.import_weights(manual_weights2_43)\n",
        "# bp2_4.import_weights(best_weights_for_now2_4)\n",
        "# bp2_4.import_weights(weights2_4)\n",
        "predics2_4=scaler_T2_4.inverse_transform(bp2_4.run(X_sc2))"
      ],
      "metadata": {
        "id": "ibWwSXrU83c4"
      },
      "execution_count": null,
      "outputs": []
    },
    {
      "cell_type": "code",
      "source": [
        "error2_4=(predics2_4[:,0]-T2_4[:,0])/T2_4[:,0]*100\n",
        "plt.hist(error2_4)\n",
        "plt.show()"
      ],
      "metadata": {
        "id": "P65Ogb3083c5"
      },
      "execution_count": null,
      "outputs": []
    },
    {
      "cell_type": "code",
      "source": [
        "mesh_predics2_4=scaler_T2_4.inverse_transform(  bp2_4.run( scaler_X2.transform(mesh2_2) )  )\n",
        "# mesh_predics2_4"
      ],
      "metadata": {
        "id": "n-IdrSPz83c5"
      },
      "execution_count": null,
      "outputs": []
    },
    {
      "cell_type": "markdown",
      "source": [
        "## Vizualization"
      ],
      "metadata": {
        "id": "jSMCR-PkiJKX"
      }
    },
    {
      "cell_type": "code",
      "source": [
        "fig_equil2_err = make_subplots(rows=1, cols=4, subplot_titles=('H3PO4_org','water_org','solvent_aq','SO4_org'), column_widths=[0.25, 0.25, 0.25, 0.25],\n",
        "                     specs=[[{\"secondary_y\": True}, {\"secondary_y\": True}, {\"secondary_y\": True}, {\"secondary_y\": True}]])\n",
        "\n",
        "fig_equil2_err.add_trace(go.Scatter(x=T2[:,0] , y=predics2_1[:,0], mode='markers', marker_size=4, name='predics H3PO4_org', marker_color='black' ), 1, 1)\n",
        "fig_equil2_err.add_trace(go.Scatter(x=T2[:,1] , y=predics2_2[:,0], mode='markers', marker_size=4, name='predics water_org', marker_color='black' ), 1, 2)\n",
        "fig_equil2_err.add_trace(go.Scatter(x=T2[:,2] , y=predics2_3[:,0], mode='markers', marker_size=4, name='predics solvent_aq', marker_color='black' ), 1, 3)\n",
        "fig_equil2_err.add_trace(go.Scatter(x=T2[:,3] , y=predics2_4[:,0], mode='markers', marker_size=4, name='predics SO4_org', marker_color='black' ), 1, 4)\n",
        "\n",
        "fig_equil2_err.add_trace(go.Scatter(x=T2[:,0] , y=error2_1, mode='markers', marker_size=4, name='error H3PO4_org', marker_color='orange' ), 1, 1, secondary_y=True,)\n",
        "fig_equil2_err.add_trace(go.Scatter(x=T2[:,1] , y=error2_2, mode='markers', marker_size=4, name='error water_org', marker_color='orange' ), 1, 2, secondary_y=True,)\n",
        "fig_equil2_err.add_trace(go.Scatter(x=T2[:,2] , y=error2_3, mode='markers', marker_size=4, name='error solvent_aq', marker_color='orange' ), 1, 3, secondary_y=True,)\n",
        "fig_equil2_err.add_trace(go.Scatter(x=T2[:,3] , y=error2_4, mode='markers', marker_size=4, name='error SO4_org', marker_color='orange' ), 1, 4, secondary_y=True,)\n",
        "\n",
        "fig_equil2_err.update_layout(title='', autosize=True,\n",
        "                  width=1550, height=250,\n",
        "                  margin=dict(l=0, r=0, b=0, t=30))\n",
        "\n",
        "fig_equil2_err.show()"
      ],
      "metadata": {
        "id": "ayJt-PT4_IKM"
      },
      "execution_count": null,
      "outputs": []
    },
    {
      "cell_type": "code",
      "source": [
        "fig_equil2 = make_subplots(rows=2, cols=2, subplot_titles=('H3PO4_org','water_org','solvent_aq','SO4_org'), column_widths=[0.5, 0.5], vertical_spacing=0.05,\n",
        "                     specs=[[{\"type\": \"scene\"}, {\"type\": \"scene\"}],[{\"type\": \"scene\"}, {\"type\": \"scene\"}]])\n",
        "\n",
        "fig_equil2.add_trace(go.Scatter3d(x=data2.H3PO4_aq, y=data2.SO4_aq, z=data2.H3PO4_org, mode='markers', name='H3PO4_org'), 1, 1)\n",
        "fig_equil2.add_trace(go.Scatter3d(x=data2.H3PO4_aq, y=data2.SO4_aq, z=data2.water_org, mode='markers', name='water_org'), 1, 2)\n",
        "fig_equil2.add_trace(go.Scatter3d(x=data2.H3PO4_aq, y=data2.SO4_aq, z=data2.solvent_aq, mode='markers', name='solvent_aq'), 2, 1)\n",
        "fig_equil2.add_trace(go.Scatter3d(x=data2.H3PO4_aq, y=data2.SO4_aq, z=data2.SO4_org, mode='markers', name='SO4_org'), 2, 2)\n",
        "\n",
        "fig_equil2.add_trace(go.Scatter3d(x=x_mesh2[:,0], y=y_mesh2[:,0], z=mesh_predics2_1[:,0], mode='markers',marker_color='green', marker_size=0.5, name='model mesh', visible='legendonly'),1,1)\n",
        "fig_equil2.add_trace(go.Scatter3d(x=x_mesh2[:,0], y=y_mesh2[:,0], z=mesh_predics2_2[:,0], mode='markers',marker_color='green', marker_size=0.5, name='model mesh', visible='legendonly'),1,2)\n",
        "fig_equil2.add_trace(go.Scatter3d(x=x_mesh2[:,0], y=y_mesh2[:,0], z=mesh_predics2_3[:,0], mode='markers',marker_color='green', marker_size=0.5, name='model mesh', visible='legendonly'),2,1)\n",
        "fig_equil2.add_trace(go.Scatter3d(x=x_mesh2[:,0], y=y_mesh2[:,0], z=mesh_predics2_4[:,0], mode='markers',marker_color='green', marker_size=0.5, name='model mesh', visible='legendonly'),2,2)\n",
        "\n",
        "fig_equil2.update_layout(title='', autosize=True,\n",
        "                  width=800, height=800,\n",
        "                  margin=dict(l=0, r=0, b=0, t=30),\n",
        "                  )\n",
        "\n",
        "fig_equil2.update_layout(\n",
        "    scene1_zaxis_range=[0,15],\n",
        "    scene2_zaxis_range=[8,10],\n",
        "    scene3_zaxis_range=[0,3],\n",
        "    scene4_zaxis_range=[0,.1],\n",
        "    )\n",
        "\n",
        "fig_equil2.update_scenes(xaxis_title='H3PO4_aq', yaxis_title='SO4_aq', camera_eye=dict(x=-1.5, y=-1.5, z=1.5))\n",
        "\n",
        "fig_equil2.show()"
      ],
      "metadata": {
        "id": "bDvvSTl-Y45r"
      },
      "execution_count": null,
      "outputs": []
    },
    {
      "cell_type": "code",
      "source": [
        "data2"
      ],
      "metadata": {
        "id": "4hXllOUn4yOR"
      },
      "execution_count": null,
      "outputs": []
    },
    {
      "cell_type": "markdown",
      "source": [
        "## output"
      ],
      "metadata": {
        "id": "HzcQE0HSJQV-"
      }
    },
    {
      "cell_type": "code",
      "source": [
        "print('scaler X -- mean, stdev:  ',scaler_data2[0], scaler_data2[1])\n",
        "print('scaler T -- mean, stdev:  ',scaler_data2[2], scaler_data2[3])"
      ],
      "metadata": {
        "id": "8kOONskZLvC1"
      },
      "execution_count": null,
      "outputs": []
    },
    {
      "cell_type": "code",
      "source": [
        "# H3PO4_org\n",
        "bp2_1.print_weights()"
      ],
      "metadata": {
        "id": "Hs320ZfXJSqa"
      },
      "execution_count": null,
      "outputs": []
    },
    {
      "cell_type": "code",
      "source": [
        "bp2_1.export_weights()"
      ],
      "metadata": {
        "id": "WiqIueFbJsB4"
      },
      "execution_count": null,
      "outputs": []
    },
    {
      "cell_type": "code",
      "source": [
        "print('scaler T -- mean, stdev:  ',scaler_data2_1[2], scaler_data2_1[3])"
      ],
      "metadata": {
        "id": "EFaTN8B81Ugs"
      },
      "execution_count": null,
      "outputs": []
    },
    {
      "cell_type": "code",
      "source": [
        "# water_org\n",
        "bp2_2.print_weights()"
      ],
      "metadata": {
        "id": "6aUDdy-QvtQ1"
      },
      "execution_count": null,
      "outputs": []
    },
    {
      "cell_type": "code",
      "source": [
        "bp2_2.export_weights()"
      ],
      "metadata": {
        "id": "-3uYJGo7vtQ2"
      },
      "execution_count": null,
      "outputs": []
    },
    {
      "cell_type": "code",
      "source": [
        "# solvent_aq\n",
        "bp2_3.print_weights()"
      ],
      "metadata": {
        "id": "FqS7O0HDvt3E"
      },
      "execution_count": null,
      "outputs": []
    },
    {
      "cell_type": "code",
      "source": [
        "bp2_3.export_weights()"
      ],
      "metadata": {
        "id": "3T6ck7tfvt3G"
      },
      "execution_count": null,
      "outputs": []
    },
    {
      "cell_type": "code",
      "source": [
        "# SO4_org\n",
        "bp2_4.print_weights()"
      ],
      "metadata": {
        "id": "SD9h8FQXvugQ"
      },
      "execution_count": null,
      "outputs": []
    },
    {
      "cell_type": "code",
      "source": [
        "bp2_4.export_weights()"
      ],
      "metadata": {
        "id": "ezhHFSzpvugS"
      },
      "execution_count": null,
      "outputs": []
    },
    {
      "cell_type": "markdown",
      "source": [
        "# 3 - EQUIL_rotem_washing3\n",
        "ניסויי הפרדה עם ממס מטוהר"
      ],
      "metadata": {
        "id": "edHHqwprYauN"
      }
    },
    {
      "cell_type": "code",
      "source": [
        "# נתוני פרופיל\n",
        "data=CopyPasteToArray('''\n",
        "H3PO4_aq\tSO4_aq\tH3PO4_org\twater_org\tsolvent_aq\tSO4_org\n",
        "4.15\t0.1470\t0.073\t9.6\t2.5\t0.0626\n",
        "14.9\t0.0806\t0.36\t9.5\t2.2\t0.0852\n",
        "28.6\t0.0329\t1.68\t9.3\t1.9\t0.0787\n",
        "45.7\t0.0106\t8.31\t8.5\t1.6\t0.0664\n",
        "48.2\t0.0078\t10.7\t8.5\t1.3\t0.0631\n",
        "49.4\t0.0058\t12.2\t8.7\t1.0\t0.0641\n",
        "''')\n",
        "# data\n",
        "# data2=pd.DataFrame(data, columns=['H3PO4_aq',\t'SO4_aq',\t'H3PO4_org',\t'water_org',\t'solvent_aq',\t'SO4_org'])\n",
        "data_profile=pd.DataFrame(data[1:], columns=data[0])\n",
        "data_profile_names=CopyPasteToArray('''\n",
        "571\t573\t575\t579\t581\t5150\n",
        "''')\n",
        "# data_profile"
      ],
      "metadata": {
        "id": "iq95gwp5itzI"
      },
      "execution_count": null,
      "outputs": []
    },
    {
      "cell_type": "code",
      "source": [
        "# נתוני ניסויי הפרדה\n",
        "data=CopyPasteToArray('''\n",
        "H3PO4_aq\tSO4_aq\tH3PO4_org\twater_org\tsolvent_aq\tSO4_org\twater_org-original\n",
        "0.011\t0.0932\t0.072\t8.69\t1.70\t0.0186\t12.09\n",
        "10.325\t0.0017\t0.229\t10.66\t1.52\t0.02\t10.66\n",
        "10.380\t0.0990\t0.269\t8.31\t1.50\t0.0208\t10.41\n",
        "19.821\t0.0031\t0.635\t11.3\t1.34\t0.01884\t11.3\n",
        "19.710\t0.0928\t0.773\t10.36\t1.32\t0.0195\t12.34\n",
        "28.710\t0.0057\t1.435\t11.96\t1.28\t0.01978\t11.96\n",
        "27.882\t0.0858\t1.325\t9.7\t1.34\t0.0222\t11.1\n",
        "35.611\t0.0071\t2.871\t11.94\t1.28\t0.036\t11.94\n",
        "35.887\t0.0846\t2.981\t12.02\t1.24\t0.0374\t12.6\n",
        "43.065\t0.0082\t5.328\t12.12\t1.28\t0.057\t12.12\n",
        "43.065\t0.0802\t5.604\t10.38\t1.06\t0.0608\t11.7\n",
        "49.966\t0.0074\t8.723\t12.28\t1.28\t0.0872\t12.28\n",
        "0.017\t0.1540\t0.042\t11.48\t1.46\t0.0164\t13.28\n",
        "4.831\t0.0020\t0.146\t12.7\t1.78\t0.01302\t12.6\n",
        "4.941\t0.1078\t0.173\t12.06\t1.66\t0.0139\t11.84\n",
        "19.600\t0.0033\t0.828\t11.84\t1.38\t0.01688\t11.42\n",
        "19.766\t0.1120\t0.856\t12.46\t1.38\t0.01832\t11.2\n",
        "''')\n",
        "# data\n",
        "# data2=pd.DataFrame(data, columns=['H3PO4_aq',\t'SO4_aq',\t'H3PO4_org',\t'water_org',\t'solvent_aq',\t'SO4_org'])\n",
        "data3=pd.DataFrame(data[1:], columns=data[0])\n",
        "data3_names=CopyPasteToArray('''\n",
        "wp12\twp21\twp22\twp31\twp32\twp41\twp42\twp51\twp52\twp61\twp62\twp71\twp13\tww11\tww12\tww21\tww22\n",
        "''')\n",
        "data3"
      ],
      "metadata": {
        "id": "V7tQHm6JYauO"
      },
      "execution_count": null,
      "outputs": []
    },
    {
      "cell_type": "code",
      "source": [
        "fig_equil3 = make_subplots(rows=2, cols=2, subplot_titles=('H3PO4_org','water_org','solvent_aq','SO4_org'), column_widths=[0.5, 0.5], vertical_spacing=0.05,\n",
        "                     specs=[[{\"type\": \"scene\"}, {\"type\": \"scene\"}],[{\"type\": \"scene\"}, {\"type\": \"scene\"}]])\n",
        "plot_data=data3[:13].copy()\n",
        "text_data=data3_names[0][:13]\n",
        "fig_equil3.add_trace(go.Scatter3d(x=plot_data.H3PO4_aq, y=plot_data.SO4_aq, z=plot_data.H3PO4_org, marker_color='blue', marker_symbol='circle', mode='markers', name='H3PO4_org-purified', text=text_data), 1, 1)\n",
        "fig_equil3.add_trace(go.Scatter3d(x=plot_data.H3PO4_aq, y=plot_data.SO4_aq, z=plot_data.water_org, marker_color='blue', marker_symbol='circle', mode='markers', name='water_org-purified', text=text_data), 1, 2)\n",
        "fig_equil3.add_trace(go.Scatter3d(x=plot_data.H3PO4_aq, y=plot_data.SO4_aq, z=plot_data.solvent_aq, marker_color='blue', marker_symbol='circle', mode='markers', name='solvent_aq-purified', text=text_data), 2, 1)\n",
        "fig_equil3.add_trace(go.Scatter3d(x=plot_data.H3PO4_aq, y=plot_data.SO4_aq, z=plot_data.SO4_org, marker_color='blue', marker_symbol='circle', mode='markers', name='SO4_org-purified', text=text_data), 2, 2)\n",
        "\n",
        "plot_data=data3[13:].copy()\n",
        "text_data=data3_names[0][13:]\n",
        "fig_equil3.add_trace(go.Scatter3d(x=plot_data.H3PO4_aq, y=plot_data.SO4_aq, z=plot_data.H3PO4_org, marker={'color':'blue', 'symbol':'diamond', 'size':6}, mode='markers', name='H3PO4_org-washed', text=text_data), 1, 1)\n",
        "fig_equil3.add_trace(go.Scatter3d(x=plot_data.H3PO4_aq, y=plot_data.SO4_aq, z=plot_data.water_org, marker={'color':'blue', 'symbol':'diamond', 'size':6}, mode='markers', name='water_org-washed', text=text_data), 1, 2)\n",
        "fig_equil3.add_trace(go.Scatter3d(x=plot_data.H3PO4_aq, y=plot_data.SO4_aq, z=plot_data.solvent_aq, marker={'color':'blue', 'symbol':'diamond', 'size':6}, mode='markers', name='solvent_aq-washed', text=text_data), 2, 1)\n",
        "fig_equil3.add_trace(go.Scatter3d(x=plot_data.H3PO4_aq, y=plot_data.SO4_aq, z=plot_data.SO4_org, marker={'color':'blue', 'symbol':'diamond', 'size':6}, mode='markers', name='SO4_org-washed', text=text_data), 2, 2)\n",
        "\n",
        "plot_data=data_profile.copy()\n",
        "text_data=data_profile_names[0]\n",
        "fig_equil3.add_trace(go.Scatter3d(x=plot_data.H3PO4_aq, y=plot_data.SO4_aq, z=plot_data.H3PO4_org, marker={'color':'blue', 'symbol':'x', 'size':3}, mode='markers', name='H3PO4_org-profile', text=text_data, visible='legendonly'), 1, 1)\n",
        "fig_equil3.add_trace(go.Scatter3d(x=plot_data.H3PO4_aq, y=plot_data.SO4_aq, z=plot_data.water_org, marker={'color':'blue', 'symbol':'x', 'size':3}, mode='markers', name='water_org-profile', text=text_data, visible='legendonly'), 1, 2)\n",
        "fig_equil3.add_trace(go.Scatter3d(x=plot_data.H3PO4_aq, y=plot_data.SO4_aq, z=plot_data.solvent_aq, marker={'color':'blue', 'symbol':'x', 'size':3}, mode='markers', name='solvent_aq-profile', text=text_data, visible='legendonly'), 2, 1)\n",
        "fig_equil3.add_trace(go.Scatter3d(x=plot_data.H3PO4_aq, y=plot_data.SO4_aq, z=plot_data.SO4_org, marker={'color':'blue', 'symbol':'x', 'size':3}, mode='markers', name='SO4_org-profile', text=text_data, visible='legendonly'), 2, 2)\n",
        "\n",
        "fig_equil3.update_layout(title='', autosize=True,\n",
        "                  width=810, height=800,\n",
        "                  margin=dict(l=0, r=0, b=0, t=30),\n",
        "\n",
        "                  )\n",
        "\n",
        "fig_equil3.update_layout(\n",
        "    scene1_zaxis_range=[0,10],\n",
        "    scene2_zaxis_range=[8,14],\n",
        "    scene3_zaxis_range=[0,3],\n",
        "    scene4_zaxis_range=[0,.1],\n",
        "    )\n",
        "\n",
        "# fig_equil3.update_scenes(xaxis_title='H3PO4_aq', yaxis_title='SO4_aq', camera_eye=dict(x=1.5, y=1.5, z=1.5))\n",
        "fig_equil3.update_scenes(xaxis_title='H3PO4_aq', yaxis_title='SO4_aq', camera_eye=dict(x=-0.0001, y=-1.5, z=-0.0001))\n",
        "fig_equil3.update_scenes(camera_projection_type=\"orthographic\")\n",
        "# fig_equil3.write_html(\"IAmOH equilibrium experim data 130823.html\")\n",
        "\n",
        "fig_equil3.show()"
      ],
      "metadata": {
        "id": "0LyNpyhwYauP"
      },
      "execution_count": null,
      "outputs": []
    },
    {
      "cell_type": "code",
      "source": [
        "fig_equil3_water = go.Figure()\n",
        "plot_data=data3[:13].copy()\n",
        "text_data=data3_names[0][:13]\n",
        "fig_equil3_water.add_trace(go.Scatter3d(x=plot_data.H3PO4_aq, y=plot_data.SO4_aq, z=plot_data.water_org, marker_color='blue', marker_symbol='circle', mode='markers', name='water_org-purified-retested', text=text_data))\n",
        "fig_equil3_water.add_trace(go.Scatter3d(x=plot_data.H3PO4_aq, y=plot_data.SO4_aq, z=plot_data['water_org-original'], marker_color='red', marker_symbol='circle', mode='markers', name='water_org-purified-original', text=text_data))\n",
        "\n",
        "plot_data=data3[13:].copy()\n",
        "text_data=data3_names[0][13:]\n",
        "fig_equil3_water.add_trace(go.Scatter3d(x=plot_data.H3PO4_aq, y=plot_data.SO4_aq, z=plot_data.water_org, marker={'color':'blue', 'symbol':'diamond', 'size':6}, mode='markers', name='water_org-washed-retested', text=text_data))\n",
        "fig_equil3_water.add_trace(go.Scatter3d(x=plot_data.H3PO4_aq, y=plot_data.SO4_aq, z=plot_data['water_org-original'], marker={'color':'red', 'symbol':'diamond', 'size':6}, mode='markers', name='water_org-washed-original', text=text_data))\n",
        "\n",
        "fig_equil3_water.update_layout(title='', autosize=True,\n",
        "                  # width=810, height=800,\n",
        "                  margin=dict(l=0, r=0, b=0, t=30),\n",
        "                  scene=dict(xaxis_title='H3PO4_aq', yaxis_title='SO4_aq',\n",
        "                             camera_eye=dict(x=-0.0001, y=-2.5, z=-0.0001),\n",
        "                            #  camera_projection_type=\"orthographic\",\n",
        "                             ),\n",
        "                  )\n",
        "\n",
        "# fig_equil3_water.write_html(\"IAmOH equilibrium experim data water 130823.html\")\n",
        "\n",
        "fig_equil3_water.show()"
      ],
      "metadata": {
        "id": "L5B1j9-BG55N"
      },
      "execution_count": null,
      "outputs": []
    },
    {
      "cell_type": "code",
      "source": [
        "# x_mesh, y_mesh = np.linspace(0, 60, 31), np.linspace(0, 0.2, 31) # expanded x and y extrapolation area observation\n",
        "x_mesh, y_mesh = np.linspace(-10, 70, 31), np.linspace(-0.1, 0.35, 31) # more expanded x and y extrapolation area observation\n",
        "x_mesh, y_mesh = np.meshgrid(x_mesh, y_mesh)\n",
        "x_mesh3 = x_mesh.flatten().reshape(31*31,1)\n",
        "y_mesh3 = y_mesh.flatten().reshape(31*31,1)\n",
        "mesh3=np.concatenate((x_mesh3, y_mesh3), axis=1)\n",
        "# x_mesh[:5]"
      ],
      "metadata": {
        "id": "WWte9QylpqG2"
      },
      "execution_count": null,
      "outputs": []
    },
    {
      "cell_type": "code",
      "source": [
        "X3=np.array(data3)[:,[0,1]]\n",
        "T3=np.array(data3)[:,[2,3,4,5]]"
      ],
      "metadata": {
        "id": "3DRwT__JiCqz"
      },
      "execution_count": null,
      "outputs": []
    },
    {
      "cell_type": "code",
      "source": [
        "scaler_X3 = preprocessing.StandardScaler().fit(X3)\n",
        "scaler_T3 = preprocessing.StandardScaler().fit(T3)\n",
        "\n",
        "scaler_data3 = [scaler_X3.mean_, scaler_X3.scale_, scaler_T3.mean_, scaler_T3.scale_]\n",
        "print('scaler X -- mean, stdev:  ',scaler_data3[0], scaler_data3[1])\n",
        "print('scaler T -- mean, stdev:  ',scaler_data3[2], scaler_data3[3])"
      ],
      "metadata": {
        "id": "bi42ObMpZDj2"
      },
      "execution_count": null,
      "outputs": []
    },
    {
      "cell_type": "markdown",
      "source": [
        "## H3PO4_org"
      ],
      "metadata": {
        "id": "wtYXnfn5nVEi"
      }
    },
    {
      "cell_type": "code",
      "source": [
        "X3=np.array(data3)[:,[0,1]]\n",
        "T3_1=np.array(data3)[:,[2]]"
      ],
      "metadata": {
        "id": "KmZ5Z9XNxVS6"
      },
      "execution_count": null,
      "outputs": []
    },
    {
      "cell_type": "code",
      "source": [
        "scaler_X3 = preprocessing.StandardScaler().fit(X3)\n",
        "scaler_T3_1 = preprocessing.StandardScaler().fit(T3_1)\n",
        "\n",
        "scaler_data3_1 = [scaler_X3.mean_, scaler_X3.scale_, scaler_T3_1.mean_, scaler_T3_1.scale_]\n",
        "print('scaler X -- mean, stdev:  ',scaler_data3_1[0], scaler_data3_1[1])\n",
        "print('scaler T -- mean, stdev:  ',scaler_data3_1[2], scaler_data3_1[3])\n",
        "\n",
        "X_sc3 = scaler_X3.transform(X3)\n",
        "T_sc3_1 = scaler_T3_1.transform(T3_1)\n",
        "X_sc3[0:3]"
      ],
      "metadata": {
        "id": "pcLglJBgxVS7"
      },
      "execution_count": null,
      "outputs": []
    },
    {
      "cell_type": "code",
      "source": [
        "bp3_1=VectorBackProp(layers=[2,2,1], hidden_activation = 'prelu')"
      ],
      "metadata": {
        "id": "5EG2IyE3nrk6"
      },
      "execution_count": null,
      "outputs": []
    },
    {
      "cell_type": "code",
      "source": [
        "bp3_1.fit(X_sc3, T_sc3_1, epochs=1000, learning_rate = 0.001, momentum_term = 0.95, learning_rate_decay = 0)\n",
        "print('Initial loss =', bp3_1.loss_list[0])\n",
        "print('Final loss =', bp3_1.loss_list[-1])\n",
        "plt.plot(bp3_1.loss_list)"
      ],
      "metadata": {
        "id": "tob340ZcnrlB"
      },
      "execution_count": null,
      "outputs": []
    },
    {
      "cell_type": "code",
      "source": [
        "bp3_1.export_weights()"
      ],
      "metadata": {
        "id": "rZ3Fk_UDnrlC"
      },
      "execution_count": null,
      "outputs": []
    },
    {
      "cell_type": "code",
      "source": [
        "weights3_1=bp3_1.export_weights()"
      ],
      "metadata": {
        "id": "L0-JmaBRnrlC"
      },
      "execution_count": null,
      "outputs": []
    },
    {
      "cell_type": "code",
      "source": [
        "manual_weights3_1=[[[-0.2328053114817587, 1.4197258515721494],\n",
        "  [-0.013739923476318716, -0.009509632921841494]],\n",
        " [[1.5848282259786703, -0.9625030403646567]],\n",
        " [[-1.3007118041663503], [1.5725920350068667]],\n",
        " [[1.717]]] # manual correction by 0.12 to make positive at (0,0). delta=0.12/2.4=0.05.  Original: 1.6673341551414473\n",
        "\n",
        "# 2 hidden prelu\n",
        "# Final loss = 0.042"
      ],
      "metadata": {
        "id": "duKUb8wrnrlC"
      },
      "execution_count": null,
      "outputs": []
    },
    {
      "cell_type": "code",
      "source": [
        "# bp3_1.import_weights(weights3_1)\n",
        "bp3_1.import_weights(manual_weights3_1)\n",
        "predics3_1=scaler_T3_1.inverse_transform(bp3_1.run(X_sc3))"
      ],
      "metadata": {
        "id": "MfLb8amwnrlD"
      },
      "execution_count": null,
      "outputs": []
    },
    {
      "cell_type": "code",
      "source": [
        "error3_1=(predics3_1[:,0]-T3_1[:,0])/T3_1[:,0]*100\n",
        "plt.hist(error3_1)\n",
        "plt.show()"
      ],
      "metadata": {
        "id": "nCCt1_WOnrlD"
      },
      "execution_count": null,
      "outputs": []
    },
    {
      "cell_type": "code",
      "source": [
        "mesh_predics3_1=scaler_T3_1.inverse_transform(  bp3_1.run( scaler_X3.transform(mesh3) )  )\n",
        "# mesh_predics3_1"
      ],
      "metadata": {
        "id": "QkV-g4zsnrlD"
      },
      "execution_count": null,
      "outputs": []
    },
    {
      "cell_type": "markdown",
      "source": [
        "## water_org"
      ],
      "metadata": {
        "id": "65HWGTb8gK-h"
      }
    },
    {
      "cell_type": "code",
      "source": [
        "X3_2=np.array(data3)[:12,[0,1]]\n",
        "T3_2=np.array(data3)[:12,[3]]"
      ],
      "metadata": {
        "id": "hS9f_BFsgK-i"
      },
      "execution_count": null,
      "outputs": []
    },
    {
      "cell_type": "code",
      "source": [
        "# X3_2"
      ],
      "metadata": {
        "id": "Mm5MMKHC1Htr"
      },
      "execution_count": null,
      "outputs": []
    },
    {
      "cell_type": "code",
      "source": [
        "scaler_X3_2 = preprocessing.StandardScaler().fit(X3_2)\n",
        "scaler_T3_2 = preprocessing.StandardScaler().fit(T3_2)\n",
        "\n",
        "scaler_data3_2 = [scaler_X3_2.mean_, scaler_X3_2.scale_, scaler_T3_2.mean_, scaler_T3_2.scale_]\n",
        "print('scaler X -- mean, stdev:  ',scaler_data3_2[0], scaler_data3_2[1])\n",
        "print('scaler T -- mean, stdev:  ',scaler_data3_2[2], scaler_data3_2[3])\n",
        "\n",
        "X_sc3_2 = scaler_X3_2.transform(X3_2)\n",
        "T_sc3_2 = scaler_T3_2.transform(T3_2)\n",
        "X_sc3_2[0:3]"
      ],
      "metadata": {
        "id": "O5ZRprWKgK-j"
      },
      "execution_count": null,
      "outputs": []
    },
    {
      "cell_type": "code",
      "source": [
        "bp3_2=VectorBackProp(layers=[2,2,1], hidden_activation = 'prelu')"
      ],
      "metadata": {
        "id": "iKu6SqIlgK-k"
      },
      "execution_count": null,
      "outputs": []
    },
    {
      "cell_type": "code",
      "source": [
        "bp3_2.fit(X_sc3_2, T_sc3_2, epochs=1000, learning_rate = 0.001, momentum_term = 0.97, learning_rate_decay = 0)\n",
        "print('Initial loss =', bp3_2.loss_list[0])\n",
        "print('Final loss =', bp3_2.loss_list[-1])\n",
        "plt.plot(bp3_2.loss_list)"
      ],
      "metadata": {
        "id": "ojKHMJxUgK-k"
      },
      "execution_count": null,
      "outputs": []
    },
    {
      "cell_type": "code",
      "source": [
        "bp3_2.export_weights()"
      ],
      "metadata": {
        "id": "JmTGZUP-gK-l"
      },
      "execution_count": null,
      "outputs": []
    },
    {
      "cell_type": "code",
      "source": [
        "weights3_2=bp3_2.export_weights()"
      ],
      "metadata": {
        "id": "aWLyypIkgK-l"
      },
      "execution_count": null,
      "outputs": []
    },
    {
      "cell_type": "code",
      "source": [
        "manual_weights3_2=[[[0.3909002105371126, -0.8406267181665068],\n",
        "  [-0.4530958444599508, 0.704664998208326]],\n",
        " [[-0.09671769242746425, 0.7927475123043677]],\n",
        " [[0.48441213405704675], [-0.7676170242577324]],\n",
        " [[0.6435152247205708]]]\n",
        "\n",
        "# 2 hidden prelu\n",
        "# Final loss = 0.18\n",
        "# Good data only"
      ],
      "metadata": {
        "id": "LgOekL2_gK-m"
      },
      "execution_count": null,
      "outputs": []
    },
    {
      "cell_type": "code",
      "source": [
        "# bp3_2.import_weights(weights3_2)\n",
        "bp3_2.import_weights(manual_weights3_2)\n",
        "predics3_2=scaler_T3_2.inverse_transform(bp3_2.run(X_sc3_2))"
      ],
      "metadata": {
        "id": "D3e56lARgK-m"
      },
      "execution_count": null,
      "outputs": []
    },
    {
      "cell_type": "code",
      "source": [
        "error3_2=(predics3_2[:,0]-T3_2[:,0])/T3_2[:,0]*100\n",
        "plt.hist(error3_2)\n",
        "plt.show()"
      ],
      "metadata": {
        "id": "2mrUXLMKgK-o"
      },
      "execution_count": null,
      "outputs": []
    },
    {
      "cell_type": "code",
      "source": [
        "mesh_predics3_2=scaler_T3_2.inverse_transform(  bp3_2.run( scaler_X3_2.transform(mesh3) )  )\n",
        "# mesh_predics3_2"
      ],
      "metadata": {
        "id": "p5SXxqoHgK-o"
      },
      "execution_count": null,
      "outputs": []
    },
    {
      "cell_type": "markdown",
      "source": [
        "## solvent_aq"
      ],
      "metadata": {
        "id": "cAcxAs3ke9yx"
      }
    },
    {
      "cell_type": "code",
      "source": [
        "X3=np.array(data3)[:,[0,1]]\n",
        "T3_3=np.array(data3)[:,[4]]"
      ],
      "metadata": {
        "id": "zpe962gge9yy"
      },
      "execution_count": null,
      "outputs": []
    },
    {
      "cell_type": "code",
      "source": [
        "scaler_X3 = preprocessing.StandardScaler().fit(X3)\n",
        "scaler_T3_3 = preprocessing.StandardScaler().fit(T3_3)\n",
        "\n",
        "scaler_data3_3 = [scaler_X3.mean_, scaler_X3.scale_, scaler_T3_3.mean_, scaler_T3_3.scale_]\n",
        "print('scaler X -- mean, stdev:  ',scaler_data3_3[0], scaler_data3_3[1])\n",
        "print('scaler T -- mean, stdev:  ',scaler_data3_3[2], scaler_data3_3[3])\n",
        "\n",
        "X_sc3 = scaler_X3.transform(X3)\n",
        "T_sc3_3 = scaler_T3_3.transform(T3_3)\n",
        "X_sc3[0:3]"
      ],
      "metadata": {
        "id": "Cf2XyFGhe9yz"
      },
      "execution_count": null,
      "outputs": []
    },
    {
      "cell_type": "code",
      "source": [
        "bp3_3=VectorBackProp(layers=[2,2,1], hidden_activation = 'prelu')"
      ],
      "metadata": {
        "id": "tsCq-xcDe9y0"
      },
      "execution_count": null,
      "outputs": []
    },
    {
      "cell_type": "code",
      "source": [
        "bp3_3.fit(X_sc3, T_sc3_3, epochs=3000, learning_rate = 0.01, momentum_term = 0.98, learning_rate_decay = 0)\n",
        "print('Initial loss =', bp3_3.loss_list[0])\n",
        "print('Final loss =', bp3_3.loss_list[-1])\n",
        "plt.plot(bp3_3.loss_list)"
      ],
      "metadata": {
        "id": "z5S21WQxe9y0"
      },
      "execution_count": null,
      "outputs": []
    },
    {
      "cell_type": "code",
      "source": [
        "bp3_3.export_weights()"
      ],
      "metadata": {
        "id": "zp4OcS-re9y0"
      },
      "execution_count": null,
      "outputs": []
    },
    {
      "cell_type": "code",
      "source": [
        "weights3_3=bp3_3.export_weights()"
      ],
      "metadata": {
        "id": "w9n9uUtAe9y1"
      },
      "execution_count": null,
      "outputs": []
    },
    {
      "cell_type": "code",
      "source": [
        "manual_weights3_3=[[[0.6217022345240342, 2.8386999598609814],\n",
        "  [-0.6968938452576019, 5.596033242601742]],\n",
        " [[2.7109590937198265, 0.22193377952697202]],\n",
        " [[-0.9372090292368469], [-0.33293100862641933]],\n",
        " [[3.277263990359097]]]\n",
        "\n",
        "# 2 hidden prelu\n",
        "# Final loss = 0.198"
      ],
      "metadata": {
        "id": "rG1SCfn0e9y1"
      },
      "execution_count": null,
      "outputs": []
    },
    {
      "cell_type": "code",
      "source": [
        "manual_weights3_3_2=[[[-7.637254337641781, -0.490322880885377],\n",
        "  [-1.8058063735873857, -0.10159866035465558]],\n",
        " [[-0.843126492292387, -2.3299686091075773]],\n",
        " [[0.2643116291427324], [0.4479958576488306]],\n",
        " [[-0.7056420231884761]]]\n",
        "\n",
        "# 2 hidden prelu # horizontal on highs\n",
        "# Final loss = 0.093"
      ],
      "metadata": {
        "id": "d_5IgZz5-pMS"
      },
      "execution_count": null,
      "outputs": []
    },
    {
      "cell_type": "code",
      "source": [
        "bp3_3.import_weights(weights3_3)\n",
        "bp3_3.import_weights(manual_weights3_3_2)\n",
        "# bp3_3.import_weights(manual_weights3_3)\n",
        "predics3_3=scaler_T3_3.inverse_transform(bp3_3.run(X_sc3))"
      ],
      "metadata": {
        "id": "CwOlDJ5Ye9y1"
      },
      "execution_count": null,
      "outputs": []
    },
    {
      "cell_type": "code",
      "source": [
        "error3_3=(predics3_3[:,0]-T3_3[:,0])/T3_3[:,0]*100\n",
        "plt.hist(error3_3)\n",
        "plt.show()"
      ],
      "metadata": {
        "id": "5gSWcmzDe9y2"
      },
      "execution_count": null,
      "outputs": []
    },
    {
      "cell_type": "code",
      "source": [
        "mesh_predics3_3=scaler_T3_3.inverse_transform(  bp3_3.run( scaler_X3.transform(mesh3) )  )\n",
        "# mesh_predics3_3"
      ],
      "metadata": {
        "id": "xqGYrTaSe9y2"
      },
      "execution_count": null,
      "outputs": []
    },
    {
      "cell_type": "markdown",
      "source": [
        "## SO4_org"
      ],
      "metadata": {
        "id": "PkkRW98hHpYJ"
      }
    },
    {
      "cell_type": "code",
      "source": [
        "X3=np.array(data3)[:,[0,1]]\n",
        "T3_4=np.array(data3)[:,[5]]"
      ],
      "metadata": {
        "id": "7nez7sibHpYJ"
      },
      "execution_count": null,
      "outputs": []
    },
    {
      "cell_type": "code",
      "source": [
        "scaler_X3 = preprocessing.StandardScaler().fit(X3)\n",
        "scaler_T3_4 = preprocessing.StandardScaler().fit(T3_4)\n",
        "\n",
        "scaler_data3_4 = [scaler_X3.mean_, scaler_X3.scale_, scaler_T3_4.mean_, scaler_T3_4.scale_]\n",
        "print('scaler X -- mean, stdev:  ',scaler_data3_4[0], scaler_data3_4[1])\n",
        "print('scaler T -- mean, stdev:  ',scaler_data3_4[2], scaler_data3_4[3])\n",
        "\n",
        "X_sc3 = scaler_X3.transform(X3)\n",
        "T_sc3_4 = scaler_T3_4.transform(T3_4)\n",
        "X_sc3[0:3]"
      ],
      "metadata": {
        "id": "vtN9CSU5HpYJ"
      },
      "execution_count": null,
      "outputs": []
    },
    {
      "cell_type": "code",
      "source": [
        "bp3_4=VectorBackProp(layers=[2,2,1], hidden_activation = 'prelu')"
      ],
      "metadata": {
        "id": "rb2-GQ3THpYK"
      },
      "execution_count": null,
      "outputs": []
    },
    {
      "cell_type": "code",
      "source": [
        "bp3_4.fit(X_sc3, T_sc3_4, epochs=1000, learning_rate = 0.001, momentum_term = 0.95, learning_rate_decay = 0)\n",
        "print('Initial loss =', bp3_4.loss_list[0])\n",
        "print('Final loss =', bp3_4.loss_list[-1])\n",
        "plt.plot(bp3_4.loss_list)"
      ],
      "metadata": {
        "id": "B4ODBsQNHpYK"
      },
      "execution_count": null,
      "outputs": []
    },
    {
      "cell_type": "code",
      "source": [
        "bp3_4.export_weights()"
      ],
      "metadata": {
        "id": "uKhOcEH-HpYK"
      },
      "execution_count": null,
      "outputs": []
    },
    {
      "cell_type": "code",
      "source": [
        "weights3_4=bp3_4.export_weights()"
      ],
      "metadata": {
        "id": "19VbQtFiHpYL"
      },
      "execution_count": null,
      "outputs": []
    },
    {
      "cell_type": "code",
      "source": [
        "manual_weights3_4=[[[-0.10168260750729177, 1.5507975795954547],\n",
        "  [-0.02429351337425621, -5.794943503077378e-05]],\n",
        " [[1.5556257229985646, -0.978368082003519]],\n",
        " [[-1.3219817921544152], [1.6394490601340548]],\n",
        " [[1.5742747334295601]]]\n",
        "# 2 hidden prelu\n",
        "# Final loss = 0.011"
      ],
      "metadata": {
        "id": "T4EQZw2yHpYL"
      },
      "execution_count": null,
      "outputs": []
    },
    {
      "cell_type": "code",
      "source": [
        "# bp3_4.import_weights(weights3_4)\n",
        "bp3_4.import_weights(manual_weights3_4)\n",
        "predics3_4=scaler_T3_4.inverse_transform(bp3_4.run(X_sc3))"
      ],
      "metadata": {
        "id": "N4no-LKdHpYL"
      },
      "execution_count": null,
      "outputs": []
    },
    {
      "cell_type": "code",
      "source": [
        "error3_4=(predics3_4[:,0]-T3_4[:,0])/T3_4[:,0]*100\n",
        "plt.hist(error3_4)\n",
        "plt.show()"
      ],
      "metadata": {
        "id": "ri3OPAOjHpYL"
      },
      "execution_count": null,
      "outputs": []
    },
    {
      "cell_type": "code",
      "source": [
        "mesh_predics3_4=scaler_T3_4.inverse_transform(  bp3_4.run( scaler_X3.transform(mesh3) )  )\n",
        "# mesh_predics3_4"
      ],
      "metadata": {
        "id": "a1i7eE5dHpYM"
      },
      "execution_count": null,
      "outputs": []
    },
    {
      "cell_type": "markdown",
      "source": [
        "## Vizualization"
      ],
      "metadata": {
        "id": "_tKmZ9FiqDgv"
      }
    },
    {
      "cell_type": "code",
      "source": [
        "fig_equil3_err = make_subplots(rows=1, cols=4, subplot_titles=('H3PO4_org','water_org','solvent_aq','SO4_org'), column_widths=[0.25, 0.25, 0.25, 0.25],\n",
        "                     specs=[[{\"secondary_y\": True}, {\"secondary_y\": True}, {\"secondary_y\": True}, {\"secondary_y\": True}]])\n",
        "\n",
        "fig_equil3_err.add_trace(go.Scatter(x=T3[:,0] , y=predics3_1[:,0], mode='markers', marker_size=4, name='predics H3PO4_org', marker_color='black' ), 1, 1)\n",
        "fig_equil3_err.add_trace(go.Scatter(x=T3[:,1] , y=predics3_2[:,0], mode='markers', marker_size=4, name='predics water_org', marker_color='black' ), 1, 2)\n",
        "fig_equil3_err.add_trace(go.Scatter(x=T3[:,2] , y=predics3_3[:,0], mode='markers', marker_size=4, name='predics solvent_aq', marker_color='black' ), 1, 3)\n",
        "fig_equil3_err.add_trace(go.Scatter(x=T3[:,3] , y=predics3_4[:,0], mode='markers', marker_size=4, name='predics SO4_org', marker_color='black' ), 1, 4)\n",
        "\n",
        "fig_equil3_err.add_trace(go.Scatter(x=T3[:,0] , y=error3_1, mode='markers', marker_size=4, name='error H3PO4_org', marker_color='orange' ), 1, 1, secondary_y=True,)\n",
        "fig_equil3_err.add_trace(go.Scatter(x=T3[:,1] , y=error3_2, mode='markers', marker_size=4, name='error water_org', marker_color='orange' ), 1, 2, secondary_y=True,)\n",
        "fig_equil3_err.add_trace(go.Scatter(x=T3[:,2] , y=error3_3, mode='markers', marker_size=4, name='error solvent_aq', marker_color='orange' ), 1, 3, secondary_y=True,)\n",
        "fig_equil3_err.add_trace(go.Scatter(x=T3[:,3] , y=error3_4, mode='markers', marker_size=4, name='error SO4_org', marker_color='orange' ), 1, 4, secondary_y=True,)\n",
        "\n",
        "fig_equil3_err.update_layout(title='', autosize=True,\n",
        "                  width=1550, height=250,\n",
        "                  margin=dict(l=0, r=0, b=0, t=30))\n",
        "\n",
        "fig_equil3_err.show()"
      ],
      "metadata": {
        "id": "85gdw-n5qDgx"
      },
      "execution_count": null,
      "outputs": []
    },
    {
      "cell_type": "code",
      "source": [
        "fig_equil3 = make_subplots(rows=2, cols=2, subplot_titles=('H3PO4_org','water_org','solvent_aq','SO4_org'), column_widths=[0.5, 0.5], vertical_spacing=0.05,\n",
        "                     specs=[[{\"type\": \"scene\"}, {\"type\": \"scene\"}],[{\"type\": \"scene\"}, {\"type\": \"scene\"}]])\n",
        "\n",
        "fig_equil3.add_trace(go.Scatter3d(x=data3.H3PO4_aq, y=data3.SO4_aq, z=data3.H3PO4_org, mode='markers', name='H3PO4_org'), 1, 1)\n",
        "fig_equil3.add_trace(go.Scatter3d(x=data3.H3PO4_aq, y=data3.SO4_aq, z=data3.water_org, mode='markers', name='water_org'), 1, 2)\n",
        "fig_equil3.add_trace(go.Scatter3d(x=data3.H3PO4_aq, y=data3.SO4_aq, z=data3.solvent_aq, mode='markers', name='solvent_aq'), 2, 1)\n",
        "fig_equil3.add_trace(go.Scatter3d(x=data3.H3PO4_aq, y=data3.SO4_aq, z=data3.SO4_org, mode='markers', name='SO4_org'), 2, 2)\n",
        "\n",
        "# visib='legendonly'\n",
        "visib=True\n",
        "\n",
        "fig_equil3.add_trace(go.Scatter3d(x=x_mesh3[:,0], y=y_mesh3[:,0], z=mesh_predics3_1[:,0], mode='markers',marker_color='green', marker_size=0.5, name='model mesh', visible=visib),1,1)\n",
        "fig_equil3.add_trace(go.Scatter3d(x=x_mesh3[:,0], y=y_mesh3[:,0], z=mesh_predics3_2[:,0], mode='markers',marker_color='green', marker_size=0.5, name='model mesh', visible=visib),1,2)\n",
        "fig_equil3.add_trace(go.Scatter3d(x=x_mesh3[:,0], y=y_mesh3[:,0], z=mesh_predics3_3[:,0], mode='markers',marker_color='green', marker_size=0.5, name='model mesh', visible=visib),2,1)\n",
        "fig_equil3.add_trace(go.Scatter3d(x=x_mesh3[:,0], y=y_mesh3[:,0], z=mesh_predics3_4[:,0], mode='markers',marker_color='green', marker_size=0.5, name='model mesh', visible=visib),2,2)\n",
        "\n",
        "fig_equil3.update_layout(title='', autosize=True,\n",
        "                  width=800, height=800,\n",
        "                  margin=dict(l=0, r=0, b=0, t=30),\n",
        "                  )\n",
        "\n",
        "fig_equil3.update_layout(\n",
        "    scene1_zaxis_range=[0,10],\n",
        "    scene2_zaxis_range=[8,14],\n",
        "    scene3_zaxis_range=[0,3],\n",
        "    scene4_zaxis_range=[0,.1],\n",
        "    )\n",
        "\n",
        "# fig_equil3.update_scenes(xaxis_title='H3PO4_aq', yaxis_title='SO4_aq', camera_eye=dict(x=-1.5, y=-1.5, z=1.5))\n",
        "fig_equil3.update_scenes(xaxis_title='H3PO4_aq', yaxis_title='SO4_aq', camera_eye=dict(x=0, y=-2.2, z=0))\n",
        "# fig_equil3.update_scenes(camera_projection_type=\"orthographic\")\n",
        "# fig_equil3.write_html(\"IAmOH equilibrium experim data with models 130823.html\")\n",
        "\n",
        "fig_equil3.show()"
      ],
      "metadata": {
        "id": "kKg35J4ZqDgy"
      },
      "execution_count": null,
      "outputs": []
    },
    {
      "cell_type": "code",
      "source": [],
      "metadata": {
        "id": "dk9g4yHKfuz7"
      },
      "execution_count": null,
      "outputs": []
    },
    {
      "cell_type": "markdown",
      "source": [
        "## output"
      ],
      "metadata": {
        "id": "0f67I6B3UNXh"
      }
    },
    {
      "cell_type": "code",
      "source": [
        "# H3PO4_org\n",
        "bp3_1.print_weights()"
      ],
      "metadata": {
        "id": "71RINe3DUNXk"
      },
      "execution_count": null,
      "outputs": []
    },
    {
      "cell_type": "code",
      "source": [
        "bp3_1.export_weights()"
      ],
      "metadata": {
        "id": "Q2lyzHvVUNXl"
      },
      "execution_count": null,
      "outputs": []
    },
    {
      "cell_type": "code",
      "source": [
        "# water_org\n",
        "bp3_2.print_weights()"
      ],
      "metadata": {
        "id": "ae6z64XbUNXm"
      },
      "execution_count": null,
      "outputs": []
    },
    {
      "cell_type": "code",
      "source": [
        "bp3_2.export_weights()"
      ],
      "metadata": {
        "id": "TsEF_2I5UNXm"
      },
      "execution_count": null,
      "outputs": []
    },
    {
      "cell_type": "code",
      "source": [
        "# solvent_aq\n",
        "bp3_3.print_weights()"
      ],
      "metadata": {
        "id": "yr36GvadUNXn"
      },
      "execution_count": null,
      "outputs": []
    },
    {
      "cell_type": "code",
      "source": [
        "bp3_3.export_weights()"
      ],
      "metadata": {
        "id": "87xsCbPxUNXn"
      },
      "execution_count": null,
      "outputs": []
    },
    {
      "cell_type": "code",
      "source": [
        "# SO4_org\n",
        "bp3_4.print_weights()"
      ],
      "metadata": {
        "id": "G0TzNQo7UNXo"
      },
      "execution_count": null,
      "outputs": []
    },
    {
      "cell_type": "code",
      "source": [
        "bp3_4.export_weights()"
      ],
      "metadata": {
        "id": "Jgv9hh2_UNXp"
      },
      "execution_count": null,
      "outputs": []
    },
    {
      "cell_type": "markdown",
      "source": [
        "# 4 - YPH_pur_1"
      ],
      "metadata": {
        "id": "qFyDX3S7u6gT"
      }
    },
    {
      "cell_type": "code",
      "source": [
        "df=CopyPasteToArray('''\n",
        "Fe_aq\t1/D\n",
        "0.00840\t116.7\n",
        "0.00320\t69.6\n",
        "0.00470\t72.3\n",
        "0.00906\t60.4\n",
        "0.00541\t43.3\n",
        "0.00400\t43.3\n",
        "''')\n",
        "df=pd.DataFrame(df[1:], columns=df[0])\n",
        "df['label']=CopyPasteToArray('''\n",
        "28th\t28th\t28th\t7th\t7th\t7th\n",
        "''')[0]\n",
        "data4=df\n",
        "data4"
      ],
      "metadata": {
        "id": "EE6fI9eVu6-h"
      },
      "execution_count": null,
      "outputs": []
    },
    {
      "cell_type": "code",
      "source": [
        "X4=np.array(data4)[:,[0]]\n",
        "T4=np.array(data4)[:,[1]]"
      ],
      "metadata": {
        "id": "TvzuyZ37wMy-"
      },
      "execution_count": null,
      "outputs": []
    },
    {
      "cell_type": "code",
      "source": [
        "scaler_X4 = preprocessing.StandardScaler().fit(X4)\n",
        "scaler_T4 = preprocessing.StandardScaler().fit(T4)\n",
        "\n",
        "# scaler_X4.mean_, scaler_X4.scale_ = 0, 1 # disable scaling\n",
        "# scaler_T4.mean_, scaler_T4.scale_ = 0, 1 # disable scaling\n",
        "\n",
        "scaler_data4 = [scaler_X4.mean_, scaler_X4.scale_, scaler_T4.mean_, scaler_T4.scale_]\n",
        "print('scaler X -- mean, stdev:  ',scaler_data4[0], scaler_data4[1])\n",
        "print('scaler T -- mean, stdev:  ',scaler_data4[2], scaler_data4[3])\n",
        "\n",
        "# X_sc4 = scaler_X4.transform(X4)\n",
        "# T_sc4 = scaler_T4.transform(T4)\n",
        "# X_sc4[0:3]"
      ],
      "metadata": {
        "id": "GU_8yER1vf-h"
      },
      "execution_count": null,
      "outputs": []
    },
    {
      "cell_type": "markdown",
      "source": [
        "## 28th"
      ],
      "metadata": {
        "id": "_etdxIR5wJnX"
      }
    },
    {
      "cell_type": "code",
      "source": [
        "data4_1=data4[data4.label=='28th']\n",
        "data4_1"
      ],
      "metadata": {
        "id": "xWb1a54rxd-s"
      },
      "execution_count": null,
      "outputs": []
    },
    {
      "cell_type": "code",
      "source": [
        "X4_1=np.array(data4_1)[:,[0]]\n",
        "T4_1=np.array(data4_1)[:,[1]]\n",
        "X_sc4_1 = scaler_X4.transform(X4_1)\n",
        "T_sc4_1 = scaler_T4.transform(T4_1)"
      ],
      "metadata": {
        "id": "nnpn7DVC1zAH"
      },
      "execution_count": null,
      "outputs": []
    },
    {
      "cell_type": "markdown",
      "source": [
        "fitting"
      ],
      "metadata": {
        "id": "V81cdVKw6xbt"
      }
    },
    {
      "cell_type": "code",
      "source": [
        "bp4_1=VectorBackProp(layers=[1,2,1], hidden_activation = 'prelu')"
      ],
      "metadata": {
        "id": "CsyS5CIylhl9"
      },
      "execution_count": null,
      "outputs": []
    },
    {
      "cell_type": "code",
      "source": [
        "bp4_1.fit(X_sc4_1, T_sc4_1, epochs=1000, learning_rate = 0.01, momentum_term = 0.9, learning_rate_decay = 0, init_var=.1, repeat=False)\n",
        "bp4_1.loss_list[-1]"
      ],
      "metadata": {
        "id": "2iwxo9m4lhl9"
      },
      "execution_count": null,
      "outputs": []
    },
    {
      "cell_type": "code",
      "source": [
        "fig1=go.Figure()\n",
        "fig1.add_trace(go.Scatter(y=bp4_1.loss_list[20:], name=''))\n",
        "print('Initial loss =', bp4_1.loss_list[0])\n",
        "print('Final loss =', bp4_1.loss_list[-1])\n",
        "\n",
        "# fig1.update_yaxes(range=[0, 1])\n",
        "# fig1.show()"
      ],
      "metadata": {
        "id": "sGT8TELqlhl9"
      },
      "execution_count": null,
      "outputs": []
    },
    {
      "cell_type": "code",
      "source": [
        "bp4_1.export_weights()"
      ],
      "metadata": {
        "id": "dWLyc_S73eAW"
      },
      "execution_count": null,
      "outputs": []
    },
    {
      "cell_type": "code",
      "source": [
        "weights4_1=[[[-0.40154548631450876, 1.0158534981949772]],\n",
        " [[-0.11055539480943363, 0.41943108875004126]],\n",
        " [[-0.3901591480587056], [1.0810541412468264]],\n",
        " [[0.22480836676521976]]]\n",
        "\n",
        "# 2 hidden prelu\n",
        "# Final loss = 1e-7"
      ],
      "metadata": {
        "id": "p6Gz8D1d3l8Z"
      },
      "execution_count": null,
      "outputs": []
    },
    {
      "cell_type": "code",
      "source": [
        "bp4_1.import_weights(weights4_1)"
      ],
      "metadata": {
        "id": "QhOshVgY3M27"
      },
      "execution_count": null,
      "outputs": []
    },
    {
      "cell_type": "markdown",
      "source": [
        "prediction"
      ],
      "metadata": {
        "id": "tJ-vwiMw62YS"
      }
    },
    {
      "cell_type": "code",
      "source": [
        "predics4_1=scaler_T4.inverse_transform(bp4_1.run(X_sc4_1))\n",
        "# predics4_1[:,0]"
      ],
      "metadata": {
        "id": "X0WurkodmKN9"
      },
      "execution_count": null,
      "outputs": []
    },
    {
      "cell_type": "code",
      "source": [
        "fig = make_subplots(specs=[[{\"secondary_y\": True}]])\n",
        "fig.add_trace(go.Scatter(x=X4_1[:,0], y=T4_1[:,0], mode='markers', marker_color='blue', name='data'),secondary_y=False)\n",
        "# fig.add_trace(go.Scatter(x=X4_1[:,0], y=predics4_1[:,0], mode='markers', marker_color='black', name='prediction'),secondary_y=False)\n",
        "\n",
        "X_mean, X_wigth = X4_1[:,0].mean(), X4_1[:,0].max()-X4_1[:,0].mean()\n",
        "X_extended=np.linspace(X_mean-2*X_wigth, X_mean+2*X_wigth, 51)\n",
        "fig.add_trace(go.Scatter(x=X_extended, y=scaler_T4.inverse_transform(bp4_1.run(scaler_X4.transform(X_extended.reshape(51,1))))[:,0], mode='markers', marker_size=3, name='extenden prediction'),secondary_y=False)\n",
        "\n",
        "fig.update_xaxes(title_text=\"Fe_aq\")\n",
        "\n",
        "# Set y-axes titles\n",
        "fig.update_yaxes(title_text=\"data, predics\", secondary_y=False)\n",
        "fig.update_yaxes(title_text=\"% error\", range=[-2, 2], secondary_y=True, showgrid=False, tick0=-5, dtick=2)\n",
        "\n",
        "fig.show()"
      ],
      "metadata": {
        "id": "Tu8DnNpz4m6D"
      },
      "execution_count": null,
      "outputs": []
    },
    {
      "cell_type": "markdown",
      "source": [
        "## 7th"
      ],
      "metadata": {
        "id": "uVzORqdkLywL"
      }
    },
    {
      "cell_type": "code",
      "source": [
        "data4_2=data4[data4.label=='7th']\n",
        "data4_2"
      ],
      "metadata": {
        "id": "5-2dC2qWLywL"
      },
      "execution_count": null,
      "outputs": []
    },
    {
      "cell_type": "code",
      "source": [
        "X4_2=np.array(data4_2)[:,[0]]\n",
        "T4_2=np.array(data4_2)[:,[1]]\n",
        "X_sc4_2 = scaler_X4.transform(X4_2)\n",
        "T_sc4_2 = scaler_T4.transform(T4_2)"
      ],
      "metadata": {
        "id": "tzAs6dIyLywL"
      },
      "execution_count": null,
      "outputs": []
    },
    {
      "cell_type": "markdown",
      "source": [
        "fitting"
      ],
      "metadata": {
        "id": "JGCxVMQxLywM"
      }
    },
    {
      "cell_type": "code",
      "source": [
        "bp4_2=VectorBackProp(layers=[1,1,1], hidden_activation = 'prelu')"
      ],
      "metadata": {
        "id": "5oRv027gLywM"
      },
      "execution_count": null,
      "outputs": []
    },
    {
      "cell_type": "code",
      "source": [
        "bp4_2.fit(X_sc4_2, T_sc4_2, epochs=1000, learning_rate = 0.001, momentum_term = 0.9, learning_rate_decay = 0, init_var=.1, repeat=False)\n",
        "bp4_2.loss_list[-1]"
      ],
      "metadata": {
        "id": "0nbC8cImLywM"
      },
      "execution_count": null,
      "outputs": []
    },
    {
      "cell_type": "code",
      "source": [
        "fig1=go.Figure()\n",
        "fig1.add_trace(go.Scatter(y=bp4_2.loss_list[20:], name=''))\n",
        "print('Initial loss =', bp4_2.loss_list[0])\n",
        "print('Final loss =', bp4_2.loss_list[-1])\n",
        "\n",
        "# fig1.update_yaxes(range=[0, 1])\n",
        "# fig1.show()"
      ],
      "metadata": {
        "id": "schYpfBCLywM"
      },
      "execution_count": null,
      "outputs": []
    },
    {
      "cell_type": "code",
      "source": [
        "bp4_2.export_weights()"
      ],
      "metadata": {
        "id": "xCLIRZiqLywN"
      },
      "execution_count": null,
      "outputs": []
    },
    {
      "cell_type": "code",
      "source": [
        "weights4_2=[[[0.6358015459841858]],\n",
        " [[0.11489729435026273]],\n",
        " [[0.6396594654110533]],\n",
        " [[-0.9773384906278092]]]\n",
        "\n",
        "# 1 hidden prelu\n",
        "# Final loss = 1e-6"
      ],
      "metadata": {
        "id": "71yMA6amLywN"
      },
      "execution_count": null,
      "outputs": []
    },
    {
      "cell_type": "code",
      "source": [
        "bp4_2.import_weights(weights4_2)"
      ],
      "metadata": {
        "id": "LnbIhK-7LywN"
      },
      "execution_count": null,
      "outputs": []
    },
    {
      "cell_type": "markdown",
      "source": [
        "prediction"
      ],
      "metadata": {
        "id": "pLE3LzPoLywN"
      }
    },
    {
      "cell_type": "code",
      "source": [
        "predics4_2=scaler_T4.inverse_transform(bp4_2.run(X_sc4_2))\n",
        "# predics4_2[:,0]"
      ],
      "metadata": {
        "id": "77mdUnJtLywN"
      },
      "execution_count": null,
      "outputs": []
    },
    {
      "cell_type": "code",
      "source": [
        "fig = make_subplots(specs=[[{\"secondary_y\": True}]])\n",
        "fig.add_trace(go.Scatter(x=X4_2[:,0], y=T4_2[:,0], mode='markers', marker_color='blue', name='data'),secondary_y=False)\n",
        "# fig.add_trace(go.Scatter(x=X4_2[:,0], y=predics4_2[:,0], mode='markers', marker_color='black', name='prediction'),secondary_y=False)\n",
        "\n",
        "X_mean, X_wigth = X4_2[:,0].mean(), X4_2[:,0].max()-X4_2[:,0].mean()\n",
        "X_extended=np.linspace(X_mean-2*X_wigth, X_mean+2*X_wigth, 51)\n",
        "fig.add_trace(go.Scatter(x=X_extended, y=scaler_T4.inverse_transform(bp4_2.run(scaler_X4.transform(X_extended.reshape(51,1))))[:,0], mode='markers', marker_size=3, name='extenden prediction'),secondary_y=False)\n",
        "\n",
        "fig.update_xaxes(title_text=\"Fe_aq\")\n",
        "\n",
        "# Set y-axes titles\n",
        "fig.update_yaxes(title_text=\"data, predics\", secondary_y=False)\n",
        "fig.update_yaxes(title_text=\"% error\", range=[-2, 2], secondary_y=True, showgrid=False, tick0=-5, dtick=2)\n",
        "\n",
        "fig.show()"
      ],
      "metadata": {
        "id": "wHJJIi4wLywO"
      },
      "execution_count": null,
      "outputs": []
    },
    {
      "cell_type": "markdown",
      "source": [
        "## output"
      ],
      "metadata": {
        "id": "H4BNtASJ2wN0"
      }
    },
    {
      "cell_type": "code",
      "source": [
        "fig = go.Figure()\n",
        "fig.add_trace(go.Scatter(x=X4_1[:,0], y=T4_1[:,0], mode='markers', marker_color='lightblue', name='28th'))\n",
        "fig.add_trace(go.Scatter(x=X4_2[:,0], y=T4_2[:,0], mode='markers', marker_color='orange', name='7th'))\n",
        "\n",
        "X_mean, X_wigth = X4_2[:,0].mean(), X4_2[:,0].max()-X4_2[:,0].mean()\n",
        "X_extended=np.linspace(X_mean-2*X_wigth, X_mean+2*X_wigth, 51)\n",
        "fig.add_trace(go.Scatter(x=X_extended, y=scaler_T4.inverse_transform(bp4_1.run(scaler_X4.transform(X_extended.reshape(51,1))))[:,0], mode='markers', marker_color='black', marker_size=2, name=''))\n",
        "fig.add_trace(go.Scatter(x=X_extended, y=scaler_T4.inverse_transform(bp4_2.run(scaler_X4.transform(X_extended.reshape(51,1))))[:,0], mode='markers', marker_color='black', marker_size=2, name=''))\n",
        "\n",
        "fig.update_xaxes(title_text=\"%Fe_aq\", range=[0,.01])\n",
        "fig.update_yaxes(title_text=\"data, predics\", range=[0,160])\n",
        "fig.update_layout(plot_bgcolor='white')\n",
        "\n",
        "fig.show()"
      ],
      "metadata": {
        "id": "UnoGUjiUt4cG"
      },
      "execution_count": null,
      "outputs": []
    },
    {
      "cell_type": "code",
      "source": [
        "print('scaler X -- mean, stdev:  ',scaler_data4[0], scaler_data4[1])\n",
        "print('scaler T -- mean, stdev:  ',scaler_data4[2], scaler_data4[3])"
      ],
      "metadata": {
        "id": "FmLVRCth3Dd1"
      },
      "execution_count": null,
      "outputs": []
    },
    {
      "cell_type": "code",
      "source": [
        "# 28th\n",
        "bp4_1.print_weights()"
      ],
      "metadata": {
        "id": "o6Sd2IFX3Dd2"
      },
      "execution_count": null,
      "outputs": []
    },
    {
      "cell_type": "code",
      "source": [
        "bp4_1.export_weights()"
      ],
      "metadata": {
        "id": "9KJn20Ww3Dd3"
      },
      "execution_count": null,
      "outputs": []
    },
    {
      "cell_type": "code",
      "source": [
        "# 7th\n",
        "bp4_2.print_weights()"
      ],
      "metadata": {
        "id": "YuSmz6YeMm4S"
      },
      "execution_count": null,
      "outputs": []
    },
    {
      "cell_type": "code",
      "source": [
        "bp4_2.export_weights()"
      ],
      "metadata": {
        "id": "yemgdAIuMm4h"
      },
      "execution_count": null,
      "outputs": []
    },
    {
      "cell_type": "code",
      "source": [],
      "metadata": {
        "id": "C1mHjCDKMqBv"
      },
      "execution_count": null,
      "outputs": []
    },
    {
      "cell_type": "markdown",
      "source": [
        "# 5 - EQUIL_rotem_extraction1\n",
        "אזור לא מוחמץ\n",
        "ניסויי הפרדה עם ממס מוחמץ ו-4 די"
      ],
      "metadata": {
        "id": "9dXRWTnvj3H_"
      }
    },
    {
      "cell_type": "code",
      "source": [
        "# נתוני ניסויי הפרדה\n",
        "data=CopyPasteToArray('''\n",
        "H3PO4_aq\tSO4_aq\tFA_aq\tsolvent_aq\tH3PO4_org\tSO4_org\twater_org\n",
        "48.0\t0.20\t97.4\t1.13\t9.0\t0.09\t13.1\n",
        "53.6\t0.22\t89.8\t0.86\t15.0\t0.11\t13.8\n",
        "62.7\t0.24\t70.3\t0.94\t24.8\t0.14\t14.5\n",
        "69.0\t0.22\t64.0\t0.78\t34.8\t0.16\t15.6\n",
        "47.2\t1.10\t104.3\t0.78\t9.3\t0.19\t13.4\n",
        "52.2\t1.10\t100.0\t0.96\t16.3\t0.32\t14.2\n",
        "59.1\t1.06\t100.0\t1.00\t25.3\t0.44\t15.7\n",
        "65.1\t0.94\t100.0\t1.04\t35.3\t0.58\t16.1\n",
        "46.7\t3.04\t113.0\t0.74\t11.0\t0.98\t14.8\n",
        "53.3\t3.02\t107.4\t1.52\t19.3\t1.20\t15.5\n",
        "58.8\t2.90\t106.9\t1.48\t28.7\t1.40\t15.8\n",
        "65.4\t2.82\t109.4\t1.46\t37.8\t1.78\t16.6\n",
        "46.1\t5.20\t121.7\t1.28\t15.7\t1.42\t15.3\n",
        "52.5\t4.96\t115.4\t1.48\t23.3\t2.02\t16.7\n",
        "59.1\t4.86\t112.1\t1.54\t30.9\t2.64\t16.5\n",
        "65.1\t4.56\t112.5\t1.64\t41.1\t3.06\t17.3\n",
        "''')\n",
        "# data\n",
        "data5=pd.DataFrame(data[1:], columns=data[0])\n",
        "data5_names=CopyPasteToArray('''\n",
        "103-1\t103-2\t103-3\t103-4\t103-5\t103-6\t103-7\t103-8\t103-9\t103-10\t103-11\t103-12\t103-13\t103-14\t103-15\t103-16\n",
        "''')\n",
        "data5"
      ],
      "metadata": {
        "id": "ctUrE46Tj3IA"
      },
      "execution_count": null,
      "outputs": []
    },
    {
      "cell_type": "code",
      "source": [
        "fig_equil = make_subplots(rows=2, cols=2, subplot_titles=('H3PO4_org','water_org','solvent_aq','SO4_org'), column_widths=[0.5, 0.5], vertical_spacing=0.05,\n",
        "                     specs=[[{\"type\": \"scene\"}, {\"type\": \"scene\"}],[{\"type\": \"scene\"}, {\"type\": \"scene\"}]])\n",
        "plot_data=data5\n",
        "text_data=data5_names[0]\n",
        "fig_equil.add_trace(go.Scatter3d(x=plot_data.H3PO4_aq, y=plot_data.SO4_aq, z=plot_data.H3PO4_org, marker_color='blue', marker_symbol='circle', mode='markers', name='H3PO4_org-purified', text=text_data), 1, 1)\n",
        "fig_equil.add_trace(go.Scatter3d(x=plot_data.H3PO4_aq, y=plot_data.SO4_aq, z=plot_data.water_org, marker_color='blue', marker_symbol='circle', mode='markers', name='water_org-purified', text=text_data), 1, 2)\n",
        "fig_equil.add_trace(go.Scatter3d(x=plot_data.H3PO4_aq, y=plot_data.SO4_aq, z=plot_data.solvent_aq, marker_color='blue', marker_symbol='circle', mode='markers', name='solvent_aq-purified', text=text_data), 2, 1)\n",
        "fig_equil.add_trace(go.Scatter3d(x=plot_data.H3PO4_aq, y=plot_data.SO4_aq, z=plot_data.SO4_org, marker_color='blue', marker_symbol='circle', mode='markers', name='SO4_org-purified', text=text_data), 2, 2)\n",
        "\n",
        "# plot_data=data3[13:].copy()\n",
        "# text_data=data3_names[0][13:]\n",
        "# fig_equil.add_trace(go.Scatter3d(x=plot_data.H3PO4_aq, y=plot_data.SO4_aq, z=plot_data.H3PO4_org, marker={'color':'blue', 'symbol':'diamond', 'size':6}, mode='markers', name='H3PO4_org-washed', text=text_data), 1, 1)\n",
        "# fig_equil.add_trace(go.Scatter3d(x=plot_data.H3PO4_aq, y=plot_data.SO4_aq, z=plot_data.water_org, marker={'color':'blue', 'symbol':'diamond', 'size':6}, mode='markers', name='water_org-washed', text=text_data), 1, 2)\n",
        "# fig_equil.add_trace(go.Scatter3d(x=plot_data.H3PO4_aq, y=plot_data.SO4_aq, z=plot_data.solvent_aq, marker={'color':'blue', 'symbol':'diamond', 'size':6}, mode='markers', name='solvent_aq-washed', text=text_data), 2, 1)\n",
        "# fig_equil.add_trace(go.Scatter3d(x=plot_data.H3PO4_aq, y=plot_data.SO4_aq, z=plot_data.SO4_org, marker={'color':'blue', 'symbol':'diamond', 'size':6}, mode='markers', name='SO4_org-washed', text=text_data), 2, 2)\n",
        "\n",
        "# plot_data=data_profile.copy()\n",
        "# text_data=data_profile_names[0]\n",
        "# fig_equil.add_trace(go.Scatter3d(x=plot_data.H3PO4_aq, y=plot_data.SO4_aq, z=plot_data.H3PO4_org, marker={'color':'blue', 'symbol':'x', 'size':3}, mode='markers', name='H3PO4_org-profile', text=text_data, visible='legendonly'), 1, 1)\n",
        "# fig_equil.add_trace(go.Scatter3d(x=plot_data.H3PO4_aq, y=plot_data.SO4_aq, z=plot_data.water_org, marker={'color':'blue', 'symbol':'x', 'size':3}, mode='markers', name='water_org-profile', text=text_data, visible='legendonly'), 1, 2)\n",
        "# fig_equil.add_trace(go.Scatter3d(x=plot_data.H3PO4_aq, y=plot_data.SO4_aq, z=plot_data.solvent_aq, marker={'color':'blue', 'symbol':'x', 'size':3}, mode='markers', name='solvent_aq-profile', text=text_data, visible='legendonly'), 2, 1)\n",
        "# fig_equil.add_trace(go.Scatter3d(x=plot_data.H3PO4_aq, y=plot_data.SO4_aq, z=plot_data.SO4_org, marker={'color':'blue', 'symbol':'x', 'size':3}, mode='markers', name='SO4_org-profile', text=text_data, visible='legendonly'), 2, 2)\n",
        "\n",
        "fig_equil.update_layout(title='', autosize=True,\n",
        "                  width=810, height=800,\n",
        "                  margin=dict(l=0, r=0, b=0, t=30),\n",
        "\n",
        "                  )\n",
        "\n",
        "fig_equil.update_layout(\n",
        "    # scene1_zaxis_range=[0,10],\n",
        "    # scene2_zaxis_range=[8,14],\n",
        "    # scene3_zaxis_range=[0,3],\n",
        "    # scene4_zaxis_range=[0,.1],\n",
        "    )\n",
        "\n",
        "# fig_equil.update_scenes(xaxis_title='H3PO4_aq', yaxis_title='SO4_aq', camera_eye=dict(x=1.5, y=1.5, z=1.5))\n",
        "fig_equil.update_scenes(xaxis_title='H3PO4_aq', yaxis_title='SO4_aq', camera_eye=dict(x=-0.0001, y=-1.5, z=-0.0001))\n",
        "fig_equil.update_scenes(camera_projection_type=\"orthographic\")\n",
        "# fig_equil.write_html(\"IAmOH equilibrium experim data 220924.html\")\n",
        "\n",
        "fig_equil.show()"
      ],
      "metadata": {
        "id": "jb-a1spnj3IB"
      },
      "execution_count": null,
      "outputs": []
    },
    {
      "cell_type": "code",
      "source": [
        "# x_mesh, y_mesh = np.linspace(0, 60, 31), np.linspace(0, 0.2, 31) # expanded x and y extrapolation area observation\n",
        "x_mesh, y_mesh = np.linspace(35, 80, 31), np.linspace(-1, 6, 31) # more expanded x and y extrapolation area observation\n",
        "x_mesh, y_mesh = np.meshgrid(x_mesh, y_mesh)\n",
        "x_mesh5 = x_mesh.flatten().reshape(31*31,1)\n",
        "y_mesh5 = y_mesh.flatten().reshape(31*31,1)\n",
        "mesh5=np.concatenate((x_mesh5, y_mesh5), axis=1)\n",
        "# x_mesh5[:5]"
      ],
      "metadata": {
        "id": "IWl2jTT6j3IC"
      },
      "execution_count": null,
      "outputs": []
    },
    {
      "cell_type": "code",
      "source": [
        "X5=np.array(data5)[:,[0,1]]\n",
        "T5=np.array(data5)[:,[2,3,4,5,6]]"
      ],
      "metadata": {
        "id": "z5o724Gwj3IC"
      },
      "execution_count": null,
      "outputs": []
    },
    {
      "cell_type": "code",
      "source": [
        "scaler_X5 = preprocessing.StandardScaler().fit(X5)\n",
        "scaler_T5 = preprocessing.StandardScaler().fit(T5)\n",
        "\n",
        "scaler_data5 = [scaler_X5.mean_, scaler_X5.scale_, scaler_T5.mean_, scaler_T5.scale_]\n",
        "print('scaler X -- mean, stdev:  ',scaler_data5[0], scaler_data5[1])\n",
        "print('scaler T -- mean, stdev:  ',scaler_data5[2], scaler_data5[3])"
      ],
      "metadata": {
        "id": "VF1AJKrQj3ID"
      },
      "execution_count": null,
      "outputs": []
    },
    {
      "cell_type": "markdown",
      "source": [
        "## H3PO4_org"
      ],
      "metadata": {
        "id": "sOyIuFDgj3ID"
      }
    },
    {
      "cell_type": "code",
      "source": [
        "X5=np.array(data5)[:,[0,1]]\n",
        "T5_1=np.array(data5)[:,[4]]"
      ],
      "metadata": {
        "id": "mejVOqV6j3ID"
      },
      "execution_count": null,
      "outputs": []
    },
    {
      "cell_type": "code",
      "source": [
        "scaler_X5 = preprocessing.StandardScaler().fit(X5)\n",
        "scaler_T5_1 = preprocessing.StandardScaler().fit(T5_1)\n",
        "\n",
        "scaler_data5_1 = [scaler_X5.mean_, scaler_X5.scale_, scaler_T5_1.mean_, scaler_T5_1.scale_]\n",
        "print('scaler X -- mean, stdev:  ',scaler_data5_1[0], scaler_data5_1[1])\n",
        "print('scaler T -- mean, stdev:  ',scaler_data5_1[2], scaler_data5_1[3])\n",
        "\n",
        "X_sc5 = scaler_X5.transform(X5)\n",
        "T_sc5_1 = scaler_T5_1.transform(T5_1)\n",
        "X_sc5[0:3]"
      ],
      "metadata": {
        "id": "BxBcxPcyj3IE"
      },
      "execution_count": null,
      "outputs": []
    },
    {
      "cell_type": "code",
      "source": [
        "bp5_1=VectorBackProp(layers=[2,1,1], hidden_activation = 'linear')"
      ],
      "metadata": {
        "id": "H_h1CU5Uj3IE"
      },
      "execution_count": null,
      "outputs": []
    },
    {
      "cell_type": "code",
      "source": [
        "bp5_1.fit(X_sc5, T_sc5_1, epochs=3000, learning_rate = 0.0001, momentum_term = 0.99, learning_rate_decay = 0)\n",
        "print('Initial loss =', bp5_1.loss_list[0])\n",
        "print('Final loss =', bp5_1.loss_list[-1])\n",
        "# plt.plot(bp5_1.loss_list)\n",
        "pd.Series(bp5_1.loss_list).plot()"
      ],
      "metadata": {
        "id": "k3dSZvwJj3IE"
      },
      "execution_count": null,
      "outputs": []
    },
    {
      "cell_type": "code",
      "source": [
        "bp5_1.export_weights()"
      ],
      "metadata": {
        "id": "LMogFMrSj3IE"
      },
      "execution_count": null,
      "outputs": []
    },
    {
      "cell_type": "code",
      "source": [
        "weights5_1=bp5_1.export_weights()"
      ],
      "metadata": {
        "id": "0Y9vGg2oj3IE"
      },
      "execution_count": null,
      "outputs": []
    },
    {
      "cell_type": "code",
      "source": [
        "manual_weights5_1=[[[1.0670521547753584], [0.39537800034564485]],\n",
        " [[0.2058408216045767]],\n",
        " [[0.9162913645305837]],\n",
        " [[-0.18861036627454997]]]\n",
        "\n",
        "# 1 hidden linear\n",
        "# Final loss = 0.019"
      ],
      "metadata": {
        "id": "DIMH3kX551Uk"
      },
      "execution_count": null,
      "outputs": []
    },
    {
      "cell_type": "code",
      "source": [
        "manual_weights5_1_2=[[[-1.3851838095550493, -0.18855492060829807],\n",
        "  [-1.0979883332040439, 0.7277201796079888]],\n",
        " [[3.014085395879424, 0.6099191892141174]],\n",
        " [[-0.6590012121119733], [-0.5545631821225135]],\n",
        " [[2.3650854278478963]]]\n",
        "\n",
        "# 2 hidden prelu\n",
        "# Final loss = 0.011"
      ],
      "metadata": {
        "id": "K4Ym2ibkj3IF"
      },
      "execution_count": null,
      "outputs": []
    },
    {
      "cell_type": "code",
      "source": [
        "# bp5_1.import_weights(weights5_1)\n",
        "bp5_1.import_weights(manual_weights5_1)\n",
        "predics5_1=scaler_T5_1.inverse_transform(bp5_1.run(X_sc5))"
      ],
      "metadata": {
        "id": "yTJYI5BPj3IF"
      },
      "execution_count": null,
      "outputs": []
    },
    {
      "cell_type": "code",
      "source": [
        "error5_1=(predics5_1[:,0]-T5_1[:,0])/T5_1[:,0]*100\n",
        "plt.hist(error5_1)\n",
        "plt.show()"
      ],
      "metadata": {
        "id": "RsCDXGG7j3IF"
      },
      "execution_count": null,
      "outputs": []
    },
    {
      "cell_type": "code",
      "source": [
        "mesh_predics5_1=scaler_T5_1.inverse_transform(bp5_1.run( scaler_X5.transform(mesh5) )  )\n",
        "# mesh_predics5_1"
      ],
      "metadata": {
        "id": "Q5KjIRQ4j3IG"
      },
      "execution_count": null,
      "outputs": []
    },
    {
      "cell_type": "markdown",
      "source": [
        "## water_org"
      ],
      "metadata": {
        "id": "skxlm5H8j3IG"
      }
    },
    {
      "cell_type": "code",
      "source": [
        "X5_2=np.array(data5)[:,[0,1]]\n",
        "T5_2=np.array(data5)[:,[6]]"
      ],
      "metadata": {
        "id": "4S8x0BI3j3IG"
      },
      "execution_count": null,
      "outputs": []
    },
    {
      "cell_type": "code",
      "source": [
        "# X5_2"
      ],
      "metadata": {
        "id": "dkqtIhelj3IG"
      },
      "execution_count": null,
      "outputs": []
    },
    {
      "cell_type": "code",
      "source": [
        "scaler_X5_2 = preprocessing.StandardScaler().fit(X5_2)\n",
        "scaler_T5_2 = preprocessing.StandardScaler().fit(T5_2)\n",
        "\n",
        "scaler_data5_2 = [scaler_X5_2.mean_, scaler_X5_2.scale_, scaler_T5_2.mean_, scaler_T5_2.scale_]\n",
        "print('scaler X -- mean, stdev:  ',scaler_data5_2[0], scaler_data5_2[1])\n",
        "print('scaler T -- mean, stdev:  ',scaler_data5_2[2], scaler_data5_2[3])\n",
        "\n",
        "X_sc5_2 = scaler_X5_2.transform(X5_2)\n",
        "T_sc5_2 = scaler_T5_2.transform(T5_2)\n",
        "X_sc5_2[0:3]"
      ],
      "metadata": {
        "id": "YJ0Zovhwj3IH"
      },
      "execution_count": null,
      "outputs": []
    },
    {
      "cell_type": "code",
      "source": [
        "bp5_2=VectorBackProp(layers=[2,2,1], hidden_activation = 'sigmoid')"
      ],
      "metadata": {
        "id": "IJSLOV_nj3II"
      },
      "execution_count": null,
      "outputs": []
    },
    {
      "cell_type": "code",
      "source": [
        "bp5_2.fit(X_sc5_2, T_sc5_2, epochs=1000, learning_rate = 0.001, momentum_term = 0.97, learning_rate_decay = 0)\n",
        "print('Initial loss =', bp5_2.loss_list[0])\n",
        "print('Final loss =', bp5_2.loss_list[-1])\n",
        "pd.Series(bp5_2.loss_list).plot()"
      ],
      "metadata": {
        "id": "xs2f5UE3j3II"
      },
      "execution_count": null,
      "outputs": []
    },
    {
      "cell_type": "code",
      "source": [
        "bp5_2.export_weights()"
      ],
      "metadata": {
        "id": "tJLQzU2sj3IJ"
      },
      "execution_count": null,
      "outputs": []
    },
    {
      "cell_type": "code",
      "source": [
        "weights5_2=bp5_2.export_weights()"
      ],
      "metadata": {
        "id": "qUOjghS3j3IK"
      },
      "execution_count": null,
      "outputs": []
    },
    {
      "cell_type": "code",
      "source": [
        "manual_weights5_2=[[[-0.18513905603509992, 0.5497838573117609],\n",
        "  [-1.0385958132295354, 0.4923331493275678]],\n",
        " [[-0.5507620346398939, 1.924601819544513]],\n",
        " [[-0.9834276039926533], [1.1361055212682558]],\n",
        " [[-2.0014854414155874]]]\n",
        "\n",
        "# 2 hidden sigmoid\n",
        "# Final loss = 0.047"
      ],
      "metadata": {
        "id": "BZbkGGkoj3IL"
      },
      "execution_count": null,
      "outputs": []
    },
    {
      "cell_type": "code",
      "source": [
        "bp5_2.import_weights(weights5_2)\n",
        "# bp5_2.import_weights(manual_weights5_2)\n",
        "predics5_2=scaler_T5_2.inverse_transform(bp5_2.run(X_sc5_2))"
      ],
      "metadata": {
        "id": "SOcRtw-lj3IL"
      },
      "execution_count": null,
      "outputs": []
    },
    {
      "cell_type": "code",
      "source": [
        "error5_2=(predics5_2[:,0]-T5_2[:,0])/T5_2[:,0]*100\n",
        "plt.hist(error5_2)\n",
        "plt.show()"
      ],
      "metadata": {
        "id": "soQ-nf6kj3IM"
      },
      "execution_count": null,
      "outputs": []
    },
    {
      "cell_type": "code",
      "source": [
        "mesh_predics5_2=scaler_T5_2.inverse_transform(bp5_2.run(scaler_X5_2.transform(mesh5)))\n",
        "# mesh_predics5_2"
      ],
      "metadata": {
        "id": "_as4UEIvj3IM"
      },
      "execution_count": null,
      "outputs": []
    },
    {
      "cell_type": "markdown",
      "source": [
        "## solvent_aq"
      ],
      "metadata": {
        "id": "DyJBEedAj3IN"
      }
    },
    {
      "cell_type": "code",
      "source": [
        "X3=np.array(data3)[:,[0,1]]\n",
        "T3_3=np.array(data3)[:,[4]]"
      ],
      "metadata": {
        "id": "ZmBy_DXij3IN"
      },
      "execution_count": null,
      "outputs": []
    },
    {
      "cell_type": "code",
      "source": [
        "scaler_X3 = preprocessing.StandardScaler().fit(X3)\n",
        "scaler_T3_3 = preprocessing.StandardScaler().fit(T3_3)\n",
        "\n",
        "scaler_data3_3 = [scaler_X3.mean_, scaler_X3.scale_, scaler_T3_3.mean_, scaler_T3_3.scale_]\n",
        "print('scaler X -- mean, stdev:  ',scaler_data3_3[0], scaler_data3_3[1])\n",
        "print('scaler T -- mean, stdev:  ',scaler_data3_3[2], scaler_data3_3[3])\n",
        "\n",
        "X_sc3 = scaler_X3.transform(X3)\n",
        "T_sc3_3 = scaler_T3_3.transform(T3_3)\n",
        "X_sc3[0:3]"
      ],
      "metadata": {
        "id": "h24Hl4dxj3IN"
      },
      "execution_count": null,
      "outputs": []
    },
    {
      "cell_type": "code",
      "source": [
        "bp3_3=VectorBackProp(layers=[2,2,1], hidden_activation = 'prelu')"
      ],
      "metadata": {
        "id": "YJi1U5Kij3IO"
      },
      "execution_count": null,
      "outputs": []
    },
    {
      "cell_type": "code",
      "source": [
        "bp3_3.fit(X_sc3, T_sc3_3, epochs=3000, learning_rate = 0.01, momentum_term = 0.98, learning_rate_decay = 0)\n",
        "print('Initial loss =', bp3_3.loss_list[0])\n",
        "print('Final loss =', bp3_3.loss_list[-1])\n",
        "plt.plot(bp3_3.loss_list)"
      ],
      "metadata": {
        "id": "8jDp0Q7Kj3IO"
      },
      "execution_count": null,
      "outputs": []
    },
    {
      "cell_type": "code",
      "source": [
        "bp3_3.export_weights()"
      ],
      "metadata": {
        "id": "syMQmvSZj3IO"
      },
      "execution_count": null,
      "outputs": []
    },
    {
      "cell_type": "code",
      "source": [
        "weights3_3=bp3_3.export_weights()"
      ],
      "metadata": {
        "id": "BZTvQrOuj3IO"
      },
      "execution_count": null,
      "outputs": []
    },
    {
      "cell_type": "code",
      "source": [
        "manual_weights3_3=[[[0.6217022345240342, 2.8386999598609814],\n",
        "  [-0.6968938452576019, 5.596033242601742]],\n",
        " [[2.7109590937198265, 0.22193377952697202]],\n",
        " [[-0.9372090292368469], [-0.33293100862641933]],\n",
        " [[3.277263990359097]]]\n",
        "\n",
        "# 2 hidden prelu\n",
        "# Final loss = 0.198"
      ],
      "metadata": {
        "id": "3qKNrgbqj3IO"
      },
      "execution_count": null,
      "outputs": []
    },
    {
      "cell_type": "code",
      "source": [
        "manual_weights3_3_2=[[[-7.637254337641781, -0.490322880885377],\n",
        "  [-1.8058063735873857, -0.10159866035465558]],\n",
        " [[-0.843126492292387, -2.3299686091075773]],\n",
        " [[0.2643116291427324], [0.4479958576488306]],\n",
        " [[-0.7056420231884761]]]\n",
        "\n",
        "# 2 hidden prelu # horizontal on highs\n",
        "# Final loss = 0.093"
      ],
      "metadata": {
        "id": "7A60Bs46j3IO"
      },
      "execution_count": null,
      "outputs": []
    },
    {
      "cell_type": "code",
      "source": [
        "bp3_3.import_weights(weights3_3)\n",
        "bp3_3.import_weights(manual_weights3_3_2)\n",
        "# bp3_3.import_weights(manual_weights3_3)\n",
        "predics3_3=scaler_T3_3.inverse_transform(bp3_3.run(X_sc3))"
      ],
      "metadata": {
        "id": "NNaP2n34j3IP"
      },
      "execution_count": null,
      "outputs": []
    },
    {
      "cell_type": "code",
      "source": [
        "error3_3=(predics3_3[:,0]-T3_3[:,0])/T3_3[:,0]*100\n",
        "plt.hist(error3_3)\n",
        "plt.show()"
      ],
      "metadata": {
        "id": "iWZ98b7Sj3IP"
      },
      "execution_count": null,
      "outputs": []
    },
    {
      "cell_type": "code",
      "source": [
        "mesh_predics3_3=scaler_T3_3.inverse_transform(  bp3_3.run( scaler_X3.transform(mesh3) )  )\n",
        "# mesh_predics3_3"
      ],
      "metadata": {
        "id": "hMX0_SUJj3IP"
      },
      "execution_count": null,
      "outputs": []
    },
    {
      "cell_type": "markdown",
      "source": [
        "## SO4_org"
      ],
      "metadata": {
        "id": "J22HqKiij3IP"
      }
    },
    {
      "cell_type": "code",
      "source": [
        "X5=np.array(data5)[:,[0,1]]\n",
        "T5_4=np.array(data5)[:,[5]]"
      ],
      "metadata": {
        "id": "qJhYqjVWj3IP"
      },
      "execution_count": null,
      "outputs": []
    },
    {
      "cell_type": "code",
      "source": [
        "scaler_X5 = preprocessing.StandardScaler().fit(X5)\n",
        "scaler_T5_4 = preprocessing.StandardScaler().fit(T5_4)\n",
        "\n",
        "scaler_data5_4 = [scaler_X5.mean_, scaler_X5.scale_, scaler_T5_4.mean_, scaler_T5_4.scale_]\n",
        "print('scaler X -- mean, stdev:  ',scaler_data5_4[0], scaler_data5_4[1])\n",
        "print('scaler T -- mean, stdev:  ',scaler_data5_4[2], scaler_data5_4[3])\n",
        "\n",
        "X_sc5 = scaler_X5.transform(X5)\n",
        "T_sc5_4 = scaler_T5_4.transform(T5_4)\n",
        "X_sc5[0:3]"
      ],
      "metadata": {
        "id": "n6iRtb69j3IP"
      },
      "execution_count": null,
      "outputs": []
    },
    {
      "cell_type": "code",
      "source": [
        "bp5_4=VectorBackProp(layers=[2,2,1], hidden_activation = 'sigmoid')"
      ],
      "metadata": {
        "id": "4jD3Bn50j3IQ"
      },
      "execution_count": null,
      "outputs": []
    },
    {
      "cell_type": "code",
      "source": [
        "bp5_4.fit(X_sc5, T_sc5_4, epochs=3000, learning_rate = 0.001, momentum_term = 0.98, learning_rate_decay = 0)\n",
        "print('Initial loss =', bp5_4.loss_list[0])\n",
        "print('Final loss =', bp5_4.loss_list[-1])\n",
        "pd.Series(bp5_4.loss_list).plot()"
      ],
      "metadata": {
        "id": "hPQ6MrNJj3IQ"
      },
      "execution_count": null,
      "outputs": []
    },
    {
      "cell_type": "code",
      "source": [
        "bp5_4.export_weights()"
      ],
      "metadata": {
        "id": "ofOZ1d5hj3IQ"
      },
      "execution_count": null,
      "outputs": []
    },
    {
      "cell_type": "code",
      "source": [
        "weights5_4=bp5_4.export_weights()"
      ],
      "metadata": {
        "id": "cHyMvz9Hj3IQ"
      },
      "execution_count": null,
      "outputs": []
    },
    {
      "cell_type": "code",
      "source": [
        "manual_weights5_4=[[[-0.35274005363310085, 1.4046591552407035],\n",
        "  [-2.8611246532158794, 2.171157153962418]],\n",
        " [[-1.2453936690532237, -3.1540515538038076]],\n",
        " [[-1.2861833746112636], [2.7112498478475953]],\n",
        " [[0.10237869547854196]]]\n",
        "\n",
        "# 2 hidden sigmoid\n",
        "# Final loss = 0.005"
      ],
      "metadata": {
        "id": "8VkuH7qbj3IQ"
      },
      "execution_count": null,
      "outputs": []
    },
    {
      "cell_type": "code",
      "source": [
        "# bp5_4.import_weights(weights5_4)\n",
        "bp5_4.import_weights(manual_weights5_4)\n",
        "predics5_4=scaler_T5_4.inverse_transform(bp5_4.run(X_sc5))"
      ],
      "metadata": {
        "id": "4RteDnStj3IQ"
      },
      "execution_count": null,
      "outputs": []
    },
    {
      "cell_type": "code",
      "source": [
        "error5_4=(predics5_4[:,0]-T5_4[:,0])/T5_4[:,0]*100\n",
        "plt.hist(error5_4)\n",
        "plt.show()"
      ],
      "metadata": {
        "id": "dVblIB3zj3IQ"
      },
      "execution_count": null,
      "outputs": []
    },
    {
      "cell_type": "code",
      "source": [
        "mesh_predics5_4=scaler_T5_4.inverse_transform(bp5_4.run(scaler_X5.transform(mesh5)))\n",
        "# mesh_predics5_4"
      ],
      "metadata": {
        "id": "yKdorVLVj3IR"
      },
      "execution_count": null,
      "outputs": []
    },
    {
      "cell_type": "markdown",
      "source": [
        "## Vizualization"
      ],
      "metadata": {
        "id": "35hl1G2Hj3IR"
      }
    },
    {
      "cell_type": "code",
      "source": [
        "fig_equil_err = make_subplots(rows=1, cols=4, subplot_titles=('H3PO4_org','water_org','solvent_aq','SO4_org'), column_widths=[0.25, 0.25, 0.25, 0.25],\n",
        "                     specs=[[{\"secondary_y\": True}, {\"secondary_y\": True}, {\"secondary_y\": True}, {\"secondary_y\": True}]])\n",
        "\n",
        "fig_equil_err.add_trace(go.Scatter(x=T5[:,2] , y=predics5_1[:,0], mode='markers', marker_size=4, name='predics H3PO4_org', marker_color='black' ), 1, 1)\n",
        "fig_equil_err.add_trace(go.Scatter(x=T5_2[:,0] , y=predics5_2[:,0], mode='markers', marker_size=4, name='predics water_org', marker_color='black' ), 1, 2)\n",
        "# fig_equil_err.add_trace(go.Scatter(x=T5[:,2] , y=predics5_3[:,0], mode='markers', marker_size=4, name='predics solvent_aq', marker_color='black' ), 1, 3)\n",
        "fig_equil_err.add_trace(go.Scatter(x=T5[:,3] , y=predics5_4[:,0], mode='markers', marker_size=4, name='predics SO4_org', marker_color='black' ), 1, 4)\n",
        "\n",
        "fig_equil_err.add_trace(go.Scatter(x=T5[:,2] , y=error5_1, mode='markers', marker_size=4, name='error H3PO4_org', marker_color='orange' ), 1, 1, secondary_y=True,)\n",
        "fig_equil_err.add_trace(go.Scatter(x=T5_2[:,0] , y=error5_2, mode='markers', marker_size=4, name='error water_org', marker_color='orange' ), 1, 2, secondary_y=True,)\n",
        "# fig_equil_err.add_trace(go.Scatter(x=T5[:,2] , y=error5_3, mode='markers', marker_size=4, name='error solvent_aq', marker_color='orange' ), 1, 3, secondary_y=True,)\n",
        "fig_equil_err.add_trace(go.Scatter(x=T5[:,3] , y=error5_4, mode='markers', marker_size=4, name='error SO4_org', marker_color='orange' ), 1, 4, secondary_y=True,)\n",
        "\n",
        "fig_equil_err.update_layout(title='', autosize=True,\n",
        "                  width=1550, height=250,\n",
        "                  margin=dict(l=0, r=0, b=0, t=30))\n",
        "\n",
        "fig_equil_err.show()"
      ],
      "metadata": {
        "id": "MaAspe1nj3IR"
      },
      "execution_count": null,
      "outputs": []
    },
    {
      "cell_type": "code",
      "source": [
        "fig_equil = make_subplots(rows=2, cols=2, subplot_titles=('H3PO4_org','water_org','solvent_aq','SO4_org'), column_widths=[0.5, 0.5], vertical_spacing=0.05,\n",
        "                     specs=[[{\"type\": \"scene\"}, {\"type\": \"scene\"}],[{\"type\": \"scene\"}, {\"type\": \"scene\"}]])\n",
        "\n",
        "fig_equil.add_trace(go.Scatter3d(x=data5.H3PO4_aq, y=data5.SO4_aq, z=data5.H3PO4_org, mode='markers', name='H3PO4_org'), 1, 1)\n",
        "fig_equil.add_trace(go.Scatter3d(x=data5.H3PO4_aq, y=data5.SO4_aq, z=data5.water_org, mode='markers', name='water_org'), 1, 2)\n",
        "# fig_equil.add_trace(go.Scatter3d(x=data5.H3PO4_aq, y=data5.SO4_aq, z=data5.solvent_aq, mode='markers', name='solvent_aq'), 2, 1)\n",
        "fig_equil.add_trace(go.Scatter3d(x=data5.H3PO4_aq, y=data5.SO4_aq, z=data5.SO4_org, mode='markers', name='SO4_org'), 2, 2)\n",
        "\n",
        "# visib='legendonly'\n",
        "visib=True\n",
        "\n",
        "fig_equil.add_trace(go.Scatter3d(x=x_mesh5[:,0], y=y_mesh5[:,0], z=mesh_predics5_1[:,0], mode='markers',marker_color='green', marker_size=0.5, name='model mesh', visible=visib),1,1)\n",
        "fig_equil.add_trace(go.Scatter3d(x=x_mesh5[:,0], y=y_mesh5[:,0], z=mesh_predics5_2[:,0], mode='markers',marker_color='green', marker_size=0.5, name='model mesh', visible=visib),1,2)\n",
        "# fig_equil.add_trace(go.Scatter3d(x=x_mesh5[:,0], y=y_mesh5[:,0], z=mesh_predics5_3[:,0], mode='markers',marker_color='green', marker_size=0.5, name='model mesh', visible=visib),2,1)\n",
        "fig_equil.add_trace(go.Scatter3d(x=x_mesh5[:,0], y=y_mesh5[:,0], z=mesh_predics5_4[:,0], mode='markers',marker_color='green', marker_size=0.5, name='model mesh', visible=visib),2,2)\n",
        "\n",
        "fig_equil.update_layout(title='', autosize=True,\n",
        "                  width=800, height=800,\n",
        "                  margin=dict(l=0, r=0, b=0, t=30),\n",
        "                  )\n",
        "\n",
        "fig_equil.update_layout(\n",
        "    # scene1_zaxis_range=[0,10],\n",
        "    # scene2_zaxis_range=[8,14],\n",
        "    # scene3_zaxis_range=[0,3],\n",
        "    # scene4_zaxis_range=[0,.1],\n",
        "    )\n",
        "\n",
        "# fig_equil.update_scenes(xaxis_title='H3PO4_aq', yaxis_title='SO4_aq', camera_eye=dict(x=-1.5, y=-1.5, z=1.5))\n",
        "fig_equil.update_scenes(xaxis_title='H3PO4_aq', yaxis_title='SO4_aq', camera_eye=dict(x=0, y=-2.2, z=0))\n",
        "# fig_equil.update_scenes(camera_projection_type=\"orthographic\")\n",
        "# fig_equil.write_html(\"IAmOH equilibrium experim data with models 130823.html\")\n",
        "\n",
        "fig_equil.show()"
      ],
      "metadata": {
        "id": "1eMpcz8ej3IR"
      },
      "execution_count": null,
      "outputs": []
    },
    {
      "cell_type": "code",
      "source": [],
      "metadata": {
        "id": "fJiLGUP-j3IR"
      },
      "execution_count": null,
      "outputs": []
    },
    {
      "cell_type": "markdown",
      "source": [
        "## output"
      ],
      "metadata": {
        "id": "nYm04vQDj3IS"
      }
    },
    {
      "cell_type": "code",
      "source": [
        "# H3PO4_org\n",
        "bp3_1.print_weights()"
      ],
      "metadata": {
        "id": "1mw6DmnUj3IS"
      },
      "execution_count": null,
      "outputs": []
    },
    {
      "cell_type": "code",
      "source": [
        "bp3_1.export_weights()"
      ],
      "metadata": {
        "id": "pmfFVNl9j3IS"
      },
      "execution_count": null,
      "outputs": []
    },
    {
      "cell_type": "code",
      "source": [
        "# water_org\n",
        "bp3_2.print_weights()"
      ],
      "metadata": {
        "id": "mOPGbCrFj3IS"
      },
      "execution_count": null,
      "outputs": []
    },
    {
      "cell_type": "code",
      "source": [
        "bp3_2.export_weights()"
      ],
      "metadata": {
        "id": "zd2iHJ_Jj3IS"
      },
      "execution_count": null,
      "outputs": []
    },
    {
      "cell_type": "code",
      "source": [
        "# solvent_aq\n",
        "bp3_3.print_weights()"
      ],
      "metadata": {
        "id": "3atU-K28j3IT"
      },
      "execution_count": null,
      "outputs": []
    },
    {
      "cell_type": "code",
      "source": [
        "bp3_3.export_weights()"
      ],
      "metadata": {
        "id": "KqbFpOr7j3IT"
      },
      "execution_count": null,
      "outputs": []
    },
    {
      "cell_type": "code",
      "source": [
        "# SO4_org\n",
        "bp3_4.print_weights()"
      ],
      "metadata": {
        "id": "IeTX-fxbj3IU"
      },
      "execution_count": null,
      "outputs": []
    },
    {
      "cell_type": "code",
      "source": [
        "bp3_4.export_weights()"
      ],
      "metadata": {
        "id": "MZZ1oOcEj3IU"
      },
      "execution_count": null,
      "outputs": []
    }
  ]
}