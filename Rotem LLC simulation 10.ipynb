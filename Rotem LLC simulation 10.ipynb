{
  "nbformat": 4,
  "nbformat_minor": 0,
  "metadata": {
    "colab": {
      "provenance": [],
      "gpuType": "T4",
      "authorship_tag": "ABX9TyOm8U4aZKc28ewwx1aAqQq5",
      "include_colab_link": true
    },
    "kernelspec": {
      "name": "python3",
      "display_name": "Python 3"
    },
    "language_info": {
      "name": "python"
    }
  },
  "cells": [
    {
      "cell_type": "markdown",
      "metadata": {
        "id": "view-in-github",
        "colab_type": "text"
      },
      "source": [
        "<a href=\"https://colab.research.google.com/github/vladgap/LLC/blob/main/Rotem%20LLC%20simulation%2010.ipynb\" target=\"_parent\"><img src=\"https://colab.research.google.com/assets/colab-badge.svg\" alt=\"Open In Colab\"/></a>"
      ]
    },
    {
      "cell_type": "code",
      "execution_count": null,
      "metadata": {
        "id": "hX7Dz1n-8hqQ"
      },
      "outputs": [],
      "source": [
        "import numpy as np\n",
        "import pandas as pd\n",
        "import plotly.express as px\n",
        "import plotly.graph_objs as go\n",
        "from plotly.subplots import make_subplots\n",
        "from sklearn import preprocessing\n",
        "import matplotlib.pyplot as plt\n",
        "\n",
        "from scipy import optimize"
      ]
    },
    {
      "cell_type": "code",
      "source": [
        "!pip install MLNN\n",
        "from MLNN import*"
      ],
      "metadata": {
        "id": "DIjFhFZKgYXZ"
      },
      "execution_count": null,
      "outputs": []
    },
    {
      "cell_type": "code",
      "source": [
        "!wget -O LLC.py \"https://raw.githubusercontent.com/vladgap/LLC/main/LLC_versions/LLC_5_1.py\"\n",
        "import LLC"
      ],
      "metadata": {
        "id": "AXfeN4lhttgu"
      },
      "execution_count": null,
      "outputs": []
    },
    {
      "cell_type": "code",
      "source": [
        "def CopyPasteToArray(a):\n",
        "  if a.startswith('\\n'):\n",
        "    b=a[1:]\n",
        "  else:\n",
        "    b=a\n",
        "  if b.endswith('\\n'):\n",
        "    b=b[:-1]\n",
        "  c=b.replace('\\t',',')\n",
        "  d=c.split('\\n')\n",
        "  f=[]\n",
        "  for e in d:\n",
        "    if e.replace(',','').replace('.','').isdigit(): # only digits no letters\n",
        "      f.append(list(eval(e)))\n",
        "    else:\n",
        "      f.append(e.split(','))\n",
        "  return f"
      ],
      "metadata": {
        "id": "oNdhOQ8XL3u3"
      },
      "execution_count": null,
      "outputs": []
    },
    {
      "cell_type": "markdown",
      "source": [
        "# EQUIL data"
      ],
      "metadata": {
        "id": "4RPmUdpZID-M"
      }
    },
    {
      "cell_type": "markdown",
      "source": [
        "## EQUIL_rotem_lit1\n",
        "lit data with NN model (7 hidden sigmoids)"
      ],
      "metadata": {
        "id": "nIGPDQIcIOPh"
      }
    },
    {
      "cell_type": "markdown",
      "source": [
        "### Equilibrium literature data"
      ],
      "metadata": {
        "id": "urg-2lQgmtOY"
      }
    },
    {
      "cell_type": "code",
      "source": [
        "data1=pd.DataFrame(data=[\n",
        "[63.5,\t1.3,\t42.4,\t15.0],\n",
        "[58.7,\t1.2,\t36.9,\t13.8],\n",
        "[52.0, 1.0,\t27.7,\t11.8],\n",
        "[45.5,\t1.0,\t18.9,\t9.6],\n",
        "[39.1,\t1.4,\t10.2,\t8.3],\n",
        "[31.5,\t1.5,\t5.1,\t8.8],\n",
        "[22.9,\t2.0,\t2.3,\t9.0],\n",
        "[12.6,\t2.2,\t0.90,\t9.3],\n",
        "[6.3,\t2.4,\t0.45,\t9.45],\n",
        "[0.01,\t2.6,\t0.01,\t9.6],\n",
        "],\n",
        "columns=['H3PO4_aq', 'solvent_aq', 'H3PO4_org', 'water_org'])"
      ],
      "metadata": {
        "id": "jt1vxfNR17Jw"
      },
      "execution_count": null,
      "outputs": []
    },
    {
      "cell_type": "code",
      "source": [
        "data1.head()"
      ],
      "metadata": {
        "id": "fVdOk5VHp89s"
      },
      "execution_count": null,
      "outputs": []
    },
    {
      "cell_type": "code",
      "source": [
        "fig1=go.Figure()\n",
        "[fig1.add_trace(go.Scatter(x=data1.H3PO4_aq, y=data1[data1.columns[i]], name=data1.columns[i])) for i in range(1,4)]\n",
        "fig1.update_layout(title='', width=1200, height=600,)\n",
        "fig1.show()"
      ],
      "metadata": {
        "id": "mRGrmRypqKB5"
      },
      "execution_count": null,
      "outputs": []
    },
    {
      "cell_type": "code",
      "source": [
        "X1=np.array(data1)[:,[0]]\n",
        "T1=np.array(data1)[:,[1,2,3]]"
      ],
      "metadata": {
        "id": "1M6R1TT5stKk"
      },
      "execution_count": null,
      "outputs": []
    },
    {
      "cell_type": "markdown",
      "source": [
        "### Model\n",
        "\"Model for Rotem LLC simulation 1\""
      ],
      "metadata": {
        "id": "gQMk3dejyjL8"
      }
    },
    {
      "cell_type": "code",
      "source": [
        "scaler_X1 = preprocessing.StandardScaler()\n",
        "scaler_T1 = preprocessing.StandardScaler()\n",
        "scaler_X1.mean_, scaler_X1.scale_ = [33.211], [21.13387066]\n",
        "scaler_T1.mean_, scaler_T1.scale_ = [1.66,  14.486, 10.465], [0.56071383, 15.23739033,  2.16703138]\n",
        "\n",
        "bp1=VectorBackProp(layers=[1,7,3], hidden_activation = 'sigmoid')\n",
        "manual_best_weights_for_now2=[[[-4.215621245080982,\n",
        "   -8.235086763118087,\n",
        "   -1.6251342150606451,\n",
        "   -6.9206357615871035,\n",
        "   -3.4092427169369826,\n",
        "   -7.4263402914028775,\n",
        "   -3.7003458539301977]],\n",
        " [[0.8764395040443358,\n",
        "   3.9145850159876945,\n",
        "   -1.5013585830931442,\n",
        "   -1.194371163565281,\n",
        "   4.118411550251139,\n",
        "   5.892242255497829,\n",
        "   -6.755593628941706]],\n",
        " [[-2.6609909047049918, -0.44480776958732143, 1.9256391063013463],\n",
        "  [2.566022222516618, -0.5042582093932455, -1.432212975592254],\n",
        "  [1.405004033981333, -0.2988952466228391, 0.5807591718257896],\n",
        "  [2.0692859230668117, -0.0780871568942863, -0.5145373287488922],\n",
        "  [-0.7989625307881565, -1.957459884661486, -2.8991426864622065],\n",
        "  [-0.5821795598385298, -0.22284877970127598, -0.9077232625087237],\n",
        "  [1.619488070885094, 0.03697105802710269, 0.008613201857731975]],\n",
        " [[-0.4010006364699687, 2.4687577407660806, 2.995012357373033]]]\n",
        "bp1.import_weights(manual_best_weights_for_now2)"
      ],
      "metadata": {
        "id": "jb11bcOoCOws"
      },
      "execution_count": null,
      "outputs": []
    },
    {
      "cell_type": "code",
      "source": [
        "class EQUIL_rotem_lit1: # literature data for pentanol 25C\n",
        "# gets xout [%solvent_aq, %H3PO4_aq]\n",
        "# calc xout , yout [%water_org, %H3PO4_org]\n",
        "\n",
        "    def __init__(self, x):\n",
        "        x=np.array(x, dtype=float) # [[%solv, %H3PO4], [%solv, %H3PO4], [%solv, %H3PO4], ...]\n",
        "        # the model predicts %solvent_aq, %H3PO4_aq, %water_org from %H3PO4_aq\n",
        "        # x[:,[1]] is column vector of %H3PO4_aq [[1], [2], ...]\n",
        "        pred=scaler_T1.inverse_transform(bp1.run(scaler_X1.transform(x[:,[1]])))\n",
        "        # prediction is column vector of lists [%solvent_aq, %H3PO4_aq, %water_org]\n",
        "\n",
        "        self.xout = np.array([pred[:,0], x[:,1]]).T # [[%solvent_aq, %H3PO4_aq], ...]\n",
        "        self.yout = np.array([pred[:,2], pred[:,1]]).T # [[%water_org, %H3PO4_org], ...]"
      ],
      "metadata": {
        "id": "g58mhvsJK0Jm"
      },
      "execution_count": null,
      "outputs": []
    },
    {
      "cell_type": "markdown",
      "source": [
        "## EQUIL_rotem_washing1\n",
        "Rotem solvent, estimation by polynoms"
      ],
      "metadata": {
        "id": "ZDjnortW15tJ"
      }
    },
    {
      "cell_type": "code",
      "source": [
        "class EQUIL_rotem_washing1: # prepared using purified and washed solvents\n",
        "# gets xout [%solvent_aq, %H3PO4_aq]\n",
        "# calc xout , yout [%water_org, %H3PO4_org]\n",
        "\n",
        "    def __init__(self, x):\n",
        "        x=np.array(x, dtype=float) # [[%solv, %H3PO4], [%solv, %H3PO4], [%solv, %H3PO4], ...]\n",
        "        y=np.zeros_like(x)\n",
        "        # x[:,[1]] is column vector of %H3PO4_aq [[1], [2], ...]\n",
        "        # y = A + B*x + C*x^2 + D*x^3\n",
        "\n",
        "        # %solvent_aq\n",
        "        D,C,B,A = -3.78E-06,8.15E-04,- 5.73E-02,2.45E+00\n",
        "        x[:,0] = A + B*x[:,1] + C*x[:,1]**2 + D*x[:,1]**3\n",
        "\n",
        "        # %water_org\n",
        "        D,C,B,A = 4.45E-05,- 1.56E-03,- 1.84E-02,7.58E+00\n",
        "        y[:,0] = A + B*x[:,1] + C*x[:,1]**2 + D*x[:,1]**3\n",
        "\n",
        "        # %H3PO4_org\n",
        "        # D,C,B,A = 2.00E-04,- 4.86E-03,7.07E-02,2.73E-02\n",
        "        # y[:,1] = A + B*x[:,1] + C*x[:,1]**2 + D*x[:,1]**3\n",
        "        G,F,E,D,C,B,A = -1.97E-09,2.02E-07,- 2.95E-06,- 3.83E-05,2.60E-03,2.38E-02,1.70E-02\n",
        "        y[:,1] = A + B*x[:,1] + C*x[:,1]**2 + D*x[:,1]**3 + E*x[:,1]**4 + F*x[:,1]**5 + G*x[:,1]**6\n",
        "\n",
        "        self.xout = np.array([x[:,0], x[:,1]]).T # [[%solvent_aq, %H3PO4_aq], ...]\n",
        "        self.yout = np.array([y[:,0], y[:,1]]).T # [[%water_org, %H3PO4_org], ...]"
      ],
      "metadata": {
        "id": "TTOem03H2GeN"
      },
      "execution_count": null,
      "outputs": []
    },
    {
      "cell_type": "code",
      "source": [
        "# EQUIL_rotem_washing1([[2,20],[1.5,30],[1.3,40]]).xout"
      ],
      "metadata": {
        "id": "KKAuj1Ok6j4C"
      },
      "execution_count": null,
      "outputs": []
    },
    {
      "cell_type": "markdown",
      "source": [
        "## EQUIL_rotem_washing2\n",
        "Rotem solvent, full profile, sulfate"
      ],
      "metadata": {
        "id": "wIvBM0Fplav0"
      }
    },
    {
      "cell_type": "code",
      "source": [
        "data=CopyPasteToArray('''\n",
        "H3PO4_aq\tSO4_aq\tH3PO4_org\twater_org\tsolvent_aq\tSO4_org\n",
        "4.15\t0.147\t0.0733\t9.6\t2.5\t0.0626\n",
        "14.9\t0.0806\t0.359\t9.5\t2.2\t0.0852\n",
        "28.6\t0.0329\t1.68\t9.3\t1.9\t0.0787\n",
        "45.7\t0.0106\t8.31\t8.5\t1.6\t0.0664\n",
        "48.2\t0.0078\t10.7\t8.5\t1.3\t0.0631\n",
        "49.4\t0.0058\t12.2\t8.7\t1.0\t0.0641\n",
        "''')\n",
        "# data\n",
        "# data2=pd.DataFrame(data, columns=['H3PO4_aq',\t'SO4_aq',\t'H3PO4_org',\t'water_org',\t'solvent_aq',\t'SO4_org'])\n",
        "data2=pd.DataFrame(data[1:], columns=data[0])\n",
        "data2"
      ],
      "metadata": {
        "id": "6Rk9eJPQqoeH"
      },
      "execution_count": null,
      "outputs": []
    },
    {
      "cell_type": "code",
      "source": [
        "X2=np.array(data2)[:,[0,1]]\n",
        "T2_1=np.array(data2)[:,[2]]\n",
        "T2_2=np.array(data2)[:,[3]]\n",
        "T2_3=np.array(data2)[:,[4]]\n",
        "T2_4=np.array(data2)[:,[5]]\n",
        "\n",
        "scaler_X2 = preprocessing.StandardScaler().fit(X2)\n",
        "scaler_T2_1 = preprocessing.StandardScaler().fit(T2_1)\n",
        "scaler_T2_2 = preprocessing.StandardScaler().fit(T2_2)\n",
        "scaler_T2_3 = preprocessing.StandardScaler().fit(T2_3)\n",
        "scaler_T2_4 = preprocessing.StandardScaler().fit(T2_4)\n",
        "\n",
        "X_sc2 = scaler_X2.transform(X2)\n",
        "# T_sc2_1 = scaler_T2_1.transform(T2_1)\n",
        "# T_sc2_2 = scaler_T2_1.transform(T2_2)\n",
        "# T_sc2_3 = scaler_T2_1.transform(T2_3)\n",
        "# T_sc2_4 = scaler_T2_1.transform(T2_4)"
      ],
      "metadata": {
        "id": "39zjlA6E19wq"
      },
      "execution_count": null,
      "outputs": []
    },
    {
      "cell_type": "code",
      "source": [
        "class EQUIL_rotem_washing2: # from full profile, sulfate\n",
        "# gets xout [%solvent_aq, %H3PO4_aq, %SO4_aq]\n",
        "# calc xout , yout [%water_org, %H3PO4_org, %SO4_org]\n",
        "\n",
        "    def __init__(self, x):\n",
        "        x=np.array(x, dtype=float) # [[%solv, %H3PO4, %SO4], [%solv, %H3PO4, %SO4], [%solv, %H3PO4, %SO4], ...]\n",
        "        # the model predicts H3PO4_org, water_org ,solvent_aq, SO4_org\n",
        "        # x[:,[1]] is column vector of %H3PO4_aq [[1], [2], ...]\n",
        "        # x[:,[2]] is for %SO4_aq\n",
        "\n",
        "        # H3PO4_org\n",
        "        bp2_1=VectorBackProp(layers=[2,2,1], hidden_activation = 'prelu')\n",
        "        manual_weights2_1=[[[0.1735491429461148, 1.8140938189194906],\n",
        "  [-0.6530409129171293, -0.6441814583921941]],\n",
        " [[0.7411897128053353, -1.2033881701371891]],\n",
        " [[0.3516552639162472], [1.6547118904069311]],\n",
        " [[-1.0860308848681413]]]\n",
        "        bp2_1.import_weights(manual_weights2_1)\n",
        "        predics2_1=abs(scaler_T2_1.inverse_transform(bp2_1.run(scaler_X2.transform(x[:,[1,2]]))))\n",
        "\n",
        "        # water_org\n",
        "        bp2_2=VectorBackProp(layers=[2,2,1], hidden_activation = 'prelu')\n",
        "        manual_weights2_2=[[[-1.356083366626272, 2.1006456906712234],\n",
        "  [-0.6309805208401018, -0.5374527149916659]],\n",
        " [[1.0515374304634164, -2.3182953246087115]],\n",
        " [[1.4841383017903245], [3.153523627853289]],\n",
        " [[-1.7074908699001965]]]\n",
        "        bp2_2.import_weights(manual_weights2_2)\n",
        "        predics2_2=abs(scaler_T2_2.inverse_transform(bp2_2.run(scaler_X2.transform(x[:,[1,2]]))))\n",
        "\n",
        "        # solvent_aq\n",
        "        bp2_3=VectorBackProp(layers=[2,2,1], hidden_activation = 'prelu')\n",
        "        manual_weights2_3=[[[2.0994823528593702, -1.2293957752203057],\n",
        "  [-0.6972915446623457, 0.5216771334283966]],\n",
        " [[-2.3459563115354527, 1.775004898861346]],\n",
        " [[-3.1726827033207408], [0.4025651395234753]],\n",
        " [[-0.4638947231253712]]]\n",
        "        bp2_3.import_weights(manual_weights2_3)\n",
        "        predics2_3=abs(scaler_T2_3.inverse_transform(bp2_3.run(scaler_X2.transform(x[:,[1,2]]))))\n",
        "\n",
        "        # SO4_org\n",
        "        bp2_4=VectorBackProp(layers=[2,2,1], hidden_activation = 'prelu')\n",
        "        manual_weights2_4=[[[-2.7308241499437758, 1.8373933992350313],\n",
        "  [-2.021898044039464, -0.8845457922101067]],\n",
        " [[1.0694417308325381, 0.08920200363835196]],\n",
        " [[2.7835653102552724], [1.6175935763910405]],\n",
        " [[-4.969235753353272]]]\n",
        "        bp2_4.import_weights(manual_weights2_4)\n",
        "        predics2_4=abs(scaler_T2_4.inverse_transform(bp2_4.run(scaler_X2.transform(x[:,[1,2]]))))\n",
        "\n",
        "        self.xout = np.array([predics2_3[:,0], x[:,1], x[:,2]]).T # [[%solvent_aq, %H3PO4_aq, %SO4_aq], ...]\n",
        "        self.yout = np.array([predics2_2[:,0], predics2_1[:,0], predics2_4[:,0]]).T # [[%water_org, %H3PO4_org, %SO4_org], ...]\n",
        "\n",
        "        # print (self.yout, self.xout)"
      ],
      "metadata": {
        "id": "P8KzW0rVyRDx"
      },
      "execution_count": null,
      "outputs": []
    },
    {
      "cell_type": "markdown",
      "source": [
        "## EQUIL_rotem_washing3\n",
        "ניסויי הפרדה עם ממס מטוהר"
      ],
      "metadata": {
        "id": "0t9N7WkWQ0S9"
      }
    },
    {
      "cell_type": "code",
      "source": [
        "Xscale=[21.97576471,  0.05575882], [15.2853469,   0.05047379]\n",
        "Tscale=[1.89941176, 11.19176471,  1.4,         0.02921412], [2.40216868, 1.27085536, 0.17875386, 0.01997862]\n",
        "\n",
        "scaler_X3 = preprocessing.StandardScaler().fit([[0,0]])\n",
        "scaler_X3_2 = preprocessing.StandardScaler().fit([[0,0]]) # מים בקלה חושבו רק על נתונים \"טובים\n",
        "scaler_T3_1 = preprocessing.StandardScaler().fit([[0]])\n",
        "scaler_T3_2 = preprocessing.StandardScaler().fit([[0]])\n",
        "scaler_T3_3 = preprocessing.StandardScaler().fit([[0]])\n",
        "scaler_T3_4 = preprocessing.StandardScaler().fit([[0]])\n",
        "\n",
        "scaler_X3.mean_, scaler_X3.scale_ = Xscale[0], Xscale[1]\n",
        "scaler_X3_2.mean_, scaler_X3_2.scale_ = [27.03608333,  0.0474    ], [14.68499343,  0.04213688] # מים בקלה חושבו רק על נתונים \"טובים\n",
        "scaler_T3_1.mean_, scaler_T3_1.scale_=[Tscale[0][0]], [Tscale[1][0]]\n",
        "# scaler_T3_2.mean_, scaler_T3_2.scale_=[Tscale[0][1]], [Tscale[1][1]]\n",
        "scaler_T3_2.mean_, scaler_T3_2.scale_=[10.81], [1.3091664] # מים בקלה חושבו רק על נתונים \"טובים\n",
        "scaler_T3_3.mean_, scaler_T3_3.scale_=[Tscale[0][2]], [Tscale[1][2]]\n",
        "scaler_T3_4.mean_, scaler_T3_4.scale_=[Tscale[0][3]], [Tscale[1][3]]"
      ],
      "metadata": {
        "id": "H_eY-JVaXWK-"
      },
      "execution_count": null,
      "outputs": []
    },
    {
      "cell_type": "code",
      "source": [
        "class EQUIL_rotem_washing3: # ניסויי הפרדה עם ממס מטוהר\n",
        "# מודל מקורי\n",
        "# gets xout [%solvent_aq, %H3PO4_aq, %SO4_aq]\n",
        "# calc xout , yout [%water_org, %H3PO4_org, %SO4_org]\n",
        "\n",
        "    def __init__(self, x):\n",
        "        x=np.array(x, dtype=float) # [[%solv, %H3PO4, %SO4], [%solv, %H3PO4, %SO4], [%solv, %H3PO4, %SO4], ...]\n",
        "        # the model predicts H3PO4_org, water_org ,solvent_aq, SO4_org\n",
        "        # x[:,[1]] is column vector of %H3PO4_aq [[1], [2], ...]\n",
        "        # x[:,[2]] is for %SO4_aq\n",
        "\n",
        "        # H3PO4_org\n",
        "        bp3_1=VectorBackProp(layers=[2,2,1], hidden_activation = 'prelu')\n",
        "        manual_weights3_1=[[[-0.2328053114817587, 1.4197258515721494],\n",
        "  [-0.013739923476318716, -0.009509632921841494]],\n",
        " [[1.5848282259786703, -0.9625030403646567]],\n",
        " [[-1.3007118041663503], [1.5725920350068667]],\n",
        " [[1.717]]]\n",
        "        bp3_1.import_weights(manual_weights3_1)\n",
        "        predics3_1=scaler_T3_1.inverse_transform(bp3_1.run(scaler_X3.transform(x[:,[1,2]])))\n",
        "\n",
        "        # water_org\n",
        "        bp3_2=VectorBackProp(layers=[2,2,1], hidden_activation = 'prelu')\n",
        "        manual_weights3_2=[[[0.3909002105371126, -0.8406267181665068],\n",
        "  [-0.4530958444599508, 0.704664998208326]],\n",
        " [[-0.09671769242746425, 0.7927475123043677]],\n",
        " [[0.48441213405704675], [-0.7676170242577324]],\n",
        " [[0.6435152247205708]]]\n",
        "        bp3_2.import_weights(manual_weights3_2)\n",
        "        predics3_2=scaler_T3_2.inverse_transform(bp3_2.run(scaler_X3_2.transform(x[:,[1,2]]))) # מים בקלה חושבו רק על נתונים \"טובים\n",
        "\n",
        "        # solvent_aq\n",
        "        bp3_3=VectorBackProp(layers=[2,2,1], hidden_activation = 'prelu')\n",
        "        manual_weights3_3=[[[0.6217022345240342, 2.8386999598609814],\n",
        "  [-0.6968938452576019, 5.596033242601742]],\n",
        " [[2.7109590937198265, 0.22193377952697202]],\n",
        " [[-0.9372090292368469], [-0.33293100862641933]],\n",
        " [[3.277263990359097]]]\n",
        "        bp3_3.import_weights(manual_weights3_3)\n",
        "        predics3_3=scaler_T3_3.inverse_transform(bp3_3.run(scaler_X3.transform(x[:,[1,2]])))\n",
        "\n",
        "        # SO4_org\n",
        "        bp3_4=VectorBackProp(layers=[2,2,1], hidden_activation = 'prelu')\n",
        "        manual_weights3_4=[[[-0.10168260750729177, 1.5507975795954547],\n",
        "  [-0.02429351337425621, -5.794943503077378e-05]],\n",
        " [[1.5556257229985646, -0.978368082003519]],\n",
        " [[-1.3219817921544152], [1.6394490601340548]],\n",
        " [[1.5742747334295601]]]\n",
        "        bp3_4.import_weights(manual_weights3_4)\n",
        "        predics3_4=scaler_T3_4.inverse_transform(bp3_4.run(scaler_X3.transform(x[:,[1,2]])))\n",
        "\n",
        "        self.xout = np.array([predics3_3[:,0], x[:,1], x[:,2]]).T # [[%solvent_aq, %H3PO4_aq, %SO4_aq], ...]\n",
        "        self.yout = np.array([predics3_2[:,0], predics3_1[:,0], predics3_4[:,0]]).T # [[%water_org, %H3PO4_org, %SO4_org], ...]\n",
        "\n",
        "        # print (self.yout, self.xout)"
      ],
      "metadata": {
        "id": "yVZP_8PYQ0TF"
      },
      "execution_count": null,
      "outputs": []
    },
    {
      "cell_type": "code",
      "source": [
        "class EQUIL_rotem_washing3_2: # ניסויי הפרדה עם ממס מטוהר\n",
        "# מודל עם מים בקלה 12% גורף\n",
        "# gets xout [%solvent_aq, %H3PO4_aq, %SO4_aq]\n",
        "# calc xout , yout [%water_org, %H3PO4_org, %SO4_org]\n",
        "\n",
        "    def __init__(self, x):\n",
        "        x=np.array(x, dtype=float) # [[%solv, %H3PO4, %SO4], [%solv, %H3PO4, %SO4], [%solv, %H3PO4, %SO4], ...]\n",
        "        # the model predicts H3PO4_org, water_org ,solvent_aq, SO4_org\n",
        "        # x[:,[1]] is column vector of %H3PO4_aq [[1], [2], ...]\n",
        "        # x[:,[2]] is for %SO4_aq\n",
        "\n",
        "        # H3PO4_org\n",
        "        bp3_1=VectorBackProp(layers=[2,2,1], hidden_activation = 'prelu')\n",
        "        manual_weights3_1=[[[-0.2328053114817587, 1.4197258515721494],\n",
        "  [-0.013739923476318716, -0.009509632921841494]],\n",
        " [[1.5848282259786703, -0.9625030403646567]],\n",
        " [[-1.3007118041663503], [1.5725920350068667]],\n",
        " [[1.717]]]\n",
        "        bp3_1.import_weights(manual_weights3_1)\n",
        "        predics3_1=abs(scaler_T3_1.inverse_transform(bp3_1.run(scaler_X3.transform(x[:,[1,2]]))))\n",
        "\n",
        "        # water_org\n",
        "        bp3_2=VectorBackProp(layers=[2,2,1], hidden_activation = 'prelu')\n",
        "        manual_weights3_2=[[[0.3909002105371126, -0.8406267181665068],\n",
        "  [-0.4530958444599508, 0.704664998208326]],\n",
        " [[-0.09671769242746425, 0.7927475123043677]],\n",
        " [[0.48441213405704675], [-0.7676170242577324]],\n",
        " [[0.6435152247205708]]]\n",
        "        bp3_2.import_weights(manual_weights3_2)\n",
        "        # predics3_2=abs(scaler_T3_2.inverse_transform(bp3_2.run(scaler_X3_2.transform(x[:,[1,2]])))) # מים בקלה חושבו רק על נתונים \"טובים\n",
        "        predics3_2=np.ones([len(x),1])*12 #  תוצאות אנליטיות לא מדויקות. לקחתי 12 באופן גורף\n",
        "\n",
        "        # solvent_aq\n",
        "        bp3_3=VectorBackProp(layers=[2,2,1], hidden_activation = 'prelu')\n",
        "        manual_weights3_3=[[[0.6217022345240342, 2.8386999598609814],\n",
        "  [-0.6968938452576019, 5.596033242601742]],\n",
        " [[2.7109590937198265, 0.22193377952697202]],\n",
        " [[-0.9372090292368469], [-0.33293100862641933]],\n",
        " [[3.277263990359097]]]\n",
        "        bp3_3.import_weights(manual_weights3_3)\n",
        "        predics3_3=abs(scaler_T3_3.inverse_transform(bp3_3.run(scaler_X3.transform(x[:,[1,2]]))))\n",
        "\n",
        "        # SO4_org\n",
        "        bp3_4=VectorBackProp(layers=[2,2,1], hidden_activation = 'prelu')\n",
        "        manual_weights3_4=[[[-0.10168260750729177, 1.5507975795954547],\n",
        "  [-0.02429351337425621, -5.794943503077378e-05]],\n",
        " [[1.5556257229985646, -0.978368082003519]],\n",
        " [[-1.3219817921544152], [1.6394490601340548]],\n",
        " [[1.5742747334295601]]]\n",
        "        bp3_4.import_weights(manual_weights3_4)\n",
        "        predics3_4=abs(scaler_T3_4.inverse_transform(bp3_4.run(scaler_X3.transform(x[:,[1,2]]))))\n",
        "\n",
        "        self.xout = np.array([predics3_3[:,0], x[:,1], x[:,2]]).T # [[%solvent_aq, %H3PO4_aq, %SO4_aq], ...]\n",
        "        self.yout = np.array([predics3_2[:,0], predics3_1[:,0], predics3_4[:,0]]).T # [[%water_org, %H3PO4_org, %SO4_org], ...]\n",
        "\n",
        "        # print (self.yout, self.xout)"
      ],
      "metadata": {
        "id": "GP8Yp9fy8bKR"
      },
      "execution_count": null,
      "outputs": []
    },
    {
      "cell_type": "code",
      "source": [
        "class EQUIL_rotem_washing3_3: # ניסויי הפרדה עם ממס מטוהר\n",
        "# מודל עם מים בקלה 12% גורף\n",
        "# שינוי במשקלים של ממס בכבדה. שיהיה יותר אופקי\n",
        "# gets xout [%solvent_aq, %H3PO4_aq, %SO4_aq]\n",
        "# calc xout , yout [%water_org, %H3PO4_org, %SO4_org]\n",
        "\n",
        "    def __init__(self, x):\n",
        "        x=np.array(x, dtype=float) # [[%solv, %H3PO4, %SO4], [%solv, %H3PO4, %SO4], [%solv, %H3PO4, %SO4], ...]\n",
        "        # the model predicts H3PO4_org, water_org ,solvent_aq, SO4_org\n",
        "        # x[:,[1]] is column vector of %H3PO4_aq [[1], [2], ...]\n",
        "        # x[:,[2]] is for %SO4_aq\n",
        "\n",
        "        # H3PO4_org\n",
        "        bp3_1=VectorBackProp(layers=[2,2,1], hidden_activation = 'prelu')\n",
        "        manual_weights3_1=[[[-0.2328053114817587, 1.4197258515721494],\n",
        "  [-0.013739923476318716, -0.009509632921841494]],\n",
        " [[1.5848282259786703, -0.9625030403646567]],\n",
        " [[-1.3007118041663503], [1.5725920350068667]],\n",
        " [[1.717]]]\n",
        "        bp3_1.import_weights(manual_weights3_1)\n",
        "        predics3_1=abs(scaler_T3_1.inverse_transform(bp3_1.run(scaler_X3.transform(x[:,[1,2]]))))\n",
        "\n",
        "        # water_org\n",
        "        bp3_2=VectorBackProp(layers=[2,2,1], hidden_activation = 'prelu')\n",
        "        manual_weights3_2=[[[0.3909002105371126, -0.8406267181665068],\n",
        "  [-0.4530958444599508, 0.704664998208326]],\n",
        " [[-0.09671769242746425, 0.7927475123043677]],\n",
        " [[0.48441213405704675], [-0.7676170242577324]],\n",
        " [[0.6435152247205708]]]\n",
        "        bp3_2.import_weights(manual_weights3_2)\n",
        "        # predics3_2=abs(scaler_T3_2.inverse_transform(bp3_2.run(scaler_X3_2.transform(x[:,[1,2]])))) # מים בקלה חושבו רק על נתונים \"טובים\n",
        "        predics3_2=np.ones([len(x),1])*12 #  תוצאות אנליטיות לא מדויקות. לקחתי 12 באופן גורף\n",
        "\n",
        "        # solvent_aq\n",
        "        bp3_3=VectorBackProp(layers=[2,2,1], hidden_activation = 'prelu') # modified solvent_aq weights\n",
        "        manual_weights3_3=[[[-7.637254337641781, -0.490322880885377],\n",
        "  [-1.8058063735873857, -0.10159866035465558]],\n",
        " [[-0.843126492292387, -2.3299686091075773]],\n",
        " [[0.2643116291427324], [0.4479958576488306]],\n",
        " [[-0.7056420231884761]]]\n",
        "        bp3_3.import_weights(manual_weights3_3)\n",
        "        predics3_3=abs(scaler_T3_3.inverse_transform(bp3_3.run(scaler_X3.transform(x[:,[1,2]]))))\n",
        "\n",
        "        # SO4_org\n",
        "        bp3_4=VectorBackProp(layers=[2,2,1], hidden_activation = 'prelu')\n",
        "        manual_weights3_4=[[[-0.10168260750729177, 1.5507975795954547],\n",
        "  [-0.02429351337425621, -5.794943503077378e-05]],\n",
        " [[1.5556257229985646, -0.978368082003519]],\n",
        " [[-1.3219817921544152], [1.6394490601340548]],\n",
        " [[1.5742747334295601]]]\n",
        "        bp3_4.import_weights(manual_weights3_4)\n",
        "        predics3_4=abs(scaler_T3_4.inverse_transform(bp3_4.run(scaler_X3.transform(x[:,[1,2]]))))\n",
        "\n",
        "        self.xout = np.array([predics3_3[:,0], x[:,1], x[:,2]]).T # [[%solvent_aq, %H3PO4_aq, %SO4_aq], ...]\n",
        "        self.yout = np.array([predics3_2[:,0], predics3_1[:,0], predics3_4[:,0]]).T # [[%water_org, %H3PO4_org, %SO4_org], ...]\n",
        "\n",
        "        # print (self.yout, self.xout)"
      ],
      "metadata": {
        "id": "ImBXOPIuWnOK"
      },
      "execution_count": null,
      "outputs": []
    },
    {
      "cell_type": "markdown",
      "source": [
        "# Cases"
      ],
      "metadata": {
        "id": "Cn3G4NOrjQsB"
      }
    },
    {
      "cell_type": "markdown",
      "source": [
        "## Literature data"
      ],
      "metadata": {
        "id": "pBpdRhQV8oWk"
      }
    },
    {
      "cell_type": "markdown",
      "source": [
        "### 1 - Washing\n",
        "\n"
      ],
      "metadata": {
        "id": "98OSk4_NgaE0"
      }
    },
    {
      "cell_type": "code",
      "source": [
        "bat1_2=LLC.Battery(stages_num=5, Oin=90, Ain=29, yin=[5,12], xin=[5,0], EQUIL=EQUIL_rotem_lit1, convergence=5e-4, eff=[1, 0.7], entrainment_perc_in=[2,5], entrainment_comp_in=[[5,5],[10,10]], entrainment_perc_out=[3,4])\n",
        "# bat1_2=LLC.Battery(4, 87.6, 112.4, [0, 0], [0, 32.56], EQUIL=EQUIL_rotem_lit1, convergence=5e-4, eff=.7, entrainment_perc_out=10)"
      ],
      "metadata": {
        "id": "dz88VKcTgaE1"
      },
      "execution_count": null,
      "outputs": []
    },
    {
      "cell_type": "code",
      "source": [
        "bat1_2.runs"
      ],
      "metadata": {
        "id": "KaSXu2b6gaE1"
      },
      "execution_count": null,
      "outputs": []
    },
    {
      "cell_type": "code",
      "source": [
        "table1_2=LLC.BatteryTableFull(bat1_2).data"
      ],
      "metadata": {
        "id": "Ey4IEaYgVjX_"
      },
      "execution_count": null,
      "outputs": []
    },
    {
      "cell_type": "code",
      "source": [
        "bat=bat1_2\n",
        "fig1_3 = go.Figure()\n",
        "n=1 #H3PO4\n",
        "fig1_3.add_trace(go.Scatter(x=bat.xout_list[:,n], y=bat.yout_tag_list[:,n], name='Equilibrium', marker_color='black'))\n",
        "fig1_3.add_trace(go.Scatter(x=bat.xout_list[:,n], y=bat.yout_list[:,n], name='Efficiency', marker_color='blue'))\n",
        "fig1_3.add_trace(go.Scatter(x=np.concatenate((bat.xout_list[:,n], [bat.xin_list[-1,n]])), y=np.concatenate((bat.yin_list[:,n], [bat.yout_list[-1,n]])), mode = \"markers+lines+text\",\n",
        "                          text= ['({:.2f},{:.2f})'.format(a,b) for a,b in zip(np.concatenate((bat.xout_list[:,n], [bat.xin_list[-1,n]])),np.concatenate((bat.yin_list[:,n], [bat.yout_list[-1,n]])))],\n",
        "                          textposition ='bottom center', name='Operation', marker_color='green'))\n",
        "fig1_3.update_xaxes(title_text=\"x, %\")#, range=[0.5, 2])\n",
        "fig1_3.update_yaxes(title_text=\"y, %\")#, range=[0.5, 2])\n",
        "fig1_3.update_layout(title='', width=1200, height=600,)\n",
        "fig1_3.show()"
      ],
      "metadata": {
        "id": "kriq6J69gaE4"
      },
      "execution_count": null,
      "outputs": []
    },
    {
      "cell_type": "code",
      "source": [
        "fig1_4=go.Figure()\n",
        "current_data = data1\n",
        "current_table = table1_2\n",
        "[fig1_4.add_trace(go.Scatter(x=current_data.H3PO4_aq, y=current_data[current_data.columns[i]], name=current_data.columns[i])) for i in range(1,4)]\n",
        "fig1_4.add_trace(go.Scatter(x=current_table.loc[current_table.index=='x2 out, %'].values[0], y=current_table.loc[current_table.index=='x1 out, %'].values[0]))\n",
        "fig1_4.add_trace(go.Scatter(x=current_table.loc[current_table.index=='x2 out, %'].values[0], y=current_table.loc[current_table.index=='y2 out, %'].values[0]))\n",
        "fig1_4.add_trace(go.Scatter(x=current_table.loc[current_table.index=='x2 out, %'].values[0], y=current_table.loc[current_table.index=='y1 out, %'].values[0]))\n",
        "\n",
        "# fig1_4.update_xaxes(title_text=\"x, %\", range=[20, 40])\n",
        "# fig1_4.update_yaxes(title_text=\"y, %\", range=[0, 15])\n",
        "fig1_4.update_layout(title='', width=1200, height=600,)\n",
        "fig1_4.show()"
      ],
      "metadata": {
        "id": "yKFEhqKHgaE5"
      },
      "execution_count": null,
      "outputs": []
    },
    {
      "cell_type": "markdown",
      "source": [
        "### 2 - Extraction"
      ],
      "metadata": {
        "id": "fajaVP-JSHHA"
      }
    },
    {
      "cell_type": "code",
      "source": [
        "bat2=LLC.Battery(stages_num=7, Oin=90, Ain=29, yin=[5,0], xin=[0,40], EQUIL=EQUIL_rotem_lit1, convergence=5e-4, eff=[[.8, 1], [0.5, .8], [.6,.9]])"
      ],
      "metadata": {
        "id": "VLlsHKyPSHHB"
      },
      "execution_count": null,
      "outputs": []
    },
    {
      "cell_type": "code",
      "source": [
        "bat2.runs"
      ],
      "metadata": {
        "id": "9JtOz5ZLSHHC"
      },
      "execution_count": null,
      "outputs": []
    },
    {
      "cell_type": "code",
      "source": [
        "bat2.eff"
      ],
      "metadata": {
        "id": "JUXvmZEF0AeQ"
      },
      "execution_count": null,
      "outputs": []
    },
    {
      "cell_type": "code",
      "source": [
        "table2=LLC.BatteryTableFull(bat2).data"
      ],
      "metadata": {
        "id": "J0LuLaVMSHHC"
      },
      "execution_count": null,
      "outputs": []
    },
    {
      "cell_type": "code",
      "source": [
        "bat=bat2\n",
        "fig2_1 = go.Figure()\n",
        "n=1 #H3PO4\n",
        "fig2_1.add_trace(go.Scatter(x=bat.xout_list[:,n], y=bat.yout_tag_list[:,n], name='Equilibrium', marker_color='black'))\n",
        "fig2_1.add_trace(go.Scatter(x=bat.xout_list[:,n], y=bat.yout_list[:,n], name='Efficiency', marker_color='blue'))\n",
        "fig2_1.add_trace(go.Scatter(x=np.concatenate((bat.xout_list[:,n], [bat.xin_list[-1,n]])), y=np.concatenate((bat.yin_list[:,n], [bat.yout_list[-1,n]])), mode = \"markers+lines+text\",\n",
        "                          text= ['({:.2f},{:.2f})'.format(a,b) for a,b in zip(np.concatenate((bat.xout_list[:,n], [bat.xin_list[-1,n]])),np.concatenate((bat.yin_list[:,n], [bat.yout_list[-1,n]])))],\n",
        "                          textposition ='bottom center', name='Operation', marker_color='green'))\n",
        "fig2_1.update_xaxes(title_text=\"x, %\")#, range=[0.5, 2])\n",
        "fig2_1.update_yaxes(title_text=\"y, %\")#, range=[0.5, 2])\n",
        "fig2_1.update_layout(title='', width=1200, height=600,)\n",
        "fig2_1.show()"
      ],
      "metadata": {
        "id": "Lif4l5BmSHHC"
      },
      "execution_count": null,
      "outputs": []
    },
    {
      "cell_type": "code",
      "source": [
        "fig2_2=go.Figure()\n",
        "current_data = data1\n",
        "current_table = table2\n",
        "[fig2_2.add_trace(go.Scatter(x=current_data.H3PO4_aq, y=current_data[current_data.columns[i]], name=current_data.columns[i])) for i in range(1,4)]\n",
        "fig2_2.add_trace(go.Scatter(x=current_table.loc[current_table.index=='x2 out, %'].values[0], y=current_table.loc[current_table.index=='x1 out, %'].values[0]))\n",
        "fig2_2.add_trace(go.Scatter(x=current_table.loc[current_table.index=='x2 out, %'].values[0], y=current_table.loc[current_table.index=='y2 out, %'].values[0]))\n",
        "fig2_2.add_trace(go.Scatter(x=current_table.loc[current_table.index=='x2 out, %'].values[0], y=current_table.loc[current_table.index=='y1 out, %'].values[0]))\n",
        "\n",
        "# fig2_2.update_xaxes(title_text=\"x, %\", range=[20, 40])\n",
        "# fig2_2.update_yaxes(title_text=\"y, %\", range=[0, 15])\n",
        "fig2_2.update_layout(title='', width=1200, height=600,)\n",
        "fig2_2.show()"
      ],
      "metadata": {
        "id": "QGZDwxLCSHHD"
      },
      "execution_count": null,
      "outputs": []
    },
    {
      "cell_type": "markdown",
      "source": [
        "## Washing data\n",
        "Rotem solvent, estimation by polynoms"
      ],
      "metadata": {
        "id": "9SYQeU5y8FH9"
      }
    },
    {
      "cell_type": "markdown",
      "source": [
        "### 3 - Washing1"
      ],
      "metadata": {
        "id": "GCfrekum-dJ4"
      }
    },
    {
      "cell_type": "code",
      "source": [
        "bat3=LLC.Battery(stages_num=7, Oin=204, Ain=33.3, yin=[7.7,14.4], xin=[0,0], EQUIL=EQUIL_rotem_washing1)#, convergence=5e-4, eff=[1, 0.7], entrainment_perc_in=[2,5], entrainment_comp_in=[[5,5],[10,10]], entrainment_perc_out=[3,4])"
      ],
      "metadata": {
        "id": "OJP8wG0q8nYL"
      },
      "execution_count": null,
      "outputs": []
    },
    {
      "cell_type": "code",
      "source": [
        "bat3.runs"
      ],
      "metadata": {
        "id": "-8jDllb48nYN"
      },
      "execution_count": null,
      "outputs": []
    },
    {
      "cell_type": "code",
      "source": [
        "table3=LLC.BatteryTable(bat3).data"
      ],
      "metadata": {
        "id": "p8K2ptcf8nYO"
      },
      "execution_count": null,
      "outputs": []
    },
    {
      "cell_type": "code",
      "source": [
        "bat=bat3\n",
        "fig3 = go.Figure()\n",
        "n=1 #H3PO4\n",
        "fig3.add_trace(go.Scatter(x=bat.xout_list[:,n], y=bat.yout_tag_list[:,n], name='Equilibrium', marker_color='black'))\n",
        "fig3.add_trace(go.Scatter(x=bat.xout_list[:,n], y=bat.yout_list[:,n], name='Efficiency', marker_color='blue'))\n",
        "fig3.add_trace(go.Scatter(x=np.concatenate((bat.xout_list[:,n], [bat.xin_list[-1,n]])), y=np.concatenate((bat.yin_list[:,n], [bat.yout_list[-1,n]])), mode = \"markers+lines+text\",\n",
        "                          text= ['({:.2f},{:.2f})'.format(a,b) for a,b in zip(np.concatenate((bat.xout_list[:,n], [bat.xin_list[-1,n]])),np.concatenate((bat.yin_list[:,n], [bat.yout_list[-1,n]])))],\n",
        "                          textposition ='bottom center', name='Operation', marker_color='green'))\n",
        "fig3.update_xaxes(title_text=\"x, %\")#, range=[0.5, 2])\n",
        "fig3.update_yaxes(title_text=\"y, %\")#, range=[0.5, 2])\n",
        "fig3.update_layout(title='', width=1200, height=600,)\n",
        "fig3.show()"
      ],
      "metadata": {
        "id": "1bMnWGj-8nYP"
      },
      "execution_count": null,
      "outputs": []
    },
    {
      "cell_type": "code",
      "source": [
        "fig3_2=go.Figure()\n",
        "# current_data = data1\n",
        "current_table = table3\n",
        "# [fig1_4.add_trace(go.Scatter(x=current_data.H3PO4_aq, y=current_data[current_data.columns[i]], name=current_data.columns[i])) for i in range(1,4)]\n",
        "fig3_2.add_trace(go.Scatter(x=current_table.loc[current_table.index=='x2 out, %'].values[0], y=current_table.loc[current_table.index=='x1 out, %'].values[0]))\n",
        "fig3_2.add_trace(go.Scatter(x=current_table.loc[current_table.index=='x2 out, %'].values[0], y=current_table.loc[current_table.index=='y2 out, %'].values[0]))\n",
        "fig3_2.add_trace(go.Scatter(x=current_table.loc[current_table.index=='x2 out, %'].values[0], y=current_table.loc[current_table.index=='y1 out, %'].values[0]))\n",
        "\n",
        "# fig3_2.update_xaxes(title_text=\"x, %\", range=[20, 40])\n",
        "# fig3_2.update_yaxes(title_text=\"y, %\", range=[0, 15])\n",
        "fig3_2.update_layout(title='', width=1200, height=600,)\n",
        "fig3_2.show()"
      ],
      "metadata": {
        "id": "qq3JgXJw8nYQ"
      },
      "execution_count": null,
      "outputs": []
    },
    {
      "cell_type": "code",
      "source": [],
      "metadata": {
        "id": "-fIAu3dBZXH6"
      },
      "execution_count": null,
      "outputs": []
    },
    {
      "cell_type": "markdown",
      "source": [
        "### 4 - Washing2"
      ],
      "metadata": {
        "id": "VIskE6vg5gX3"
      }
    },
    {
      "cell_type": "code",
      "source": [
        "bat4=LLC.Battery(stages_num=7, Oin=204, Ain=33.3, yin=[7.7,14.4], xin=[0,0], EQUIL=EQUIL_rotem_washing1, convergence=5e-4, eff=[1, 0.9], entrainment_perc_in=[2,0], entrainment_comp_in=[[5,5],[0,0]], entrainment_perc_out=[3,4])"
      ],
      "metadata": {
        "id": "qSC2W2jz5gYJ"
      },
      "execution_count": null,
      "outputs": []
    },
    {
      "cell_type": "code",
      "source": [
        "bat4.runs"
      ],
      "metadata": {
        "id": "mlqWU83f5gYJ"
      },
      "execution_count": null,
      "outputs": []
    },
    {
      "cell_type": "code",
      "source": [
        "table4=LLC.BatteryTableFull(bat4).data"
      ],
      "metadata": {
        "id": "Gk8_AxXr5gYK"
      },
      "execution_count": null,
      "outputs": []
    },
    {
      "cell_type": "code",
      "source": [
        "bat=bat4\n",
        "fig4 = go.Figure()\n",
        "n=1 #H3PO4\n",
        "fig4.add_trace(go.Scatter(x=bat.xout_list[:,n], y=bat.yout_tag_list[:,n], name='Equilibrium', marker_color='black'))\n",
        "fig4.add_trace(go.Scatter(x=bat.xout_list[:,n], y=bat.yout_list[:,n], name='Efficiency', marker_color='blue'))\n",
        "fig4.add_trace(go.Scatter(x=np.concatenate((bat.xout_list[:,n], [bat.xin_list[-1,n]])), y=np.concatenate((bat.yin_list[:,n], [bat.yout_list[-1,n]])), mode = \"markers+lines+text\",\n",
        "                          text= ['({:.2f},{:.2f})'.format(a,b) for a,b in zip(np.concatenate((bat.xout_list[:,n], [bat.xin_list[-1,n]])),np.concatenate((bat.yin_list[:,n], [bat.yout_list[-1,n]])))],\n",
        "                          textposition ='bottom center', name='Operation', marker_color='green'))\n",
        "fig4.update_xaxes(title_text=\"x, %\")#, range=[0.5, 2])\n",
        "fig4.update_yaxes(title_text=\"y, %\")#, range=[0.5, 2])\n",
        "fig4.update_layout(title='Operation Data', width=1200, height=600,)\n",
        "fig4.show()"
      ],
      "metadata": {
        "id": "PVp5b7tw5gYK"
      },
      "execution_count": null,
      "outputs": []
    },
    {
      "cell_type": "code",
      "source": [
        "fig4_2=go.Figure()\n",
        "# current_data = data1\n",
        "current_table = table4\n",
        "fig4_2.add_trace(go.Scatter(x=current_table.loc[current_table.index=='x2 out, %'].values[0], y=current_table.loc[current_table.index=='x1 out, %'].values[0]))\n",
        "fig4_2.add_trace(go.Scatter(x=current_table.loc[current_table.index=='x2 out, %'].values[0], y=current_table.loc[current_table.index=='y2 out, %'].values[0]))\n",
        "fig4_2.add_trace(go.Scatter(x=current_table.loc[current_table.index=='x2 out, %'].values[0], y=current_table.loc[current_table.index=='y1 out, %'].values[0]))\n",
        "\n",
        "# fig4_2.update_xaxes(title_text=\"x, %\", range=[20, 40])\n",
        "# fig4_2.update_yaxes(title_text=\"y, %\", range=[0, 15])\n",
        "fig4_2.update_layout(title='Equilibrium Data', width=1200, height=600,)\n",
        "fig4_2.show()"
      ],
      "metadata": {
        "id": "dEdnXB3o5gYL"
      },
      "execution_count": null,
      "outputs": []
    },
    {
      "cell_type": "markdown",
      "source": [
        "## Rotem washing with sulfate"
      ],
      "metadata": {
        "id": "8egqQOPy7JpN"
      }
    },
    {
      "cell_type": "markdown",
      "source": [
        "### 5 - Washing1"
      ],
      "metadata": {
        "id": "oQXqljna7QNB"
      }
    },
    {
      "cell_type": "code",
      "source": [
        "EQUIL_rotem_washing2([[2.2,14.9,.0806]]).yout"
      ],
      "metadata": {
        "id": "WXXVfWzdhBqf"
      },
      "execution_count": null,
      "outputs": []
    },
    {
      "cell_type": "code",
      "source": [
        "test1 = LLC.Stage(90, 29, [10, 14, .07], [2, 0.1, .02], EQUIL_rotem_washing2, eff=1)#, entrainment_perc=[1,2,3,4], entrainment_comp_in=[[10,10],[5,5]], convergence=1E-4)"
      ],
      "metadata": {
        "id": "_FnLn_N565hn"
      },
      "execution_count": null,
      "outputs": []
    },
    {
      "cell_type": "code",
      "source": [
        "test1.runs"
      ],
      "metadata": {
        "id": "A2zEE5i_49LT"
      },
      "execution_count": null,
      "outputs": []
    },
    {
      "cell_type": "code",
      "source": [
        "test1.output()"
      ],
      "metadata": {
        "id": "J71vcNgh8FcD"
      },
      "execution_count": null,
      "outputs": []
    },
    {
      "cell_type": "code",
      "source": [
        "test1 = LLC.Stage(90, 29, [8.60822308, 0.09877921, 0.02661528], [2.06758444, 28.21705147, 0.11005343], EQUIL_rotem_washing2, eff=1)#, entrainment_perc=[1,2,3,4], entrainment_comp_in=[[10,10],[5,5]], convergence=1E-4)"
      ],
      "metadata": {
        "id": "CHmFtGpF3mSx"
      },
      "execution_count": null,
      "outputs": []
    },
    {
      "cell_type": "code",
      "source": [
        "bat5_1=LLC.Battery(stages_num=4, Oin=90, Ain=29, yin=[8.60822308, 1, 0.05], xin=[2.06758444, 30, 0.3], EQUIL=EQUIL_rotem_washing2)"
      ],
      "metadata": {
        "id": "h54BbjwOpniB"
      },
      "execution_count": null,
      "outputs": []
    },
    {
      "cell_type": "code",
      "source": [
        "bat5_1.runs"
      ],
      "metadata": {
        "id": "GSX_5N1gqSm9"
      },
      "execution_count": null,
      "outputs": []
    },
    {
      "cell_type": "code",
      "source": [
        "table5=LLC.BatteryTable(bat5_1).data"
      ],
      "metadata": {
        "id": "cswoDsE2q5A5"
      },
      "execution_count": null,
      "outputs": []
    },
    {
      "cell_type": "code",
      "source": [
        "bat=bat5_1\n",
        "fig5 = go.Figure()\n",
        "n=1 #H3PO4\n",
        "fig5.add_trace(go.Scatter(x=bat.xout_list[:,n], y=bat.yout_tag_list[:,n], name='Equilibrium', marker_color='black'))\n",
        "fig5.add_trace(go.Scatter(x=bat.xout_list[:,n], y=bat.yout_list[:,n], name='Efficiency', marker_color='blue'))\n",
        "fig5.add_trace(go.Scatter(x=np.concatenate((bat.xout_list[:,n], [bat.xin_list[-1,n]])), y=np.concatenate((bat.yin_list[:,n], [bat.yout_list[-1,n]])), mode = \"markers+lines+text\",\n",
        "                          text= ['({:.2f},{:.2f})'.format(a,b) for a,b in zip(np.concatenate((bat.xout_list[:,n], [bat.xin_list[-1,n]])),np.concatenate((bat.yin_list[:,n], [bat.yout_list[-1,n]])))],\n",
        "                          textposition ='bottom center', name='Operation', marker_color='green'))\n",
        "fig5.update_xaxes(title_text=\"x, %\")#, range=[0.5, 2])\n",
        "fig5.update_yaxes(title_text=\"y, %\")#, range=[0.5, 2])\n",
        "fig5.update_layout(title='Operation Data', width=1200, height=600,)\n",
        "fig5.show()"
      ],
      "metadata": {
        "id": "GBnmp_3Urb_o"
      },
      "execution_count": null,
      "outputs": []
    },
    {
      "cell_type": "code",
      "source": [
        "fig_equil2 = make_subplots(rows=2, cols=2, subplot_titles=('H3PO4_org','water_org','solvent_aq','SO4_org'), column_widths=[0.5, 0.5], vertical_spacing=0.05,\n",
        "                     specs=[[{\"type\": \"scene\"}, {\"type\": \"scene\"}],[{\"type\": \"scene\"}, {\"type\": \"scene\"}]])\n",
        "\n",
        "fig_equil2.add_trace(go.Scatter3d(x=data2.H3PO4_aq, y=data2.SO4_aq, z=data2.H3PO4_org, mode='markers', name='H3PO4_org'), 1, 1)\n",
        "fig_equil2.add_trace(go.Scatter3d(x=data2.H3PO4_aq, y=data2.SO4_aq, z=data2.water_org, mode='markers', name='water_org'), 1, 2)\n",
        "fig_equil2.add_trace(go.Scatter3d(x=data2.H3PO4_aq, y=data2.SO4_aq, z=data2.solvent_aq, mode='markers', name='solvent_aq'), 2, 1)\n",
        "fig_equil2.add_trace(go.Scatter3d(x=data2.H3PO4_aq, y=data2.SO4_aq, z=data2.SO4_org, mode='markers', name='SO4_org'), 2, 2)\n",
        "\n",
        "bat=bat5_1\n",
        "# H3PO4_org\n",
        "fig_equil2.add_trace(go.Scatter3d(x=bat.xout_list[:,1], y=bat.xout_list[:,2], z=bat.yout_list[:,1], mode='markers', name='Efficiency'), 1, 1)\n",
        "fig_equil2.add_trace(go.Scatter3d(x=np.concatenate((bat.xout_list[:,1], [bat.xin_list[-1,1]])), y=np.concatenate((bat.xout_list[:,2], [bat.xin_list[-1,2]])), z=np.concatenate((bat.yin_list[:,1], [bat.yout_list[-1,1]])),\n",
        "                                mode = \"markers+lines+text\", text= ['({:.2f},{:.2f},{:.2f})'.format(a,b,c) for a,b,c in zip(np.concatenate((bat.xout_list[:,1], [bat.xin_list[-1,1]])),\n",
        "                                                                                                                            np.concatenate((bat.xout_list[:,2], [bat.xin_list[-1,2]])),\n",
        "                                                                                                                            np.concatenate((bat.yin_list[:,1], [bat.yout_list[-1,1]])))],\n",
        "                                textposition ='bottom center', name='Operation', marker_color='green'),1,1)\n",
        "\n",
        "fig_equil2.update_layout(title='', autosize=True,\n",
        "                  width=980, height=980,\n",
        "                  margin=dict(l=0, r=0, b=0, t=30),\n",
        "                  )\n",
        "\n",
        "fig_equil2.update_layout(\n",
        "    scene1_zaxis_range=[0,15],\n",
        "    scene2_zaxis_range=[8,10],\n",
        "    scene3_zaxis_range=[0,3],\n",
        "    scene4_zaxis_range=[.05,.1],\n",
        "    )\n",
        "\n",
        "fig_equil2.update_scenes(xaxis_title='H3PO4_aq', yaxis_title='SO4_aq', camera_eye=dict(x=1.5, y=-1.5, z=1.5))\n",
        "\n",
        "fig_equil2.show()"
      ],
      "metadata": {
        "id": "PHD2LoW8Smox"
      },
      "execution_count": null,
      "outputs": []
    },
    {
      "cell_type": "code",
      "source": [],
      "metadata": {
        "id": "4NXRci7-5Lqd"
      },
      "execution_count": null,
      "outputs": []
    },
    {
      "cell_type": "markdown",
      "source": [
        "## Rotem washing LLC tests"
      ],
      "metadata": {
        "id": "TvDXmUHxhqYc"
      }
    },
    {
      "cell_type": "markdown",
      "source": [
        "### data"
      ],
      "metadata": {
        "id": "pP53KkHjw32y"
      }
    },
    {
      "cell_type": "code",
      "source": [
        "data=CopyPasteToArray('''\n",
        "H3PO4_aq\tSO4_aq\tH3PO4_org\twater_org\tsolvent_aq\tSO4_org\twater_org-original\n",
        "0.011\t0.0932\t0.072\t8.69\t1.70\t0.0186\t12.09\n",
        "10.325\t0.0017\t0.229\t10.66\t1.52\t0.02\t10.66\n",
        "10.380\t0.0990\t0.269\t8.31\t1.50\t0.0208\t10.41\n",
        "19.821\t0.0031\t0.635\t11.3\t1.34\t0.01884\t11.3\n",
        "19.710\t0.0928\t0.773\t10.36\t1.32\t0.0195\t12.34\n",
        "28.710\t0.0057\t1.435\t11.96\t1.28\t0.01978\t11.96\n",
        "27.882\t0.0858\t1.325\t9.7\t1.34\t0.0222\t11.1\n",
        "35.611\t0.0071\t2.871\t11.94\t1.28\t0.036\t11.94\n",
        "35.887\t0.0846\t2.981\t12.02\t1.24\t0.0374\t12.6\n",
        "43.065\t0.0082\t5.328\t12.12\t1.28\t0.057\t12.12\n",
        "43.065\t0.0802\t5.604\t10.38\t1.06\t0.0608\t11.7\n",
        "49.966\t0.0074\t8.723\t12.28\t1.28\t0.0872\t12.28\n",
        "0.017\t0.1540\t0.042\t11.48\t1.46\t0.0164\t13.28\n",
        "4.831\t0.0020\t0.146\t12.7\t1.78\t0.01302\t12.6\n",
        "4.941\t0.1078\t0.173\t12.06\t1.66\t0.0139\t11.84\n",
        "19.600\t0.0033\t0.828\t11.84\t1.38\t0.01688\t11.42\n",
        "19.766\t0.1120\t0.856\t12.46\t1.38\t0.01832\t11.2\n",
        "''')\n",
        "# data\n",
        "# data2=pd.DataFrame(data, columns=['H3PO4_aq',\t'SO4_aq',\t'H3PO4_org',\t'water_org',\t'solvent_aq',\t'SO4_org'])\n",
        "data3=pd.DataFrame(data[1:], columns=data[0])\n",
        "data3_names=CopyPasteToArray('''\n",
        "wp12\twp21\twp22\twp31\twp32\twp41\twp42\twp51\twp52\twp61\twp62\twp71\twp13\tww11\tww12\tww21\tww22\n",
        "''')"
      ],
      "metadata": {
        "id": "Um_UapPouEw6"
      },
      "execution_count": null,
      "outputs": []
    },
    {
      "cell_type": "code",
      "source": [
        "# x_mesh, y_mesh = np.linspace(0, 60, 31), np.linspace(0, 0.2, 31) # expanded x and y extrapolation area observation\n",
        "x_mesh, y_mesh = np.linspace(0, 50, 31), np.linspace(0, 0.15, 31)\n",
        "x_mesh, y_mesh = np.meshgrid(x_mesh, y_mesh)\n",
        "x_mesh3 = x_mesh.flatten().reshape(31*31,1)\n",
        "y_mesh3 = y_mesh.flatten().reshape(31*31,1)\n",
        "mesh3=np.concatenate((x_mesh3, y_mesh3), axis=1)\n",
        "# x_mesh[:5]"
      ],
      "metadata": {
        "id": "rbH7DFAruP9y"
      },
      "execution_count": null,
      "outputs": []
    },
    {
      "cell_type": "code",
      "source": [
        "a=np.concatenate((np.zeros([len(mesh3),1]),mesh3), axis=1)"
      ],
      "metadata": {
        "id": "7kfhFVcsxG_B"
      },
      "execution_count": null,
      "outputs": []
    },
    {
      "cell_type": "code",
      "source": [
        "mesh_predict_x=np.array([EQUIL_rotem_washing3([row]).xout for row in a])\n",
        "mesh_predict_y=np.array([EQUIL_rotem_washing3([row]).yout for row in a])\n",
        "mesh_predics3_1=mesh_predict_y[:,:,1]\n",
        "mesh_predics3_2=mesh_predict_y[:,:,0]\n",
        "mesh_predics3_3=mesh_predict_x[:,:,0]\n",
        "mesh_predics3_4=mesh_predict_y[:,:,2]"
      ],
      "metadata": {
        "id": "W9MuPaoSyWPQ"
      },
      "execution_count": null,
      "outputs": []
    },
    {
      "cell_type": "markdown",
      "source": [
        "### test"
      ],
      "metadata": {
        "id": "FtEKLuAh3OL-"
      }
    },
    {
      "cell_type": "code",
      "source": [
        "EQUIL_rotem_washing3([[2.2,10.38,.099]]).yout"
      ],
      "metadata": {
        "id": "TLgpsbm5h1pR"
      },
      "execution_count": null,
      "outputs": []
    },
    {
      "cell_type": "code",
      "source": [
        "test1 = LLC.Stage(90, 29, [10, 14, .07], [0, 0.1, .02], EQUIL_rotem_washing3, eff=.8)#, entrainment_perc=[1,2,3,4], entrainment_comp_in=[[10,10],[5,5]], convergence=1E-4)\n",
        "test1.runs"
      ],
      "metadata": {
        "id": "UrLurQ7Jj2IZ"
      },
      "execution_count": null,
      "outputs": []
    },
    {
      "cell_type": "code",
      "source": [
        "test1.output()"
      ],
      "metadata": {
        "id": "NC8eL6QYnnRx"
      },
      "execution_count": null,
      "outputs": []
    },
    {
      "cell_type": "markdown",
      "source": [
        "### 6 - Washing1 - water_org model"
      ],
      "metadata": {
        "id": "NrZb1wd-hysz"
      }
    },
    {
      "cell_type": "code",
      "source": [
        "bat6_1=LLC.Battery(stages_num=6, Oin=90, Ain=29, yin=[10, 14, .07], xin=[0, 0, 0], EQUIL=EQUIL_rotem_washing3, eff=[1,0.8,0], convergence=1E-4)\n",
        "bat6_1.runs"
      ],
      "metadata": {
        "id": "2IU5YkpRn69s"
      },
      "execution_count": null,
      "outputs": []
    },
    {
      "cell_type": "code",
      "source": [
        "table6_1=LLC.BatteryTable(bat6_1).data"
      ],
      "metadata": {
        "id": "bsGATjw3n69w"
      },
      "execution_count": null,
      "outputs": []
    },
    {
      "cell_type": "code",
      "source": [
        "# @markdown plots\n",
        "fig_equil6_1 = make_subplots(rows=2, cols=2, subplot_titles=('H3PO4_org','water_org','solvent_aq','SO4_org'), column_widths=[0.5, 0.5], vertical_spacing=0.05,\n",
        "                     specs=[[{\"type\": \"scene\"}, {\"type\": \"scene\"}],[{\"type\": \"scene\"}, {\"type\": \"scene\"}]])\n",
        "\n",
        "fig_equil6_1.add_trace(go.Scatter3d(x=data3.H3PO4_aq, y=data3.SO4_aq, z=data3.H3PO4_org, mode='markers', name='H3PO4_org'), 1, 1)\n",
        "fig_equil6_1.add_trace(go.Scatter3d(x=data3.H3PO4_aq, y=data3.SO4_aq, z=data3.water_org, mode='markers', name='water_org'), 1, 2)\n",
        "fig_equil6_1.add_trace(go.Scatter3d(x=data3.H3PO4_aq, y=data3.SO4_aq, z=data3.solvent_aq, mode='markers', name='solvent_aq'), 2, 1)\n",
        "fig_equil6_1.add_trace(go.Scatter3d(x=data3.H3PO4_aq, y=data3.SO4_aq, z=data3.SO4_org, mode='markers', name='SO4_org'), 2, 2)\n",
        "\n",
        "# visib='legendonly'\n",
        "visib=True\n",
        "fig_equil6_1.add_trace(go.Scatter3d(x=x_mesh3[:,0], y=y_mesh3[:,0], z=mesh_predics3_1[:,0], mode='markers',marker_color='green', marker_size=0.5, name='Equilibrium surface', visible=visib),1,1)\n",
        "fig_equil6_1.add_trace(go.Scatter3d(x=x_mesh3[:,0], y=y_mesh3[:,0], z=mesh_predics3_2[:,0], mode='markers',marker_color='green', marker_size=0.5, name='Equilibrium surface', visible=visib),1,2)\n",
        "fig_equil6_1.add_trace(go.Scatter3d(x=x_mesh3[:,0], y=y_mesh3[:,0], z=mesh_predics3_3[:,0], mode='markers',marker_color='green', marker_size=0.5, name='Equilibrium surface', visible=visib),2,1)\n",
        "fig_equil6_1.add_trace(go.Scatter3d(x=x_mesh3[:,0], y=y_mesh3[:,0], z=mesh_predics3_4[:,0], mode='markers',marker_color='green', marker_size=0.5, name='Equilibrium surface', visible=visib),2,2)\n",
        "\n",
        "bat=bat6_1\n",
        "# n, row, col =[1,0,2], [1,1,2], [1,2,2] # H3PO4_org, water_org, SO4_org\n",
        "# for i in range(3):\n",
        "#   fig_equil6_1.add_trace(go.Scatter3d(x=bat.xout_list[:,1], y=bat.xout_list[:,2], z=bat.yout_list[:,n[i]], mode='markers', marker_color='blue', name='Efficiency'), row[i], col[i])\n",
        "#   x,y,z=np.concatenate((bat.xout_list[:,1], [bat.xin_list[-1,1]])),np.concatenate((bat.xout_list[:,2],[bat.xin_list[-1,2]])), np.concatenate((bat.yin_list[:,n[i]],[bat.yout_list[-1,n[i]]]))\n",
        "#   fig_equil6_1.add_trace(go.Scatter3d(x=x, y=y, z=z, mode = \"markers+lines+text\", text= ['({:.2f},{:.2f},{:.2f})'.format(a,b,c) for a,b,c in zip(x,y,z)], textposition ='bottom center', name='Operation', marker_color='green'),row[i],col[i])\n",
        "\n",
        "# H3PO4_org\n",
        "fig_equil6_1.add_trace(go.Scatter3d(x=bat.xout_list[:,1], y=bat.xout_list[:,2], z=bat.yout_list[:,1], mode='markers', marker_color='blue', name='Efficiency'), 1, 1)\n",
        "x,y,z=np.concatenate((bat.xout_list[:,1], [bat.xin_list[-1,1]])),np.concatenate((bat.xout_list[:,2],[bat.xin_list[-1,2]])), np.concatenate((bat.yin_list[:,1],[bat.yout_list[-1,1]]))\n",
        "fig_equil6_1.add_trace(go.Scatter3d(x=x, y=y, z=z, mode = \"markers+lines+text\", text= ['({:.2f},{:.2f},{:.2f})'.format(a,b,c) for a,b,c in zip(x,y,z)], textposition ='bottom center', name='Operation', marker_color='green'),1,1)\n",
        "# water_org\n",
        "fig_equil6_1.add_trace(go.Scatter3d(x=bat.xout_list[:,1], y=bat.xout_list[:,2], z=bat.yout_list[:,0], mode='markers', marker_color='blue', name='Efficiency'), 1, 2)\n",
        "x,y,z=np.concatenate((bat.xout_list[:,1], [bat.xin_list[-1,1]])),np.concatenate((bat.xout_list[:,2],[bat.xin_list[-1,2]])), np.concatenate((bat.yin_list[:,0],[bat.yout_list[-1,0]]))\n",
        "fig_equil6_1.add_trace(go.Scatter3d(x=x, y=y, z=z, mode = \"markers+lines+text\", text= ['({:.2f},{:.2f},{:.2f})'.format(a,b,c) for a,b,c in zip(x,y,z)], textposition ='bottom center', name='Operation', marker_color='green'),1,2)\n",
        "# SO4_org\n",
        "fig_equil6_1.add_trace(go.Scatter3d(x=bat.xout_list[:,1], y=bat.xout_list[:,2], z=bat.yout_list[:,2], mode='markers', marker_color='blue', name='Efficiency'), 2, 2)\n",
        "x,y,z=np.concatenate((bat.xout_list[:,1], [bat.xin_list[-1,1]])),np.concatenate((bat.xout_list[:,2],[bat.xin_list[-1,2]])), np.concatenate((bat.yin_list[:,2],[bat.yout_list[-1,2]]))\n",
        "fig_equil6_1.add_trace(go.Scatter3d(x=x, y=y, z=z, mode = \"markers+lines+text\", text= ['({:.2f},{:.2f},{:.2f})'.format(a,b,c) for a,b,c in zip(x,y,z)], textposition ='bottom center', name='Operation', marker_color='green'),2,2)\n",
        "\n",
        "# solvent_aq\n",
        "fig_equil6_1.add_trace(go.Scatter3d(x=bat.xout_list[:,1], y=bat.xout_list[:,2], z=bat.xout_list[:,0], mode='markers', marker_color='blue', name='Efficiency'), 2, 1)\n",
        "x,y,z=np.concatenate((bat.xout_list[:,1], [bat.xin_list[-1,1]])),np.concatenate((bat.xout_list[:,2],[bat.xin_list[-1,2]])), np.concatenate((bat.xout_list[:,0],[bat.xin_list[-1,0]])) # aqueous -- different operation line order\n",
        "fig_equil6_1.add_trace(go.Scatter3d(x=x, y=y, z=z, mode = \"markers+lines+text\", text= ['({:.2f},{:.2f},{:.2f})'.format(a,b,c) for a,b,c in zip(x,y,z)], textposition ='bottom center', name='Operation', marker_color='green'),2,1)\n",
        "\n",
        "\n",
        "fig_equil6_1.update_layout(title='', autosize=True,\n",
        "                  width=980, height=980,\n",
        "                  margin=dict(l=0, r=0, b=0, t=30),\n",
        "                  )\n",
        "\n",
        "fig_equil6_1.update_layout(\n",
        "    # scene1_zaxis_range=[0,10],\n",
        "    # scene2_zaxis_range=[10,14],\n",
        "    # scene3_zaxis_range=[0,3],\n",
        "    # scene4_zaxis_range=[0,.1],\n",
        "    )\n",
        "\n",
        "# fig_equil6_1.update_scenes(xaxis_title='H3PO4_aq', yaxis_title='SO4_aq', camera_eye=dict(x=1.5, y=-1.5, z=1.5))\n",
        "fig_equil6_1.update_scenes(xaxis_title='H3PO4_aq', yaxis_title='SO4_aq', camera_eye=dict(x=0, y=-2.2, z=0.01))\n",
        "fig_equil6_1.update_scenes(camera_projection_type=\"orthographic\")\n",
        "\n",
        "fig_equil6_1.show()"
      ],
      "metadata": {
        "id": "rehwsaXioZ0S",
        "cellView": "form"
      },
      "execution_count": null,
      "outputs": []
    },
    {
      "cell_type": "markdown",
      "source": [
        "### 7 - Washing2 - water_org=12"
      ],
      "metadata": {
        "id": "P9MJTWCH-Fk-"
      }
    },
    {
      "cell_type": "code",
      "source": [
        "# x_mesh, y_mesh = np.linspace(0, 60, 31), np.linspace(0, 0.2, 31) # expanded x and y extrapolation area observation\n",
        "x_mesh, y_mesh = np.linspace(0, 50, 31), np.linspace(0, 0.15, 31)\n",
        "x_mesh, y_mesh = np.meshgrid(x_mesh, y_mesh)\n",
        "x_mesh4 = x_mesh.flatten().reshape(31*31,1)\n",
        "y_mesh4 = y_mesh.flatten().reshape(31*31,1)\n",
        "mesh4=np.concatenate((x_mesh4, y_mesh4), axis=1)"
      ],
      "metadata": {
        "id": "1RhTalUW-PEr"
      },
      "execution_count": null,
      "outputs": []
    },
    {
      "cell_type": "code",
      "source": [
        "a=np.concatenate((np.zeros([len(mesh4),1]),mesh4), axis=1)"
      ],
      "metadata": {
        "id": "GXB74c8S-PE0"
      },
      "execution_count": null,
      "outputs": []
    },
    {
      "cell_type": "code",
      "source": [
        "mesh_predict_x=np.array([EQUIL_rotem_washing3_2([row]).xout for row in a])\n",
        "mesh_predict_y=np.array([EQUIL_rotem_washing3_2([row]).yout for row in a])\n",
        "mesh_predics4_1=mesh_predict_y[:,:,1]\n",
        "mesh_predics4_2=mesh_predict_y[:,:,0]\n",
        "mesh_predics4_3=mesh_predict_x[:,:,0]\n",
        "mesh_predics4_4=mesh_predict_y[:,:,2]"
      ],
      "metadata": {
        "id": "B-1wYlNs-PE1"
      },
      "execution_count": null,
      "outputs": []
    },
    {
      "cell_type": "code",
      "source": [
        "bat7_1=LLC.Battery(stages_num=6, Oin=90, Ain=29, yin=[10, 14, .07], xin=[0, 0.1, .02], EQUIL=EQUIL_rotem_washing3_2, eff=.7)\n",
        "bat7_1.runs"
      ],
      "metadata": {
        "id": "VWjnHl_T9ZJs"
      },
      "execution_count": null,
      "outputs": []
    },
    {
      "cell_type": "code",
      "source": [
        "table7_1=LLC.BatteryTable(bat7_1).data"
      ],
      "metadata": {
        "id": "vYfseTU19ZJ7"
      },
      "execution_count": null,
      "outputs": []
    },
    {
      "cell_type": "code",
      "source": [
        "fig_equil7_1 = make_subplots(rows=2, cols=2, subplot_titles=('H3PO4_org','water_org','solvent_aq','SO4_org'), column_widths=[0.5, 0.5], vertical_spacing=0.05,\n",
        "                     specs=[[{\"type\": \"scene\"}, {\"type\": \"scene\"}],[{\"type\": \"scene\"}, {\"type\": \"scene\"}]])\n",
        "\n",
        "fig_equil7_1.add_trace(go.Scatter3d(x=data3.H3PO4_aq, y=data3.SO4_aq, z=data3.H3PO4_org, mode='markers', name='H3PO4_org'), 1, 1)\n",
        "fig_equil7_1.add_trace(go.Scatter3d(x=data3.H3PO4_aq, y=data3.SO4_aq, z=data3.water_org, mode='markers', name='water_org'), 1, 2)\n",
        "fig_equil7_1.add_trace(go.Scatter3d(x=data3.H3PO4_aq, y=data3.SO4_aq, z=data3.solvent_aq, mode='markers', name='solvent_aq'), 2, 1)\n",
        "fig_equil7_1.add_trace(go.Scatter3d(x=data3.H3PO4_aq, y=data3.SO4_aq, z=data3.SO4_org, mode='markers', name='SO4_org'), 2, 2)\n",
        "\n",
        "# visib='legendonly'\n",
        "visib=True\n",
        "fig_equil7_1.add_trace(go.Scatter3d(x=x_mesh4[:,0], y=y_mesh4[:,0], z=mesh_predics4_1[:,0], mode='markers',marker_color='green', marker_size=0.5, name='Equilibrium surface', visible=visib),1,1)\n",
        "fig_equil7_1.add_trace(go.Scatter3d(x=x_mesh4[:,0], y=y_mesh4[:,0], z=mesh_predics4_2[:,0], mode='markers',marker_color='green', marker_size=0.5, name='Equilibrium surface', visible=visib),1,2)\n",
        "fig_equil7_1.add_trace(go.Scatter3d(x=x_mesh4[:,0], y=y_mesh4[:,0], z=mesh_predics4_3[:,0], mode='markers',marker_color='green', marker_size=0.5, name='Equilibrium surface', visible=visib),2,1)\n",
        "fig_equil7_1.add_trace(go.Scatter3d(x=x_mesh4[:,0], y=y_mesh4[:,0], z=mesh_predics4_4[:,0], mode='markers',marker_color='green', marker_size=0.5, name='Equilibrium surface', visible=visib),2,2)\n",
        "\n",
        "bat=bat7_1\n",
        "# n, row, col =[1,0,2], [1,1,2], [1,2,2] # H3PO4_org, water_org, SO4_org\n",
        "# for i in range(3):\n",
        "#   fig_equil6_1.add_trace(go.Scatter3d(x=bat.xout_list[:,1], y=bat.xout_list[:,2], z=bat.yout_list[:,n[i]], mode='markers', marker_color='blue', name='Efficiency'), row[i], col[i])\n",
        "#   x,y,z=np.concatenate((bat.xout_list[:,1], [bat.xin_list[-1,1]])),np.concatenate((bat.xout_list[:,2],[bat.xin_list[-1,2]])), np.concatenate((bat.yin_list[:,n[i]],[bat.yout_list[-1,n[i]]]))\n",
        "#   fig_equil6_1.add_trace(go.Scatter3d(x=x, y=y, z=z, mode = \"markers+lines+text\", text= ['({:.2f},{:.2f},{:.2f})'.format(a,b,c) for a,b,c in zip(x,y,z)], textposition ='bottom center', name='Operation', marker_color='green'),row[i],col[i])\n",
        "\n",
        "# H3PO4_org\n",
        "fig_equil7_1.add_trace(go.Scatter3d(x=bat.xout_list[:,1], y=bat.xout_list[:,2], z=bat.yout_list[:,1], mode='markers', marker_color='blue', name='Efficiency'), 1, 1)\n",
        "x,y,z=np.concatenate((bat.xout_list[:,1], [bat.xin_list[-1,1]])),np.concatenate((bat.xout_list[:,2],[bat.xin_list[-1,2]])), np.concatenate((bat.yin_list[:,1],[bat.yout_list[-1,1]]))\n",
        "fig_equil7_1.add_trace(go.Scatter3d(x=x, y=y, z=z, mode = \"markers+lines+text\", text= ['({:.2f},{:.2f},{:.2f})'.format(a,b,c) for a,b,c in zip(x,y,z)], textposition ='bottom center', name='Operation', marker_color='green'),1,1)\n",
        "# water_org\n",
        "fig_equil7_1.add_trace(go.Scatter3d(x=bat.xout_list[:,1], y=bat.xout_list[:,2], z=bat.yout_list[:,0], mode='markers', marker_color='blue', name='Efficiency'), 1, 2)\n",
        "x,y,z=np.concatenate((bat.xout_list[:,1], [bat.xin_list[-1,1]])),np.concatenate((bat.xout_list[:,2],[bat.xin_list[-1,2]])), np.concatenate((bat.yin_list[:,0],[bat.yout_list[-1,0]]))\n",
        "fig_equil7_1.add_trace(go.Scatter3d(x=x, y=y, z=z, mode = \"markers+lines+text\", text= ['({:.2f},{:.2f},{:.2f})'.format(a,b,c) for a,b,c in zip(x,y,z)], textposition ='bottom center', name='Operation', marker_color='green'),1,2)\n",
        "# SO4_org\n",
        "fig_equil7_1.add_trace(go.Scatter3d(x=bat.xout_list[:,1], y=bat.xout_list[:,2], z=bat.yout_list[:,2], mode='markers', marker_color='blue', name='Efficiency'), 2, 2)\n",
        "x,y,z=np.concatenate((bat.xout_list[:,1], [bat.xin_list[-1,1]])),np.concatenate((bat.xout_list[:,2],[bat.xin_list[-1,2]])), np.concatenate((bat.yin_list[:,2],[bat.yout_list[-1,2]]))\n",
        "fig_equil7_1.add_trace(go.Scatter3d(x=x, y=y, z=z, mode = \"markers+lines+text\", text= ['({:.2f},{:.2f},{:.2f})'.format(a,b,c) for a,b,c in zip(x,y,z)], textposition ='bottom center', name='Operation', marker_color='green'),2,2)\n",
        "\n",
        "# solvent_aq\n",
        "fig_equil7_1.add_trace(go.Scatter3d(x=bat.xout_list[:,1], y=bat.xout_list[:,2], z=bat.xout_list[:,0], mode='markers', marker_color='blue', name='Efficiency'), 2, 1)\n",
        "x,y,z=np.concatenate((bat.xout_list[:,1], [bat.xin_list[-1,1]])),np.concatenate((bat.xout_list[:,2],[bat.xin_list[-1,2]])), np.concatenate((bat.xout_list[:,0],[bat.xin_list[-1,0]])) # aqueous -- different operation line order\n",
        "fig_equil7_1.add_trace(go.Scatter3d(x=x, y=y, z=z, mode = \"markers+lines+text\", text= ['({:.2f},{:.2f},{:.2f})'.format(a,b,c) for a,b,c in zip(x,y,z)], textposition ='bottom center', name='Operation', marker_color='green'),2,1)\n",
        "\n",
        "\n",
        "fig_equil7_1.update_layout(title='', autosize=True,\n",
        "                  width=980, height=980,\n",
        "                  margin=dict(l=0, r=0, b=0, t=30),\n",
        "                  )\n",
        "\n",
        "fig_equil7_1.update_layout(\n",
        "    # scene1_zaxis_range=[0,10],\n",
        "    # scene2_zaxis_range=[10,14],\n",
        "    # scene3_zaxis_range=[0,3],\n",
        "    # scene4_zaxis_range=[0,.1],\n",
        "    )\n",
        "\n",
        "# fig_equil7_1.update_scenes(xaxis_title='H3PO4_aq', yaxis_title='SO4_aq', camera_eye=dict(x=1.5, y=-1.5, z=1.5))\n",
        "fig_equil7_1.update_scenes(xaxis_title='H3PO4_aq', yaxis_title='SO4_aq', camera_eye=dict(x=0, y=-2.2, z=0.01))\n",
        "fig_equil7_1.update_scenes(camera_projection_type=\"orthographic\")\n",
        "\n",
        "fig_equil7_1.show()"
      ],
      "metadata": {
        "id": "X-PLgl7M9ZJ8"
      },
      "execution_count": null,
      "outputs": []
    },
    {
      "cell_type": "markdown",
      "source": [
        "### 8 - Washing3 - compare with plant data"
      ],
      "metadata": {
        "id": "bBnkhPOA6she"
      }
    },
    {
      "cell_type": "markdown",
      "source": [
        "Profile data"
      ],
      "metadata": {
        "id": "1TCpog-CovTx"
      }
    },
    {
      "cell_type": "code",
      "source": [
        "data=CopyPasteToArray('''\n",
        "x\ty\n",
        "0\t0.0531\n",
        "3.01\t0.26\n",
        "10.8\t1.22\n",
        "20.69\t6.02\n",
        "33.12\t7.77\n",
        "34.9\t8.86\n",
        "35.81\t10.3\n",
        "''')\n",
        "profile_data1=pd.DataFrame(data[1:], columns=data[0])"
      ],
      "metadata": {
        "id": "7qJTsYq6oxY4"
      },
      "execution_count": null,
      "outputs": []
    },
    {
      "cell_type": "markdown",
      "source": [
        "Plant data"
      ],
      "metadata": {
        "id": "046CELuGH78S"
      }
    },
    {
      "cell_type": "code",
      "source": [
        "PS_P2O5=11.6\n",
        "WS_P2O5=0.2\n",
        "W_flow=23.4\n",
        "Prod_flow=48.4 # =36.7*1.32\n",
        "Prod_P2O5=37.6\n",
        "\n",
        "PS_flow=(Prod_flow*Prod_P2O5+WS_P2O5*(W_flow-Prod_flow))/(PS_P2O5-WS_P2O5)\n",
        "WS_flow=PS_flow+W_flow-Prod_flow\n",
        "P2O5_recovery=Prod_flow*Prod_P2O5/(PS_flow*PS_P2O5)\n",
        "print ('Purified solvent flow =',f\"{PS_flow:.1f}\",'ton/hr,  ', 'Washed solvent flow =',f\"{WS_flow:.1f}\",'ton/hr  ', 'P2O5 recovery =',f\"{P2O5_recovery:.1%}\")"
      ],
      "metadata": {
        "id": "iGhwHtWg74sM"
      },
      "execution_count": null,
      "outputs": []
    },
    {
      "cell_type": "code",
      "source": [
        "summary_table8=pd.DataFrame([PS_flow,PS_P2O5,WS_flow,WS_P2O5,W_flow,Prod_flow,Prod_P2O5,f\"{P2O5_recovery:.1%}\",6,'---', '---'],\n",
        "                        index=['PS_flow','PS_P2O5','WS_flow','WS_P2O5','W_flow','Prod_flow','Prod_P2O5','P2O5_recovery','Stages_num','Efficiency','Equilibrium'],\n",
        "                        columns=['Plant data'])\n",
        "summary_table8"
      ],
      "metadata": {
        "id": "PKKxCNU-dNix"
      },
      "execution_count": null,
      "outputs": []
    },
    {
      "cell_type": "markdown",
      "source": [
        "[0.76853034 3.57952069] root,\n",
        "[0.75617284 3.26131687] direct,\n",
        "[0.77263374 3.61111111] direct *10,\n",
        "[0.77057613 3.48536808 2.34910837] direct entrain"
      ],
      "metadata": {
        "id": "yMzGpKDUIhiT"
      }
    },
    {
      "cell_type": "code",
      "source": [
        "bat8_1=LLC.Battery(stages_num=6, Oin=PS_flow, Ain=W_flow, yin=[12,PS_P2O5/71*98,.07], xin=[0,0,.02], EQUIL=EQUIL_rotem_washing3_3, eff=.77, convergence=1E-3, entrainment_perc_out=[3.6,0])\n",
        "bat8_1.runs"
      ],
      "metadata": {
        "id": "i-nfLu7E6shf"
      },
      "execution_count": null,
      "outputs": []
    },
    {
      "cell_type": "code",
      "source": [
        "bat=bat8_1\n",
        "summary_table8['Model data-0.75-3']=[bat.Oin,bat.yin[1]/98*71,bat.Oout,bat.yout[1]/98*71,bat.Ain,bat.Aout,bat.xout[1]/98*71,f\"{bat.Aout*bat.xout[1]/(bat.Oin*bat.yin[1]):.1%}\", f\"{bat.stages_num:.0f}\", bat.eff_list[0,1], str(bat.EQUIL)[17:-2]]\n",
        "summary_table8"
      ],
      "metadata": {
        "id": "OG1E8jAtDqTe"
      },
      "execution_count": null,
      "outputs": []
    },
    {
      "cell_type": "code",
      "source": [
        "table8_1=LLC.BatteryTable(bat8_1).data"
      ],
      "metadata": {
        "id": "pPeEQpzb6shf"
      },
      "execution_count": null,
      "outputs": []
    },
    {
      "cell_type": "code",
      "source": [
        "## P2O5\n",
        "bat=bat8_1\n",
        "summary_table=summary_table8\n",
        "fig8_1 = go.Figure()\n",
        "n=1 #H3PO4\n",
        "fig8_1.add_trace(go.Scatter(x=[0,summary_table['Plant data'].loc['Prod_P2O5']], y=[summary_table['Plant data'].loc['WS_P2O5'],summary_table['Plant data'].loc['PS_P2O5']], name='Plant data', marker_color='orange'))\n",
        "fig8_1.add_trace(go.Scatter(x=np.concatenate((bat.xout_list[:,n]*71/98, [bat.xin_list[-1,n]/98*71])), y=np.concatenate((bat.yin_list[:,n]/98*71, [bat.yout_list[-1,n]/98*71])), mode = \"markers+lines+text\",\n",
        "                          text= ['({:.2f},{:.2f})'.format(a,b) for a,b in zip(np.concatenate((bat.xout_list[:,n]/98*71, [bat.xin_list[-1,n]/98*71])),np.concatenate((bat.yin_list[:,n]/98*71, [bat.yout_list[-1,n]/98*71])))],\n",
        "                          textposition ='bottom center', name='Model data', marker_color='green'))\n",
        "fig8_1.add_trace(go.Scatter(x=bat.xout_list[:,n]/98*71, y=bat.yout_list[:,n]/98*71, name='Efficiency', marker_color='blue'))\n",
        "fig8_1.add_trace(go.Scatter(x=bat.xout_list[:,n]/98*71, y=bat.yout_tag_list[:,n]/98*71, name='Equilibrium', marker_color='black'))\n",
        "fig8_1.add_trace(go.Scatter(x=profile_data1.x, y=profile_data1.y, name='Plant profile data', marker_color='grey', visible='legendonly'))\n",
        "\n",
        "fig8_1.update_xaxes(title_text=\"%P2O5 aq\")#, range=[0.5, 2])\n",
        "fig8_1.update_yaxes(title_text=\"%P2O5 org\")#, range=[0.5, 2])\n",
        "# fig8_1.update_layout(title='', width=1200, height=600,)\n",
        "fig8_1.show()"
      ],
      "metadata": {
        "id": "4WB4LmX_DInR"
      },
      "execution_count": null,
      "outputs": []
    },
    {
      "cell_type": "code",
      "source": [
        "# x_mesh, y_mesh = np.linspace(0, 60, 31), np.linspace(0, 0.2, 31) # expanded x and y extrapolation area observation\n",
        "x_mesh, y_mesh = np.linspace(0, 50, 31), np.linspace(0, 0.15, 31)\n",
        "x_mesh, y_mesh = np.meshgrid(x_mesh, y_mesh)\n",
        "x_mesh4 = x_mesh.flatten().reshape(31*31,1)\n",
        "y_mesh4 = y_mesh.flatten().reshape(31*31,1)\n",
        "mesh4=np.concatenate((x_mesh4, y_mesh4), axis=1)"
      ],
      "metadata": {
        "id": "8afp32I_GRq-"
      },
      "execution_count": null,
      "outputs": []
    },
    {
      "cell_type": "code",
      "source": [
        "a=np.concatenate((np.zeros([len(mesh4),1]),mesh4), axis=1)"
      ],
      "metadata": {
        "id": "4yt9kWILGRq-"
      },
      "execution_count": null,
      "outputs": []
    },
    {
      "cell_type": "code",
      "source": [
        "mesh_predict_x=np.array([EQUIL_rotem_washing3_3([row]).xout for row in a])\n",
        "mesh_predict_y=np.array([EQUIL_rotem_washing3_3([row]).yout for row in a])\n",
        "mesh_predics4_1=mesh_predict_y[:,:,1]\n",
        "mesh_predics4_2=mesh_predict_y[:,:,0]\n",
        "mesh_predics4_3=mesh_predict_x[:,:,0]\n",
        "mesh_predics4_4=mesh_predict_y[:,:,2]"
      ],
      "metadata": {
        "id": "u2wN0iezGRq-"
      },
      "execution_count": null,
      "outputs": []
    },
    {
      "cell_type": "code",
      "source": [
        "fig_equil8_1 = make_subplots(rows=2, cols=2, subplot_titles=('H3PO4_org','water_org','solvent_aq','SO4_org'), column_widths=[0.5, 0.5], vertical_spacing=0.05,\n",
        "                     specs=[[{\"type\": \"scene\"}, {\"type\": \"scene\"}],[{\"type\": \"scene\"}, {\"type\": \"scene\"}]])\n",
        "\n",
        "fig_equil8_1.add_trace(go.Scatter3d(x=data3.H3PO4_aq, y=data3.SO4_aq, z=data3.H3PO4_org, mode='markers', name='H3PO4_org'), 1, 1)\n",
        "fig_equil8_1.add_trace(go.Scatter3d(x=data3.H3PO4_aq, y=data3.SO4_aq, z=data3.water_org, mode='markers', name='water_org'), 1, 2)\n",
        "fig_equil8_1.add_trace(go.Scatter3d(x=data3.H3PO4_aq, y=data3.SO4_aq, z=data3.solvent_aq, mode='markers', name='solvent_aq'), 2, 1)\n",
        "fig_equil8_1.add_trace(go.Scatter3d(x=data3.H3PO4_aq, y=data3.SO4_aq, z=data3.SO4_org, mode='markers', name='SO4_org'), 2, 2)\n",
        "\n",
        "# visib='legendonly'\n",
        "visib=True\n",
        "fig_equil8_1.add_trace(go.Scatter3d(x=x_mesh4[:,0], y=y_mesh4[:,0], z=mesh_predics4_1[:,0], mode='markers',marker_color='green', marker_size=0.5, name='Equilibrium surface', visible=visib),1,1)\n",
        "fig_equil8_1.add_trace(go.Scatter3d(x=x_mesh4[:,0], y=y_mesh4[:,0], z=mesh_predics4_2[:,0], mode='markers',marker_color='green', marker_size=0.5, name='Equilibrium surface', visible=visib),1,2)\n",
        "fig_equil8_1.add_trace(go.Scatter3d(x=x_mesh4[:,0], y=y_mesh4[:,0], z=mesh_predics4_3[:,0], mode='markers',marker_color='green', marker_size=0.5, name='Equilibrium surface', visible=visib),2,1)\n",
        "fig_equil8_1.add_trace(go.Scatter3d(x=x_mesh4[:,0], y=y_mesh4[:,0], z=mesh_predics4_4[:,0], mode='markers',marker_color='green', marker_size=0.5, name='Equilibrium surface', visible=visib),2,2)\n",
        "\n",
        "bat=bat8_1\n",
        "# n, row, col =[1,0,2], [1,1,2], [1,2,2] # H3PO4_org, water_org, SO4_org\n",
        "# for i in range(3):\n",
        "#   fig_equil6_1.add_trace(go.Scatter3d(x=bat.xout_list[:,1], y=bat.xout_list[:,2], z=bat.yout_list[:,n[i]], mode='markers', marker_color='blue', name='Efficiency'), row[i], col[i])\n",
        "#   x,y,z=np.concatenate((bat.xout_list[:,1], [bat.xin_list[-1,1]])),np.concatenate((bat.xout_list[:,2],[bat.xin_list[-1,2]])), np.concatenate((bat.yin_list[:,n[i]],[bat.yout_list[-1,n[i]]]))\n",
        "#   fig_equil6_1.add_trace(go.Scatter3d(x=x, y=y, z=z, mode = \"markers+lines+text\", text= ['({:.2f},{:.2f},{:.2f})'.format(a,b,c) for a,b,c in zip(x,y,z)], textposition ='bottom center', name='Operation', marker_color='green'),row[i],col[i])\n",
        "\n",
        "# H3PO4_org\n",
        "fig_equil8_1.add_trace(go.Scatter3d(x=bat.xout_list[:,1], y=bat.xout_list[:,2], z=bat.yout_list[:,1], mode='markers', marker_color='blue', name='Efficiency'), 1, 1)\n",
        "x,y,z=np.concatenate((bat.xout_list[:,1], [bat.xin_list[-1,1]])),np.concatenate((bat.xout_list[:,2],[bat.xin_list[-1,2]])), np.concatenate((bat.yin_list[:,1],[bat.yout_list[-1,1]]))\n",
        "fig_equil8_1.add_trace(go.Scatter3d(x=x, y=y, z=z, mode = \"markers+lines+text\", text= ['({:.2f},{:.2f},{:.2f})'.format(a,b,c) for a,b,c in zip(x,y,z)], textposition ='bottom center', name='Operation', marker_color='green'),1,1)\n",
        "# water_org\n",
        "fig_equil8_1.add_trace(go.Scatter3d(x=bat.xout_list[:,1], y=bat.xout_list[:,2], z=bat.yout_list[:,0], mode='markers', marker_color='blue', name='Efficiency'), 1, 2)\n",
        "x,y,z=np.concatenate((bat.xout_list[:,1], [bat.xin_list[-1,1]])),np.concatenate((bat.xout_list[:,2],[bat.xin_list[-1,2]])), np.concatenate((bat.yin_list[:,0],[bat.yout_list[-1,0]]))\n",
        "fig_equil8_1.add_trace(go.Scatter3d(x=x, y=y, z=z, mode = \"markers+lines+text\", text= ['({:.2f},{:.2f},{:.2f})'.format(a,b,c) for a,b,c in zip(x,y,z)], textposition ='bottom center', name='Operation', marker_color='green'),1,2)\n",
        "# SO4_org\n",
        "fig_equil8_1.add_trace(go.Scatter3d(x=bat.xout_list[:,1], y=bat.xout_list[:,2], z=bat.yout_list[:,2], mode='markers', marker_color='blue', name='Efficiency'), 2, 2)\n",
        "x,y,z=np.concatenate((bat.xout_list[:,1], [bat.xin_list[-1,1]])),np.concatenate((bat.xout_list[:,2],[bat.xin_list[-1,2]])), np.concatenate((bat.yin_list[:,2],[bat.yout_list[-1,2]]))\n",
        "fig_equil8_1.add_trace(go.Scatter3d(x=x, y=y, z=z, mode = \"markers+lines+text\", text= ['({:.2f},{:.2f},{:.2f})'.format(a,b,c) for a,b,c in zip(x,y,z)], textposition ='bottom center', name='Operation', marker_color='green'),2,2)\n",
        "\n",
        "# solvent_aq\n",
        "fig_equil8_1.add_trace(go.Scatter3d(x=bat.xout_list[:,1], y=bat.xout_list[:,2], z=bat.xout_list[:,0], mode='markers', marker_color='blue', name='Efficiency'), 2, 1)\n",
        "x,y,z=np.concatenate((bat.xout_list[:,1], [bat.xin_list[-1,1]])),np.concatenate((bat.xout_list[:,2],[bat.xin_list[-1,2]])), np.concatenate((bat.xout_list[:,0],[bat.xin_list[-1,0]])) # aqueous -- different operation line order\n",
        "fig_equil8_1.add_trace(go.Scatter3d(x=x, y=y, z=z, mode = \"markers+lines+text\", text= ['({:.2f},{:.2f},{:.2f})'.format(a,b,c) for a,b,c in zip(x,y,z)], textposition ='bottom center', name='Operation', marker_color='green'),2,1)\n",
        "\n",
        "\n",
        "fig_equil8_1.update_layout(title='', autosize=True,\n",
        "                  width=980, height=980,\n",
        "                  margin=dict(l=0, r=0, b=0, t=30),\n",
        "                  )\n",
        "\n",
        "fig_equil8_1.update_layout(\n",
        "    # scene1_zaxis_range=[0,10],\n",
        "    # scene2_zaxis_range=[10,14],\n",
        "    # scene3_zaxis_range=[0,3],\n",
        "    # scene4_zaxis_range=[0,.1],\n",
        "    )\n",
        "\n",
        "# fig_equil8_1.update_scenes(xaxis_title='H3PO4_aq', yaxis_title='SO4_aq', camera_eye=dict(x=1.5, y=-1.5, z=1.5))\n",
        "fig_equil8_1.update_scenes(xaxis_title='H3PO4_aq', yaxis_title='SO4_aq', camera_eye=dict(x=0, y=-2.2, z=0.01))\n",
        "fig_equil8_1.update_scenes(camera_projection_type=\"orthographic\")\n",
        "\n",
        "fig_equil8_1.show()"
      ],
      "metadata": {
        "id": "y7y1JXMd6shf"
      },
      "execution_count": null,
      "outputs": []
    },
    {
      "cell_type": "markdown",
      "source": [
        "### 10 - Washing5 - optimize.direct()"
      ],
      "metadata": {
        "id": "HaOjizc9-MU4"
      }
    },
    {
      "cell_type": "markdown",
      "source": [
        "Plant data"
      ],
      "metadata": {
        "id": "dQfmjUDn-MU6"
      }
    },
    {
      "cell_type": "code",
      "source": [
        "PS_P2O5=11.6\n",
        "WS_P2O5=0.2\n",
        "W_flow=23.4\n",
        "Prod_flow=48.4 # =36.7*1.32\n",
        "Prod_P2O5=37.6\n",
        "\n",
        "PS_flow=(Prod_flow*Prod_P2O5+WS_P2O5*(W_flow-Prod_flow))/(PS_P2O5-WS_P2O5)\n",
        "WS_flow=PS_flow+W_flow-Prod_flow\n",
        "P2O5_recovery=Prod_flow*Prod_P2O5/(PS_flow*PS_P2O5)\n",
        "print ('Purified solvent flow =',f\"{PS_flow:.1f}\",'ton/hr,  ', 'Washed solvent flow =',f\"{WS_flow:.1f}\",'ton/hr  ', 'P2O5 recovery =',f\"{P2O5_recovery:.1%}\")"
      ],
      "metadata": {
        "id": "putugCqs-MU6"
      },
      "execution_count": null,
      "outputs": []
    },
    {
      "cell_type": "code",
      "source": [
        "summary_table10=pd.DataFrame([PS_flow,PS_P2O5,WS_flow,WS_P2O5,W_flow,Prod_flow,Prod_P2O5,f\"{P2O5_recovery:.1%}\",6,'---', '---'],\n",
        "                        index=['PS_flow','PS_P2O5','WS_flow','WS_P2O5','W_flow','Prod_flow','Prod_P2O5','P2O5_recovery','Stages_num','Efficiency','Equilibrium'],\n",
        "                        columns=['Plant data'])\n",
        "summary_table10"
      ],
      "metadata": {
        "id": "B9cyOby0-MU6"
      },
      "execution_count": null,
      "outputs": []
    },
    {
      "cell_type": "markdown",
      "source": [
        "#### slope(entr,eff)"
      ],
      "metadata": {
        "id": "sBG0fLuhKXKJ"
      }
    },
    {
      "cell_type": "markdown",
      "source": [
        "נמצא שהתלות של השיפוע של קו הפעולה תלוי באחוז סחיפות בקשר ליניארי וביעילות בקשר\n",
        "מרובע. מחשבים פרמטרים של פונקציה זאת\n",
        "\n",
        "slope = a + b * entr + c * eff + d * eff^2\n",
        "\n",
        "בשלב ראשון מוסיפים עמודה עם יעילות בריבוע\n",
        "\n",
        "מתוך הריכוזים של התהליך מחשבים שיפוע של התהליך. מוצאים קשר בין סחיפות ויעילות.\n",
        "\n",
        "entrain=(slope_proc-C[0]-C[2]*eff-C[3]*eff**2)/C[1]\n",
        "\n",
        "האופטימיזציה הופכת לאחת עם משתנה בודד."
      ],
      "metadata": {
        "id": "BVGDEk10denU"
      }
    },
    {
      "cell_type": "code",
      "source": [
        "## P2O5\n",
        "summary_table=summary_table10\n",
        "fig10_1 = go.Figure()\n",
        "n=1 #H3PO4\n",
        "\n",
        "for entr in [2.6, 3.6, 4.6]:\n",
        "  for eff in [0.67,0.77,0.87]:\n",
        "    bat=LLC.Battery(stages_num=6, Oin=PS_flow, Ain=W_flow, yin=[12,PS_P2O5/71*98,.07], xin=[0,0,.02], EQUIL=EQUIL_rotem_washing3_3, eff=eff, convergence=1E-3, entrainment_perc_out=[entr,0])\n",
        "    print ('entr:', entr, '  eff:', eff, '  slope:', (bat.yin[1]-bat.yout[1])/(bat.xout[1]-bat.xin[1]))\n",
        "    fig10_1.add_trace(go.Scatter(x=np.concatenate((bat.xout_list[:,n]*71/98, [bat.xin_list[-1,n]/98*71])), y=np.concatenate((bat.yin_list[:,n]/98*71, [bat.yout_list[-1,n]/98*71])), mode = \"markers+lines+text\",\n",
        "                          # text= ['({:.2f},{:.2f})'.format(a,b) for a,b in zip(np.concatenate((bat.xout_list[:,n]/98*71, [bat.xin_list[-1,n]/98*71])),np.concatenate((bat.yin_list[:,n]/98*71, [bat.yout_list[-1,n]/98*71])))],\n",
        "                          textposition ='bottom center', name='entr:'+str(entr)+', '+'eff:'+str(eff)))\n",
        "\n",
        "bat=LLC.Battery(stages_num=6, Oin=PS_flow, Ain=W_flow, yin=[12,PS_P2O5/71*98,.07], xin=[0,0,.02], EQUIL=EQUIL_rotem_washing3_3, eff=.77, convergence=1E-3, entrainment_perc_out=[3.6,0])\n",
        "fig10_1.add_trace(go.Scatter(x=[0,summary_table['Plant data'].loc['Prod_P2O5']], y=[summary_table['Plant data'].loc['WS_P2O5'],summary_table['Plant data'].loc['PS_P2O5']], name='Plant data', marker_color='orange'))\n",
        "fig10_1.add_trace(go.Scatter(x=np.concatenate((bat.xout_list[:,n]*71/98, [bat.xin_list[-1,n]/98*71])), y=np.concatenate((bat.yin_list[:,n]/98*71, [bat.yout_list[-1,n]/98*71])), mode = \"markers+lines+text\",\n",
        "                          text= ['({:.2f},{:.2f})'.format(a,b) for a,b in zip(np.concatenate((bat.xout_list[:,n]/98*71, [bat.xin_list[-1,n]/98*71])),np.concatenate((bat.yin_list[:,n]/98*71, [bat.yout_list[-1,n]/98*71])))],\n",
        "                          textposition ='bottom center', name='Model data', marker_color='green'))\n",
        "fig10_1.add_trace(go.Scatter(x=bat.xout_list[:,n]/98*71, y=bat.yout_list[:,n]/98*71, name='Efficiency', marker_color='blue'))\n",
        "fig10_1.add_trace(go.Scatter(x=bat.xout_list[:,n]/98*71, y=bat.yout_tag_list[:,n]/98*71, name='Equilibrium', marker_color='black'))\n",
        "\n",
        "fig10_1.update_xaxes(title_text=\"%P2O5 aq\")#, range=[0.5, 2])\n",
        "fig10_1.update_yaxes(title_text=\"%P2O5 org\")#, range=[0.5, 2])\n",
        "# fig10_1.update_layout(title='', width=1200, height=600,)\n",
        "fig10_1.show()"
      ],
      "metadata": {
        "id": "U8B8ltEQBeGl"
      },
      "execution_count": null,
      "outputs": []
    },
    {
      "cell_type": "code",
      "source": [
        "slopes=[]\n",
        "for entr in [3.6, 2.6, 4.6]: # לינארי -- מספיק 2\n",
        "  for eff in [0.77,0.67,0.87]: # פורבולה -- צריך 3\n",
        "    bat=LLC.Battery(stages_num=6, Oin=PS_flow, Ain=W_flow, yin=[12,PS_P2O5/71*98,.07], xin=[0,0,.02], EQUIL=EQUIL_rotem_washing3_3, eff=eff, convergence=1E-3, entrainment_perc_out=[entr,0])\n",
        "    slope=(bat.yin[1]-bat.yout[1])/(bat.xout[1]-bat.xin[1]) # שיפוע של קו הפעולה\n",
        "    slopes.append([entr, eff, slope])\n",
        "    # print ('entr:', entr, '  eff:', eff, '  slope:', slope)\n",
        "arr=np.array(slopes)\n",
        "arr"
      ],
      "metadata": {
        "id": "F5s4rm6mcMfU"
      },
      "execution_count": null,
      "outputs": []
    },
    {
      "cell_type": "code",
      "source": [
        "fig=go.Figure()\n",
        "fig.add_trace(go.Scatter3d(x=arr[:,0], y=arr[:,1], z=arr[:,2], mode = \"markers\"))\n",
        "fig.show()"
      ],
      "metadata": {
        "id": "o-xfdhwNdFuN"
      },
      "execution_count": null,
      "outputs": []
    },
    {
      "cell_type": "code",
      "source": [
        "arr_mod=np.c_[np.ones([len(arr),1]),arr[:,0:2], arr[:,1]**2, arr[:,2]]\n",
        "arr_mod"
      ],
      "metadata": {
        "id": "7aJ7-6kSkGfR"
      },
      "execution_count": null,
      "outputs": []
    },
    {
      "cell_type": "code",
      "source": [
        "rows=[0,1,2,3]\n",
        "A=arr_mod[rows,0:4]\n",
        "B=arr_mod[rows,4]\n",
        "C=np.dot(np.linalg.inv(A),B) # מחשבים ערכים של עמודה אחרונה (קו הפעולה) מתוך עמודות ראשונות\n",
        "C"
      ],
      "metadata": {
        "id": "yJFwecz8tv90"
      },
      "execution_count": null,
      "outputs": []
    },
    {
      "cell_type": "code",
      "source": [
        "pred=np.dot(arr_mod[:,0:4],C)\n",
        "pred"
      ],
      "metadata": {
        "id": "9Qrh2ZLcu863"
      },
      "execution_count": null,
      "outputs": []
    },
    {
      "cell_type": "code",
      "source": [
        "fig=go.Figure()\n",
        "fig.add_trace(go.Scatter3d(x=arr[:,0], y=arr[:,1], z=arr[:,2], mode = \"markers\"))\n",
        "# fig.add_trace(go.Scatter3d(x=arr[rows,0], y=arr[rows,1], z=pred[rows], mode = \"markers\"))\n",
        "fig.add_trace(go.Scatter3d(x=arr[:,0], y=arr[:,1], z=pred, mode = \"markers\"))\n",
        "\n",
        "fig.show()"
      ],
      "metadata": {
        "id": "f6ozXvc1w4hV"
      },
      "execution_count": null,
      "outputs": []
    },
    {
      "cell_type": "markdown",
      "source": [
        "#### together"
      ],
      "metadata": {
        "id": "uf5Ejgx3gMf_"
      }
    },
    {
      "cell_type": "markdown",
      "source": [
        "Plant data"
      ],
      "metadata": {
        "id": "Vqv4IC2Bglmz"
      }
    },
    {
      "cell_type": "code",
      "source": [
        "PS_P2O5=11.6\n",
        "WS_P2O5=0.2\n",
        "W_flow=23.4\n",
        "Prod_flow=48.4 # =36.7*1.32\n",
        "Prod_P2O5=37.6\n",
        "PS_flow=(Prod_flow*Prod_P2O5+WS_P2O5*(W_flow-Prod_flow))/(PS_P2O5-WS_P2O5)\n",
        "WS_flow=PS_flow+W_flow-Prod_flow\n",
        "P2O5_recovery=Prod_flow*Prod_P2O5/(PS_flow*PS_P2O5)\n",
        "print ('Purified solvent flow =',f\"{PS_flow:.1f}\",'ton/hr,  ', 'Washed solvent flow =',f\"{WS_flow:.1f}\",'ton/hr  ', 'P2O5 recovery =',f\"{P2O5_recovery:.1%}\")\n",
        "\n",
        "slope_proc=(PS_P2O5-WS_P2O5)/Prod_P2O5"
      ],
      "metadata": {
        "id": "hWTWAHNZgQKJ"
      },
      "execution_count": null,
      "outputs": []
    },
    {
      "cell_type": "code",
      "source": [
        "summary_table10_1=pd.DataFrame([PS_flow,PS_P2O5,WS_flow,WS_P2O5,W_flow,Prod_flow,Prod_P2O5,f\"{P2O5_recovery:.1%}\",6,'---', '---'],\n",
        "                        index=['PS_flow','PS_P2O5','WS_flow','WS_P2O5','W_flow','Prod_flow','Prod_P2O5','P2O5_recovery','Stages_num','Efficiency','Equilibrium'],\n",
        "                        columns=['Plant data'])\n",
        "summary_table10_1"
      ],
      "metadata": {
        "id": "d14J6ejCicvM"
      },
      "execution_count": null,
      "outputs": []
    },
    {
      "cell_type": "markdown",
      "source": [
        "Slope(entrain,eff)"
      ],
      "metadata": {
        "id": "_eQ4gKH1gn4A"
      }
    },
    {
      "cell_type": "markdown",
      "source": [
        "נמצא שהתלות של השיפוע של קו הפעולה תלוי באחוז סחיפות בקשר ליניארי וביעילות בקשר\n",
        "מרובע. מחשבים פרמטרים של פונקציה זאת\n",
        "\n",
        "slope = a + b * entr + c * eff + d * eff^2\n",
        "\n",
        "בשלב ראשון מוסיפים עמודה עם יעילות בריבוע\n",
        "\n",
        "מתוך הריכוזים של התהליך מחשבים שיפוע של התהליך. מוצאים קשר בין סחיפות ויעילות.\n",
        "\n",
        "entrain=(slope_proc-C[0]-C[2]*eff-C[3]*eff**2)/C[1]\n",
        "\n",
        "האופטימיזציה הופכת לאחת עם משתנה בודד."
      ],
      "metadata": {
        "id": "sr7jSRO1qkPv"
      }
    },
    {
      "cell_type": "code",
      "source": [
        "slopes=[]\n",
        "entr_initial, eff_init = 3.6, 0.77\n",
        "for entr in [entr_initial, entr_initial*.75]: # לינארי -- מספיק 2\n",
        "  for eff in [eff_init,eff_init*.85,eff_init*1.1]: # פורבולה -- צריך 3\n",
        "    bat=LLC.Battery(stages_num=6, Oin=PS_flow, Ain=W_flow, yin=[12,PS_P2O5/71*98,.07], xin=[0,0,.02], EQUIL=EQUIL_rotem_washing3_3, eff=eff, convergence=1E-3, entrainment_perc_out=[entr,0])\n",
        "    slope=(bat.yin[1]-bat.yout[1])/(bat.xout[1]-bat.xin[1])\n",
        "    slopes.append([entr, eff, slope])\n",
        "    # print ('entr:', entr, '  eff:', eff, '  slope:', slope)\n",
        "arr=np.array(slopes)\n",
        "arr_mod=np.c_[np.ones([len(arr),1]),arr[:,0:2], arr[:,1]**2, arr[:,2]] # entrainment approximated to porabola"
      ],
      "metadata": {
        "id": "Vwu6APhGgtP5"
      },
      "execution_count": null,
      "outputs": []
    },
    {
      "cell_type": "code",
      "source": [
        "rows=[0,1,2,3] # 4 rows for 4 unknowns\n",
        "A=arr_mod[rows,0:4]\n",
        "B=arr_mod[rows,4]\n",
        "C=np.dot(np.linalg.inv(A),B) # פתרון מערכת משוואות.  מחשבים ערכים של עמודה אחרונה (קו הפעולה) מתוך עמודות ראשונות"
      ],
      "metadata": {
        "id": "p6fbumCfi1pV"
      },
      "execution_count": null,
      "outputs": []
    },
    {
      "cell_type": "markdown",
      "source": [
        "optimize\n",
        "\n",
        "optimization with 1 parameter\n",
        "\n",
        "במקום להריץ אופטימיזציה עם 2 משתנים: יעילות וסחיפות, זה רץ על פרמטר בודד -- יעילות. הסחיפות מחושבות מתוך תלות בין סחיפות ושיפוע קו פעולה. תלות זאת חושבה לפני זה."
      ],
      "metadata": {
        "id": "r_XVm2pgho1q"
      }
    },
    {
      "cell_type": "code",
      "source": [
        "def P2O5_calc3_1(x):\n",
        "  eff = x[0]\n",
        "  entrain=(slope_proc-C[0]-C[2]*eff-C[3]*eff**2)/C[1]\n",
        "  bat=LLC.Battery(stages_num=6, Oin=PS_flow, Ain=W_flow, yin=[12,PS_P2O5/71*98,.07], xin=[0,0,.02], EQUIL=EQUIL_rotem_washing3_3, eff=eff, convergence=1E-3, entrainment_perc_out=[entrain,0])\n",
        "  # error1=abs((WS_P2O5-bat.yout[1]/98*71)/WS_P2O5)\n",
        "  error=abs((Prod_P2O5-bat.xout[1]/98*71)/Prod_P2O5)\n",
        "  print (eff, entrain, bat.yout[1]/98*71, bat.xout[1]/98*71, error, bat.runs, ',')\n",
        "\n",
        "  return error"
      ],
      "metadata": {
        "id": "-xcDxenPhbmb"
      },
      "execution_count": null,
      "outputs": []
    },
    {
      "cell_type": "code",
      "source": [
        "bounds=[(0.5,1)]\n",
        "sol10_1=optimize.direct(P2O5_calc3_1, bounds=bounds, f_min=0, f_min_rtol=0.001, maxiter=100, locally_biased=False)\n",
        "print (sol10_1.x, sol10_1.fun)"
      ],
      "metadata": {
        "id": "pZju7nk9hwGP"
      },
      "execution_count": null,
      "outputs": []
    },
    {
      "cell_type": "code",
      "source": [
        "eff10_1=sol10_1.x[0]\n",
        "entrain10_1=entrain=(slope_proc-C[0]-C[2]*eff10_1-C[3]*eff10_1**2)/C[1]"
      ],
      "metadata": {
        "id": "6JS6LshHj3ER"
      },
      "execution_count": null,
      "outputs": []
    },
    {
      "cell_type": "markdown",
      "source": [
        "optimal calcul"
      ],
      "metadata": {
        "id": "Fueb85svibqb"
      }
    },
    {
      "cell_type": "code",
      "source": [
        "bat10_1=LLC.Battery(stages_num=6, Oin=PS_flow, Ain=W_flow, yin=[12,PS_P2O5/71*98,.07], xin=[0,0,.02], EQUIL=EQUIL_rotem_washing3_3, eff=eff10_1, convergence=1E-3, entrainment_perc_out=[entrain10_1,0])\n",
        "bat10_1.runs"
      ],
      "metadata": {
        "id": "qS8XMq6SjnXW"
      },
      "execution_count": null,
      "outputs": []
    },
    {
      "cell_type": "code",
      "source": [
        "bat=bat10_1\n",
        "summary_table10_1['Model data']=[bat.Oin,bat.yin[1]/98*71,bat.Oout,bat.yout[1]/98*71,bat.Ain,bat.Aout,bat.xout[1]/98*71,f\"{bat.Aout*bat.xout[1]/(bat.Oin*bat.yin[1]):.1%}\", f\"{bat.stages_num:.0f}\", bat.eff_list[0,1], str(bat.EQUIL)[17:-2]]\n",
        "summary_table10_1"
      ],
      "metadata": {
        "id": "TPJBFzDLlNsh"
      },
      "execution_count": null,
      "outputs": []
    },
    {
      "cell_type": "code",
      "source": [
        "table10_1=LLC.BatteryTable(bat10_1).data"
      ],
      "metadata": {
        "id": "hksoa7MfjnXX"
      },
      "execution_count": null,
      "outputs": []
    },
    {
      "cell_type": "markdown",
      "source": [
        "#### vizual"
      ],
      "metadata": {
        "id": "2f0-7VrOtxQC"
      }
    },
    {
      "cell_type": "code",
      "source": [
        "## P2O5\n",
        "bat=bat10_1\n",
        "summary_table=summary_table10_1\n",
        "fig10_1 = go.Figure()\n",
        "n=1 #H3PO4\n",
        "fig10_1.add_trace(go.Scatter(x=[0,summary_table['Plant data'].loc['Prod_P2O5']], y=[summary_table['Plant data'].loc['WS_P2O5'],summary_table['Plant data'].loc['PS_P2O5']], name='Plant data', marker_color='orange'))\n",
        "fig10_1.add_trace(go.Scatter(x=np.concatenate((bat.xout_list[:,n]*71/98, [bat.xin_list[-1,n]/98*71])), y=np.concatenate((bat.yin_list[:,n]/98*71, [bat.yout_list[-1,n]/98*71])), mode = \"markers+lines+text\",\n",
        "                          text= ['({:.2f},{:.2f})'.format(a,b) for a,b in zip(np.concatenate((bat.xout_list[:,n]/98*71, [bat.xin_list[-1,n]/98*71])),np.concatenate((bat.yin_list[:,n]/98*71, [bat.yout_list[-1,n]/98*71])))],\n",
        "                          textposition ='bottom center', name='Model data', marker_color='green'))\n",
        "fig10_1.add_trace(go.Scatter(x=bat.xout_list[:,n]/98*71, y=bat.yout_list[:,n]/98*71, name='Efficiency', marker_color='blue'))\n",
        "fig10_1.add_trace(go.Scatter(x=bat.xout_list[:,n]/98*71, y=bat.yout_tag_list[:,n]/98*71, name='Equilibrium', marker_color='black'))\n",
        "fig10_1.add_trace(go.Scatter(x=profile_data1.x, y=profile_data1.y, name='Plant profile data', marker_color='grey', visible='legendonly'))\n",
        "\n",
        "fig10_1.update_xaxes(title_text=\"%P2O5 aq\")#, range=[0.5, 2])\n",
        "fig10_1.update_yaxes(title_text=\"%P2O5 org\")#, range=[0.5, 2])\n",
        "# fig10_1.update_layout(title='', width=1200, height=600,)\n",
        "fig10_1.show()"
      ],
      "metadata": {
        "id": "sj6k5JlWkJGo"
      },
      "execution_count": null,
      "outputs": []
    },
    {
      "cell_type": "code",
      "source": [
        "# x_mesh, y_mesh = np.linspace(0, 60, 31), np.linspace(0, 0.2, 31) # expanded x and y extrapolation area observation\n",
        "x_mesh, y_mesh = np.linspace(0, 50, 31), np.linspace(0, 0.15, 31)\n",
        "x_mesh, y_mesh = np.meshgrid(x_mesh, y_mesh)\n",
        "x_mesh4 = x_mesh.flatten().reshape(31*31,1)\n",
        "y_mesh4 = y_mesh.flatten().reshape(31*31,1)\n",
        "mesh4=np.concatenate((x_mesh4, y_mesh4), axis=1)"
      ],
      "metadata": {
        "id": "6Sqmnv4_tmMD"
      },
      "execution_count": null,
      "outputs": []
    },
    {
      "cell_type": "code",
      "source": [
        "a=np.concatenate((np.zeros([len(mesh4),1]),mesh4), axis=1)"
      ],
      "metadata": {
        "id": "DilmuvhQtmME"
      },
      "execution_count": null,
      "outputs": []
    },
    {
      "cell_type": "code",
      "source": [
        "mesh_predict_x=np.array([EQUIL_rotem_washing3_3([row]).xout for row in a])\n",
        "mesh_predict_y=np.array([EQUIL_rotem_washing3_3([row]).yout for row in a])\n",
        "mesh_predics4_1=mesh_predict_y[:,:,1]\n",
        "mesh_predics4_2=mesh_predict_y[:,:,0]\n",
        "mesh_predics4_3=mesh_predict_x[:,:,0]\n",
        "mesh_predics4_4=mesh_predict_y[:,:,2]"
      ],
      "metadata": {
        "id": "8cmlMb94tmME"
      },
      "execution_count": null,
      "outputs": []
    },
    {
      "cell_type": "code",
      "source": [
        "fig_equil10_1 = make_subplots(rows=2, cols=2, subplot_titles=('H3PO4_org','water_org','solvent_aq','SO4_org'), column_widths=[0.5, 0.5], vertical_spacing=0.05,\n",
        "                     specs=[[{\"type\": \"scene\"}, {\"type\": \"scene\"}],[{\"type\": \"scene\"}, {\"type\": \"scene\"}]])\n",
        "\n",
        "fig_equil10_1.add_trace(go.Scatter3d(x=data3.H3PO4_aq, y=data3.SO4_aq, z=data3.H3PO4_org, mode='markers', name='H3PO4_org'), 1, 1)\n",
        "fig_equil10_1.add_trace(go.Scatter3d(x=data3.H3PO4_aq, y=data3.SO4_aq, z=data3.water_org, mode='markers', name='water_org'), 1, 2)\n",
        "fig_equil10_1.add_trace(go.Scatter3d(x=data3.H3PO4_aq, y=data3.SO4_aq, z=data3.solvent_aq, mode='markers', name='solvent_aq'), 2, 1)\n",
        "fig_equil10_1.add_trace(go.Scatter3d(x=data3.H3PO4_aq, y=data3.SO4_aq, z=data3.SO4_org, mode='markers', name='SO4_org'), 2, 2)\n",
        "\n",
        "# visib='legendonly'\n",
        "visib=True\n",
        "fig_equil10_1.add_trace(go.Scatter3d(x=x_mesh4[:,0], y=y_mesh4[:,0], z=mesh_predics4_1[:,0], mode='markers',marker_color='green', marker_size=0.5, name='Equilibrium surface', visible=visib),1,1)\n",
        "fig_equil10_1.add_trace(go.Scatter3d(x=x_mesh4[:,0], y=y_mesh4[:,0], z=mesh_predics4_2[:,0], mode='markers',marker_color='green', marker_size=0.5, name='Equilibrium surface', visible=visib),1,2)\n",
        "fig_equil10_1.add_trace(go.Scatter3d(x=x_mesh4[:,0], y=y_mesh4[:,0], z=mesh_predics4_3[:,0], mode='markers',marker_color='green', marker_size=0.5, name='Equilibrium surface', visible=visib),2,1)\n",
        "fig_equil10_1.add_trace(go.Scatter3d(x=x_mesh4[:,0], y=y_mesh4[:,0], z=mesh_predics4_4[:,0], mode='markers',marker_color='green', marker_size=0.5, name='Equilibrium surface', visible=visib),2,2)\n",
        "\n",
        "bat=bat10_1\n",
        "# H3PO4_org\n",
        "fig_equil10_1.add_trace(go.Scatter3d(x=bat.xout_list[:,1], y=bat.xout_list[:,2], z=bat.yout_list[:,1], mode='markers', marker_color='blue', name='Efficiency'), 1, 1)\n",
        "x,y,z=np.concatenate((bat.xout_list[:,1], [bat.xin_list[-1,1]])),np.concatenate((bat.xout_list[:,2],[bat.xin_list[-1,2]])), np.concatenate((bat.yin_list[:,1],[bat.yout_list[-1,1]]))\n",
        "fig_equil10_1.add_trace(go.Scatter3d(x=x, y=y, z=z, mode = \"markers+lines+text\", text= ['({:.2f},{:.2f},{:.2f})'.format(a,b,c) for a,b,c in zip(x,y,z)], textposition ='bottom center', name='Operation', marker_color='green'),1,1)\n",
        "# water_org\n",
        "fig_equil10_1.add_trace(go.Scatter3d(x=bat.xout_list[:,1], y=bat.xout_list[:,2], z=bat.yout_list[:,0], mode='markers', marker_color='blue', name='Efficiency'), 1, 2)\n",
        "x,y,z=np.concatenate((bat.xout_list[:,1], [bat.xin_list[-1,1]])),np.concatenate((bat.xout_list[:,2],[bat.xin_list[-1,2]])), np.concatenate((bat.yin_list[:,0],[bat.yout_list[-1,0]]))\n",
        "fig_equil10_1.add_trace(go.Scatter3d(x=x, y=y, z=z, mode = \"markers+lines+text\", text= ['({:.2f},{:.2f},{:.2f})'.format(a,b,c) for a,b,c in zip(x,y,z)], textposition ='bottom center', name='Operation', marker_color='green'),1,2)\n",
        "# SO4_org\n",
        "fig_equil10_1.add_trace(go.Scatter3d(x=bat.xout_list[:,1], y=bat.xout_list[:,2], z=bat.yout_list[:,2], mode='markers', marker_color='blue', name='Efficiency'), 2, 2)\n",
        "x,y,z=np.concatenate((bat.xout_list[:,1], [bat.xin_list[-1,1]])),np.concatenate((bat.xout_list[:,2],[bat.xin_list[-1,2]])), np.concatenate((bat.yin_list[:,2],[bat.yout_list[-1,2]]))\n",
        "fig_equil10_1.add_trace(go.Scatter3d(x=x, y=y, z=z, mode = \"markers+lines+text\", text= ['({:.2f},{:.2f},{:.2f})'.format(a,b,c) for a,b,c in zip(x,y,z)], textposition ='bottom center', name='Operation', marker_color='green'),2,2)\n",
        "\n",
        "# solvent_aq\n",
        "fig_equil10_1.add_trace(go.Scatter3d(x=bat.xout_list[:,1], y=bat.xout_list[:,2], z=bat.xout_list[:,0], mode='markers', marker_color='blue', name='Efficiency'), 2, 1)\n",
        "x,y,z=np.concatenate((bat.xout_list[:,1], [bat.xin_list[-1,1]])),np.concatenate((bat.xout_list[:,2],[bat.xin_list[-1,2]])), np.concatenate((bat.xout_list[:,0],[bat.xin_list[-1,0]])) # aqueous -- different operation line order\n",
        "fig_equil10_1.add_trace(go.Scatter3d(x=x, y=y, z=z, mode = \"markers+lines+text\", text= ['({:.2f},{:.2f},{:.2f})'.format(a,b,c) for a,b,c in zip(x,y,z)], textposition ='bottom center', name='Operation', marker_color='green'),2,1)\n",
        "\n",
        "\n",
        "fig_equil10_1.update_layout(title='', autosize=True,\n",
        "                  width=980, height=980,\n",
        "                  margin=dict(l=0, r=0, b=0, t=30),\n",
        "                  )\n",
        "\n",
        "fig_equil10_1.update_layout(\n",
        "    # scene1_zaxis_range=[0,10],\n",
        "    # scene2_zaxis_range=[10,14],\n",
        "    # scene3_zaxis_range=[0,3],\n",
        "    # scene4_zaxis_range=[0,.1],\n",
        "    )\n",
        "\n",
        "# fig_equil10_1.update_scenes(xaxis_title='H3PO4_aq', yaxis_title='SO4_aq', camera_eye=dict(x=1.5, y=-1.5, z=1.5))\n",
        "fig_equil10_1.update_scenes(xaxis_title='H3PO4_aq', yaxis_title='SO4_aq', camera_eye=dict(x=0, y=-2.2, z=0.01))\n",
        "fig_equil10_1.update_scenes(camera_projection_type=\"orthographic\")\n",
        "\n",
        "fig_equil10_1.show()"
      ],
      "metadata": {
        "id": "jX52qxyXtmMF"
      },
      "execution_count": null,
      "outputs": []
    },
    {
      "cell_type": "markdown",
      "source": [
        "# Profile"
      ],
      "metadata": {
        "id": "VPI-5BeLUenx"
      }
    },
    {
      "cell_type": "code",
      "source": [
        "data22=CopyPasteToArray('''\n",
        "H3PO4_aq\tSO4_aq\tSO4_org\tUnit\n",
        "4.15\t0.147\t0.0626\t571\n",
        "14.91\t0.0806\t0.0852\t573\n",
        "28.56\t0.0329\t0.0787\t575\n",
        "45.71\t0.0106\t0.0664\t579\n",
        "48.17\t0.0078\t0.0631\t581\n",
        "49.43\t0.0058\t0.0641\t5150\n",
        "''')\n",
        "\n",
        "data22=pd.DataFrame(data22[1:], columns=data22[0])"
      ],
      "metadata": {
        "id": "GfDhYv0kuFkf"
      },
      "execution_count": null,
      "outputs": []
    },
    {
      "cell_type": "code",
      "source": [
        "data22"
      ],
      "metadata": {
        "id": "-bvrNB3YSF5v"
      },
      "execution_count": null,
      "outputs": []
    },
    {
      "cell_type": "code",
      "source": [
        "fig = go.Figure()\n",
        "\n",
        "fig.add_trace(go.Scatter3d(x=data3.H3PO4_aq, y=data3.SO4_aq, z=data3.SO4_org, mode='markers', name='Tests'))\n",
        "fig.add_trace(go.Scatter3d(x=x_mesh4[:,0], y=y_mesh4[:,0], z=mesh_predics4_4[:,0],\n",
        "                                     mode='markers',marker_color='gray', marker_size=1, name='Equilibrium surface', visible=True))\n",
        "fig.add_trace(go.Scatter3d(x=data22.H3PO4_aq, y=data22.SO4_aq, z=data22.SO4_org,\n",
        "                                     mode = \"markers+lines+text\", text= ['({:.2f},{:.2f},{:.2f})'.format(a,b,c) for a,b,c in zip(x,y,z)],\n",
        "                                     textposition ='bottom center', name='Profile', marker_color='green'))\n",
        "\n",
        "fig.update_layout(title='', autosize=True,\n",
        "                  # width=980,\n",
        "                  height=980,\n",
        "                  margin=dict(l=0, r=0, b=0, t=30),\n",
        "                  )\n",
        "\n",
        "fig.update_scenes(xaxis_title='H3PO4_aq', yaxis_title='SO4_aq',  zaxis_title='SO4_org', camera_eye=dict(x=0, y=-2.2, z=0.01))\n",
        "fig.update_scenes(camera_projection_type=\"orthographic\")\n",
        "\n",
        "# fig.write_html(\"Profile_SO4.html\")\n",
        "fig.show()"
      ],
      "metadata": {
        "id": "L4UeX9tdREC7"
      },
      "execution_count": null,
      "outputs": []
    }
  ]
}