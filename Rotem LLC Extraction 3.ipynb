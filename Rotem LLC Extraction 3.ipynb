{
  "nbformat": 4,
  "nbformat_minor": 0,
  "metadata": {
    "colab": {
      "provenance": [],
      "gpuType": "T4",
      "toc_visible": true,
      "authorship_tag": "ABX9TyNN2uznBTboZQYvBFJ2UTXN",
      "include_colab_link": true
    },
    "kernelspec": {
      "name": "python3",
      "display_name": "Python 3"
    },
    "language_info": {
      "name": "python"
    }
  },
  "cells": [
    {
      "cell_type": "markdown",
      "metadata": {
        "id": "view-in-github",
        "colab_type": "text"
      },
      "source": [
        "<a href=\"https://colab.research.google.com/github/vladgap/LLC/blob/main/Rotem%20LLC%20Extraction%203.ipynb\" target=\"_parent\"><img src=\"https://colab.research.google.com/assets/colab-badge.svg\" alt=\"Open In Colab\"/></a>"
      ]
    },
    {
      "cell_type": "code",
      "execution_count": 1,
      "metadata": {
        "id": "hX7Dz1n-8hqQ"
      },
      "outputs": [],
      "source": [
        "import numpy as np\n",
        "import pandas as pd\n",
        "import plotly.express as px\n",
        "import plotly.graph_objs as go\n",
        "from plotly.subplots import make_subplots\n",
        "from sklearn import preprocessing\n",
        "import matplotlib.pyplot as plt\n",
        "pd.options.plotting.backend = \"plotly\""
      ]
    },
    {
      "cell_type": "code",
      "source": [
        "!wget -O MLNN.py \"https://raw.githubusercontent.com/vladgap/MLNN/main/MLNN_3_2.py\"\n",
        "from MLNN import *"
      ],
      "metadata": {
        "id": "DIjFhFZKgYXZ",
        "outputId": "8b82c632-33f9-4d3e-9914-343323d831f3",
        "colab": {
          "base_uri": "https://localhost:8080/"
        }
      },
      "execution_count": 2,
      "outputs": [
        {
          "output_type": "stream",
          "name": "stdout",
          "text": [
            "--2025-02-21 06:09:58--  https://raw.githubusercontent.com/vladgap/MLNN/main/MLNN_3_2.py\n",
            "Resolving raw.githubusercontent.com (raw.githubusercontent.com)... 185.199.108.133, 185.199.109.133, 185.199.110.133, ...\n",
            "Connecting to raw.githubusercontent.com (raw.githubusercontent.com)|185.199.108.133|:443... connected.\n",
            "HTTP request sent, awaiting response... 200 OK\n",
            "Length: 14169 (14K) [text/plain]\n",
            "Saving to: ‘MLNN.py’\n",
            "\n",
            "MLNN.py             100%[===================>]  13.84K  --.-KB/s    in 0s      \n",
            "\n",
            "2025-02-21 06:09:59 (53.2 MB/s) - ‘MLNN.py’ saved [14169/14169]\n",
            "\n",
            "Version of MLNN is 3.2\n"
          ]
        }
      ]
    },
    {
      "cell_type": "code",
      "source": [
        "!wget -O LLC.py \"https://raw.githubusercontent.com/vladgap/LLC/main/LLC_versions/LLC_5_2.py\"\n",
        "import LLC"
      ],
      "metadata": {
        "id": "AXfeN4lhttgu",
        "outputId": "173b5d08-4cb0-4f47-b85a-a1fea0cd7049",
        "colab": {
          "base_uri": "https://localhost:8080/"
        }
      },
      "execution_count": 3,
      "outputs": [
        {
          "output_type": "stream",
          "name": "stdout",
          "text": [
            "--2025-02-21 06:09:59--  https://raw.githubusercontent.com/vladgap/LLC/main/LLC_versions/LLC_5_2.py\n",
            "Resolving raw.githubusercontent.com (raw.githubusercontent.com)... 185.199.108.133, 185.199.109.133, 185.199.110.133, ...\n",
            "Connecting to raw.githubusercontent.com (raw.githubusercontent.com)|185.199.108.133|:443... connected.\n",
            "HTTP request sent, awaiting response... 200 OK\n",
            "Length: 44371 (43K) [text/plain]\n",
            "Saving to: ‘LLC.py’\n",
            "\n",
            "LLC.py              100%[===================>]  43.33K  --.-KB/s    in 0.007s  \n",
            "\n",
            "2025-02-21 06:09:59 (6.14 MB/s) - ‘LLC.py’ saved [44371/44371]\n",
            "\n"
          ]
        }
      ]
    },
    {
      "cell_type": "code",
      "source": [
        "# import LLC_5_2 as LLC52"
      ],
      "metadata": {
        "id": "vlklIlXBykN5"
      },
      "execution_count": 4,
      "outputs": []
    },
    {
      "cell_type": "code",
      "source": [
        "def CopyPasteToArray(a):\n",
        "  if a.startswith('\\n'):\n",
        "    b=a[1:]\n",
        "  else:\n",
        "    b=a\n",
        "  if b.endswith('\\n'):\n",
        "    b=b[:-1]\n",
        "  c=b.replace('\\t',',')\n",
        "  d=c.split('\\n')\n",
        "  f=[]\n",
        "  for e in d:\n",
        "    if e.replace(',','').replace('.','').isdigit(): # only digits no letters\n",
        "      f.append(list(eval(e)))\n",
        "    else:\n",
        "      f.append(e.split(','))\n",
        "  return f"
      ],
      "metadata": {
        "id": "oNdhOQ8XL3u3"
      },
      "execution_count": 5,
      "outputs": []
    },
    {
      "cell_type": "markdown",
      "source": [
        "# EQUIL data"
      ],
      "metadata": {
        "id": "4RPmUdpZID-M"
      }
    },
    {
      "cell_type": "markdown",
      "source": [
        "## EQUIL_rotem_extr1\n",
        "data 8 -- EQUIL_rotem_extraction 2+3"
      ],
      "metadata": {
        "id": "0t9N7WkWQ0S9"
      }
    },
    {
      "cell_type": "code",
      "source": [
        "# X: 'H3PO4_aq'\t'SO4_aq'\n",
        "# T: 'FA_aq'\t'solvent_aq'\t'H3PO4_org'\t'SO4_org'\t'water_org'\n",
        "\n",
        "scaler_data=[[37.23870967741936, 7.199806451612903],\n",
        " [21.87534593155935, 6.51727589252697],\n",
        " [155.77096774193546,\n",
        "  0.5283870967741936,\n",
        "  13.459354838709675,\n",
        "  1.0374193548387098,\n",
        "  7.283870967741936],\n",
        " [95.42174024805198,\n",
        "  0.5151599612158911,\n",
        "  13.221703793258648,\n",
        "  1.1486934169207217,\n",
        "  1.7674652479484612]]\n",
        "\n",
        "scaler_X = preprocessing.StandardScaler().fit([[0,0]])\n",
        "scaler_T1 = preprocessing.StandardScaler().fit([[0]])\n",
        "scaler_T2 = preprocessing.StandardScaler().fit([[0]])\n",
        "scaler_T3 = preprocessing.StandardScaler().fit([[0]])\n",
        "scaler_T4 = preprocessing.StandardScaler().fit([[0]])\n",
        "\n",
        "scaler_X.mean_, scaler_X.scale_ = scaler_data[0], scaler_data[1]\n",
        "scaler_T1.mean_, scaler_T1.scale_ = scaler_data[2][1], scaler_data[3][1] # solvent_aq\n",
        "scaler_T2.mean_, scaler_T2.scale_ = scaler_data[2][2], scaler_data[3][2] # H3PO4_org\n",
        "scaler_T3.mean_, scaler_T3.scale_ = scaler_data[2][3], scaler_data[3][3] # SO4_org\n",
        "scaler_T4.mean_, scaler_T4.scale_ = scaler_data[2][4], scaler_data[3][4] # water_org\n",
        "\n",
        "\n",
        "# scaler_T1 = preprocessing.StandardScaler().fit([[0]])\n",
        "# scaler_T2 = preprocessing.StandardScaler().fit([[0]])\n",
        "# scaler_T3 = preprocessing.StandardScaler().fit([[0]])\n",
        "# scaler_T3_4 = preprocessing.StandardScaler().fit([[0]])\n",
        "\n",
        "# scaler_X3.mean_, scaler_X3.scale_ = Xscale[0], Xscale[1]\n",
        "# scaler_X3_2.mean_, scaler_X3_2.scale_ = [27.03608333,  0.0474    ], [14.68499343,  0.04213688] # מים בקלה חושבו רק על נתונים \"טובים\n",
        "# scaler_T3_1.mean_, scaler_T3_1.scale_=[Tscale[0][0]], [Tscale[1][0]]\n",
        "# # scaler_T3_2.mean_, scaler_T3_2.scale_=[Tscale[0][1]], [Tscale[1][1]]\n",
        "# scaler_T3_2.mean_, scaler_T3_2.scale_=[10.81], [1.3091664] # מים בקלה חושבו רק על נתונים \"טובים\n",
        "# scaler_T3_3.mean_, scaler_T3_3.scale_=[Tscale[0][2]], [Tscale[1][2]]\n",
        "# scaler_T3_4.mean_, scaler_T3_4.scale_=[Tscale[0][3]], [Tscale[1][3]]"
      ],
      "metadata": {
        "id": "H_eY-JVaXWK-"
      },
      "execution_count": 6,
      "outputs": []
    },
    {
      "cell_type": "code",
      "source": [
        "class EQUIL_rotem_extr1: #\n",
        "# data8\n",
        "# gets xout [%solvent_aq, %H3PO4_aq, %SO4_aq]\n",
        "# calc xout , yout [%water_org, %H3PO4_org, %SO4_org]\n",
        "\n",
        "    def __init__(self, x):\n",
        "        x=np.array(x, dtype=float) # [[%solv, %H3PO4, %SO4], [%solv, %H3PO4, %SO4], [%solv, %H3PO4, %SO4], ...]\n",
        "        # the model predicts H3PO4_org, water_org ,solvent_aq, SO4_org\n",
        "        # x[:,[1]] is column vector of %H3PO4_aq [[1], [2], ...]\n",
        "        # x[:,[2]] is for %SO4_aq\n",
        "\n",
        "        # scaler\n",
        "        scaler_data=[[37.23870967741936, 7.199806451612903],\n",
        "        [21.87534593155935, 6.51727589252697],\n",
        "        [155.77096774193546,\n",
        "          0.5283870967741936,\n",
        "          13.459354838709675,\n",
        "          1.0374193548387098,\n",
        "          7.283870967741936],\n",
        "        [95.42174024805198,\n",
        "          0.5151599612158911,\n",
        "          13.221703793258648,\n",
        "          1.1486934169207217,\n",
        "          1.7674652479484612]]\n",
        "\n",
        "        scaler_X = preprocessing.StandardScaler().fit([[0,0]])\n",
        "        scaler_T1 = preprocessing.StandardScaler().fit([[0]]) # solvent_aq\n",
        "        scaler_T2 = preprocessing.StandardScaler().fit([[0]]) # H3PO4_org\n",
        "        scaler_T3 = preprocessing.StandardScaler().fit([[0]]) # SO4_org\n",
        "        scaler_T4 = preprocessing.StandardScaler().fit([[0]]) # water_org\n",
        "\n",
        "        scaler_X.mean_, scaler_X.scale_ = scaler_data[0], scaler_data[1]\n",
        "        scaler_T1.mean_, scaler_T1.scale_ = scaler_data[2][1], scaler_data[3][1] # solvent_aq\n",
        "        scaler_T2.mean_, scaler_T2.scale_ = scaler_data[2][2], scaler_data[3][2] # H3PO4_org\n",
        "        scaler_T3.mean_, scaler_T3.scale_ = scaler_data[2][3], scaler_data[3][3] # SO4_org\n",
        "        scaler_T4.mean_, scaler_T4.scale_ = scaler_data[2][4], scaler_data[3][4] # water_org\n",
        "\n",
        "        X_scaled=scaler_X.transform(x[:,[1,2]])\n",
        "        X_scaled=np.clip(X_scaled, -2, 2)\n",
        "\n",
        "        # H3PO4_org\n",
        "        bp1=VectorBackProp(layers=[2,1,1], hidden_activation = 'sigmoid')\n",
        "        manual_weights1=[[[-2.2542856480833247], [-0.7115892162097907]],\n",
        " [[2.11693061595761]],\n",
        " [[-4.9502436032281585]],\n",
        " [[3.912054301757645]]]\n",
        "        bp1.import_weights(manual_weights1)\n",
        "        predics1=scaler_T2.inverse_transform(bp1.run(X_scaled))\n",
        "\n",
        "        # water_org\n",
        "        bp2=VectorBackProp(layers=[2,2,1], hidden_activation = 'sigmoid')\n",
        "        manual_weights2=[[[3.865511470369896, 8.917531695210526],\n",
        "  [2.5196000386044317, 1.9258172086316168]],\n",
        " [[-2.2766428706488764, -1.5079705074058127]],\n",
        " [[2.7771600466732367], [0.9281118411212552]],\n",
        " [[-1.1710007634929602]]]\n",
        "        bp2.import_weights(manual_weights2)\n",
        "        predics2=scaler_T4.inverse_transform(bp2.run(X_scaled))\n",
        "\n",
        "        # solvent_aq\n",
        "        bp3=VectorBackProp(layers=[2,1,1], hidden_activation = 'linear')\n",
        "        manual_weights3=[[[0], [0]], [[0]], [[0]], [[0.9]]]\n",
        "        bp3.import_weights(manual_weights3)\n",
        "        predics3=scaler_T1.inverse_transform(bp3.run(X_scaled))\n",
        "\n",
        "        # SO4_org\n",
        "        bp4=VectorBackProp(layers=[2,3,1], hidden_activation = 'sigmoid')\n",
        "        manual_weights4=[[[5.255129630698163, 2.5370572590919305, -2.771603241282131],\n",
        "  [4.30266945368854, 1.6643297587562575, 2.759812469181559]],\n",
        " [[-6.720893024720382, -0.7893443670545283, 5.835081175805133]],\n",
        " [[5.160798955335814], [2.555891510916236], [2.30456660012357]],\n",
        " [[-3.1529870476605937]]]\n",
        "        bp4.import_weights(manual_weights4)\n",
        "        predics4=scaler_T3.inverse_transform(bp4.run(X_scaled))\n",
        "\n",
        "        self.xout = np.array([predics3[:,0], x[:,1], x[:,2]]).T # [[%solvent_aq, %H3PO4_aq, %SO4_aq], ...]\n",
        "        self.yout = np.array([predics2[:,0], predics1[:,0], predics4[:,0]]).T # [[%water_org, %H3PO4_org, %SO4_org], ...]\n",
        "\n",
        "        # print (self.yout, self.xout)"
      ],
      "metadata": {
        "id": "yVZP_8PYQ0TF"
      },
      "execution_count": 7,
      "outputs": []
    },
    {
      "cell_type": "markdown",
      "source": [
        "# Cases"
      ],
      "metadata": {
        "id": "Cn3G4NOrjQsB"
      }
    },
    {
      "cell_type": "markdown",
      "source": [
        "## Extraction 1"
      ],
      "metadata": {
        "id": "TvDXmUHxhqYc"
      }
    },
    {
      "cell_type": "markdown",
      "source": [
        "### test"
      ],
      "metadata": {
        "id": "FtEKLuAh3OL-"
      }
    },
    {
      "cell_type": "code",
      "source": [
        "x=np.array([[0,0,0],[100,100,100]])"
      ],
      "metadata": {
        "id": "gUHSCrRbChJP"
      },
      "execution_count": 8,
      "outputs": []
    },
    {
      "cell_type": "code",
      "source": [
        "X_scaled=scaler_X.transform(x[:,[1,2]])\n",
        "X_scaled"
      ],
      "metadata": {
        "id": "aZR-P7znCefe",
        "outputId": "3f3e3006-f902-4ee2-e587-16f64522d65e",
        "colab": {
          "base_uri": "https://localhost:8080/"
        }
      },
      "execution_count": 9,
      "outputs": [
        {
          "output_type": "execute_result",
          "data": {
            "text/plain": [
              "array([[-1.70231409, -1.10472636],\n",
              "       [ 2.86904219, 14.23910773]])"
            ]
          },
          "metadata": {},
          "execution_count": 9
        }
      ]
    },
    {
      "cell_type": "code",
      "source": [
        "np.clip(X_scaled, -1, 1)"
      ],
      "metadata": {
        "id": "o69o7mLpDG0f",
        "outputId": "567ee983-1437-469a-e3d7-eacd9e437d90",
        "colab": {
          "base_uri": "https://localhost:8080/"
        }
      },
      "execution_count": 10,
      "outputs": [
        {
          "output_type": "execute_result",
          "data": {
            "text/plain": [
              "array([[-1., -1.],\n",
              "       [ 1.,  1.]])"
            ]
          },
          "metadata": {},
          "execution_count": 10
        }
      ]
    },
    {
      "cell_type": "code",
      "source": [
        "a=np.array([[0,30,9],[1,20,5]])\n",
        "a[0]"
      ],
      "metadata": {
        "id": "6Ks8ciRZ4xLu",
        "outputId": "6fde1775-b431-4a3e-fc07-5bf0287e8071",
        "colab": {
          "base_uri": "https://localhost:8080/"
        }
      },
      "execution_count": 11,
      "outputs": [
        {
          "output_type": "execute_result",
          "data": {
            "text/plain": [
              "array([ 0, 30,  9])"
            ]
          },
          "metadata": {},
          "execution_count": 11
        }
      ]
    },
    {
      "cell_type": "code",
      "source": [
        "EQUIL_rotem_extr1(a).xout # [[%solvent_aq, %H3PO4_aq, %SO4_aq], ...]"
      ],
      "metadata": {
        "id": "eHwnC1vyn4ZA",
        "outputId": "97402fc8-581d-4f5e-a59b-dee1abbce6f1",
        "colab": {
          "base_uri": "https://localhost:8080/"
        }
      },
      "execution_count": 12,
      "outputs": [
        {
          "output_type": "execute_result",
          "data": {
            "text/plain": [
              "array([[ 0.99203106, 30.        ,  9.        ],\n",
              "       [ 0.99203106, 20.        ,  5.        ]])"
            ]
          },
          "metadata": {},
          "execution_count": 12
        }
      ]
    },
    {
      "cell_type": "code",
      "source": [
        "EQUIL_rotem_extr1(a).yout # [[%water_org, %H3PO4_org, %SO4_org], ...]"
      ],
      "metadata": {
        "id": "TLgpsbm5h1pR",
        "outputId": "75d9264f-6e52-421f-a507-ae2fad848f8c",
        "colab": {
          "base_uri": "https://localhost:8080/"
        }
      },
      "execution_count": 13,
      "outputs": [
        {
          "output_type": "execute_result",
          "data": {
            "text/plain": [
              "array([[5.51179427, 3.98631405, 0.76135935],\n",
              "       [5.22454595, 0.7650427 , 0.16013486]])"
            ]
          },
          "metadata": {},
          "execution_count": 13
        }
      ]
    },
    {
      "cell_type": "code",
      "source": [
        "test1 = LLC.Stage(173.2, 15, [8.2, .06, .06], [1, 30, 15], EQUIL_rotem_extr1, eff=.8, convergence=1E-4, entrainment_perc=[1,2,3,4], entrainment_comp_in=[[10,10,0],[5,5,0]])\n",
        "test1.runs"
      ],
      "metadata": {
        "id": "UrLurQ7Jj2IZ",
        "colab": {
          "base_uri": "https://localhost:8080/"
        },
        "outputId": "6c4bdee8-3895-4729-d384-6cb444c3b236"
      },
      "execution_count": 14,
      "outputs": [
        {
          "output_type": "execute_result",
          "data": {
            "text/plain": [
              "10"
            ]
          },
          "metadata": {},
          "execution_count": 14
        }
      ]
    },
    {
      "cell_type": "code",
      "source": [
        "test1.output()"
      ],
      "metadata": {
        "id": "NC8eL6QYnnRx",
        "colab": {
          "base_uri": "https://localhost:8080/"
        },
        "outputId": "dbd99b16-0d73-40cc-e1f6-d438c54c2969"
      },
      "execution_count": 83,
      "outputs": [
        {
          "output_type": "stream",
          "name": "stdout",
          "text": [
            "Oout= 169.21927704579792\n",
            "yout= [5.24911227 0.7879944  0.23470988]\n",
            "yout_tag= [5.24911227 0.969993   0.27838735]  %water_org_equilib, %solubles_equilib\n",
            "Aout= 15.323216002719382\n",
            "xout= [ 0.99203106 16.93085744  9.58455678]\n",
            "equilibrium efficiency= [1.  0.8 0.8]\n",
            "error= [-1.70562754e-06 -6.25295869e-06  1.93580396e-04]\n",
            "convergence= [ 8.91021042e-07  1.48212093e-05 -2.43776462e-05]\n"
          ]
        }
      ]
    },
    {
      "cell_type": "code",
      "source": [
        "test2 = LLC.Stage(173.2, 50, [6, 6, 1], [1, 60, .1], EQUIL_rotem_extr1, eff=.8, convergence=1E-4, entrainment_perc=[1,2,3,4], entrainment_comp_in=[[10,10,1],[5,5,1]])\n",
        "test2.runs"
      ],
      "metadata": {
        "outputId": "869aa976-4676-4e6e-bfe9-b624a78d94c9",
        "colab": {
          "base_uri": "https://localhost:8080/"
        },
        "id": "BnsA5SAcKjlN"
      },
      "execution_count": 16,
      "outputs": [
        {
          "output_type": "execute_result",
          "data": {
            "text/plain": [
              "68"
            ]
          },
          "metadata": {},
          "execution_count": 16
        }
      ]
    },
    {
      "cell_type": "code",
      "source": [
        "test2.output()"
      ],
      "metadata": {
        "outputId": "3d02e855-d48d-4fd8-ac9c-0de96faf8f3b",
        "colab": {
          "base_uri": "https://localhost:8080/"
        },
        "id": "BvaCSjABKjlO"
      },
      "execution_count": 17,
      "outputs": [
        {
          "output_type": "stream",
          "name": "stdout",
          "text": [
            "Oout= 187.0240741526847\n",
            "yout= [ 7.18715462 11.47595873  0.68447158]\n",
            "yout_tag= [ 7.18715462 12.84494841  0.60558947]  %water_org_equilib, %solubles_equilib\n",
            "Aout= 32.01654194493727\n",
            "xout= [ 0.99203106 50.51202203  1.3831771 ]\n",
            "equilibrium efficiency= [1.  0.8 0.8]\n",
            "error= [-5.31168917e-05 -4.00621298e-05 -1.86979252e-05]\n",
            "convergence= [3.07111483e-05 2.35603290e-05 3.15455190e-05]\n"
          ]
        }
      ]
    },
    {
      "cell_type": "code",
      "source": [
        "# test3 = LLC52.Stage(173.2, 50, [6, 6, .5], [1, 60, .1], EQUIL_rotem_extr1, eff=.8, convergence=1E-4)"
      ],
      "metadata": {
        "id": "HGahpNpgyz9S"
      },
      "execution_count": 18,
      "outputs": []
    },
    {
      "cell_type": "markdown",
      "source": [
        "### mesh"
      ],
      "metadata": {
        "id": "DgGA_AFkyBHg"
      }
    },
    {
      "cell_type": "code",
      "source": [
        "# x_mesh, y_mesh = np.linspace(0, 60, 31), np.linspace(0, 0.2, 31) # expanded x and y extrapolation area observation\n",
        "x_mesh, y_mesh = np.linspace(0, 70, 31), np.linspace(0, 25, 31)\n",
        "x_mesh, y_mesh = np.meshgrid(x_mesh, y_mesh)\n",
        "x_mesh3 = x_mesh.flatten().reshape(31*31,1)\n",
        "y_mesh3 = y_mesh.flatten().reshape(31*31,1)\n",
        "mesh3=np.concatenate((x_mesh3, y_mesh3), axis=1)\n",
        "# x_mesh[:5]"
      ],
      "metadata": {
        "id": "rbH7DFAruP9y"
      },
      "execution_count": 19,
      "outputs": []
    },
    {
      "cell_type": "code",
      "source": [
        "a=np.concatenate((np.zeros([len(mesh3),1]),mesh3), axis=1)"
      ],
      "metadata": {
        "id": "7kfhFVcsxG_B"
      },
      "execution_count": 20,
      "outputs": []
    },
    {
      "cell_type": "code",
      "source": [
        "mesh_predict_x=np.array([EQUIL_rotem_extr1([row]).xout for row in a])\n",
        "mesh_predict_y=np.array([EQUIL_rotem_extr1([row]).yout for row in a])\n",
        "mesh_predics1_1=mesh_predict_y[:,:,1]\n",
        "mesh_predics1_2=mesh_predict_y[:,:,0]\n",
        "mesh_predics1_3=mesh_predict_x[:,:,0]\n",
        "mesh_predics1_4=mesh_predict_y[:,:,2]"
      ],
      "metadata": {
        "id": "W9MuPaoSyWPQ"
      },
      "execution_count": 21,
      "outputs": []
    },
    {
      "cell_type": "markdown",
      "source": [
        "### 1 - Extraction1 - raffinate"
      ],
      "metadata": {
        "id": "NrZb1wd-hysz"
      }
    },
    {
      "cell_type": "code",
      "source": [
        "# bat1_1=LLC.Battery(stages_num=3, Oin=173.2, Ain=15, yin=[8.2, .06, .06], xin=[1, 30, 15], EQUIL=EQUIL_rotem_extr1, eff=.8, max_iter=200)#, convergence=1E-4)\n",
        "bat1_1=LLC.Battery(stages_num=3, Oin=173.2, Ain=50, yin=[6, 6, 1 ], xin=[1, 60, .1], EQUIL=EQUIL_rotem_extr1, method='secant', eff=.8, damping=.1, max_iter=30, battery_convergence=0.02, stage_convergence=1e-4, entrainment_perc_in=[1,2], entrainment_comp_in=[[10,10,10],[5,5,5]], entrainment_perc_out=[3,4])\n",
        "bat1_1.runs"
      ],
      "metadata": {
        "id": "2IU5YkpRn69s",
        "outputId": "c5bba7c8-8294-461b-89ad-3a759b840110",
        "colab": {
          "base_uri": "https://localhost:8080/"
        }
      },
      "execution_count": 22,
      "outputs": [
        {
          "output_type": "execute_result",
          "data": {
            "text/plain": [
              "7"
            ]
          },
          "metadata": {},
          "execution_count": 22
        }
      ]
    },
    {
      "cell_type": "code",
      "source": [
        "bat1_1.errors_array.plot()"
      ],
      "metadata": {
        "id": "yBucUmZ0EKD5",
        "outputId": "cc048d1d-a02c-4de0-c777-cf1ab2eeebcd",
        "colab": {
          "base_uri": "https://localhost:8080/",
          "height": 542
        }
      },
      "execution_count": 23,
      "outputs": [
        {
          "output_type": "display_data",
          "data": {
            "text/html": [
              "<html>\n",
              "<head><meta charset=\"utf-8\" /></head>\n",
              "<body>\n",
              "    <div>            <script src=\"https://cdnjs.cloudflare.com/ajax/libs/mathjax/2.7.5/MathJax.js?config=TeX-AMS-MML_SVG\"></script><script type=\"text/javascript\">if (window.MathJax && window.MathJax.Hub && window.MathJax.Hub.Config) {window.MathJax.Hub.Config({SVG: {font: \"STIX-Web\"}});}</script>                <script type=\"text/javascript\">window.PlotlyConfig = {MathJaxConfig: 'local'};</script>\n",
              "        <script charset=\"utf-8\" src=\"https://cdn.plot.ly/plotly-2.35.2.min.js\"></script>                <div id=\"d20a7c0f-1766-4ad6-8251-9c61481df51c\" class=\"plotly-graph-div\" style=\"height:525px; width:100%;\"></div>            <script type=\"text/javascript\">                                    window.PLOTLYENV=window.PLOTLYENV || {};                                    if (document.getElementById(\"d20a7c0f-1766-4ad6-8251-9c61481df51c\")) {                    Plotly.newPlot(                        \"d20a7c0f-1766-4ad6-8251-9c61481df51c\",                        [{\"hovertemplate\":\"variable=0\\u003cbr\\u003eindex=%{x}\\u003cbr\\u003evalue=%{y}\\u003cextra\\u003e\\u003c\\u002fextra\\u003e\",\"legendgroup\":\"0\",\"line\":{\"color\":\"#636efa\",\"dash\":\"solid\"},\"marker\":{\"symbol\":\"circle\"},\"mode\":\"lines\",\"name\":\"0\",\"orientation\":\"v\",\"showlegend\":true,\"x\":[0,1,2,3,4,5,6,7,8],\"xaxis\":\"x\",\"y\":[0.0,0.08158962690108522,0.020166513845036992,0.014035600478532018,-0.0036055483380565746,0.002169385372547554,-0.0000611243252339452,0.00033268157058012556,-0.00021873223348831494],\"yaxis\":\"y\",\"type\":\"scatter\"},{\"hovertemplate\":\"variable=1\\u003cbr\\u003eindex=%{x}\\u003cbr\\u003evalue=%{y}\\u003cextra\\u003e\\u003c\\u002fextra\\u003e\",\"legendgroup\":\"1\",\"line\":{\"color\":\"#EF553B\",\"dash\":\"solid\"},\"marker\":{\"symbol\":\"circle\"},\"mode\":\"lines\",\"name\":\"1\",\"orientation\":\"v\",\"showlegend\":true,\"x\":[0,1,2,3,4,5,6,7,8],\"xaxis\":\"x\",\"y\":[0.0,0.1693865493409038,-0.11844520973410129,0.023848025062262152,-0.0012624995780209833,0.007358334137093799,-0.00007311300469652235,-0.000278927898401603,0.0005102659164520483],\"yaxis\":\"y\",\"type\":\"scatter\"},{\"hovertemplate\":\"variable=2\\u003cbr\\u003eindex=%{x}\\u003cbr\\u003evalue=%{y}\\u003cextra\\u003e\\u003c\\u002fextra\\u003e\",\"legendgroup\":\"2\",\"line\":{\"color\":\"#00cc96\",\"dash\":\"solid\"},\"marker\":{\"symbol\":\"circle\"},\"mode\":\"lines\",\"name\":\"2\",\"orientation\":\"v\",\"showlegend\":true,\"x\":[0,1,2,3,4,5,6,7,8],\"xaxis\":\"x\",\"y\":[0.0,0.4812685668460111,-0.629159889508703,0.04481726806515886,-0.003996417607864351,0.018002392122080813,-0.00025363092247606013,-0.0006510577621203067,0.001209526053909913],\"yaxis\":\"y\",\"type\":\"scatter\"},{\"hovertemplate\":\"variable=3\\u003cbr\\u003eindex=%{x}\\u003cbr\\u003evalue=%{y}\\u003cextra\\u003e\\u003c\\u002fextra\\u003e\",\"legendgroup\":\"3\",\"line\":{\"color\":\"#ab63fa\",\"dash\":\"solid\"},\"marker\":{\"symbol\":\"circle\"},\"mode\":\"lines\",\"name\":\"3\",\"orientation\":\"v\",\"showlegend\":true,\"x\":[0,1,2,3,4,5,6,7,8],\"xaxis\":\"x\",\"y\":[0.0,-0.32892480254890993,0.05197101021104114,0.058829291950665975,0.0558329942113807,-0.01609501715965177,0.007803725570833274,-0.007470052256777934,0.004586265830199031],\"yaxis\":\"y\",\"type\":\"scatter\"},{\"hovertemplate\":\"variable=4\\u003cbr\\u003eindex=%{x}\\u003cbr\\u003evalue=%{y}\\u003cextra\\u003e\\u003c\\u002fextra\\u003e\",\"legendgroup\":\"4\",\"line\":{\"color\":\"#FFA15A\",\"dash\":\"solid\"},\"marker\":{\"symbol\":\"circle\"},\"mode\":\"lines\",\"name\":\"4\",\"orientation\":\"v\",\"showlegend\":true,\"x\":[0,1,2,3,4,5,6,7,8],\"xaxis\":\"x\",\"y\":[0.0,0.073002571756344,0.0026513825410010685,0.06527081121840815,0.02038336505079188,-0.0061659321754771665,0.0013734850195617104,-0.0001870952993799266,0.0004344734093631881],\"yaxis\":\"y\",\"type\":\"scatter\"},{\"hovertemplate\":\"variable=5\\u003cbr\\u003eindex=%{x}\\u003cbr\\u003evalue=%{y}\\u003cextra\\u003e\\u003c\\u002fextra\\u003e\",\"legendgroup\":\"5\",\"line\":{\"color\":\"#19d3f3\",\"dash\":\"solid\"},\"marker\":{\"symbol\":\"circle\"},\"mode\":\"lines\",\"name\":\"5\",\"orientation\":\"v\",\"showlegend\":true,\"x\":[0,1,2,3,4,5,6,7,8],\"xaxis\":\"x\",\"y\":[0.0,0.15717264552815705,0.03805366200522302,0.006586878408740711,0.013243477283562297,-0.0007446489346696133,0.001339985004263152,-0.0015037589873741156,0.0013650705442608112],\"yaxis\":\"y\",\"type\":\"scatter\"},{\"hovertemplate\":\"variable=6\\u003cbr\\u003eindex=%{x}\\u003cbr\\u003evalue=%{y}\\u003cextra\\u003e\\u003c\\u002fextra\\u003e\",\"legendgroup\":\"6\",\"line\":{\"color\":\"#FF6692\",\"dash\":\"solid\"},\"marker\":{\"symbol\":\"circle\"},\"mode\":\"lines\",\"name\":\"6\",\"orientation\":\"v\",\"showlegend\":true,\"x\":[0,1,2,3,4,5,6,7,8],\"xaxis\":\"x\",\"y\":[0.0,0.4459551515899434,0.0059231099502261636,-0.06925522901394514,0.037189137334929095,-0.009833374392967827,0.006464014826866968,-0.004474204655656798,0.0038506457146994686],\"yaxis\":\"y\",\"type\":\"scatter\"},{\"hovertemplate\":\"variable=7\\u003cbr\\u003eindex=%{x}\\u003cbr\\u003evalue=%{y}\\u003cextra\\u003e\\u003c\\u002fextra\\u003e\",\"legendgroup\":\"7\",\"line\":{\"color\":\"#B6E880\",\"dash\":\"solid\"},\"marker\":{\"symbol\":\"circle\"},\"mode\":\"lines\",\"name\":\"7\",\"orientation\":\"v\",\"showlegend\":true,\"x\":[0,1,2,3,4,5,6,7,8],\"xaxis\":\"x\",\"y\":[0.0,-0.2424560729388273,-0.1445913716256853,0.0358410279938137,-0.022019487675170625,0.04841660959694047,-0.014588967135446827,0.009455171099142323,-0.004360901738646116],\"yaxis\":\"y\",\"type\":\"scatter\"},{\"hovertemplate\":\"variable=8\\u003cbr\\u003eindex=%{x}\\u003cbr\\u003evalue=%{y}\\u003cextra\\u003e\\u003c\\u002fextra\\u003e\",\"legendgroup\":\"8\",\"line\":{\"color\":\"#FF97FF\",\"dash\":\"solid\"},\"marker\":{\"symbol\":\"circle\"},\"mode\":\"lines\",\"name\":\"8\",\"orientation\":\"v\",\"showlegend\":true,\"x\":[0,1,2,3,4,5,6,7,8],\"xaxis\":\"x\",\"y\":[0.0,-0.3701870911168117,0.03495675806429604,-0.13880804664540483,0.047722731870651076,0.0031881151621977253,0.010588670402048675,0.0021835542981813016,0.0023351236587509628],\"yaxis\":\"y\",\"type\":\"scatter\"},{\"hovertemplate\":\"variable=9\\u003cbr\\u003eindex=%{x}\\u003cbr\\u003evalue=%{y}\\u003cextra\\u003e\\u003c\\u002fextra\\u003e\",\"legendgroup\":\"9\",\"line\":{\"color\":\"#FECB52\",\"dash\":\"solid\"},\"marker\":{\"symbol\":\"circle\"},\"mode\":\"lines\",\"name\":\"9\",\"orientation\":\"v\",\"showlegend\":true,\"x\":[0,1,2,3,4,5,6,7,8],\"xaxis\":\"x\",\"y\":[0.0,-0.008032951421097306,0.09999999116454383,0.0,0.0,0.0,0.0,0.0,0.0],\"yaxis\":\"y\",\"type\":\"scatter\"},{\"hovertemplate\":\"variable=10\\u003cbr\\u003eindex=%{x}\\u003cbr\\u003evalue=%{y}\\u003cextra\\u003e\\u003c\\u002fextra\\u003e\",\"legendgroup\":\"10\",\"line\":{\"color\":\"#636efa\",\"dash\":\"solid\"},\"marker\":{\"symbol\":\"circle\"},\"mode\":\"lines\",\"name\":\"10\",\"orientation\":\"v\",\"showlegend\":true,\"x\":[0,1,2,3,4,5,6,7,8],\"xaxis\":\"x\",\"y\":[0.0,-0.22494310905045625,0.053883415565050184,0.0046698708419576984,0.014504053441368335,-0.004433127987644707,0.0025344199189959666,-0.002203038218240417,0.0015578068513276413],\"yaxis\":\"y\",\"type\":\"scatter\"},{\"hovertemplate\":\"variable=11\\u003cbr\\u003eindex=%{x}\\u003cbr\\u003evalue=%{y}\\u003cextra\\u003e\\u003c\\u002fextra\\u003e\",\"legendgroup\":\"11\",\"line\":{\"color\":\"#EF553B\",\"dash\":\"solid\"},\"marker\":{\"symbol\":\"circle\"},\"mode\":\"lines\",\"name\":\"11\",\"orientation\":\"v\",\"showlegend\":true,\"x\":[0,1,2,3,4,5,6,7,8],\"xaxis\":\"x\",\"y\":[0.0,0.9524808395331132,0.04530534113410831,-0.05420835536192101,-0.11344153537627384,0.06732857965191928,-0.034236488053251427,0.022862640429654697,-0.011662632142381234],\"yaxis\":\"y\",\"type\":\"scatter\"},{\"hovertemplate\":\"variable=12\\u003cbr\\u003eindex=%{x}\\u003cbr\\u003evalue=%{y}\\u003cextra\\u003e\\u003c\\u002fextra\\u003e\",\"legendgroup\":\"12\",\"line\":{\"color\":\"#00cc96\",\"dash\":\"solid\"},\"marker\":{\"symbol\":\"circle\"},\"mode\":\"lines\",\"name\":\"12\",\"orientation\":\"v\",\"showlegend\":true,\"x\":[0,1,2,3,4,5,6,7,8],\"xaxis\":\"x\",\"y\":[0.0,-0.3670547273586679,0.12071264450010646,0.035858621022424625,-0.008492461663840246,0.006721464101140289,-0.0001723428403278353,0.002888921898973535,-0.0032492774373021386],\"yaxis\":\"y\",\"type\":\"scatter\"},{\"hovertemplate\":\"variable=13\\u003cbr\\u003eindex=%{x}\\u003cbr\\u003evalue=%{y}\\u003cextra\\u003e\\u003c\\u002fextra\\u003e\",\"legendgroup\":\"13\",\"line\":{\"color\":\"#ab63fa\",\"dash\":\"solid\"},\"marker\":{\"symbol\":\"circle\"},\"mode\":\"lines\",\"name\":\"13\",\"orientation\":\"v\",\"showlegend\":true,\"x\":[0,1,2,3,4,5,6,7,8],\"xaxis\":\"x\",\"y\":[0.0,-0.008032951421097306,0.09999999116454383,0.0,0.0,0.0,0.0,0.0,0.0],\"yaxis\":\"y\",\"type\":\"scatter\"},{\"hovertemplate\":\"variable=14\\u003cbr\\u003eindex=%{x}\\u003cbr\\u003evalue=%{y}\\u003cextra\\u003e\\u003c\\u002fextra\\u003e\",\"legendgroup\":\"14\",\"line\":{\"color\":\"#FFA15A\",\"dash\":\"solid\"},\"marker\":{\"symbol\":\"circle\"},\"mode\":\"lines\",\"name\":\"14\",\"orientation\":\"v\",\"showlegend\":true,\"x\":[0,1,2,3,4,5,6,7,8],\"xaxis\":\"x\",\"y\":[0.0,-0.2253363192302929,0.1731028885498909,0.0013623579555774265,-0.010072493561014135,0.0011335198897722224,-0.0017303058032914558,0.0005800026752710911,-0.00022292703965651916],\"yaxis\":\"y\",\"type\":\"scatter\"},{\"hovertemplate\":\"variable=15\\u003cbr\\u003eindex=%{x}\\u003cbr\\u003evalue=%{y}\\u003cextra\\u003e\\u003c\\u002fextra\\u003e\",\"legendgroup\":\"15\",\"line\":{\"color\":\"#19d3f3\",\"dash\":\"solid\"},\"marker\":{\"symbol\":\"circle\"},\"mode\":\"lines\",\"name\":\"15\",\"orientation\":\"v\",\"showlegend\":true,\"x\":[0,1,2,3,4,5,6,7,8],\"xaxis\":\"x\",\"y\":[0.0,0.9510812998986837,-0.9562054595488881,-0.2796965865836647,0.07734399233571608,-0.03243720182599014,0.057151866773985364,-0.014280666272982141,0.011035571892333151],\"yaxis\":\"y\",\"type\":\"scatter\"}],                        {\"template\":{\"data\":{\"histogram2dcontour\":[{\"type\":\"histogram2dcontour\",\"colorbar\":{\"outlinewidth\":0,\"ticks\":\"\"},\"colorscale\":[[0.0,\"#0d0887\"],[0.1111111111111111,\"#46039f\"],[0.2222222222222222,\"#7201a8\"],[0.3333333333333333,\"#9c179e\"],[0.4444444444444444,\"#bd3786\"],[0.5555555555555556,\"#d8576b\"],[0.6666666666666666,\"#ed7953\"],[0.7777777777777778,\"#fb9f3a\"],[0.8888888888888888,\"#fdca26\"],[1.0,\"#f0f921\"]]}],\"choropleth\":[{\"type\":\"choropleth\",\"colorbar\":{\"outlinewidth\":0,\"ticks\":\"\"}}],\"histogram2d\":[{\"type\":\"histogram2d\",\"colorbar\":{\"outlinewidth\":0,\"ticks\":\"\"},\"colorscale\":[[0.0,\"#0d0887\"],[0.1111111111111111,\"#46039f\"],[0.2222222222222222,\"#7201a8\"],[0.3333333333333333,\"#9c179e\"],[0.4444444444444444,\"#bd3786\"],[0.5555555555555556,\"#d8576b\"],[0.6666666666666666,\"#ed7953\"],[0.7777777777777778,\"#fb9f3a\"],[0.8888888888888888,\"#fdca26\"],[1.0,\"#f0f921\"]]}],\"heatmap\":[{\"type\":\"heatmap\",\"colorbar\":{\"outlinewidth\":0,\"ticks\":\"\"},\"colorscale\":[[0.0,\"#0d0887\"],[0.1111111111111111,\"#46039f\"],[0.2222222222222222,\"#7201a8\"],[0.3333333333333333,\"#9c179e\"],[0.4444444444444444,\"#bd3786\"],[0.5555555555555556,\"#d8576b\"],[0.6666666666666666,\"#ed7953\"],[0.7777777777777778,\"#fb9f3a\"],[0.8888888888888888,\"#fdca26\"],[1.0,\"#f0f921\"]]}],\"heatmapgl\":[{\"type\":\"heatmapgl\",\"colorbar\":{\"outlinewidth\":0,\"ticks\":\"\"},\"colorscale\":[[0.0,\"#0d0887\"],[0.1111111111111111,\"#46039f\"],[0.2222222222222222,\"#7201a8\"],[0.3333333333333333,\"#9c179e\"],[0.4444444444444444,\"#bd3786\"],[0.5555555555555556,\"#d8576b\"],[0.6666666666666666,\"#ed7953\"],[0.7777777777777778,\"#fb9f3a\"],[0.8888888888888888,\"#fdca26\"],[1.0,\"#f0f921\"]]}],\"contourcarpet\":[{\"type\":\"contourcarpet\",\"colorbar\":{\"outlinewidth\":0,\"ticks\":\"\"}}],\"contour\":[{\"type\":\"contour\",\"colorbar\":{\"outlinewidth\":0,\"ticks\":\"\"},\"colorscale\":[[0.0,\"#0d0887\"],[0.1111111111111111,\"#46039f\"],[0.2222222222222222,\"#7201a8\"],[0.3333333333333333,\"#9c179e\"],[0.4444444444444444,\"#bd3786\"],[0.5555555555555556,\"#d8576b\"],[0.6666666666666666,\"#ed7953\"],[0.7777777777777778,\"#fb9f3a\"],[0.8888888888888888,\"#fdca26\"],[1.0,\"#f0f921\"]]}],\"surface\":[{\"type\":\"surface\",\"colorbar\":{\"outlinewidth\":0,\"ticks\":\"\"},\"colorscale\":[[0.0,\"#0d0887\"],[0.1111111111111111,\"#46039f\"],[0.2222222222222222,\"#7201a8\"],[0.3333333333333333,\"#9c179e\"],[0.4444444444444444,\"#bd3786\"],[0.5555555555555556,\"#d8576b\"],[0.6666666666666666,\"#ed7953\"],[0.7777777777777778,\"#fb9f3a\"],[0.8888888888888888,\"#fdca26\"],[1.0,\"#f0f921\"]]}],\"mesh3d\":[{\"type\":\"mesh3d\",\"colorbar\":{\"outlinewidth\":0,\"ticks\":\"\"}}],\"scatter\":[{\"fillpattern\":{\"fillmode\":\"overlay\",\"size\":10,\"solidity\":0.2},\"type\":\"scatter\"}],\"parcoords\":[{\"type\":\"parcoords\",\"line\":{\"colorbar\":{\"outlinewidth\":0,\"ticks\":\"\"}}}],\"scatterpolargl\":[{\"type\":\"scatterpolargl\",\"marker\":{\"colorbar\":{\"outlinewidth\":0,\"ticks\":\"\"}}}],\"bar\":[{\"error_x\":{\"color\":\"#2a3f5f\"},\"error_y\":{\"color\":\"#2a3f5f\"},\"marker\":{\"line\":{\"color\":\"#E5ECF6\",\"width\":0.5},\"pattern\":{\"fillmode\":\"overlay\",\"size\":10,\"solidity\":0.2}},\"type\":\"bar\"}],\"scattergeo\":[{\"type\":\"scattergeo\",\"marker\":{\"colorbar\":{\"outlinewidth\":0,\"ticks\":\"\"}}}],\"scatterpolar\":[{\"type\":\"scatterpolar\",\"marker\":{\"colorbar\":{\"outlinewidth\":0,\"ticks\":\"\"}}}],\"histogram\":[{\"marker\":{\"pattern\":{\"fillmode\":\"overlay\",\"size\":10,\"solidity\":0.2}},\"type\":\"histogram\"}],\"scattergl\":[{\"type\":\"scattergl\",\"marker\":{\"colorbar\":{\"outlinewidth\":0,\"ticks\":\"\"}}}],\"scatter3d\":[{\"type\":\"scatter3d\",\"line\":{\"colorbar\":{\"outlinewidth\":0,\"ticks\":\"\"}},\"marker\":{\"colorbar\":{\"outlinewidth\":0,\"ticks\":\"\"}}}],\"scattermapbox\":[{\"type\":\"scattermapbox\",\"marker\":{\"colorbar\":{\"outlinewidth\":0,\"ticks\":\"\"}}}],\"scatterternary\":[{\"type\":\"scatterternary\",\"marker\":{\"colorbar\":{\"outlinewidth\":0,\"ticks\":\"\"}}}],\"scattercarpet\":[{\"type\":\"scattercarpet\",\"marker\":{\"colorbar\":{\"outlinewidth\":0,\"ticks\":\"\"}}}],\"carpet\":[{\"aaxis\":{\"endlinecolor\":\"#2a3f5f\",\"gridcolor\":\"white\",\"linecolor\":\"white\",\"minorgridcolor\":\"white\",\"startlinecolor\":\"#2a3f5f\"},\"baxis\":{\"endlinecolor\":\"#2a3f5f\",\"gridcolor\":\"white\",\"linecolor\":\"white\",\"minorgridcolor\":\"white\",\"startlinecolor\":\"#2a3f5f\"},\"type\":\"carpet\"}],\"table\":[{\"cells\":{\"fill\":{\"color\":\"#EBF0F8\"},\"line\":{\"color\":\"white\"}},\"header\":{\"fill\":{\"color\":\"#C8D4E3\"},\"line\":{\"color\":\"white\"}},\"type\":\"table\"}],\"barpolar\":[{\"marker\":{\"line\":{\"color\":\"#E5ECF6\",\"width\":0.5},\"pattern\":{\"fillmode\":\"overlay\",\"size\":10,\"solidity\":0.2}},\"type\":\"barpolar\"}],\"pie\":[{\"automargin\":true,\"type\":\"pie\"}]},\"layout\":{\"autotypenumbers\":\"strict\",\"colorway\":[\"#636efa\",\"#EF553B\",\"#00cc96\",\"#ab63fa\",\"#FFA15A\",\"#19d3f3\",\"#FF6692\",\"#B6E880\",\"#FF97FF\",\"#FECB52\"],\"font\":{\"color\":\"#2a3f5f\"},\"hovermode\":\"closest\",\"hoverlabel\":{\"align\":\"left\"},\"paper_bgcolor\":\"white\",\"plot_bgcolor\":\"#E5ECF6\",\"polar\":{\"bgcolor\":\"#E5ECF6\",\"angularaxis\":{\"gridcolor\":\"white\",\"linecolor\":\"white\",\"ticks\":\"\"},\"radialaxis\":{\"gridcolor\":\"white\",\"linecolor\":\"white\",\"ticks\":\"\"}},\"ternary\":{\"bgcolor\":\"#E5ECF6\",\"aaxis\":{\"gridcolor\":\"white\",\"linecolor\":\"white\",\"ticks\":\"\"},\"baxis\":{\"gridcolor\":\"white\",\"linecolor\":\"white\",\"ticks\":\"\"},\"caxis\":{\"gridcolor\":\"white\",\"linecolor\":\"white\",\"ticks\":\"\"}},\"coloraxis\":{\"colorbar\":{\"outlinewidth\":0,\"ticks\":\"\"}},\"colorscale\":{\"sequential\":[[0.0,\"#0d0887\"],[0.1111111111111111,\"#46039f\"],[0.2222222222222222,\"#7201a8\"],[0.3333333333333333,\"#9c179e\"],[0.4444444444444444,\"#bd3786\"],[0.5555555555555556,\"#d8576b\"],[0.6666666666666666,\"#ed7953\"],[0.7777777777777778,\"#fb9f3a\"],[0.8888888888888888,\"#fdca26\"],[1.0,\"#f0f921\"]],\"sequentialminus\":[[0.0,\"#0d0887\"],[0.1111111111111111,\"#46039f\"],[0.2222222222222222,\"#7201a8\"],[0.3333333333333333,\"#9c179e\"],[0.4444444444444444,\"#bd3786\"],[0.5555555555555556,\"#d8576b\"],[0.6666666666666666,\"#ed7953\"],[0.7777777777777778,\"#fb9f3a\"],[0.8888888888888888,\"#fdca26\"],[1.0,\"#f0f921\"]],\"diverging\":[[0,\"#8e0152\"],[0.1,\"#c51b7d\"],[0.2,\"#de77ae\"],[0.3,\"#f1b6da\"],[0.4,\"#fde0ef\"],[0.5,\"#f7f7f7\"],[0.6,\"#e6f5d0\"],[0.7,\"#b8e186\"],[0.8,\"#7fbc41\"],[0.9,\"#4d9221\"],[1,\"#276419\"]]},\"xaxis\":{\"gridcolor\":\"white\",\"linecolor\":\"white\",\"ticks\":\"\",\"title\":{\"standoff\":15},\"zerolinecolor\":\"white\",\"automargin\":true,\"zerolinewidth\":2},\"yaxis\":{\"gridcolor\":\"white\",\"linecolor\":\"white\",\"ticks\":\"\",\"title\":{\"standoff\":15},\"zerolinecolor\":\"white\",\"automargin\":true,\"zerolinewidth\":2},\"scene\":{\"xaxis\":{\"backgroundcolor\":\"#E5ECF6\",\"gridcolor\":\"white\",\"linecolor\":\"white\",\"showbackground\":true,\"ticks\":\"\",\"zerolinecolor\":\"white\",\"gridwidth\":2},\"yaxis\":{\"backgroundcolor\":\"#E5ECF6\",\"gridcolor\":\"white\",\"linecolor\":\"white\",\"showbackground\":true,\"ticks\":\"\",\"zerolinecolor\":\"white\",\"gridwidth\":2},\"zaxis\":{\"backgroundcolor\":\"#E5ECF6\",\"gridcolor\":\"white\",\"linecolor\":\"white\",\"showbackground\":true,\"ticks\":\"\",\"zerolinecolor\":\"white\",\"gridwidth\":2}},\"shapedefaults\":{\"line\":{\"color\":\"#2a3f5f\"}},\"annotationdefaults\":{\"arrowcolor\":\"#2a3f5f\",\"arrowhead\":0,\"arrowwidth\":1},\"geo\":{\"bgcolor\":\"white\",\"landcolor\":\"#E5ECF6\",\"subunitcolor\":\"white\",\"showland\":true,\"showlakes\":true,\"lakecolor\":\"white\"},\"title\":{\"x\":0.05},\"mapbox\":{\"style\":\"light\"}}},\"xaxis\":{\"anchor\":\"y\",\"domain\":[0.0,1.0],\"title\":{\"text\":\"index\"}},\"yaxis\":{\"anchor\":\"x\",\"domain\":[0.0,1.0],\"title\":{\"text\":\"value\"}},\"legend\":{\"title\":{\"text\":\"variable\"},\"tracegroupgap\":0},\"margin\":{\"t\":60}},                        {\"responsive\": true}                    ).then(function(){\n",
              "                            \n",
              "var gd = document.getElementById('d20a7c0f-1766-4ad6-8251-9c61481df51c');\n",
              "var x = new MutationObserver(function (mutations, observer) {{\n",
              "        var display = window.getComputedStyle(gd).display;\n",
              "        if (!display || display === 'none') {{\n",
              "            console.log([gd, 'removed!']);\n",
              "            Plotly.purge(gd);\n",
              "            observer.disconnect();\n",
              "        }}\n",
              "}});\n",
              "\n",
              "// Listen for the removal of the full notebook cells\n",
              "var notebookContainer = gd.closest('#notebook-container');\n",
              "if (notebookContainer) {{\n",
              "    x.observe(notebookContainer, {childList: true});\n",
              "}}\n",
              "\n",
              "// Listen for the clearing of the current output cell\n",
              "var outputEl = gd.closest('.output');\n",
              "if (outputEl) {{\n",
              "    x.observe(outputEl, {childList: true});\n",
              "}}\n",
              "\n",
              "                        })                };                            </script>        </div>\n",
              "</body>\n",
              "</html>"
            ]
          },
          "metadata": {}
        }
      ]
    },
    {
      "cell_type": "code",
      "source": [
        "bat1_1.outs_array.plot()"
      ],
      "metadata": {
        "id": "0rjIAp1ZuOp5",
        "outputId": "1aac079f-bf9c-4758-82cb-37bfbea638b4",
        "colab": {
          "base_uri": "https://localhost:8080/",
          "height": 542
        }
      },
      "execution_count": 24,
      "outputs": [
        {
          "output_type": "display_data",
          "data": {
            "text/html": [
              "<html>\n",
              "<head><meta charset=\"utf-8\" /></head>\n",
              "<body>\n",
              "    <div>            <script src=\"https://cdnjs.cloudflare.com/ajax/libs/mathjax/2.7.5/MathJax.js?config=TeX-AMS-MML_SVG\"></script><script type=\"text/javascript\">if (window.MathJax && window.MathJax.Hub && window.MathJax.Hub.Config) {window.MathJax.Hub.Config({SVG: {font: \"STIX-Web\"}});}</script>                <script type=\"text/javascript\">window.PlotlyConfig = {MathJaxConfig: 'local'};</script>\n",
              "        <script charset=\"utf-8\" src=\"https://cdn.plot.ly/plotly-2.35.2.min.js\"></script>                <div id=\"3a539fd9-4aa5-49d4-8dde-184b89784e18\" class=\"plotly-graph-div\" style=\"height:525px; width:100%;\"></div>            <script type=\"text/javascript\">                                    window.PLOTLYENV=window.PLOTLYENV || {};                                    if (document.getElementById(\"3a539fd9-4aa5-49d4-8dde-184b89784e18\")) {                    Plotly.newPlot(                        \"3a539fd9-4aa5-49d4-8dde-184b89784e18\",                        [{\"hovertemplate\":\"variable=0\\u003cbr\\u003eindex=%{x}\\u003cbr\\u003evalue=%{y}\\u003cextra\\u003e\\u003c\\u002fextra\\u003e\",\"legendgroup\":\"0\",\"line\":{\"color\":\"#636efa\",\"dash\":\"solid\"},\"marker\":{\"symbol\":\"circle\"},\"mode\":\"lines\",\"name\":\"0\",\"orientation\":\"v\",\"showlegend\":true,\"x\":[0,1,2,3,4,5,6,7,8],\"xaxis\":\"x\",\"y\":[0.0,188.58672014313686,173.22131826704174,175.17553325625255,174.99197288734098,175.37618307303387,175.35103179442228,175.4094562117754,175.36616236968098],\"yaxis\":\"y\",\"type\":\"scatter\"},{\"hovertemplate\":\"variable=1\\u003cbr\\u003eindex=%{x}\\u003cbr\\u003evalue=%{y}\\u003cextra\\u003e\\u003c\\u002fextra\\u003e\",\"legendgroup\":\"1\",\"line\":{\"color\":\"#EF553B\",\"dash\":\"solid\"},\"marker\":{\"symbol\":\"circle\"},\"mode\":\"lines\",\"name\":\"1\",\"orientation\":\"v\",\"showlegend\":true,\"x\":[0,1,2,3,4,5,6,7,8],\"xaxis\":\"x\",\"y\":[0.0,7.223576757850024,5.812729147628566,6.014213848204824,6.003257899400266,6.0478148264258405,6.04356979528713,6.041888720336465,6.045201206079457],\"yaxis\":\"y\",\"type\":\"scatter\"},{\"hovertemplate\":\"variable=2\\u003cbr\\u003eindex=%{x}\\u003cbr\\u003evalue=%{y}\\u003cextra\\u003e\\u003c\\u002fextra\\u003e\",\"legendgroup\":\"2\",\"line\":{\"color\":\"#00cc96\",\"dash\":\"solid\"},\"marker\":{\"symbol\":\"circle\"},\"mode\":\"lines\",\"name\":\"2\",\"orientation\":\"v\",\"showlegend\":true,\"x\":[0,1,2,3,4,5,6,7,8],\"xaxis\":\"x\",\"y\":[0.0,11.56667914193223,6.389803255101405,6.996693603096022,6.964823637327227,7.092771413442236,7.0805051663032215,7.075915378103956,7.085237048371883],\"yaxis\":\"y\",\"type\":\"scatter\"},{\"hovertemplate\":\"variable=3\\u003cbr\\u003eindex=%{x}\\u003cbr\\u003evalue=%{y}\\u003cextra\\u003e\\u003c\\u002fextra\\u003e\",\"legendgroup\":\"3\",\"line\":{\"color\":\"#ab63fa\",\"dash\":\"solid\"},\"marker\":{\"symbol\":\"circle\"},\"mode\":\"lines\",\"name\":\"3\",\"orientation\":\"v\",\"showlegend\":true,\"x\":[0,1,2,3,4,5,6,7,8],\"xaxis\":\"x\",\"y\":[0.0,0.752488000216036,0.7143655021766969,0.7595706721188653,0.763418304577568,0.7583818109759022,0.7644601483832947,0.7585949261877585,0.7623782504501799],\"yaxis\":\"y\",\"type\":\"scatter\"},{\"hovertemplate\":\"variable=4\\u003cbr\\u003eindex=%{x}\\u003cbr\\u003evalue=%{y}\\u003cextra\\u003e\\u003c\\u002fextra\\u003e\",\"legendgroup\":\"4\",\"line\":{\"color\":\"#FFA15A\",\"dash\":\"solid\"},\"marker\":{\"symbol\":\"circle\"},\"mode\":\"lines\",\"name\":\"4\",\"orientation\":\"v\",\"showlegend\":true,\"x\":[0,1,2,3,4,5,6,7,8],\"xaxis\":\"x\",\"y\":[0.0,186.83978480442516,168.60283696814196,180.30260307187942,182.80935811835033,181.80220963523794,182.07567833652843,182.03663825131275,182.11623095603966],\"yaxis\":\"y\",\"type\":\"scatter\"},{\"hovertemplate\":\"variable=5\\u003cbr\\u003eindex=%{x}\\u003cbr\\u003evalue=%{y}\\u003cextra\\u003e\\u003c\\u002fextra\\u003e\",\"legendgroup\":\"5\",\"line\":{\"color\":\"#19d3f3\",\"dash\":\"solid\"},\"marker\":{\"symbol\":\"circle\"},\"mode\":\"lines\",\"name\":\"5\",\"orientation\":\"v\",\"showlegend\":true,\"x\":[0,1,2,3,4,5,6,7,8],\"xaxis\":\"x\",\"y\":[0.0,7.118895683537893,6.66046105315824,6.689881370306089,6.780291862459844,6.757272663264975,6.766462162461146,6.755712505733025,6.7655163499714455],\"yaxis\":\"y\",\"type\":\"scatter\"},{\"hovertemplate\":\"variable=6\\u003cbr\\u003eindex=%{x}\\u003cbr\\u003evalue=%{y}\\u003cextra\\u003e\\u003c\\u002fextra\\u003e\",\"legendgroup\":\"6\",\"line\":{\"color\":\"#FF6692\",\"dash\":\"solid\"},\"marker\":{\"symbol\":\"circle\"},\"mode\":\"lines\",\"name\":\"6\",\"orientation\":\"v\",\"showlegend\":true,\"x\":[0,1,2,3,4,5,6,7,8],\"xaxis\":\"x\",\"y\":[0.0,10.82944830515747,9.804577063439087,9.168248374111567,9.5832609839321,9.475584456996131,9.53949966256157,9.494484334636127,9.53303399305644],\"yaxis\":\"y\",\"type\":\"scatter\"},{\"hovertemplate\":\"variable=7\\u003cbr\\u003eindex=%{x}\\u003cbr\\u003evalue=%{y}\\u003cextra\\u003e\\u003c\\u002fextra\\u003e\",\"legendgroup\":\"7\",\"line\":{\"color\":\"#B6E880\",\"dash\":\"solid\"},\"marker\":{\"symbol\":\"circle\"},\"mode\":\"lines\",\"name\":\"7\",\"orientation\":\"v\",\"showlegend\":true,\"x\":[0,1,2,3,4,5,6,7,8],\"xaxis\":\"x\",\"y\":[0.0,0.804857409074476,0.632864856080346,0.6300347060983512,0.6165155650101447,0.648424575930784,0.6369389207980729,0.6432872637039382,0.6402455715757095],\"yaxis\":\"y\",\"type\":\"scatter\"},{\"hovertemplate\":\"variable=8\\u003cbr\\u003eindex=%{x}\\u003cbr\\u003evalue=%{y}\\u003cextra\\u003e\\u003c\\u002fextra\\u003e\",\"legendgroup\":\"8\",\"line\":{\"color\":\"#FF97FF\",\"dash\":\"solid\"},\"marker\":{\"symbol\":\"circle\"},\"mode\":\"lines\",\"name\":\"8\",\"orientation\":\"v\",\"showlegend\":true,\"x\":[0,1,2,3,4,5,6,7,8],\"xaxis\":\"x\",\"y\":[0.0,36.49136697254045,34.03187427324053,29.902401407699003,31.747344954508822,31.801530169786442,32.14226188552159,32.16374147119011,32.23958289959979],\"yaxis\":\"y\",\"type\":\"scatter\"},{\"hovertemplate\":\"variable=9\\u003cbr\\u003eindex=%{x}\\u003cbr\\u003evalue=%{y}\\u003cextra\\u003e\\u003c\\u002fextra\\u003e\",\"legendgroup\":\"9\",\"line\":{\"color\":\"#FECB52\",\"dash\":\"solid\"},\"marker\":{\"symbol\":\"circle\"},\"mode\":\"lines\",\"name\":\"9\",\"orientation\":\"v\",\"showlegend\":true,\"x\":[0,1,2,3,4,5,6,7,8],\"xaxis\":\"x\",\"y\":[0.0,0.9920310618684957,0.9920310618684957,0.9920310618684957,0.9920310618684957,0.9920310618684957,0.9920310618684957,0.9920310618684957,0.9920310618684957],\"yaxis\":\"y\",\"type\":\"scatter\"},{\"hovertemplate\":\"variable=10\\u003cbr\\u003eindex=%{x}\\u003cbr\\u003evalue=%{y}\\u003cextra\\u003e\\u003c\\u002fextra\\u003e\",\"legendgroup\":\"10\",\"line\":{\"color\":\"#636efa\",\"dash\":\"solid\"},\"marker\":{\"symbol\":\"circle\"},\"mode\":\"lines\",\"name\":\"10\",\"orientation\":\"v\",\"showlegend\":true,\"x\":[0,1,2,3,4,5,6,7,8],\"xaxis\":\"x\",\"y\":[0.0,48.981866614210446,46.59434226314547,46.859308251378735,47.55151218778489,47.240000752471005,47.367341861314536,47.258597379006076,47.33739679462015],\"yaxis\":\"y\",\"type\":\"scatter\"},{\"hovertemplate\":\"variable=11\\u003cbr\\u003eindex=%{x}\\u003cbr\\u003evalue=%{y}\\u003cextra\\u003e\\u003c\\u002fextra\\u003e\",\"legendgroup\":\"11\",\"line\":{\"color\":\"#EF553B\",\"dash\":\"solid\"},\"marker\":{\"symbol\":\"circle\"},\"mode\":\"lines\",\"name\":\"11\",\"orientation\":\"v\",\"showlegend\":true,\"x\":[0,1,2,3,4,5,6,7,8],\"xaxis\":\"x\",\"y\":[0.0,2.1044162873577688,1.9838538380685247,1.8812711172720702,1.694618946106596,1.8552793145556472,1.7880779399972675,1.8322329102980182,1.8093629975198926],\"yaxis\":\"y\",\"type\":\"scatter\"},{\"hovertemplate\":\"variable=12\\u003cbr\\u003eindex=%{x}\\u003cbr\\u003evalue=%{y}\\u003cextra\\u003e\\u003c\\u002fextra\\u003e\",\"legendgroup\":\"12\",\"line\":{\"color\":\"#00cc96\",\"dash\":\"solid\"},\"marker\":{\"symbol\":\"circle\"},\"mode\":\"lines\",\"name\":\"12\",\"orientation\":\"v\",\"showlegend\":true,\"x\":[0,1,2,3,4,5,6,7,8],\"xaxis\":\"x\",\"y\":[0.0,36.574980476386045,37.43654703314592,38.806782706108045,38.53741027241337,38.803383838598876,38.784948902691376,38.89736644342759,38.76081294181455],\"yaxis\":\"y\",\"type\":\"scatter\"},{\"hovertemplate\":\"variable=13\\u003cbr\\u003eindex=%{x}\\u003cbr\\u003evalue=%{y}\\u003cextra\\u003e\\u003c\\u002fextra\\u003e\",\"legendgroup\":\"13\",\"line\":{\"color\":\"#ab63fa\",\"dash\":\"solid\"},\"marker\":{\"symbol\":\"circle\"},\"mode\":\"lines\",\"name\":\"13\",\"orientation\":\"v\",\"showlegend\":true,\"x\":[0,1,2,3,4,5,6,7,8],\"xaxis\":\"x\",\"y\":[0.0,0.9920310618684957,0.9920310618684957,0.9920310618684957,0.9920310618684957,0.9920310618684957,0.9920310618684957,0.9920310618684957,0.9920310618684957],\"yaxis\":\"y\",\"type\":\"scatter\"},{\"hovertemplate\":\"variable=14\\u003cbr\\u003eindex=%{x}\\u003cbr\\u003evalue=%{y}\\u003cextra\\u003e\\u003c\\u002fextra\\u003e\",\"legendgroup\":\"14\",\"line\":{\"color\":\"#FFA15A\",\"dash\":\"solid\"},\"marker\":{\"symbol\":\"circle\"},\"mode\":\"lines\",\"name\":\"14\",\"orientation\":\"v\",\"showlegend\":true,\"x\":[0,1,2,3,4,5,6,7,8],\"xaxis\":\"x\",\"y\":[0.0,48.966148342975714,53.29506284830497,53.179441534038716,52.6490426713594,52.755562820646894,52.6633616188779,52.69949820876539,52.68684567757712],\"yaxis\":\"y\",\"type\":\"scatter\"},{\"hovertemplate\":\"variable=15\\u003cbr\\u003eindex=%{x}\\u003cbr\\u003evalue=%{y}\\u003cextra\\u003e\\u003c\\u002fextra\\u003e\",\"legendgroup\":\"15\",\"line\":{\"color\":\"#19d3f3\",\"dash\":\"solid\"},\"marker\":{\"symbol\":\"circle\"},\"mode\":\"lines\",\"name\":\"15\",\"orientation\":\"v\",\"showlegend\":true,\"x\":[0,1,2,3,4,5,6,7,8],\"xaxis\":\"x\",\"y\":[0.0,2.0442099831152114,0.9404885771195545,0.7781710868299963,0.8361298421600726,0.8086441525489603,0.8585224419774823,0.8432976846482874,0.8530155710809151],\"yaxis\":\"y\",\"type\":\"scatter\"}],                        {\"template\":{\"data\":{\"histogram2dcontour\":[{\"type\":\"histogram2dcontour\",\"colorbar\":{\"outlinewidth\":0,\"ticks\":\"\"},\"colorscale\":[[0.0,\"#0d0887\"],[0.1111111111111111,\"#46039f\"],[0.2222222222222222,\"#7201a8\"],[0.3333333333333333,\"#9c179e\"],[0.4444444444444444,\"#bd3786\"],[0.5555555555555556,\"#d8576b\"],[0.6666666666666666,\"#ed7953\"],[0.7777777777777778,\"#fb9f3a\"],[0.8888888888888888,\"#fdca26\"],[1.0,\"#f0f921\"]]}],\"choropleth\":[{\"type\":\"choropleth\",\"colorbar\":{\"outlinewidth\":0,\"ticks\":\"\"}}],\"histogram2d\":[{\"type\":\"histogram2d\",\"colorbar\":{\"outlinewidth\":0,\"ticks\":\"\"},\"colorscale\":[[0.0,\"#0d0887\"],[0.1111111111111111,\"#46039f\"],[0.2222222222222222,\"#7201a8\"],[0.3333333333333333,\"#9c179e\"],[0.4444444444444444,\"#bd3786\"],[0.5555555555555556,\"#d8576b\"],[0.6666666666666666,\"#ed7953\"],[0.7777777777777778,\"#fb9f3a\"],[0.8888888888888888,\"#fdca26\"],[1.0,\"#f0f921\"]]}],\"heatmap\":[{\"type\":\"heatmap\",\"colorbar\":{\"outlinewidth\":0,\"ticks\":\"\"},\"colorscale\":[[0.0,\"#0d0887\"],[0.1111111111111111,\"#46039f\"],[0.2222222222222222,\"#7201a8\"],[0.3333333333333333,\"#9c179e\"],[0.4444444444444444,\"#bd3786\"],[0.5555555555555556,\"#d8576b\"],[0.6666666666666666,\"#ed7953\"],[0.7777777777777778,\"#fb9f3a\"],[0.8888888888888888,\"#fdca26\"],[1.0,\"#f0f921\"]]}],\"heatmapgl\":[{\"type\":\"heatmapgl\",\"colorbar\":{\"outlinewidth\":0,\"ticks\":\"\"},\"colorscale\":[[0.0,\"#0d0887\"],[0.1111111111111111,\"#46039f\"],[0.2222222222222222,\"#7201a8\"],[0.3333333333333333,\"#9c179e\"],[0.4444444444444444,\"#bd3786\"],[0.5555555555555556,\"#d8576b\"],[0.6666666666666666,\"#ed7953\"],[0.7777777777777778,\"#fb9f3a\"],[0.8888888888888888,\"#fdca26\"],[1.0,\"#f0f921\"]]}],\"contourcarpet\":[{\"type\":\"contourcarpet\",\"colorbar\":{\"outlinewidth\":0,\"ticks\":\"\"}}],\"contour\":[{\"type\":\"contour\",\"colorbar\":{\"outlinewidth\":0,\"ticks\":\"\"},\"colorscale\":[[0.0,\"#0d0887\"],[0.1111111111111111,\"#46039f\"],[0.2222222222222222,\"#7201a8\"],[0.3333333333333333,\"#9c179e\"],[0.4444444444444444,\"#bd3786\"],[0.5555555555555556,\"#d8576b\"],[0.6666666666666666,\"#ed7953\"],[0.7777777777777778,\"#fb9f3a\"],[0.8888888888888888,\"#fdca26\"],[1.0,\"#f0f921\"]]}],\"surface\":[{\"type\":\"surface\",\"colorbar\":{\"outlinewidth\":0,\"ticks\":\"\"},\"colorscale\":[[0.0,\"#0d0887\"],[0.1111111111111111,\"#46039f\"],[0.2222222222222222,\"#7201a8\"],[0.3333333333333333,\"#9c179e\"],[0.4444444444444444,\"#bd3786\"],[0.5555555555555556,\"#d8576b\"],[0.6666666666666666,\"#ed7953\"],[0.7777777777777778,\"#fb9f3a\"],[0.8888888888888888,\"#fdca26\"],[1.0,\"#f0f921\"]]}],\"mesh3d\":[{\"type\":\"mesh3d\",\"colorbar\":{\"outlinewidth\":0,\"ticks\":\"\"}}],\"scatter\":[{\"fillpattern\":{\"fillmode\":\"overlay\",\"size\":10,\"solidity\":0.2},\"type\":\"scatter\"}],\"parcoords\":[{\"type\":\"parcoords\",\"line\":{\"colorbar\":{\"outlinewidth\":0,\"ticks\":\"\"}}}],\"scatterpolargl\":[{\"type\":\"scatterpolargl\",\"marker\":{\"colorbar\":{\"outlinewidth\":0,\"ticks\":\"\"}}}],\"bar\":[{\"error_x\":{\"color\":\"#2a3f5f\"},\"error_y\":{\"color\":\"#2a3f5f\"},\"marker\":{\"line\":{\"color\":\"#E5ECF6\",\"width\":0.5},\"pattern\":{\"fillmode\":\"overlay\",\"size\":10,\"solidity\":0.2}},\"type\":\"bar\"}],\"scattergeo\":[{\"type\":\"scattergeo\",\"marker\":{\"colorbar\":{\"outlinewidth\":0,\"ticks\":\"\"}}}],\"scatterpolar\":[{\"type\":\"scatterpolar\",\"marker\":{\"colorbar\":{\"outlinewidth\":0,\"ticks\":\"\"}}}],\"histogram\":[{\"marker\":{\"pattern\":{\"fillmode\":\"overlay\",\"size\":10,\"solidity\":0.2}},\"type\":\"histogram\"}],\"scattergl\":[{\"type\":\"scattergl\",\"marker\":{\"colorbar\":{\"outlinewidth\":0,\"ticks\":\"\"}}}],\"scatter3d\":[{\"type\":\"scatter3d\",\"line\":{\"colorbar\":{\"outlinewidth\":0,\"ticks\":\"\"}},\"marker\":{\"colorbar\":{\"outlinewidth\":0,\"ticks\":\"\"}}}],\"scattermapbox\":[{\"type\":\"scattermapbox\",\"marker\":{\"colorbar\":{\"outlinewidth\":0,\"ticks\":\"\"}}}],\"scatterternary\":[{\"type\":\"scatterternary\",\"marker\":{\"colorbar\":{\"outlinewidth\":0,\"ticks\":\"\"}}}],\"scattercarpet\":[{\"type\":\"scattercarpet\",\"marker\":{\"colorbar\":{\"outlinewidth\":0,\"ticks\":\"\"}}}],\"carpet\":[{\"aaxis\":{\"endlinecolor\":\"#2a3f5f\",\"gridcolor\":\"white\",\"linecolor\":\"white\",\"minorgridcolor\":\"white\",\"startlinecolor\":\"#2a3f5f\"},\"baxis\":{\"endlinecolor\":\"#2a3f5f\",\"gridcolor\":\"white\",\"linecolor\":\"white\",\"minorgridcolor\":\"white\",\"startlinecolor\":\"#2a3f5f\"},\"type\":\"carpet\"}],\"table\":[{\"cells\":{\"fill\":{\"color\":\"#EBF0F8\"},\"line\":{\"color\":\"white\"}},\"header\":{\"fill\":{\"color\":\"#C8D4E3\"},\"line\":{\"color\":\"white\"}},\"type\":\"table\"}],\"barpolar\":[{\"marker\":{\"line\":{\"color\":\"#E5ECF6\",\"width\":0.5},\"pattern\":{\"fillmode\":\"overlay\",\"size\":10,\"solidity\":0.2}},\"type\":\"barpolar\"}],\"pie\":[{\"automargin\":true,\"type\":\"pie\"}]},\"layout\":{\"autotypenumbers\":\"strict\",\"colorway\":[\"#636efa\",\"#EF553B\",\"#00cc96\",\"#ab63fa\",\"#FFA15A\",\"#19d3f3\",\"#FF6692\",\"#B6E880\",\"#FF97FF\",\"#FECB52\"],\"font\":{\"color\":\"#2a3f5f\"},\"hovermode\":\"closest\",\"hoverlabel\":{\"align\":\"left\"},\"paper_bgcolor\":\"white\",\"plot_bgcolor\":\"#E5ECF6\",\"polar\":{\"bgcolor\":\"#E5ECF6\",\"angularaxis\":{\"gridcolor\":\"white\",\"linecolor\":\"white\",\"ticks\":\"\"},\"radialaxis\":{\"gridcolor\":\"white\",\"linecolor\":\"white\",\"ticks\":\"\"}},\"ternary\":{\"bgcolor\":\"#E5ECF6\",\"aaxis\":{\"gridcolor\":\"white\",\"linecolor\":\"white\",\"ticks\":\"\"},\"baxis\":{\"gridcolor\":\"white\",\"linecolor\":\"white\",\"ticks\":\"\"},\"caxis\":{\"gridcolor\":\"white\",\"linecolor\":\"white\",\"ticks\":\"\"}},\"coloraxis\":{\"colorbar\":{\"outlinewidth\":0,\"ticks\":\"\"}},\"colorscale\":{\"sequential\":[[0.0,\"#0d0887\"],[0.1111111111111111,\"#46039f\"],[0.2222222222222222,\"#7201a8\"],[0.3333333333333333,\"#9c179e\"],[0.4444444444444444,\"#bd3786\"],[0.5555555555555556,\"#d8576b\"],[0.6666666666666666,\"#ed7953\"],[0.7777777777777778,\"#fb9f3a\"],[0.8888888888888888,\"#fdca26\"],[1.0,\"#f0f921\"]],\"sequentialminus\":[[0.0,\"#0d0887\"],[0.1111111111111111,\"#46039f\"],[0.2222222222222222,\"#7201a8\"],[0.3333333333333333,\"#9c179e\"],[0.4444444444444444,\"#bd3786\"],[0.5555555555555556,\"#d8576b\"],[0.6666666666666666,\"#ed7953\"],[0.7777777777777778,\"#fb9f3a\"],[0.8888888888888888,\"#fdca26\"],[1.0,\"#f0f921\"]],\"diverging\":[[0,\"#8e0152\"],[0.1,\"#c51b7d\"],[0.2,\"#de77ae\"],[0.3,\"#f1b6da\"],[0.4,\"#fde0ef\"],[0.5,\"#f7f7f7\"],[0.6,\"#e6f5d0\"],[0.7,\"#b8e186\"],[0.8,\"#7fbc41\"],[0.9,\"#4d9221\"],[1,\"#276419\"]]},\"xaxis\":{\"gridcolor\":\"white\",\"linecolor\":\"white\",\"ticks\":\"\",\"title\":{\"standoff\":15},\"zerolinecolor\":\"white\",\"automargin\":true,\"zerolinewidth\":2},\"yaxis\":{\"gridcolor\":\"white\",\"linecolor\":\"white\",\"ticks\":\"\",\"title\":{\"standoff\":15},\"zerolinecolor\":\"white\",\"automargin\":true,\"zerolinewidth\":2},\"scene\":{\"xaxis\":{\"backgroundcolor\":\"#E5ECF6\",\"gridcolor\":\"white\",\"linecolor\":\"white\",\"showbackground\":true,\"ticks\":\"\",\"zerolinecolor\":\"white\",\"gridwidth\":2},\"yaxis\":{\"backgroundcolor\":\"#E5ECF6\",\"gridcolor\":\"white\",\"linecolor\":\"white\",\"showbackground\":true,\"ticks\":\"\",\"zerolinecolor\":\"white\",\"gridwidth\":2},\"zaxis\":{\"backgroundcolor\":\"#E5ECF6\",\"gridcolor\":\"white\",\"linecolor\":\"white\",\"showbackground\":true,\"ticks\":\"\",\"zerolinecolor\":\"white\",\"gridwidth\":2}},\"shapedefaults\":{\"line\":{\"color\":\"#2a3f5f\"}},\"annotationdefaults\":{\"arrowcolor\":\"#2a3f5f\",\"arrowhead\":0,\"arrowwidth\":1},\"geo\":{\"bgcolor\":\"white\",\"landcolor\":\"#E5ECF6\",\"subunitcolor\":\"white\",\"showland\":true,\"showlakes\":true,\"lakecolor\":\"white\"},\"title\":{\"x\":0.05},\"mapbox\":{\"style\":\"light\"}}},\"xaxis\":{\"anchor\":\"y\",\"domain\":[0.0,1.0],\"title\":{\"text\":\"index\"}},\"yaxis\":{\"anchor\":\"x\",\"domain\":[0.0,1.0],\"title\":{\"text\":\"value\"}},\"legend\":{\"title\":{\"text\":\"variable\"},\"tracegroupgap\":0},\"margin\":{\"t\":60}},                        {\"responsive\": true}                    ).then(function(){\n",
              "                            \n",
              "var gd = document.getElementById('3a539fd9-4aa5-49d4-8dde-184b89784e18');\n",
              "var x = new MutationObserver(function (mutations, observer) {{\n",
              "        var display = window.getComputedStyle(gd).display;\n",
              "        if (!display || display === 'none') {{\n",
              "            console.log([gd, 'removed!']);\n",
              "            Plotly.purge(gd);\n",
              "            observer.disconnect();\n",
              "        }}\n",
              "}});\n",
              "\n",
              "// Listen for the removal of the full notebook cells\n",
              "var notebookContainer = gd.closest('#notebook-container');\n",
              "if (notebookContainer) {{\n",
              "    x.observe(notebookContainer, {childList: true});\n",
              "}}\n",
              "\n",
              "// Listen for the clearing of the current output cell\n",
              "var outputEl = gd.closest('.output');\n",
              "if (outputEl) {{\n",
              "    x.observe(outputEl, {childList: true});\n",
              "}}\n",
              "\n",
              "                        })                };                            </script>        </div>\n",
              "</body>\n",
              "</html>"
            ]
          },
          "metadata": {}
        }
      ]
    },
    {
      "cell_type": "code",
      "source": [
        "table1_1=LLC.BatteryTable(bat1_1).data"
      ],
      "metadata": {
        "id": "bsGATjw3n69w",
        "outputId": "01885683-a227-40ff-cb66-dd2b4ef5f375",
        "colab": {
          "base_uri": "https://localhost:8080/",
          "height": 551
        }
      },
      "execution_count": 25,
      "outputs": [
        {
          "output_type": "display_data",
          "data": {
            "text/plain": [
              "                    Stage 1     Stage 2     Stage 3\n",
              "Org in, ton/hr   173.200000  175.404521  182.037106\n",
              "y1 in, %           6.000000    6.042117    6.756281\n",
              "y2 in, %           6.000000    7.076667    9.496326\n",
              "y3 in, %           1.000000    0.758882    0.643038\n",
              "Aq in, ton/hr     32.164299   38.886758   50.000000\n",
              "x1 in, %           0.992031    0.992031    1.000000\n",
              "x2 in, %          47.263654   52.698591   60.000000\n",
              "x3 in, %           1.830465    0.843602    0.100000\n",
              "Org out, ton/hr  175.366162  182.116231  192.414538\n",
              "y1 out, %          6.045201    6.765516    7.354981\n",
              "y2 out, %          7.085237    9.533034   13.639189\n",
              "y3 out, %          0.762378    0.640246    0.510851\n",
              "Aq out, ton/hr    26.688196   32.239583   38.760813\n",
              "x1 out, %          0.992031    0.992031    0.992031\n",
              "x2 out, %         41.908694   47.337397   52.686846\n",
              "x3 out, %          3.623375    1.809363    0.853016"
            ],
            "text/html": [
              "\n",
              "  <div id=\"df-9de5d117-78a4-461c-9ed1-a5704d685b5b\" class=\"colab-df-container\">\n",
              "    <div>\n",
              "<style scoped>\n",
              "    .dataframe tbody tr th:only-of-type {\n",
              "        vertical-align: middle;\n",
              "    }\n",
              "\n",
              "    .dataframe tbody tr th {\n",
              "        vertical-align: top;\n",
              "    }\n",
              "\n",
              "    .dataframe thead th {\n",
              "        text-align: right;\n",
              "    }\n",
              "</style>\n",
              "<table border=\"1\" class=\"dataframe\">\n",
              "  <thead>\n",
              "    <tr style=\"text-align: right;\">\n",
              "      <th></th>\n",
              "      <th>Stage 1</th>\n",
              "      <th>Stage 2</th>\n",
              "      <th>Stage 3</th>\n",
              "    </tr>\n",
              "  </thead>\n",
              "  <tbody>\n",
              "    <tr>\n",
              "      <th>Org in, ton/hr</th>\n",
              "      <td>173.200000</td>\n",
              "      <td>175.404521</td>\n",
              "      <td>182.037106</td>\n",
              "    </tr>\n",
              "    <tr>\n",
              "      <th>y1 in, %</th>\n",
              "      <td>6.000000</td>\n",
              "      <td>6.042117</td>\n",
              "      <td>6.756281</td>\n",
              "    </tr>\n",
              "    <tr>\n",
              "      <th>y2 in, %</th>\n",
              "      <td>6.000000</td>\n",
              "      <td>7.076667</td>\n",
              "      <td>9.496326</td>\n",
              "    </tr>\n",
              "    <tr>\n",
              "      <th>y3 in, %</th>\n",
              "      <td>1.000000</td>\n",
              "      <td>0.758882</td>\n",
              "      <td>0.643038</td>\n",
              "    </tr>\n",
              "    <tr>\n",
              "      <th>Aq in, ton/hr</th>\n",
              "      <td>32.164299</td>\n",
              "      <td>38.886758</td>\n",
              "      <td>50.000000</td>\n",
              "    </tr>\n",
              "    <tr>\n",
              "      <th>x1 in, %</th>\n",
              "      <td>0.992031</td>\n",
              "      <td>0.992031</td>\n",
              "      <td>1.000000</td>\n",
              "    </tr>\n",
              "    <tr>\n",
              "      <th>x2 in, %</th>\n",
              "      <td>47.263654</td>\n",
              "      <td>52.698591</td>\n",
              "      <td>60.000000</td>\n",
              "    </tr>\n",
              "    <tr>\n",
              "      <th>x3 in, %</th>\n",
              "      <td>1.830465</td>\n",
              "      <td>0.843602</td>\n",
              "      <td>0.100000</td>\n",
              "    </tr>\n",
              "    <tr>\n",
              "      <th>Org out, ton/hr</th>\n",
              "      <td>175.366162</td>\n",
              "      <td>182.116231</td>\n",
              "      <td>192.414538</td>\n",
              "    </tr>\n",
              "    <tr>\n",
              "      <th>y1 out, %</th>\n",
              "      <td>6.045201</td>\n",
              "      <td>6.765516</td>\n",
              "      <td>7.354981</td>\n",
              "    </tr>\n",
              "    <tr>\n",
              "      <th>y2 out, %</th>\n",
              "      <td>7.085237</td>\n",
              "      <td>9.533034</td>\n",
              "      <td>13.639189</td>\n",
              "    </tr>\n",
              "    <tr>\n",
              "      <th>y3 out, %</th>\n",
              "      <td>0.762378</td>\n",
              "      <td>0.640246</td>\n",
              "      <td>0.510851</td>\n",
              "    </tr>\n",
              "    <tr>\n",
              "      <th>Aq out, ton/hr</th>\n",
              "      <td>26.688196</td>\n",
              "      <td>32.239583</td>\n",
              "      <td>38.760813</td>\n",
              "    </tr>\n",
              "    <tr>\n",
              "      <th>x1 out, %</th>\n",
              "      <td>0.992031</td>\n",
              "      <td>0.992031</td>\n",
              "      <td>0.992031</td>\n",
              "    </tr>\n",
              "    <tr>\n",
              "      <th>x2 out, %</th>\n",
              "      <td>41.908694</td>\n",
              "      <td>47.337397</td>\n",
              "      <td>52.686846</td>\n",
              "    </tr>\n",
              "    <tr>\n",
              "      <th>x3 out, %</th>\n",
              "      <td>3.623375</td>\n",
              "      <td>1.809363</td>\n",
              "      <td>0.853016</td>\n",
              "    </tr>\n",
              "  </tbody>\n",
              "</table>\n",
              "</div>\n",
              "    <div class=\"colab-df-buttons\">\n",
              "\n",
              "  <div class=\"colab-df-container\">\n",
              "    <button class=\"colab-df-convert\" onclick=\"convertToInteractive('df-9de5d117-78a4-461c-9ed1-a5704d685b5b')\"\n",
              "            title=\"Convert this dataframe to an interactive table.\"\n",
              "            style=\"display:none;\">\n",
              "\n",
              "  <svg xmlns=\"http://www.w3.org/2000/svg\" height=\"24px\" viewBox=\"0 -960 960 960\">\n",
              "    <path d=\"M120-120v-720h720v720H120Zm60-500h600v-160H180v160Zm220 220h160v-160H400v160Zm0 220h160v-160H400v160ZM180-400h160v-160H180v160Zm440 0h160v-160H620v160ZM180-180h160v-160H180v160Zm440 0h160v-160H620v160Z\"/>\n",
              "  </svg>\n",
              "    </button>\n",
              "\n",
              "  <style>\n",
              "    .colab-df-container {\n",
              "      display:flex;\n",
              "      gap: 12px;\n",
              "    }\n",
              "\n",
              "    .colab-df-convert {\n",
              "      background-color: #E8F0FE;\n",
              "      border: none;\n",
              "      border-radius: 50%;\n",
              "      cursor: pointer;\n",
              "      display: none;\n",
              "      fill: #1967D2;\n",
              "      height: 32px;\n",
              "      padding: 0 0 0 0;\n",
              "      width: 32px;\n",
              "    }\n",
              "\n",
              "    .colab-df-convert:hover {\n",
              "      background-color: #E2EBFA;\n",
              "      box-shadow: 0px 1px 2px rgba(60, 64, 67, 0.3), 0px 1px 3px 1px rgba(60, 64, 67, 0.15);\n",
              "      fill: #174EA6;\n",
              "    }\n",
              "\n",
              "    .colab-df-buttons div {\n",
              "      margin-bottom: 4px;\n",
              "    }\n",
              "\n",
              "    [theme=dark] .colab-df-convert {\n",
              "      background-color: #3B4455;\n",
              "      fill: #D2E3FC;\n",
              "    }\n",
              "\n",
              "    [theme=dark] .colab-df-convert:hover {\n",
              "      background-color: #434B5C;\n",
              "      box-shadow: 0px 1px 3px 1px rgba(0, 0, 0, 0.15);\n",
              "      filter: drop-shadow(0px 1px 2px rgba(0, 0, 0, 0.3));\n",
              "      fill: #FFFFFF;\n",
              "    }\n",
              "  </style>\n",
              "\n",
              "    <script>\n",
              "      const buttonEl =\n",
              "        document.querySelector('#df-9de5d117-78a4-461c-9ed1-a5704d685b5b button.colab-df-convert');\n",
              "      buttonEl.style.display =\n",
              "        google.colab.kernel.accessAllowed ? 'block' : 'none';\n",
              "\n",
              "      async function convertToInteractive(key) {\n",
              "        const element = document.querySelector('#df-9de5d117-78a4-461c-9ed1-a5704d685b5b');\n",
              "        const dataTable =\n",
              "          await google.colab.kernel.invokeFunction('convertToInteractive',\n",
              "                                                    [key], {});\n",
              "        if (!dataTable) return;\n",
              "\n",
              "        const docLinkHtml = 'Like what you see? Visit the ' +\n",
              "          '<a target=\"_blank\" href=https://colab.research.google.com/notebooks/data_table.ipynb>data table notebook</a>'\n",
              "          + ' to learn more about interactive tables.';\n",
              "        element.innerHTML = '';\n",
              "        dataTable['output_type'] = 'display_data';\n",
              "        await google.colab.output.renderOutput(dataTable, element);\n",
              "        const docLink = document.createElement('div');\n",
              "        docLink.innerHTML = docLinkHtml;\n",
              "        element.appendChild(docLink);\n",
              "      }\n",
              "    </script>\n",
              "  </div>\n",
              "\n",
              "\n",
              "<div id=\"df-9e1789e3-e25a-4d0d-bc1e-685c27d9870b\">\n",
              "  <button class=\"colab-df-quickchart\" onclick=\"quickchart('df-9e1789e3-e25a-4d0d-bc1e-685c27d9870b')\"\n",
              "            title=\"Suggest charts\"\n",
              "            style=\"display:none;\">\n",
              "\n",
              "<svg xmlns=\"http://www.w3.org/2000/svg\" height=\"24px\"viewBox=\"0 0 24 24\"\n",
              "     width=\"24px\">\n",
              "    <g>\n",
              "        <path d=\"M19 3H5c-1.1 0-2 .9-2 2v14c0 1.1.9 2 2 2h14c1.1 0 2-.9 2-2V5c0-1.1-.9-2-2-2zM9 17H7v-7h2v7zm4 0h-2V7h2v10zm4 0h-2v-4h2v4z\"/>\n",
              "    </g>\n",
              "</svg>\n",
              "  </button>\n",
              "\n",
              "<style>\n",
              "  .colab-df-quickchart {\n",
              "      --bg-color: #E8F0FE;\n",
              "      --fill-color: #1967D2;\n",
              "      --hover-bg-color: #E2EBFA;\n",
              "      --hover-fill-color: #174EA6;\n",
              "      --disabled-fill-color: #AAA;\n",
              "      --disabled-bg-color: #DDD;\n",
              "  }\n",
              "\n",
              "  [theme=dark] .colab-df-quickchart {\n",
              "      --bg-color: #3B4455;\n",
              "      --fill-color: #D2E3FC;\n",
              "      --hover-bg-color: #434B5C;\n",
              "      --hover-fill-color: #FFFFFF;\n",
              "      --disabled-bg-color: #3B4455;\n",
              "      --disabled-fill-color: #666;\n",
              "  }\n",
              "\n",
              "  .colab-df-quickchart {\n",
              "    background-color: var(--bg-color);\n",
              "    border: none;\n",
              "    border-radius: 50%;\n",
              "    cursor: pointer;\n",
              "    display: none;\n",
              "    fill: var(--fill-color);\n",
              "    height: 32px;\n",
              "    padding: 0;\n",
              "    width: 32px;\n",
              "  }\n",
              "\n",
              "  .colab-df-quickchart:hover {\n",
              "    background-color: var(--hover-bg-color);\n",
              "    box-shadow: 0 1px 2px rgba(60, 64, 67, 0.3), 0 1px 3px 1px rgba(60, 64, 67, 0.15);\n",
              "    fill: var(--button-hover-fill-color);\n",
              "  }\n",
              "\n",
              "  .colab-df-quickchart-complete:disabled,\n",
              "  .colab-df-quickchart-complete:disabled:hover {\n",
              "    background-color: var(--disabled-bg-color);\n",
              "    fill: var(--disabled-fill-color);\n",
              "    box-shadow: none;\n",
              "  }\n",
              "\n",
              "  .colab-df-spinner {\n",
              "    border: 2px solid var(--fill-color);\n",
              "    border-color: transparent;\n",
              "    border-bottom-color: var(--fill-color);\n",
              "    animation:\n",
              "      spin 1s steps(1) infinite;\n",
              "  }\n",
              "\n",
              "  @keyframes spin {\n",
              "    0% {\n",
              "      border-color: transparent;\n",
              "      border-bottom-color: var(--fill-color);\n",
              "      border-left-color: var(--fill-color);\n",
              "    }\n",
              "    20% {\n",
              "      border-color: transparent;\n",
              "      border-left-color: var(--fill-color);\n",
              "      border-top-color: var(--fill-color);\n",
              "    }\n",
              "    30% {\n",
              "      border-color: transparent;\n",
              "      border-left-color: var(--fill-color);\n",
              "      border-top-color: var(--fill-color);\n",
              "      border-right-color: var(--fill-color);\n",
              "    }\n",
              "    40% {\n",
              "      border-color: transparent;\n",
              "      border-right-color: var(--fill-color);\n",
              "      border-top-color: var(--fill-color);\n",
              "    }\n",
              "    60% {\n",
              "      border-color: transparent;\n",
              "      border-right-color: var(--fill-color);\n",
              "    }\n",
              "    80% {\n",
              "      border-color: transparent;\n",
              "      border-right-color: var(--fill-color);\n",
              "      border-bottom-color: var(--fill-color);\n",
              "    }\n",
              "    90% {\n",
              "      border-color: transparent;\n",
              "      border-bottom-color: var(--fill-color);\n",
              "    }\n",
              "  }\n",
              "</style>\n",
              "\n",
              "  <script>\n",
              "    async function quickchart(key) {\n",
              "      const quickchartButtonEl =\n",
              "        document.querySelector('#' + key + ' button');\n",
              "      quickchartButtonEl.disabled = true;  // To prevent multiple clicks.\n",
              "      quickchartButtonEl.classList.add('colab-df-spinner');\n",
              "      try {\n",
              "        const charts = await google.colab.kernel.invokeFunction(\n",
              "            'suggestCharts', [key], {});\n",
              "      } catch (error) {\n",
              "        console.error('Error during call to suggestCharts:', error);\n",
              "      }\n",
              "      quickchartButtonEl.classList.remove('colab-df-spinner');\n",
              "      quickchartButtonEl.classList.add('colab-df-quickchart-complete');\n",
              "    }\n",
              "    (() => {\n",
              "      let quickchartButtonEl =\n",
              "        document.querySelector('#df-9e1789e3-e25a-4d0d-bc1e-685c27d9870b button');\n",
              "      quickchartButtonEl.style.display =\n",
              "        google.colab.kernel.accessAllowed ? 'block' : 'none';\n",
              "    })();\n",
              "  </script>\n",
              "</div>\n",
              "\n",
              "    </div>\n",
              "  </div>\n"
            ],
            "application/vnd.google.colaboratory.intrinsic+json": {
              "type": "dataframe",
              "summary": "{\n  \"name\": \"table1_1=LLC\",\n  \"rows\": 16,\n  \"fields\": [\n    {\n      \"column\": \"Stage 1\",\n      \"properties\": {\n        \"dtype\": \"number\",\n        \"std\": 57.1838736687361,\n        \"min\": 0.7623782504501799,\n        \"max\": 175.36616236968098,\n        \"num_unique_values\": 14,\n        \"samples\": [\n          7.085237048371883,\n          26.688196370462762,\n          173.2\n        ],\n        \"semantic_type\": \"\",\n        \"description\": \"\"\n      }\n    },\n    {\n      \"column\": \"Stage 2\",\n      \"properties\": {\n        \"dtype\": \"number\",\n        \"std\": 58.78897645813788,\n        \"min\": 0.6402455715757095,\n        \"max\": 182.11623095603966,\n        \"num_unique_values\": 15,\n        \"samples\": [\n          6.7655163499714455,\n          0.6402455715757095,\n          175.40452060207625\n        ],\n        \"semantic_type\": \"\",\n        \"description\": \"\"\n      }\n    },\n    {\n      \"column\": \"Stage 3\",\n      \"properties\": {\n        \"dtype\": \"number\",\n        \"std\": 61.7017291763378,\n        \"min\": 0.1,\n        \"max\": 192.41453788896328,\n        \"num_unique_values\": 16,\n        \"samples\": [\n          182.03710629623237,\n          6.7562809427488775,\n          1.0\n        ],\n        \"semantic_type\": \"\",\n        \"description\": \"\"\n      }\n    }\n  ]\n}"
            }
          },
          "metadata": {}
        }
      ]
    },
    {
      "cell_type": "code",
      "source": [
        "# @markdown plots\n",
        "fig = make_subplots(rows=2, cols=2, subplot_titles=('H3PO4_org','water_org','solvent_aq','SO4_org'), column_widths=[0.5, 0.5], vertical_spacing=0.05,\n",
        "                     specs=[[{\"type\": \"scene\"}, {\"type\": \"scene\"}],[{\"type\": \"scene\"}, {\"type\": \"scene\"}]])\n",
        "\n",
        "# visib='legendonly'\n",
        "visib=True\n",
        "fig.add_trace(go.Scatter3d(x=x_mesh3[:,0], y=y_mesh3[:,0], z=mesh_predics1_1[:,0], mode='markers',marker_color='green', marker_size=0.5, name='Equilibrium surface', visible=visib),1,1)\n",
        "fig.add_trace(go.Scatter3d(x=x_mesh3[:,0], y=y_mesh3[:,0], z=mesh_predics1_2[:,0], mode='markers',marker_color='green', marker_size=0.5, name='Equilibrium surface', visible=visib),1,2)\n",
        "fig.add_trace(go.Scatter3d(x=x_mesh3[:,0], y=y_mesh3[:,0], z=mesh_predics1_3[:,0], mode='markers',marker_color='green', marker_size=0.5, name='Equilibrium surface', visible=visib),2,1)\n",
        "fig.add_trace(go.Scatter3d(x=x_mesh3[:,0], y=y_mesh3[:,0], z=mesh_predics1_4[:,0], mode='markers',marker_color='green', marker_size=0.5, name='Equilibrium surface', visible=visib),2,2)\n",
        "\n",
        "bat=bat1_1\n",
        "# n, row, col =[1,0,2], [1,1,2], [1,2,2] # H3PO4_org, water_org, SO4_org\n",
        "# for i in range(3):\n",
        "#   fig.add_trace(go.Scatter3d(x=bat.xout_list[:,1], y=bat.xout_list[:,2], z=bat.yout_list[:,n[i]], mode='markers', marker_color='blue', name='Efficiency'), row[i], col[i])\n",
        "#   x,y,z=np.concatenate((bat.xout_list[:,1], [bat.xin_list[-1,1]])),np.concatenate((bat.xout_list[:,2],[bat.xin_list[-1,2]])), np.concatenate((bat.yin_list[:,n[i]],[bat.yout_list[-1,n[i]]]))\n",
        "#   fig.add_trace(go.Scatter3d(x=x, y=y, z=z, mode = \"markers+lines+text\", text= ['({:.2f},{:.2f},{:.2f})'.format(a,b,c) for a,b,c in zip(x,y,z)], textposition ='bottom center', name='Operation', marker_color='green'),row[i],col[i])\n",
        "\n",
        "# H3PO4_org\n",
        "fig.add_trace(go.Scatter3d(x=bat.xout_list[:,1], y=bat.xout_list[:,2], z=bat.yout_list[:,1], mode='markers', marker_color='blue', name='Efficiency'), 1, 1)\n",
        "x,y,z=np.concatenate((bat.xout_list[:,1], [bat.xin_list[-1,1]])),np.concatenate((bat.xout_list[:,2],[bat.xin_list[-1,2]])), np.concatenate((bat.yin_list[:,1],[bat.yout_list[-1,1]]))\n",
        "fig.add_trace(go.Scatter3d(x=x, y=y, z=z, mode = \"markers+lines+text\", text= ['({:.2f},{:.2f},{:.2f})'.format(a,b,c) for a,b,c in zip(x,y,z)], textposition ='bottom center', name='Operation', marker_color='green'),1,1)\n",
        "# water_org\n",
        "fig.add_trace(go.Scatter3d(x=bat.xout_list[:,1], y=bat.xout_list[:,2], z=bat.yout_list[:,0], mode='markers', marker_color='blue', name='Efficiency'), 1, 2)\n",
        "x,y,z=np.concatenate((bat.xout_list[:,1], [bat.xin_list[-1,1]])),np.concatenate((bat.xout_list[:,2],[bat.xin_list[-1,2]])), np.concatenate((bat.yin_list[:,0],[bat.yout_list[-1,0]]))\n",
        "fig.add_trace(go.Scatter3d(x=x, y=y, z=z, mode = \"markers+lines+text\", text= ['({:.2f},{:.2f},{:.2f})'.format(a,b,c) for a,b,c in zip(x,y,z)], textposition ='bottom center', name='Operation', marker_color='green'),1,2)\n",
        "# SO4_org\n",
        "fig.add_trace(go.Scatter3d(x=bat.xout_list[:,1], y=bat.xout_list[:,2], z=bat.yout_list[:,2], mode='markers', marker_color='blue', name='Efficiency'), 2, 2)\n",
        "x,y,z=np.concatenate((bat.xout_list[:,1], [bat.xin_list[-1,1]])),np.concatenate((bat.xout_list[:,2],[bat.xin_list[-1,2]])), np.concatenate((bat.yin_list[:,2],[bat.yout_list[-1,2]]))\n",
        "fig.add_trace(go.Scatter3d(x=x, y=y, z=z, mode = \"markers+lines+text\", text= ['({:.2f},{:.2f},{:.2f})'.format(a,b,c) for a,b,c in zip(x,y,z)], textposition ='bottom center', name='Operation', marker_color='green'),2,2)\n",
        "\n",
        "# solvent_aq\n",
        "fig.add_trace(go.Scatter3d(x=bat.xout_list[:,1], y=bat.xout_list[:,2], z=bat.xout_list[:,0], mode='markers', marker_color='blue', name='Efficiency'), 2, 1)\n",
        "x,y,z=np.concatenate((bat.xout_list[:,1], [bat.xin_list[-1,1]])),np.concatenate((bat.xout_list[:,2],[bat.xin_list[-1,2]])), np.concatenate((bat.xout_list[:,0],[bat.xin_list[-1,0]])) # aqueous -- different operation line order\n",
        "fig.add_trace(go.Scatter3d(x=x, y=y, z=z, mode = \"markers+lines+text\", text= ['({:.2f},{:.2f},{:.2f})'.format(a,b,c) for a,b,c in zip(x,y,z)], textposition ='bottom center', name='Operation', marker_color='green'),2,1)\n",
        "\n",
        "\n",
        "fig.update_layout(title='', autosize=True,\n",
        "                  width=980, height=980,\n",
        "                  margin=dict(l=0, r=0, b=0, t=30),\n",
        "                  )\n",
        "\n",
        "fig.update_layout(\n",
        "    # scene1_zaxis_range=[0,10],\n",
        "    # scene2_zaxis_range=[10,14],\n",
        "    # scene3_zaxis_range=[0,3],\n",
        "    # scene4_zaxis_range=[0,.1],\n",
        "    )\n",
        "\n",
        "# fig.update_scenes(xaxis_title='H3PO4_aq', yaxis_title='SO4_aq', camera_eye=dict(x=1.5, y=-1.5, z=1.5))\n",
        "fig.update_scenes(xaxis_title='H3PO4_aq', yaxis_title='SO4_aq', camera_eye=dict(x=0, y=-2.2, z=0.01), aspectratio=dict(x=1, y=1, z=1))\n",
        "fig.update_scenes(camera_projection_type=\"orthographic\")\n",
        "\n",
        "fig.show()"
      ],
      "metadata": {
        "id": "rehwsaXioZ0S",
        "outputId": "0553df7f-d21d-46b1-ce82-7f4362af5df1",
        "colab": {
          "base_uri": "https://localhost:8080/",
          "height": 997
        },
        "cellView": "form",
        "collapsed": true
      },
      "execution_count": 26,
      "outputs": [
        {
          "output_type": "display_data",
          "data": {
            "text/html": [
              "<html>\n",
              "<head><meta charset=\"utf-8\" /></head>\n",
              "<body>\n",
              "    <div>            <script src=\"https://cdnjs.cloudflare.com/ajax/libs/mathjax/2.7.5/MathJax.js?config=TeX-AMS-MML_SVG\"></script><script type=\"text/javascript\">if (window.MathJax && window.MathJax.Hub && window.MathJax.Hub.Config) {window.MathJax.Hub.Config({SVG: {font: \"STIX-Web\"}});}</script>                <script type=\"text/javascript\">window.PlotlyConfig = {MathJaxConfig: 'local'};</script>\n",
              "        <script charset=\"utf-8\" src=\"https://cdn.plot.ly/plotly-2.35.2.min.js\"></script>                <div id=\"896dbf00-9463-41b8-b52c-217c7f3589cb\" class=\"plotly-graph-div\" style=\"height:980px; width:980px;\"></div>            <script type=\"text/javascript\">                                    window.PLOTLYENV=window.PLOTLYENV || {};                                    if (document.getElementById(\"896dbf00-9463-41b8-b52c-217c7f3589cb\")) {                    Plotly.newPlot(                        \"896dbf00-9463-41b8-b52c-217c7f3589cb\",                        [{\"marker\":{\"color\":\"green\",\"size\":0.5},\"mode\":\"markers\",\"name\":\"Equilibrium surface\",\"visible\":true,\"x\":[0.0,2.3333333333333335,4.666666666666667,7.0,9.333333333333334,11.666666666666668,14.0,16.333333333333336,18.666666666666668,21.0,23.333333333333336,25.666666666666668,28.0,30.333333333333336,32.66666666666667,35.0,37.333333333333336,39.66666666666667,42.0,44.333333333333336,46.66666666666667,49.0,51.333333333333336,53.66666666666667,56.0,58.333333333333336,60.66666666666667,63.00000000000001,65.33333333333334,67.66666666666667,70.0,0.0,2.3333333333333335,4.666666666666667,7.0,9.333333333333334,11.666666666666668,14.0,16.333333333333336,18.666666666666668,21.0,23.333333333333336,25.666666666666668,28.0,30.333333333333336,32.66666666666667,35.0,37.333333333333336,39.66666666666667,42.0,44.333333333333336,46.66666666666667,49.0,51.333333333333336,53.66666666666667,56.0,58.333333333333336,60.66666666666667,63.00000000000001,65.33333333333334,67.66666666666667,70.0,0.0,2.3333333333333335,4.666666666666667,7.0,9.333333333333334,11.666666666666668,14.0,16.333333333333336,18.666666666666668,21.0,23.333333333333336,25.666666666666668,28.0,30.333333333333336,32.66666666666667,35.0,37.333333333333336,39.66666666666667,42.0,44.333333333333336,46.66666666666667,49.0,51.333333333333336,53.66666666666667,56.0,58.333333333333336,60.66666666666667,63.00000000000001,65.33333333333334,67.66666666666667,70.0,0.0,2.3333333333333335,4.666666666666667,7.0,9.333333333333334,11.666666666666668,14.0,16.333333333333336,18.666666666666668,21.0,23.333333333333336,25.666666666666668,28.0,30.333333333333336,32.66666666666667,35.0,37.333333333333336,39.66666666666667,42.0,44.333333333333336,46.66666666666667,49.0,51.333333333333336,53.66666666666667,56.0,58.333333333333336,60.66666666666667,63.00000000000001,65.33333333333334,67.66666666666667,70.0,0.0,2.3333333333333335,4.666666666666667,7.0,9.333333333333334,11.666666666666668,14.0,16.333333333333336,18.666666666666668,21.0,23.333333333333336,25.666666666666668,28.0,30.333333333333336,32.66666666666667,35.0,37.333333333333336,39.66666666666667,42.0,44.333333333333336,46.66666666666667,49.0,51.333333333333336,53.66666666666667,56.0,58.333333333333336,60.66666666666667,63.00000000000001,65.33333333333334,67.66666666666667,70.0,0.0,2.3333333333333335,4.666666666666667,7.0,9.333333333333334,11.666666666666668,14.0,16.333333333333336,18.666666666666668,21.0,23.333333333333336,25.666666666666668,28.0,30.333333333333336,32.66666666666667,35.0,37.333333333333336,39.66666666666667,42.0,44.333333333333336,46.66666666666667,49.0,51.333333333333336,53.66666666666667,56.0,58.333333333333336,60.66666666666667,63.00000000000001,65.33333333333334,67.66666666666667,70.0,0.0,2.3333333333333335,4.666666666666667,7.0,9.333333333333334,11.666666666666668,14.0,16.333333333333336,18.666666666666668,21.0,23.333333333333336,25.666666666666668,28.0,30.333333333333336,32.66666666666667,35.0,37.333333333333336,39.66666666666667,42.0,44.333333333333336,46.66666666666667,49.0,51.333333333333336,53.66666666666667,56.0,58.333333333333336,60.66666666666667,63.00000000000001,65.33333333333334,67.66666666666667,70.0,0.0,2.3333333333333335,4.666666666666667,7.0,9.333333333333334,11.666666666666668,14.0,16.333333333333336,18.666666666666668,21.0,23.333333333333336,25.666666666666668,28.0,30.333333333333336,32.66666666666667,35.0,37.333333333333336,39.66666666666667,42.0,44.333333333333336,46.66666666666667,49.0,51.333333333333336,53.66666666666667,56.0,58.333333333333336,60.66666666666667,63.00000000000001,65.33333333333334,67.66666666666667,70.0,0.0,2.3333333333333335,4.666666666666667,7.0,9.333333333333334,11.666666666666668,14.0,16.333333333333336,18.666666666666668,21.0,23.333333333333336,25.666666666666668,28.0,30.333333333333336,32.66666666666667,35.0,37.333333333333336,39.66666666666667,42.0,44.333333333333336,46.66666666666667,49.0,51.333333333333336,53.66666666666667,56.0,58.333333333333336,60.66666666666667,63.00000000000001,65.33333333333334,67.66666666666667,70.0,0.0,2.3333333333333335,4.666666666666667,7.0,9.333333333333334,11.666666666666668,14.0,16.333333333333336,18.666666666666668,21.0,23.333333333333336,25.666666666666668,28.0,30.333333333333336,32.66666666666667,35.0,37.333333333333336,39.66666666666667,42.0,44.333333333333336,46.66666666666667,49.0,51.333333333333336,53.66666666666667,56.0,58.333333333333336,60.66666666666667,63.00000000000001,65.33333333333334,67.66666666666667,70.0,0.0,2.3333333333333335,4.666666666666667,7.0,9.333333333333334,11.666666666666668,14.0,16.333333333333336,18.666666666666668,21.0,23.333333333333336,25.666666666666668,28.0,30.333333333333336,32.66666666666667,35.0,37.333333333333336,39.66666666666667,42.0,44.333333333333336,46.66666666666667,49.0,51.333333333333336,53.66666666666667,56.0,58.333333333333336,60.66666666666667,63.00000000000001,65.33333333333334,67.66666666666667,70.0,0.0,2.3333333333333335,4.666666666666667,7.0,9.333333333333334,11.666666666666668,14.0,16.333333333333336,18.666666666666668,21.0,23.333333333333336,25.666666666666668,28.0,30.333333333333336,32.66666666666667,35.0,37.333333333333336,39.66666666666667,42.0,44.333333333333336,46.66666666666667,49.0,51.333333333333336,53.66666666666667,56.0,58.333333333333336,60.66666666666667,63.00000000000001,65.33333333333334,67.66666666666667,70.0,0.0,2.3333333333333335,4.666666666666667,7.0,9.333333333333334,11.666666666666668,14.0,16.333333333333336,18.666666666666668,21.0,23.333333333333336,25.666666666666668,28.0,30.333333333333336,32.66666666666667,35.0,37.333333333333336,39.66666666666667,42.0,44.333333333333336,46.66666666666667,49.0,51.333333333333336,53.66666666666667,56.0,58.333333333333336,60.66666666666667,63.00000000000001,65.33333333333334,67.66666666666667,70.0,0.0,2.3333333333333335,4.666666666666667,7.0,9.333333333333334,11.666666666666668,14.0,16.333333333333336,18.666666666666668,21.0,23.333333333333336,25.666666666666668,28.0,30.333333333333336,32.66666666666667,35.0,37.333333333333336,39.66666666666667,42.0,44.333333333333336,46.66666666666667,49.0,51.333333333333336,53.66666666666667,56.0,58.333333333333336,60.66666666666667,63.00000000000001,65.33333333333334,67.66666666666667,70.0,0.0,2.3333333333333335,4.666666666666667,7.0,9.333333333333334,11.666666666666668,14.0,16.333333333333336,18.666666666666668,21.0,23.333333333333336,25.666666666666668,28.0,30.333333333333336,32.66666666666667,35.0,37.333333333333336,39.66666666666667,42.0,44.333333333333336,46.66666666666667,49.0,51.333333333333336,53.66666666666667,56.0,58.333333333333336,60.66666666666667,63.00000000000001,65.33333333333334,67.66666666666667,70.0,0.0,2.3333333333333335,4.666666666666667,7.0,9.333333333333334,11.666666666666668,14.0,16.333333333333336,18.666666666666668,21.0,23.333333333333336,25.666666666666668,28.0,30.333333333333336,32.66666666666667,35.0,37.333333333333336,39.66666666666667,42.0,44.333333333333336,46.66666666666667,49.0,51.333333333333336,53.66666666666667,56.0,58.333333333333336,60.66666666666667,63.00000000000001,65.33333333333334,67.66666666666667,70.0,0.0,2.3333333333333335,4.666666666666667,7.0,9.333333333333334,11.666666666666668,14.0,16.333333333333336,18.666666666666668,21.0,23.333333333333336,25.666666666666668,28.0,30.333333333333336,32.66666666666667,35.0,37.333333333333336,39.66666666666667,42.0,44.333333333333336,46.66666666666667,49.0,51.333333333333336,53.66666666666667,56.0,58.333333333333336,60.66666666666667,63.00000000000001,65.33333333333334,67.66666666666667,70.0,0.0,2.3333333333333335,4.666666666666667,7.0,9.333333333333334,11.666666666666668,14.0,16.333333333333336,18.666666666666668,21.0,23.333333333333336,25.666666666666668,28.0,30.333333333333336,32.66666666666667,35.0,37.333333333333336,39.66666666666667,42.0,44.333333333333336,46.66666666666667,49.0,51.333333333333336,53.66666666666667,56.0,58.333333333333336,60.66666666666667,63.00000000000001,65.33333333333334,67.66666666666667,70.0,0.0,2.3333333333333335,4.666666666666667,7.0,9.333333333333334,11.666666666666668,14.0,16.333333333333336,18.666666666666668,21.0,23.333333333333336,25.666666666666668,28.0,30.333333333333336,32.66666666666667,35.0,37.333333333333336,39.66666666666667,42.0,44.333333333333336,46.66666666666667,49.0,51.333333333333336,53.66666666666667,56.0,58.333333333333336,60.66666666666667,63.00000000000001,65.33333333333334,67.66666666666667,70.0,0.0,2.3333333333333335,4.666666666666667,7.0,9.333333333333334,11.666666666666668,14.0,16.333333333333336,18.666666666666668,21.0,23.333333333333336,25.666666666666668,28.0,30.333333333333336,32.66666666666667,35.0,37.333333333333336,39.66666666666667,42.0,44.333333333333336,46.66666666666667,49.0,51.333333333333336,53.66666666666667,56.0,58.333333333333336,60.66666666666667,63.00000000000001,65.33333333333334,67.66666666666667,70.0,0.0,2.3333333333333335,4.666666666666667,7.0,9.333333333333334,11.666666666666668,14.0,16.333333333333336,18.666666666666668,21.0,23.333333333333336,25.666666666666668,28.0,30.333333333333336,32.66666666666667,35.0,37.333333333333336,39.66666666666667,42.0,44.333333333333336,46.66666666666667,49.0,51.333333333333336,53.66666666666667,56.0,58.333333333333336,60.66666666666667,63.00000000000001,65.33333333333334,67.66666666666667,70.0,0.0,2.3333333333333335,4.666666666666667,7.0,9.333333333333334,11.666666666666668,14.0,16.333333333333336,18.666666666666668,21.0,23.333333333333336,25.666666666666668,28.0,30.333333333333336,32.66666666666667,35.0,37.333333333333336,39.66666666666667,42.0,44.333333333333336,46.66666666666667,49.0,51.333333333333336,53.66666666666667,56.0,58.333333333333336,60.66666666666667,63.00000000000001,65.33333333333334,67.66666666666667,70.0,0.0,2.3333333333333335,4.666666666666667,7.0,9.333333333333334,11.666666666666668,14.0,16.333333333333336,18.666666666666668,21.0,23.333333333333336,25.666666666666668,28.0,30.333333333333336,32.66666666666667,35.0,37.333333333333336,39.66666666666667,42.0,44.333333333333336,46.66666666666667,49.0,51.333333333333336,53.66666666666667,56.0,58.333333333333336,60.66666666666667,63.00000000000001,65.33333333333334,67.66666666666667,70.0,0.0,2.3333333333333335,4.666666666666667,7.0,9.333333333333334,11.666666666666668,14.0,16.333333333333336,18.666666666666668,21.0,23.333333333333336,25.666666666666668,28.0,30.333333333333336,32.66666666666667,35.0,37.333333333333336,39.66666666666667,42.0,44.333333333333336,46.66666666666667,49.0,51.333333333333336,53.66666666666667,56.0,58.333333333333336,60.66666666666667,63.00000000000001,65.33333333333334,67.66666666666667,70.0,0.0,2.3333333333333335,4.666666666666667,7.0,9.333333333333334,11.666666666666668,14.0,16.333333333333336,18.666666666666668,21.0,23.333333333333336,25.666666666666668,28.0,30.333333333333336,32.66666666666667,35.0,37.333333333333336,39.66666666666667,42.0,44.333333333333336,46.66666666666667,49.0,51.333333333333336,53.66666666666667,56.0,58.333333333333336,60.66666666666667,63.00000000000001,65.33333333333334,67.66666666666667,70.0,0.0,2.3333333333333335,4.666666666666667,7.0,9.333333333333334,11.666666666666668,14.0,16.333333333333336,18.666666666666668,21.0,23.333333333333336,25.666666666666668,28.0,30.333333333333336,32.66666666666667,35.0,37.333333333333336,39.66666666666667,42.0,44.333333333333336,46.66666666666667,49.0,51.333333333333336,53.66666666666667,56.0,58.333333333333336,60.66666666666667,63.00000000000001,65.33333333333334,67.66666666666667,70.0,0.0,2.3333333333333335,4.666666666666667,7.0,9.333333333333334,11.666666666666668,14.0,16.333333333333336,18.666666666666668,21.0,23.333333333333336,25.666666666666668,28.0,30.333333333333336,32.66666666666667,35.0,37.333333333333336,39.66666666666667,42.0,44.333333333333336,46.66666666666667,49.0,51.333333333333336,53.66666666666667,56.0,58.333333333333336,60.66666666666667,63.00000000000001,65.33333333333334,67.66666666666667,70.0,0.0,2.3333333333333335,4.666666666666667,7.0,9.333333333333334,11.666666666666668,14.0,16.333333333333336,18.666666666666668,21.0,23.333333333333336,25.666666666666668,28.0,30.333333333333336,32.66666666666667,35.0,37.333333333333336,39.66666666666667,42.0,44.333333333333336,46.66666666666667,49.0,51.333333333333336,53.66666666666667,56.0,58.333333333333336,60.66666666666667,63.00000000000001,65.33333333333334,67.66666666666667,70.0,0.0,2.3333333333333335,4.666666666666667,7.0,9.333333333333334,11.666666666666668,14.0,16.333333333333336,18.666666666666668,21.0,23.333333333333336,25.666666666666668,28.0,30.333333333333336,32.66666666666667,35.0,37.333333333333336,39.66666666666667,42.0,44.333333333333336,46.66666666666667,49.0,51.333333333333336,53.66666666666667,56.0,58.333333333333336,60.66666666666667,63.00000000000001,65.33333333333334,67.66666666666667,70.0,0.0,2.3333333333333335,4.666666666666667,7.0,9.333333333333334,11.666666666666668,14.0,16.333333333333336,18.666666666666668,21.0,23.333333333333336,25.666666666666668,28.0,30.333333333333336,32.66666666666667,35.0,37.333333333333336,39.66666666666667,42.0,44.333333333333336,46.66666666666667,49.0,51.333333333333336,53.66666666666667,56.0,58.333333333333336,60.66666666666667,63.00000000000001,65.33333333333334,67.66666666666667,70.0,0.0,2.3333333333333335,4.666666666666667,7.0,9.333333333333334,11.666666666666668,14.0,16.333333333333336,18.666666666666668,21.0,23.333333333333336,25.666666666666668,28.0,30.333333333333336,32.66666666666667,35.0,37.333333333333336,39.66666666666667,42.0,44.333333333333336,46.66666666666667,49.0,51.333333333333336,53.66666666666667,56.0,58.333333333333336,60.66666666666667,63.00000000000001,65.33333333333334,67.66666666666667,70.0],\"y\":[0.0,0.0,0.0,0.0,0.0,0.0,0.0,0.0,0.0,0.0,0.0,0.0,0.0,0.0,0.0,0.0,0.0,0.0,0.0,0.0,0.0,0.0,0.0,0.0,0.0,0.0,0.0,0.0,0.0,0.0,0.0,0.8333333333333334,0.8333333333333334,0.8333333333333334,0.8333333333333334,0.8333333333333334,0.8333333333333334,0.8333333333333334,0.8333333333333334,0.8333333333333334,0.8333333333333334,0.8333333333333334,0.8333333333333334,0.8333333333333334,0.8333333333333334,0.8333333333333334,0.8333333333333334,0.8333333333333334,0.8333333333333334,0.8333333333333334,0.8333333333333334,0.8333333333333334,0.8333333333333334,0.8333333333333334,0.8333333333333334,0.8333333333333334,0.8333333333333334,0.8333333333333334,0.8333333333333334,0.8333333333333334,0.8333333333333334,0.8333333333333334,1.6666666666666667,1.6666666666666667,1.6666666666666667,1.6666666666666667,1.6666666666666667,1.6666666666666667,1.6666666666666667,1.6666666666666667,1.6666666666666667,1.6666666666666667,1.6666666666666667,1.6666666666666667,1.6666666666666667,1.6666666666666667,1.6666666666666667,1.6666666666666667,1.6666666666666667,1.6666666666666667,1.6666666666666667,1.6666666666666667,1.6666666666666667,1.6666666666666667,1.6666666666666667,1.6666666666666667,1.6666666666666667,1.6666666666666667,1.6666666666666667,1.6666666666666667,1.6666666666666667,1.6666666666666667,1.6666666666666667,2.5,2.5,2.5,2.5,2.5,2.5,2.5,2.5,2.5,2.5,2.5,2.5,2.5,2.5,2.5,2.5,2.5,2.5,2.5,2.5,2.5,2.5,2.5,2.5,2.5,2.5,2.5,2.5,2.5,2.5,2.5,3.3333333333333335,3.3333333333333335,3.3333333333333335,3.3333333333333335,3.3333333333333335,3.3333333333333335,3.3333333333333335,3.3333333333333335,3.3333333333333335,3.3333333333333335,3.3333333333333335,3.3333333333333335,3.3333333333333335,3.3333333333333335,3.3333333333333335,3.3333333333333335,3.3333333333333335,3.3333333333333335,3.3333333333333335,3.3333333333333335,3.3333333333333335,3.3333333333333335,3.3333333333333335,3.3333333333333335,3.3333333333333335,3.3333333333333335,3.3333333333333335,3.3333333333333335,3.3333333333333335,3.3333333333333335,3.3333333333333335,4.166666666666667,4.166666666666667,4.166666666666667,4.166666666666667,4.166666666666667,4.166666666666667,4.166666666666667,4.166666666666667,4.166666666666667,4.166666666666667,4.166666666666667,4.166666666666667,4.166666666666667,4.166666666666667,4.166666666666667,4.166666666666667,4.166666666666667,4.166666666666667,4.166666666666667,4.166666666666667,4.166666666666667,4.166666666666667,4.166666666666667,4.166666666666667,4.166666666666667,4.166666666666667,4.166666666666667,4.166666666666667,4.166666666666667,4.166666666666667,4.166666666666667,5.0,5.0,5.0,5.0,5.0,5.0,5.0,5.0,5.0,5.0,5.0,5.0,5.0,5.0,5.0,5.0,5.0,5.0,5.0,5.0,5.0,5.0,5.0,5.0,5.0,5.0,5.0,5.0,5.0,5.0,5.0,5.833333333333334,5.833333333333334,5.833333333333334,5.833333333333334,5.833333333333334,5.833333333333334,5.833333333333334,5.833333333333334,5.833333333333334,5.833333333333334,5.833333333333334,5.833333333333334,5.833333333333334,5.833333333333334,5.833333333333334,5.833333333333334,5.833333333333334,5.833333333333334,5.833333333333334,5.833333333333334,5.833333333333334,5.833333333333334,5.833333333333334,5.833333333333334,5.833333333333334,5.833333333333334,5.833333333333334,5.833333333333334,5.833333333333334,5.833333333333334,5.833333333333334,6.666666666666667,6.666666666666667,6.666666666666667,6.666666666666667,6.666666666666667,6.666666666666667,6.666666666666667,6.666666666666667,6.666666666666667,6.666666666666667,6.666666666666667,6.666666666666667,6.666666666666667,6.666666666666667,6.666666666666667,6.666666666666667,6.666666666666667,6.666666666666667,6.666666666666667,6.666666666666667,6.666666666666667,6.666666666666667,6.666666666666667,6.666666666666667,6.666666666666667,6.666666666666667,6.666666666666667,6.666666666666667,6.666666666666667,6.666666666666667,6.666666666666667,7.5,7.5,7.5,7.5,7.5,7.5,7.5,7.5,7.5,7.5,7.5,7.5,7.5,7.5,7.5,7.5,7.5,7.5,7.5,7.5,7.5,7.5,7.5,7.5,7.5,7.5,7.5,7.5,7.5,7.5,7.5,8.333333333333334,8.333333333333334,8.333333333333334,8.333333333333334,8.333333333333334,8.333333333333334,8.333333333333334,8.333333333333334,8.333333333333334,8.333333333333334,8.333333333333334,8.333333333333334,8.333333333333334,8.333333333333334,8.333333333333334,8.333333333333334,8.333333333333334,8.333333333333334,8.333333333333334,8.333333333333334,8.333333333333334,8.333333333333334,8.333333333333334,8.333333333333334,8.333333333333334,8.333333333333334,8.333333333333334,8.333333333333334,8.333333333333334,8.333333333333334,8.333333333333334,9.166666666666668,9.166666666666668,9.166666666666668,9.166666666666668,9.166666666666668,9.166666666666668,9.166666666666668,9.166666666666668,9.166666666666668,9.166666666666668,9.166666666666668,9.166666666666668,9.166666666666668,9.166666666666668,9.166666666666668,9.166666666666668,9.166666666666668,9.166666666666668,9.166666666666668,9.166666666666668,9.166666666666668,9.166666666666668,9.166666666666668,9.166666666666668,9.166666666666668,9.166666666666668,9.166666666666668,9.166666666666668,9.166666666666668,9.166666666666668,9.166666666666668,10.0,10.0,10.0,10.0,10.0,10.0,10.0,10.0,10.0,10.0,10.0,10.0,10.0,10.0,10.0,10.0,10.0,10.0,10.0,10.0,10.0,10.0,10.0,10.0,10.0,10.0,10.0,10.0,10.0,10.0,10.0,10.833333333333334,10.833333333333334,10.833333333333334,10.833333333333334,10.833333333333334,10.833333333333334,10.833333333333334,10.833333333333334,10.833333333333334,10.833333333333334,10.833333333333334,10.833333333333334,10.833333333333334,10.833333333333334,10.833333333333334,10.833333333333334,10.833333333333334,10.833333333333334,10.833333333333334,10.833333333333334,10.833333333333334,10.833333333333334,10.833333333333334,10.833333333333334,10.833333333333334,10.833333333333334,10.833333333333334,10.833333333333334,10.833333333333334,10.833333333333334,10.833333333333334,11.666666666666668,11.666666666666668,11.666666666666668,11.666666666666668,11.666666666666668,11.666666666666668,11.666666666666668,11.666666666666668,11.666666666666668,11.666666666666668,11.666666666666668,11.666666666666668,11.666666666666668,11.666666666666668,11.666666666666668,11.666666666666668,11.666666666666668,11.666666666666668,11.666666666666668,11.666666666666668,11.666666666666668,11.666666666666668,11.666666666666668,11.666666666666668,11.666666666666668,11.666666666666668,11.666666666666668,11.666666666666668,11.666666666666668,11.666666666666668,11.666666666666668,12.5,12.5,12.5,12.5,12.5,12.5,12.5,12.5,12.5,12.5,12.5,12.5,12.5,12.5,12.5,12.5,12.5,12.5,12.5,12.5,12.5,12.5,12.5,12.5,12.5,12.5,12.5,12.5,12.5,12.5,12.5,13.333333333333334,13.333333333333334,13.333333333333334,13.333333333333334,13.333333333333334,13.333333333333334,13.333333333333334,13.333333333333334,13.333333333333334,13.333333333333334,13.333333333333334,13.333333333333334,13.333333333333334,13.333333333333334,13.333333333333334,13.333333333333334,13.333333333333334,13.333333333333334,13.333333333333334,13.333333333333334,13.333333333333334,13.333333333333334,13.333333333333334,13.333333333333334,13.333333333333334,13.333333333333334,13.333333333333334,13.333333333333334,13.333333333333334,13.333333333333334,13.333333333333334,14.166666666666668,14.166666666666668,14.166666666666668,14.166666666666668,14.166666666666668,14.166666666666668,14.166666666666668,14.166666666666668,14.166666666666668,14.166666666666668,14.166666666666668,14.166666666666668,14.166666666666668,14.166666666666668,14.166666666666668,14.166666666666668,14.166666666666668,14.166666666666668,14.166666666666668,14.166666666666668,14.166666666666668,14.166666666666668,14.166666666666668,14.166666666666668,14.166666666666668,14.166666666666668,14.166666666666668,14.166666666666668,14.166666666666668,14.166666666666668,14.166666666666668,15.0,15.0,15.0,15.0,15.0,15.0,15.0,15.0,15.0,15.0,15.0,15.0,15.0,15.0,15.0,15.0,15.0,15.0,15.0,15.0,15.0,15.0,15.0,15.0,15.0,15.0,15.0,15.0,15.0,15.0,15.0,15.833333333333334,15.833333333333334,15.833333333333334,15.833333333333334,15.833333333333334,15.833333333333334,15.833333333333334,15.833333333333334,15.833333333333334,15.833333333333334,15.833333333333334,15.833333333333334,15.833333333333334,15.833333333333334,15.833333333333334,15.833333333333334,15.833333333333334,15.833333333333334,15.833333333333334,15.833333333333334,15.833333333333334,15.833333333333334,15.833333333333334,15.833333333333334,15.833333333333334,15.833333333333334,15.833333333333334,15.833333333333334,15.833333333333334,15.833333333333334,15.833333333333334,16.666666666666668,16.666666666666668,16.666666666666668,16.666666666666668,16.666666666666668,16.666666666666668,16.666666666666668,16.666666666666668,16.666666666666668,16.666666666666668,16.666666666666668,16.666666666666668,16.666666666666668,16.666666666666668,16.666666666666668,16.666666666666668,16.666666666666668,16.666666666666668,16.666666666666668,16.666666666666668,16.666666666666668,16.666666666666668,16.666666666666668,16.666666666666668,16.666666666666668,16.666666666666668,16.666666666666668,16.666666666666668,16.666666666666668,16.666666666666668,16.666666666666668,17.5,17.5,17.5,17.5,17.5,17.5,17.5,17.5,17.5,17.5,17.5,17.5,17.5,17.5,17.5,17.5,17.5,17.5,17.5,17.5,17.5,17.5,17.5,17.5,17.5,17.5,17.5,17.5,17.5,17.5,17.5,18.333333333333336,18.333333333333336,18.333333333333336,18.333333333333336,18.333333333333336,18.333333333333336,18.333333333333336,18.333333333333336,18.333333333333336,18.333333333333336,18.333333333333336,18.333333333333336,18.333333333333336,18.333333333333336,18.333333333333336,18.333333333333336,18.333333333333336,18.333333333333336,18.333333333333336,18.333333333333336,18.333333333333336,18.333333333333336,18.333333333333336,18.333333333333336,18.333333333333336,18.333333333333336,18.333333333333336,18.333333333333336,18.333333333333336,18.333333333333336,18.333333333333336,19.166666666666668,19.166666666666668,19.166666666666668,19.166666666666668,19.166666666666668,19.166666666666668,19.166666666666668,19.166666666666668,19.166666666666668,19.166666666666668,19.166666666666668,19.166666666666668,19.166666666666668,19.166666666666668,19.166666666666668,19.166666666666668,19.166666666666668,19.166666666666668,19.166666666666668,19.166666666666668,19.166666666666668,19.166666666666668,19.166666666666668,19.166666666666668,19.166666666666668,19.166666666666668,19.166666666666668,19.166666666666668,19.166666666666668,19.166666666666668,19.166666666666668,20.0,20.0,20.0,20.0,20.0,20.0,20.0,20.0,20.0,20.0,20.0,20.0,20.0,20.0,20.0,20.0,20.0,20.0,20.0,20.0,20.0,20.0,20.0,20.0,20.0,20.0,20.0,20.0,20.0,20.0,20.0,20.833333333333336,20.833333333333336,20.833333333333336,20.833333333333336,20.833333333333336,20.833333333333336,20.833333333333336,20.833333333333336,20.833333333333336,20.833333333333336,20.833333333333336,20.833333333333336,20.833333333333336,20.833333333333336,20.833333333333336,20.833333333333336,20.833333333333336,20.833333333333336,20.833333333333336,20.833333333333336,20.833333333333336,20.833333333333336,20.833333333333336,20.833333333333336,20.833333333333336,20.833333333333336,20.833333333333336,20.833333333333336,20.833333333333336,20.833333333333336,20.833333333333336,21.666666666666668,21.666666666666668,21.666666666666668,21.666666666666668,21.666666666666668,21.666666666666668,21.666666666666668,21.666666666666668,21.666666666666668,21.666666666666668,21.666666666666668,21.666666666666668,21.666666666666668,21.666666666666668,21.666666666666668,21.666666666666668,21.666666666666668,21.666666666666668,21.666666666666668,21.666666666666668,21.666666666666668,21.666666666666668,21.666666666666668,21.666666666666668,21.666666666666668,21.666666666666668,21.666666666666668,21.666666666666668,21.666666666666668,21.666666666666668,21.666666666666668,22.5,22.5,22.5,22.5,22.5,22.5,22.5,22.5,22.5,22.5,22.5,22.5,22.5,22.5,22.5,22.5,22.5,22.5,22.5,22.5,22.5,22.5,22.5,22.5,22.5,22.5,22.5,22.5,22.5,22.5,22.5,23.333333333333336,23.333333333333336,23.333333333333336,23.333333333333336,23.333333333333336,23.333333333333336,23.333333333333336,23.333333333333336,23.333333333333336,23.333333333333336,23.333333333333336,23.333333333333336,23.333333333333336,23.333333333333336,23.333333333333336,23.333333333333336,23.333333333333336,23.333333333333336,23.333333333333336,23.333333333333336,23.333333333333336,23.333333333333336,23.333333333333336,23.333333333333336,23.333333333333336,23.333333333333336,23.333333333333336,23.333333333333336,23.333333333333336,23.333333333333336,23.333333333333336,24.166666666666668,24.166666666666668,24.166666666666668,24.166666666666668,24.166666666666668,24.166666666666668,24.166666666666668,24.166666666666668,24.166666666666668,24.166666666666668,24.166666666666668,24.166666666666668,24.166666666666668,24.166666666666668,24.166666666666668,24.166666666666668,24.166666666666668,24.166666666666668,24.166666666666668,24.166666666666668,24.166666666666668,24.166666666666668,24.166666666666668,24.166666666666668,24.166666666666668,24.166666666666668,24.166666666666668,24.166666666666668,24.166666666666668,24.166666666666668,24.166666666666668,25.0,25.0,25.0,25.0,25.0,25.0,25.0,25.0,25.0,25.0,25.0,25.0,25.0,25.0,25.0,25.0,25.0,25.0,25.0,25.0,25.0,25.0,25.0,25.0,25.0,25.0,25.0,25.0,25.0,25.0,25.0],\"z\":[-0.19000500430440148,-0.16903214013460932,-0.14237774798958114,-0.10850940470587389,-0.06548548072311888,-0.01084840002030063,0.05850838567900496,0.14650521577353892,0.2580788748417522,0.39942926026687964,0.578315586050941,0.8044055707855566,1.0896766089497678,1.4488597181945142,1.8999032157104718,2.4644113041073066,3.167980696022674,4.040314680776783,5.1149402133165225,6.428297662649262,8.017933855790913,9.919541458442898,12.16270092212603,14.765446381863535,17.728213186164055,21.028266716452652,24.616165792655863,28.415879486773356,32.32959014141301,36.246978899780586,40.05731453617863,-0.18265398717642256,-0.15968921145635306,-0.13050532358139932,-0.09342614784431191,-0.04632868126236822,0.013472987971896444,0.08937205473664989,0.18564740276136682,0.30768219960989107,0.4622287320965217,0.6577244299312603,0.9046611857653719,1.2160043977708348,1.6076480699871922,2.098875750220552,2.712771678220509,3.476490109165969,4.421242790322584,5.581808517347708,6.9953161628473355,8.69902806152728,10.726894799650928,13.104817873256549,15.844887650695268,18.939354424873258,22.355629020639775,26.03395395110105,29.889226960994876,33.817605297987214,37.70712228923891,41.450157497797235,-0.1746046428134722,-0.14945938328866148,-0.11750693753596408,-0.07691412383347362,-0.025359996493936166,0.0400903055759958,0.12314210556814409,0.22846406829600596,0.3619236124038778,0.5308706393000495,0.7444737069389866,1.0141090146085663,1.353795425755136,1.7806564849167899,2.3153707663525296,2.982542529780341,3.8108837862388647,4.833047090888293,6.084891705514843,7.603920117678696,9.426617738734112,11.584512249482326,14.098993490839302,16.97533130933647,20.196857634939317,23.72077913690929,27.477275893747095,31.373127792474673,35.30001019375692,39.14612489329109,42.80863116891334,-0.16579082949517066,-0.1382587836223177,-0.10327632046597124,-0.058838823135955565,-0.002409394843747137,0.06921812907245162,0.16008875365007036,0.2752945719614157,0.4212278350274534,0.605884186356155,0.8392190721636243,1.1335554729158464,1.5040322543400428,1.96906766525926,2.5507894772371618,3.2753496736754446,4.172996313187973,5.277720422964789,6.626240706237976,8.256054410884818,10.202305598490927,12.493353051078063,15.145208502888895,18.15547283690503,21.497942287977505,25.119476622218855,28.940710710640275,32.86150841089229,36.77075580236658,40.55863366841042,44.12859123695539,-0.15614018026639265,-0.12599567238007303,-0.08769727563523588,-0.03905323816128359,0.022708845368761388,0.1010906608824147,0.20050664961144804,0.32650851255579205,0.4860567182166946,0.6878436992051604,0.9426702734175265,1.2638706499391592,1.6677705452891498,2.174145326086805,2.8066183088438397,3.592901349856387,4.564730444056686,5.757292563586989,7.207889448391387,8.953566102782414,11.027489118016879,13.454045734737434,16.24298920359035,19.38346227328649,22.83925993271724,26.546986830033223,30.4185174074001,34.34822152416416,38.22398312362257,41.9397050917327,45.40643351131848,-0.14557352486047925,-0.11256971595958021,-0.07064277197325808,-0.01739673485817228,0.05019753089903389,0.13596343968912272,0.2447169525392905,0.3825082043768493,0.5569121390329457,0.7773719181136762,1.0555947357255544,1.4059919518181712,1.8461423306113023,2.3972363723872725,3.084428882546023,3.9369844571423087,4.988047597290532,6.273812772357297,7.831827558839715,9.698166672484788,11.903314380718104,14.466839633509506,17.39136723225038,20.656885813298423,24.216909890728726,27.998135784107845,31.904722168954958,35.827147320354456,39.65411444601639,43.284866498805755,46.63911633654726,-0.13400425950724681,-0.09787119741328176,-0.05197395829978291,0.006306171007436134,0.08027806199686616,0.17411518256743896,0.2930695518928239,0.4437313124927904,0.6343390542362428,0.8751434187694347,1.178821204450104,1.5609276678118178,2.0403589722156568,2.6397723987928163,3.3858767872522666,4.309458869334215,5.44495560293122,6.829328790514795,8.499969064066402,10.491390647578509,12.830628072861682,15.531558058946072,18.588845962003642,21.972759115274222,25.626469755721246,29.467378807976505,33.393213551752474,37.29229371184718,41.055935145190105,44.59016304939682,47.82416855544383,-0.12133766024300563,-0.08178015706444519,-0.031539092738606556,0.03224713960659287,0.11319206134598048,0.2158497658135623,0.34594544299634755,0.5106536479419646,0.7189287028306204,0.9818881413339771,1.3132434050464479,1.7297603846523355,2.2517136900935633,2.903270330980602,3.712698892996574,4.712249528037686,5.937493381676259,7.425862059346339,9.21411711274162,11.334551100378906,13.80992875536004,16.64755488568384,19.83337551548526,23.327533860103443,27.063040868108303,30.948881227351194,34.87784243670505,38.7378921564843,42.42466361672552,45.85218973772649,48.95968408821945,-0.10747013503395486,-0.06416545804286145,-0.009172381011826047,0.060635441742267204,0.14920313056289736,0.2614983507166482,0.4037592598928281,0.5837921214034107,0.8113219466767685,1.0983950000836078,1.4598236664665247,1.9136501582755638,2.481583516646234,3.189332002650632,4.066708933568695,5.147335993813341,6.467712253919178,8.06537899615247,9.975924885410798,12.228692717131606,14.841318784620643,17.81367646032145,21.122338347144314,24.71711867621061,28.52130825266938,32.436608804989284,36.35252329485209,40.15848585113682,43.75600759093611,47.06810855275813,50.04430462728992,-0.092288409715227,-0.04488377091380258,0.015307282955165036,0.0916995095172517,0.18859874113378083,0.3114216598292163,0.4669619677608381,0.663707850854955,0.912212732829154,1.2255155378336475,1.6195964425044256,2.1138373342888013,2.7314305117999176,3.499642436317668,4.449791064164813,5.6167391332167735,7.03765361165351,8.749758265164427,10.786853038322839,13.17454339385329,15.924458495488011,19.028230842377653,22.452547128854654,26.13691500401754,29.995613790681123,33.9244250162676,37.81133323972877,41.54900753451445,45.04620578526166,48.23565151163673,51.07719224901747,-0.07566864243055704,-0.023778471273864454,0.04209768091066124,0.1256886100472112,0.23169226634449913,0.3660124083228329,0.5360437150450235,0.7510094149747442,1.0223516549330949,1.3641675794110828,1.7936716507674308,2.3316448886232397,3.0028020490880856,3.83596657091503,4.86389108306693,6.122504627038867,7.649322742307459,9.480754109982,11.64812423890087,14.172465569308914,17.05852446161722,20.288966380408393,23.82025633949094,27.581867833906163,31.48004069981636,35.40619187556848,39.248605471752164,42.904844719445734,46.292054562579125,49.353110801911356,52.05799391343517,-0.05747546094549527,-0.0006784439082689886,0.0714147455963765,0.16287464921635753,0.27882516023029424,0.4256978936955935,0.6115368428388912,0.8463562394257291,1.1425495834597719,1.5153388268554746,1.9832377323678383,2.5684801379745643,3.297329957451497,4.200144155672067,5.311004996366929,6.666683008064222,8.304658674867877,10.259955974750959,12.560675585752822,15.222408757375817,18.242173791493567,21.59306150541658,25.22118849329879,29.046530550746102,32.968506769546664,36.8758708136,40.659014048761335,44.22189085134578,47.49091993189754,50.41931765531872,52.986799870577,-0.03756091689820984,0.024603213145026004,0.10349415456806099,0.20355411226059417,0.3303692887911698,0.49094274535924853,0.6940190457829427,0.9504620975531886,1.2736813256067023,1.6800903256433468,2.1895643168106176,2.8258356460812983,3.6167282778668515,4.594082509536813,5.793164604538345,7.251305978648619,9.005500028289735,11.088744833077834,13.525109958252523,16.323864969470172,19.47351647844018,22.937127373518038,26.650575361680346,30.5251424020324,34.45486329832897,38.327620102743964,42.03764741403452,45.49658160528003,48.640735811046966,51.43361182990604,53.86409793462748,-0.015763350759558037,0.05227059148406177,0.13859304957609098,0.24805014756944566,0.3867294176313347,0.5622518333925886,0.7841166746900559,1.064098700280871,1.416689265187129,1.8595597159247,2.4140043559330273,3.105289127012611,3.9627893691203813,5.01974683064528,6.312419802445482,7.878358823163441,9.753546982518865,11.968246863776596,14.541647597592197,17.475828901465942,20.75009777866162,24.3172246064701,28.103213876796005,32.0117164283015,35.93299634469708,39.75588553172512,43.380068735789536,46.72591623610853,49.739989940383836,52.39580370179276,54.69072544628919,0.008093838996634517,0.08254648918965835,0.17699188844626512,0.29671479948645185,0.4483458587200513,0.6401733329111892,0.8825081661542118,1.188099341953933,1.5725869206195302,2.0549641654469646,2.6579955682642424,3.408502121031093,4.337378074491641,5.479147733495291,6.870817313731937,8.549748821437287,10.550319664380378,12.899285355047393,15.610079466903578,18.67676487549127,22.068892425334845,25.728894869516274,29.57353569329728,33.500135107664626,37.396926767115744,41.15548142402978,44.68236180891823,47.907464538054114,50.78769917636335,53.306130975681896,55.46782054284155,0.03420352924638337,0.11567404870066511,0.21899643612678155,0.34993139500368287,0.5156972770636372,0.7253019369644669,0.9899275784017885,1.323362559389766,1.7424623450697236,2.2676028615000803,2.9230610110917965,3.737217193121044,4.742423642599125,5.974325695525014,7.4703756302158535,9.267269689723399,11.397113442954286,13.882331974096985,16.729724153086426,19.92458255212963,23.42631218890954,27.167207411153356,31.05568867570182,34.98425052026451,38.84090559942429,42.521659642016026,45.94116198637364,49.0393605151808,51.78337610061824,54.16521193339982,56.19677411705162,0.0627763150112699,0.1519185227498543,0.26493990110264143,0.4081170880334497,0.5893036556349571,0.8182822065122917,1.1071682054552117,1.4708557503005135,1.9274812767812293,2.4988589179074534,3.210808572302879,4.0932533800989575,5.179909083408825,6.507332113077832,8.113056000687191,10.032562227330002,12.294951858017855,14.917458794112694,17.899390235209623,21.216623342434428,24.818227863983438,28.6268200016645,32.54362792717903,36.457985572090664,40.25950158341847,43.85016487397506,47.15367229308282,50.12028428853324,52.72698896114969,54.97399697476243,56.879183590844036,0.09404206873573884,0.19156917522225747,0.31518522267459836,0.4717255633284232,0.6697294138327372,0.9198120407214194,1.2350862331427344,1.631618684394164,2.1288899295903914,2.7502005299903693,3.5229291483950202,4.478499590886946,5.651857637092178,7.08020670291577,8.800729414762241,10.847071530112306,13.244538153542392,16.004292707646293,19.117346130424067,22.549659236726583,26.240006213219075,30.102052990358676,34.0312134337601,37.915432754634246,41.647678133111604,45.13727521144263,48.3176654861406,51.14943405777757,53.61891693273179,55.73371998826201,57.51680937453635,0.128251623115883,0.23494132346012364,0.3701275136067732,0.5412499000331259,0.7575866709250274,1.0306462444172766,1.3746043904433431,1.8067668257130087,2.3480172935658103,3.0231811858826596,3.861193249888929,4.894905647975532,6.160316042145293,7.694951043311864,9.535139658854984,11.712001344495237,14.24620664520408,17.141974054279217,20.381299415846296,23.919905421577862,27.686561753479985,31.586974506784863,35.51231101238196,39.35094706299607,43.00085759705856,46.379827735131,49.43147332909466,52.12649009570622,54.45990256427321,56.445850842513025,58.111534640735954,0.16567858446818562,0.2823785279939113,0.4301966612994885,0.6172255921928915,0.8535386412475479,1.1516001618740326,1.5267155379460107,1.9974943680337809,2.586276793736058,3.3194387170992243,4.227445752018941,5.344470648714131,6.707334313426988,8.353498131981642,10.317862684249215,12.6282663726107,15.299875401596468,18.32912142813948,21.68838749497978,25.32304758165247,29.152422565680972,33.075494212894164,36.980893055653134,40.75923003715019,44.314971366247164,47.57522949111765,50.4939647258162,53.051572793366276,55.25100309473008,57.11205003242817,58.665328823021625,0.20662128340024744,0.3342549348783841,0.4958600888716447,0.7002337202198774,0.9583031422423112,1.283553337069094,1.6924861216840554,2.2050768663885076,2.845167131205283,3.6406929456444512,4.623598488703841,5.82922832567675,7.294941784267019,9.057677949892973,11.150262721196949,13.596443592053644,16.40500194478831,19.563804684150085,23.035181217504984,26.75428419559174,30.631808594728955,34.56146252238729,38.43113557831554,42.13540239883774,45.58649509148893,48.72145481470049,51.50451460389819,53.92519670941178,55.993542089313365,57.73412626246508,59.180215059055755,0.25140486913926985,0.3909777746999854,0.5676256752565845,0.7909042632033749,1.0726561895888231,1.4274531499064516,1.873059405155935,2.4308733270053295,3.126272106003386,3.988741660261754,5.051620373509856,6.351229099206346,7.925119233320927,9.809179162586812,12.033445794913778,14.616723910405408,17.560543855533766,20.843528109351237,24.417702668476558,28.208383464143356,32.11872023235823,36.03877188268113,39.85750828897895,43.47506338635468,46.81246897344174,49.81703041980238,52.46296555313765,54.74822243136134,56.68906259541123,58.31399751482053,59.65824163848848,0.30038355324392185,0.4529900208323667,0.6460448305318032,0.8899195369259143,1.197435645544882,1.5843183655724395,2.069658374885231,2.676327595355385,3.431259195388945,4.365454632100089,5.513524725153362,6.9125185459269325,8.599767009948597,10.609507264821852,12.96821154313784,15.688865718853394,18.76492627862166,22.16522555035911,25.831457825390537,29.67975379516304,33.60703439740415,37.50145659251373,41.25485481626224,44.7743355894752,47.99050372438222,50.86101000204786,53.36958422475736,55.521807852091,57.33928276098031,58.85365594116725,60.10145738817569,0.35394300751982044,0.520773207572029,0.7317157191091521,0.9980177363691087,1.333544877015438,1.755242519991798,2.28358819538572,2.9429688578110156,3.7618766358978313,4.772765361930269,6.011353480040415,7.515112058307287,9.320669194487955,11.459939678800376,13.955004490785605,16.812152121244647,20.01601834162925,23.525268980560476,27.27148416025598,31.1625260635973,35.09060489380141,38.94378771519265,42.618460775402326,46.02989480281467,49.11877333795202,51.85294030102588,54.225014401014334,56.247360224714825,57.94605461150759,59.355136737027806,60.5118908292861,0.4125029197201613,0.5948504063028697,0.8252866189890966,1.1159965542126216,1.4819563686500778,1.9413970481903338,2.5162380679528713,3.232411047142909,4.1199487334053995,5.212660239341307,6.547157993783917,8.160965545995722,10.089453983680755,12.361478546870128,14.993866191484162,17.985353772444263,21.31112040556748,24.919491551667377,28.73241257237604,32.65064521900089,36.563363574255206,40.360359936044574,43.94410802245565,47.23898509735872,50.19599621809128,52.79282063968584,55.03022847536295,56.9264901032375,58.51132645544682,59.82049100990861,60.89153287005742,0.4299341773041139,0.6168936836358618,0.8531195952263371,1.151072134769672,1.5260518234123008,1.9966626761390813,2.5852386444050612,3.318149114402665,4.225853387127161,5.342518970010126,6.704963878850685,8.350650674836615,10.314487207195787,12.624327249553176,15.295361856329384,18.324056920535348,21.68283671975407,25.31711841468315,29.14626086395052,33.06927106762285,36.97478646593972,40.753404983507764,44.309562874156896,47.570332145099115,50.48962984432242,53.0478122274891,55.24779725607179,57.10935752011254,58.66309558787884,59.94513448213955,60.993019307799884,0.4299341773041139,0.6168936836358618,0.8531195952263371,1.151072134769672,1.5260518234123008,1.9966626761390813,2.5852386444050612,3.318149114402665,4.225853387127161,5.342518970010126,6.704963878850685,8.350650674836615,10.314487207195787,12.624327249553176,15.295361856329384,18.324056920535348,21.68283671975407,25.31711841468315,29.14626086395052,33.06927106762285,36.97478646593972,40.753404983507764,44.309562874156896,47.570332145099115,50.48962984432242,53.0478122274891,55.24779725607179,57.10935752011254,58.66309558787884,59.94513448213955,60.993019307799884,0.4299341773041139,0.6168936836358618,0.8531195952263371,1.151072134769672,1.5260518234123008,1.9966626761390813,2.5852386444050612,3.318149114402665,4.225853387127161,5.342518970010126,6.704963878850685,8.350650674836615,10.314487207195787,12.624327249553176,15.295361856329384,18.324056920535348,21.68283671975407,25.31711841468315,29.14626086395052,33.06927106762285,36.97478646593972,40.753404983507764,44.309562874156896,47.570332145099115,50.48962984432242,53.0478122274891,55.24779725607179,57.10935752011254,58.66309558787884,59.94513448213955,60.993019307799884,0.4299341773041139,0.6168936836358618,0.8531195952263371,1.151072134769672,1.5260518234123008,1.9966626761390813,2.5852386444050612,3.318149114402665,4.225853387127161,5.342518970010126,6.704963878850685,8.350650674836615,10.314487207195787,12.624327249553176,15.295361856329384,18.324056920535348,21.68283671975407,25.31711841468315,29.14626086395052,33.06927106762285,36.97478646593972,40.753404983507764,44.309562874156896,47.570332145099115,50.48962984432242,53.0478122274891,55.24779725607179,57.10935752011254,58.66309558787884,59.94513448213955,60.993019307799884,0.4299341773041139,0.6168936836358618,0.8531195952263371,1.151072134769672,1.5260518234123008,1.9966626761390813,2.5852386444050612,3.318149114402665,4.225853387127161,5.342518970010126,6.704963878850685,8.350650674836615,10.314487207195787,12.624327249553176,15.295361856329384,18.324056920535348,21.68283671975407,25.31711841468315,29.14626086395052,33.06927106762285,36.97478646593972,40.753404983507764,44.309562874156896,47.570332145099115,50.48962984432242,53.0478122274891,55.24779725607179,57.10935752011254,58.66309558787884,59.94513448213955,60.993019307799884,0.4299341773041139,0.6168936836358618,0.8531195952263371,1.151072134769672,1.5260518234123008,1.9966626761390813,2.5852386444050612,3.318149114402665,4.225853387127161,5.342518970010126,6.704963878850685,8.350650674836615,10.314487207195787,12.624327249553176,15.295361856329384,18.324056920535348,21.68283671975407,25.31711841468315,29.14626086395052,33.06927106762285,36.97478646593972,40.753404983507764,44.309562874156896,47.570332145099115,50.48962984432242,53.0478122274891,55.24779725607179,57.10935752011254,58.66309558787884,59.94513448213955,60.993019307799884],\"type\":\"scatter3d\",\"scene\":\"scene\"},{\"marker\":{\"color\":\"green\",\"size\":0.5},\"mode\":\"markers\",\"name\":\"Equilibrium surface\",\"visible\":true,\"x\":[0.0,2.3333333333333335,4.666666666666667,7.0,9.333333333333334,11.666666666666668,14.0,16.333333333333336,18.666666666666668,21.0,23.333333333333336,25.666666666666668,28.0,30.333333333333336,32.66666666666667,35.0,37.333333333333336,39.66666666666667,42.0,44.333333333333336,46.66666666666667,49.0,51.333333333333336,53.66666666666667,56.0,58.333333333333336,60.66666666666667,63.00000000000001,65.33333333333334,67.66666666666667,70.0,0.0,2.3333333333333335,4.666666666666667,7.0,9.333333333333334,11.666666666666668,14.0,16.333333333333336,18.666666666666668,21.0,23.333333333333336,25.666666666666668,28.0,30.333333333333336,32.66666666666667,35.0,37.333333333333336,39.66666666666667,42.0,44.333333333333336,46.66666666666667,49.0,51.333333333333336,53.66666666666667,56.0,58.333333333333336,60.66666666666667,63.00000000000001,65.33333333333334,67.66666666666667,70.0,0.0,2.3333333333333335,4.666666666666667,7.0,9.333333333333334,11.666666666666668,14.0,16.333333333333336,18.666666666666668,21.0,23.333333333333336,25.666666666666668,28.0,30.333333333333336,32.66666666666667,35.0,37.333333333333336,39.66666666666667,42.0,44.333333333333336,46.66666666666667,49.0,51.333333333333336,53.66666666666667,56.0,58.333333333333336,60.66666666666667,63.00000000000001,65.33333333333334,67.66666666666667,70.0,0.0,2.3333333333333335,4.666666666666667,7.0,9.333333333333334,11.666666666666668,14.0,16.333333333333336,18.666666666666668,21.0,23.333333333333336,25.666666666666668,28.0,30.333333333333336,32.66666666666667,35.0,37.333333333333336,39.66666666666667,42.0,44.333333333333336,46.66666666666667,49.0,51.333333333333336,53.66666666666667,56.0,58.333333333333336,60.66666666666667,63.00000000000001,65.33333333333334,67.66666666666667,70.0,0.0,2.3333333333333335,4.666666666666667,7.0,9.333333333333334,11.666666666666668,14.0,16.333333333333336,18.666666666666668,21.0,23.333333333333336,25.666666666666668,28.0,30.333333333333336,32.66666666666667,35.0,37.333333333333336,39.66666666666667,42.0,44.333333333333336,46.66666666666667,49.0,51.333333333333336,53.66666666666667,56.0,58.333333333333336,60.66666666666667,63.00000000000001,65.33333333333334,67.66666666666667,70.0,0.0,2.3333333333333335,4.666666666666667,7.0,9.333333333333334,11.666666666666668,14.0,16.333333333333336,18.666666666666668,21.0,23.333333333333336,25.666666666666668,28.0,30.333333333333336,32.66666666666667,35.0,37.333333333333336,39.66666666666667,42.0,44.333333333333336,46.66666666666667,49.0,51.333333333333336,53.66666666666667,56.0,58.333333333333336,60.66666666666667,63.00000000000001,65.33333333333334,67.66666666666667,70.0,0.0,2.3333333333333335,4.666666666666667,7.0,9.333333333333334,11.666666666666668,14.0,16.333333333333336,18.666666666666668,21.0,23.333333333333336,25.666666666666668,28.0,30.333333333333336,32.66666666666667,35.0,37.333333333333336,39.66666666666667,42.0,44.333333333333336,46.66666666666667,49.0,51.333333333333336,53.66666666666667,56.0,58.333333333333336,60.66666666666667,63.00000000000001,65.33333333333334,67.66666666666667,70.0,0.0,2.3333333333333335,4.666666666666667,7.0,9.333333333333334,11.666666666666668,14.0,16.333333333333336,18.666666666666668,21.0,23.333333333333336,25.666666666666668,28.0,30.333333333333336,32.66666666666667,35.0,37.333333333333336,39.66666666666667,42.0,44.333333333333336,46.66666666666667,49.0,51.333333333333336,53.66666666666667,56.0,58.333333333333336,60.66666666666667,63.00000000000001,65.33333333333334,67.66666666666667,70.0,0.0,2.3333333333333335,4.666666666666667,7.0,9.333333333333334,11.666666666666668,14.0,16.333333333333336,18.666666666666668,21.0,23.333333333333336,25.666666666666668,28.0,30.333333333333336,32.66666666666667,35.0,37.333333333333336,39.66666666666667,42.0,44.333333333333336,46.66666666666667,49.0,51.333333333333336,53.66666666666667,56.0,58.333333333333336,60.66666666666667,63.00000000000001,65.33333333333334,67.66666666666667,70.0,0.0,2.3333333333333335,4.666666666666667,7.0,9.333333333333334,11.666666666666668,14.0,16.333333333333336,18.666666666666668,21.0,23.333333333333336,25.666666666666668,28.0,30.333333333333336,32.66666666666667,35.0,37.333333333333336,39.66666666666667,42.0,44.333333333333336,46.66666666666667,49.0,51.333333333333336,53.66666666666667,56.0,58.333333333333336,60.66666666666667,63.00000000000001,65.33333333333334,67.66666666666667,70.0,0.0,2.3333333333333335,4.666666666666667,7.0,9.333333333333334,11.666666666666668,14.0,16.333333333333336,18.666666666666668,21.0,23.333333333333336,25.666666666666668,28.0,30.333333333333336,32.66666666666667,35.0,37.333333333333336,39.66666666666667,42.0,44.333333333333336,46.66666666666667,49.0,51.333333333333336,53.66666666666667,56.0,58.333333333333336,60.66666666666667,63.00000000000001,65.33333333333334,67.66666666666667,70.0,0.0,2.3333333333333335,4.666666666666667,7.0,9.333333333333334,11.666666666666668,14.0,16.333333333333336,18.666666666666668,21.0,23.333333333333336,25.666666666666668,28.0,30.333333333333336,32.66666666666667,35.0,37.333333333333336,39.66666666666667,42.0,44.333333333333336,46.66666666666667,49.0,51.333333333333336,53.66666666666667,56.0,58.333333333333336,60.66666666666667,63.00000000000001,65.33333333333334,67.66666666666667,70.0,0.0,2.3333333333333335,4.666666666666667,7.0,9.333333333333334,11.666666666666668,14.0,16.333333333333336,18.666666666666668,21.0,23.333333333333336,25.666666666666668,28.0,30.333333333333336,32.66666666666667,35.0,37.333333333333336,39.66666666666667,42.0,44.333333333333336,46.66666666666667,49.0,51.333333333333336,53.66666666666667,56.0,58.333333333333336,60.66666666666667,63.00000000000001,65.33333333333334,67.66666666666667,70.0,0.0,2.3333333333333335,4.666666666666667,7.0,9.333333333333334,11.666666666666668,14.0,16.333333333333336,18.666666666666668,21.0,23.333333333333336,25.666666666666668,28.0,30.333333333333336,32.66666666666667,35.0,37.333333333333336,39.66666666666667,42.0,44.333333333333336,46.66666666666667,49.0,51.333333333333336,53.66666666666667,56.0,58.333333333333336,60.66666666666667,63.00000000000001,65.33333333333334,67.66666666666667,70.0,0.0,2.3333333333333335,4.666666666666667,7.0,9.333333333333334,11.666666666666668,14.0,16.333333333333336,18.666666666666668,21.0,23.333333333333336,25.666666666666668,28.0,30.333333333333336,32.66666666666667,35.0,37.333333333333336,39.66666666666667,42.0,44.333333333333336,46.66666666666667,49.0,51.333333333333336,53.66666666666667,56.0,58.333333333333336,60.66666666666667,63.00000000000001,65.33333333333334,67.66666666666667,70.0,0.0,2.3333333333333335,4.666666666666667,7.0,9.333333333333334,11.666666666666668,14.0,16.333333333333336,18.666666666666668,21.0,23.333333333333336,25.666666666666668,28.0,30.333333333333336,32.66666666666667,35.0,37.333333333333336,39.66666666666667,42.0,44.333333333333336,46.66666666666667,49.0,51.333333333333336,53.66666666666667,56.0,58.333333333333336,60.66666666666667,63.00000000000001,65.33333333333334,67.66666666666667,70.0,0.0,2.3333333333333335,4.666666666666667,7.0,9.333333333333334,11.666666666666668,14.0,16.333333333333336,18.666666666666668,21.0,23.333333333333336,25.666666666666668,28.0,30.333333333333336,32.66666666666667,35.0,37.333333333333336,39.66666666666667,42.0,44.333333333333336,46.66666666666667,49.0,51.333333333333336,53.66666666666667,56.0,58.333333333333336,60.66666666666667,63.00000000000001,65.33333333333334,67.66666666666667,70.0,0.0,2.3333333333333335,4.666666666666667,7.0,9.333333333333334,11.666666666666668,14.0,16.333333333333336,18.666666666666668,21.0,23.333333333333336,25.666666666666668,28.0,30.333333333333336,32.66666666666667,35.0,37.333333333333336,39.66666666666667,42.0,44.333333333333336,46.66666666666667,49.0,51.333333333333336,53.66666666666667,56.0,58.333333333333336,60.66666666666667,63.00000000000001,65.33333333333334,67.66666666666667,70.0,0.0,2.3333333333333335,4.666666666666667,7.0,9.333333333333334,11.666666666666668,14.0,16.333333333333336,18.666666666666668,21.0,23.333333333333336,25.666666666666668,28.0,30.333333333333336,32.66666666666667,35.0,37.333333333333336,39.66666666666667,42.0,44.333333333333336,46.66666666666667,49.0,51.333333333333336,53.66666666666667,56.0,58.333333333333336,60.66666666666667,63.00000000000001,65.33333333333334,67.66666666666667,70.0,0.0,2.3333333333333335,4.666666666666667,7.0,9.333333333333334,11.666666666666668,14.0,16.333333333333336,18.666666666666668,21.0,23.333333333333336,25.666666666666668,28.0,30.333333333333336,32.66666666666667,35.0,37.333333333333336,39.66666666666667,42.0,44.333333333333336,46.66666666666667,49.0,51.333333333333336,53.66666666666667,56.0,58.333333333333336,60.66666666666667,63.00000000000001,65.33333333333334,67.66666666666667,70.0,0.0,2.3333333333333335,4.666666666666667,7.0,9.333333333333334,11.666666666666668,14.0,16.333333333333336,18.666666666666668,21.0,23.333333333333336,25.666666666666668,28.0,30.333333333333336,32.66666666666667,35.0,37.333333333333336,39.66666666666667,42.0,44.333333333333336,46.66666666666667,49.0,51.333333333333336,53.66666666666667,56.0,58.333333333333336,60.66666666666667,63.00000000000001,65.33333333333334,67.66666666666667,70.0,0.0,2.3333333333333335,4.666666666666667,7.0,9.333333333333334,11.666666666666668,14.0,16.333333333333336,18.666666666666668,21.0,23.333333333333336,25.666666666666668,28.0,30.333333333333336,32.66666666666667,35.0,37.333333333333336,39.66666666666667,42.0,44.333333333333336,46.66666666666667,49.0,51.333333333333336,53.66666666666667,56.0,58.333333333333336,60.66666666666667,63.00000000000001,65.33333333333334,67.66666666666667,70.0,0.0,2.3333333333333335,4.666666666666667,7.0,9.333333333333334,11.666666666666668,14.0,16.333333333333336,18.666666666666668,21.0,23.333333333333336,25.666666666666668,28.0,30.333333333333336,32.66666666666667,35.0,37.333333333333336,39.66666666666667,42.0,44.333333333333336,46.66666666666667,49.0,51.333333333333336,53.66666666666667,56.0,58.333333333333336,60.66666666666667,63.00000000000001,65.33333333333334,67.66666666666667,70.0,0.0,2.3333333333333335,4.666666666666667,7.0,9.333333333333334,11.666666666666668,14.0,16.333333333333336,18.666666666666668,21.0,23.333333333333336,25.666666666666668,28.0,30.333333333333336,32.66666666666667,35.0,37.333333333333336,39.66666666666667,42.0,44.333333333333336,46.66666666666667,49.0,51.333333333333336,53.66666666666667,56.0,58.333333333333336,60.66666666666667,63.00000000000001,65.33333333333334,67.66666666666667,70.0,0.0,2.3333333333333335,4.666666666666667,7.0,9.333333333333334,11.666666666666668,14.0,16.333333333333336,18.666666666666668,21.0,23.333333333333336,25.666666666666668,28.0,30.333333333333336,32.66666666666667,35.0,37.333333333333336,39.66666666666667,42.0,44.333333333333336,46.66666666666667,49.0,51.333333333333336,53.66666666666667,56.0,58.333333333333336,60.66666666666667,63.00000000000001,65.33333333333334,67.66666666666667,70.0,0.0,2.3333333333333335,4.666666666666667,7.0,9.333333333333334,11.666666666666668,14.0,16.333333333333336,18.666666666666668,21.0,23.333333333333336,25.666666666666668,28.0,30.333333333333336,32.66666666666667,35.0,37.333333333333336,39.66666666666667,42.0,44.333333333333336,46.66666666666667,49.0,51.333333333333336,53.66666666666667,56.0,58.333333333333336,60.66666666666667,63.00000000000001,65.33333333333334,67.66666666666667,70.0,0.0,2.3333333333333335,4.666666666666667,7.0,9.333333333333334,11.666666666666668,14.0,16.333333333333336,18.666666666666668,21.0,23.333333333333336,25.666666666666668,28.0,30.333333333333336,32.66666666666667,35.0,37.333333333333336,39.66666666666667,42.0,44.333333333333336,46.66666666666667,49.0,51.333333333333336,53.66666666666667,56.0,58.333333333333336,60.66666666666667,63.00000000000001,65.33333333333334,67.66666666666667,70.0,0.0,2.3333333333333335,4.666666666666667,7.0,9.333333333333334,11.666666666666668,14.0,16.333333333333336,18.666666666666668,21.0,23.333333333333336,25.666666666666668,28.0,30.333333333333336,32.66666666666667,35.0,37.333333333333336,39.66666666666667,42.0,44.333333333333336,46.66666666666667,49.0,51.333333333333336,53.66666666666667,56.0,58.333333333333336,60.66666666666667,63.00000000000001,65.33333333333334,67.66666666666667,70.0,0.0,2.3333333333333335,4.666666666666667,7.0,9.333333333333334,11.666666666666668,14.0,16.333333333333336,18.666666666666668,21.0,23.333333333333336,25.666666666666668,28.0,30.333333333333336,32.66666666666667,35.0,37.333333333333336,39.66666666666667,42.0,44.333333333333336,46.66666666666667,49.0,51.333333333333336,53.66666666666667,56.0,58.333333333333336,60.66666666666667,63.00000000000001,65.33333333333334,67.66666666666667,70.0,0.0,2.3333333333333335,4.666666666666667,7.0,9.333333333333334,11.666666666666668,14.0,16.333333333333336,18.666666666666668,21.0,23.333333333333336,25.666666666666668,28.0,30.333333333333336,32.66666666666667,35.0,37.333333333333336,39.66666666666667,42.0,44.333333333333336,46.66666666666667,49.0,51.333333333333336,53.66666666666667,56.0,58.333333333333336,60.66666666666667,63.00000000000001,65.33333333333334,67.66666666666667,70.0,0.0,2.3333333333333335,4.666666666666667,7.0,9.333333333333334,11.666666666666668,14.0,16.333333333333336,18.666666666666668,21.0,23.333333333333336,25.666666666666668,28.0,30.333333333333336,32.66666666666667,35.0,37.333333333333336,39.66666666666667,42.0,44.333333333333336,46.66666666666667,49.0,51.333333333333336,53.66666666666667,56.0,58.333333333333336,60.66666666666667,63.00000000000001,65.33333333333334,67.66666666666667,70.0],\"y\":[0.0,0.0,0.0,0.0,0.0,0.0,0.0,0.0,0.0,0.0,0.0,0.0,0.0,0.0,0.0,0.0,0.0,0.0,0.0,0.0,0.0,0.0,0.0,0.0,0.0,0.0,0.0,0.0,0.0,0.0,0.0,0.8333333333333334,0.8333333333333334,0.8333333333333334,0.8333333333333334,0.8333333333333334,0.8333333333333334,0.8333333333333334,0.8333333333333334,0.8333333333333334,0.8333333333333334,0.8333333333333334,0.8333333333333334,0.8333333333333334,0.8333333333333334,0.8333333333333334,0.8333333333333334,0.8333333333333334,0.8333333333333334,0.8333333333333334,0.8333333333333334,0.8333333333333334,0.8333333333333334,0.8333333333333334,0.8333333333333334,0.8333333333333334,0.8333333333333334,0.8333333333333334,0.8333333333333334,0.8333333333333334,0.8333333333333334,0.8333333333333334,1.6666666666666667,1.6666666666666667,1.6666666666666667,1.6666666666666667,1.6666666666666667,1.6666666666666667,1.6666666666666667,1.6666666666666667,1.6666666666666667,1.6666666666666667,1.6666666666666667,1.6666666666666667,1.6666666666666667,1.6666666666666667,1.6666666666666667,1.6666666666666667,1.6666666666666667,1.6666666666666667,1.6666666666666667,1.6666666666666667,1.6666666666666667,1.6666666666666667,1.6666666666666667,1.6666666666666667,1.6666666666666667,1.6666666666666667,1.6666666666666667,1.6666666666666667,1.6666666666666667,1.6666666666666667,1.6666666666666667,2.5,2.5,2.5,2.5,2.5,2.5,2.5,2.5,2.5,2.5,2.5,2.5,2.5,2.5,2.5,2.5,2.5,2.5,2.5,2.5,2.5,2.5,2.5,2.5,2.5,2.5,2.5,2.5,2.5,2.5,2.5,3.3333333333333335,3.3333333333333335,3.3333333333333335,3.3333333333333335,3.3333333333333335,3.3333333333333335,3.3333333333333335,3.3333333333333335,3.3333333333333335,3.3333333333333335,3.3333333333333335,3.3333333333333335,3.3333333333333335,3.3333333333333335,3.3333333333333335,3.3333333333333335,3.3333333333333335,3.3333333333333335,3.3333333333333335,3.3333333333333335,3.3333333333333335,3.3333333333333335,3.3333333333333335,3.3333333333333335,3.3333333333333335,3.3333333333333335,3.3333333333333335,3.3333333333333335,3.3333333333333335,3.3333333333333335,3.3333333333333335,4.166666666666667,4.166666666666667,4.166666666666667,4.166666666666667,4.166666666666667,4.166666666666667,4.166666666666667,4.166666666666667,4.166666666666667,4.166666666666667,4.166666666666667,4.166666666666667,4.166666666666667,4.166666666666667,4.166666666666667,4.166666666666667,4.166666666666667,4.166666666666667,4.166666666666667,4.166666666666667,4.166666666666667,4.166666666666667,4.166666666666667,4.166666666666667,4.166666666666667,4.166666666666667,4.166666666666667,4.166666666666667,4.166666666666667,4.166666666666667,4.166666666666667,5.0,5.0,5.0,5.0,5.0,5.0,5.0,5.0,5.0,5.0,5.0,5.0,5.0,5.0,5.0,5.0,5.0,5.0,5.0,5.0,5.0,5.0,5.0,5.0,5.0,5.0,5.0,5.0,5.0,5.0,5.0,5.833333333333334,5.833333333333334,5.833333333333334,5.833333333333334,5.833333333333334,5.833333333333334,5.833333333333334,5.833333333333334,5.833333333333334,5.833333333333334,5.833333333333334,5.833333333333334,5.833333333333334,5.833333333333334,5.833333333333334,5.833333333333334,5.833333333333334,5.833333333333334,5.833333333333334,5.833333333333334,5.833333333333334,5.833333333333334,5.833333333333334,5.833333333333334,5.833333333333334,5.833333333333334,5.833333333333334,5.833333333333334,5.833333333333334,5.833333333333334,5.833333333333334,6.666666666666667,6.666666666666667,6.666666666666667,6.666666666666667,6.666666666666667,6.666666666666667,6.666666666666667,6.666666666666667,6.666666666666667,6.666666666666667,6.666666666666667,6.666666666666667,6.666666666666667,6.666666666666667,6.666666666666667,6.666666666666667,6.666666666666667,6.666666666666667,6.666666666666667,6.666666666666667,6.666666666666667,6.666666666666667,6.666666666666667,6.666666666666667,6.666666666666667,6.666666666666667,6.666666666666667,6.666666666666667,6.666666666666667,6.666666666666667,6.666666666666667,7.5,7.5,7.5,7.5,7.5,7.5,7.5,7.5,7.5,7.5,7.5,7.5,7.5,7.5,7.5,7.5,7.5,7.5,7.5,7.5,7.5,7.5,7.5,7.5,7.5,7.5,7.5,7.5,7.5,7.5,7.5,8.333333333333334,8.333333333333334,8.333333333333334,8.333333333333334,8.333333333333334,8.333333333333334,8.333333333333334,8.333333333333334,8.333333333333334,8.333333333333334,8.333333333333334,8.333333333333334,8.333333333333334,8.333333333333334,8.333333333333334,8.333333333333334,8.333333333333334,8.333333333333334,8.333333333333334,8.333333333333334,8.333333333333334,8.333333333333334,8.333333333333334,8.333333333333334,8.333333333333334,8.333333333333334,8.333333333333334,8.333333333333334,8.333333333333334,8.333333333333334,8.333333333333334,9.166666666666668,9.166666666666668,9.166666666666668,9.166666666666668,9.166666666666668,9.166666666666668,9.166666666666668,9.166666666666668,9.166666666666668,9.166666666666668,9.166666666666668,9.166666666666668,9.166666666666668,9.166666666666668,9.166666666666668,9.166666666666668,9.166666666666668,9.166666666666668,9.166666666666668,9.166666666666668,9.166666666666668,9.166666666666668,9.166666666666668,9.166666666666668,9.166666666666668,9.166666666666668,9.166666666666668,9.166666666666668,9.166666666666668,9.166666666666668,9.166666666666668,10.0,10.0,10.0,10.0,10.0,10.0,10.0,10.0,10.0,10.0,10.0,10.0,10.0,10.0,10.0,10.0,10.0,10.0,10.0,10.0,10.0,10.0,10.0,10.0,10.0,10.0,10.0,10.0,10.0,10.0,10.0,10.833333333333334,10.833333333333334,10.833333333333334,10.833333333333334,10.833333333333334,10.833333333333334,10.833333333333334,10.833333333333334,10.833333333333334,10.833333333333334,10.833333333333334,10.833333333333334,10.833333333333334,10.833333333333334,10.833333333333334,10.833333333333334,10.833333333333334,10.833333333333334,10.833333333333334,10.833333333333334,10.833333333333334,10.833333333333334,10.833333333333334,10.833333333333334,10.833333333333334,10.833333333333334,10.833333333333334,10.833333333333334,10.833333333333334,10.833333333333334,10.833333333333334,11.666666666666668,11.666666666666668,11.666666666666668,11.666666666666668,11.666666666666668,11.666666666666668,11.666666666666668,11.666666666666668,11.666666666666668,11.666666666666668,11.666666666666668,11.666666666666668,11.666666666666668,11.666666666666668,11.666666666666668,11.666666666666668,11.666666666666668,11.666666666666668,11.666666666666668,11.666666666666668,11.666666666666668,11.666666666666668,11.666666666666668,11.666666666666668,11.666666666666668,11.666666666666668,11.666666666666668,11.666666666666668,11.666666666666668,11.666666666666668,11.666666666666668,12.5,12.5,12.5,12.5,12.5,12.5,12.5,12.5,12.5,12.5,12.5,12.5,12.5,12.5,12.5,12.5,12.5,12.5,12.5,12.5,12.5,12.5,12.5,12.5,12.5,12.5,12.5,12.5,12.5,12.5,12.5,13.333333333333334,13.333333333333334,13.333333333333334,13.333333333333334,13.333333333333334,13.333333333333334,13.333333333333334,13.333333333333334,13.333333333333334,13.333333333333334,13.333333333333334,13.333333333333334,13.333333333333334,13.333333333333334,13.333333333333334,13.333333333333334,13.333333333333334,13.333333333333334,13.333333333333334,13.333333333333334,13.333333333333334,13.333333333333334,13.333333333333334,13.333333333333334,13.333333333333334,13.333333333333334,13.333333333333334,13.333333333333334,13.333333333333334,13.333333333333334,13.333333333333334,14.166666666666668,14.166666666666668,14.166666666666668,14.166666666666668,14.166666666666668,14.166666666666668,14.166666666666668,14.166666666666668,14.166666666666668,14.166666666666668,14.166666666666668,14.166666666666668,14.166666666666668,14.166666666666668,14.166666666666668,14.166666666666668,14.166666666666668,14.166666666666668,14.166666666666668,14.166666666666668,14.166666666666668,14.166666666666668,14.166666666666668,14.166666666666668,14.166666666666668,14.166666666666668,14.166666666666668,14.166666666666668,14.166666666666668,14.166666666666668,14.166666666666668,15.0,15.0,15.0,15.0,15.0,15.0,15.0,15.0,15.0,15.0,15.0,15.0,15.0,15.0,15.0,15.0,15.0,15.0,15.0,15.0,15.0,15.0,15.0,15.0,15.0,15.0,15.0,15.0,15.0,15.0,15.0,15.833333333333334,15.833333333333334,15.833333333333334,15.833333333333334,15.833333333333334,15.833333333333334,15.833333333333334,15.833333333333334,15.833333333333334,15.833333333333334,15.833333333333334,15.833333333333334,15.833333333333334,15.833333333333334,15.833333333333334,15.833333333333334,15.833333333333334,15.833333333333334,15.833333333333334,15.833333333333334,15.833333333333334,15.833333333333334,15.833333333333334,15.833333333333334,15.833333333333334,15.833333333333334,15.833333333333334,15.833333333333334,15.833333333333334,15.833333333333334,15.833333333333334,16.666666666666668,16.666666666666668,16.666666666666668,16.666666666666668,16.666666666666668,16.666666666666668,16.666666666666668,16.666666666666668,16.666666666666668,16.666666666666668,16.666666666666668,16.666666666666668,16.666666666666668,16.666666666666668,16.666666666666668,16.666666666666668,16.666666666666668,16.666666666666668,16.666666666666668,16.666666666666668,16.666666666666668,16.666666666666668,16.666666666666668,16.666666666666668,16.666666666666668,16.666666666666668,16.666666666666668,16.666666666666668,16.666666666666668,16.666666666666668,16.666666666666668,17.5,17.5,17.5,17.5,17.5,17.5,17.5,17.5,17.5,17.5,17.5,17.5,17.5,17.5,17.5,17.5,17.5,17.5,17.5,17.5,17.5,17.5,17.5,17.5,17.5,17.5,17.5,17.5,17.5,17.5,17.5,18.333333333333336,18.333333333333336,18.333333333333336,18.333333333333336,18.333333333333336,18.333333333333336,18.333333333333336,18.333333333333336,18.333333333333336,18.333333333333336,18.333333333333336,18.333333333333336,18.333333333333336,18.333333333333336,18.333333333333336,18.333333333333336,18.333333333333336,18.333333333333336,18.333333333333336,18.333333333333336,18.333333333333336,18.333333333333336,18.333333333333336,18.333333333333336,18.333333333333336,18.333333333333336,18.333333333333336,18.333333333333336,18.333333333333336,18.333333333333336,18.333333333333336,19.166666666666668,19.166666666666668,19.166666666666668,19.166666666666668,19.166666666666668,19.166666666666668,19.166666666666668,19.166666666666668,19.166666666666668,19.166666666666668,19.166666666666668,19.166666666666668,19.166666666666668,19.166666666666668,19.166666666666668,19.166666666666668,19.166666666666668,19.166666666666668,19.166666666666668,19.166666666666668,19.166666666666668,19.166666666666668,19.166666666666668,19.166666666666668,19.166666666666668,19.166666666666668,19.166666666666668,19.166666666666668,19.166666666666668,19.166666666666668,19.166666666666668,20.0,20.0,20.0,20.0,20.0,20.0,20.0,20.0,20.0,20.0,20.0,20.0,20.0,20.0,20.0,20.0,20.0,20.0,20.0,20.0,20.0,20.0,20.0,20.0,20.0,20.0,20.0,20.0,20.0,20.0,20.0,20.833333333333336,20.833333333333336,20.833333333333336,20.833333333333336,20.833333333333336,20.833333333333336,20.833333333333336,20.833333333333336,20.833333333333336,20.833333333333336,20.833333333333336,20.833333333333336,20.833333333333336,20.833333333333336,20.833333333333336,20.833333333333336,20.833333333333336,20.833333333333336,20.833333333333336,20.833333333333336,20.833333333333336,20.833333333333336,20.833333333333336,20.833333333333336,20.833333333333336,20.833333333333336,20.833333333333336,20.833333333333336,20.833333333333336,20.833333333333336,20.833333333333336,21.666666666666668,21.666666666666668,21.666666666666668,21.666666666666668,21.666666666666668,21.666666666666668,21.666666666666668,21.666666666666668,21.666666666666668,21.666666666666668,21.666666666666668,21.666666666666668,21.666666666666668,21.666666666666668,21.666666666666668,21.666666666666668,21.666666666666668,21.666666666666668,21.666666666666668,21.666666666666668,21.666666666666668,21.666666666666668,21.666666666666668,21.666666666666668,21.666666666666668,21.666666666666668,21.666666666666668,21.666666666666668,21.666666666666668,21.666666666666668,21.666666666666668,22.5,22.5,22.5,22.5,22.5,22.5,22.5,22.5,22.5,22.5,22.5,22.5,22.5,22.5,22.5,22.5,22.5,22.5,22.5,22.5,22.5,22.5,22.5,22.5,22.5,22.5,22.5,22.5,22.5,22.5,22.5,23.333333333333336,23.333333333333336,23.333333333333336,23.333333333333336,23.333333333333336,23.333333333333336,23.333333333333336,23.333333333333336,23.333333333333336,23.333333333333336,23.333333333333336,23.333333333333336,23.333333333333336,23.333333333333336,23.333333333333336,23.333333333333336,23.333333333333336,23.333333333333336,23.333333333333336,23.333333333333336,23.333333333333336,23.333333333333336,23.333333333333336,23.333333333333336,23.333333333333336,23.333333333333336,23.333333333333336,23.333333333333336,23.333333333333336,23.333333333333336,23.333333333333336,24.166666666666668,24.166666666666668,24.166666666666668,24.166666666666668,24.166666666666668,24.166666666666668,24.166666666666668,24.166666666666668,24.166666666666668,24.166666666666668,24.166666666666668,24.166666666666668,24.166666666666668,24.166666666666668,24.166666666666668,24.166666666666668,24.166666666666668,24.166666666666668,24.166666666666668,24.166666666666668,24.166666666666668,24.166666666666668,24.166666666666668,24.166666666666668,24.166666666666668,24.166666666666668,24.166666666666668,24.166666666666668,24.166666666666668,24.166666666666668,24.166666666666668,25.0,25.0,25.0,25.0,25.0,25.0,25.0,25.0,25.0,25.0,25.0,25.0,25.0,25.0,25.0,25.0,25.0,25.0,25.0,25.0,25.0,25.0,25.0,25.0,25.0,25.0,25.0,25.0,25.0,25.0,25.0],\"z\":[5.214211033088409,5.214233100366512,5.2142664473455405,5.214316859762466,5.214393123042409,5.214508628201958,5.214683916872822,5.214950835028421,5.215359609445507,5.215991615466339,5.216984046071107,5.218581101674422,5.221247259354195,5.225930609582665,5.234693783354623,5.25223294735025,5.289395631518655,5.370219622135844,5.53991999169575,5.8495604717742715,6.278732736809987,6.699633886561362,7.0263651522247725,7.2900285856380656,7.555306130245492,7.867782343471273,8.248639831446242,8.696898629109914,9.190937544399251,9.694002536414612,10.165718045385297,5.214227460549903,5.2142579139820695,5.214303931596708,5.214373493505999,5.214478712106411,5.214638036441357,5.214879733848412,5.215247543374403,5.215810238132798,5.216678720605961,5.218038712732548,5.2202178999507804,5.2238331729083765,5.230130334519897,5.241791713222937,5.264857437334769,5.313055857161239,5.415806961364565,5.62399549531498,5.980702892121791,6.434805772580842,6.852451785233222,7.181748765365649,7.472269910349093,7.78512778716002,8.155768781743987,8.592590857857578,9.080205706813054,9.585154073434195,10.066998920799923,10.49173091441277,5.214250131901826,5.214292158494657,5.214355661280285,5.214451647240925,5.214596816290605,5.214816587809105,5.215149865363731,5.215656735516543,5.216431398950566,5.2176250798303965,5.219489380276746,5.222464401268293,5.227370173934062,5.2358446711120585,5.251375880053075,5.281721150189033,5.344172148885825,5.474263598364228,5.727130919340985,6.131404739114625,6.605387045208672,7.022905099499274,7.366237001105166,7.695016163999196,8.062006099886652,8.489156616160955,8.969698516335145,9.474929570913371,9.965392703250089,10.40490610116732,10.77113752805153,5.21428142031229,5.214339418165297,5.214427049916664,5.214559497668381,5.2147597868701485,5.215062942331167,5.215522510599817,5.216221048479543,5.217287619465973,5.218928514006227,5.221484779265625,5.225547901875435,5.23220864043566,5.243621258986911,5.264319319909444,5.304244149681165,5.385039300124765,5.548899959047775,5.852568956674442,6.30345451713772,6.793998245256014,7.2179975721020515,7.587277274370226,7.963047262680584,8.385101322973195,8.859140251279118,9.363490419032097,9.861102648882994,10.314438508244576,10.697810918080823,11.001987548232378,5.214324600862515,5.21440463929915,5.214525567874256,5.214708327430843,5.214984664980547,5.215402841116415,5.216036559678044,5.216999260120389,5.218467798446829,5.220723654838487,5.224229287230191,5.2297799713350015,5.238827014750685,5.2542034324854985,5.2817958106265355,5.334304893837889,5.438598120438406,5.643683482456694,6.003805397598288,6.4992749635946945,7.00567414647122,7.445115914531593,7.850698593893753,8.277170947422448,8.747532709760618,9.25073222089727,9.754260066211122,10.220410547834614,10.620587926248538,10.942151150762527,11.187015552828775,5.214384193240266,5.214494647661299,5.214661523474817,5.214913704034835,5.215294960400781,5.215871788977664,5.216745636661429,5.218072376487552,5.220094358719882,5.223195680372043,5.22800348598332,5.2355871060903425,5.247877272210413,5.268597078869988,5.305376172022864,5.374369594681937,5.508566983216405,5.763259165388442,6.1845760317214005,6.7221508776309795,7.246455735659163,7.710711154443449,8.158898215625449,8.632480127879491,9.136001909756937,9.644811256129888,10.122861521563863,10.539432846335703,10.878570071630321,11.139539261121918,11.33174099196901,5.214466434574597,5.214618862291228,5.214849140369903,5.2151971054375315,5.215723103131987,5.216518749100388,5.217723661847746,5.219551993033297,5.22233578767042,5.226599062712777,5.233192057109374,5.243551952488861,5.2602452166483,5.28815733466572,5.337148423141961,5.427641261657209,5.599559634861105,5.912897771487522,6.398814622742075,6.97615868750831,7.522288705526697,8.01849864548188,8.508973185264527,9.017555026273737,9.532295171989276,10.021701809692738,10.454279297067401,10.811122456312127,11.088725745705897,11.294902771969774,11.442796247405749,5.214579931771153,5.2147902801200345,5.215108043234597,5.2155881607777115,5.216313820538403,5.217411227675694,5.219072495421529,5.221591758885836,5.225423773349371,5.231283052736813,5.240321398385079,5.254468206678355,5.277129219322019,5.314698230537871,5.379861272838346,5.49821584322221,5.717149724099274,6.098319601510768,6.650487724775789,7.265567967600044,7.837323533227469,8.367470989590732,8.89155428730946,9.415411510033794,9.916540524242649,10.364965620940023,10.739658513601222,11.034407242539817,11.255249495714324,11.41470363227793,11.526769331395082,5.214736561370616,5.2150268338510095,5.215465305900816,5.216127737601597,5.217128786229437,5.218642263997561,5.2209324244047695,5.22440305738396,5.229676532951501,5.2377261243908775,5.250109899034472,5.269412711538976,5.3001407421396864,5.350626138682809,5.4370833975728345,5.591216067636918,5.867814518395795,6.325317394384547,6.94314640392175,7.5935747478479785,8.191856589427253,8.750391672984017,9.291207252007442,9.806345447295682,10.27110229516521,10.663951429533586,10.976387426125115,11.212601534042514,11.384330500345946,11.50562768547548,11.589560461621495,5.21495271062105,5.215353264081919,5.215958273658773,5.2168721926469335,5.218253013383794,5.22034002596937,5.223496518407523,5.228276380388516,5.235530405307684,5.246582152017895,5.2635342822797675,5.289838216252907,5.331428343588329,5.399092389781787,5.513357393974084,5.712846309499792,6.058655447180535,6.59907988355616,7.279022590946141,7.960469116629166,8.580511585669099,9.153651391775986,9.688790351244755,10.171806171399343,10.58359515450544,10.914403372517086,11.166750437991027,11.351507762000868,11.48269275391689,11.57380767649163,11.636122314576742,5.215250988709982,5.215803699418826,5.21663845007693,5.217899219538849,5.219803635287093,5.2226809552407305,5.22703022027587,5.233610324895851,5.2435823197789055,5.258741604535109,5.281915542087942,5.3176891042391095,5.3738225254730425,5.464149337125214,5.614304041913635,5.870273527261803,6.296763423579053,6.923125543891701,7.657624379609103,8.361724798175374,8.991544579585462,9.559070964817066,10.0651817178517,10.497797092837748,10.84804606610992,11.117428902983217,11.316038845322971,11.457817436417841,11.556675265260873,11.624471679077281,11.67043623841047,5.215662585434565,5.216425210425729,5.217576845523803,5.21931588344533,5.2219419419709325,5.22590772393619,5.231897964354362,5.24095066649541,5.254646289258499,5.275411293450496,5.307027233509249,5.355538984907086,5.430989623719043,5.550874397899639,5.746597652240784,6.071197531906625,6.588102781942249,7.29784775843494,8.074100914136867,8.786868112144676,9.408017031909353,9.947353592207824,10.404967996805581,10.776598241951167,11.064248336540267,11.27767571018881,11.430829891172664,11.53804174574729,11.611776543456674,11.66186674080938,11.695608672152598,5.216230520677454,5.217282701353971,5.2188713288403745,5.22126964180175,5.224889837672346,5.230353667020712,5.238599122795842,5.2510425121597395,5.269827430821623,5.298215763619685,5.341226242544554,5.406741506772562,5.5075660783243325,5.665395650034832,5.917690622710799,6.322953540114464,6.935881736662408,7.718902042900378,8.518059345243886,9.220009164249442,9.81082867237204,10.301940576945402,10.698710748639625,11.006571476797841,11.236069489323091,11.401514319227559,11.517764383628485,11.597940089370573,11.652515672954662,11.68933089413069,11.714013120529454,5.217014118097829,5.21846563632872,5.220656716696668,5.223963425149444,5.228952261564745,5.236475841149421,5.247816130971884,5.264898966497504,5.290616827023461,5.329321432702535,5.387600010582493,5.475571380083875,5.609216951012954,5.81471191540874,6.13513292280269,6.631041716151449,7.3386128449172,8.176003496507631,8.973718015737344,9.642324651047522,10.182586743361526,10.611776053275676,10.943256968775255,11.19067010123115,11.369571844570011,11.495663830781385,11.582847879351236,11.64230776029148,11.682473256664155,11.709427782477317,11.727436274286266,5.218095158495484,5.220097274823983,5.223118590266441,5.227676205971207,5.234547578317036,5.244899406258381,5.260478128207238,5.283889759925161,5.3190090992760695,5.3715796264774,5.450112037541133,5.5673083533721766,5.742524348236635,6.006162784443506,6.405352081560073,6.99716756345793,7.788427395881023,8.652935464654385,9.42191414206742,10.035757967757059,10.510782716293305,10.872159392619283,11.140524605471231,11.33454130204194,11.471493139855134,11.566355630812184,11.631153492752254,11.674978242656104,11.7044148936675,11.724094332648662,11.737208844004577,5.219586332537593,5.222347327607615,5.226512159467404,5.23279092372135,5.242248479127076,5.25647654659466,5.277843624716699,5.309852292274609,5.3576406244854065,5.428674474891694,5.533706276997897,5.688181426262322,5.914571210359519,6.2464039965988984,6.731895100723916,7.417225846666606,8.270508881462455,9.129356443332366,9.843555296541481,10.386467950392568,10.789192744563007,11.083879520993516,11.295640104555176,11.444875287623487,11.54826472829707,11.618939441635217,11.666777041859142,11.698931038131285,11.720438552723108,11.73477695499038,11.744314380025635,5.2216428312279515,5.2254492525563565,5.23118791100576,5.239832152405429,5.252836474810988,5.27236344556041,5.301605075626713,5.345224468677239,5.4099378769046815,5.505243254950913,5.644298599613176,5.845049328749997,6.132071112068302,6.539839869854678,7.113430039354814,7.880043768358535,8.764411544414056,9.58420045422914,10.223213991761511,10.686732474012125,11.01742254461136,11.251448805500804,11.415177721441278,11.528273014495106,11.605508958912385,11.657781914795645,11.692923954323573,11.716436441002106,11.732115440354313,11.742546743416344,11.749475848564842,5.224478199265847,5.229723801323859,5.2376262753184495,5.24951644667958,5.267373452238617,5.294118493829426,5.334015892632478,5.39319176698633,5.480249604265888,5.60690750763518,5.788542635224703,6.04466740206347,6.3999581089762545,6.886713353236471,7.542192403108103,8.367795468537441,9.247311473804912,9.999525642584317,10.551455910978559,10.934934641264235,11.1993016611346,11.381262798253715,11.50587602844966,11.590623483828274,11.647871018483583,11.68632653404132,11.71204863537849,11.729200124617229,11.740611486336594,11.748192090661494,11.753222564478033,5.228385943881064,5.235610905042891,5.246484096482259,5.262818758652346,5.2872936662868195,5.323823165903068,5.378034793113637,5.4578275660938695,5.573910487409867,5.740113903875602,5.973223705966408,6.292426310608041,6.719554806913204,7.281428350709251,8.003775413557555,8.858489614677788,9.698199917623587,10.363335567094445,10.825257180279234,11.134170050257245,11.34100083842161,11.480170026429658,11.57388490982866,11.636858030454885,11.67904491696172,11.707224201086184,11.726001529445268,11.738490694374292,11.746786176718507,11.752290783696104,11.755940951599428,5.233768845744574,5.243712528344611,5.258656191020643,5.281058404306499,5.314518296712115,5.364222489963899,5.437471091780612,5.544182818600914,5.697146893079848,5.911645464451285,6.204146723061956,6.59060842493315,7.086788345269054,7.7119685399483355,8.47885466568357,9.32991719091906,10.101438441488568,10.670488519359289,11.046847096199267,11.290357545500342,11.449464734844273,11.554580428465494,11.624431207085122,11.670934676440766,11.701891304605283,11.722481193010697,11.736162374108275,11.745244867282654,11.751270083874253,11.755264934989873,11.757912532187957,5.24117844627324,5.254849651599054,5.27535551233475,5.306007227135073,5.35159114204804,5.418872613098611,5.517094547474615,5.658246936253779,5.856694582431035,6.127657667583754,6.48450335130154,6.936525476719057,7.491269368694165,8.161128901463776,8.946554209737766,9.763604888137774,10.448469694170639,10.921820699488421,11.221828656263515,11.410545069131361,11.531375727928266,11.610031381728511,11.661753034777336,11.695938563465612,11.71858437277308,11.73359757681469,11.74355179219967,11.750150696982072,11.754524245760011,11.757422226666147,11.759342096745907,5.251367731482841,5.270136881400797,5.298214940544146,5.340019853704624,5.4018262400007835,5.492265715835959,5.62264226789679,5.806660503592387,6.058978446423327,6.392176720045081,6.812980007284472,7.321276694810991,7.917054447176991,8.60951505696871,9.388233601641323,10.147344621165486,10.737498686609067,11.122287360245236,11.357354121645045,11.50172236543063,11.592609624382888,11.651063065198626,11.689177611480059,11.714225450917322,11.730754693274111,11.741685204716964,11.748920454953915,11.753711683997848,11.756884909576687,11.758986563309595,11.760378456338007,5.265360453311727,5.291077961273505,5.329411638454741,5.386179577262141,5.469443463410229,5.589874627973256,5.7606148182711205,5.996030879062452,6.308755479366306,6.70522844103297,7.182249689735898,7.7300056343770045,8.34530607534992,9.039269884033963,9.790255835164997,10.475724822513058,10.971830910612727,11.278984058728668,11.460769234719733,11.570154379898593,11.638042719552331,11.681267959283769,11.709258627748007,11.727568039288997,11.739613523349089,11.747563036909032,11.752818210744826,11.756295276212644,11.758596868883902,11.760120689890485,11.761129659584636,5.284540514877082,5.319683935519115,5.371809781816183,5.448440924718568,5.5596434175395935,5.718021038545218,5.937717703343762,6.231726611429432,6.607308014813071,7.061133782006219,7.578734357679888,8.144105448240568,8.75805204294002,9.43703306626747,10.144966988805908,10.749058770690123,11.157802350667854,11.399578702204291,11.538803543271765,11.621109271181076,11.671566778341717,11.703419035988096,11.723924923937096,11.737286407997729,11.746054486668703,11.75183158045824,11.755646612645563,11.758169105232557,11.759838105896966,11.760942795839778,11.761674113707645,5.310763788719512,5.3586116338113206,5.429107002940221,5.531728294919452,5.678537073364106,5.883431533560614,6.159808187955478,6.516169206040487,6.950613395760922,7.447824811226576,7.984275817697617,8.544864990505594,9.141555554707404,9.795134730899708,10.450085340974614,10.971565304880382,11.302979838021091,11.491312638751456,11.597202147142479,11.658831689470492,11.696204751666627,11.719619531685392,11.734616822948482,11.744356237842561,11.750733621214604,11.754929728909664,11.757698283879,11.759527824216441,11.76073790459078,11.76153865983958,11.76206869273301,5.319727385868319,5.371869680322013,5.4485171852859775,5.559723317963762,5.7180540593052305,5.937549699566135,6.2309311493243635,6.604760372903025,7.053957177588983,7.559832505318209,8.097269296090102,8.6529622502008,9.242923266157543,9.888247479583676,10.527113940281154,11.025821815360311,11.337506884079602,11.512802753058104,11.610754644663336,11.6675317365961,11.701863620155553,11.7233302879219,11.73706142340826,11.74597079319103,11.751801394179095,11.755636373794225,11.758166091966158,11.759837565684409,11.760943000225048,11.761674466175517,11.762158618054258,5.319727385868319,5.371869680322013,5.4485171852859775,5.559723317963762,5.7180540593052305,5.937549699566135,6.2309311493243635,6.604760372903025,7.053957177588983,7.559832505318209,8.097269296090102,8.6529622502008,9.242923266157543,9.888247479583676,10.527113940281154,11.025821815360311,11.337506884079602,11.512802753058104,11.610754644663336,11.6675317365961,11.701863620155553,11.7233302879219,11.73706142340826,11.74597079319103,11.751801394179095,11.755636373794225,11.758166091966158,11.759837565684409,11.760943000225048,11.761674466175517,11.762158618054258,5.319727385868319,5.371869680322013,5.4485171852859775,5.559723317963762,5.7180540593052305,5.937549699566135,6.2309311493243635,6.604760372903025,7.053957177588983,7.559832505318209,8.097269296090102,8.6529622502008,9.242923266157543,9.888247479583676,10.527113940281154,11.025821815360311,11.337506884079602,11.512802753058104,11.610754644663336,11.6675317365961,11.701863620155553,11.7233302879219,11.73706142340826,11.74597079319103,11.751801394179095,11.755636373794225,11.758166091966158,11.759837565684409,11.760943000225048,11.761674466175517,11.762158618054258,5.319727385868319,5.371869680322013,5.4485171852859775,5.559723317963762,5.7180540593052305,5.937549699566135,6.2309311493243635,6.604760372903025,7.053957177588983,7.559832505318209,8.097269296090102,8.6529622502008,9.242923266157543,9.888247479583676,10.527113940281154,11.025821815360311,11.337506884079602,11.512802753058104,11.610754644663336,11.6675317365961,11.701863620155553,11.7233302879219,11.73706142340826,11.74597079319103,11.751801394179095,11.755636373794225,11.758166091966158,11.759837565684409,11.760943000225048,11.761674466175517,11.762158618054258,5.319727385868319,5.371869680322013,5.4485171852859775,5.559723317963762,5.7180540593052305,5.937549699566135,6.2309311493243635,6.604760372903025,7.053957177588983,7.559832505318209,8.097269296090102,8.6529622502008,9.242923266157543,9.888247479583676,10.527113940281154,11.025821815360311,11.337506884079602,11.512802753058104,11.610754644663336,11.6675317365961,11.701863620155553,11.7233302879219,11.73706142340826,11.74597079319103,11.751801394179095,11.755636373794225,11.758166091966158,11.759837565684409,11.760943000225048,11.761674466175517,11.762158618054258,5.319727385868319,5.371869680322013,5.4485171852859775,5.559723317963762,5.7180540593052305,5.937549699566135,6.2309311493243635,6.604760372903025,7.053957177588983,7.559832505318209,8.097269296090102,8.6529622502008,9.242923266157543,9.888247479583676,10.527113940281154,11.025821815360311,11.337506884079602,11.512802753058104,11.610754644663336,11.6675317365961,11.701863620155553,11.7233302879219,11.73706142340826,11.74597079319103,11.751801394179095,11.755636373794225,11.758166091966158,11.759837565684409,11.760943000225048,11.761674466175517,11.762158618054258],\"type\":\"scatter3d\",\"scene\":\"scene2\"},{\"marker\":{\"color\":\"green\",\"size\":0.5},\"mode\":\"markers\",\"name\":\"Equilibrium surface\",\"visible\":true,\"x\":[0.0,2.3333333333333335,4.666666666666667,7.0,9.333333333333334,11.666666666666668,14.0,16.333333333333336,18.666666666666668,21.0,23.333333333333336,25.666666666666668,28.0,30.333333333333336,32.66666666666667,35.0,37.333333333333336,39.66666666666667,42.0,44.333333333333336,46.66666666666667,49.0,51.333333333333336,53.66666666666667,56.0,58.333333333333336,60.66666666666667,63.00000000000001,65.33333333333334,67.66666666666667,70.0,0.0,2.3333333333333335,4.666666666666667,7.0,9.333333333333334,11.666666666666668,14.0,16.333333333333336,18.666666666666668,21.0,23.333333333333336,25.666666666666668,28.0,30.333333333333336,32.66666666666667,35.0,37.333333333333336,39.66666666666667,42.0,44.333333333333336,46.66666666666667,49.0,51.333333333333336,53.66666666666667,56.0,58.333333333333336,60.66666666666667,63.00000000000001,65.33333333333334,67.66666666666667,70.0,0.0,2.3333333333333335,4.666666666666667,7.0,9.333333333333334,11.666666666666668,14.0,16.333333333333336,18.666666666666668,21.0,23.333333333333336,25.666666666666668,28.0,30.333333333333336,32.66666666666667,35.0,37.333333333333336,39.66666666666667,42.0,44.333333333333336,46.66666666666667,49.0,51.333333333333336,53.66666666666667,56.0,58.333333333333336,60.66666666666667,63.00000000000001,65.33333333333334,67.66666666666667,70.0,0.0,2.3333333333333335,4.666666666666667,7.0,9.333333333333334,11.666666666666668,14.0,16.333333333333336,18.666666666666668,21.0,23.333333333333336,25.666666666666668,28.0,30.333333333333336,32.66666666666667,35.0,37.333333333333336,39.66666666666667,42.0,44.333333333333336,46.66666666666667,49.0,51.333333333333336,53.66666666666667,56.0,58.333333333333336,60.66666666666667,63.00000000000001,65.33333333333334,67.66666666666667,70.0,0.0,2.3333333333333335,4.666666666666667,7.0,9.333333333333334,11.666666666666668,14.0,16.333333333333336,18.666666666666668,21.0,23.333333333333336,25.666666666666668,28.0,30.333333333333336,32.66666666666667,35.0,37.333333333333336,39.66666666666667,42.0,44.333333333333336,46.66666666666667,49.0,51.333333333333336,53.66666666666667,56.0,58.333333333333336,60.66666666666667,63.00000000000001,65.33333333333334,67.66666666666667,70.0,0.0,2.3333333333333335,4.666666666666667,7.0,9.333333333333334,11.666666666666668,14.0,16.333333333333336,18.666666666666668,21.0,23.333333333333336,25.666666666666668,28.0,30.333333333333336,32.66666666666667,35.0,37.333333333333336,39.66666666666667,42.0,44.333333333333336,46.66666666666667,49.0,51.333333333333336,53.66666666666667,56.0,58.333333333333336,60.66666666666667,63.00000000000001,65.33333333333334,67.66666666666667,70.0,0.0,2.3333333333333335,4.666666666666667,7.0,9.333333333333334,11.666666666666668,14.0,16.333333333333336,18.666666666666668,21.0,23.333333333333336,25.666666666666668,28.0,30.333333333333336,32.66666666666667,35.0,37.333333333333336,39.66666666666667,42.0,44.333333333333336,46.66666666666667,49.0,51.333333333333336,53.66666666666667,56.0,58.333333333333336,60.66666666666667,63.00000000000001,65.33333333333334,67.66666666666667,70.0,0.0,2.3333333333333335,4.666666666666667,7.0,9.333333333333334,11.666666666666668,14.0,16.333333333333336,18.666666666666668,21.0,23.333333333333336,25.666666666666668,28.0,30.333333333333336,32.66666666666667,35.0,37.333333333333336,39.66666666666667,42.0,44.333333333333336,46.66666666666667,49.0,51.333333333333336,53.66666666666667,56.0,58.333333333333336,60.66666666666667,63.00000000000001,65.33333333333334,67.66666666666667,70.0,0.0,2.3333333333333335,4.666666666666667,7.0,9.333333333333334,11.666666666666668,14.0,16.333333333333336,18.666666666666668,21.0,23.333333333333336,25.666666666666668,28.0,30.333333333333336,32.66666666666667,35.0,37.333333333333336,39.66666666666667,42.0,44.333333333333336,46.66666666666667,49.0,51.333333333333336,53.66666666666667,56.0,58.333333333333336,60.66666666666667,63.00000000000001,65.33333333333334,67.66666666666667,70.0,0.0,2.3333333333333335,4.666666666666667,7.0,9.333333333333334,11.666666666666668,14.0,16.333333333333336,18.666666666666668,21.0,23.333333333333336,25.666666666666668,28.0,30.333333333333336,32.66666666666667,35.0,37.333333333333336,39.66666666666667,42.0,44.333333333333336,46.66666666666667,49.0,51.333333333333336,53.66666666666667,56.0,58.333333333333336,60.66666666666667,63.00000000000001,65.33333333333334,67.66666666666667,70.0,0.0,2.3333333333333335,4.666666666666667,7.0,9.333333333333334,11.666666666666668,14.0,16.333333333333336,18.666666666666668,21.0,23.333333333333336,25.666666666666668,28.0,30.333333333333336,32.66666666666667,35.0,37.333333333333336,39.66666666666667,42.0,44.333333333333336,46.66666666666667,49.0,51.333333333333336,53.66666666666667,56.0,58.333333333333336,60.66666666666667,63.00000000000001,65.33333333333334,67.66666666666667,70.0,0.0,2.3333333333333335,4.666666666666667,7.0,9.333333333333334,11.666666666666668,14.0,16.333333333333336,18.666666666666668,21.0,23.333333333333336,25.666666666666668,28.0,30.333333333333336,32.66666666666667,35.0,37.333333333333336,39.66666666666667,42.0,44.333333333333336,46.66666666666667,49.0,51.333333333333336,53.66666666666667,56.0,58.333333333333336,60.66666666666667,63.00000000000001,65.33333333333334,67.66666666666667,70.0,0.0,2.3333333333333335,4.666666666666667,7.0,9.333333333333334,11.666666666666668,14.0,16.333333333333336,18.666666666666668,21.0,23.333333333333336,25.666666666666668,28.0,30.333333333333336,32.66666666666667,35.0,37.333333333333336,39.66666666666667,42.0,44.333333333333336,46.66666666666667,49.0,51.333333333333336,53.66666666666667,56.0,58.333333333333336,60.66666666666667,63.00000000000001,65.33333333333334,67.66666666666667,70.0,0.0,2.3333333333333335,4.666666666666667,7.0,9.333333333333334,11.666666666666668,14.0,16.333333333333336,18.666666666666668,21.0,23.333333333333336,25.666666666666668,28.0,30.333333333333336,32.66666666666667,35.0,37.333333333333336,39.66666666666667,42.0,44.333333333333336,46.66666666666667,49.0,51.333333333333336,53.66666666666667,56.0,58.333333333333336,60.66666666666667,63.00000000000001,65.33333333333334,67.66666666666667,70.0,0.0,2.3333333333333335,4.666666666666667,7.0,9.333333333333334,11.666666666666668,14.0,16.333333333333336,18.666666666666668,21.0,23.333333333333336,25.666666666666668,28.0,30.333333333333336,32.66666666666667,35.0,37.333333333333336,39.66666666666667,42.0,44.333333333333336,46.66666666666667,49.0,51.333333333333336,53.66666666666667,56.0,58.333333333333336,60.66666666666667,63.00000000000001,65.33333333333334,67.66666666666667,70.0,0.0,2.3333333333333335,4.666666666666667,7.0,9.333333333333334,11.666666666666668,14.0,16.333333333333336,18.666666666666668,21.0,23.333333333333336,25.666666666666668,28.0,30.333333333333336,32.66666666666667,35.0,37.333333333333336,39.66666666666667,42.0,44.333333333333336,46.66666666666667,49.0,51.333333333333336,53.66666666666667,56.0,58.333333333333336,60.66666666666667,63.00000000000001,65.33333333333334,67.66666666666667,70.0,0.0,2.3333333333333335,4.666666666666667,7.0,9.333333333333334,11.666666666666668,14.0,16.333333333333336,18.666666666666668,21.0,23.333333333333336,25.666666666666668,28.0,30.333333333333336,32.66666666666667,35.0,37.333333333333336,39.66666666666667,42.0,44.333333333333336,46.66666666666667,49.0,51.333333333333336,53.66666666666667,56.0,58.333333333333336,60.66666666666667,63.00000000000001,65.33333333333334,67.66666666666667,70.0,0.0,2.3333333333333335,4.666666666666667,7.0,9.333333333333334,11.666666666666668,14.0,16.333333333333336,18.666666666666668,21.0,23.333333333333336,25.666666666666668,28.0,30.333333333333336,32.66666666666667,35.0,37.333333333333336,39.66666666666667,42.0,44.333333333333336,46.66666666666667,49.0,51.333333333333336,53.66666666666667,56.0,58.333333333333336,60.66666666666667,63.00000000000001,65.33333333333334,67.66666666666667,70.0,0.0,2.3333333333333335,4.666666666666667,7.0,9.333333333333334,11.666666666666668,14.0,16.333333333333336,18.666666666666668,21.0,23.333333333333336,25.666666666666668,28.0,30.333333333333336,32.66666666666667,35.0,37.333333333333336,39.66666666666667,42.0,44.333333333333336,46.66666666666667,49.0,51.333333333333336,53.66666666666667,56.0,58.333333333333336,60.66666666666667,63.00000000000001,65.33333333333334,67.66666666666667,70.0,0.0,2.3333333333333335,4.666666666666667,7.0,9.333333333333334,11.666666666666668,14.0,16.333333333333336,18.666666666666668,21.0,23.333333333333336,25.666666666666668,28.0,30.333333333333336,32.66666666666667,35.0,37.333333333333336,39.66666666666667,42.0,44.333333333333336,46.66666666666667,49.0,51.333333333333336,53.66666666666667,56.0,58.333333333333336,60.66666666666667,63.00000000000001,65.33333333333334,67.66666666666667,70.0,0.0,2.3333333333333335,4.666666666666667,7.0,9.333333333333334,11.666666666666668,14.0,16.333333333333336,18.666666666666668,21.0,23.333333333333336,25.666666666666668,28.0,30.333333333333336,32.66666666666667,35.0,37.333333333333336,39.66666666666667,42.0,44.333333333333336,46.66666666666667,49.0,51.333333333333336,53.66666666666667,56.0,58.333333333333336,60.66666666666667,63.00000000000001,65.33333333333334,67.66666666666667,70.0,0.0,2.3333333333333335,4.666666666666667,7.0,9.333333333333334,11.666666666666668,14.0,16.333333333333336,18.666666666666668,21.0,23.333333333333336,25.666666666666668,28.0,30.333333333333336,32.66666666666667,35.0,37.333333333333336,39.66666666666667,42.0,44.333333333333336,46.66666666666667,49.0,51.333333333333336,53.66666666666667,56.0,58.333333333333336,60.66666666666667,63.00000000000001,65.33333333333334,67.66666666666667,70.0,0.0,2.3333333333333335,4.666666666666667,7.0,9.333333333333334,11.666666666666668,14.0,16.333333333333336,18.666666666666668,21.0,23.333333333333336,25.666666666666668,28.0,30.333333333333336,32.66666666666667,35.0,37.333333333333336,39.66666666666667,42.0,44.333333333333336,46.66666666666667,49.0,51.333333333333336,53.66666666666667,56.0,58.333333333333336,60.66666666666667,63.00000000000001,65.33333333333334,67.66666666666667,70.0,0.0,2.3333333333333335,4.666666666666667,7.0,9.333333333333334,11.666666666666668,14.0,16.333333333333336,18.666666666666668,21.0,23.333333333333336,25.666666666666668,28.0,30.333333333333336,32.66666666666667,35.0,37.333333333333336,39.66666666666667,42.0,44.333333333333336,46.66666666666667,49.0,51.333333333333336,53.66666666666667,56.0,58.333333333333336,60.66666666666667,63.00000000000001,65.33333333333334,67.66666666666667,70.0,0.0,2.3333333333333335,4.666666666666667,7.0,9.333333333333334,11.666666666666668,14.0,16.333333333333336,18.666666666666668,21.0,23.333333333333336,25.666666666666668,28.0,30.333333333333336,32.66666666666667,35.0,37.333333333333336,39.66666666666667,42.0,44.333333333333336,46.66666666666667,49.0,51.333333333333336,53.66666666666667,56.0,58.333333333333336,60.66666666666667,63.00000000000001,65.33333333333334,67.66666666666667,70.0,0.0,2.3333333333333335,4.666666666666667,7.0,9.333333333333334,11.666666666666668,14.0,16.333333333333336,18.666666666666668,21.0,23.333333333333336,25.666666666666668,28.0,30.333333333333336,32.66666666666667,35.0,37.333333333333336,39.66666666666667,42.0,44.333333333333336,46.66666666666667,49.0,51.333333333333336,53.66666666666667,56.0,58.333333333333336,60.66666666666667,63.00000000000001,65.33333333333334,67.66666666666667,70.0,0.0,2.3333333333333335,4.666666666666667,7.0,9.333333333333334,11.666666666666668,14.0,16.333333333333336,18.666666666666668,21.0,23.333333333333336,25.666666666666668,28.0,30.333333333333336,32.66666666666667,35.0,37.333333333333336,39.66666666666667,42.0,44.333333333333336,46.66666666666667,49.0,51.333333333333336,53.66666666666667,56.0,58.333333333333336,60.66666666666667,63.00000000000001,65.33333333333334,67.66666666666667,70.0,0.0,2.3333333333333335,4.666666666666667,7.0,9.333333333333334,11.666666666666668,14.0,16.333333333333336,18.666666666666668,21.0,23.333333333333336,25.666666666666668,28.0,30.333333333333336,32.66666666666667,35.0,37.333333333333336,39.66666666666667,42.0,44.333333333333336,46.66666666666667,49.0,51.333333333333336,53.66666666666667,56.0,58.333333333333336,60.66666666666667,63.00000000000001,65.33333333333334,67.66666666666667,70.0,0.0,2.3333333333333335,4.666666666666667,7.0,9.333333333333334,11.666666666666668,14.0,16.333333333333336,18.666666666666668,21.0,23.333333333333336,25.666666666666668,28.0,30.333333333333336,32.66666666666667,35.0,37.333333333333336,39.66666666666667,42.0,44.333333333333336,46.66666666666667,49.0,51.333333333333336,53.66666666666667,56.0,58.333333333333336,60.66666666666667,63.00000000000001,65.33333333333334,67.66666666666667,70.0,0.0,2.3333333333333335,4.666666666666667,7.0,9.333333333333334,11.666666666666668,14.0,16.333333333333336,18.666666666666668,21.0,23.333333333333336,25.666666666666668,28.0,30.333333333333336,32.66666666666667,35.0,37.333333333333336,39.66666666666667,42.0,44.333333333333336,46.66666666666667,49.0,51.333333333333336,53.66666666666667,56.0,58.333333333333336,60.66666666666667,63.00000000000001,65.33333333333334,67.66666666666667,70.0,0.0,2.3333333333333335,4.666666666666667,7.0,9.333333333333334,11.666666666666668,14.0,16.333333333333336,18.666666666666668,21.0,23.333333333333336,25.666666666666668,28.0,30.333333333333336,32.66666666666667,35.0,37.333333333333336,39.66666666666667,42.0,44.333333333333336,46.66666666666667,49.0,51.333333333333336,53.66666666666667,56.0,58.333333333333336,60.66666666666667,63.00000000000001,65.33333333333334,67.66666666666667,70.0],\"y\":[0.0,0.0,0.0,0.0,0.0,0.0,0.0,0.0,0.0,0.0,0.0,0.0,0.0,0.0,0.0,0.0,0.0,0.0,0.0,0.0,0.0,0.0,0.0,0.0,0.0,0.0,0.0,0.0,0.0,0.0,0.0,0.8333333333333334,0.8333333333333334,0.8333333333333334,0.8333333333333334,0.8333333333333334,0.8333333333333334,0.8333333333333334,0.8333333333333334,0.8333333333333334,0.8333333333333334,0.8333333333333334,0.8333333333333334,0.8333333333333334,0.8333333333333334,0.8333333333333334,0.8333333333333334,0.8333333333333334,0.8333333333333334,0.8333333333333334,0.8333333333333334,0.8333333333333334,0.8333333333333334,0.8333333333333334,0.8333333333333334,0.8333333333333334,0.8333333333333334,0.8333333333333334,0.8333333333333334,0.8333333333333334,0.8333333333333334,0.8333333333333334,1.6666666666666667,1.6666666666666667,1.6666666666666667,1.6666666666666667,1.6666666666666667,1.6666666666666667,1.6666666666666667,1.6666666666666667,1.6666666666666667,1.6666666666666667,1.6666666666666667,1.6666666666666667,1.6666666666666667,1.6666666666666667,1.6666666666666667,1.6666666666666667,1.6666666666666667,1.6666666666666667,1.6666666666666667,1.6666666666666667,1.6666666666666667,1.6666666666666667,1.6666666666666667,1.6666666666666667,1.6666666666666667,1.6666666666666667,1.6666666666666667,1.6666666666666667,1.6666666666666667,1.6666666666666667,1.6666666666666667,2.5,2.5,2.5,2.5,2.5,2.5,2.5,2.5,2.5,2.5,2.5,2.5,2.5,2.5,2.5,2.5,2.5,2.5,2.5,2.5,2.5,2.5,2.5,2.5,2.5,2.5,2.5,2.5,2.5,2.5,2.5,3.3333333333333335,3.3333333333333335,3.3333333333333335,3.3333333333333335,3.3333333333333335,3.3333333333333335,3.3333333333333335,3.3333333333333335,3.3333333333333335,3.3333333333333335,3.3333333333333335,3.3333333333333335,3.3333333333333335,3.3333333333333335,3.3333333333333335,3.3333333333333335,3.3333333333333335,3.3333333333333335,3.3333333333333335,3.3333333333333335,3.3333333333333335,3.3333333333333335,3.3333333333333335,3.3333333333333335,3.3333333333333335,3.3333333333333335,3.3333333333333335,3.3333333333333335,3.3333333333333335,3.3333333333333335,3.3333333333333335,4.166666666666667,4.166666666666667,4.166666666666667,4.166666666666667,4.166666666666667,4.166666666666667,4.166666666666667,4.166666666666667,4.166666666666667,4.166666666666667,4.166666666666667,4.166666666666667,4.166666666666667,4.166666666666667,4.166666666666667,4.166666666666667,4.166666666666667,4.166666666666667,4.166666666666667,4.166666666666667,4.166666666666667,4.166666666666667,4.166666666666667,4.166666666666667,4.166666666666667,4.166666666666667,4.166666666666667,4.166666666666667,4.166666666666667,4.166666666666667,4.166666666666667,5.0,5.0,5.0,5.0,5.0,5.0,5.0,5.0,5.0,5.0,5.0,5.0,5.0,5.0,5.0,5.0,5.0,5.0,5.0,5.0,5.0,5.0,5.0,5.0,5.0,5.0,5.0,5.0,5.0,5.0,5.0,5.833333333333334,5.833333333333334,5.833333333333334,5.833333333333334,5.833333333333334,5.833333333333334,5.833333333333334,5.833333333333334,5.833333333333334,5.833333333333334,5.833333333333334,5.833333333333334,5.833333333333334,5.833333333333334,5.833333333333334,5.833333333333334,5.833333333333334,5.833333333333334,5.833333333333334,5.833333333333334,5.833333333333334,5.833333333333334,5.833333333333334,5.833333333333334,5.833333333333334,5.833333333333334,5.833333333333334,5.833333333333334,5.833333333333334,5.833333333333334,5.833333333333334,6.666666666666667,6.666666666666667,6.666666666666667,6.666666666666667,6.666666666666667,6.666666666666667,6.666666666666667,6.666666666666667,6.666666666666667,6.666666666666667,6.666666666666667,6.666666666666667,6.666666666666667,6.666666666666667,6.666666666666667,6.666666666666667,6.666666666666667,6.666666666666667,6.666666666666667,6.666666666666667,6.666666666666667,6.666666666666667,6.666666666666667,6.666666666666667,6.666666666666667,6.666666666666667,6.666666666666667,6.666666666666667,6.666666666666667,6.666666666666667,6.666666666666667,7.5,7.5,7.5,7.5,7.5,7.5,7.5,7.5,7.5,7.5,7.5,7.5,7.5,7.5,7.5,7.5,7.5,7.5,7.5,7.5,7.5,7.5,7.5,7.5,7.5,7.5,7.5,7.5,7.5,7.5,7.5,8.333333333333334,8.333333333333334,8.333333333333334,8.333333333333334,8.333333333333334,8.333333333333334,8.333333333333334,8.333333333333334,8.333333333333334,8.333333333333334,8.333333333333334,8.333333333333334,8.333333333333334,8.333333333333334,8.333333333333334,8.333333333333334,8.333333333333334,8.333333333333334,8.333333333333334,8.333333333333334,8.333333333333334,8.333333333333334,8.333333333333334,8.333333333333334,8.333333333333334,8.333333333333334,8.333333333333334,8.333333333333334,8.333333333333334,8.333333333333334,8.333333333333334,9.166666666666668,9.166666666666668,9.166666666666668,9.166666666666668,9.166666666666668,9.166666666666668,9.166666666666668,9.166666666666668,9.166666666666668,9.166666666666668,9.166666666666668,9.166666666666668,9.166666666666668,9.166666666666668,9.166666666666668,9.166666666666668,9.166666666666668,9.166666666666668,9.166666666666668,9.166666666666668,9.166666666666668,9.166666666666668,9.166666666666668,9.166666666666668,9.166666666666668,9.166666666666668,9.166666666666668,9.166666666666668,9.166666666666668,9.166666666666668,9.166666666666668,10.0,10.0,10.0,10.0,10.0,10.0,10.0,10.0,10.0,10.0,10.0,10.0,10.0,10.0,10.0,10.0,10.0,10.0,10.0,10.0,10.0,10.0,10.0,10.0,10.0,10.0,10.0,10.0,10.0,10.0,10.0,10.833333333333334,10.833333333333334,10.833333333333334,10.833333333333334,10.833333333333334,10.833333333333334,10.833333333333334,10.833333333333334,10.833333333333334,10.833333333333334,10.833333333333334,10.833333333333334,10.833333333333334,10.833333333333334,10.833333333333334,10.833333333333334,10.833333333333334,10.833333333333334,10.833333333333334,10.833333333333334,10.833333333333334,10.833333333333334,10.833333333333334,10.833333333333334,10.833333333333334,10.833333333333334,10.833333333333334,10.833333333333334,10.833333333333334,10.833333333333334,10.833333333333334,11.666666666666668,11.666666666666668,11.666666666666668,11.666666666666668,11.666666666666668,11.666666666666668,11.666666666666668,11.666666666666668,11.666666666666668,11.666666666666668,11.666666666666668,11.666666666666668,11.666666666666668,11.666666666666668,11.666666666666668,11.666666666666668,11.666666666666668,11.666666666666668,11.666666666666668,11.666666666666668,11.666666666666668,11.666666666666668,11.666666666666668,11.666666666666668,11.666666666666668,11.666666666666668,11.666666666666668,11.666666666666668,11.666666666666668,11.666666666666668,11.666666666666668,12.5,12.5,12.5,12.5,12.5,12.5,12.5,12.5,12.5,12.5,12.5,12.5,12.5,12.5,12.5,12.5,12.5,12.5,12.5,12.5,12.5,12.5,12.5,12.5,12.5,12.5,12.5,12.5,12.5,12.5,12.5,13.333333333333334,13.333333333333334,13.333333333333334,13.333333333333334,13.333333333333334,13.333333333333334,13.333333333333334,13.333333333333334,13.333333333333334,13.333333333333334,13.333333333333334,13.333333333333334,13.333333333333334,13.333333333333334,13.333333333333334,13.333333333333334,13.333333333333334,13.333333333333334,13.333333333333334,13.333333333333334,13.333333333333334,13.333333333333334,13.333333333333334,13.333333333333334,13.333333333333334,13.333333333333334,13.333333333333334,13.333333333333334,13.333333333333334,13.333333333333334,13.333333333333334,14.166666666666668,14.166666666666668,14.166666666666668,14.166666666666668,14.166666666666668,14.166666666666668,14.166666666666668,14.166666666666668,14.166666666666668,14.166666666666668,14.166666666666668,14.166666666666668,14.166666666666668,14.166666666666668,14.166666666666668,14.166666666666668,14.166666666666668,14.166666666666668,14.166666666666668,14.166666666666668,14.166666666666668,14.166666666666668,14.166666666666668,14.166666666666668,14.166666666666668,14.166666666666668,14.166666666666668,14.166666666666668,14.166666666666668,14.166666666666668,14.166666666666668,15.0,15.0,15.0,15.0,15.0,15.0,15.0,15.0,15.0,15.0,15.0,15.0,15.0,15.0,15.0,15.0,15.0,15.0,15.0,15.0,15.0,15.0,15.0,15.0,15.0,15.0,15.0,15.0,15.0,15.0,15.0,15.833333333333334,15.833333333333334,15.833333333333334,15.833333333333334,15.833333333333334,15.833333333333334,15.833333333333334,15.833333333333334,15.833333333333334,15.833333333333334,15.833333333333334,15.833333333333334,15.833333333333334,15.833333333333334,15.833333333333334,15.833333333333334,15.833333333333334,15.833333333333334,15.833333333333334,15.833333333333334,15.833333333333334,15.833333333333334,15.833333333333334,15.833333333333334,15.833333333333334,15.833333333333334,15.833333333333334,15.833333333333334,15.833333333333334,15.833333333333334,15.833333333333334,16.666666666666668,16.666666666666668,16.666666666666668,16.666666666666668,16.666666666666668,16.666666666666668,16.666666666666668,16.666666666666668,16.666666666666668,16.666666666666668,16.666666666666668,16.666666666666668,16.666666666666668,16.666666666666668,16.666666666666668,16.666666666666668,16.666666666666668,16.666666666666668,16.666666666666668,16.666666666666668,16.666666666666668,16.666666666666668,16.666666666666668,16.666666666666668,16.666666666666668,16.666666666666668,16.666666666666668,16.666666666666668,16.666666666666668,16.666666666666668,16.666666666666668,17.5,17.5,17.5,17.5,17.5,17.5,17.5,17.5,17.5,17.5,17.5,17.5,17.5,17.5,17.5,17.5,17.5,17.5,17.5,17.5,17.5,17.5,17.5,17.5,17.5,17.5,17.5,17.5,17.5,17.5,17.5,18.333333333333336,18.333333333333336,18.333333333333336,18.333333333333336,18.333333333333336,18.333333333333336,18.333333333333336,18.333333333333336,18.333333333333336,18.333333333333336,18.333333333333336,18.333333333333336,18.333333333333336,18.333333333333336,18.333333333333336,18.333333333333336,18.333333333333336,18.333333333333336,18.333333333333336,18.333333333333336,18.333333333333336,18.333333333333336,18.333333333333336,18.333333333333336,18.333333333333336,18.333333333333336,18.333333333333336,18.333333333333336,18.333333333333336,18.333333333333336,18.333333333333336,19.166666666666668,19.166666666666668,19.166666666666668,19.166666666666668,19.166666666666668,19.166666666666668,19.166666666666668,19.166666666666668,19.166666666666668,19.166666666666668,19.166666666666668,19.166666666666668,19.166666666666668,19.166666666666668,19.166666666666668,19.166666666666668,19.166666666666668,19.166666666666668,19.166666666666668,19.166666666666668,19.166666666666668,19.166666666666668,19.166666666666668,19.166666666666668,19.166666666666668,19.166666666666668,19.166666666666668,19.166666666666668,19.166666666666668,19.166666666666668,19.166666666666668,20.0,20.0,20.0,20.0,20.0,20.0,20.0,20.0,20.0,20.0,20.0,20.0,20.0,20.0,20.0,20.0,20.0,20.0,20.0,20.0,20.0,20.0,20.0,20.0,20.0,20.0,20.0,20.0,20.0,20.0,20.0,20.833333333333336,20.833333333333336,20.833333333333336,20.833333333333336,20.833333333333336,20.833333333333336,20.833333333333336,20.833333333333336,20.833333333333336,20.833333333333336,20.833333333333336,20.833333333333336,20.833333333333336,20.833333333333336,20.833333333333336,20.833333333333336,20.833333333333336,20.833333333333336,20.833333333333336,20.833333333333336,20.833333333333336,20.833333333333336,20.833333333333336,20.833333333333336,20.833333333333336,20.833333333333336,20.833333333333336,20.833333333333336,20.833333333333336,20.833333333333336,20.833333333333336,21.666666666666668,21.666666666666668,21.666666666666668,21.666666666666668,21.666666666666668,21.666666666666668,21.666666666666668,21.666666666666668,21.666666666666668,21.666666666666668,21.666666666666668,21.666666666666668,21.666666666666668,21.666666666666668,21.666666666666668,21.666666666666668,21.666666666666668,21.666666666666668,21.666666666666668,21.666666666666668,21.666666666666668,21.666666666666668,21.666666666666668,21.666666666666668,21.666666666666668,21.666666666666668,21.666666666666668,21.666666666666668,21.666666666666668,21.666666666666668,21.666666666666668,22.5,22.5,22.5,22.5,22.5,22.5,22.5,22.5,22.5,22.5,22.5,22.5,22.5,22.5,22.5,22.5,22.5,22.5,22.5,22.5,22.5,22.5,22.5,22.5,22.5,22.5,22.5,22.5,22.5,22.5,22.5,23.333333333333336,23.333333333333336,23.333333333333336,23.333333333333336,23.333333333333336,23.333333333333336,23.333333333333336,23.333333333333336,23.333333333333336,23.333333333333336,23.333333333333336,23.333333333333336,23.333333333333336,23.333333333333336,23.333333333333336,23.333333333333336,23.333333333333336,23.333333333333336,23.333333333333336,23.333333333333336,23.333333333333336,23.333333333333336,23.333333333333336,23.333333333333336,23.333333333333336,23.333333333333336,23.333333333333336,23.333333333333336,23.333333333333336,23.333333333333336,23.333333333333336,24.166666666666668,24.166666666666668,24.166666666666668,24.166666666666668,24.166666666666668,24.166666666666668,24.166666666666668,24.166666666666668,24.166666666666668,24.166666666666668,24.166666666666668,24.166666666666668,24.166666666666668,24.166666666666668,24.166666666666668,24.166666666666668,24.166666666666668,24.166666666666668,24.166666666666668,24.166666666666668,24.166666666666668,24.166666666666668,24.166666666666668,24.166666666666668,24.166666666666668,24.166666666666668,24.166666666666668,24.166666666666668,24.166666666666668,24.166666666666668,24.166666666666668,25.0,25.0,25.0,25.0,25.0,25.0,25.0,25.0,25.0,25.0,25.0,25.0,25.0,25.0,25.0,25.0,25.0,25.0,25.0,25.0,25.0,25.0,25.0,25.0,25.0,25.0,25.0,25.0,25.0,25.0,25.0],\"z\":[0.9920310618684957,0.9920310618684957,0.9920310618684957,0.9920310618684957,0.9920310618684957,0.9920310618684957,0.9920310618684957,0.9920310618684957,0.9920310618684957,0.9920310618684957,0.9920310618684957,0.9920310618684957,0.9920310618684957,0.9920310618684957,0.9920310618684957,0.9920310618684957,0.9920310618684957,0.9920310618684957,0.9920310618684957,0.9920310618684957,0.9920310618684957,0.9920310618684957,0.9920310618684957,0.9920310618684957,0.9920310618684957,0.9920310618684957,0.9920310618684957,0.9920310618684957,0.9920310618684957,0.9920310618684957,0.9920310618684957,0.9920310618684957,0.9920310618684957,0.9920310618684957,0.9920310618684957,0.9920310618684957,0.9920310618684957,0.9920310618684957,0.9920310618684957,0.9920310618684957,0.9920310618684957,0.9920310618684957,0.9920310618684957,0.9920310618684957,0.9920310618684957,0.9920310618684957,0.9920310618684957,0.9920310618684957,0.9920310618684957,0.9920310618684957,0.9920310618684957,0.9920310618684957,0.9920310618684957,0.9920310618684957,0.9920310618684957,0.9920310618684957,0.9920310618684957,0.9920310618684957,0.9920310618684957,0.9920310618684957,0.9920310618684957,0.9920310618684957,0.9920310618684957,0.9920310618684957,0.9920310618684957,0.9920310618684957,0.9920310618684957,0.9920310618684957,0.9920310618684957,0.9920310618684957,0.9920310618684957,0.9920310618684957,0.9920310618684957,0.9920310618684957,0.9920310618684957,0.9920310618684957,0.9920310618684957,0.9920310618684957,0.9920310618684957,0.9920310618684957,0.9920310618684957,0.9920310618684957,0.9920310618684957,0.9920310618684957,0.9920310618684957,0.9920310618684957,0.9920310618684957,0.9920310618684957,0.9920310618684957,0.9920310618684957,0.9920310618684957,0.9920310618684957,0.9920310618684957,0.9920310618684957,0.9920310618684957,0.9920310618684957,0.9920310618684957,0.9920310618684957,0.9920310618684957,0.9920310618684957,0.9920310618684957,0.9920310618684957,0.9920310618684957,0.9920310618684957,0.9920310618684957,0.9920310618684957,0.9920310618684957,0.9920310618684957,0.9920310618684957,0.9920310618684957,0.9920310618684957,0.9920310618684957,0.9920310618684957,0.9920310618684957,0.9920310618684957,0.9920310618684957,0.9920310618684957,0.9920310618684957,0.9920310618684957,0.9920310618684957,0.9920310618684957,0.9920310618684957,0.9920310618684957,0.9920310618684957,0.9920310618684957,0.9920310618684957,0.9920310618684957,0.9920310618684957,0.9920310618684957,0.9920310618684957,0.9920310618684957,0.9920310618684957,0.9920310618684957,0.9920310618684957,0.9920310618684957,0.9920310618684957,0.9920310618684957,0.9920310618684957,0.9920310618684957,0.9920310618684957,0.9920310618684957,0.9920310618684957,0.9920310618684957,0.9920310618684957,0.9920310618684957,0.9920310618684957,0.9920310618684957,0.9920310618684957,0.9920310618684957,0.9920310618684957,0.9920310618684957,0.9920310618684957,0.9920310618684957,0.9920310618684957,0.9920310618684957,0.9920310618684957,0.9920310618684957,0.9920310618684957,0.9920310618684957,0.9920310618684957,0.9920310618684957,0.9920310618684957,0.9920310618684957,0.9920310618684957,0.9920310618684957,0.9920310618684957,0.9920310618684957,0.9920310618684957,0.9920310618684957,0.9920310618684957,0.9920310618684957,0.9920310618684957,0.9920310618684957,0.9920310618684957,0.9920310618684957,0.9920310618684957,0.9920310618684957,0.9920310618684957,0.9920310618684957,0.9920310618684957,0.9920310618684957,0.9920310618684957,0.9920310618684957,0.9920310618684957,0.9920310618684957,0.9920310618684957,0.9920310618684957,0.9920310618684957,0.9920310618684957,0.9920310618684957,0.9920310618684957,0.9920310618684957,0.9920310618684957,0.9920310618684957,0.9920310618684957,0.9920310618684957,0.9920310618684957,0.9920310618684957,0.9920310618684957,0.9920310618684957,0.9920310618684957,0.9920310618684957,0.9920310618684957,0.9920310618684957,0.9920310618684957,0.9920310618684957,0.9920310618684957,0.9920310618684957,0.9920310618684957,0.9920310618684957,0.9920310618684957,0.9920310618684957,0.9920310618684957,0.9920310618684957,0.9920310618684957,0.9920310618684957,0.9920310618684957,0.9920310618684957,0.9920310618684957,0.9920310618684957,0.9920310618684957,0.9920310618684957,0.9920310618684957,0.9920310618684957,0.9920310618684957,0.9920310618684957,0.9920310618684957,0.9920310618684957,0.9920310618684957,0.9920310618684957,0.9920310618684957,0.9920310618684957,0.9920310618684957,0.9920310618684957,0.9920310618684957,0.9920310618684957,0.9920310618684957,0.9920310618684957,0.9920310618684957,0.9920310618684957,0.9920310618684957,0.9920310618684957,0.9920310618684957,0.9920310618684957,0.9920310618684957,0.9920310618684957,0.9920310618684957,0.9920310618684957,0.9920310618684957,0.9920310618684957,0.9920310618684957,0.9920310618684957,0.9920310618684957,0.9920310618684957,0.9920310618684957,0.9920310618684957,0.9920310618684957,0.9920310618684957,0.9920310618684957,0.9920310618684957,0.9920310618684957,0.9920310618684957,0.9920310618684957,0.9920310618684957,0.9920310618684957,0.9920310618684957,0.9920310618684957,0.9920310618684957,0.9920310618684957,0.9920310618684957,0.9920310618684957,0.9920310618684957,0.9920310618684957,0.9920310618684957,0.9920310618684957,0.9920310618684957,0.9920310618684957,0.9920310618684957,0.9920310618684957,0.9920310618684957,0.9920310618684957,0.9920310618684957,0.9920310618684957,0.9920310618684957,0.9920310618684957,0.9920310618684957,0.9920310618684957,0.9920310618684957,0.9920310618684957,0.9920310618684957,0.9920310618684957,0.9920310618684957,0.9920310618684957,0.9920310618684957,0.9920310618684957,0.9920310618684957,0.9920310618684957,0.9920310618684957,0.9920310618684957,0.9920310618684957,0.9920310618684957,0.9920310618684957,0.9920310618684957,0.9920310618684957,0.9920310618684957,0.9920310618684957,0.9920310618684957,0.9920310618684957,0.9920310618684957,0.9920310618684957,0.9920310618684957,0.9920310618684957,0.9920310618684957,0.9920310618684957,0.9920310618684957,0.9920310618684957,0.9920310618684957,0.9920310618684957,0.9920310618684957,0.9920310618684957,0.9920310618684957,0.9920310618684957,0.9920310618684957,0.9920310618684957,0.9920310618684957,0.9920310618684957,0.9920310618684957,0.9920310618684957,0.9920310618684957,0.9920310618684957,0.9920310618684957,0.9920310618684957,0.9920310618684957,0.9920310618684957,0.9920310618684957,0.9920310618684957,0.9920310618684957,0.9920310618684957,0.9920310618684957,0.9920310618684957,0.9920310618684957,0.9920310618684957,0.9920310618684957,0.9920310618684957,0.9920310618684957,0.9920310618684957,0.9920310618684957,0.9920310618684957,0.9920310618684957,0.9920310618684957,0.9920310618684957,0.9920310618684957,0.9920310618684957,0.9920310618684957,0.9920310618684957,0.9920310618684957,0.9920310618684957,0.9920310618684957,0.9920310618684957,0.9920310618684957,0.9920310618684957,0.9920310618684957,0.9920310618684957,0.9920310618684957,0.9920310618684957,0.9920310618684957,0.9920310618684957,0.9920310618684957,0.9920310618684957,0.9920310618684957,0.9920310618684957,0.9920310618684957,0.9920310618684957,0.9920310618684957,0.9920310618684957,0.9920310618684957,0.9920310618684957,0.9920310618684957,0.9920310618684957,0.9920310618684957,0.9920310618684957,0.9920310618684957,0.9920310618684957,0.9920310618684957,0.9920310618684957,0.9920310618684957,0.9920310618684957,0.9920310618684957,0.9920310618684957,0.9920310618684957,0.9920310618684957,0.9920310618684957,0.9920310618684957,0.9920310618684957,0.9920310618684957,0.9920310618684957,0.9920310618684957,0.9920310618684957,0.9920310618684957,0.9920310618684957,0.9920310618684957,0.9920310618684957,0.9920310618684957,0.9920310618684957,0.9920310618684957,0.9920310618684957,0.9920310618684957,0.9920310618684957,0.9920310618684957,0.9920310618684957,0.9920310618684957,0.9920310618684957,0.9920310618684957,0.9920310618684957,0.9920310618684957,0.9920310618684957,0.9920310618684957,0.9920310618684957,0.9920310618684957,0.9920310618684957,0.9920310618684957,0.9920310618684957,0.9920310618684957,0.9920310618684957,0.9920310618684957,0.9920310618684957,0.9920310618684957,0.9920310618684957,0.9920310618684957,0.9920310618684957,0.9920310618684957,0.9920310618684957,0.9920310618684957,0.9920310618684957,0.9920310618684957,0.9920310618684957,0.9920310618684957,0.9920310618684957,0.9920310618684957,0.9920310618684957,0.9920310618684957,0.9920310618684957,0.9920310618684957,0.9920310618684957,0.9920310618684957,0.9920310618684957,0.9920310618684957,0.9920310618684957,0.9920310618684957,0.9920310618684957,0.9920310618684957,0.9920310618684957,0.9920310618684957,0.9920310618684957,0.9920310618684957,0.9920310618684957,0.9920310618684957,0.9920310618684957,0.9920310618684957,0.9920310618684957,0.9920310618684957,0.9920310618684957,0.9920310618684957,0.9920310618684957,0.9920310618684957,0.9920310618684957,0.9920310618684957,0.9920310618684957,0.9920310618684957,0.9920310618684957,0.9920310618684957,0.9920310618684957,0.9920310618684957,0.9920310618684957,0.9920310618684957,0.9920310618684957,0.9920310618684957,0.9920310618684957,0.9920310618684957,0.9920310618684957,0.9920310618684957,0.9920310618684957,0.9920310618684957,0.9920310618684957,0.9920310618684957,0.9920310618684957,0.9920310618684957,0.9920310618684957,0.9920310618684957,0.9920310618684957,0.9920310618684957,0.9920310618684957,0.9920310618684957,0.9920310618684957,0.9920310618684957,0.9920310618684957,0.9920310618684957,0.9920310618684957,0.9920310618684957,0.9920310618684957,0.9920310618684957,0.9920310618684957,0.9920310618684957,0.9920310618684957,0.9920310618684957,0.9920310618684957,0.9920310618684957,0.9920310618684957,0.9920310618684957,0.9920310618684957,0.9920310618684957,0.9920310618684957,0.9920310618684957,0.9920310618684957,0.9920310618684957,0.9920310618684957,0.9920310618684957,0.9920310618684957,0.9920310618684957,0.9920310618684957,0.9920310618684957,0.9920310618684957,0.9920310618684957,0.9920310618684957,0.9920310618684957,0.9920310618684957,0.9920310618684957,0.9920310618684957,0.9920310618684957,0.9920310618684957,0.9920310618684957,0.9920310618684957,0.9920310618684957,0.9920310618684957,0.9920310618684957,0.9920310618684957,0.9920310618684957,0.9920310618684957,0.9920310618684957,0.9920310618684957,0.9920310618684957,0.9920310618684957,0.9920310618684957,0.9920310618684957,0.9920310618684957,0.9920310618684957,0.9920310618684957,0.9920310618684957,0.9920310618684957,0.9920310618684957,0.9920310618684957,0.9920310618684957,0.9920310618684957,0.9920310618684957,0.9920310618684957,0.9920310618684957,0.9920310618684957,0.9920310618684957,0.9920310618684957,0.9920310618684957,0.9920310618684957,0.9920310618684957,0.9920310618684957,0.9920310618684957,0.9920310618684957,0.9920310618684957,0.9920310618684957,0.9920310618684957,0.9920310618684957,0.9920310618684957,0.9920310618684957,0.9920310618684957,0.9920310618684957,0.9920310618684957,0.9920310618684957,0.9920310618684957,0.9920310618684957,0.9920310618684957,0.9920310618684957,0.9920310618684957,0.9920310618684957,0.9920310618684957,0.9920310618684957,0.9920310618684957,0.9920310618684957,0.9920310618684957,0.9920310618684957,0.9920310618684957,0.9920310618684957,0.9920310618684957,0.9920310618684957,0.9920310618684957,0.9920310618684957,0.9920310618684957,0.9920310618684957,0.9920310618684957,0.9920310618684957,0.9920310618684957,0.9920310618684957,0.9920310618684957,0.9920310618684957,0.9920310618684957,0.9920310618684957,0.9920310618684957,0.9920310618684957,0.9920310618684957,0.9920310618684957,0.9920310618684957,0.9920310618684957,0.9920310618684957,0.9920310618684957,0.9920310618684957,0.9920310618684957,0.9920310618684957,0.9920310618684957,0.9920310618684957,0.9920310618684957,0.9920310618684957,0.9920310618684957,0.9920310618684957,0.9920310618684957,0.9920310618684957,0.9920310618684957,0.9920310618684957,0.9920310618684957,0.9920310618684957,0.9920310618684957,0.9920310618684957,0.9920310618684957,0.9920310618684957,0.9920310618684957,0.9920310618684957,0.9920310618684957,0.9920310618684957,0.9920310618684957,0.9920310618684957,0.9920310618684957,0.9920310618684957,0.9920310618684957,0.9920310618684957,0.9920310618684957,0.9920310618684957,0.9920310618684957,0.9920310618684957,0.9920310618684957,0.9920310618684957,0.9920310618684957,0.9920310618684957,0.9920310618684957,0.9920310618684957,0.9920310618684957,0.9920310618684957,0.9920310618684957,0.9920310618684957,0.9920310618684957,0.9920310618684957,0.9920310618684957,0.9920310618684957,0.9920310618684957,0.9920310618684957,0.9920310618684957,0.9920310618684957,0.9920310618684957,0.9920310618684957,0.9920310618684957,0.9920310618684957,0.9920310618684957,0.9920310618684957,0.9920310618684957,0.9920310618684957,0.9920310618684957,0.9920310618684957,0.9920310618684957,0.9920310618684957,0.9920310618684957,0.9920310618684957,0.9920310618684957,0.9920310618684957,0.9920310618684957,0.9920310618684957,0.9920310618684957,0.9920310618684957,0.9920310618684957,0.9920310618684957,0.9920310618684957,0.9920310618684957,0.9920310618684957,0.9920310618684957,0.9920310618684957,0.9920310618684957,0.9920310618684957,0.9920310618684957,0.9920310618684957,0.9920310618684957,0.9920310618684957,0.9920310618684957,0.9920310618684957,0.9920310618684957,0.9920310618684957,0.9920310618684957,0.9920310618684957,0.9920310618684957,0.9920310618684957,0.9920310618684957,0.9920310618684957,0.9920310618684957,0.9920310618684957,0.9920310618684957,0.9920310618684957,0.9920310618684957,0.9920310618684957,0.9920310618684957,0.9920310618684957,0.9920310618684957,0.9920310618684957,0.9920310618684957,0.9920310618684957,0.9920310618684957,0.9920310618684957,0.9920310618684957,0.9920310618684957,0.9920310618684957,0.9920310618684957,0.9920310618684957,0.9920310618684957,0.9920310618684957,0.9920310618684957,0.9920310618684957,0.9920310618684957,0.9920310618684957,0.9920310618684957,0.9920310618684957,0.9920310618684957,0.9920310618684957,0.9920310618684957,0.9920310618684957,0.9920310618684957,0.9920310618684957,0.9920310618684957,0.9920310618684957,0.9920310618684957,0.9920310618684957,0.9920310618684957,0.9920310618684957,0.9920310618684957,0.9920310618684957,0.9920310618684957,0.9920310618684957,0.9920310618684957,0.9920310618684957,0.9920310618684957,0.9920310618684957,0.9920310618684957,0.9920310618684957,0.9920310618684957,0.9920310618684957,0.9920310618684957,0.9920310618684957,0.9920310618684957,0.9920310618684957,0.9920310618684957,0.9920310618684957,0.9920310618684957,0.9920310618684957,0.9920310618684957,0.9920310618684957,0.9920310618684957,0.9920310618684957,0.9920310618684957,0.9920310618684957,0.9920310618684957,0.9920310618684957,0.9920310618684957,0.9920310618684957,0.9920310618684957,0.9920310618684957,0.9920310618684957,0.9920310618684957,0.9920310618684957,0.9920310618684957,0.9920310618684957,0.9920310618684957,0.9920310618684957,0.9920310618684957,0.9920310618684957,0.9920310618684957,0.9920310618684957,0.9920310618684957,0.9920310618684957,0.9920310618684957,0.9920310618684957,0.9920310618684957,0.9920310618684957,0.9920310618684957,0.9920310618684957,0.9920310618684957,0.9920310618684957,0.9920310618684957,0.9920310618684957,0.9920310618684957,0.9920310618684957,0.9920310618684957,0.9920310618684957,0.9920310618684957,0.9920310618684957,0.9920310618684957,0.9920310618684957,0.9920310618684957,0.9920310618684957,0.9920310618684957,0.9920310618684957,0.9920310618684957,0.9920310618684957,0.9920310618684957,0.9920310618684957,0.9920310618684957,0.9920310618684957,0.9920310618684957,0.9920310618684957,0.9920310618684957,0.9920310618684957,0.9920310618684957,0.9920310618684957,0.9920310618684957,0.9920310618684957,0.9920310618684957,0.9920310618684957,0.9920310618684957,0.9920310618684957,0.9920310618684957,0.9920310618684957,0.9920310618684957,0.9920310618684957,0.9920310618684957,0.9920310618684957,0.9920310618684957,0.9920310618684957,0.9920310618684957,0.9920310618684957,0.9920310618684957,0.9920310618684957,0.9920310618684957,0.9920310618684957,0.9920310618684957,0.9920310618684957,0.9920310618684957,0.9920310618684957,0.9920310618684957,0.9920310618684957,0.9920310618684957,0.9920310618684957,0.9920310618684957,0.9920310618684957,0.9920310618684957,0.9920310618684957,0.9920310618684957,0.9920310618684957,0.9920310618684957,0.9920310618684957,0.9920310618684957,0.9920310618684957,0.9920310618684957,0.9920310618684957,0.9920310618684957,0.9920310618684957,0.9920310618684957,0.9920310618684957,0.9920310618684957,0.9920310618684957,0.9920310618684957,0.9920310618684957,0.9920310618684957,0.9920310618684957,0.9920310618684957,0.9920310618684957,0.9920310618684957,0.9920310618684957,0.9920310618684957,0.9920310618684957,0.9920310618684957,0.9920310618684957,0.9920310618684957,0.9920310618684957,0.9920310618684957,0.9920310618684957,0.9920310618684957,0.9920310618684957,0.9920310618684957,0.9920310618684957,0.9920310618684957,0.9920310618684957,0.9920310618684957,0.9920310618684957,0.9920310618684957,0.9920310618684957,0.9920310618684957,0.9920310618684957,0.9920310618684957,0.9920310618684957,0.9920310618684957,0.9920310618684957,0.9920310618684957,0.9920310618684957,0.9920310618684957,0.9920310618684957,0.9920310618684957,0.9920310618684957,0.9920310618684957,0.9920310618684957,0.9920310618684957,0.9920310618684957,0.9920310618684957,0.9920310618684957,0.9920310618684957,0.9920310618684957,0.9920310618684957,0.9920310618684957,0.9920310618684957,0.9920310618684957,0.9920310618684957,0.9920310618684957,0.9920310618684957,0.9920310618684957,0.9920310618684957,0.9920310618684957,0.9920310618684957,0.9920310618684957,0.9920310618684957,0.9920310618684957,0.9920310618684957,0.9920310618684957,0.9920310618684957,0.9920310618684957,0.9920310618684957,0.9920310618684957,0.9920310618684957,0.9920310618684957,0.9920310618684957,0.9920310618684957,0.9920310618684957,0.9920310618684957,0.9920310618684957,0.9920310618684957,0.9920310618684957,0.9920310618684957,0.9920310618684957,0.9920310618684957,0.9920310618684957,0.9920310618684957,0.9920310618684957,0.9920310618684957,0.9920310618684957,0.9920310618684957,0.9920310618684957,0.9920310618684957,0.9920310618684957,0.9920310618684957,0.9920310618684957,0.9920310618684957,0.9920310618684957,0.9920310618684957],\"type\":\"scatter3d\",\"scene\":\"scene3\"},{\"marker\":{\"color\":\"green\",\"size\":0.5},\"mode\":\"markers\",\"name\":\"Equilibrium surface\",\"visible\":true,\"x\":[0.0,2.3333333333333335,4.666666666666667,7.0,9.333333333333334,11.666666666666668,14.0,16.333333333333336,18.666666666666668,21.0,23.333333333333336,25.666666666666668,28.0,30.333333333333336,32.66666666666667,35.0,37.333333333333336,39.66666666666667,42.0,44.333333333333336,46.66666666666667,49.0,51.333333333333336,53.66666666666667,56.0,58.333333333333336,60.66666666666667,63.00000000000001,65.33333333333334,67.66666666666667,70.0,0.0,2.3333333333333335,4.666666666666667,7.0,9.333333333333334,11.666666666666668,14.0,16.333333333333336,18.666666666666668,21.0,23.333333333333336,25.666666666666668,28.0,30.333333333333336,32.66666666666667,35.0,37.333333333333336,39.66666666666667,42.0,44.333333333333336,46.66666666666667,49.0,51.333333333333336,53.66666666666667,56.0,58.333333333333336,60.66666666666667,63.00000000000001,65.33333333333334,67.66666666666667,70.0,0.0,2.3333333333333335,4.666666666666667,7.0,9.333333333333334,11.666666666666668,14.0,16.333333333333336,18.666666666666668,21.0,23.333333333333336,25.666666666666668,28.0,30.333333333333336,32.66666666666667,35.0,37.333333333333336,39.66666666666667,42.0,44.333333333333336,46.66666666666667,49.0,51.333333333333336,53.66666666666667,56.0,58.333333333333336,60.66666666666667,63.00000000000001,65.33333333333334,67.66666666666667,70.0,0.0,2.3333333333333335,4.666666666666667,7.0,9.333333333333334,11.666666666666668,14.0,16.333333333333336,18.666666666666668,21.0,23.333333333333336,25.666666666666668,28.0,30.333333333333336,32.66666666666667,35.0,37.333333333333336,39.66666666666667,42.0,44.333333333333336,46.66666666666667,49.0,51.333333333333336,53.66666666666667,56.0,58.333333333333336,60.66666666666667,63.00000000000001,65.33333333333334,67.66666666666667,70.0,0.0,2.3333333333333335,4.666666666666667,7.0,9.333333333333334,11.666666666666668,14.0,16.333333333333336,18.666666666666668,21.0,23.333333333333336,25.666666666666668,28.0,30.333333333333336,32.66666666666667,35.0,37.333333333333336,39.66666666666667,42.0,44.333333333333336,46.66666666666667,49.0,51.333333333333336,53.66666666666667,56.0,58.333333333333336,60.66666666666667,63.00000000000001,65.33333333333334,67.66666666666667,70.0,0.0,2.3333333333333335,4.666666666666667,7.0,9.333333333333334,11.666666666666668,14.0,16.333333333333336,18.666666666666668,21.0,23.333333333333336,25.666666666666668,28.0,30.333333333333336,32.66666666666667,35.0,37.333333333333336,39.66666666666667,42.0,44.333333333333336,46.66666666666667,49.0,51.333333333333336,53.66666666666667,56.0,58.333333333333336,60.66666666666667,63.00000000000001,65.33333333333334,67.66666666666667,70.0,0.0,2.3333333333333335,4.666666666666667,7.0,9.333333333333334,11.666666666666668,14.0,16.333333333333336,18.666666666666668,21.0,23.333333333333336,25.666666666666668,28.0,30.333333333333336,32.66666666666667,35.0,37.333333333333336,39.66666666666667,42.0,44.333333333333336,46.66666666666667,49.0,51.333333333333336,53.66666666666667,56.0,58.333333333333336,60.66666666666667,63.00000000000001,65.33333333333334,67.66666666666667,70.0,0.0,2.3333333333333335,4.666666666666667,7.0,9.333333333333334,11.666666666666668,14.0,16.333333333333336,18.666666666666668,21.0,23.333333333333336,25.666666666666668,28.0,30.333333333333336,32.66666666666667,35.0,37.333333333333336,39.66666666666667,42.0,44.333333333333336,46.66666666666667,49.0,51.333333333333336,53.66666666666667,56.0,58.333333333333336,60.66666666666667,63.00000000000001,65.33333333333334,67.66666666666667,70.0,0.0,2.3333333333333335,4.666666666666667,7.0,9.333333333333334,11.666666666666668,14.0,16.333333333333336,18.666666666666668,21.0,23.333333333333336,25.666666666666668,28.0,30.333333333333336,32.66666666666667,35.0,37.333333333333336,39.66666666666667,42.0,44.333333333333336,46.66666666666667,49.0,51.333333333333336,53.66666666666667,56.0,58.333333333333336,60.66666666666667,63.00000000000001,65.33333333333334,67.66666666666667,70.0,0.0,2.3333333333333335,4.666666666666667,7.0,9.333333333333334,11.666666666666668,14.0,16.333333333333336,18.666666666666668,21.0,23.333333333333336,25.666666666666668,28.0,30.333333333333336,32.66666666666667,35.0,37.333333333333336,39.66666666666667,42.0,44.333333333333336,46.66666666666667,49.0,51.333333333333336,53.66666666666667,56.0,58.333333333333336,60.66666666666667,63.00000000000001,65.33333333333334,67.66666666666667,70.0,0.0,2.3333333333333335,4.666666666666667,7.0,9.333333333333334,11.666666666666668,14.0,16.333333333333336,18.666666666666668,21.0,23.333333333333336,25.666666666666668,28.0,30.333333333333336,32.66666666666667,35.0,37.333333333333336,39.66666666666667,42.0,44.333333333333336,46.66666666666667,49.0,51.333333333333336,53.66666666666667,56.0,58.333333333333336,60.66666666666667,63.00000000000001,65.33333333333334,67.66666666666667,70.0,0.0,2.3333333333333335,4.666666666666667,7.0,9.333333333333334,11.666666666666668,14.0,16.333333333333336,18.666666666666668,21.0,23.333333333333336,25.666666666666668,28.0,30.333333333333336,32.66666666666667,35.0,37.333333333333336,39.66666666666667,42.0,44.333333333333336,46.66666666666667,49.0,51.333333333333336,53.66666666666667,56.0,58.333333333333336,60.66666666666667,63.00000000000001,65.33333333333334,67.66666666666667,70.0,0.0,2.3333333333333335,4.666666666666667,7.0,9.333333333333334,11.666666666666668,14.0,16.333333333333336,18.666666666666668,21.0,23.333333333333336,25.666666666666668,28.0,30.333333333333336,32.66666666666667,35.0,37.333333333333336,39.66666666666667,42.0,44.333333333333336,46.66666666666667,49.0,51.333333333333336,53.66666666666667,56.0,58.333333333333336,60.66666666666667,63.00000000000001,65.33333333333334,67.66666666666667,70.0,0.0,2.3333333333333335,4.666666666666667,7.0,9.333333333333334,11.666666666666668,14.0,16.333333333333336,18.666666666666668,21.0,23.333333333333336,25.666666666666668,28.0,30.333333333333336,32.66666666666667,35.0,37.333333333333336,39.66666666666667,42.0,44.333333333333336,46.66666666666667,49.0,51.333333333333336,53.66666666666667,56.0,58.333333333333336,60.66666666666667,63.00000000000001,65.33333333333334,67.66666666666667,70.0,0.0,2.3333333333333335,4.666666666666667,7.0,9.333333333333334,11.666666666666668,14.0,16.333333333333336,18.666666666666668,21.0,23.333333333333336,25.666666666666668,28.0,30.333333333333336,32.66666666666667,35.0,37.333333333333336,39.66666666666667,42.0,44.333333333333336,46.66666666666667,49.0,51.333333333333336,53.66666666666667,56.0,58.333333333333336,60.66666666666667,63.00000000000001,65.33333333333334,67.66666666666667,70.0,0.0,2.3333333333333335,4.666666666666667,7.0,9.333333333333334,11.666666666666668,14.0,16.333333333333336,18.666666666666668,21.0,23.333333333333336,25.666666666666668,28.0,30.333333333333336,32.66666666666667,35.0,37.333333333333336,39.66666666666667,42.0,44.333333333333336,46.66666666666667,49.0,51.333333333333336,53.66666666666667,56.0,58.333333333333336,60.66666666666667,63.00000000000001,65.33333333333334,67.66666666666667,70.0,0.0,2.3333333333333335,4.666666666666667,7.0,9.333333333333334,11.666666666666668,14.0,16.333333333333336,18.666666666666668,21.0,23.333333333333336,25.666666666666668,28.0,30.333333333333336,32.66666666666667,35.0,37.333333333333336,39.66666666666667,42.0,44.333333333333336,46.66666666666667,49.0,51.333333333333336,53.66666666666667,56.0,58.333333333333336,60.66666666666667,63.00000000000001,65.33333333333334,67.66666666666667,70.0,0.0,2.3333333333333335,4.666666666666667,7.0,9.333333333333334,11.666666666666668,14.0,16.333333333333336,18.666666666666668,21.0,23.333333333333336,25.666666666666668,28.0,30.333333333333336,32.66666666666667,35.0,37.333333333333336,39.66666666666667,42.0,44.333333333333336,46.66666666666667,49.0,51.333333333333336,53.66666666666667,56.0,58.333333333333336,60.66666666666667,63.00000000000001,65.33333333333334,67.66666666666667,70.0,0.0,2.3333333333333335,4.666666666666667,7.0,9.333333333333334,11.666666666666668,14.0,16.333333333333336,18.666666666666668,21.0,23.333333333333336,25.666666666666668,28.0,30.333333333333336,32.66666666666667,35.0,37.333333333333336,39.66666666666667,42.0,44.333333333333336,46.66666666666667,49.0,51.333333333333336,53.66666666666667,56.0,58.333333333333336,60.66666666666667,63.00000000000001,65.33333333333334,67.66666666666667,70.0,0.0,2.3333333333333335,4.666666666666667,7.0,9.333333333333334,11.666666666666668,14.0,16.333333333333336,18.666666666666668,21.0,23.333333333333336,25.666666666666668,28.0,30.333333333333336,32.66666666666667,35.0,37.333333333333336,39.66666666666667,42.0,44.333333333333336,46.66666666666667,49.0,51.333333333333336,53.66666666666667,56.0,58.333333333333336,60.66666666666667,63.00000000000001,65.33333333333334,67.66666666666667,70.0,0.0,2.3333333333333335,4.666666666666667,7.0,9.333333333333334,11.666666666666668,14.0,16.333333333333336,18.666666666666668,21.0,23.333333333333336,25.666666666666668,28.0,30.333333333333336,32.66666666666667,35.0,37.333333333333336,39.66666666666667,42.0,44.333333333333336,46.66666666666667,49.0,51.333333333333336,53.66666666666667,56.0,58.333333333333336,60.66666666666667,63.00000000000001,65.33333333333334,67.66666666666667,70.0,0.0,2.3333333333333335,4.666666666666667,7.0,9.333333333333334,11.666666666666668,14.0,16.333333333333336,18.666666666666668,21.0,23.333333333333336,25.666666666666668,28.0,30.333333333333336,32.66666666666667,35.0,37.333333333333336,39.66666666666667,42.0,44.333333333333336,46.66666666666667,49.0,51.333333333333336,53.66666666666667,56.0,58.333333333333336,60.66666666666667,63.00000000000001,65.33333333333334,67.66666666666667,70.0,0.0,2.3333333333333335,4.666666666666667,7.0,9.333333333333334,11.666666666666668,14.0,16.333333333333336,18.666666666666668,21.0,23.333333333333336,25.666666666666668,28.0,30.333333333333336,32.66666666666667,35.0,37.333333333333336,39.66666666666667,42.0,44.333333333333336,46.66666666666667,49.0,51.333333333333336,53.66666666666667,56.0,58.333333333333336,60.66666666666667,63.00000000000001,65.33333333333334,67.66666666666667,70.0,0.0,2.3333333333333335,4.666666666666667,7.0,9.333333333333334,11.666666666666668,14.0,16.333333333333336,18.666666666666668,21.0,23.333333333333336,25.666666666666668,28.0,30.333333333333336,32.66666666666667,35.0,37.333333333333336,39.66666666666667,42.0,44.333333333333336,46.66666666666667,49.0,51.333333333333336,53.66666666666667,56.0,58.333333333333336,60.66666666666667,63.00000000000001,65.33333333333334,67.66666666666667,70.0,0.0,2.3333333333333335,4.666666666666667,7.0,9.333333333333334,11.666666666666668,14.0,16.333333333333336,18.666666666666668,21.0,23.333333333333336,25.666666666666668,28.0,30.333333333333336,32.66666666666667,35.0,37.333333333333336,39.66666666666667,42.0,44.333333333333336,46.66666666666667,49.0,51.333333333333336,53.66666666666667,56.0,58.333333333333336,60.66666666666667,63.00000000000001,65.33333333333334,67.66666666666667,70.0,0.0,2.3333333333333335,4.666666666666667,7.0,9.333333333333334,11.666666666666668,14.0,16.333333333333336,18.666666666666668,21.0,23.333333333333336,25.666666666666668,28.0,30.333333333333336,32.66666666666667,35.0,37.333333333333336,39.66666666666667,42.0,44.333333333333336,46.66666666666667,49.0,51.333333333333336,53.66666666666667,56.0,58.333333333333336,60.66666666666667,63.00000000000001,65.33333333333334,67.66666666666667,70.0,0.0,2.3333333333333335,4.666666666666667,7.0,9.333333333333334,11.666666666666668,14.0,16.333333333333336,18.666666666666668,21.0,23.333333333333336,25.666666666666668,28.0,30.333333333333336,32.66666666666667,35.0,37.333333333333336,39.66666666666667,42.0,44.333333333333336,46.66666666666667,49.0,51.333333333333336,53.66666666666667,56.0,58.333333333333336,60.66666666666667,63.00000000000001,65.33333333333334,67.66666666666667,70.0,0.0,2.3333333333333335,4.666666666666667,7.0,9.333333333333334,11.666666666666668,14.0,16.333333333333336,18.666666666666668,21.0,23.333333333333336,25.666666666666668,28.0,30.333333333333336,32.66666666666667,35.0,37.333333333333336,39.66666666666667,42.0,44.333333333333336,46.66666666666667,49.0,51.333333333333336,53.66666666666667,56.0,58.333333333333336,60.66666666666667,63.00000000000001,65.33333333333334,67.66666666666667,70.0,0.0,2.3333333333333335,4.666666666666667,7.0,9.333333333333334,11.666666666666668,14.0,16.333333333333336,18.666666666666668,21.0,23.333333333333336,25.666666666666668,28.0,30.333333333333336,32.66666666666667,35.0,37.333333333333336,39.66666666666667,42.0,44.333333333333336,46.66666666666667,49.0,51.333333333333336,53.66666666666667,56.0,58.333333333333336,60.66666666666667,63.00000000000001,65.33333333333334,67.66666666666667,70.0,0.0,2.3333333333333335,4.666666666666667,7.0,9.333333333333334,11.666666666666668,14.0,16.333333333333336,18.666666666666668,21.0,23.333333333333336,25.666666666666668,28.0,30.333333333333336,32.66666666666667,35.0,37.333333333333336,39.66666666666667,42.0,44.333333333333336,46.66666666666667,49.0,51.333333333333336,53.66666666666667,56.0,58.333333333333336,60.66666666666667,63.00000000000001,65.33333333333334,67.66666666666667,70.0,0.0,2.3333333333333335,4.666666666666667,7.0,9.333333333333334,11.666666666666668,14.0,16.333333333333336,18.666666666666668,21.0,23.333333333333336,25.666666666666668,28.0,30.333333333333336,32.66666666666667,35.0,37.333333333333336,39.66666666666667,42.0,44.333333333333336,46.66666666666667,49.0,51.333333333333336,53.66666666666667,56.0,58.333333333333336,60.66666666666667,63.00000000000001,65.33333333333334,67.66666666666667,70.0],\"y\":[0.0,0.0,0.0,0.0,0.0,0.0,0.0,0.0,0.0,0.0,0.0,0.0,0.0,0.0,0.0,0.0,0.0,0.0,0.0,0.0,0.0,0.0,0.0,0.0,0.0,0.0,0.0,0.0,0.0,0.0,0.0,0.8333333333333334,0.8333333333333334,0.8333333333333334,0.8333333333333334,0.8333333333333334,0.8333333333333334,0.8333333333333334,0.8333333333333334,0.8333333333333334,0.8333333333333334,0.8333333333333334,0.8333333333333334,0.8333333333333334,0.8333333333333334,0.8333333333333334,0.8333333333333334,0.8333333333333334,0.8333333333333334,0.8333333333333334,0.8333333333333334,0.8333333333333334,0.8333333333333334,0.8333333333333334,0.8333333333333334,0.8333333333333334,0.8333333333333334,0.8333333333333334,0.8333333333333334,0.8333333333333334,0.8333333333333334,0.8333333333333334,1.6666666666666667,1.6666666666666667,1.6666666666666667,1.6666666666666667,1.6666666666666667,1.6666666666666667,1.6666666666666667,1.6666666666666667,1.6666666666666667,1.6666666666666667,1.6666666666666667,1.6666666666666667,1.6666666666666667,1.6666666666666667,1.6666666666666667,1.6666666666666667,1.6666666666666667,1.6666666666666667,1.6666666666666667,1.6666666666666667,1.6666666666666667,1.6666666666666667,1.6666666666666667,1.6666666666666667,1.6666666666666667,1.6666666666666667,1.6666666666666667,1.6666666666666667,1.6666666666666667,1.6666666666666667,1.6666666666666667,2.5,2.5,2.5,2.5,2.5,2.5,2.5,2.5,2.5,2.5,2.5,2.5,2.5,2.5,2.5,2.5,2.5,2.5,2.5,2.5,2.5,2.5,2.5,2.5,2.5,2.5,2.5,2.5,2.5,2.5,2.5,3.3333333333333335,3.3333333333333335,3.3333333333333335,3.3333333333333335,3.3333333333333335,3.3333333333333335,3.3333333333333335,3.3333333333333335,3.3333333333333335,3.3333333333333335,3.3333333333333335,3.3333333333333335,3.3333333333333335,3.3333333333333335,3.3333333333333335,3.3333333333333335,3.3333333333333335,3.3333333333333335,3.3333333333333335,3.3333333333333335,3.3333333333333335,3.3333333333333335,3.3333333333333335,3.3333333333333335,3.3333333333333335,3.3333333333333335,3.3333333333333335,3.3333333333333335,3.3333333333333335,3.3333333333333335,3.3333333333333335,4.166666666666667,4.166666666666667,4.166666666666667,4.166666666666667,4.166666666666667,4.166666666666667,4.166666666666667,4.166666666666667,4.166666666666667,4.166666666666667,4.166666666666667,4.166666666666667,4.166666666666667,4.166666666666667,4.166666666666667,4.166666666666667,4.166666666666667,4.166666666666667,4.166666666666667,4.166666666666667,4.166666666666667,4.166666666666667,4.166666666666667,4.166666666666667,4.166666666666667,4.166666666666667,4.166666666666667,4.166666666666667,4.166666666666667,4.166666666666667,4.166666666666667,5.0,5.0,5.0,5.0,5.0,5.0,5.0,5.0,5.0,5.0,5.0,5.0,5.0,5.0,5.0,5.0,5.0,5.0,5.0,5.0,5.0,5.0,5.0,5.0,5.0,5.0,5.0,5.0,5.0,5.0,5.0,5.833333333333334,5.833333333333334,5.833333333333334,5.833333333333334,5.833333333333334,5.833333333333334,5.833333333333334,5.833333333333334,5.833333333333334,5.833333333333334,5.833333333333334,5.833333333333334,5.833333333333334,5.833333333333334,5.833333333333334,5.833333333333334,5.833333333333334,5.833333333333334,5.833333333333334,5.833333333333334,5.833333333333334,5.833333333333334,5.833333333333334,5.833333333333334,5.833333333333334,5.833333333333334,5.833333333333334,5.833333333333334,5.833333333333334,5.833333333333334,5.833333333333334,6.666666666666667,6.666666666666667,6.666666666666667,6.666666666666667,6.666666666666667,6.666666666666667,6.666666666666667,6.666666666666667,6.666666666666667,6.666666666666667,6.666666666666667,6.666666666666667,6.666666666666667,6.666666666666667,6.666666666666667,6.666666666666667,6.666666666666667,6.666666666666667,6.666666666666667,6.666666666666667,6.666666666666667,6.666666666666667,6.666666666666667,6.666666666666667,6.666666666666667,6.666666666666667,6.666666666666667,6.666666666666667,6.666666666666667,6.666666666666667,6.666666666666667,7.5,7.5,7.5,7.5,7.5,7.5,7.5,7.5,7.5,7.5,7.5,7.5,7.5,7.5,7.5,7.5,7.5,7.5,7.5,7.5,7.5,7.5,7.5,7.5,7.5,7.5,7.5,7.5,7.5,7.5,7.5,8.333333333333334,8.333333333333334,8.333333333333334,8.333333333333334,8.333333333333334,8.333333333333334,8.333333333333334,8.333333333333334,8.333333333333334,8.333333333333334,8.333333333333334,8.333333333333334,8.333333333333334,8.333333333333334,8.333333333333334,8.333333333333334,8.333333333333334,8.333333333333334,8.333333333333334,8.333333333333334,8.333333333333334,8.333333333333334,8.333333333333334,8.333333333333334,8.333333333333334,8.333333333333334,8.333333333333334,8.333333333333334,8.333333333333334,8.333333333333334,8.333333333333334,9.166666666666668,9.166666666666668,9.166666666666668,9.166666666666668,9.166666666666668,9.166666666666668,9.166666666666668,9.166666666666668,9.166666666666668,9.166666666666668,9.166666666666668,9.166666666666668,9.166666666666668,9.166666666666668,9.166666666666668,9.166666666666668,9.166666666666668,9.166666666666668,9.166666666666668,9.166666666666668,9.166666666666668,9.166666666666668,9.166666666666668,9.166666666666668,9.166666666666668,9.166666666666668,9.166666666666668,9.166666666666668,9.166666666666668,9.166666666666668,9.166666666666668,10.0,10.0,10.0,10.0,10.0,10.0,10.0,10.0,10.0,10.0,10.0,10.0,10.0,10.0,10.0,10.0,10.0,10.0,10.0,10.0,10.0,10.0,10.0,10.0,10.0,10.0,10.0,10.0,10.0,10.0,10.0,10.833333333333334,10.833333333333334,10.833333333333334,10.833333333333334,10.833333333333334,10.833333333333334,10.833333333333334,10.833333333333334,10.833333333333334,10.833333333333334,10.833333333333334,10.833333333333334,10.833333333333334,10.833333333333334,10.833333333333334,10.833333333333334,10.833333333333334,10.833333333333334,10.833333333333334,10.833333333333334,10.833333333333334,10.833333333333334,10.833333333333334,10.833333333333334,10.833333333333334,10.833333333333334,10.833333333333334,10.833333333333334,10.833333333333334,10.833333333333334,10.833333333333334,11.666666666666668,11.666666666666668,11.666666666666668,11.666666666666668,11.666666666666668,11.666666666666668,11.666666666666668,11.666666666666668,11.666666666666668,11.666666666666668,11.666666666666668,11.666666666666668,11.666666666666668,11.666666666666668,11.666666666666668,11.666666666666668,11.666666666666668,11.666666666666668,11.666666666666668,11.666666666666668,11.666666666666668,11.666666666666668,11.666666666666668,11.666666666666668,11.666666666666668,11.666666666666668,11.666666666666668,11.666666666666668,11.666666666666668,11.666666666666668,11.666666666666668,12.5,12.5,12.5,12.5,12.5,12.5,12.5,12.5,12.5,12.5,12.5,12.5,12.5,12.5,12.5,12.5,12.5,12.5,12.5,12.5,12.5,12.5,12.5,12.5,12.5,12.5,12.5,12.5,12.5,12.5,12.5,13.333333333333334,13.333333333333334,13.333333333333334,13.333333333333334,13.333333333333334,13.333333333333334,13.333333333333334,13.333333333333334,13.333333333333334,13.333333333333334,13.333333333333334,13.333333333333334,13.333333333333334,13.333333333333334,13.333333333333334,13.333333333333334,13.333333333333334,13.333333333333334,13.333333333333334,13.333333333333334,13.333333333333334,13.333333333333334,13.333333333333334,13.333333333333334,13.333333333333334,13.333333333333334,13.333333333333334,13.333333333333334,13.333333333333334,13.333333333333334,13.333333333333334,14.166666666666668,14.166666666666668,14.166666666666668,14.166666666666668,14.166666666666668,14.166666666666668,14.166666666666668,14.166666666666668,14.166666666666668,14.166666666666668,14.166666666666668,14.166666666666668,14.166666666666668,14.166666666666668,14.166666666666668,14.166666666666668,14.166666666666668,14.166666666666668,14.166666666666668,14.166666666666668,14.166666666666668,14.166666666666668,14.166666666666668,14.166666666666668,14.166666666666668,14.166666666666668,14.166666666666668,14.166666666666668,14.166666666666668,14.166666666666668,14.166666666666668,15.0,15.0,15.0,15.0,15.0,15.0,15.0,15.0,15.0,15.0,15.0,15.0,15.0,15.0,15.0,15.0,15.0,15.0,15.0,15.0,15.0,15.0,15.0,15.0,15.0,15.0,15.0,15.0,15.0,15.0,15.0,15.833333333333334,15.833333333333334,15.833333333333334,15.833333333333334,15.833333333333334,15.833333333333334,15.833333333333334,15.833333333333334,15.833333333333334,15.833333333333334,15.833333333333334,15.833333333333334,15.833333333333334,15.833333333333334,15.833333333333334,15.833333333333334,15.833333333333334,15.833333333333334,15.833333333333334,15.833333333333334,15.833333333333334,15.833333333333334,15.833333333333334,15.833333333333334,15.833333333333334,15.833333333333334,15.833333333333334,15.833333333333334,15.833333333333334,15.833333333333334,15.833333333333334,16.666666666666668,16.666666666666668,16.666666666666668,16.666666666666668,16.666666666666668,16.666666666666668,16.666666666666668,16.666666666666668,16.666666666666668,16.666666666666668,16.666666666666668,16.666666666666668,16.666666666666668,16.666666666666668,16.666666666666668,16.666666666666668,16.666666666666668,16.666666666666668,16.666666666666668,16.666666666666668,16.666666666666668,16.666666666666668,16.666666666666668,16.666666666666668,16.666666666666668,16.666666666666668,16.666666666666668,16.666666666666668,16.666666666666668,16.666666666666668,16.666666666666668,17.5,17.5,17.5,17.5,17.5,17.5,17.5,17.5,17.5,17.5,17.5,17.5,17.5,17.5,17.5,17.5,17.5,17.5,17.5,17.5,17.5,17.5,17.5,17.5,17.5,17.5,17.5,17.5,17.5,17.5,17.5,18.333333333333336,18.333333333333336,18.333333333333336,18.333333333333336,18.333333333333336,18.333333333333336,18.333333333333336,18.333333333333336,18.333333333333336,18.333333333333336,18.333333333333336,18.333333333333336,18.333333333333336,18.333333333333336,18.333333333333336,18.333333333333336,18.333333333333336,18.333333333333336,18.333333333333336,18.333333333333336,18.333333333333336,18.333333333333336,18.333333333333336,18.333333333333336,18.333333333333336,18.333333333333336,18.333333333333336,18.333333333333336,18.333333333333336,18.333333333333336,18.333333333333336,19.166666666666668,19.166666666666668,19.166666666666668,19.166666666666668,19.166666666666668,19.166666666666668,19.166666666666668,19.166666666666668,19.166666666666668,19.166666666666668,19.166666666666668,19.166666666666668,19.166666666666668,19.166666666666668,19.166666666666668,19.166666666666668,19.166666666666668,19.166666666666668,19.166666666666668,19.166666666666668,19.166666666666668,19.166666666666668,19.166666666666668,19.166666666666668,19.166666666666668,19.166666666666668,19.166666666666668,19.166666666666668,19.166666666666668,19.166666666666668,19.166666666666668,20.0,20.0,20.0,20.0,20.0,20.0,20.0,20.0,20.0,20.0,20.0,20.0,20.0,20.0,20.0,20.0,20.0,20.0,20.0,20.0,20.0,20.0,20.0,20.0,20.0,20.0,20.0,20.0,20.0,20.0,20.0,20.833333333333336,20.833333333333336,20.833333333333336,20.833333333333336,20.833333333333336,20.833333333333336,20.833333333333336,20.833333333333336,20.833333333333336,20.833333333333336,20.833333333333336,20.833333333333336,20.833333333333336,20.833333333333336,20.833333333333336,20.833333333333336,20.833333333333336,20.833333333333336,20.833333333333336,20.833333333333336,20.833333333333336,20.833333333333336,20.833333333333336,20.833333333333336,20.833333333333336,20.833333333333336,20.833333333333336,20.833333333333336,20.833333333333336,20.833333333333336,20.833333333333336,21.666666666666668,21.666666666666668,21.666666666666668,21.666666666666668,21.666666666666668,21.666666666666668,21.666666666666668,21.666666666666668,21.666666666666668,21.666666666666668,21.666666666666668,21.666666666666668,21.666666666666668,21.666666666666668,21.666666666666668,21.666666666666668,21.666666666666668,21.666666666666668,21.666666666666668,21.666666666666668,21.666666666666668,21.666666666666668,21.666666666666668,21.666666666666668,21.666666666666668,21.666666666666668,21.666666666666668,21.666666666666668,21.666666666666668,21.666666666666668,21.666666666666668,22.5,22.5,22.5,22.5,22.5,22.5,22.5,22.5,22.5,22.5,22.5,22.5,22.5,22.5,22.5,22.5,22.5,22.5,22.5,22.5,22.5,22.5,22.5,22.5,22.5,22.5,22.5,22.5,22.5,22.5,22.5,23.333333333333336,23.333333333333336,23.333333333333336,23.333333333333336,23.333333333333336,23.333333333333336,23.333333333333336,23.333333333333336,23.333333333333336,23.333333333333336,23.333333333333336,23.333333333333336,23.333333333333336,23.333333333333336,23.333333333333336,23.333333333333336,23.333333333333336,23.333333333333336,23.333333333333336,23.333333333333336,23.333333333333336,23.333333333333336,23.333333333333336,23.333333333333336,23.333333333333336,23.333333333333336,23.333333333333336,23.333333333333336,23.333333333333336,23.333333333333336,23.333333333333336,24.166666666666668,24.166666666666668,24.166666666666668,24.166666666666668,24.166666666666668,24.166666666666668,24.166666666666668,24.166666666666668,24.166666666666668,24.166666666666668,24.166666666666668,24.166666666666668,24.166666666666668,24.166666666666668,24.166666666666668,24.166666666666668,24.166666666666668,24.166666666666668,24.166666666666668,24.166666666666668,24.166666666666668,24.166666666666668,24.166666666666668,24.166666666666668,24.166666666666668,24.166666666666668,24.166666666666668,24.166666666666668,24.166666666666668,24.166666666666668,24.166666666666668,25.0,25.0,25.0,25.0,25.0,25.0,25.0,25.0,25.0,25.0,25.0,25.0,25.0,25.0,25.0,25.0,25.0,25.0,25.0,25.0,25.0,25.0,25.0,25.0,25.0,25.0,25.0,25.0,25.0,25.0,25.0],\"z\":[0.06420811994124898,0.06458282358317924,0.06505685490823354,0.06565504763447794,0.06640778671466607,0.06735193485261659,0.0685317435496201,0.06999962704521656,0.07181659738699442,0.0740520433239219,0.07678237739630267,0.08008787417119656,0.08404679703848017,0.08872572286025349,0.09416496587463541,0.10035845267620025,0.1072287720472378,0.11460104460960141,0.12218427727244507,0.12957575590339787,0.1363104723059585,0.14197781150729705,0.1464132345240149,0.14993866963842317,0.15358368859345617,0.15920785723816078,0.1695084859269651,0.18804152900281634,0.21953610121818057,0.2708432772913011,0.3527725463416541,0.065309296092806,0.06603982298420041,0.06698462927245374,0.06820554731805106,0.0697817280512546,0.07181419225360874,0.07443139058968573,0.0777958684062966,0.08211203878750917,0.08763487865305586,0.09467901581167104,0.10362708050318004,0.11493523609458622,0.12913235240746057,0.14680726067809846,0.16857603671775256,0.195018865992713,0.22657522749078196,0.2633898001301638,0.30511413390596276,0.35069550596289845,0.39822524004304416,0.4449630735798582,0.48767249858479467,0.5233539542824516,0.5503316692537363,0.5694926213425351,0.5854274076834021,0.6073948701922017,0.6503533787855957,0.7364432476864473,0.06643982544093896,0.067530812281413,0.06895086127884875,0.0707981539843876,0.07319952398499296,0.07631840295064807,0.08036468790470086,0.08560679264109472,0.09238602148907127,0.10113311829526928,0.11238628578220011,0.12680897577209937,0.14520409818201419,0.16851873495056646,0.19782979052289174,0.23429638830850819,0.27906014171646265,0.3330721350097001,0.3968303643442299,0.47003085827735214,0.551177395556706,0.6372601139545253,0.7236868488923573,0.8046923941152024,0.8744050373240295,0.9285873195429726,0.9668390284336001,0.9948946922811936,1.0266998813647148,1.0861406403825256,1.2081480919336092,0.06767518184592725,0.06915577941733175,0.0710879521269907,0.07360807171355,0.07689280343847349,0.08117040471429737,0.08673476730630114,0.09396256180314333,0.10333364226464836,0.11545442236659342,0.13108307710645517,0.1511539216670641,0.17679587500783067,0.2093362356134726,0.2502759719014742,0.30121683526824583,0.36371558998981224,0.4390404529127071,0.52781615056618,0.629575264682907,0.7422903306062734,0.8620374218100071,0.9830113530506752,1.0981313537937778,1.2004074440158068,1.2850887543855283,1.3524467659758805,1.410922955141206,1.4802483152230383,1.5937260300070928,1.7975234618953302,0.06908821617863048,0.0710108368140604,0.07352261628297652,0.07680220416618988,0.08108112820068836,0.086658544000907,0.09391946208787272,0.1033568082357279,0.11559732846826254,0.13143064059613885,0.15183943644037678,0.17802665684804142,0.21143206927090796,0.2537258621718048,0.30676086347573317,0.37245907700753367,0.45260561510934916,0.5485296394535119,0.6606756012088172,0.788115512378252,0.9281218123443807,1.0759906700158788,1.2253402456650753,1.369074202828434,1.5011026982221467,1.618805607808702,1.7261525186958377,1.837274889072519,1.9797604686534913,2.1953586833819916,2.5328588722641827,0.07075452464007215,0.07319531298923121,0.07638522895653421,0.08055143940029486,0.08598807528790453,0.09307462115558474,0.10229839881613911,0.1142813582205322,0.1298108041259579,0.14987257595372694,0.17568327763619773,0.20871509470215488,0.2507022732931219,0.3036125506382267,0.3695606821623507,0.4506373684842574,0.5486305144670697,0.6646344060529259,0.7985832768896496,0.9488089606150243,1.1117920273390194,1.2823179231387596,1.4542285755411968,1.621873202081301,1.7822603377211241,1.9378552449915354,2.099891401071692,2.2916221017399874,2.549431801667502,2.9167520057797973,3.423953131540257,0.07275726738526433,0.07581807396719276,0.07981809239730386,0.08504141373082919,0.09185517494551676,0.10073180634969348,0.11227580445233065,0.12725489673731316,0.1466345124148134,0.1716127851333067,0.203650566362909,0.24448682884339412,0.2961243605432158,0.36076450429483675,0.4406651037328374,0.5378973503548449,0.6539920198568533,0.7895013000497194,0.9435613510518502,1.1136109552275784,1.2954721907861715,1.4839919963586543,1.6743658817998022,1.8641557301343328,2.055932736707411,2.2603856111135903,2.4993188458216915,2.8065502134317573,3.221858302671564,3.7713423944322066,4.436031006416311,0.07519181924694707,0.07900356991779645,0.0839832583620308,0.090482565111899,0.09895471893244556,0.10998076962075198,0.12430050776375678,0.14284725897486616,0.166784296016125,0.19753814786571344,0.23682033053604334,0.28662387009306844,0.3491749405135949,0.42681482757680356,0.5217872854119701,0.6359178455475558,0.7702026948787803,0.9243795505910306,1.0966233901935871,1.2835688629232667,1.480869966614632,1.6844440669118175,1.8924366185077144,2.1078394839380445,2.3415743239964844,2.615426293487591,2.9628288679327146,3.422701849278138,4.01974522980683,4.732858786047416,5.47736415854561,0.07817056164664904,0.0828980002043257,0.08907039987929133,0.0971200827548373,0.10760216607140038,0.12122486429058643,0.1388840528841897,0.16170027234461903,0.1910541432180265,0.22861273303184326,0.27633458974721203,0.33643526703288884,0.41128970113404983,0.5032462707958905,0.6143359469628227,0.7458866023102451,0.898103008567914,1.0697426921225401,1.2580838165895707,1.4594056989418769,1.6701562604504332,1.8888752372907711,2.118823160179396,2.371117086012044,2.667731527096751,3.042353268191424,3.5343080746738207,4.16891930897361,4.9256650754802305,5.719393998033858,6.429306850178332,0.08182807587476248,0.08767591636209082,0.09530511422440158,0.10524419185410328,0.11816861992917393,0.1349348283947669,0.15661729701736982,0.18454530318068052,0.22033278000152767,0.26589023955039404,0.3234020323377197,0.39524652939916105,0.48383415522397233,0.5913441981826106,0.7193638407160152,0.8684787287302248,1.037932164211104,1.2255412165487547,1.4280968678780601,1.6424474240257851,1.8673688299764573,2.106197504477478,2.3700287146167893,2.680824854011007,3.072420659593986,3.5846668675720035,4.244031184662647,5.031700871990867,5.863954930656325,6.619824864087276,7.204127599542835,0.08632696377936822,0.09354752471161143,0.1029579430303611,0.11520105612224663,0.13109360521673563,0.15166308540315443,0.17818529523945603,0.21221686432557496,0.25561286442278797,0.3105141698342708,0.3792834451101965,0.4643650806488858,0.5680481483094768,0.6921300983760568,0.8375200997401117,1.0038858612779107,1.1895223503367474,1.391672228044098,1.6075184930400486,1.8359874297579002,2.0803678423123024,2.3515597935626955,2.6712908365777386,3.0732904088807547,3.5976927321234644,4.271956744057546,5.079041234855129,5.937112022957955,6.726072077153489,7.3502318778961,7.776968912871517,0.09186449417487319,0.10076689604270783,0.11235429697128096,0.12740441168546546,0.14689809296953837,0.17205729660173008,0.20437965222392596,0.24566081554062857,0.29799061065415755,0.3637031806362686,0.445257116029234,0.5450233547994243,0.664973747105759,0.8062996688535362,0.9690514236484508,1.15196540046137,1.3527079405054327,1.5687735449134528,1.799208293867279,2.0471977721880075,2.323349311001051,2.6490059558218935,3.057588684518559,3.5892662804701283,4.27221533459377,5.090914451865979,5.965265615305805,6.776095105454109,7.427589809519683,7.886737149195989,8.17243277442995,0.0986802433620001,0.10964122614733918,0.12388535277416046,0.14234783851665822,0.16619738957699115,0.19687231576076158,0.23610684052671504,0.28593490543065614,0.3486530557822102,0.42671924079174783,0.5225645606833872,0.6383068836583305,0.7753871694051293,0.9342065591504857,1.1139186419679432,1.312601811240777,1.5280622610403363,1.7594687575053047,2.009893567420396,2.289611541008383,2.619499774836987,3.0325420590362064,3.5687650345858133,4.256842908369345,5.082526978750677,5.9672099735205535,6.792423968464199,7.462073740957543,7.942741160075521,8.25350410672264,8.43413668938188,0.10706485627900597,0.12054120341158081,0.13801982934382206,0.16061730541257802,0.18971308861611702,0.2269791194200469,0.2743903049805879,0.33419885220287826,0.4088503191248981,0.5008181100110826,0.6123421702006668,0.7450851715837223,0.8997722030068331,1.0759551355282555,1.2721198132257088,1.4863953807037498,1.7180940232169561,1.970191348185743,2.2526265541134887,2.585775649118046,3.002112088786461,3.541407819651279,4.232685158735886,5.062791668258516,5.954422456193058,6.7896148068181965,7.4717633722179695,7.966801436145236,8.293791340617092,8.4931578217184,8.603601085199069,0.11736998932563969,0.1339124117357826,0.15531632704005538,0.18290327233464632,0.21828278473116747,0.2633686827696702,0.3203636614993547,0.39169123580304177,0.47985183963408784,0.5871864081150562,0.7155541868221492,0.8659795318996419,1.0383953285687435,1.231692157824882,1.4443373051022712,1.6758154386351256,1.929036827751813,2.2136236337039756,2.549444367507233,2.9684244304729974,3.5100110729286276,4.203475891981812,5.03664576090983,5.9333972129007755,6.7761430201032145,7.4676018217266815,7.9728437979901035,8.31067021654884,8.52191074029982,8.64605923403064,8.712546232097559,0.1300193929979665,0.1502875112482821,0.17643561284511355,0.21001119697282822,0.25286570787318685,0.3071482904651799,0.37525231279268245,0.4596918720409823,0.5628898472244712,0.686878668070391,0.8329582212039331,1.001425005527897,1.191570852431214,1.4022163771401779,1.6330506265463614,1.8869573184991317,2.173272981718216,2.5113698995252256,2.9326095486746615,3.476070466603327,4.171205784895099,5.006742566851943,5.907664379883183,6.7566867303441605,7.455753143102022,7.968927902131991,8.314571204108063,8.533709690933982,8.666400849826042,8.74279163252646,8.782755494328441,0.14552093700017554,0.17029868071200127,0.2021518510895729,0.24286880656700904,0.29454198462304193,0.3595277345869179,0.4403419872720251,0.5394721508718776,0.6591017532391967,0.8007828886758642,0.9651573705390846,1.1519127481833502,1.3602360587032631,1.5900523174039718,1.8442607203092014,2.1319510903121994,2.4720220152787964,2.8952690801504435,3.4403739910891655,4.136921890463831,4.9744826644015845,5.8790997966638585,6.733754101878267,7.439560173522569,7.9594893415878705,8.311346088920796,8.536217539075887,8.674563033584512,8.757053873467843,8.804127733465169,8.82839691620591,0.16447915918259692,0.194689470646201,0.23336134489439164,0.282528075671569,0.3445031587773846,0.421793851211857,0.5169360993219347,0.6322435722278619,0.7694975110728859,0.9296656182912465,1.1128230706710218,1.3185332590423293,1.5469866495334927,1.8011406520439275,2.089881698023274,2.431664807442434,2.856727214778617,3.4033359972744113,4.101169663047077,4.9405956242813485,5.848684916583963,6.708665871258061,7.420796747393638,7.946903221944389,8.304162936370684,8.533640789144423,8.67610012698696,8.762615651243506,8.814038287349861,8.843396513193033,8.858445871049232,0.18760762888420301,0.22432483077129095,0.2710869678298148,0.3301597534467098,0.404032449656202,0.49527486468346127,0.6063109365315461,0.7391282868536534,0.8950000059642615,1.0743781518461921,1.277208759308243,1.5039740752703303,1.7577315638972943,2.0472099947632447,2.3904563768117058,2.817164249531261,3.3651756672010666,4.064230855737334,4.905456218880772,5.816925560172013,6.68210711711051,7.400389698979575,7.932419845173218,8.294702450332315,8.528230286510754,8.674014786429714,8.763465236198039,8.817757200184923,8.850220966583358,8.868910015784937,8.878529914834763,0.2157400772721545,0.26019772782958006,0.31647635965389087,0.3870390079596676,0.47447591720579696,0.5813025176303535,0.7096904543693663,0.8611968155220671,1.0366372657554954,1.2363429865282245,1.4611105787635783,1.7141374312481812,2.0040414440911216,2.348501215971872,2.776687022504755,3.3260114433473933,4.026249857689862,4.869253167930282,5.784076894825869,6.654426486564674,7.3788154882534585,7.916687953744258,8.283843743095769,8.521171870805128,8.669900190830532,8.76173537089938,8.818129366218002,8.852650194063983,8.873564730595671,8.885789431278667,8.892175121778646,0.2498389405941237,0.3034306680135367,0.3707925897365024,0.4545231650239845,0.5572116650045091,0.6811919539044768,0.828283085712998,0.9996487770075512,1.1960041253015352,1.4184785691310982,1.670446558722705,1.960461960803867,2.3058776113889863,2.735365915961985,3.285910765617351,3.987300363695539,4.8320783813248225,5.750262789260306,6.6257956596508105,7.356312928786009,7.90003786746837,8.272039965682508,8.513082476583593,8.66459120024625,8.758550678046872,8.816664326469285,8.852704079107957,8.87510432307518,8.888930953837372,8.897183814158781,8.901602715781303,0.29099987463430976,0.3552709990081906,0.4353981652310458,0.534027988531888,0.6536354445381218,0.7962791450952675,0.9634533334279674,1.1562522378758668,1.3761523758311167,1.6267390991498907,1.9165482891200407,2.262651900010395,2.693254249193019,3.2449162272931407,3.9474204768579852,4.79397397427617,5.7155387532881985,6.596293597164792,7.332995914052278,7.882632180146517,8.259519461551976,8.504278042529616,8.65852006660379,8.754497934656161,8.814154377726913,8.851448384636585,8.874958205911165,8.889866584327608,8.89927824872925,8.905038644185284,8.90822507106668,0.34045131241122983,0.417080844151279,0.5117382926400638,0.627019464814299,0.7652000076103225,0.928085532426031,1.117141316887511,1.33420093256359,1.5830907577676476,1.8723732334911714,2.2188858145320416,2.650398413824121,3.203059334207394,3.906631202512791,4.754957024619372,5.679925058627429,6.565950875826191,7.308912797096982,7.864545296232814,8.246392254704576,8.494915943873377,8.651906652593928,8.749879561930227,8.81101137878776,8.84944045561062,8.87387746238409,8.889605514063947,8.899811227264955,8.906414259733094,8.910567210457728,8.912951141911428,0.39954995551362815,0.4903271684876692,0.6013391483194438,0.7350561841879616,0.8935748079065045,1.0787202784510503,1.2926890063595262,1.5395745031651193,1.828008183697538,2.174640189902177,2.6068431400695804,3.1603677534539703,3.864946225729184,4.7150326445714885,5.6434241842512165,6.53477299893235,7.2840775904945385,7.845805237572458,8.232706093419598,8.485070109470808,8.644859049665087,8.744848259093681,8.807446628009377,8.846969047432932,8.872253709431684,8.888676354301115,8.899494064756844,8.9066845728646,8.911453548232169,8.914536087275907,8.916374095934161,0.46977740355563025,0.5765867076806328,0.705854197984906,0.8599459269278684,1.04103342280013,1.251677683717787,1.4962612415303114,1.783524215499812,2.1299767465825314,2.5626341937812205,3.1168691385448297,3.822377117075331,4.674200929571093,5.606030045951124,6.502752676012486,7.258486357975544,7.826415582675105,8.218475861002005,8.474770473936962,8.637426500529712,8.739477966318066,8.803565945842372,8.84418159025913,8.870289188177834,8.887354018307937,8.898698423414222,8.906350335865191,8.911557225635319,8.915092575221617,8.917437340406474,8.918886924250074,0.49175016695049634,0.6034222080288744,0.7381876014163657,0.8984128790466622,1.0863887952384905,1.305099249979024,1.5599211927433667,1.8614380134430313,2.2288910847923677,2.692130321621458,3.286949552810671,4.036732462872916,4.921179130882061,5.856784652043803,6.724191646791468,7.430721577173276,7.947839102454843,8.298597021215206,8.525630010955146,8.669124834966906,8.75915307267333,8.815847883732522,8.851945361056796,8.87528406397101,8.890637702147139,8.900912558082016,8.907888456583775,8.912665284176553,8.915928791098064,8.918108014133889,8.919468223207689,0.49175016695049634,0.6034222080288744,0.7381876014163657,0.8984128790466622,1.0863887952384905,1.305099249979024,1.5599211927433667,1.8614380134430313,2.2288910847923677,2.692130321621458,3.286949552810671,4.036732462872916,4.921179130882061,5.856784652043803,6.724191646791468,7.430721577173276,7.947839102454843,8.298597021215206,8.525630010955146,8.669124834966906,8.75915307267333,8.815847883732522,8.851945361056796,8.87528406397101,8.890637702147139,8.900912558082016,8.907888456583775,8.912665284176553,8.915928791098064,8.918108014133889,8.919468223207689,0.49175016695049634,0.6034222080288744,0.7381876014163657,0.8984128790466622,1.0863887952384905,1.305099249979024,1.5599211927433667,1.8614380134430313,2.2288910847923677,2.692130321621458,3.286949552810671,4.036732462872916,4.921179130882061,5.856784652043803,6.724191646791468,7.430721577173276,7.947839102454843,8.298597021215206,8.525630010955146,8.669124834966906,8.75915307267333,8.815847883732522,8.851945361056796,8.87528406397101,8.890637702147139,8.900912558082016,8.907888456583775,8.912665284176553,8.915928791098064,8.918108014133889,8.919468223207689,0.49175016695049634,0.6034222080288744,0.7381876014163657,0.8984128790466622,1.0863887952384905,1.305099249979024,1.5599211927433667,1.8614380134430313,2.2288910847923677,2.692130321621458,3.286949552810671,4.036732462872916,4.921179130882061,5.856784652043803,6.724191646791468,7.430721577173276,7.947839102454843,8.298597021215206,8.525630010955146,8.669124834966906,8.75915307267333,8.815847883732522,8.851945361056796,8.87528406397101,8.890637702147139,8.900912558082016,8.907888456583775,8.912665284176553,8.915928791098064,8.918108014133889,8.919468223207689,0.49175016695049634,0.6034222080288744,0.7381876014163657,0.8984128790466622,1.0863887952384905,1.305099249979024,1.5599211927433667,1.8614380134430313,2.2288910847923677,2.692130321621458,3.286949552810671,4.036732462872916,4.921179130882061,5.856784652043803,6.724191646791468,7.430721577173276,7.947839102454843,8.298597021215206,8.525630010955146,8.669124834966906,8.75915307267333,8.815847883732522,8.851945361056796,8.87528406397101,8.890637702147139,8.900912558082016,8.907888456583775,8.912665284176553,8.915928791098064,8.918108014133889,8.919468223207689,0.49175016695049634,0.6034222080288744,0.7381876014163657,0.8984128790466622,1.0863887952384905,1.305099249979024,1.5599211927433667,1.8614380134430313,2.2288910847923677,2.692130321621458,3.286949552810671,4.036732462872916,4.921179130882061,5.856784652043803,6.724191646791468,7.430721577173276,7.947839102454843,8.298597021215206,8.525630010955146,8.669124834966906,8.75915307267333,8.815847883732522,8.851945361056796,8.87528406397101,8.890637702147139,8.900912558082016,8.907888456583775,8.912665284176553,8.915928791098064,8.918108014133889,8.919468223207689],\"type\":\"scatter3d\",\"scene\":\"scene4\"},{\"marker\":{\"color\":\"blue\"},\"mode\":\"markers\",\"name\":\"Efficiency\",\"x\":[41.908694181188835,47.33739679462015,52.68684567757712],\"y\":[3.6233750650459515,1.8093629975198926,0.8530155710809151],\"z\":[7.085237048371883,9.53303399305644,13.639188961723601],\"type\":\"scatter3d\",\"scene\":\"scene\"},{\"marker\":{\"color\":\"green\"},\"mode\":\"markers+lines+text\",\"name\":\"Operation\",\"text\":[\"(41.91,3.62,6.00)\",\"(47.34,1.81,7.08)\",\"(52.69,0.85,9.50)\",\"(60.00,0.10,13.64)\"],\"textposition\":\"bottom center\",\"x\":[41.908694181188835,47.33739679462015,52.68684567757712,60.0],\"y\":[3.6233750650459515,1.8093629975198926,0.8530155710809151,0.1],\"z\":[6.0,7.076667269442797,9.496325656177929,13.639188961723601],\"type\":\"scatter3d\",\"scene\":\"scene\"},{\"marker\":{\"color\":\"blue\"},\"mode\":\"markers\",\"name\":\"Efficiency\",\"x\":[41.908694181188835,47.33739679462015,52.68684567757712],\"y\":[3.6233750650459515,1.8093629975198926,0.8530155710809151],\"z\":[6.045201206079457,6.7655163499714455,7.354981123622138],\"type\":\"scatter3d\",\"scene\":\"scene2\"},{\"marker\":{\"color\":\"green\"},\"mode\":\"markers+lines+text\",\"name\":\"Operation\",\"text\":[\"(41.91,3.62,6.00)\",\"(47.34,1.81,6.04)\",\"(52.69,0.85,6.76)\",\"(60.00,0.10,7.35)\"],\"textposition\":\"bottom center\",\"x\":[41.908694181188835,47.33739679462015,52.68684567757712,60.0],\"y\":[3.6233750650459515,1.8093629975198926,0.8530155710809151,0.1],\"z\":[6.0,6.042116545894873,6.7562809427488775,7.354981123622138],\"type\":\"scatter3d\",\"scene\":\"scene2\"},{\"marker\":{\"color\":\"blue\"},\"mode\":\"markers\",\"name\":\"Efficiency\",\"x\":[41.908694181188835,47.33739679462015,52.68684567757712],\"y\":[3.6233750650459515,1.8093629975198926,0.8530155710809151],\"z\":[0.7623782504501799,0.6402455715757095,0.5108510812575703],\"type\":\"scatter3d\",\"scene\":\"scene4\"},{\"marker\":{\"color\":\"green\"},\"mode\":\"markers+lines+text\",\"name\":\"Operation\",\"text\":[\"(41.91,3.62,1.00)\",\"(47.34,1.81,0.76)\",\"(52.69,0.85,0.64)\",\"(60.00,0.10,0.51)\"],\"textposition\":\"bottom center\",\"x\":[41.908694181188835,47.33739679462015,52.68684567757712,60.0],\"y\":[3.6233750650459515,1.8093629975198926,0.8530155710809151,0.1],\"z\":[1.0,0.7588817806718268,0.6430376200380447,0.5108510812575703],\"type\":\"scatter3d\",\"scene\":\"scene4\"},{\"marker\":{\"color\":\"blue\"},\"mode\":\"markers\",\"name\":\"Efficiency\",\"x\":[41.908694181188835,47.33739679462015,52.68684567757712],\"y\":[3.6233750650459515,1.8093629975198926,0.8530155710809151],\"z\":[0.9920310618684957,0.9920310618684957,0.9920310618684957],\"type\":\"scatter3d\",\"scene\":\"scene3\"},{\"marker\":{\"color\":\"green\"},\"mode\":\"markers+lines+text\",\"name\":\"Operation\",\"text\":[\"(41.91,3.62,0.99)\",\"(47.34,1.81,0.99)\",\"(52.69,0.85,0.99)\",\"(60.00,0.10,1.00)\"],\"textposition\":\"bottom center\",\"x\":[41.908694181188835,47.33739679462015,52.68684567757712,60.0],\"y\":[3.6233750650459515,1.8093629975198926,0.8530155710809151,0.1],\"z\":[0.9920310618684957,0.9920310618684957,0.9920310618684957,1.0],\"type\":\"scatter3d\",\"scene\":\"scene3\"}],                        {\"template\":{\"data\":{\"histogram2dcontour\":[{\"type\":\"histogram2dcontour\",\"colorbar\":{\"outlinewidth\":0,\"ticks\":\"\"},\"colorscale\":[[0.0,\"#0d0887\"],[0.1111111111111111,\"#46039f\"],[0.2222222222222222,\"#7201a8\"],[0.3333333333333333,\"#9c179e\"],[0.4444444444444444,\"#bd3786\"],[0.5555555555555556,\"#d8576b\"],[0.6666666666666666,\"#ed7953\"],[0.7777777777777778,\"#fb9f3a\"],[0.8888888888888888,\"#fdca26\"],[1.0,\"#f0f921\"]]}],\"choropleth\":[{\"type\":\"choropleth\",\"colorbar\":{\"outlinewidth\":0,\"ticks\":\"\"}}],\"histogram2d\":[{\"type\":\"histogram2d\",\"colorbar\":{\"outlinewidth\":0,\"ticks\":\"\"},\"colorscale\":[[0.0,\"#0d0887\"],[0.1111111111111111,\"#46039f\"],[0.2222222222222222,\"#7201a8\"],[0.3333333333333333,\"#9c179e\"],[0.4444444444444444,\"#bd3786\"],[0.5555555555555556,\"#d8576b\"],[0.6666666666666666,\"#ed7953\"],[0.7777777777777778,\"#fb9f3a\"],[0.8888888888888888,\"#fdca26\"],[1.0,\"#f0f921\"]]}],\"heatmap\":[{\"type\":\"heatmap\",\"colorbar\":{\"outlinewidth\":0,\"ticks\":\"\"},\"colorscale\":[[0.0,\"#0d0887\"],[0.1111111111111111,\"#46039f\"],[0.2222222222222222,\"#7201a8\"],[0.3333333333333333,\"#9c179e\"],[0.4444444444444444,\"#bd3786\"],[0.5555555555555556,\"#d8576b\"],[0.6666666666666666,\"#ed7953\"],[0.7777777777777778,\"#fb9f3a\"],[0.8888888888888888,\"#fdca26\"],[1.0,\"#f0f921\"]]}],\"heatmapgl\":[{\"type\":\"heatmapgl\",\"colorbar\":{\"outlinewidth\":0,\"ticks\":\"\"},\"colorscale\":[[0.0,\"#0d0887\"],[0.1111111111111111,\"#46039f\"],[0.2222222222222222,\"#7201a8\"],[0.3333333333333333,\"#9c179e\"],[0.4444444444444444,\"#bd3786\"],[0.5555555555555556,\"#d8576b\"],[0.6666666666666666,\"#ed7953\"],[0.7777777777777778,\"#fb9f3a\"],[0.8888888888888888,\"#fdca26\"],[1.0,\"#f0f921\"]]}],\"contourcarpet\":[{\"type\":\"contourcarpet\",\"colorbar\":{\"outlinewidth\":0,\"ticks\":\"\"}}],\"contour\":[{\"type\":\"contour\",\"colorbar\":{\"outlinewidth\":0,\"ticks\":\"\"},\"colorscale\":[[0.0,\"#0d0887\"],[0.1111111111111111,\"#46039f\"],[0.2222222222222222,\"#7201a8\"],[0.3333333333333333,\"#9c179e\"],[0.4444444444444444,\"#bd3786\"],[0.5555555555555556,\"#d8576b\"],[0.6666666666666666,\"#ed7953\"],[0.7777777777777778,\"#fb9f3a\"],[0.8888888888888888,\"#fdca26\"],[1.0,\"#f0f921\"]]}],\"surface\":[{\"type\":\"surface\",\"colorbar\":{\"outlinewidth\":0,\"ticks\":\"\"},\"colorscale\":[[0.0,\"#0d0887\"],[0.1111111111111111,\"#46039f\"],[0.2222222222222222,\"#7201a8\"],[0.3333333333333333,\"#9c179e\"],[0.4444444444444444,\"#bd3786\"],[0.5555555555555556,\"#d8576b\"],[0.6666666666666666,\"#ed7953\"],[0.7777777777777778,\"#fb9f3a\"],[0.8888888888888888,\"#fdca26\"],[1.0,\"#f0f921\"]]}],\"mesh3d\":[{\"type\":\"mesh3d\",\"colorbar\":{\"outlinewidth\":0,\"ticks\":\"\"}}],\"scatter\":[{\"fillpattern\":{\"fillmode\":\"overlay\",\"size\":10,\"solidity\":0.2},\"type\":\"scatter\"}],\"parcoords\":[{\"type\":\"parcoords\",\"line\":{\"colorbar\":{\"outlinewidth\":0,\"ticks\":\"\"}}}],\"scatterpolargl\":[{\"type\":\"scatterpolargl\",\"marker\":{\"colorbar\":{\"outlinewidth\":0,\"ticks\":\"\"}}}],\"bar\":[{\"error_x\":{\"color\":\"#2a3f5f\"},\"error_y\":{\"color\":\"#2a3f5f\"},\"marker\":{\"line\":{\"color\":\"#E5ECF6\",\"width\":0.5},\"pattern\":{\"fillmode\":\"overlay\",\"size\":10,\"solidity\":0.2}},\"type\":\"bar\"}],\"scattergeo\":[{\"type\":\"scattergeo\",\"marker\":{\"colorbar\":{\"outlinewidth\":0,\"ticks\":\"\"}}}],\"scatterpolar\":[{\"type\":\"scatterpolar\",\"marker\":{\"colorbar\":{\"outlinewidth\":0,\"ticks\":\"\"}}}],\"histogram\":[{\"marker\":{\"pattern\":{\"fillmode\":\"overlay\",\"size\":10,\"solidity\":0.2}},\"type\":\"histogram\"}],\"scattergl\":[{\"type\":\"scattergl\",\"marker\":{\"colorbar\":{\"outlinewidth\":0,\"ticks\":\"\"}}}],\"scatter3d\":[{\"type\":\"scatter3d\",\"line\":{\"colorbar\":{\"outlinewidth\":0,\"ticks\":\"\"}},\"marker\":{\"colorbar\":{\"outlinewidth\":0,\"ticks\":\"\"}}}],\"scattermapbox\":[{\"type\":\"scattermapbox\",\"marker\":{\"colorbar\":{\"outlinewidth\":0,\"ticks\":\"\"}}}],\"scatterternary\":[{\"type\":\"scatterternary\",\"marker\":{\"colorbar\":{\"outlinewidth\":0,\"ticks\":\"\"}}}],\"scattercarpet\":[{\"type\":\"scattercarpet\",\"marker\":{\"colorbar\":{\"outlinewidth\":0,\"ticks\":\"\"}}}],\"carpet\":[{\"aaxis\":{\"endlinecolor\":\"#2a3f5f\",\"gridcolor\":\"white\",\"linecolor\":\"white\",\"minorgridcolor\":\"white\",\"startlinecolor\":\"#2a3f5f\"},\"baxis\":{\"endlinecolor\":\"#2a3f5f\",\"gridcolor\":\"white\",\"linecolor\":\"white\",\"minorgridcolor\":\"white\",\"startlinecolor\":\"#2a3f5f\"},\"type\":\"carpet\"}],\"table\":[{\"cells\":{\"fill\":{\"color\":\"#EBF0F8\"},\"line\":{\"color\":\"white\"}},\"header\":{\"fill\":{\"color\":\"#C8D4E3\"},\"line\":{\"color\":\"white\"}},\"type\":\"table\"}],\"barpolar\":[{\"marker\":{\"line\":{\"color\":\"#E5ECF6\",\"width\":0.5},\"pattern\":{\"fillmode\":\"overlay\",\"size\":10,\"solidity\":0.2}},\"type\":\"barpolar\"}],\"pie\":[{\"automargin\":true,\"type\":\"pie\"}]},\"layout\":{\"autotypenumbers\":\"strict\",\"colorway\":[\"#636efa\",\"#EF553B\",\"#00cc96\",\"#ab63fa\",\"#FFA15A\",\"#19d3f3\",\"#FF6692\",\"#B6E880\",\"#FF97FF\",\"#FECB52\"],\"font\":{\"color\":\"#2a3f5f\"},\"hovermode\":\"closest\",\"hoverlabel\":{\"align\":\"left\"},\"paper_bgcolor\":\"white\",\"plot_bgcolor\":\"#E5ECF6\",\"polar\":{\"bgcolor\":\"#E5ECF6\",\"angularaxis\":{\"gridcolor\":\"white\",\"linecolor\":\"white\",\"ticks\":\"\"},\"radialaxis\":{\"gridcolor\":\"white\",\"linecolor\":\"white\",\"ticks\":\"\"}},\"ternary\":{\"bgcolor\":\"#E5ECF6\",\"aaxis\":{\"gridcolor\":\"white\",\"linecolor\":\"white\",\"ticks\":\"\"},\"baxis\":{\"gridcolor\":\"white\",\"linecolor\":\"white\",\"ticks\":\"\"},\"caxis\":{\"gridcolor\":\"white\",\"linecolor\":\"white\",\"ticks\":\"\"}},\"coloraxis\":{\"colorbar\":{\"outlinewidth\":0,\"ticks\":\"\"}},\"colorscale\":{\"sequential\":[[0.0,\"#0d0887\"],[0.1111111111111111,\"#46039f\"],[0.2222222222222222,\"#7201a8\"],[0.3333333333333333,\"#9c179e\"],[0.4444444444444444,\"#bd3786\"],[0.5555555555555556,\"#d8576b\"],[0.6666666666666666,\"#ed7953\"],[0.7777777777777778,\"#fb9f3a\"],[0.8888888888888888,\"#fdca26\"],[1.0,\"#f0f921\"]],\"sequentialminus\":[[0.0,\"#0d0887\"],[0.1111111111111111,\"#46039f\"],[0.2222222222222222,\"#7201a8\"],[0.3333333333333333,\"#9c179e\"],[0.4444444444444444,\"#bd3786\"],[0.5555555555555556,\"#d8576b\"],[0.6666666666666666,\"#ed7953\"],[0.7777777777777778,\"#fb9f3a\"],[0.8888888888888888,\"#fdca26\"],[1.0,\"#f0f921\"]],\"diverging\":[[0,\"#8e0152\"],[0.1,\"#c51b7d\"],[0.2,\"#de77ae\"],[0.3,\"#f1b6da\"],[0.4,\"#fde0ef\"],[0.5,\"#f7f7f7\"],[0.6,\"#e6f5d0\"],[0.7,\"#b8e186\"],[0.8,\"#7fbc41\"],[0.9,\"#4d9221\"],[1,\"#276419\"]]},\"xaxis\":{\"gridcolor\":\"white\",\"linecolor\":\"white\",\"ticks\":\"\",\"title\":{\"standoff\":15},\"zerolinecolor\":\"white\",\"automargin\":true,\"zerolinewidth\":2},\"yaxis\":{\"gridcolor\":\"white\",\"linecolor\":\"white\",\"ticks\":\"\",\"title\":{\"standoff\":15},\"zerolinecolor\":\"white\",\"automargin\":true,\"zerolinewidth\":2},\"scene\":{\"xaxis\":{\"backgroundcolor\":\"#E5ECF6\",\"gridcolor\":\"white\",\"linecolor\":\"white\",\"showbackground\":true,\"ticks\":\"\",\"zerolinecolor\":\"white\",\"gridwidth\":2},\"yaxis\":{\"backgroundcolor\":\"#E5ECF6\",\"gridcolor\":\"white\",\"linecolor\":\"white\",\"showbackground\":true,\"ticks\":\"\",\"zerolinecolor\":\"white\",\"gridwidth\":2},\"zaxis\":{\"backgroundcolor\":\"#E5ECF6\",\"gridcolor\":\"white\",\"linecolor\":\"white\",\"showbackground\":true,\"ticks\":\"\",\"zerolinecolor\":\"white\",\"gridwidth\":2}},\"shapedefaults\":{\"line\":{\"color\":\"#2a3f5f\"}},\"annotationdefaults\":{\"arrowcolor\":\"#2a3f5f\",\"arrowhead\":0,\"arrowwidth\":1},\"geo\":{\"bgcolor\":\"white\",\"landcolor\":\"#E5ECF6\",\"subunitcolor\":\"white\",\"showland\":true,\"showlakes\":true,\"lakecolor\":\"white\"},\"title\":{\"x\":0.05},\"mapbox\":{\"style\":\"light\"}}},\"scene\":{\"domain\":{\"x\":[0.0,0.45],\"y\":[0.525,1.0]},\"camera\":{\"eye\":{\"x\":0,\"y\":-2.2,\"z\":0.01},\"projection\":{\"type\":\"orthographic\"}},\"aspectratio\":{\"x\":1,\"y\":1,\"z\":1},\"xaxis\":{\"title\":{\"text\":\"H3PO4_aq\"}},\"yaxis\":{\"title\":{\"text\":\"SO4_aq\"}}},\"scene2\":{\"domain\":{\"x\":[0.55,1.0],\"y\":[0.525,1.0]},\"camera\":{\"eye\":{\"x\":0,\"y\":-2.2,\"z\":0.01},\"projection\":{\"type\":\"orthographic\"}},\"aspectratio\":{\"x\":1,\"y\":1,\"z\":1},\"xaxis\":{\"title\":{\"text\":\"H3PO4_aq\"}},\"yaxis\":{\"title\":{\"text\":\"SO4_aq\"}}},\"scene3\":{\"domain\":{\"x\":[0.0,0.45],\"y\":[0.0,0.475]},\"camera\":{\"eye\":{\"x\":0,\"y\":-2.2,\"z\":0.01},\"projection\":{\"type\":\"orthographic\"}},\"aspectratio\":{\"x\":1,\"y\":1,\"z\":1},\"xaxis\":{\"title\":{\"text\":\"H3PO4_aq\"}},\"yaxis\":{\"title\":{\"text\":\"SO4_aq\"}}},\"scene4\":{\"domain\":{\"x\":[0.55,1.0],\"y\":[0.0,0.475]},\"camera\":{\"eye\":{\"x\":0,\"y\":-2.2,\"z\":0.01},\"projection\":{\"type\":\"orthographic\"}},\"aspectratio\":{\"x\":1,\"y\":1,\"z\":1},\"xaxis\":{\"title\":{\"text\":\"H3PO4_aq\"}},\"yaxis\":{\"title\":{\"text\":\"SO4_aq\"}}},\"annotations\":[{\"font\":{\"size\":16},\"showarrow\":false,\"text\":\"H3PO4_org\",\"x\":0.225,\"xanchor\":\"center\",\"xref\":\"paper\",\"y\":1.0,\"yanchor\":\"bottom\",\"yref\":\"paper\"},{\"font\":{\"size\":16},\"showarrow\":false,\"text\":\"water_org\",\"x\":0.775,\"xanchor\":\"center\",\"xref\":\"paper\",\"y\":1.0,\"yanchor\":\"bottom\",\"yref\":\"paper\"},{\"font\":{\"size\":16},\"showarrow\":false,\"text\":\"solvent_aq\",\"x\":0.225,\"xanchor\":\"center\",\"xref\":\"paper\",\"y\":0.475,\"yanchor\":\"bottom\",\"yref\":\"paper\"},{\"font\":{\"size\":16},\"showarrow\":false,\"text\":\"SO4_org\",\"x\":0.775,\"xanchor\":\"center\",\"xref\":\"paper\",\"y\":0.475,\"yanchor\":\"bottom\",\"yref\":\"paper\"}],\"margin\":{\"l\":0,\"r\":0,\"b\":0,\"t\":30},\"title\":{\"text\":\"\"},\"autosize\":true,\"width\":980,\"height\":980},                        {\"responsive\": true}                    ).then(function(){\n",
              "                            \n",
              "var gd = document.getElementById('896dbf00-9463-41b8-b52c-217c7f3589cb');\n",
              "var x = new MutationObserver(function (mutations, observer) {{\n",
              "        var display = window.getComputedStyle(gd).display;\n",
              "        if (!display || display === 'none') {{\n",
              "            console.log([gd, 'removed!']);\n",
              "            Plotly.purge(gd);\n",
              "            observer.disconnect();\n",
              "        }}\n",
              "}});\n",
              "\n",
              "// Listen for the removal of the full notebook cells\n",
              "var notebookContainer = gd.closest('#notebook-container');\n",
              "if (notebookContainer) {{\n",
              "    x.observe(notebookContainer, {childList: true});\n",
              "}}\n",
              "\n",
              "// Listen for the clearing of the current output cell\n",
              "var outputEl = gd.closest('.output');\n",
              "if (outputEl) {{\n",
              "    x.observe(outputEl, {childList: true});\n",
              "}}\n",
              "\n",
              "                        })                };                            </script>        </div>\n",
              "</body>\n",
              "</html>"
            ]
          },
          "metadata": {}
        }
      ]
    },
    {
      "cell_type": "markdown",
      "source": [
        "## tests"
      ],
      "metadata": {
        "id": "GGUSartlwwij"
      }
    },
    {
      "cell_type": "markdown",
      "source": [
        "i have matrix equation Ax=B. A is 2x2, x is 2x1, B is 2x1. I solve x=inv(A)B. I have another equation Cy=D. the same dimensions. how to combine solving x and y in a single equation?\n",
        "\n",
        "how to code it if i have N such equations?\n"
      ],
      "metadata": {
        "id": "oUR0yDYBO7HE"
      }
    },
    {
      "cell_type": "code",
      "source": [
        "# Define the number of equations (N)\n",
        "N = 3\n",
        "\n",
        "# Define the matrices and vectors for each equation\n",
        "# (Replace with your actual data)\n",
        "matrices = [np.array([[1, 2], [3, 4]]),\n",
        "            np.array([[5, 6], [7, 8]]),\n",
        "            np.array([[9, 10], [11, 12]])]\n",
        "vectors = [np.array([13, 14]),\n",
        "           np.array([15, 16]),\n",
        "           np.array([17, 18])]\n",
        "\n",
        "# Create the block matrix and combined vector\n",
        "block_matrix = np.zeros((N * 2, N * 2))  # Initialize with zeros\n",
        "combined_vector = np.zeros(N * 2)\n",
        "\n",
        "for i in range(N):\n",
        "    block_matrix[i * 2: (i + 1) * 2, i * 2: (i + 1) * 2] = matrices[i]\n",
        "    combined_vector[i * 2: (i + 1) * 2] = vectors[i]\n",
        "\n",
        "# Solve for the combined solution vector\n",
        "solution = np.linalg.solve(block_matrix, combined_vector)\n",
        "\n",
        "# Extract individual solutions\n",
        "solutions = [solution[i * 2: (i + 1) * 2] for i in range(N)]\n",
        "\n",
        "# Print the solutions\n",
        "for i, sol in enumerate(solutions):\n",
        "    print(f\"Solution for equation {i + 1}: x = {sol}\")"
      ],
      "metadata": {
        "id": "VcvVCiQYPCvX",
        "outputId": "4a84ab07-928f-44d5-d951-4e88556a2c83",
        "colab": {
          "base_uri": "https://localhost:8080/"
        }
      },
      "execution_count": 27,
      "outputs": [
        {
          "output_type": "stream",
          "name": "stdout",
          "text": [
            "Solution for equation 1: x = [-12.   12.5]\n",
            "Solution for equation 2: x = [-12.   12.5]\n",
            "Solution for equation 3: x = [-12.   12.5]\n"
          ]
        }
      ]
    },
    {
      "cell_type": "code",
      "source": [
        "A,B=np.array([[5, 6], [7, 8]]),np.array([17, 18])\n",
        "np.linalg.solve(A, B)"
      ],
      "metadata": {
        "id": "WM7H6jYPaWcz",
        "outputId": "8f0f1bb9-815a-4225-d702-5b7078dbe6e6",
        "colab": {
          "base_uri": "https://localhost:8080/"
        }
      },
      "execution_count": 28,
      "outputs": [
        {
          "output_type": "execute_result",
          "data": {
            "text/plain": [
              "array([-14. ,  14.5])"
            ]
          },
          "metadata": {},
          "execution_count": 28
        }
      ]
    },
    {
      "cell_type": "code",
      "source": [
        "Ain=bat1_1.Ain_list\n",
        "Ain"
      ],
      "metadata": {
        "id": "qPkHYrE1bbFM",
        "outputId": "fa5d4796-e0e0-4721-951b-db55070564d8",
        "colab": {
          "base_uri": "https://localhost:8080/"
        }
      },
      "execution_count": 29,
      "outputs": [
        {
          "output_type": "execute_result",
          "data": {
            "text/plain": [
              "array([32.16429949, 38.88675758, 50.        ])"
            ]
          },
          "metadata": {},
          "execution_count": 29
        }
      ]
    },
    {
      "cell_type": "code",
      "source": [
        "stage=0\n",
        "component=1\n",
        "Ain,Oin=bat1_1.Ain_list[stage], bat1_1.Oin_list[stage]\n",
        "xin=bat1_1.xin_list[stage,component]\n",
        "yin=bat1_1.yin_list[stage,component]\n",
        "xout=bat1_1.xout_list[stage,component]\n",
        "yout=bat1_1.yout_list[stage,component]\n",
        "yout"
      ],
      "metadata": {
        "id": "zzDQfqp-cNAK",
        "outputId": "eb94c2ec-29df-4ec3-fa80-cbde1cf96534",
        "colab": {
          "base_uri": "https://localhost:8080/"
        }
      },
      "execution_count": 30,
      "outputs": [
        {
          "output_type": "execute_result",
          "data": {
            "text/plain": [
              "7.085237048371883"
            ]
          },
          "metadata": {},
          "execution_count": 30
        }
      ]
    },
    {
      "cell_type": "code",
      "source": [
        "A,B=np.array([[1,1],[yout,xout]]), np.array([Oin+Ain,Oin*yin+Ain*xin])"
      ],
      "metadata": {
        "id": "3VJl6AyNdwy4"
      },
      "execution_count": 31,
      "outputs": []
    },
    {
      "cell_type": "code",
      "source": [
        "np.linalg.solve(A, B)"
      ],
      "metadata": {
        "id": "92icXLPoerE9",
        "outputId": "cf5a86f2-c972-4ea3-e3dd-2e3c55bf1d5f",
        "colab": {
          "base_uri": "https://localhost:8080/"
        }
      },
      "execution_count": 32,
      "outputs": [
        {
          "output_type": "execute_result",
          "data": {
            "text/plain": [
              "array([173.65154956,  31.71274993])"
            ]
          },
          "metadata": {},
          "execution_count": 32
        }
      ]
    },
    {
      "cell_type": "code",
      "source": [
        "# Define the number of equations (N)\n",
        "bat=bat1_1\n",
        "N = 3\n",
        "component=1\n",
        "# Define the matrices and vectors for each equation\n",
        "matrices = []\n",
        "vectors = []\n",
        "for stage in range(N):\n",
        "    matrix = np.array([[1,1],[bat.yout_list[stage,component],bat.xout_list[stage,component]]])\n",
        "    matrices.append(matrix)\n",
        "    vector = np.array([bat.Oin_list[stage]+bat.Ain_list[stage], bat.Oin_list[stage]*bat.yin_list[stage,component]+bat.Ain_list[stage]*bat.xin_list[stage,component]])\n",
        "    vectors.append(vector)\n",
        "\n",
        "# Create the block matrix and combined vector\n",
        "block_matrix = np.zeros((N * 2, N * 2))  # Initialize with zeros\n",
        "combined_vector = np.zeros(N * 2)\n",
        "\n",
        "for i in range(N):\n",
        "    block_matrix[i * 2: (i + 1) * 2, i * 2: (i + 1) * 2] = matrices[i]\n",
        "    combined_vector[i * 2: (i + 1) * 2] = vectors[i]\n",
        "\n",
        "# Solve for the combined solution vector\n",
        "solution = np.linalg.solve(block_matrix, combined_vector)\n",
        "\n",
        "solution.reshape(N,2)"
      ],
      "metadata": {
        "id": "WIKHk5SarZlY",
        "outputId": "32340463-b66c-4a7d-b801-61d56bc1d969",
        "colab": {
          "base_uri": "https://localhost:8080/"
        }
      },
      "execution_count": 33,
      "outputs": [
        {
          "output_type": "execute_result",
          "data": {
            "text/plain": [
              "array([[173.65154956,  31.71274993],\n",
              "       [181.28686729,  33.00441089],\n",
              "       [191.98641349,  40.05069281]])"
            ]
          },
          "metadata": {},
          "execution_count": 33
        }
      ]
    },
    {
      "cell_type": "code",
      "source": [
        "Oout=solution.reshape(N,2)[:,0]\n",
        "Oout[:-1]"
      ],
      "metadata": {
        "id": "XGpYTSOMqQId",
        "outputId": "943302d0-8e43-4981-f1ce-e54656084032",
        "colab": {
          "base_uri": "https://localhost:8080/"
        }
      },
      "execution_count": 34,
      "outputs": [
        {
          "output_type": "execute_result",
          "data": {
            "text/plain": [
              "array([173.65154956, 181.28686729])"
            ]
          },
          "metadata": {},
          "execution_count": 34
        }
      ]
    },
    {
      "cell_type": "code",
      "source": [
        "table1_1"
      ],
      "metadata": {
        "id": "owxjSbGoioAv",
        "outputId": "dedbd4fa-7690-4a10-cbde-2a7879981211",
        "colab": {
          "base_uri": "https://localhost:8080/",
          "height": 551
        }
      },
      "execution_count": 35,
      "outputs": [
        {
          "output_type": "execute_result",
          "data": {
            "text/plain": [
              "                    Stage 1     Stage 2     Stage 3\n",
              "Org in, ton/hr   173.200000  175.404521  182.037106\n",
              "y1 in, %           6.000000    6.042117    6.756281\n",
              "y2 in, %           6.000000    7.076667    9.496326\n",
              "y3 in, %           1.000000    0.758882    0.643038\n",
              "Aq in, ton/hr     32.164299   38.886758   50.000000\n",
              "x1 in, %           0.992031    0.992031    1.000000\n",
              "x2 in, %          47.263654   52.698591   60.000000\n",
              "x3 in, %           1.830465    0.843602    0.100000\n",
              "Org out, ton/hr  175.366162  182.116231  192.414538\n",
              "y1 out, %          6.045201    6.765516    7.354981\n",
              "y2 out, %          7.085237    9.533034   13.639189\n",
              "y3 out, %          0.762378    0.640246    0.510851\n",
              "Aq out, ton/hr    26.688196   32.239583   38.760813\n",
              "x1 out, %          0.992031    0.992031    0.992031\n",
              "x2 out, %         41.908694   47.337397   52.686846\n",
              "x3 out, %          3.623375    1.809363    0.853016"
            ],
            "text/html": [
              "\n",
              "  <div id=\"df-aa65c116-09bc-4f86-9b80-f3a6537e395c\" class=\"colab-df-container\">\n",
              "    <div>\n",
              "<style scoped>\n",
              "    .dataframe tbody tr th:only-of-type {\n",
              "        vertical-align: middle;\n",
              "    }\n",
              "\n",
              "    .dataframe tbody tr th {\n",
              "        vertical-align: top;\n",
              "    }\n",
              "\n",
              "    .dataframe thead th {\n",
              "        text-align: right;\n",
              "    }\n",
              "</style>\n",
              "<table border=\"1\" class=\"dataframe\">\n",
              "  <thead>\n",
              "    <tr style=\"text-align: right;\">\n",
              "      <th></th>\n",
              "      <th>Stage 1</th>\n",
              "      <th>Stage 2</th>\n",
              "      <th>Stage 3</th>\n",
              "    </tr>\n",
              "  </thead>\n",
              "  <tbody>\n",
              "    <tr>\n",
              "      <th>Org in, ton/hr</th>\n",
              "      <td>173.200000</td>\n",
              "      <td>175.404521</td>\n",
              "      <td>182.037106</td>\n",
              "    </tr>\n",
              "    <tr>\n",
              "      <th>y1 in, %</th>\n",
              "      <td>6.000000</td>\n",
              "      <td>6.042117</td>\n",
              "      <td>6.756281</td>\n",
              "    </tr>\n",
              "    <tr>\n",
              "      <th>y2 in, %</th>\n",
              "      <td>6.000000</td>\n",
              "      <td>7.076667</td>\n",
              "      <td>9.496326</td>\n",
              "    </tr>\n",
              "    <tr>\n",
              "      <th>y3 in, %</th>\n",
              "      <td>1.000000</td>\n",
              "      <td>0.758882</td>\n",
              "      <td>0.643038</td>\n",
              "    </tr>\n",
              "    <tr>\n",
              "      <th>Aq in, ton/hr</th>\n",
              "      <td>32.164299</td>\n",
              "      <td>38.886758</td>\n",
              "      <td>50.000000</td>\n",
              "    </tr>\n",
              "    <tr>\n",
              "      <th>x1 in, %</th>\n",
              "      <td>0.992031</td>\n",
              "      <td>0.992031</td>\n",
              "      <td>1.000000</td>\n",
              "    </tr>\n",
              "    <tr>\n",
              "      <th>x2 in, %</th>\n",
              "      <td>47.263654</td>\n",
              "      <td>52.698591</td>\n",
              "      <td>60.000000</td>\n",
              "    </tr>\n",
              "    <tr>\n",
              "      <th>x3 in, %</th>\n",
              "      <td>1.830465</td>\n",
              "      <td>0.843602</td>\n",
              "      <td>0.100000</td>\n",
              "    </tr>\n",
              "    <tr>\n",
              "      <th>Org out, ton/hr</th>\n",
              "      <td>175.366162</td>\n",
              "      <td>182.116231</td>\n",
              "      <td>192.414538</td>\n",
              "    </tr>\n",
              "    <tr>\n",
              "      <th>y1 out, %</th>\n",
              "      <td>6.045201</td>\n",
              "      <td>6.765516</td>\n",
              "      <td>7.354981</td>\n",
              "    </tr>\n",
              "    <tr>\n",
              "      <th>y2 out, %</th>\n",
              "      <td>7.085237</td>\n",
              "      <td>9.533034</td>\n",
              "      <td>13.639189</td>\n",
              "    </tr>\n",
              "    <tr>\n",
              "      <th>y3 out, %</th>\n",
              "      <td>0.762378</td>\n",
              "      <td>0.640246</td>\n",
              "      <td>0.510851</td>\n",
              "    </tr>\n",
              "    <tr>\n",
              "      <th>Aq out, ton/hr</th>\n",
              "      <td>26.688196</td>\n",
              "      <td>32.239583</td>\n",
              "      <td>38.760813</td>\n",
              "    </tr>\n",
              "    <tr>\n",
              "      <th>x1 out, %</th>\n",
              "      <td>0.992031</td>\n",
              "      <td>0.992031</td>\n",
              "      <td>0.992031</td>\n",
              "    </tr>\n",
              "    <tr>\n",
              "      <th>x2 out, %</th>\n",
              "      <td>41.908694</td>\n",
              "      <td>47.337397</td>\n",
              "      <td>52.686846</td>\n",
              "    </tr>\n",
              "    <tr>\n",
              "      <th>x3 out, %</th>\n",
              "      <td>3.623375</td>\n",
              "      <td>1.809363</td>\n",
              "      <td>0.853016</td>\n",
              "    </tr>\n",
              "  </tbody>\n",
              "</table>\n",
              "</div>\n",
              "    <div class=\"colab-df-buttons\">\n",
              "\n",
              "  <div class=\"colab-df-container\">\n",
              "    <button class=\"colab-df-convert\" onclick=\"convertToInteractive('df-aa65c116-09bc-4f86-9b80-f3a6537e395c')\"\n",
              "            title=\"Convert this dataframe to an interactive table.\"\n",
              "            style=\"display:none;\">\n",
              "\n",
              "  <svg xmlns=\"http://www.w3.org/2000/svg\" height=\"24px\" viewBox=\"0 -960 960 960\">\n",
              "    <path d=\"M120-120v-720h720v720H120Zm60-500h600v-160H180v160Zm220 220h160v-160H400v160Zm0 220h160v-160H400v160ZM180-400h160v-160H180v160Zm440 0h160v-160H620v160ZM180-180h160v-160H180v160Zm440 0h160v-160H620v160Z\"/>\n",
              "  </svg>\n",
              "    </button>\n",
              "\n",
              "  <style>\n",
              "    .colab-df-container {\n",
              "      display:flex;\n",
              "      gap: 12px;\n",
              "    }\n",
              "\n",
              "    .colab-df-convert {\n",
              "      background-color: #E8F0FE;\n",
              "      border: none;\n",
              "      border-radius: 50%;\n",
              "      cursor: pointer;\n",
              "      display: none;\n",
              "      fill: #1967D2;\n",
              "      height: 32px;\n",
              "      padding: 0 0 0 0;\n",
              "      width: 32px;\n",
              "    }\n",
              "\n",
              "    .colab-df-convert:hover {\n",
              "      background-color: #E2EBFA;\n",
              "      box-shadow: 0px 1px 2px rgba(60, 64, 67, 0.3), 0px 1px 3px 1px rgba(60, 64, 67, 0.15);\n",
              "      fill: #174EA6;\n",
              "    }\n",
              "\n",
              "    .colab-df-buttons div {\n",
              "      margin-bottom: 4px;\n",
              "    }\n",
              "\n",
              "    [theme=dark] .colab-df-convert {\n",
              "      background-color: #3B4455;\n",
              "      fill: #D2E3FC;\n",
              "    }\n",
              "\n",
              "    [theme=dark] .colab-df-convert:hover {\n",
              "      background-color: #434B5C;\n",
              "      box-shadow: 0px 1px 3px 1px rgba(0, 0, 0, 0.15);\n",
              "      filter: drop-shadow(0px 1px 2px rgba(0, 0, 0, 0.3));\n",
              "      fill: #FFFFFF;\n",
              "    }\n",
              "  </style>\n",
              "\n",
              "    <script>\n",
              "      const buttonEl =\n",
              "        document.querySelector('#df-aa65c116-09bc-4f86-9b80-f3a6537e395c button.colab-df-convert');\n",
              "      buttonEl.style.display =\n",
              "        google.colab.kernel.accessAllowed ? 'block' : 'none';\n",
              "\n",
              "      async function convertToInteractive(key) {\n",
              "        const element = document.querySelector('#df-aa65c116-09bc-4f86-9b80-f3a6537e395c');\n",
              "        const dataTable =\n",
              "          await google.colab.kernel.invokeFunction('convertToInteractive',\n",
              "                                                    [key], {});\n",
              "        if (!dataTable) return;\n",
              "\n",
              "        const docLinkHtml = 'Like what you see? Visit the ' +\n",
              "          '<a target=\"_blank\" href=https://colab.research.google.com/notebooks/data_table.ipynb>data table notebook</a>'\n",
              "          + ' to learn more about interactive tables.';\n",
              "        element.innerHTML = '';\n",
              "        dataTable['output_type'] = 'display_data';\n",
              "        await google.colab.output.renderOutput(dataTable, element);\n",
              "        const docLink = document.createElement('div');\n",
              "        docLink.innerHTML = docLinkHtml;\n",
              "        element.appendChild(docLink);\n",
              "      }\n",
              "    </script>\n",
              "  </div>\n",
              "\n",
              "\n",
              "<div id=\"df-fbd8fe55-5b5c-4c3c-9d56-7922b87fcb8d\">\n",
              "  <button class=\"colab-df-quickchart\" onclick=\"quickchart('df-fbd8fe55-5b5c-4c3c-9d56-7922b87fcb8d')\"\n",
              "            title=\"Suggest charts\"\n",
              "            style=\"display:none;\">\n",
              "\n",
              "<svg xmlns=\"http://www.w3.org/2000/svg\" height=\"24px\"viewBox=\"0 0 24 24\"\n",
              "     width=\"24px\">\n",
              "    <g>\n",
              "        <path d=\"M19 3H5c-1.1 0-2 .9-2 2v14c0 1.1.9 2 2 2h14c1.1 0 2-.9 2-2V5c0-1.1-.9-2-2-2zM9 17H7v-7h2v7zm4 0h-2V7h2v10zm4 0h-2v-4h2v4z\"/>\n",
              "    </g>\n",
              "</svg>\n",
              "  </button>\n",
              "\n",
              "<style>\n",
              "  .colab-df-quickchart {\n",
              "      --bg-color: #E8F0FE;\n",
              "      --fill-color: #1967D2;\n",
              "      --hover-bg-color: #E2EBFA;\n",
              "      --hover-fill-color: #174EA6;\n",
              "      --disabled-fill-color: #AAA;\n",
              "      --disabled-bg-color: #DDD;\n",
              "  }\n",
              "\n",
              "  [theme=dark] .colab-df-quickchart {\n",
              "      --bg-color: #3B4455;\n",
              "      --fill-color: #D2E3FC;\n",
              "      --hover-bg-color: #434B5C;\n",
              "      --hover-fill-color: #FFFFFF;\n",
              "      --disabled-bg-color: #3B4455;\n",
              "      --disabled-fill-color: #666;\n",
              "  }\n",
              "\n",
              "  .colab-df-quickchart {\n",
              "    background-color: var(--bg-color);\n",
              "    border: none;\n",
              "    border-radius: 50%;\n",
              "    cursor: pointer;\n",
              "    display: none;\n",
              "    fill: var(--fill-color);\n",
              "    height: 32px;\n",
              "    padding: 0;\n",
              "    width: 32px;\n",
              "  }\n",
              "\n",
              "  .colab-df-quickchart:hover {\n",
              "    background-color: var(--hover-bg-color);\n",
              "    box-shadow: 0 1px 2px rgba(60, 64, 67, 0.3), 0 1px 3px 1px rgba(60, 64, 67, 0.15);\n",
              "    fill: var(--button-hover-fill-color);\n",
              "  }\n",
              "\n",
              "  .colab-df-quickchart-complete:disabled,\n",
              "  .colab-df-quickchart-complete:disabled:hover {\n",
              "    background-color: var(--disabled-bg-color);\n",
              "    fill: var(--disabled-fill-color);\n",
              "    box-shadow: none;\n",
              "  }\n",
              "\n",
              "  .colab-df-spinner {\n",
              "    border: 2px solid var(--fill-color);\n",
              "    border-color: transparent;\n",
              "    border-bottom-color: var(--fill-color);\n",
              "    animation:\n",
              "      spin 1s steps(1) infinite;\n",
              "  }\n",
              "\n",
              "  @keyframes spin {\n",
              "    0% {\n",
              "      border-color: transparent;\n",
              "      border-bottom-color: var(--fill-color);\n",
              "      border-left-color: var(--fill-color);\n",
              "    }\n",
              "    20% {\n",
              "      border-color: transparent;\n",
              "      border-left-color: var(--fill-color);\n",
              "      border-top-color: var(--fill-color);\n",
              "    }\n",
              "    30% {\n",
              "      border-color: transparent;\n",
              "      border-left-color: var(--fill-color);\n",
              "      border-top-color: var(--fill-color);\n",
              "      border-right-color: var(--fill-color);\n",
              "    }\n",
              "    40% {\n",
              "      border-color: transparent;\n",
              "      border-right-color: var(--fill-color);\n",
              "      border-top-color: var(--fill-color);\n",
              "    }\n",
              "    60% {\n",
              "      border-color: transparent;\n",
              "      border-right-color: var(--fill-color);\n",
              "    }\n",
              "    80% {\n",
              "      border-color: transparent;\n",
              "      border-right-color: var(--fill-color);\n",
              "      border-bottom-color: var(--fill-color);\n",
              "    }\n",
              "    90% {\n",
              "      border-color: transparent;\n",
              "      border-bottom-color: var(--fill-color);\n",
              "    }\n",
              "  }\n",
              "</style>\n",
              "\n",
              "  <script>\n",
              "    async function quickchart(key) {\n",
              "      const quickchartButtonEl =\n",
              "        document.querySelector('#' + key + ' button');\n",
              "      quickchartButtonEl.disabled = true;  // To prevent multiple clicks.\n",
              "      quickchartButtonEl.classList.add('colab-df-spinner');\n",
              "      try {\n",
              "        const charts = await google.colab.kernel.invokeFunction(\n",
              "            'suggestCharts', [key], {});\n",
              "      } catch (error) {\n",
              "        console.error('Error during call to suggestCharts:', error);\n",
              "      }\n",
              "      quickchartButtonEl.classList.remove('colab-df-spinner');\n",
              "      quickchartButtonEl.classList.add('colab-df-quickchart-complete');\n",
              "    }\n",
              "    (() => {\n",
              "      let quickchartButtonEl =\n",
              "        document.querySelector('#df-fbd8fe55-5b5c-4c3c-9d56-7922b87fcb8d button');\n",
              "      quickchartButtonEl.style.display =\n",
              "        google.colab.kernel.accessAllowed ? 'block' : 'none';\n",
              "    })();\n",
              "  </script>\n",
              "</div>\n",
              "\n",
              "  <div id=\"id_3473fd8e-7e15-4ed6-832b-04e535e97e04\">\n",
              "    <style>\n",
              "      .colab-df-generate {\n",
              "        background-color: #E8F0FE;\n",
              "        border: none;\n",
              "        border-radius: 50%;\n",
              "        cursor: pointer;\n",
              "        display: none;\n",
              "        fill: #1967D2;\n",
              "        height: 32px;\n",
              "        padding: 0 0 0 0;\n",
              "        width: 32px;\n",
              "      }\n",
              "\n",
              "      .colab-df-generate:hover {\n",
              "        background-color: #E2EBFA;\n",
              "        box-shadow: 0px 1px 2px rgba(60, 64, 67, 0.3), 0px 1px 3px 1px rgba(60, 64, 67, 0.15);\n",
              "        fill: #174EA6;\n",
              "      }\n",
              "\n",
              "      [theme=dark] .colab-df-generate {\n",
              "        background-color: #3B4455;\n",
              "        fill: #D2E3FC;\n",
              "      }\n",
              "\n",
              "      [theme=dark] .colab-df-generate:hover {\n",
              "        background-color: #434B5C;\n",
              "        box-shadow: 0px 1px 3px 1px rgba(0, 0, 0, 0.15);\n",
              "        filter: drop-shadow(0px 1px 2px rgba(0, 0, 0, 0.3));\n",
              "        fill: #FFFFFF;\n",
              "      }\n",
              "    </style>\n",
              "    <button class=\"colab-df-generate\" onclick=\"generateWithVariable('table1_1')\"\n",
              "            title=\"Generate code using this dataframe.\"\n",
              "            style=\"display:none;\">\n",
              "\n",
              "  <svg xmlns=\"http://www.w3.org/2000/svg\" height=\"24px\"viewBox=\"0 0 24 24\"\n",
              "       width=\"24px\">\n",
              "    <path d=\"M7,19H8.4L18.45,9,17,7.55,7,17.6ZM5,21V16.75L18.45,3.32a2,2,0,0,1,2.83,0l1.4,1.43a1.91,1.91,0,0,1,.58,1.4,1.91,1.91,0,0,1-.58,1.4L9.25,21ZM18.45,9,17,7.55Zm-12,3A5.31,5.31,0,0,0,4.9,8.1,5.31,5.31,0,0,0,1,6.5,5.31,5.31,0,0,0,4.9,4.9,5.31,5.31,0,0,0,6.5,1,5.31,5.31,0,0,0,8.1,4.9,5.31,5.31,0,0,0,12,6.5,5.46,5.46,0,0,0,6.5,12Z\"/>\n",
              "  </svg>\n",
              "    </button>\n",
              "    <script>\n",
              "      (() => {\n",
              "      const buttonEl =\n",
              "        document.querySelector('#id_3473fd8e-7e15-4ed6-832b-04e535e97e04 button.colab-df-generate');\n",
              "      buttonEl.style.display =\n",
              "        google.colab.kernel.accessAllowed ? 'block' : 'none';\n",
              "\n",
              "      buttonEl.onclick = () => {\n",
              "        google.colab.notebook.generateWithVariable('table1_1');\n",
              "      }\n",
              "      })();\n",
              "    </script>\n",
              "  </div>\n",
              "\n",
              "    </div>\n",
              "  </div>\n"
            ],
            "application/vnd.google.colaboratory.intrinsic+json": {
              "type": "dataframe",
              "variable_name": "table1_1",
              "summary": "{\n  \"name\": \"table1_1\",\n  \"rows\": 16,\n  \"fields\": [\n    {\n      \"column\": \"Stage 1\",\n      \"properties\": {\n        \"dtype\": \"number\",\n        \"std\": 57.1838736687361,\n        \"min\": 0.7623782504501799,\n        \"max\": 175.36616236968098,\n        \"num_unique_values\": 14,\n        \"samples\": [\n          7.085237048371883,\n          26.688196370462762,\n          173.2\n        ],\n        \"semantic_type\": \"\",\n        \"description\": \"\"\n      }\n    },\n    {\n      \"column\": \"Stage 2\",\n      \"properties\": {\n        \"dtype\": \"number\",\n        \"std\": 58.78897645813788,\n        \"min\": 0.6402455715757095,\n        \"max\": 182.11623095603966,\n        \"num_unique_values\": 15,\n        \"samples\": [\n          6.7655163499714455,\n          0.6402455715757095,\n          175.40452060207625\n        ],\n        \"semantic_type\": \"\",\n        \"description\": \"\"\n      }\n    },\n    {\n      \"column\": \"Stage 3\",\n      \"properties\": {\n        \"dtype\": \"number\",\n        \"std\": 61.7017291763378,\n        \"min\": 0.1,\n        \"max\": 192.41453788896328,\n        \"num_unique_values\": 16,\n        \"samples\": [\n          182.03710629623237,\n          6.7562809427488775,\n          1.0\n        ],\n        \"semantic_type\": \"\",\n        \"description\": \"\"\n      }\n    }\n  ]\n}"
            }
          },
          "metadata": {},
          "execution_count": 35
        }
      ]
    },
    {
      "cell_type": "markdown",
      "source": [
        "## Extraction 2"
      ],
      "metadata": {
        "id": "GrQOTvfagjxi"
      }
    },
    {
      "cell_type": "code",
      "source": [
        "class Klum:\n",
        "  def __init__(self):\n",
        "    pass"
      ],
      "metadata": {
        "id": "Ofu1Yf0DjT3Q"
      },
      "execution_count": 36,
      "outputs": []
    },
    {
      "cell_type": "code",
      "source": [
        "self=Klum()"
      ],
      "metadata": {
        "id": "R42AOuccjlf6"
      },
      "execution_count": 57,
      "outputs": []
    },
    {
      "cell_type": "code",
      "source": [
        "self.stages_num=3\n",
        "Oin=173.2\n",
        "Ain=50\n",
        "yin=[6, 6, 1 ]\n",
        "xin=[1, 60, .1]\n",
        "self.EQUIL=EQUIL_rotem_extr1"
      ],
      "metadata": {
        "id": "oK7a9amhgMGI"
      },
      "execution_count": 66,
      "outputs": []
    },
    {
      "cell_type": "code",
      "source": [
        "self.Oin_list = np.ones(self.stages_num) * Oin\n",
        "self.Ain_list = np.ones(self.stages_num) * Ain\n",
        "yin = np.array(yin, dtype=float) # [%water_org, %H3PO4_org, ...]\n",
        "xin = np.array(xin, dtype=float) # [%solvent_aq, %H3PO4_aq, ...]\n",
        "self.yin_list = np.array([yin for i in range(self.stages_num)])\n",
        "self.xin_list = np.array([xin for i in range(self.stages_num)])\n",
        "# self.Oout_list = np.zeros(self.stages_num)\n",
        "# self.Aout_list = np.zeros(self.stages_num)\n",
        "# self.yout_tag_list = np.zeros((self.stages_num, len(yin)))\n",
        "# self.yout_list = np.zeros((self.stages_num, len(yin)))\n",
        "# self.xout_list = np.zeros((self.stages_num, len(xin)))"
      ],
      "metadata": {
        "id": "TmqkMD19gsME"
      },
      "execution_count": 67,
      "outputs": []
    },
    {
      "cell_type": "code",
      "source": [
        "self.yin_list"
      ],
      "metadata": {
        "colab": {
          "base_uri": "https://localhost:8080/"
        },
        "id": "X2YheSZWhhK5",
        "outputId": "f27b7895-a6fb-4631-86ec-b1358d1a3f61"
      },
      "execution_count": 69,
      "outputs": [
        {
          "output_type": "execute_result",
          "data": {
            "text/plain": [
              "array([[6., 6., 1.],\n",
              "       [6., 6., 1.],\n",
              "       [6., 6., 1.]])"
            ]
          },
          "metadata": {},
          "execution_count": 69
        }
      ]
    },
    {
      "cell_type": "code",
      "source": [
        "self.xout_list, self.yout_list = self.EQUIL(self.xin_list).xout, self.EQUIL(self.xin_list).yout"
      ],
      "metadata": {
        "id": "raYHs-KIiDmW"
      },
      "execution_count": 71,
      "outputs": []
    },
    {
      "cell_type": "code",
      "source": [
        "# Define the number of equations (N)\n",
        "bat=self\n",
        "N = self.stages_num\n",
        "component=1\n",
        "# Define the matrices and vectors for each equation\n",
        "matrices = []\n",
        "vectors = []\n",
        "for stage in range(N):\n",
        "    matrix = np.array([[1,1],[bat.yout_list[stage,component],bat.xout_list[stage,component]]])\n",
        "    matrices.append(matrix)\n",
        "    vector = np.array([bat.Oin_list[stage]+bat.Ain_list[stage], bat.Oin_list[stage]*bat.yin_list[stage,component]+bat.Ain_list[stage]*bat.xin_list[stage,component]])\n",
        "    vectors.append(vector)\n",
        "\n",
        "# Create the block matrix and combined vector\n",
        "block_matrix = np.zeros((N * 2, N * 2))  # Initialize with zeros\n",
        "combined_vector = np.zeros(N * 2)\n",
        "\n",
        "for i in range(N):\n",
        "    block_matrix[i * 2: (i + 1) * 2, i * 2: (i + 1) * 2] = matrices[i]\n",
        "    combined_vector[i * 2: (i + 1) * 2] = vectors[i]\n",
        "\n",
        "# Solve for the combined solution vector\n",
        "solution = np.linalg.solve(block_matrix, combined_vector)\n",
        "\n",
        "solution.reshape(N,2)"
      ],
      "metadata": {
        "colab": {
          "base_uri": "https://localhost:8080/"
        },
        "id": "GgvoFoHnidfv",
        "outputId": "cb1589b8-e82a-4612-b927-5a37b29681ad"
      },
      "execution_count": 72,
      "outputs": [
        {
          "output_type": "execute_result",
          "data": {
            "text/plain": [
              "array([[257.87562671, -34.67562671],\n",
              "       [257.87562671, -34.67562671],\n",
              "       [257.87562671, -34.67562671]])"
            ]
          },
          "metadata": {},
          "execution_count": 72
        }
      ]
    },
    {
      "cell_type": "code",
      "source": [
        "self.Oout_list, self.Aout_list = solution.reshape(N,2)[:,0], solution.reshape(N,2)[:,1]"
      ],
      "metadata": {
        "id": "y7Z4NCK6lITv"
      },
      "execution_count": 73,
      "outputs": []
    },
    {
      "cell_type": "code",
      "source": [
        "# Substitution\n",
        "self.Ain_list = np.concatenate([self.Aout_list[1:],[self.Ain_list[0]]])\n",
        "self.Oin_list = np.concatenate([[self.Oin_list[0]],self.Oout_list[:-1]])\n",
        "self.xin_list = np.concatenate([self.xout_list[1:],[self.xin_list[0]]])\n",
        "self.yin_list = np.concatenate([[self.yin_list[0]],self.yout_list[:-1]])\n",
        "# self.Oin_list\n",
        "self.yin_list"
      ],
      "metadata": {
        "colab": {
          "base_uri": "https://localhost:8080/"
        },
        "id": "mak3rlJilgfV",
        "outputId": "6a7e109e-cef4-4924-dd47-515d1196f3c9"
      },
      "execution_count": 74,
      "outputs": [
        {
          "output_type": "execute_result",
          "data": {
            "text/plain": [
              "array([[ 6.        ,  6.        ,  1.        ],\n",
              "       [ 8.16965138, 23.73135329,  0.21361391],\n",
              "       [ 8.16965138, 23.73135329,  0.21361391]])"
            ]
          },
          "metadata": {},
          "execution_count": 74
        }
      ]
    },
    {
      "cell_type": "code",
      "source": [
        "def run(self):\n",
        "    bat=self\n",
        "    N = self.stages_num\n",
        "    component=1\n",
        "    # Define the matrices and vectors for each equation\n",
        "    matrices = []\n",
        "    vectors = []\n",
        "    for stage in range(N):\n",
        "        matrix = np.array([[1,1],[bat.yout_list[stage,component],bat.xout_list[stage,component]]])\n",
        "        matrices.append(matrix)\n",
        "        vector = np.array([bat.Oin_list[stage]+bat.Ain_list[stage], bat.Oin_list[stage]*bat.yin_list[stage,component]+bat.Ain_list[stage]*bat.xin_list[stage,component]])\n",
        "        vectors.append(vector)\n",
        "\n",
        "    # Create the block matrix and combined vector\n",
        "    block_matrix = np.zeros((N * 2, N * 2))  # Initialize with zeros\n",
        "    combined_vector = np.zeros(N * 2)\n",
        "\n",
        "    for i in range(N):\n",
        "        block_matrix[i * 2: (i + 1) * 2, i * 2: (i + 1) * 2] = matrices[i]\n",
        "        combined_vector[i * 2: (i + 1) * 2] = vectors[i]\n",
        "\n",
        "    # Solve for the combined solution vector\n",
        "    solution = np.linalg.solve(block_matrix, combined_vector)\n",
        "\n",
        "    return solution.reshape(N,2)"
      ],
      "metadata": {
        "id": "y9i_ZV2go2bf"
      },
      "execution_count": 103,
      "outputs": []
    },
    {
      "cell_type": "code",
      "source": [
        "def display_table(batt, show=True, index_names=[]):\n",
        "    len1=len(batt.xin_list[0])\n",
        "    out=np.concatenate((\n",
        "        [batt.Oin_list],\n",
        "        batt.yin_list.T,\n",
        "        [batt.Ain_list],\n",
        "        batt.xin_list.T,\n",
        "        [batt.Oout_list],\n",
        "        batt.yout_list.T,\n",
        "        [batt.Aout_list],\n",
        "        batt.xout_list.T,\n",
        "        ),axis=0)\n",
        "    Name = (\n",
        "        ['Org in, ton/hr']+\n",
        "        ['y'+str(a+1)+' in, %' for a in range(len1)]+\n",
        "        ['Aq in, ton/hr']+\n",
        "        ['x'+str(a+1)+' in, %' for a in range(len1)]+\n",
        "        ['Org out, ton/hr']+\n",
        "        ['y'+str(a+1)+' out, %' for a in range(len1)]+\n",
        "        ['Aq out, ton/hr']+\n",
        "        ['x'+str(a+1)+' out, %' for a in range(len1)]\n",
        "        )\n",
        "    columns = ['Stage '+str(a) for a in range(1,batt.stages_num+1)]\n",
        "    if len(index_names)>0:\n",
        "        Name=index_names\n",
        "    self.data=pd.DataFrame(out, columns=columns, index=Name)\n",
        "    if show:\n",
        "        display (self.data)"
      ],
      "metadata": {
        "id": "GlgMIpQIqmhC"
      },
      "execution_count": 94,
      "outputs": []
    },
    {
      "cell_type": "code",
      "source": [
        "self.stages_num=3\n",
        "Oin=173.2\n",
        "Ain=50\n",
        "yin=[6, 6, 1 ]\n",
        "xin=[1, 60, .1]\n",
        "self.EQUIL=EQUIL_rotem_extr1\n",
        "self.Oin_list = np.ones(self.stages_num) * Oin\n",
        "self.Ain_list = np.ones(self.stages_num) * Ain\n",
        "yin = np.array(yin, dtype=float) # [%water_org, %H3PO4_org, ...]\n",
        "xin = np.array(xin, dtype=float) # [%solvent_aq, %H3PO4_aq, ...]\n",
        "self.yin_list = np.array([yin for i in range(self.stages_num)])\n",
        "self.xin_list = np.array([xin for i in range(self.stages_num)])"
      ],
      "metadata": {
        "id": "lD6E8ue9rQsI"
      },
      "execution_count": 109,
      "outputs": []
    },
    {
      "cell_type": "code",
      "source": [
        "self.xout_list, self.yout_list = self.EQUIL(self.xin_list).xout, self.EQUIL(self.xin_list).yout\n",
        "out_flows = run(self)\n",
        "self.Oout_list, self.Aout_list = out_flows.reshape(self.stages_num,2)[:,0], out_flows.reshape(self.stages_num,2)[:,1]\n",
        "# Substitution\n",
        "self.Oin_list[1:] = self.Oout_list[:-1]\n",
        "self.yin_list[1:] = self.yout_list[:-1]\n",
        "self.Ain_list[:-1] = self.Aout_list[1:]\n",
        "self.xin_list[:-1] = self.xout_list[1:]\n",
        "display_table(self)"
      ],
      "metadata": {
        "colab": {
          "base_uri": "https://localhost:8080/",
          "height": 551
        },
        "id": "vOeS7PGarb7h",
        "outputId": "db3a0c15-9221-4cb3-b9d6-369a43cfac8d"
      },
      "execution_count": 112,
      "outputs": [
        {
          "output_type": "display_data",
          "data": {
            "text/plain": [
              "                    Stage 1     Stage 2     Stage 3\n",
              "Org in, ton/hr   173.200000  257.875627  257.875627\n",
              "y1 in, %           6.000000    8.169651    8.169651\n",
              "y2 in, %           6.000000   23.731353   23.731353\n",
              "y3 in, %           1.000000    0.213614    0.213614\n",
              "Aq in, ton/hr     50.000000   50.000000   50.000000\n",
              "x1 in, %           0.992031    0.992031    1.000000\n",
              "x2 in, %          60.000000   60.000000   60.000000\n",
              "x3 in, %           0.100000    0.100000    0.100000\n",
              "Org out, ton/hr  257.875627  257.875627  257.875627\n",
              "y1 out, %          8.169651    8.169651    8.169651\n",
              "y2 out, %         23.731353   23.731353   23.731353\n",
              "y3 out, %          0.213614    0.213614    0.213614\n",
              "Aq out, ton/hr  -119.351253   50.000000   50.000000\n",
              "x1 out, %          0.992031    0.992031    0.992031\n",
              "x2 out, %         60.000000   60.000000   60.000000\n",
              "x3 out, %          0.100000    0.100000    0.100000"
            ],
            "text/html": [
              "\n",
              "  <div id=\"df-9d631117-aed5-4519-b9fa-8efb145bc0ca\" class=\"colab-df-container\">\n",
              "    <div>\n",
              "<style scoped>\n",
              "    .dataframe tbody tr th:only-of-type {\n",
              "        vertical-align: middle;\n",
              "    }\n",
              "\n",
              "    .dataframe tbody tr th {\n",
              "        vertical-align: top;\n",
              "    }\n",
              "\n",
              "    .dataframe thead th {\n",
              "        text-align: right;\n",
              "    }\n",
              "</style>\n",
              "<table border=\"1\" class=\"dataframe\">\n",
              "  <thead>\n",
              "    <tr style=\"text-align: right;\">\n",
              "      <th></th>\n",
              "      <th>Stage 1</th>\n",
              "      <th>Stage 2</th>\n",
              "      <th>Stage 3</th>\n",
              "    </tr>\n",
              "  </thead>\n",
              "  <tbody>\n",
              "    <tr>\n",
              "      <th>Org in, ton/hr</th>\n",
              "      <td>173.200000</td>\n",
              "      <td>257.875627</td>\n",
              "      <td>257.875627</td>\n",
              "    </tr>\n",
              "    <tr>\n",
              "      <th>y1 in, %</th>\n",
              "      <td>6.000000</td>\n",
              "      <td>8.169651</td>\n",
              "      <td>8.169651</td>\n",
              "    </tr>\n",
              "    <tr>\n",
              "      <th>y2 in, %</th>\n",
              "      <td>6.000000</td>\n",
              "      <td>23.731353</td>\n",
              "      <td>23.731353</td>\n",
              "    </tr>\n",
              "    <tr>\n",
              "      <th>y3 in, %</th>\n",
              "      <td>1.000000</td>\n",
              "      <td>0.213614</td>\n",
              "      <td>0.213614</td>\n",
              "    </tr>\n",
              "    <tr>\n",
              "      <th>Aq in, ton/hr</th>\n",
              "      <td>50.000000</td>\n",
              "      <td>50.000000</td>\n",
              "      <td>50.000000</td>\n",
              "    </tr>\n",
              "    <tr>\n",
              "      <th>x1 in, %</th>\n",
              "      <td>0.992031</td>\n",
              "      <td>0.992031</td>\n",
              "      <td>1.000000</td>\n",
              "    </tr>\n",
              "    <tr>\n",
              "      <th>x2 in, %</th>\n",
              "      <td>60.000000</td>\n",
              "      <td>60.000000</td>\n",
              "      <td>60.000000</td>\n",
              "    </tr>\n",
              "    <tr>\n",
              "      <th>x3 in, %</th>\n",
              "      <td>0.100000</td>\n",
              "      <td>0.100000</td>\n",
              "      <td>0.100000</td>\n",
              "    </tr>\n",
              "    <tr>\n",
              "      <th>Org out, ton/hr</th>\n",
              "      <td>257.875627</td>\n",
              "      <td>257.875627</td>\n",
              "      <td>257.875627</td>\n",
              "    </tr>\n",
              "    <tr>\n",
              "      <th>y1 out, %</th>\n",
              "      <td>8.169651</td>\n",
              "      <td>8.169651</td>\n",
              "      <td>8.169651</td>\n",
              "    </tr>\n",
              "    <tr>\n",
              "      <th>y2 out, %</th>\n",
              "      <td>23.731353</td>\n",
              "      <td>23.731353</td>\n",
              "      <td>23.731353</td>\n",
              "    </tr>\n",
              "    <tr>\n",
              "      <th>y3 out, %</th>\n",
              "      <td>0.213614</td>\n",
              "      <td>0.213614</td>\n",
              "      <td>0.213614</td>\n",
              "    </tr>\n",
              "    <tr>\n",
              "      <th>Aq out, ton/hr</th>\n",
              "      <td>-119.351253</td>\n",
              "      <td>50.000000</td>\n",
              "      <td>50.000000</td>\n",
              "    </tr>\n",
              "    <tr>\n",
              "      <th>x1 out, %</th>\n",
              "      <td>0.992031</td>\n",
              "      <td>0.992031</td>\n",
              "      <td>0.992031</td>\n",
              "    </tr>\n",
              "    <tr>\n",
              "      <th>x2 out, %</th>\n",
              "      <td>60.000000</td>\n",
              "      <td>60.000000</td>\n",
              "      <td>60.000000</td>\n",
              "    </tr>\n",
              "    <tr>\n",
              "      <th>x3 out, %</th>\n",
              "      <td>0.100000</td>\n",
              "      <td>0.100000</td>\n",
              "      <td>0.100000</td>\n",
              "    </tr>\n",
              "  </tbody>\n",
              "</table>\n",
              "</div>\n",
              "    <div class=\"colab-df-buttons\">\n",
              "\n",
              "  <div class=\"colab-df-container\">\n",
              "    <button class=\"colab-df-convert\" onclick=\"convertToInteractive('df-9d631117-aed5-4519-b9fa-8efb145bc0ca')\"\n",
              "            title=\"Convert this dataframe to an interactive table.\"\n",
              "            style=\"display:none;\">\n",
              "\n",
              "  <svg xmlns=\"http://www.w3.org/2000/svg\" height=\"24px\" viewBox=\"0 -960 960 960\">\n",
              "    <path d=\"M120-120v-720h720v720H120Zm60-500h600v-160H180v160Zm220 220h160v-160H400v160Zm0 220h160v-160H400v160ZM180-400h160v-160H180v160Zm440 0h160v-160H620v160ZM180-180h160v-160H180v160Zm440 0h160v-160H620v160Z\"/>\n",
              "  </svg>\n",
              "    </button>\n",
              "\n",
              "  <style>\n",
              "    .colab-df-container {\n",
              "      display:flex;\n",
              "      gap: 12px;\n",
              "    }\n",
              "\n",
              "    .colab-df-convert {\n",
              "      background-color: #E8F0FE;\n",
              "      border: none;\n",
              "      border-radius: 50%;\n",
              "      cursor: pointer;\n",
              "      display: none;\n",
              "      fill: #1967D2;\n",
              "      height: 32px;\n",
              "      padding: 0 0 0 0;\n",
              "      width: 32px;\n",
              "    }\n",
              "\n",
              "    .colab-df-convert:hover {\n",
              "      background-color: #E2EBFA;\n",
              "      box-shadow: 0px 1px 2px rgba(60, 64, 67, 0.3), 0px 1px 3px 1px rgba(60, 64, 67, 0.15);\n",
              "      fill: #174EA6;\n",
              "    }\n",
              "\n",
              "    .colab-df-buttons div {\n",
              "      margin-bottom: 4px;\n",
              "    }\n",
              "\n",
              "    [theme=dark] .colab-df-convert {\n",
              "      background-color: #3B4455;\n",
              "      fill: #D2E3FC;\n",
              "    }\n",
              "\n",
              "    [theme=dark] .colab-df-convert:hover {\n",
              "      background-color: #434B5C;\n",
              "      box-shadow: 0px 1px 3px 1px rgba(0, 0, 0, 0.15);\n",
              "      filter: drop-shadow(0px 1px 2px rgba(0, 0, 0, 0.3));\n",
              "      fill: #FFFFFF;\n",
              "    }\n",
              "  </style>\n",
              "\n",
              "    <script>\n",
              "      const buttonEl =\n",
              "        document.querySelector('#df-9d631117-aed5-4519-b9fa-8efb145bc0ca button.colab-df-convert');\n",
              "      buttonEl.style.display =\n",
              "        google.colab.kernel.accessAllowed ? 'block' : 'none';\n",
              "\n",
              "      async function convertToInteractive(key) {\n",
              "        const element = document.querySelector('#df-9d631117-aed5-4519-b9fa-8efb145bc0ca');\n",
              "        const dataTable =\n",
              "          await google.colab.kernel.invokeFunction('convertToInteractive',\n",
              "                                                    [key], {});\n",
              "        if (!dataTable) return;\n",
              "\n",
              "        const docLinkHtml = 'Like what you see? Visit the ' +\n",
              "          '<a target=\"_blank\" href=https://colab.research.google.com/notebooks/data_table.ipynb>data table notebook</a>'\n",
              "          + ' to learn more about interactive tables.';\n",
              "        element.innerHTML = '';\n",
              "        dataTable['output_type'] = 'display_data';\n",
              "        await google.colab.output.renderOutput(dataTable, element);\n",
              "        const docLink = document.createElement('div');\n",
              "        docLink.innerHTML = docLinkHtml;\n",
              "        element.appendChild(docLink);\n",
              "      }\n",
              "    </script>\n",
              "  </div>\n",
              "\n",
              "\n",
              "<div id=\"df-4c5291b6-2e79-4ee1-a243-217fb302de8a\">\n",
              "  <button class=\"colab-df-quickchart\" onclick=\"quickchart('df-4c5291b6-2e79-4ee1-a243-217fb302de8a')\"\n",
              "            title=\"Suggest charts\"\n",
              "            style=\"display:none;\">\n",
              "\n",
              "<svg xmlns=\"http://www.w3.org/2000/svg\" height=\"24px\"viewBox=\"0 0 24 24\"\n",
              "     width=\"24px\">\n",
              "    <g>\n",
              "        <path d=\"M19 3H5c-1.1 0-2 .9-2 2v14c0 1.1.9 2 2 2h14c1.1 0 2-.9 2-2V5c0-1.1-.9-2-2-2zM9 17H7v-7h2v7zm4 0h-2V7h2v10zm4 0h-2v-4h2v4z\"/>\n",
              "    </g>\n",
              "</svg>\n",
              "  </button>\n",
              "\n",
              "<style>\n",
              "  .colab-df-quickchart {\n",
              "      --bg-color: #E8F0FE;\n",
              "      --fill-color: #1967D2;\n",
              "      --hover-bg-color: #E2EBFA;\n",
              "      --hover-fill-color: #174EA6;\n",
              "      --disabled-fill-color: #AAA;\n",
              "      --disabled-bg-color: #DDD;\n",
              "  }\n",
              "\n",
              "  [theme=dark] .colab-df-quickchart {\n",
              "      --bg-color: #3B4455;\n",
              "      --fill-color: #D2E3FC;\n",
              "      --hover-bg-color: #434B5C;\n",
              "      --hover-fill-color: #FFFFFF;\n",
              "      --disabled-bg-color: #3B4455;\n",
              "      --disabled-fill-color: #666;\n",
              "  }\n",
              "\n",
              "  .colab-df-quickchart {\n",
              "    background-color: var(--bg-color);\n",
              "    border: none;\n",
              "    border-radius: 50%;\n",
              "    cursor: pointer;\n",
              "    display: none;\n",
              "    fill: var(--fill-color);\n",
              "    height: 32px;\n",
              "    padding: 0;\n",
              "    width: 32px;\n",
              "  }\n",
              "\n",
              "  .colab-df-quickchart:hover {\n",
              "    background-color: var(--hover-bg-color);\n",
              "    box-shadow: 0 1px 2px rgba(60, 64, 67, 0.3), 0 1px 3px 1px rgba(60, 64, 67, 0.15);\n",
              "    fill: var(--button-hover-fill-color);\n",
              "  }\n",
              "\n",
              "  .colab-df-quickchart-complete:disabled,\n",
              "  .colab-df-quickchart-complete:disabled:hover {\n",
              "    background-color: var(--disabled-bg-color);\n",
              "    fill: var(--disabled-fill-color);\n",
              "    box-shadow: none;\n",
              "  }\n",
              "\n",
              "  .colab-df-spinner {\n",
              "    border: 2px solid var(--fill-color);\n",
              "    border-color: transparent;\n",
              "    border-bottom-color: var(--fill-color);\n",
              "    animation:\n",
              "      spin 1s steps(1) infinite;\n",
              "  }\n",
              "\n",
              "  @keyframes spin {\n",
              "    0% {\n",
              "      border-color: transparent;\n",
              "      border-bottom-color: var(--fill-color);\n",
              "      border-left-color: var(--fill-color);\n",
              "    }\n",
              "    20% {\n",
              "      border-color: transparent;\n",
              "      border-left-color: var(--fill-color);\n",
              "      border-top-color: var(--fill-color);\n",
              "    }\n",
              "    30% {\n",
              "      border-color: transparent;\n",
              "      border-left-color: var(--fill-color);\n",
              "      border-top-color: var(--fill-color);\n",
              "      border-right-color: var(--fill-color);\n",
              "    }\n",
              "    40% {\n",
              "      border-color: transparent;\n",
              "      border-right-color: var(--fill-color);\n",
              "      border-top-color: var(--fill-color);\n",
              "    }\n",
              "    60% {\n",
              "      border-color: transparent;\n",
              "      border-right-color: var(--fill-color);\n",
              "    }\n",
              "    80% {\n",
              "      border-color: transparent;\n",
              "      border-right-color: var(--fill-color);\n",
              "      border-bottom-color: var(--fill-color);\n",
              "    }\n",
              "    90% {\n",
              "      border-color: transparent;\n",
              "      border-bottom-color: var(--fill-color);\n",
              "    }\n",
              "  }\n",
              "</style>\n",
              "\n",
              "  <script>\n",
              "    async function quickchart(key) {\n",
              "      const quickchartButtonEl =\n",
              "        document.querySelector('#' + key + ' button');\n",
              "      quickchartButtonEl.disabled = true;  // To prevent multiple clicks.\n",
              "      quickchartButtonEl.classList.add('colab-df-spinner');\n",
              "      try {\n",
              "        const charts = await google.colab.kernel.invokeFunction(\n",
              "            'suggestCharts', [key], {});\n",
              "      } catch (error) {\n",
              "        console.error('Error during call to suggestCharts:', error);\n",
              "      }\n",
              "      quickchartButtonEl.classList.remove('colab-df-spinner');\n",
              "      quickchartButtonEl.classList.add('colab-df-quickchart-complete');\n",
              "    }\n",
              "    (() => {\n",
              "      let quickchartButtonEl =\n",
              "        document.querySelector('#df-4c5291b6-2e79-4ee1-a243-217fb302de8a button');\n",
              "      quickchartButtonEl.style.display =\n",
              "        google.colab.kernel.accessAllowed ? 'block' : 'none';\n",
              "    })();\n",
              "  </script>\n",
              "</div>\n",
              "\n",
              "    </div>\n",
              "  </div>\n"
            ],
            "application/vnd.google.colaboratory.intrinsic+json": {
              "type": "dataframe",
              "summary": "{\n  \"name\": \"display_table(self)\",\n  \"rows\": 16,\n  \"fields\": [\n    {\n      \"column\": \"Stage 1\",\n      \"properties\": {\n        \"dtype\": \"number\",\n        \"std\": 83.12888297770188,\n        \"min\": -119.35125341329996,\n        \"max\": 257.87562670664994,\n        \"num_unique_values\": 12,\n        \"samples\": [\n          0.2136139076996506,\n          23.73135329055581,\n          173.2\n        ],\n        \"semantic_type\": \"\",\n        \"description\": \"\"\n      }\n    },\n    {\n      \"column\": \"Stage 2\",\n      \"properties\": {\n        \"dtype\": \"number\",\n        \"std\": 84.16050133607831,\n        \"min\": 0.1,\n        \"max\": 257.87562670665,\n        \"num_unique_values\": 10,\n        \"samples\": [\n          257.87562670665,\n          8.16965138071039,\n          0.9920310618684957\n        ],\n        \"semantic_type\": \"\",\n        \"description\": \"\"\n      }\n    },\n    {\n      \"column\": \"Stage 3\",\n      \"properties\": {\n        \"dtype\": \"number\",\n        \"std\": 84.16019114266255,\n        \"min\": 0.1,\n        \"max\": 257.87562670665,\n        \"num_unique_values\": 10,\n        \"samples\": [\n          49.99999999999998,\n          8.16965138071039,\n          1.0\n        ],\n        \"semantic_type\": \"\",\n        \"description\": \"\"\n      }\n    }\n  ]\n}"
            }
          },
          "metadata": {}
        }
      ]
    },
    {
      "cell_type": "code",
      "source": [
        "test1 = LLC.Stage(173.2, 50, [6, 6, 1], [1, 60, .1], EQUIL_rotem_extr1, eff=1, convergence=1E-4)#, entrainment_perc=[1,2,3,4], entrainment_comp_in=[[10,10,0],[5,5,0]])\n",
        "test1.runs"
      ],
      "metadata": {
        "colab": {
          "base_uri": "https://localhost:8080/"
        },
        "outputId": "422321af-eabb-42bf-9310-806c2b7c28cc",
        "id": "0y5IE7PcLdm9"
      },
      "execution_count": 84,
      "outputs": [
        {
          "output_type": "execute_result",
          "data": {
            "text/plain": [
              "83"
            ]
          },
          "metadata": {},
          "execution_count": 84
        }
      ]
    },
    {
      "cell_type": "code",
      "source": [
        "test1.output()"
      ],
      "metadata": {
        "colab": {
          "base_uri": "https://localhost:8080/"
        },
        "outputId": "1a992884-6920-43f1-adb3-562d1485981c",
        "id": "5UbTKsKELdnA"
      },
      "execution_count": 85,
      "outputs": [
        {
          "output_type": "stream",
          "name": "stdout",
          "text": [
            "Oout= 188.80075348566862\n",
            "yout= [ 7.1364642  12.35799128  0.65244125]\n",
            "yout_tag= [ 7.1364642  12.35799128  0.65244125]  %water_org_equilib, %solubles_equilib\n",
            "Aout= 34.39924651433135\n",
            "xout= [ 0.99203106 49.8086937   1.61556408]\n",
            "equilibrium efficiency= [1. 1. 1.]\n",
            "error= [-1.01144064e-05 -3.16286794e-03 -4.51031219e-03]\n",
            "convergence= [ 2.12853660e-05 -7.12272172e-06 -9.50624859e-05]\n"
          ]
        }
      ]
    }
  ]
}